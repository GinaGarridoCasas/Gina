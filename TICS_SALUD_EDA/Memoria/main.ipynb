{
 "metadata": {
  "language_info": {
   "codemirror_mode": {
    "name": "ipython",
    "version": 3
   },
   "file_extension": ".py",
   "mimetype": "text/x-python",
   "name": "python",
   "nbconvert_exporter": "python",
   "pygments_lexer": "ipython3",
   "version": "3.8.9"
  },
  "orig_nbformat": 2,
  "kernelspec": {
   "name": "python389jvsc74a57bd07980ba124835d5faa10419b5aaaaec0d5be537aa3d05dd29d745d0092f32015f",
   "display_name": "Python 3.8.9 64-bit"
  },
  "metadata": {
   "interpreter": {
    "hash": "7980ba124835d5faa10419b5aaaaec0d5be537aa3d05dd29d745d0092f32015f"
   }
  }
 },
 "nbformat": 4,
 "nbformat_minor": 2,
 "cells": [
  {
   "cell_type": "code",
   "execution_count": 1,
   "metadata": {},
   "outputs": [],
   "source": [
    "import pandas as pd\n",
    "import numpy as np\n",
    "\n",
    "\n"
   ]
  },
  {
   "cell_type": "code",
   "execution_count": 2,
   "metadata": {},
   "outputs": [],
   "source": [
    "acceso_internet_2017 = '../data/CSV_TICS/Acceso_internet_CCAA_2017.csv'"
   ]
  },
  {
   "source": [
    "# Variables TICS\n",
    "\n",
    "## Leemos los datos del fichero con variables TICS"
   ],
   "cell_type": "markdown",
   "metadata": {}
  },
  {
   "cell_type": "code",
   "execution_count": 3,
   "metadata": {},
   "outputs": [],
   "source": [
    "TICS_2017 = pd.read_csv(acceso_internet_2017, sep =';')\n",
    "\n",
    "# Guardar el archivo con formato 'csv utf-8 (delimitado por comas)' para que no den problemas las palabras acentuadas"
   ]
  },
  {
   "cell_type": "code",
   "execution_count": 4,
   "metadata": {},
   "outputs": [],
   "source": [
    "# Pasamos los diferentes tipos de conexión seleccionados a columnas\n",
    "# 1. Creamos una lista con la columna de Comunidades autónomas y dejamos un solo valor de cada categoría. ordenamos la lista creada. Colocamos esta lista como indice y colocamos en primer lugar la última categoría que corresponde al 'Total nacional'. Borramos la que queda al final que es 'Total nacional'\n",
    "\n",
    "\n",
    "comunidades_autonomas = TICS_2017[\"Comunidades y Ciudades Autónomas\"].unique()\n",
    "comunidades_autonomas_ordenada = sorted(list(comunidades_autonomas)) \n",
    "comunidades_autonomas_ordenada.insert(0, comunidades_autonomas_ordenada[-1])\n",
    "comunidades_autonomas_ordenada.pop()\n",
    "\n",
    "# 2. Creamos una lista que corresponde con los valores de la columna en la que aparecen los diferentes tipos de conexión. \n",
    "# 3. Creamos un diccionario cuyas claves seran los valores de cada uno de los items de esta variable (tipo_conex) y recogerá los valores de la columna 2 del dataframe ('Total')\n",
    "# 4. Para cada fila se le indica que ha de colocar en cada columna (comunidad, tipo_conex y valor)\n",
    "# 5. cada fila con los datos incluidos que corresponden en cada columna se irá añadiendo al diccionario\n",
    "# 6. Pasamos el diccionario final a data frame\n",
    "\n",
    "tipo_conex = TICS_2017[\"Forma de conexión\"].unique()\n",
    "diccionario_final = {}\n",
    "for conex in tipo_conex:\n",
    "    diccionario_final[conex] = []\n",
    "for row in TICS_2017.iterrows():\n",
    "    comunidad = row[1][0]\n",
    "    tipo_conex = row[1][1]\n",
    "    valor = row[1][2]\n",
    "    diccionario_final[tipo_conex].append(valor)\n",
    "\n",
    "TICS_2017 = pd.DataFrame(diccionario_final, index=comunidades_autonomas_ordenada)\n",
    "\n"
   ]
  },
  {
   "source": [
    "## Eliminamos algunas columnas que no interesan para el estudio"
   ],
   "cell_type": "markdown",
   "metadata": {}
  },
  {
   "cell_type": "code",
   "execution_count": 5,
   "metadata": {},
   "outputs": [],
   "source": [
    "TO_TICS_2017 = ['Viviendas con conexión de banda ancha', 'Viviendas con conexión de banda estrecha', 'Conexión de banda estrecha por llamada telefónica a través de su línea de teléfono convencional (módem) o RDSI','Conexión móvil de banda estrecha (otros teléfonos móviles -GPRS-)']\n",
    "\n",
    "TICS_2017.drop(TO_TICS_2017, inplace = True, axis=1)\n"
   ]
  },
  {
   "source": [
    "## Renombramos las columnas seleccionadas del fichero"
   ],
   "cell_type": "markdown",
   "metadata": {}
  },
  {
   "cell_type": "code",
   "execution_count": 6,
   "metadata": {},
   "outputs": [],
   "source": [
    "# Renombramos los encabezados de las columnas \n",
    "\n",
    "TICS_2017 = TICS_2017.rename(columns = \n",
    "{'Total de viviendas que disponen de acceso a Internet y declaran las formas de conexión utilizadas': 'Declaran acceso_internet_2017', \n",
    "'Conexión de banda ancha por ADSL': 'ADSL', \n",
    "'Conexión de banda ancha por red de cable o fibra óptica': 'cable_fibra optica',\n",
    "'Otras conexiones fijas de banda ancha (vía satélite, WiFi público o WiMax)': 'otras conexiones', \n",
    "'Conexión móvil de banda ancha vía modem USB ó tarjeta (en portátiles, p.ej.)':'movil_USB'})\n",
    "\n",
    "\n"
   ]
  },
  {
   "cell_type": "code",
   "execution_count": 7,
   "metadata": {},
   "outputs": [],
   "source": [
    "# Renombrar la columna 4\n",
    "TICS_2017.rename(columns={ TICS_2017.columns[4]: 'conexion movil_dispositivo_mano' }, inplace = True)\n"
   ]
  },
  {
   "source": [
    "## Pasamos la variable string a numérica"
   ],
   "cell_type": "markdown",
   "metadata": {}
  },
  {
   "cell_type": "code",
   "execution_count": 8,
   "metadata": {},
   "outputs": [],
   "source": [
    "TICS_2017 = TICS_2017.stack().str.replace(',','.').unstack()"
   ]
  },
  {
   "cell_type": "code",
   "execution_count": 9,
   "metadata": {},
   "outputs": [],
   "source": [
    "TICS_2017[['ADSL', 'cable_fibra optica','otras conexiones', 'conexion movil_dispositivo_mano', 'movil_USB']]= TICS_2017[['ADSL', 'cable_fibra optica','otras conexiones', 'conexion movil_dispositivo_mano', 'movil_USB']].astype(float)\n"
   ]
  },
  {
   "cell_type": "code",
   "execution_count": 10,
   "metadata": {},
   "outputs": [],
   "source": [
    "TICS_2017['Declaran acceso_internet_2017'] = TICS_2017['Declaran acceso_internet_2017'].apply(lambda x: x.split('.')).apply(''.join)\n"
   ]
  },
  {
   "cell_type": "code",
   "execution_count": 11,
   "metadata": {},
   "outputs": [],
   "source": [
    "TICS_2017[['Declaran acceso_internet_2017']]= TICS_2017[['Declaran acceso_internet_2017']].astype(int)"
   ]
  },
  {
   "source": [
    "## Ordenamos los datos en base a la variable índice constituida por las CCAA"
   ],
   "cell_type": "markdown",
   "metadata": {}
  },
  {
   "cell_type": "code",
   "execution_count": 12,
   "metadata": {},
   "outputs": [],
   "source": [
    "TICS_2017 = TICS_2017.sort_index()"
   ]
  },
  {
   "source": [
    "## Pasamos la variable índice (CCAA) a columna y reseteamos el índice"
   ],
   "cell_type": "markdown",
   "metadata": {}
  },
  {
   "cell_type": "code",
   "execution_count": 13,
   "metadata": {},
   "outputs": [],
   "source": [
    "TICS_2017['index'] = TICS_2017.index"
   ]
  },
  {
   "cell_type": "code",
   "execution_count": 14,
   "metadata": {},
   "outputs": [],
   "source": [
    "TICS_2017 = TICS_2017.reset_index(drop = True)"
   ]
  },
  {
   "cell_type": "code",
   "execution_count": null,
   "metadata": {},
   "outputs": [],
   "source": []
  },
  {
   "source": [
    "# VARIABLES DE SALUD FÍSICA Y MENTAL\n",
    "\n",
    "## Mismo proceso que para el fichero TICS con todas las variables de Salud Física, Mental y salud percibida\n",
    "\n",
    "### 1. Leer el fichero csv colocando como índice la variable de CCAA\n",
    "### 2. Eliminar las columnas que no interesan para el estudio del archivo correspondiente a cada variable seleccionada\n",
    "### 3. Renombrar las columnas que se mantienen en el archivo\n",
    "### 4. Pasar a float las variables string\n",
    "### 5. Ordenar el archivo por la variable índice\n",
    "### 6. Pasar el índice a columna y resetear el índice\n",
    "\n"
   ],
   "cell_type": "markdown",
   "metadata": {}
  },
  {
   "cell_type": "code",
   "execution_count": 15,
   "metadata": {},
   "outputs": [],
   "source": [
    "# Comprobar que se pueden leer bien todos los archivos a unir\n",
    "\n",
    "Concentrarse = pd.read_csv(\"../data/CSV_Salud/Concentrarse_2017.csv\", index_col = [0], sep =';')\n",
    "Diabetes = pd.read_csv(\"../data/CSV_Salud/Diabetes.csv\", index_col = [0], sep =';')\n",
    "Dificultades_ver = pd.read_csv(\"../data/CSV_Salud/Dificultades_ver_2017.csv\", index_col = [0], sep =';')\n",
    "Dolor_espalda = pd.read_csv(\"../data/CSV_Salud/Dolor_espalda_2017.csv\", index_col = [0], sep =';')\n",
    "Infarto_miocardio = pd.read_csv(\"../data/CSV_Salud/Infarto_miocardio_2017.csv\", index_col = [0], sep =';')\n",
    "Restricc_AVD_Dolor = pd.read_csv(\"../data/CSV_Salud/Restricc_AVD_Dolor.csv\", index_col = [0], sep =';')\n",
    "Masa_corporal = pd.read_csv(\"../data/CSV_Salud/Masa_corporal_2017.csv\", index_col = [0], sep =';')\n",
    "Migraña = pd.read_csv(\"../data/CSV_Salud/Migraña_2017.csv\", index_col = [0], sep =';')\n",
    "Problemas_salud_mental = pd.read_csv(\"../data/CSV_Salud/Problemas_salud_mental_2017.csv\", index_col = [0], sep =';')\n",
    "salud_mental = pd.read_csv(\"../data/CSV_Salud/salud_mental_2017.csv\", index_col = [0], sep =';')\n",
    "Salud_percibida = pd.read_csv(\"../data/CSV_Salud/Salud_percibida_2017.csv\", index_col = [0], sep =';')\n",
    "Tension_alta = pd.read_csv(\"../data/CSV_Salud/Tension_2017.csv\", index_col = [0], sep =';')\n",
    "\n"
   ]
  },
  {
   "cell_type": "code",
   "execution_count": 16,
   "metadata": {},
   "outputs": [],
   "source": [
    "Columnas = [0,3]\n",
    "Concentrarse.drop(Concentrarse.columns[Columnas], inplace = True, axis =1)\n"
   ]
  },
  {
   "cell_type": "code",
   "execution_count": 17,
   "metadata": {},
   "outputs": [],
   "source": [
    "Concentrarse.rename(columns={Concentrarse.columns[0]: \"Alguna Dificultad Conc\", Concentrarse.columns[1]: \"Mucha Dificultad Conc\" }, inplace = True)\n"
   ]
  },
  {
   "cell_type": "code",
   "execution_count": 18,
   "metadata": {},
   "outputs": [],
   "source": [
    "# Pasar a float los valores de todas las columnas\n",
    "Concentrarse = Concentrarse.stack().str.replace(',','.').unstack()\n"
   ]
  },
  {
   "cell_type": "code",
   "execution_count": 19,
   "metadata": {},
   "outputs": [],
   "source": [
    "Concentrarse[['Alguna Dificultad Conc', 'Mucha Dificultad Conc']]= Concentrarse[['Alguna Dificultad Conc','Mucha Dificultad Conc']].astype(float)"
   ]
  },
  {
   "cell_type": "code",
   "execution_count": 20,
   "metadata": {},
   "outputs": [],
   "source": [
    "Concentrarse = Concentrarse.sort_index()"
   ]
  },
  {
   "cell_type": "code",
   "execution_count": 21,
   "metadata": {},
   "outputs": [],
   "source": [
    "Concentrarse['index'] = Concentrarse.index"
   ]
  },
  {
   "cell_type": "code",
   "execution_count": 22,
   "metadata": {},
   "outputs": [],
   "source": [
    "Concentrarse = Concentrarse.reset_index(drop = True)"
   ]
  },
  {
   "cell_type": "code",
   "execution_count": 23,
   "metadata": {},
   "outputs": [],
   "source": [
    "Diabetes = pd.read_csv(\"../data/CSV_Salud/Diabetes.csv\", index_col = [0], sep =';')"
   ]
  },
  {
   "cell_type": "code",
   "execution_count": 24,
   "metadata": {},
   "outputs": [],
   "source": [
    "Diabetes.rename(columns={ Diabetes.columns[0]: \"Diabetes\" }, inplace = True)\n"
   ]
  },
  {
   "cell_type": "code",
   "execution_count": 25,
   "metadata": {},
   "outputs": [],
   "source": [
    "\n",
    "Diabetes = Diabetes.stack().str.replace(',','.').unstack()\n"
   ]
  },
  {
   "cell_type": "code",
   "execution_count": 26,
   "metadata": {},
   "outputs": [],
   "source": [
    "Diabetes[['Diabetes']]= Diabetes[['Diabetes']].astype(float)"
   ]
  },
  {
   "cell_type": "code",
   "execution_count": 27,
   "metadata": {},
   "outputs": [],
   "source": [
    "Diabetes = Diabetes.sort_index()"
   ]
  },
  {
   "cell_type": "code",
   "execution_count": 28,
   "metadata": {},
   "outputs": [],
   "source": [
    "Diabetes['index'] = Diabetes.index"
   ]
  },
  {
   "cell_type": "code",
   "execution_count": 29,
   "metadata": {},
   "outputs": [],
   "source": [
    "Diabetes = Diabetes.reset_index(drop = True)"
   ]
  },
  {
   "cell_type": "code",
   "execution_count": 30,
   "metadata": {},
   "outputs": [],
   "source": [
    "Dificultades_ver.rename(columns={Dificultades_ver.columns[0]: \"Alguna Dificultad Ver\", Dificultades_ver.columns[1]: \"Mucha Dificultad Ver\" }, inplace = True)"
   ]
  },
  {
   "cell_type": "code",
   "execution_count": 31,
   "metadata": {},
   "outputs": [],
   "source": [
    "Dificultades_ver = Dificultades_ver.stack().str.replace(',','.').unstack()\n"
   ]
  },
  {
   "cell_type": "code",
   "execution_count": 32,
   "metadata": {},
   "outputs": [],
   "source": [
    "Dificultades_ver[['Alguna Dificultad Ver', 'Mucha Dificultad Ver']]= Dificultades_ver[['Alguna Dificultad Ver','Mucha Dificultad Ver']].astype(float)"
   ]
  },
  {
   "cell_type": "code",
   "execution_count": 33,
   "metadata": {},
   "outputs": [],
   "source": [
    "Dificultades_ver = Dificultades_ver.sort_index()"
   ]
  },
  {
   "cell_type": "code",
   "execution_count": 34,
   "metadata": {},
   "outputs": [],
   "source": [
    "Dificultades_ver['index'] = Dificultades_ver.index"
   ]
  },
  {
   "cell_type": "code",
   "execution_count": 35,
   "metadata": {},
   "outputs": [],
   "source": [
    "Dificultades_ver = Dificultades_ver.reset_index(drop = True)"
   ]
  },
  {
   "cell_type": "code",
   "execution_count": 36,
   "metadata": {},
   "outputs": [],
   "source": [
    "# borrar una fila\n",
    "Dolor_espalda = Dolor_espalda.drop (Dolor_espalda.index[[0]])\n"
   ]
  },
  {
   "cell_type": "code",
   "execution_count": 37,
   "metadata": {},
   "outputs": [],
   "source": [
    "# cambiar la coma por un punto para poder pasar a float el string\n",
    "\n",
    "Dolor_espalda = Dolor_espalda.stack().str.replace(',','.').unstack()"
   ]
  },
  {
   "cell_type": "code",
   "execution_count": 38,
   "metadata": {},
   "outputs": [],
   "source": [
    "# Pasar a float el string\n",
    "\n",
    "Dolor_espalda[['Dolor espalda crónico cervical', 'Dolor espalda crónico lumbar']]= Dolor_espalda[['Dolor espalda crónico cervical','Dolor espalda crónico lumbar']].astype(float)"
   ]
  },
  {
   "cell_type": "code",
   "execution_count": 39,
   "metadata": {},
   "outputs": [],
   "source": [
    "Dolor_espalda = Dolor_espalda.rename(columns = \n",
    "{'Dolor espalda crónico cervical': 'Dolor espalda cronico cervical', \n",
    "'Dolor espalda crónico lumbar': 'Dolor espalda cronico lumbar'})"
   ]
  },
  {
   "cell_type": "code",
   "execution_count": 40,
   "metadata": {},
   "outputs": [],
   "source": [
    "Dolor_espalda = Dolor_espalda.sort_index()"
   ]
  },
  {
   "cell_type": "code",
   "execution_count": 41,
   "metadata": {},
   "outputs": [],
   "source": [
    "Dolor_espalda['index'] = Dolor_espalda.index"
   ]
  },
  {
   "cell_type": "code",
   "execution_count": 42,
   "metadata": {},
   "outputs": [],
   "source": [
    "Dolor_espalda = Dolor_espalda.reset_index(drop = True)"
   ]
  },
  {
   "cell_type": "code",
   "execution_count": 43,
   "metadata": {},
   "outputs": [],
   "source": [
    "Columnas = [1]\n",
    "Infarto_miocardio.drop(Infarto_miocardio.columns[Columnas], inplace = True, axis =1)"
   ]
  },
  {
   "cell_type": "code",
   "execution_count": 44,
   "metadata": {},
   "outputs": [],
   "source": [
    "Infarto_miocardio.rename(columns={Infarto_miocardio.columns[0]: \"Infarto_miocardio\" }, inplace = True)"
   ]
  },
  {
   "cell_type": "code",
   "execution_count": 45,
   "metadata": {},
   "outputs": [],
   "source": [
    "Infarto_miocardio = Infarto_miocardio.stack().str.replace(',','.').unstack()"
   ]
  },
  {
   "cell_type": "code",
   "execution_count": 46,
   "metadata": {},
   "outputs": [],
   "source": [
    "Infarto_miocardio[['Infarto_miocardio']]= Infarto_miocardio[['Infarto_miocardio']].astype(float)"
   ]
  },
  {
   "cell_type": "code",
   "execution_count": 47,
   "metadata": {},
   "outputs": [],
   "source": [
    "Infarto_miocardio = Infarto_miocardio.sort_index()"
   ]
  },
  {
   "cell_type": "code",
   "execution_count": 48,
   "metadata": {},
   "outputs": [],
   "source": [
    "Infarto_miocardio['index'] = Infarto_miocardio.index"
   ]
  },
  {
   "cell_type": "code",
   "execution_count": 49,
   "metadata": {},
   "outputs": [],
   "source": [
    "Infarto_miocardio = Infarto_miocardio.reset_index(drop = True)"
   ]
  },
  {
   "cell_type": "code",
   "execution_count": 50,
   "metadata": {},
   "outputs": [],
   "source": [
    "Columnas = [1]\n",
    "Restricc_AVD_Dolor.drop(Restricc_AVD_Dolor.columns[Columnas], inplace = True, axis =1)"
   ]
  },
  {
   "cell_type": "code",
   "execution_count": 51,
   "metadata": {},
   "outputs": [],
   "source": [
    "Restricc_AVD_Dolor.rename(columns={Restricc_AVD_Dolor.columns[0]: \"Restricc_AVD_Dolor\" }, inplace = True)"
   ]
  },
  {
   "cell_type": "code",
   "execution_count": 52,
   "metadata": {},
   "outputs": [],
   "source": [
    "Restricc_AVD_Dolor = Restricc_AVD_Dolor.stack().str.replace(',','.').unstack()"
   ]
  },
  {
   "cell_type": "code",
   "execution_count": 53,
   "metadata": {},
   "outputs": [],
   "source": [
    "Restricc_AVD_Dolor[['Restricc_AVD_Dolor']]= Restricc_AVD_Dolor[['Restricc_AVD_Dolor']].astype(float)"
   ]
  },
  {
   "cell_type": "code",
   "execution_count": 54,
   "metadata": {},
   "outputs": [],
   "source": [
    "Restricc_AVD_Dolor = Restricc_AVD_Dolor.sort_index()"
   ]
  },
  {
   "cell_type": "code",
   "execution_count": 55,
   "metadata": {},
   "outputs": [],
   "source": [
    "Restricc_AVD_Dolor['index'] = Restricc_AVD_Dolor.index"
   ]
  },
  {
   "cell_type": "code",
   "execution_count": 56,
   "metadata": {},
   "outputs": [],
   "source": [
    "Restricc_AVD_Dolor = Restricc_AVD_Dolor.reset_index(drop = True)"
   ]
  },
  {
   "cell_type": "code",
   "execution_count": 57,
   "metadata": {},
   "outputs": [],
   "source": [
    "Columnas = [0,1,3]\n",
    "Masa_corporal.drop(Masa_corporal.columns[Columnas], inplace = True, axis =1)"
   ]
  },
  {
   "cell_type": "code",
   "execution_count": 58,
   "metadata": {},
   "outputs": [],
   "source": [
    "Masa_corporal.rename(columns={Masa_corporal.columns[0]: \"Sobrepeso\" }, inplace = True)"
   ]
  },
  {
   "cell_type": "code",
   "execution_count": 59,
   "metadata": {},
   "outputs": [],
   "source": [
    "Masa_corporal = Masa_corporal.stack().str.replace(',','.').unstack()"
   ]
  },
  {
   "cell_type": "code",
   "execution_count": 60,
   "metadata": {},
   "outputs": [],
   "source": [
    "Masa_corporal[['Sobrepeso']]= Masa_corporal[['Sobrepeso']].astype(float)"
   ]
  },
  {
   "cell_type": "code",
   "execution_count": 61,
   "metadata": {},
   "outputs": [],
   "source": [
    "Masa_corporal = Masa_corporal.sort_index()"
   ]
  },
  {
   "cell_type": "code",
   "execution_count": 62,
   "metadata": {},
   "outputs": [],
   "source": [
    "Masa_corporal['index'] = Masa_corporal.index"
   ]
  },
  {
   "cell_type": "code",
   "execution_count": 63,
   "metadata": {},
   "outputs": [],
   "source": [
    "Masa_corporal = Masa_corporal.reset_index(drop = True)"
   ]
  },
  {
   "cell_type": "code",
   "execution_count": 64,
   "metadata": {},
   "outputs": [],
   "source": [
    "Migraña.rename(columns={ Migraña.columns[0]: \"Migraña\" }, inplace = True)"
   ]
  },
  {
   "cell_type": "code",
   "execution_count": 65,
   "metadata": {},
   "outputs": [],
   "source": [
    "Migraña = Migraña.stack().str.replace(',','.').unstack()"
   ]
  },
  {
   "cell_type": "code",
   "execution_count": 66,
   "metadata": {},
   "outputs": [],
   "source": [
    "Migraña[['Migraña']]= Migraña[['Migraña']].astype(float)"
   ]
  },
  {
   "cell_type": "code",
   "execution_count": 67,
   "metadata": {},
   "outputs": [],
   "source": [
    "Migraña = Migraña.sort_index()"
   ]
  },
  {
   "cell_type": "code",
   "execution_count": 68,
   "metadata": {},
   "outputs": [],
   "source": [
    "Migraña['index'] = Migraña.index"
   ]
  },
  {
   "cell_type": "code",
   "execution_count": 69,
   "metadata": {},
   "outputs": [],
   "source": [
    "Migraña = Migraña.reset_index(drop = True)"
   ]
  },
  {
   "cell_type": "code",
   "execution_count": 70,
   "metadata": {},
   "outputs": [],
   "source": [
    "Columnas = [1,3,5]\n",
    "Problemas_salud_mental.drop(Problemas_salud_mental.columns[Columnas], inplace = True, axis =1)"
   ]
  },
  {
   "cell_type": "code",
   "execution_count": 71,
   "metadata": {},
   "outputs": [],
   "source": [
    "Problemas_salud_mental.rename(columns={Problemas_salud_mental.columns[0]: \"Depresión\", Problemas_salud_mental.columns[1]: \"Ansiedad\" , Problemas_salud_mental.columns[2]: \"Otros probl Salud_mental\"}, inplace = True)"
   ]
  },
  {
   "cell_type": "code",
   "execution_count": 72,
   "metadata": {},
   "outputs": [],
   "source": [
    "Problemas_salud_mental = Problemas_salud_mental.stack().str.replace(',','.').unstack()"
   ]
  },
  {
   "cell_type": "code",
   "execution_count": 73,
   "metadata": {},
   "outputs": [],
   "source": [
    "Problemas_salud_mental[['Depresión', 'Ansiedad', 'Otros probl Salud_mental']]= Problemas_salud_mental[['Depresión', 'Ansiedad', 'Otros probl Salud_mental']].astype(float)"
   ]
  },
  {
   "cell_type": "code",
   "execution_count": 74,
   "metadata": {},
   "outputs": [],
   "source": [
    "Problemas_salud_mental = Problemas_salud_mental.rename(columns = {'Depresión': 'Depresion'})"
   ]
  },
  {
   "cell_type": "code",
   "execution_count": 75,
   "metadata": {},
   "outputs": [],
   "source": [
    "Problemas_salud_mental = Problemas_salud_mental.sort_index()"
   ]
  },
  {
   "cell_type": "code",
   "execution_count": 76,
   "metadata": {},
   "outputs": [],
   "source": [
    "Problemas_salud_mental['index'] = Problemas_salud_mental.index"
   ]
  },
  {
   "cell_type": "code",
   "execution_count": 77,
   "metadata": {},
   "outputs": [],
   "source": [
    "Problemas_salud_mental = Problemas_salud_mental.reset_index(drop = True)"
   ]
  },
  {
   "cell_type": "code",
   "execution_count": 78,
   "metadata": {},
   "outputs": [],
   "source": [
    "Columnas = [1]\n",
    "salud_mental.drop(salud_mental.columns[Columnas], inplace = True, axis =1)\n"
   ]
  },
  {
   "cell_type": "code",
   "execution_count": 79,
   "metadata": {},
   "outputs": [],
   "source": [
    "salud_mental.rename(columns={salud_mental.columns[0]: \"Salud_mental: Media\"}, inplace = True)"
   ]
  },
  {
   "cell_type": "code",
   "execution_count": 80,
   "metadata": {},
   "outputs": [],
   "source": [
    "salud_mental = salud_mental.stack().str.replace(',','.').unstack()"
   ]
  },
  {
   "cell_type": "code",
   "execution_count": 81,
   "metadata": {},
   "outputs": [],
   "source": [
    "salud_mental[['Salud_mental: Media']]= salud_mental[['Salud_mental: Media']].astype(float)"
   ]
  },
  {
   "cell_type": "code",
   "execution_count": 82,
   "metadata": {},
   "outputs": [],
   "source": [
    "salud_mental = salud_mental.sort_index()"
   ]
  },
  {
   "cell_type": "code",
   "execution_count": 83,
   "metadata": {},
   "outputs": [],
   "source": [
    "salud_mental['index'] = salud_mental.index"
   ]
  },
  {
   "cell_type": "code",
   "execution_count": 84,
   "metadata": {},
   "outputs": [],
   "source": [
    "salud_mental = salud_mental.reset_index(drop = True)"
   ]
  },
  {
   "cell_type": "code",
   "execution_count": 85,
   "metadata": {},
   "outputs": [],
   "source": [
    "Columnas = [0,3,4]\n",
    "Salud_percibida.drop(Salud_percibida .columns[Columnas], inplace = True, axis =1)"
   ]
  },
  {
   "cell_type": "code",
   "execution_count": 86,
   "metadata": {},
   "outputs": [],
   "source": [
    "Salud_percibida.rename(columns={Salud_percibida.columns[0]: \"Buena Salud\", Salud_percibida.columns[1]: \"Salud Regular\"}, inplace = True)\n"
   ]
  },
  {
   "cell_type": "code",
   "execution_count": 87,
   "metadata": {},
   "outputs": [],
   "source": [
    "Salud_percibida = Salud_percibida.stack().str.replace(',','.').unstack()"
   ]
  },
  {
   "cell_type": "code",
   "execution_count": 88,
   "metadata": {},
   "outputs": [],
   "source": [
    "Salud_percibida[['Buena Salud']]= Salud_percibida[['Salud Regular']].astype(float)"
   ]
  },
  {
   "cell_type": "code",
   "execution_count": 89,
   "metadata": {},
   "outputs": [],
   "source": [
    "Salud_percibida = Salud_percibida.sort_index()"
   ]
  },
  {
   "cell_type": "code",
   "execution_count": 90,
   "metadata": {},
   "outputs": [],
   "source": [
    "Salud_percibida['index'] = Salud_percibida.index"
   ]
  },
  {
   "cell_type": "code",
   "execution_count": 91,
   "metadata": {},
   "outputs": [],
   "source": [
    "Salud_percibida = Salud_percibida.reset_index(drop = True)"
   ]
  },
  {
   "cell_type": "code",
   "execution_count": 92,
   "metadata": {},
   "outputs": [],
   "source": [
    "Tension_alta.rename(columns={Tension_alta.columns[0]: \"Tension: alta\"}, inplace = True)"
   ]
  },
  {
   "cell_type": "code",
   "execution_count": 93,
   "metadata": {},
   "outputs": [],
   "source": [
    "Tension_alta = Tension_alta.stack().str.replace(',','.').unstack()"
   ]
  },
  {
   "cell_type": "code",
   "execution_count": 94,
   "metadata": {},
   "outputs": [],
   "source": [
    "Tension_alta[['Tension: alta']]= Tension_alta[['Tension: alta']].astype(float)"
   ]
  },
  {
   "cell_type": "code",
   "execution_count": 95,
   "metadata": {},
   "outputs": [],
   "source": [
    "Tension_alta = Tension_alta.sort_index()"
   ]
  },
  {
   "cell_type": "code",
   "execution_count": 96,
   "metadata": {},
   "outputs": [],
   "source": [
    "Tension_alta['index'] = Tension_alta.index"
   ]
  },
  {
   "cell_type": "code",
   "execution_count": 97,
   "metadata": {},
   "outputs": [],
   "source": [
    "Tension_alta = Tension_alta.reset_index(drop = True)"
   ]
  },
  {
   "source": [
    "# VARIABLES DE CONTROL\n",
    "\n",
    "## Mismo proceso que para los ficheros TICS Salud Física, Mental y salud percibida\n",
    "\n",
    "### 1. Leer el fichero csv colocando como índice la variable de CCAA\n",
    "### 2. Eliminar las columnas que no interesan para el estudio del archivo correspondiente a cada variable seleccionada\n",
    "### 3. Renombrar las columnas que se mantienen en el archivo\n",
    "### 4. Pasar a float las variables string\n",
    "### 5. Ordenar el archivo por la variable índice\n",
    "### 6. Pasar el índice a columna y resetear el índice\n"
   ],
   "cell_type": "markdown",
   "metadata": {}
  },
  {
   "cell_type": "code",
   "execution_count": 98,
   "metadata": {},
   "outputs": [],
   "source": [
    "Renta_hogar = pd.read_csv(\"../data/CSV_Control/Renta media_mediana_hogar_2018.csv\", index_col = [0], sep =';')\n",
    "Tasa_paro = pd.read_csv(\"../data/CSV_Control/Tasa_paro_2017.csv\", index_col = [0], sep =';')\n",
    "Indice_masculinidad = pd.read_csv(\"../data/CSV_Control/Sexo.csv\", index_col = [0], sep =';')\n",
    "Edad_25_59 = pd.read_csv(\"../data/CSV_Control/Edad_2018.csv\", index_col = [0], sep =';')\n",
    "Educacion_superior = pd.read_csv(\"../data/CSV_Control/Educacion_Superior_2017.csv\", index_col = [0], sep =';')"
   ]
  },
  {
   "cell_type": "code",
   "execution_count": 99,
   "metadata": {},
   "outputs": [],
   "source": [
    "Columnas = [1]\n",
    "Renta_hogar.drop(Renta_hogar .columns[Columnas], inplace = True, axis =1)"
   ]
  },
  {
   "cell_type": "code",
   "execution_count": 100,
   "metadata": {},
   "outputs": [],
   "source": [
    "Renta_hogar.rename(columns={Renta_hogar.columns[0]: \"Renta_media_hogar\"}, inplace = True)"
   ]
  },
  {
   "cell_type": "code",
   "execution_count": 101,
   "metadata": {},
   "outputs": [],
   "source": [
    "Renta_hogar = Renta_hogar.sort_index()"
   ]
  },
  {
   "cell_type": "code",
   "execution_count": 102,
   "metadata": {},
   "outputs": [],
   "source": [
    "Renta_hogar['index'] = Renta_hogar.index"
   ]
  },
  {
   "cell_type": "code",
   "execution_count": 103,
   "metadata": {},
   "outputs": [],
   "source": [
    "Renta_hogar = Renta_hogar.reset_index(drop = True)"
   ]
  },
  {
   "cell_type": "code",
   "execution_count": 104,
   "metadata": {},
   "outputs": [],
   "source": [
    "Tasa_paro.rename(columns={Tasa_paro.columns[0]: \"Tasa_paro\"}, inplace = True)"
   ]
  },
  {
   "cell_type": "code",
   "execution_count": 105,
   "metadata": {},
   "outputs": [],
   "source": [
    "Tasa_paro = Tasa_paro.stack().str.replace(',','.').unstack()"
   ]
  },
  {
   "cell_type": "code",
   "execution_count": 106,
   "metadata": {},
   "outputs": [],
   "source": [
    "Tasa_paro[['Tasa_paro']]= Tasa_paro[['Tasa_paro']].astype(float)"
   ]
  },
  {
   "cell_type": "code",
   "execution_count": 107,
   "metadata": {},
   "outputs": [],
   "source": [
    "Tasa_paro = Tasa_paro.sort_index()"
   ]
  },
  {
   "cell_type": "code",
   "execution_count": 108,
   "metadata": {},
   "outputs": [],
   "source": [
    "Tasa_paro['index'] = Tasa_paro.index"
   ]
  },
  {
   "cell_type": "code",
   "execution_count": 109,
   "metadata": {},
   "outputs": [],
   "source": [
    "Tasa_paro = Tasa_paro.reset_index(drop = True)"
   ]
  },
  {
   "cell_type": "code",
   "execution_count": 110,
   "metadata": {},
   "outputs": [],
   "source": [
    "Columnas = [0,1]\n",
    "Indice_masculinidad.drop(Indice_masculinidad .columns[Columnas], inplace = True, axis =1)\n"
   ]
  },
  {
   "cell_type": "code",
   "execution_count": 111,
   "metadata": {},
   "outputs": [],
   "source": [
    "Indice_masculinidad.rename(columns={Indice_masculinidad.columns[0]: \"Índice_masculinidad\"}, inplace = True)"
   ]
  },
  {
   "cell_type": "code",
   "execution_count": 112,
   "metadata": {},
   "outputs": [],
   "source": [
    "Indice_masculinidad = Indice_masculinidad.stack().str.replace(',','.').unstack()"
   ]
  },
  {
   "cell_type": "code",
   "execution_count": 113,
   "metadata": {},
   "outputs": [],
   "source": [
    "Indice_masculinidad[['Índice_masculinidad']]= Indice_masculinidad[['Índice_masculinidad']].astype(float)"
   ]
  },
  {
   "cell_type": "code",
   "execution_count": 114,
   "metadata": {},
   "outputs": [],
   "source": [
    "Indice_masculinidad = Indice_masculinidad.rename(columns = {'Índice_masculinidad': 'Indice_masculinidad'})"
   ]
  },
  {
   "cell_type": "code",
   "execution_count": 115,
   "metadata": {},
   "outputs": [],
   "source": [
    "Indice_masculinidad = Indice_masculinidad.sort_index()"
   ]
  },
  {
   "cell_type": "code",
   "execution_count": 116,
   "metadata": {},
   "outputs": [],
   "source": [
    "Indice_masculinidad['index'] = Indice_masculinidad.index"
   ]
  },
  {
   "cell_type": "code",
   "execution_count": 117,
   "metadata": {},
   "outputs": [],
   "source": [
    "Indice_masculinidad = Indice_masculinidad.reset_index(drop = True)"
   ]
  },
  {
   "cell_type": "code",
   "execution_count": 118,
   "metadata": {},
   "outputs": [],
   "source": [
    "Columnas = [0,1]\n",
    "Edad_25_59.drop(Edad_25_59.columns[Columnas], inplace = True, axis =1)\n"
   ]
  },
  {
   "cell_type": "code",
   "execution_count": 119,
   "metadata": {},
   "outputs": [],
   "source": [
    "Edad_25_59.rename(columns={Edad_25_59.columns[0]: \"Edad_25_59 años\"}, inplace = True)"
   ]
  },
  {
   "cell_type": "code",
   "execution_count": 120,
   "metadata": {},
   "outputs": [],
   "source": [
    "Edad_25_59 = Edad_25_59.stack().str.replace(',','.').unstack()"
   ]
  },
  {
   "cell_type": "code",
   "execution_count": 121,
   "metadata": {},
   "outputs": [],
   "source": [
    "Edad_25_59[['Edad_25_59 años']]= Edad_25_59[['Edad_25_59 años']].astype(float)"
   ]
  },
  {
   "cell_type": "code",
   "execution_count": 122,
   "metadata": {},
   "outputs": [],
   "source": [
    "Edad_25_59 = Edad_25_59.sort_index()"
   ]
  },
  {
   "cell_type": "code",
   "execution_count": 123,
   "metadata": {},
   "outputs": [],
   "source": [
    "Edad_25_59['index'] = Edad_25_59.index"
   ]
  },
  {
   "cell_type": "code",
   "execution_count": 124,
   "metadata": {},
   "outputs": [],
   "source": [
    "Edad_25_59 = Edad_25_59.reset_index(drop = True)"
   ]
  },
  {
   "cell_type": "code",
   "execution_count": 125,
   "metadata": {},
   "outputs": [],
   "source": [
    "Educacion_superior.rename(columns={Educacion_superior.columns[0]: \"Educacion_superior\"}, inplace = True)"
   ]
  },
  {
   "cell_type": "code",
   "execution_count": 126,
   "metadata": {},
   "outputs": [],
   "source": [
    "Educacion_superior = Educacion_superior.stack().str.replace(',','.').unstack()"
   ]
  },
  {
   "cell_type": "code",
   "execution_count": 127,
   "metadata": {},
   "outputs": [],
   "source": [
    "Educacion_superior[['Educacion_superior']]= Educacion_superior[['Educacion_superior']].astype(float)"
   ]
  },
  {
   "cell_type": "code",
   "execution_count": 128,
   "metadata": {},
   "outputs": [],
   "source": [
    "Educacion_superior = Educacion_superior.sort_index()"
   ]
  },
  {
   "cell_type": "code",
   "execution_count": 129,
   "metadata": {},
   "outputs": [],
   "source": [
    "Educacion_superior['index'] = Educacion_superior.index"
   ]
  },
  {
   "cell_type": "code",
   "execution_count": 130,
   "metadata": {},
   "outputs": [],
   "source": [
    "Educacion_superior = Educacion_superior.reset_index(drop = True)"
   ]
  },
  {
   "cell_type": "code",
   "execution_count": 131,
   "metadata": {},
   "outputs": [
    {
     "output_type": "execute_result",
     "data": {
      "text/plain": [
       "'\\nimport utils.mining_data_tb as mdt\\n\\nConcentrarse = mdt.borra_columna_index(dataframe=Concentrarse)\\nmdt.borra_columna_index(dataframe=Diabetes)\\n'"
      ]
     },
     "metadata": {},
     "execution_count": 131
    }
   ],
   "source": [
    "\"\"\"\n",
    "import utils.mining_data_tb as mdt\n",
    "\n",
    "Concentrarse = mdt.borra_columna_index(dataframe=Concentrarse)\n",
    "mdt.borra_columna_index(dataframe=Diabetes)\n",
    "\"\"\""
   ]
  },
  {
   "source": [
    "## Eliminar la columna \"index\" de todos los ficheros excepto de el de TICS (columna que corresponde a las CCAA)"
   ],
   "cell_type": "markdown",
   "metadata": {}
  },
  {
   "cell_type": "code",
   "execution_count": 132,
   "metadata": {},
   "outputs": [],
   "source": [
    "del Concentrarse['index']\n",
    "del Diabetes['index']\n",
    "del Dificultades_ver['index']\n",
    "del Dolor_espalda['index']\n",
    "del Infarto_miocardio['index']\n",
    "del Restricc_AVD_Dolor['index']\n",
    "del Masa_corporal['index']\n",
    "del Migraña['index']\n",
    "del Problemas_salud_mental['index']\n",
    "del salud_mental['index']\n",
    "del Salud_percibida['index']\n",
    "del Tension_alta['index']\n",
    "\n",
    "\n"
   ]
  },
  {
   "cell_type": "code",
   "execution_count": 133,
   "metadata": {},
   "outputs": [],
   "source": [
    "del Renta_hogar['index']\n",
    "del Tasa_paro['index']\n",
    "del Indice_masculinidad['index']\n",
    "del Edad_25_59['index']\n",
    "del Educacion_superior['index']\n",
    "\n"
   ]
  },
  {
   "source": [
    "# Generación de bases de datos de trabajo\n",
    "## Base TICS_Control\n",
    "## Base completa con todas las variables \n",
    "## Base TICS_Salud Física\n",
    "## Base TICS_Salud Mental\n",
    "## Base TICS_Salud percibida\n"
   ],
   "cell_type": "markdown",
   "metadata": {}
  },
  {
   "cell_type": "code",
   "execution_count": 134,
   "metadata": {},
   "outputs": [],
   "source": [
    "Base_completa = pd.concat([TICS_2017, Concentrarse, Diabetes, Dificultades_ver, Dolor_espalda, Infarto_miocardio, Restricc_AVD_Dolor, Masa_corporal, Migraña, Problemas_salud_mental, salud_mental,Salud_percibida, Tension_alta, Renta_hogar, Tasa_paro, Indice_masculinidad, Edad_25_59, Educacion_superior], axis=1)"
   ]
  },
  {
   "cell_type": "code",
   "execution_count": 135,
   "metadata": {},
   "outputs": [
    {
     "output_type": "execute_result",
     "data": {
      "text/plain": [
       "(20, 30)"
      ]
     },
     "metadata": {},
     "execution_count": 135
    }
   ],
   "source": [
    "Base_completa.shape"
   ]
  },
  {
   "cell_type": "code",
   "execution_count": 136,
   "metadata": {},
   "outputs": [],
   "source": [
    "Base_completa.to_csv('../data/Bases/Base_completa.csv')"
   ]
  },
  {
   "cell_type": "code",
   "execution_count": 137,
   "metadata": {},
   "outputs": [],
   "source": [
    "Base_completa.to_json(\"../src/api/static/Base_completa.json\", orient = \"records\", force_ascii= False)\n"
   ]
  },
  {
   "cell_type": "code",
   "execution_count": 137,
   "metadata": {},
   "outputs": [],
   "source": [
    "# Base TICS_salud física\n",
    "TICS_Control = Base_completa.drop(columns=['Alguna Dificultad Conc', 'Mucha Dificultad Conc', 'Diabetes','Alguna Dificultad Ver', 'Mucha Dificultad Ver', 'Dolor espalda cronico cervical', 'Dolor espalda cronico lumbar', 'Infarto_miocardio', 'Restricc_AVD_Dolor', 'Sobrepeso', 'Migraña', 'Depresion', 'Ansiedad', 'Otros probl Salud_mental', 'Salud_mental: Media', 'Buena Salud', 'Salud Regular', 'Tension: alta'], axis=1)\n"
   ]
  },
  {
   "cell_type": "code",
   "execution_count": 138,
   "metadata": {},
   "outputs": [],
   "source": [
    "TICS_Control.to_csv('../data/Bases/TICS_Control.csv')"
   ]
  },
  {
   "cell_type": "code",
   "execution_count": 139,
   "metadata": {},
   "outputs": [],
   "source": [
    "# Base TICS_Salud_Física\n",
    "TICS_Salud_Fisica = Base_completa.drop(columns=['Depresion', 'Ansiedad', 'Otros probl Salud_mental', 'Salud_mental: Media','Buena Salud', 'Salud Regular','Renta_media_hogar', 'Tasa_paro', 'Indice_masculinidad', 'Edad_25_59 años', 'Educacion_superior'], axis=1)"
   ]
  },
  {
   "cell_type": "code",
   "execution_count": 140,
   "metadata": {},
   "outputs": [],
   "source": [
    "TICS_Salud_Fisica.to_csv('../data/Bases/TICS_Salud_Física.csv')"
   ]
  },
  {
   "cell_type": "code",
   "execution_count": 141,
   "metadata": {},
   "outputs": [],
   "source": [
    "# Base TICS_Salud_Mental\n",
    "\n",
    "TICS_Salud_Mental = Base_completa.drop(columns=['Alguna Dificultad Conc', 'Mucha Dificultad Conc', 'Diabetes','Alguna Dificultad Ver', 'Mucha Dificultad Ver', 'Dolor espalda cronico cervical', 'Dolor espalda cronico lumbar', 'Infarto_miocardio', 'Restricc_AVD_Dolor', 'Sobrepeso', 'Migraña', 'Buena Salud', 'Salud Regular', 'Tension: alta', 'Renta_media_hogar', 'Tasa_paro', 'Indice_masculinidad', 'Edad_25_59 años', 'Educacion_superior'], axis=1)"
   ]
  },
  {
   "cell_type": "code",
   "execution_count": 142,
   "metadata": {},
   "outputs": [],
   "source": [
    "TICS_Salud_Mental.to_csv('../data/Bases/TICS_Salud_Mental.csv')"
   ]
  },
  {
   "cell_type": "code",
   "execution_count": 143,
   "metadata": {},
   "outputs": [],
   "source": [
    "# Base TICS_Salud_Percibida\n",
    "\n",
    "TICS_Salud_Percibida = Base_completa.drop(columns =['Alguna Dificultad Conc', 'Mucha Dificultad Conc', 'Diabetes',\n",
    "       'Alguna Dificultad Ver', 'Mucha Dificultad Ver',\n",
    "       'Dolor espalda cronico cervical', 'Dolor espalda cronico lumbar',\n",
    "       'Infarto_miocardio', 'Restricc_AVD_Dolor', 'Sobrepeso', 'Migraña',\n",
    "       'Depresion', 'Ansiedad', 'Otros probl Salud_mental',\n",
    "       'Salud_mental: Media', 'Tension: alta',\n",
    "       'Renta_media_hogar', 'Tasa_paro', 'Indice_masculinidad',\n",
    "       'Edad_25_59 años', 'Educacion_superior'])"
   ]
  },
  {
   "cell_type": "code",
   "execution_count": 144,
   "metadata": {},
   "outputs": [],
   "source": [
    "TICS_Salud_Percibida.to_csv('../data/Bases/TICS_Salud_Percibida.csv')"
   ]
  },
  {
   "source": [
    "# Control de calidad de las bases de trabajo\n"
   ],
   "cell_type": "markdown",
   "metadata": {}
  },
  {
   "cell_type": "code",
   "execution_count": 307,
   "metadata": {},
   "outputs": [],
   "source": [
    "TICS_Salud = pd.read_csv(\"../data/Bases/Base_completa.csv\", sep =',')"
   ]
  },
  {
   "source": [
    "## Identificar valores missing"
   ],
   "cell_type": "markdown",
   "metadata": {}
  },
  {
   "cell_type": "code",
   "execution_count": 308,
   "metadata": {},
   "outputs": [],
   "source": [
    "missing_values_count = TICS_Salud.isnull().sum()"
   ]
  },
  {
   "source": [
    "## Identificar registros duplicados"
   ],
   "cell_type": "markdown",
   "metadata": {}
  },
  {
   "cell_type": "code",
   "execution_count": 300,
   "metadata": {},
   "outputs": [],
   "source": [
    "Duplicados = TICS_Salud.duplicated()"
   ]
  },
  {
   "source": [
    "## Identificar outliers"
   ],
   "cell_type": "markdown",
   "metadata": {}
  },
  {
   "cell_type": "code",
   "execution_count": 301,
   "metadata": {},
   "outputs": [],
   "source": [
    "import matplotlib.pyplot as plt"
   ]
  },
  {
   "source": [
    "### Variables TICS"
   ],
   "cell_type": "markdown",
   "metadata": {}
  },
  {
   "cell_type": "code",
   "execution_count": null,
   "metadata": {},
   "outputs": [],
   "source": [
    "plt.figure(figsize=(15,8))\n",
    "\n",
    "boxplot = TICS_Salud.boxplot(column=['ADSL','cable_fibra optica','otras conexiones','conexion movil_dispositivo_mano','movil_USB'])\n",
    "boxplot.plot()\n",
    "\n",
    "plt.savefig(\"../reports/Outliers/TICS.jpg\", bbox_inches='tight')"
   ]
  },
  {
   "cell_type": "code",
   "execution_count": null,
   "metadata": {},
   "outputs": [],
   "source": [
    "plt.figure(figsize=(8,5))\n",
    "\n",
    "boxplot = TICS_Salud.boxplot(column=['Declaran acceso_internet_2017'])\n",
    "boxplot.plot()\n",
    "plt.savefig(\"../reports/Outliers/TICS_1.jpg\", bbox_inches='tight')"
   ]
  },
  {
   "source": [
    "### Variables de Salud física"
   ],
   "cell_type": "markdown",
   "metadata": {}
  },
  {
   "cell_type": "code",
   "execution_count": null,
   "metadata": {},
   "outputs": [],
   "source": [
    "plt.figure(figsize=(30,8))\n",
    "\n",
    "boxplot = TICS_Salud.boxplot(column=['Alguna Dificultad Conc','Mucha Dificultad Conc','Diabetes','Alguna Dificultad Ver','Mucha Dificultad Ver', 'Dolor espalda cronico cervical', 'Dolor espalda cronico lumbar', 'Infarto_miocardio', 'Restricc_AVD_Dolor', 'Sobrepeso', 'Migraña', 'Tension: alta'])\n",
    "boxplot.plot()\n",
    "\n",
    "plt.savefig(\"../reports/Outliers/Salud_fisica.jpg\", bbox_inches='tight')"
   ]
  },
  {
   "source": [
    "### Variables de Salud mental"
   ],
   "cell_type": "markdown",
   "metadata": {}
  },
  {
   "cell_type": "code",
   "execution_count": null,
   "metadata": {},
   "outputs": [],
   "source": [
    "plt.figure(figsize=(15,8))\n",
    "\n",
    "boxplot = TICS_Salud.boxplot(column=['Depresion', 'Ansiedad', 'Otros probl Salud_mental','Salud_mental: Media'])\n",
    "boxplot.plot()\n",
    "plt.savefig(\"../reports/Outliers/Salud_mental.jpg\", bbox_inches='tight')"
   ]
  },
  {
   "source": [
    " Variables de Salud percibida"
   ],
   "cell_type": "markdown",
   "metadata": {}
  },
  {
   "cell_type": "code",
   "execution_count": null,
   "metadata": {},
   "outputs": [],
   "source": [
    "plt.figure(figsize=(15,8))\n",
    "\n",
    "boxplot = TICS_Salud.boxplot(column=['Buena Salud', 'Salud Regular'])\n",
    "boxplot.plot()\n",
    "\n",
    "plt.savefig(\"../reports/Outliers/Salud_percibida.jpg\", bbox_inches='tight')"
   ]
  },
  {
   "source": [
    "### Variables de control "
   ],
   "cell_type": "markdown",
   "metadata": {}
  },
  {
   "cell_type": "code",
   "execution_count": null,
   "metadata": {},
   "outputs": [],
   "source": [
    "plt.figure(figsize=(15,8))\n",
    "\n",
    "boxplot = TICS_Salud.boxplot(column=['Tasa_paro', 'Indice_masculinidad', 'Edad_25_59 años', 'Educacion_superior'])\n",
    "boxplot.plot()\n",
    "\n",
    "plt.savefig(\"../reports/Outliers/Control.jpg\", bbox_inches='tight')"
   ]
  },
  {
   "cell_type": "code",
   "execution_count": null,
   "metadata": {},
   "outputs": [],
   "source": [
    "plt.figure(figsize=(15,8))\n",
    "\n",
    "boxplot = TICS_Salud.boxplot(column=['Renta_media_hogar'])\n",
    "boxplot.plot()\n",
    "\n",
    "plt.savefig(\"../reports/Outliers/Control_1.jpg\", bbox_inches='tight')"
   ]
  },
  {
   "source": [
    "## Tendencias de cada columna\n"
   ],
   "cell_type": "markdown",
   "metadata": {}
  },
  {
   "cell_type": "code",
   "execution_count": null,
   "metadata": {},
   "outputs": [],
   "source": [
    "TICS_Salud['Declaran acceso_internet_2017'].plot()\n",
    "plt.savefig(\"../reports/Tendencias/Acceso_internet.jpg\", bbox_inches='tight')"
   ]
  },
  {
   "cell_type": "code",
   "execution_count": null,
   "metadata": {},
   "outputs": [],
   "source": [
    "TICS_Salud['ADSL'].plot()\n",
    "plt.savefig(\"../reports/Tendencias/ADSL.jpg\", bbox_inches='tight')"
   ]
  },
  {
   "cell_type": "code",
   "execution_count": null,
   "metadata": {},
   "outputs": [],
   "source": [
    "TICS_Salud['cable_fibra optica'].plot()\n",
    "plt.savefig(\"../reports/Tendencias/cable_fibra optica.jpg\", bbox_inches='tight')"
   ]
  },
  {
   "cell_type": "code",
   "execution_count": null,
   "metadata": {},
   "outputs": [],
   "source": [
    "TICS_Salud['otras conexiones'].plot()\n",
    "plt.savefig(\"../reports/Tendencias/otras conexiones.jpg\", bbox_inches='tight')"
   ]
  },
  {
   "cell_type": "code",
   "execution_count": null,
   "metadata": {},
   "outputs": [],
   "source": [
    "TICS_Salud['conexion movil_dispositivo_mano'].plot()\n",
    "plt.savefig(\"../reports/Tendencias/conexion movil_dispositivo_mano.jpg\", bbox_inches='tight')"
   ]
  },
  {
   "cell_type": "code",
   "execution_count": null,
   "metadata": {},
   "outputs": [],
   "source": [
    "TICS_Salud['movil_USB'].plot()\n",
    "plt.savefig(\"../reports/Tendencias/movil_USB.jpg\", bbox_inches='tight')"
   ]
  },
  {
   "cell_type": "code",
   "execution_count": null,
   "metadata": {},
   "outputs": [],
   "source": [
    "TICS_Salud['Alguna Dificultad Conc'].plot()\n",
    "plt.savefig(\"../reports/Tendencias/Alguna Dificultad Conc.jpg\", bbox_inches='tight')"
   ]
  },
  {
   "cell_type": "code",
   "execution_count": null,
   "metadata": {},
   "outputs": [],
   "source": [
    "TICS_Salud['Mucha Dificultad Conc'].plot()\n",
    "plt.savefig(\"../reports/Tendencias/Mucha Dificultad Conc.jpg\", bbox_inches='tight')"
   ]
  },
  {
   "cell_type": "code",
   "execution_count": null,
   "metadata": {},
   "outputs": [],
   "source": [
    "TICS_Salud['Diabetes'].plot()\n",
    "plt.savefig(\"../reports/Tendencias/Diabetes.jpg\", bbox_inches='tight')"
   ]
  },
  {
   "cell_type": "code",
   "execution_count": null,
   "metadata": {},
   "outputs": [],
   "source": [
    "TICS_Salud['Alguna Dificultad Ver'].plot()\n",
    "plt.savefig(\"../reports/Tendencias/Alguna Dificultad Ver.jpg\", bbox_inches='tight')"
   ]
  },
  {
   "cell_type": "code",
   "execution_count": null,
   "metadata": {},
   "outputs": [],
   "source": [
    "TICS_Salud['Mucha Dificultad Ver'].plot()\n",
    "plt.savefig(\"../reports/Tendencias/Mucha Dificultad Ver.jpg\", bbox_inches='tight')"
   ]
  },
  {
   "cell_type": "code",
   "execution_count": null,
   "metadata": {},
   "outputs": [],
   "source": [
    "TICS_Salud['Dolor espalda cronico cervical'].plot()\n",
    "plt.savefig(\"../reports/Tendencias/Dolor espalda cronico cervical.jpg\", bbox_inches='tight')"
   ]
  },
  {
   "cell_type": "code",
   "execution_count": null,
   "metadata": {},
   "outputs": [],
   "source": [
    "TICS_Salud['Dolor espalda cronico lumbar'].plot()\n",
    "plt.savefig(\"../reports/Tendencias/Dolor espalda cronico lumbar.jpg\", bbox_inches='tight')"
   ]
  },
  {
   "cell_type": "code",
   "execution_count": null,
   "metadata": {},
   "outputs": [],
   "source": [
    "TICS_Salud['Infarto_miocardio'].plot()\n",
    "plt.savefig(\"../reports/Tendencias/Infarto_miocardio.jpg\", bbox_inches='tight')"
   ]
  },
  {
   "cell_type": "code",
   "execution_count": null,
   "metadata": {},
   "outputs": [],
   "source": [
    "TICS_Salud['Restricc_AVD_Dolor'].plot()\n",
    "plt.savefig(\"../reports/Tendencias/Restricc_AVD_Dolor.jpg\", bbox_inches='tight')"
   ]
  },
  {
   "cell_type": "code",
   "execution_count": null,
   "metadata": {},
   "outputs": [],
   "source": [
    "TICS_Salud['Sobrepeso'].plot()\n",
    "plt.savefig(\"../reports/Tendencias/Sobrepeso.jpg\", bbox_inches='tight')"
   ]
  },
  {
   "cell_type": "code",
   "execution_count": null,
   "metadata": {},
   "outputs": [],
   "source": [
    "TICS_Salud['Migraña'].plot()\n",
    "plt.savefig(\"../reports/Tendencias/Migraña.jpg\", bbox_inches='tight')"
   ]
  },
  {
   "cell_type": "code",
   "execution_count": null,
   "metadata": {},
   "outputs": [],
   "source": [
    "TICS_Salud['Depresion'].plot()\n",
    "plt.savefig(\"../reports/Tendencias/Depresion.jpg\", bbox_inches='tight')"
   ]
  },
  {
   "cell_type": "code",
   "execution_count": null,
   "metadata": {},
   "outputs": [],
   "source": [
    "TICS_Salud['Ansiedad'].plot()\n",
    "plt.savefig(\"../reports/Tendencias/Ansiedad.jpg\", bbox_inches='tight')"
   ]
  },
  {
   "cell_type": "code",
   "execution_count": null,
   "metadata": {},
   "outputs": [],
   "source": [
    "TICS_Salud['Otros probl Salud_mental'].plot()\n",
    "plt.savefig(\"../reports/Tendencias/Otros probl Salud_mental.jpg\", bbox_inches='tight')"
   ]
  },
  {
   "cell_type": "code",
   "execution_count": null,
   "metadata": {},
   "outputs": [],
   "source": [
    "TICS_Salud['Salud_mental: Media'].plot()\n",
    "plt.savefig(\"../reports/Tendencias/Salud_mental: Media.jpg\", bbox_inches='tight')"
   ]
  },
  {
   "cell_type": "code",
   "execution_count": null,
   "metadata": {},
   "outputs": [],
   "source": [
    "TICS_Salud['Buena Salud'].plot()\n",
    "plt.savefig(\"../reports/Tendencias/Buena Salud.jpg\", bbox_inches='tight')"
   ]
  },
  {
   "cell_type": "code",
   "execution_count": null,
   "metadata": {},
   "outputs": [],
   "source": [
    "TICS_Salud['Salud Regular'].plot()\n",
    "plt.savefig(\"../reports/Tendencias/Salud Regular.jpg\", bbox_inches='tight')"
   ]
  },
  {
   "cell_type": "code",
   "execution_count": null,
   "metadata": {},
   "outputs": [],
   "source": [
    "TICS_Salud['Tension: alta'].plot()\n",
    "plt.savefig(\"../reports/Tendencias/Tension: alta.jpg\", bbox_inches='tight')"
   ]
  },
  {
   "cell_type": "code",
   "execution_count": null,
   "metadata": {},
   "outputs": [],
   "source": [
    "TICS_Salud['Renta_media_hogar'].plot()\n",
    "plt.savefig(\"../reports/Tendencias/Renta_media_hogar.jpg\", bbox_inches='tight')"
   ]
  },
  {
   "cell_type": "code",
   "execution_count": null,
   "metadata": {},
   "outputs": [],
   "source": [
    "TICS_Salud['Tasa_paro'].plot()\n",
    "plt.savefig(\"../reports/Tendencias/Tasa_paro.jpg\", bbox_inches='tight')"
   ]
  },
  {
   "cell_type": "code",
   "execution_count": null,
   "metadata": {},
   "outputs": [],
   "source": [
    "TICS_Salud['Indice_masculinidad'].plot()\n",
    "plt.savefig(\"../reports/Tendencias/Indice_masculinidad.jpg\", bbox_inches='tight')"
   ]
  },
  {
   "cell_type": "code",
   "execution_count": null,
   "metadata": {},
   "outputs": [],
   "source": [
    "TICS_Salud['Edad_25_59 años'].plot()\n",
    "plt.savefig(\"../reports/Tendencias/Edad_25_59 años.jpg\", bbox_inches='tight')"
   ]
  },
  {
   "cell_type": "code",
   "execution_count": null,
   "metadata": {},
   "outputs": [],
   "source": [
    "TICS_Salud['Educacion_superior'].plot()\n",
    "plt.savefig(\"../reports/Tendencias/Educacion_superior.jpg\", bbox_inches='tight')"
   ]
  },
  {
   "source": [
    "## Histogramas"
   ],
   "cell_type": "markdown",
   "metadata": {}
  },
  {
   "cell_type": "code",
   "execution_count": null,
   "metadata": {},
   "outputs": [],
   "source": [
    "plt.hist(x=TICS_Salud['Declaran acceso_internet_2017'], bins=5, color='#F2AB6D', rwidth=0.85)\n",
    "plt.title('Declaran acceso a internet: 2017')\n",
    "plt.xlabel('Declaran acceso a internet')\n",
    "plt.ylabel('Frecuencia')\n",
    "\n",
    "plt.savefig(\"../reports/Histograma/Declaran acceso_internet_.jpg\", bbox_inches='tight')"
   ]
  },
  {
   "cell_type": "code",
   "execution_count": null,
   "metadata": {},
   "outputs": [],
   "source": [
    "plt.hist(x=TICS_Salud['ADSL'], bins=5, color='#F2AB6D', rwidth=0.85)\n",
    "plt.title('Hogares con conexión ADSL')\n",
    "plt.xlabel('ADSL(%)')\n",
    "plt.ylabel('Frecuencia')\n",
    "\n",
    "plt.savefig(\"../reports/Histograma/ADSL_.jpg\", bbox_inches='tight')"
   ]
  },
  {
   "cell_type": "code",
   "execution_count": null,
   "metadata": {},
   "outputs": [],
   "source": [
    "plt.hist(x=TICS_Salud['cable_fibra optica'], bins=5, color='#F2AB6D', rwidth=0.85)\n",
    "plt.title('cable_fibra óptica (%)')\n",
    "plt.xlabel('cable_fibra óptica')\n",
    "plt.ylabel('Frecuencia')\n",
    "\n",
    "\n",
    "plt.savefig(\"../reports/Histograma/cable_fibra_optica.jpg\", bbox_inches='tight')"
   ]
  },
  {
   "cell_type": "code",
   "execution_count": null,
   "metadata": {},
   "outputs": [],
   "source": [
    "plt.hist(x=TICS_Salud['conexion movil_dispositivo_mano'], bins=5, color='#F2AB6D', rwidth=0.85)\n",
    "plt.title('conexion móvil_dispositivo_mano (%)')\n",
    "plt.xlabel('conexion móvil_dispositivo_mano')\n",
    "plt.ylabel('Frecuencia')\n",
    "\n",
    "plt.show()\n",
    "plt.savefig(\"../reports/Histograma/conexion móvil_dispositivo_mano.jpg\", bbox_inches='tight')"
   ]
  },
  {
   "cell_type": "code",
   "execution_count": null,
   "metadata": {},
   "outputs": [],
   "source": [
    "plt.hist(x=TICS_Salud['movil_USB'], bins=5, color='#F2AB6D', rwidth=0.85)\n",
    "plt.title('móvil_USB (%)')\n",
    "plt.xlabel('móvil_USB')\n",
    "plt.ylabel('Frecuencia')\n",
    "\n",
    "plt.savefig(\"../reports/Histograma/móvil_USB.jpg\", bbox_inches='tight')"
   ]
  },
  {
   "cell_type": "code",
   "execution_count": null,
   "metadata": {},
   "outputs": [],
   "source": [
    "plt.hist(x=TICS_Salud['Alguna Dificultad Conc'], bins=5, color='#F2AB6D', rwidth=0.85)\n",
    "plt.title('Alguna Dificultad Conc (%)')\n",
    "plt.xlabel('Alguna Dificultad Conc')\n",
    "plt.ylabel('Frecuencia')\n",
    "\n",
    "plt.savefig(\"../reports/Histograma/Alguna Dificultad Conc.jpg\", bbox_inches='tight')"
   ]
  },
  {
   "cell_type": "code",
   "execution_count": null,
   "metadata": {},
   "outputs": [],
   "source": [
    "plt.hist(x=TICS_Salud['Mucha Dificultad Conc'], bins=5, color='#F2AB6D', rwidth=0.85)\n",
    "plt.title('Mucha Dificultad Conc (%)')\n",
    "plt.xlabel('Mucha Dificultad Conc')\n",
    "plt.ylabel('Frecuencia')\n",
    "\n",
    "plt.savefig(\"../reports/Histograma/Mucha Dificultad Conc.jpg\", bbox_inches='tight')"
   ]
  },
  {
   "cell_type": "code",
   "execution_count": null,
   "metadata": {},
   "outputs": [],
   "source": [
    "plt.hist(x=TICS_Salud['Diabetes'], bins=5, color='#F2AB6D', rwidth=0.85)\n",
    "plt.title('Diabetes (%)')\n",
    "plt.xlabel('Diabetes')\n",
    "plt.ylabel('Frecuencia')\n",
    "\n",
    "plt.savefig(\"../reports/Histograma/Diabetes.jpg\", bbox_inches='tight')"
   ]
  },
  {
   "cell_type": "code",
   "execution_count": null,
   "metadata": {},
   "outputs": [],
   "source": [
    "plt.hist(x=TICS_Salud['Alguna Dificultad Ver'], bins=5, color='#F2AB6D', rwidth=0.85)\n",
    "plt.title('Alguna Dificultad Ver (%)')\n",
    "plt.xlabel('Alguna Dificultad Ver')\n",
    "plt.ylabel('Frecuencia')\n",
    "\n",
    "plt.savefig(\"../reports/Histograma/Alguna Dificultad Ver.jpg\", bbox_inches='tight')"
   ]
  },
  {
   "cell_type": "code",
   "execution_count": null,
   "metadata": {},
   "outputs": [],
   "source": [
    "plt.hist(x=TICS_Salud['Mucha Dificultad Ver'], bins=5, color='#F2AB6D', rwidth=0.85)\n",
    "plt.title('Mucha Dificultad Ver (%)')\n",
    "plt.xlabel('Mucha Dificultad Ver')\n",
    "plt.ylabel('Frecuencia')\n",
    "\n",
    "plt.savefig(\"../reports/Histograma/Mucha Dificultad Ver.jpg\", bbox_inches='tight')"
   ]
  },
  {
   "cell_type": "code",
   "execution_count": null,
   "metadata": {},
   "outputs": [],
   "source": [
    "plt.hist(x=TICS_Salud['Dolor espalda cronico cervical'], bins=5, color='#F2AB6D', rwidth=0.85)\n",
    "plt.title('Dolor espalda crónico cervical (%)')\n",
    "plt.xlabel('Dolor espalda crónico cervical')\n",
    "plt.ylabel('Frecuencia')\n",
    "\n",
    "plt.savefig(\"../reports/Histograma/Dolor espalda cronico cervical.jpg\", bbox_inches='tight')"
   ]
  },
  {
   "cell_type": "code",
   "execution_count": null,
   "metadata": {},
   "outputs": [],
   "source": [
    "plt.hist(x=TICS_Salud['Dolor espalda cronico lumbar'], bins=5, color='#F2AB6D', rwidth=0.85)\n",
    "plt.title('Dolor espalda crónico lumbar (%)')\n",
    "plt.xlabel('Dolor espalda crónico lumbar')\n",
    "plt.ylabel('Frecuencia')\n",
    "\n",
    "plt.savefig(\"../reports/Histograma/Dolor espalda cronico lumbar.jpg\", bbox_inches='tight')"
   ]
  },
  {
   "cell_type": "code",
   "execution_count": null,
   "metadata": {},
   "outputs": [],
   "source": [
    "plt.hist(x=TICS_Salud['Infarto_miocardio'], bins=5, color='#F2AB6D', rwidth=0.85)\n",
    "plt.title('Infarto_miocardio (%)')\n",
    "plt.xlabel('Infarto_miocardio')\n",
    "plt.ylabel('Frecuencia')\n",
    "\n",
    "plt.savefig(\"../reports/Histograma/Infarto_miocardio.jpg\", bbox_inches='tight')"
   ]
  },
  {
   "cell_type": "code",
   "execution_count": null,
   "metadata": {},
   "outputs": [],
   "source": [
    "plt.hist(x=TICS_Salud['Restricc_AVD_Dolor'], bins=5, color='#F2AB6D', rwidth=0.85)\n",
    "plt.title('Restricc_AVD_Dolor (%)')\n",
    "plt.xlabel('Restricc_AVD_Dolor')\n",
    "plt.ylabel('Frecuencia')\n",
    "\n",
    "plt.savefig(\"../reports/Histograma/Restricc_AVD_Dolor.jpg\", bbox_inches='tight')"
   ]
  },
  {
   "cell_type": "code",
   "execution_count": null,
   "metadata": {},
   "outputs": [],
   "source": [
    "plt.hist(x=TICS_Salud['Sobrepeso'], bins=5, color='#F2AB6D', rwidth=0.85)\n",
    "plt.title('Sobrepeso (%)')\n",
    "plt.xlabel('Sobrepeso')\n",
    "plt.ylabel('Frecuencia')\n",
    "\n",
    "plt.savefig(\"../reports/Histograma/Sobrepeso.jpg\", bbox_inches='tight')"
   ]
  },
  {
   "cell_type": "code",
   "execution_count": null,
   "metadata": {},
   "outputs": [],
   "source": [
    "plt.hist(x=TICS_Salud['Migraña'], bins=5, color='#F2AB6D', rwidth=0.85)\n",
    "plt.title('Migraña (%)')\n",
    "plt.xlabel('Migraña')\n",
    "plt.ylabel('Frecuencia')\n",
    "\n",
    "plt.savefig(\"../reports/Histograma/Migraña.jpg\", bbox_inches='tight')"
   ]
  },
  {
   "cell_type": "code",
   "execution_count": null,
   "metadata": {},
   "outputs": [],
   "source": [
    "plt.hist(x=TICS_Salud['Depresion'], bins=5, color='#F2AB6D', rwidth=0.85)\n",
    "plt.title('Depresión (%)')\n",
    "plt.xlabel('Depresión')\n",
    "plt.ylabel('Frecuencia')\n",
    "\n",
    "plt.savefig(\"../reports/Histograma/Depresion.jpg\", bbox_inches='tight')"
   ]
  },
  {
   "cell_type": "code",
   "execution_count": null,
   "metadata": {},
   "outputs": [],
   "source": [
    "plt.hist(x=TICS_Salud['Ansiedad'], bins=5, color='#F2AB6D', rwidth=0.85)\n",
    "plt.title('Ansiedad (%)')\n",
    "plt.xlabel('Ansiedad')\n",
    "plt.ylabel('Frecuencia')\n",
    "\n",
    "plt.savefig(\"../reports/Histograma/Ansiedad.jpg\", bbox_inches='tight')"
   ]
  },
  {
   "cell_type": "code",
   "execution_count": null,
   "metadata": {},
   "outputs": [],
   "source": [
    "plt.hist(x=TICS_Salud['Otros probl Salud_mental'], bins=5, color='#F2AB6D', rwidth=0.85)\n",
    "plt.title('Otros probl Salud_mental (%)')\n",
    "plt.xlabel('Otros probl Salud_mental')\n",
    "plt.ylabel('Frecuencia')\n",
    "\n",
    "plt.savefig(\"../reports/Histograma/Otros probl Salud_mental.jpg\", bbox_inches='tight')"
   ]
  },
  {
   "cell_type": "code",
   "execution_count": null,
   "metadata": {},
   "outputs": [],
   "source": [
    "plt.hist(x=TICS_Salud['Salud_mental: Media'], bins=5, color='#F2AB6D', rwidth=0.85)\n",
    "plt.title('Salud_mental: Media (%)')\n",
    "plt.xlabel('Salud_mental: Media')\n",
    "plt.ylabel('Frecuencia')\n",
    "\n",
    "plt.savefig(\"../reports/Histograma/Salud_mental: Media.jpg\", bbox_inches='tight')"
   ]
  },
  {
   "cell_type": "code",
   "execution_count": null,
   "metadata": {},
   "outputs": [],
   "source": [
    "plt.hist(x=TICS_Salud['Buena Salud'], bins=5, color='#F2AB6D', rwidth=0.85)\n",
    "plt.title('Buena Salud (%)')\n",
    "plt.xlabel('Buena Salud')\n",
    "plt.ylabel('Frecuencia')\n",
    "\n",
    "plt.savefig(\"../reports/Histograma/Buena Salud.jpg\", bbox_inches='tight')"
   ]
  },
  {
   "cell_type": "code",
   "execution_count": null,
   "metadata": {},
   "outputs": [],
   "source": [
    "plt.hist(x=TICS_Salud['Salud Regular'], bins=5, color='#F2AB6D', rwidth=0.85)\n",
    "plt.title('Salud Regular (%)')\n",
    "plt.xlabel('Salud Regular')\n",
    "plt.ylabel('Frecuencia')\n",
    "\n",
    "plt.savefig(\"../reports/Histograma/Salud Regular.jpg\", bbox_inches='tight')"
   ]
  },
  {
   "cell_type": "code",
   "execution_count": null,
   "metadata": {},
   "outputs": [],
   "source": [
    "plt.hist(x=TICS_Salud['Tension: alta'], bins=5, color='#F2AB6D', rwidth=0.85)\n",
    "plt.title('Tensión: alta (%)')\n",
    "plt.xlabel('Tensión: alta')\n",
    "plt.ylabel('Frecuencia')\n",
    "\n",
    "plt.savefig(\"../reports/Histograma/Tension: alta.jpg\", bbox_inches='tight')"
   ]
  },
  {
   "cell_type": "code",
   "execution_count": null,
   "metadata": {},
   "outputs": [],
   "source": [
    "plt.hist(x=TICS_Salud['Renta_media_hogar'], bins=5, color='#F2AB6D', rwidth=0.85)\n",
    "plt.title('Renta_media_hogar (%)')\n",
    "plt.xlabel('Renta_media_hogar')\n",
    "plt.ylabel('Frecuencia')\n",
    "\n",
    "plt.savefig(\"../reports/Histograma/Renta_media_hogar.jpg\", bbox_inches='tight')"
   ]
  },
  {
   "cell_type": "code",
   "execution_count": null,
   "metadata": {},
   "outputs": [],
   "source": [
    "plt.hist(x=TICS_Salud['Tasa_paro'], bins=5, color='#F2AB6D', rwidth=0.85)\n",
    "plt.title('Tasa_paro (%)')\n",
    "plt.xlabel('Tasa_paro')\n",
    "plt.ylabel('Frecuencia')\n",
    "\n",
    "plt.savefig(\"../reports/Histograma/Tasa_paro.jpg\", bbox_inches='tight')"
   ]
  },
  {
   "cell_type": "code",
   "execution_count": null,
   "metadata": {},
   "outputs": [],
   "source": [
    "plt.hist(x=TICS_Salud['Indice_masculinidad'], bins=5, color='#F2AB6D', rwidth=0.85)\n",
    "plt.title('Índice_masculinidad (%)')\n",
    "plt.xlabel('Índice_masculinidad')\n",
    "plt.ylabel('Frecuencia')\n",
    "\n",
    "plt.savefig(\"../reports/Histograma/Indice_masculinidad.jpg\", bbox_inches='tight')"
   ]
  },
  {
   "cell_type": "code",
   "execution_count": null,
   "metadata": {},
   "outputs": [],
   "source": [
    "plt.hist(x=TICS_Salud['Edad_25_59 años'], bins=5, color='#F2AB6D', rwidth=0.85)\n",
    "plt.title('Edad_25_59 años (%)')\n",
    "plt.xlabel('Edad_25_59 años')\n",
    "plt.ylabel('Frecuencia')\n",
    "\n",
    "plt.savefig(\"../reports/Histograma/Edad_25_59 años.jpg\", bbox_inches='tight')"
   ]
  },
  {
   "cell_type": "code",
   "execution_count": null,
   "metadata": {},
   "outputs": [],
   "source": [
    "plt.hist(x=TICS_Salud['Educacion_superior'], bins=5, color='#F2AB6D', rwidth=0.85)\n",
    "plt.title('Educación_superior (%)')\n",
    "plt.xlabel('Educacion_superior')\n",
    "plt.ylabel('Frecuencia')\n",
    "\n",
    "plt.savefig(\"../reports/Histograma/Educacion_superior.jpg\", bbox_inches='tight')"
   ]
  },
  {
   "source": [
    "# Análisis de datos"
   ],
   "cell_type": "markdown",
   "metadata": {}
  },
  {
   "cell_type": "code",
   "execution_count": null,
   "metadata": {},
   "outputs": [],
   "source": [
    "import pandas as pd\n",
    "import numpy as np\n",
    "import matplotlib.pyplot as plt\n",
    "import seaborn as sns"
   ]
  },
  {
   "source": [
    "## leeemos los archivos con los que vamos a trabajar"
   ],
   "cell_type": "markdown",
   "metadata": {}
  },
  {
   "cell_type": "code",
   "execution_count": null,
   "metadata": {},
   "outputs": [],
   "source": [
    "TICS_Salud = pd.read_csv(\"../Data/Base_completa.csv\", sep =',')\n",
    "TICS_Salud_Fisica = pd.read_csv(\"../data/Bases/TICS_Salud_Física.csv\", sep =',')\n",
    "TICS_Salud_Mental = pd.read_csv(\"../data/Bases/TICS_Salud_Mental.csv\", sep =',')\n",
    "TICS_Salud_Percibida = pd.read_csv(\"../data/Bases/TICS_Salud_Percibida.csv\", sep =',')\n",
    "TICS_Control = pd.read_csv(\"../data/Bases/TICS_Control.csv\", sep =',')"
   ]
  },
  {
   "source": [
    "## Hallamos la correlación de Salud percibida con las de tipo de conexión TICS"
   ],
   "cell_type": "markdown",
   "metadata": {}
  },
  {
   "cell_type": "code",
   "execution_count": null,
   "metadata": {},
   "outputs": [],
   "source": [
    "plt.subplots(figsize=(13, 10))\n",
    "sns.set(font_scale=1.5)\n",
    "sns.heatmap(TICS_Salud_Percibida.corr(),\n",
    "           vmin = -1,\n",
    "           vmax = 1,\n",
    "            annot = True,\n",
    "           linewidths = .5)\n",
    "\n",
    "plt.savefig(\"../reports/Análisis/Salud_percibida.jpg\", bbox_inches='tight')"
   ]
  },
  {
   "source": [
    "## Hallamos la correlación de cada grupo de variables (Física, mental y control) con las de TICS\n",
    "\n",
    "### Salud Física y TICS\n",
    "### Salud Mental y TICS\n",
    "### Control y TICS"
   ],
   "cell_type": "markdown",
   "metadata": {}
  },
  {
   "cell_type": "code",
   "execution_count": null,
   "metadata": {},
   "outputs": [],
   "source": [
    "TICS_Salud_Fisica.corr()"
   ]
  },
  {
   "cell_type": "code",
   "execution_count": null,
   "metadata": {},
   "outputs": [],
   "source": [
    "TICS_Salud_Mental.corr()"
   ]
  },
  {
   "cell_type": "code",
   "execution_count": null,
   "metadata": {},
   "outputs": [],
   "source": [
    "TICS_Control.corr()"
   ]
  },
  {
   "source": [
    "# Scatterplot de las CCAA en base a las variables TICS y de salud que correlacionan entre sí (Pearson >= .30)  "
   ],
   "cell_type": "markdown",
   "metadata": {}
  },
  {
   "cell_type": "code",
   "execution_count": null,
   "metadata": {},
   "outputs": [],
   "source": [
    "annotations=[\"Andalucía\",\"Aragón\",\"Asturias, Principado de\",\"Balears, Illes\",\"Canarias\",\"Cantabria\",\"Castilla y León\",\"Castilla-La Mancha\", \"Cataluña\",\"Ceuta\",\"Comunitat Valenciana\", \"Extremadura\",\"Galicia\",\"Madrid, Comunidad de\",\"Melilla\",\"Murcia, Región de\", \"Navarra, Comunidad Foral de\",\"País Vasco\",\"Rioja, La\", \"Total nacional\"]\n",
    "\n",
    "plt.figure(figsize=(25,8))\n",
    "plt.scatter(TICS_Salud_Fisica['cable_fibra optica'],TICS_Salud_Fisica['Dolor espalda cronico lumbar'], s=150,color=\"red\")\n",
    "plt.xlabel(\"cable_fibra optica\", fontsize = 20)\n",
    "plt.ylabel(\"Dolor de espalda crónico lumbar\", fontsize = 20)\n",
    "plt.title(\"Banda ancha con cable o fibra óptica y dolor de espalda crónico lumbar\",fontsize=25)\n",
    "plt.tick_params(labelsize = 15)\n",
    "for i, label in enumerate(annotations): \n",
    "    plt.text(TICS_Salud_Fisica['cable_fibra optica'][i], TICS_Salud_Fisica['Dolor espalda cronico lumbar'][i],label,fontsize = 15)\n",
    "\n",
    "plt.savefig(\"../reports/Análisis/Fibra_Optica_Dolor_lumbar.jpg\", bbox_inches='tight')\n",
    "\n",
    "plt.show()"
   ]
  },
  {
   "cell_type": "code",
   "execution_count": null,
   "metadata": {},
   "outputs": [],
   "source": [
    "annotations=[\"Andalucía\",\"Aragón\",\"Asturias, Principado de\",\"Balears, Illes\",\"Canarias\",\"Cantabria\",\"Castilla y León\",\"Castilla-La Mancha\", \"Cataluña\",\"Ceuta\",\"Comunitat Valenciana\", \"Extremadura\",\"Galicia\",\"Madrid, Comunidad de\",\"Melilla\",\"Murcia, Región de\", \"Navarra, Comunidad Foral de\",\"País Vasco\",\"Rioja, La\", \"Total nacional\"]\n",
    "\n",
    "plt.figure(figsize=(25,8))\n",
    "plt.scatter(TICS_Salud_Fisica['cable_fibra optica'],TICS_Salud_Fisica['Dolor espalda cronico cervical'], s=150,color=\"red\")\n",
    "plt.xlabel(\"cable_fibra óptica\", fontsize = 20)\n",
    "plt.ylabel(\"Dolor de espalda crónico cervical\", fontsize = 20)\n",
    "plt.title(\"Banda ancha con cable o fibra óptica y dolor de espalda crónico cervical\",fontsize=25)\n",
    "plt.tick_params(labelsize = 15)\n",
    "for i, label in enumerate(annotations):\n",
    "    plt.text(TICS_Salud_Fisica['cable_fibra optica'][i], TICS_Salud_Fisica['Dolor espalda cronico cervical'][i],label, fontsize = 15)\n",
    "\n",
    "\n",
    "plt.savefig(\"../reports/Análisis/Fibra_Optica_Dolor_cervical.jpg\", bbox_inches='tight')"
   ]
  },
  {
   "cell_type": "code",
   "execution_count": null,
   "metadata": {},
   "outputs": [],
   "source": [
    "annotations=[\"Andalucía\",\"Aragón\",\"Asturias, Principado de\",\"Balears, Illes\",\"Canarias\",\"Cantabria\",\"Castilla y León\",\"Castilla-La Mancha\", \"Cataluña\",\"Ceuta\",\"Comunitat Valenciana\", \"Extremadura\",\"Galicia\",\"Madrid, Comunidad de\",\"Melilla\",\"Murcia, Región de\", \"Navarra, Comunidad Foral de\",\"País Vasco\",\"Rioja, La\", \"Total nacional\"]\n",
    "\n",
    "plt.figure(figsize=(25,8))\n",
    "plt.scatter(TICS_Salud_Fisica['cable_fibra optica'],TICS_Salud_Fisica['Migraña'], s=150,color=\"red\")\n",
    "plt.xlabel(\"cable_fibra óptica\", fontsize = 20)\n",
    "plt.ylabel(\"Migraña\", fontsize=20)\n",
    "plt.title(\"Banda ancha con cable o fibra óptica y migraña\",fontsize=25)\n",
    "for i, label in enumerate(annotations):\n",
    "    plt.text(TICS_Salud_Fisica['cable_fibra optica'][i], TICS_Salud_Fisica['Migraña'][i],label, fontsize=15)\n",
    "plt.tick_params(labelsize = 15)\n",
    "\n",
    "plt.savefig(\"../reports/Análisis/Fibra_Optica_migraña.jpg\", bbox_inches='tight')"
   ]
  },
  {
   "cell_type": "code",
   "execution_count": null,
   "metadata": {},
   "outputs": [],
   "source": [
    "annotations=[\"Andalucía\",\"Aragón\",\"Asturias, Principado de\",\"Balears, Illes\",\"Canarias\",\"Cantabria\",\"Castilla y León\",\"Castilla-La Mancha\", \"Cataluña\",\"Ceuta\",\"Comunitat Valenciana\", \"Extremadura\",\"Galicia\",\"Madrid, Comunidad de\",\"Melilla\",\"Murcia, Región de\", \"Navarra, Comunidad Foral de\",\"País Vasco\",\"Rioja, La\", \"Total nacional\"]\n",
    "\n",
    "plt.figure(figsize=(25,8))\n",
    "plt.scatter(TICS_Salud_Fisica['cable_fibra optica'],TICS_Salud_Fisica['Sobrepeso'], s=150,color=\"red\")\n",
    "plt.xlabel(\"cable_fibra óptica\", fontsize = 20)\n",
    "plt.ylabel(\"Sobrepeso\", fontsize = 20)\n",
    "plt.title(\"Banda ancha con cable o fibra óptica y sobrepeso\",fontsize=25)\n",
    "for i, label in enumerate(annotations):\n",
    "    plt.text(TICS_Salud_Fisica['cable_fibra optica'][i], TICS_Salud_Fisica['Sobrepeso'][i],label, fontsize =15)\n",
    "plt.tick_params(labelsize=15)\n",
    "\n",
    "plt.savefig(\"../reports/Análisis/Fibra_Optica_Sobrepeso.jpg\", bbox_inches='tight')"
   ]
  },
  {
   "cell_type": "code",
   "execution_count": null,
   "metadata": {},
   "outputs": [],
   "source": [
    "annotations=[\"Andalucía\",\"Aragón\",\"Asturias, Principado de\",\"Balears, Illes\",\"Canarias\",\"Cantabria\",\"Castilla y León\",\"Castilla-La Mancha\", \"Cataluña\",\"Ceuta\",\"Comunitat Valenciana\", \"Extremadura\",\"Galicia\",\"Madrid, Comunidad de\",\"Melilla\",\"Murcia, Región de\", \"Navarra, Comunidad Foral de\",\"País Vasco\",\"Rioja, La\", \"Total nacional\"]\n",
    "\n",
    "plt.figure(figsize=(25,8))\n",
    "plt.scatter(TICS_Salud_Fisica['ADSL'],TICS_Salud_Fisica['Mucha Dificultad Ver'], s=100,color=\"blue\")\n",
    "plt.xlabel(\"ADSL\")\n",
    "plt.ylabel(\"Mucha Dificultad Ver\")\n",
    "plt.title(\"ADSL y Mucha Dificultad Ver\",fontsize=15)\n",
    "for i, label in enumerate(annotations):\n",
    "    plt.text(TICS_Salud_Fisica['ADSL'][i], TICS_Salud_Fisica['Mucha Dificultad Ver'][i],label)\n",
    "\n",
    "plt.savefig(\"../reports/Análisis/ADSL_Dificultad_ver.jpg\", bbox_inches='tight')\n"
   ]
  },
  {
   "cell_type": "code",
   "execution_count": null,
   "metadata": {},
   "outputs": [],
   "source": [
    "annotations=[\"Andalucía\",\"Aragón\",\"Asturias, Principado de\",\"Balears, Illes\",\"Canarias\",\"Cantabria\",\"Castilla y León\",\"Castilla-La Mancha\", \"Cataluña\",\"Ceuta\",\"Comunitat Valenciana\", \"Extremadura\",\"Galicia\",\"Madrid, Comunidad de\",\"Melilla\",\"Murcia, Región de\", \"Navarra, Comunidad Foral de\",\"País Vasco\",\"Rioja, La\", \"Total nacional\"]\n",
    "\n",
    "plt.figure(figsize=(25,8))\n",
    "plt.scatter(TICS_Salud_Fisica['conexion movil_dispositivo_mano'],TICS_Salud_Fisica['Mucha Dificultad Ver'], s=100,color=\"green\")\n",
    "plt.xlabel(\"conexion móvil_dispositivo_mano\")\n",
    "plt.ylabel(\"Mucha Dificultad Ver\")\n",
    "plt.title(\"Banda ancha con cable o fibra óptica y Mucha Dificultad Ver\",fontsize=15)\n",
    "for i, label in enumerate(annotations):\n",
    "    plt.text(TICS_Salud_Fisica['conexion movil_dispositivo_mano'][i], TICS_Salud_Fisica['Mucha Dificultad Ver'][i],label)\n",
    "\n",
    "plt.savefig(\"../reports/Análisis/Conexion_movil_Mano_Dificultad_ver.jpg\", bbox_inches='tight')\n"
   ]
  },
  {
   "cell_type": "code",
   "execution_count": null,
   "metadata": {},
   "outputs": [],
   "source": [
    "annotations=[\"Andalucía\",\"Aragón\",\"Asturias, Principado de\",\"Balears, Illes\",\"Canarias\",\"Cantabria\",\"Castilla y León\",\"Castilla-La Mancha\", \"Cataluña\",\"Ceuta\",\"Comunitat Valenciana\", \"Extremadura\",\"Galicia\",\"Madrid, Comunidad de\",\"Melilla\",\"Murcia, Región de\", \"Navarra, Comunidad Foral de\",\"País Vasco\",\"Rioja, La\", \"Total nacional\"]\n",
    "\n",
    "plt.figure(figsize=(25,8))\n",
    "plt.scatter(TICS_Salud_Mental['cable_fibra optica'],TICS_Salud_Mental['Depresion'], s=150,color=\"blue\")\n",
    "plt.xlabel(\"cable_fibra óptica\", fontsize = 20)\n",
    "plt.ylabel(\"Depresión\", fontsize = 20)\n",
    "plt.title(\"Banda ancha con cable o fibra óptica y depresión\",fontsize=25)\n",
    "for i, label in enumerate(annotations):\n",
    "    plt.text(TICS_Salud_Mental['cable_fibra optica'][i], TICS_Salud_Mental['Depresion'][i],label, fontsize =15)\n",
    "plt.tick_params(labelsize = 15)\n",
    "\n",
    "plt.savefig(\"../reports/Análisis/Fibra_Optica_Depresión.jpg\", bbox_inches='tight')\n"
   ]
  },
  {
   "cell_type": "code",
   "execution_count": null,
   "metadata": {},
   "outputs": [],
   "source": [
    "annotations=[\"Andalucía\",\"Aragón\",\"Asturias, Principado de\",\"Balears, Illes\",\"Canarias\",\"Cantabria\",\"Castilla y León\",\"Castilla-La Mancha\", \"Cataluña\",\"Ceuta\",\"Comunitat Valenciana\", \"Extremadura\",\"Galicia\",\"Madrid, Comunidad de\",\"Melilla\",\"Murcia, Región de\", \"Navarra, Comunidad Foral de\",\"País Vasco\",\"Rioja, La\", \"Total nacional\"]\n",
    "\n",
    "plt.figure(figsize=(25,8))\n",
    "plt.scatter(TICS_Salud_Mental['cable_fibra optica'],TICS_Salud_Mental['Otros probl Salud_mental'], s=100,color=\"blue\")\n",
    "plt.xlabel(\"cable_fibra óptica\", fontsize =20)\n",
    "plt.ylabel(\"Otros probl Salud_mental\", fontsize =20)\n",
    "plt.title(\"Banda ancha con cable o fibra óptica y otros probl Salud_mental\",fontsize=25)\n",
    "for i, label in enumerate(annotations):\n",
    "    plt.text(TICS_Salud_Mental['cable_fibra optica'][i], TICS_Salud_Mental['Otros probl Salud_mental'][i],label, fontsize =15)\n",
    "plt.tick_params (labelsize =15)\n",
    "\n",
    "plt.savefig(\"../reports/Análisis/Fibra_Óptica_Otros_probl_salud_mental.jpg\", bbox_inches='tight')"
   ]
  },
  {
   "source": [
    "# Desagregación de actividades realizadas en el EDA\n"
   ],
   "cell_type": "markdown",
   "metadata": {}
  },
  {
   "cell_type": "code",
   "execution_count": null,
   "metadata": {},
   "outputs": [],
   "source": [
    "import matplotlib.pyplot as plt\n",
    "\n",
    "Tiempo = [10,10,20,15,15,15,15]\n",
    "\n",
    "Actividades = 'Documentación','Búsqueda de bases','Data_wrangling', 'Data_Mining', 'Análisis', 'Visualización', 'Streamlist_Flask'\n",
    "plt.pie(Tiempo,labels=Actividades,autopct='%1.1f%%')\n",
    "plt.title('Tiempo dedicado a actividades EDA')\n",
    "plt.axis('equal')\n",
    "plt.show()\n",
    "\n",
    "plt.savefig(\"../reports/Tiempo_dedicado_EDA.jpg\", bbox_inches='tight')"
   ]
  }
 ]
}