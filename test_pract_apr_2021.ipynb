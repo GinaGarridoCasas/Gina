{
 "metadata": {
  "language_info": {
   "codemirror_mode": {
    "name": "ipython",
    "version": 3
   },
   "file_extension": ".py",
   "mimetype": "text/x-python",
   "name": "python",
   "nbconvert_exporter": "python",
   "pygments_lexer": "ipython3",
   "version": "3.8.9"
  },
  "orig_nbformat": 2,
  "kernelspec": {
   "name": "python389jvsc74a57bd07980ba124835d5faa10419b5aaaaec0d5be537aa3d05dd29d745d0092f32015f",
   "display_name": "Python 3.8.9 64-bit"
  },
  "metadata": {
   "interpreter": {
    "hash": "7980ba124835d5faa10419b5aaaaec0d5be537aa3d05dd29d745d0092f32015f"
   }
  }
 },
 "nbformat": 4,
 "nbformat_minor": 2,
 "cells": [
  {
   "source": [
    "# Test DS-FT April 2021\n",
    "\n"
   ],
   "cell_type": "markdown",
   "metadata": {}
  },
  {
   "source": [
    "## Primera parte (tipo test):\n",
    "\n",
    "https://forms.gle/24Eu5xuFGn6jNKpx9"
   ],
   "cell_type": "markdown",
   "metadata": {}
  },
  {
   "source": [
    "-----------------"
   ],
   "cell_type": "markdown",
   "metadata": {}
  },
  {
   "source": [
    "## Segunda parte, ejercicios prácticos:\n",
    "\n",
    "* El test práctico consta de 5 ejercicios puntuables. \n",
    "* Cada uno se puntúa sobre 2,5. \n",
    "* La máxima nota es 10.\n"
   ],
   "cell_type": "markdown",
   "metadata": {}
  },
  {
   "source": [
    "Antes de comenzar, cambia el nombre del archivo notebook poniéndole delante tu nombre y primer apellido:\n",
    "\n",
    "* nombre_apellido_test_pract_apr_2021.ipynb"
   ],
   "cell_type": "markdown",
   "metadata": {}
  },
  {
   "cell_type": "code",
   "execution_count": 1,
   "metadata": {},
   "outputs": [],
   "source": [
    "# Escribe tu nombre en la variable:\n",
    "nombre_y_apellidos = \"Gina Garrido\" "
   ]
  },
  {
   "source": [
    "#### Notas y pruebas de apoyo para contestar las preguntas tipo test\n",
    "Esto no es necesario usarlo aunque verlo aquí te puede dar la respuesta a alguna de las preguntas tipo test.\n",
    "\n",
    "Cualquier código aunque no esté correcto nos dirá más de ti que no escribir nada. "
   ],
   "cell_type": "markdown",
   "metadata": {}
  },
  {
   "cell_type": "code",
   "execution_count": null,
   "metadata": {},
   "outputs": [],
   "source": [
    "# Ejemplo de como queremos ver el código para más de un intento:\n",
    "\n",
    "# intento 1\n",
    "your code\n",
    "# intento 2\n",
    "your code"
   ]
  },
  {
   "cell_type": "code",
   "execution_count": 10,
   "metadata": {},
   "outputs": [],
   "source": [
    "# crea todas las celdas que necesites"
   ]
  },
  {
   "source": [
    "## Ejercicios prácticos"
   ],
   "cell_type": "markdown",
   "metadata": {}
  },
  {
   "source": [
    "#### Ejercicio 1.\n",
    "En este ejercicio se va a crear una lista con los siguientes elementos. Primero, crearemos las variables que luego añadiremos a la lista. Las variables son las siguientes:\n",
    "\n",
    "1. Crea una variable llamada `num_dni` de tipo Integer que represente el primer número de tu DNI. \n",
    "2. Crea una variable llamada `let_dni` de tipo String y que represente la letra de vuestro DNI.\n",
    "3. Crea una variable llamada `tip_ord` de tipo Boolean True si usas Windows y False si usas Mac.\n",
    "4. Crea una variable llamada `nada` de tipo None cuyo valor sea None.\n",
    "5. Crea una variable llamada `lista_deseo` de tipo List que contenga los cuatro objetos que te llevarías a una isla desierta. Cada elemento ha de ser de tipo String y el tamaño de la lista ha de ser 4.\n",
    "6. Crea una variable llamada `tupla_ropa` de tipo Tuple con la marca de la prenda superior, inferior y calzado que llevas puesto.\n",
    "7. Crea una variable llamada `dict_info` con dos keys y dos values. Una key es 'nombre', teniendo como value vuestro nombre. Otra key es 'edad', teniendo como value vuestra edad.\n",
    "8. Crea una variable llamada `flo_hor` con la hora actual separada por punto en vez de dos puntos. Ejemplo: si son las 10:06, el valor de la variable sería 10.06.\n",
    "\n",
    "Añade todos estos elementos en una lista llamada `lista_examen` en el orden de aparición."
   ],
   "cell_type": "markdown",
   "metadata": {}
  },
  {
   "cell_type": "code",
   "execution_count": 3,
   "metadata": {},
   "outputs": [],
   "source": [
    " # 1.1. \n",
    "\n",
    " num_dni = 1"
   ]
  },
  {
   "cell_type": "code",
   "execution_count": 4,
   "metadata": {},
   "outputs": [],
   "source": [
    "#1.2\n",
    "\n",
    "let_dni = \"H\""
   ]
  },
  {
   "cell_type": "code",
   "execution_count": 6,
   "metadata": {},
   "outputs": [],
   "source": [
    "#1.3\n",
    "tip_ord = True, False"
   ]
  },
  {
   "cell_type": "code",
   "execution_count": null,
   "metadata": {},
   "outputs": [],
   "source": [
    "#1.4 \n",
    "\n",
    "nada = None\n"
   ]
  },
  {
   "cell_type": "code",
   "execution_count": null,
   "metadata": {},
   "outputs": [],
   "source": [
    "#1.5\n",
    "\n",
    "lista_deseo = [\"libros\", \"cuchillo\", \"bloc_notas\", \"lapices\"]"
   ]
  },
  {
   "cell_type": "code",
   "execution_count": null,
   "metadata": {},
   "outputs": [],
   "source": [
    "#1.6\n",
    "\n",
    "tupla_ropa = (\"simorra\", \"levis\", \"parriego\")"
   ]
  },
  {
   "cell_type": "code",
   "execution_count": null,
   "metadata": {},
   "outputs": [],
   "source": [
    "# 1.7\n",
    "dict_info = {\"nombre\": \"Gina\", \"edad\": 57}"
   ]
  },
  {
   "cell_type": "code",
   "execution_count": null,
   "metadata": {},
   "outputs": [],
   "source": [
    "#1.8\n",
    "\n",
    "flor_hor = 10.20\n"
   ]
  },
  {
   "cell_type": "code",
   "execution_count": 7,
   "metadata": {},
   "outputs": [],
   "source": [
    "# Añade todos estos elementos en una lista llamada lista_examen en el orden de aparición.\n",
    "\n",
    "lista_examen = [1, \"H\",True, False, None, [\"libros\", \"cuchillo\", \"bloc_notas\", \"lapices\"], (\"simorra\", \"levis\", \"parriego\"),{\"nombre\": \"Gina\", \"edad\": 57}, 10.20] \n",
    "\n",
    "\n",
    "\n",
    "\n"
   ]
  },
  {
   "source": [
    "#### Ejercicio 2. \n",
    "\n",
    "Para resolver este ejercicio necesitarás la lista del ejercicio anterior (`lista_examen`). Se recomeinda leer cada punto hasta el final antes de resolver el ejercicio.\n",
    "\n",
    "Se repite para que quede aún más claro: **SOLO USAR LA VARIABLE** `lista_examen`. Usar las demás variables se calificará como error.  \n",
    "\n",
    "1. Mostrar por pantalla, sin uso de funciones ni bucles: \n",
    "    - El segundo elemento de `lista_deseo` desde `lista_examen`.\n",
    "    - El calzado que llevas puesto.\n",
    "    - Vuestro nombre.\n",
    "    - La hora almacenada concatenada con vuestra edad y el número de vuestro de DNI. No debe haber espacios entre la concatenación.\n",
    "    - Si tenéis más de 20 años, el primer número de vuestro DNI es mayor a 7 y usas Mac, mostrar la posición 5 de `lista_examen`.\n",
    "    "
   ],
   "cell_type": "markdown",
   "metadata": {}
  },
  {
   "cell_type": "code",
   "execution_count": 10,
   "metadata": {},
   "outputs": [
    {
     "output_type": "execute_result",
     "data": {
      "text/plain": [
       "'cuchillo'"
      ]
     },
     "metadata": {},
     "execution_count": 10
    }
   ],
   "source": [
    "# tu respuesta aquí\n",
    "\n",
    "lista_examen = [1, \"H\", True, False, None, [\"libros\", \"cuchillo\", \"bloc_notas\", \"lapices\"], (\"simorra\", \"levis\", \"parriego\"), {\"nombre\": \"Gina\", \"edad\": 57}, 10.20]\n",
    "\n",
    "\n",
    "# El segundo elemento de lista_deseo desde lista_examen.\n",
    "\n",
    "lista_examen [5][1]\n"
   ]
  },
  {
   "cell_type": "code",
   "execution_count": 11,
   "metadata": {},
   "outputs": [
    {
     "output_type": "execute_result",
     "data": {
      "text/plain": [
       "'parriego'"
      ]
     },
     "metadata": {},
     "execution_count": 11
    }
   ],
   "source": [
    "# El calzado que llevas puesto.\n",
    "\n",
    "lista_examen[6][2]\n"
   ]
  },
  {
   "cell_type": "code",
   "execution_count": 52,
   "metadata": {},
   "outputs": [
    {
     "output_type": "error",
     "ename": "KeyError",
     "evalue": "0",
     "traceback": [
      "\u001b[1;31m---------------------------------------------------------------------------\u001b[0m",
      "\u001b[1;31mKeyError\u001b[0m                                  Traceback (most recent call last)",
      "\u001b[1;32m<ipython-input-52-8355e81f18ea>\u001b[0m in \u001b[0;36m<module>\u001b[1;34m\u001b[0m\n\u001b[0;32m      1\u001b[0m \u001b[1;31m# Vuestro nombre\u001b[0m\u001b[1;33m\u001b[0m\u001b[1;33m\u001b[0m\u001b[1;33m\u001b[0m\u001b[0m\n\u001b[1;32m----> 2\u001b[1;33m \u001b[0mlista_examen\u001b[0m\u001b[1;33m[\u001b[0m\u001b[1;36m7\u001b[0m\u001b[1;33m]\u001b[0m\u001b[1;33m[\u001b[0m\u001b[1;36m0\u001b[0m\u001b[1;33m]\u001b[0m\u001b[1;33m.\u001b[0m\u001b[0mvalues\u001b[0m\u001b[1;33m(\u001b[0m\u001b[1;33m)\u001b[0m\u001b[1;33m\u001b[0m\u001b[1;33m\u001b[0m\u001b[0m\n\u001b[0m\u001b[0;32m      3\u001b[0m \u001b[1;33m\u001b[0m\u001b[0m\n\u001b[0;32m      4\u001b[0m \u001b[1;33m\u001b[0m\u001b[0m\n\u001b[0;32m      5\u001b[0m \u001b[1;33m\u001b[0m\u001b[0m\n",
      "\u001b[1;31mKeyError\u001b[0m: 0"
     ]
    }
   ],
   "source": [
    "# Vuestro nombre\n",
    "lista_examen[7][0].values()\n",
    "\n",
    "\n",
    "\n",
    "\n"
   ]
  },
  {
   "cell_type": "code",
   "execution_count": 41,
   "metadata": {},
   "outputs": [
    {
     "output_type": "stream",
     "name": "stdout",
     "text": [
      "<class 'str'>\n<class 'str'>\n10.21\n"
     ]
    }
   ],
   "source": [
    "# La hora almacenada concatenada con vuestra edad y el número de vuestro de DNI. No debe haber espacios entre la concatenación.\n",
    "\n",
    "lista_examen = [1, \"H\", True, False, None, [\"libros\", \"cuchillo\", \"bloc_notas\", \"lapices\"], (\"simorra\", \"levis\", \"parriego\"), {\"nombre\": \"Gina\", \"edad\": 57}, 10.20]\n",
    "\n",
    "hora = str(lista_examen[8])\n",
    "print(type (hora))\n",
    "numero_dni = str(lista_examen[0])\n",
    "print (type(numero_dni))\n",
    "\n",
    "concat = hora + numero_dni\n",
    "print (concatenados)\n",
    "\n",
    "\n"
   ]
  },
  {
   "cell_type": "code",
   "execution_count": null,
   "metadata": {},
   "outputs": [],
   "source": [
    "# Si tenéis más de 20 años, el primer número de vuestro DNI es mayor a 7 y usas Mac, mostrar la posición 5 de lista_examen.\n",
    "\n"
   ]
  },
  {
   "source": [
    "2. Mostrar por pantalla, con uso de un bucle `for`:\n",
    "    - Todos los elementos de `lista_examen`.\n",
    "    - Todos los elementos de `lista_deseo` desde `lista_examen`.\n",
    "    - Todos los elementos que ocupen una posición menor a 4 en `lista_examen`.\n"
   ],
   "cell_type": "markdown",
   "metadata": {}
  },
  {
   "cell_type": "code",
   "execution_count": 37,
   "metadata": {},
   "outputs": [
    {
     "output_type": "stream",
     "name": "stdout",
     "text": [
      "1\nH\nTrue\nFalse\nNone\n['libros', 'cuchillo', 'bloc_notas', 'lapices']\n('simorra', 'levis', 'parriego')\n{'nombre': 'Gina', 'edad': 57}\n10.2\n"
     ]
    }
   ],
   "source": [
    "# tu respuesta aquí\n",
    "\n",
    "for i in lista_examen:\n",
    "    print (i)"
   ]
  },
  {
   "cell_type": "code",
   "execution_count": 38,
   "metadata": {},
   "outputs": [
    {
     "output_type": "stream",
     "name": "stdout",
     "text": [
      "libros\ncuchillo\nbloc_notas\nlapices\n"
     ]
    }
   ],
   "source": [
    "for i in lista_examen[5]:\n",
    "    print (i)"
   ]
  },
  {
   "cell_type": "code",
   "execution_count": 40,
   "metadata": {},
   "outputs": [
    {
     "output_type": "stream",
     "name": "stdout",
     "text": [
      "1\nH\nTrue\nFalse\nNone\n"
     ]
    }
   ],
   "source": [
    "for i in lista_examen[0:5]:\n",
    "    print(i)"
   ]
  },
  {
   "source": [
    "3. Mostrar por pantalla, con uso de un bucle while: \n",
    "    - Todos los elementos de `tupla_ropa` seguido de la cadena `\"-->\"` y la `posición` (int) que ocupa en la tupla accediendo desde `lista_examen`. Se aconseja utilizar *`enumerate`*.\n",
    "    - Cada key de `dict_info` seguido de la cadena \":\" seguido de su value desde `lista_examen`."
   ],
   "cell_type": "markdown",
   "metadata": {}
  },
  {
   "cell_type": "code",
   "execution_count": 47,
   "metadata": {},
   "outputs": [
    {
     "output_type": "stream",
     "name": "stdout",
     "text": [
      "simorra ---> 0\nlevis ---> 1\nparriego ---> 2\n"
     ]
    }
   ],
   "source": [
    "# tu respuesta aquí\n",
    "\n",
    "lista_examen = [1, \"H\", True, False, None, [\"libros\", \"cuchillo\", \"bloc_notas\", \"lapices\"], (\"simorra\", \"levis\", \"parriego\"), {\"nombre\": \"Gina\", \"edad\": 57}, 10.20]\n",
    "\n",
    "\n",
    "for i, elem in enumerate(lista_examen[6]):\n",
    "    while i <len(lista_examen[6]):\n",
    "        print (f'{elem} ---> {i}')\n",
    "        break\n",
    "\n",
    "\n",
    "\n",
    "\n",
    "\n",
    "\n",
    "\n",
    "\n"
   ]
  },
  {
   "cell_type": "code",
   "execution_count": 61,
   "metadata": {},
   "outputs": [
    {
     "output_type": "error",
     "ename": "AttributeError",
     "evalue": "'str' object has no attribute 'keys'",
     "traceback": [
      "\u001b[1;31m---------------------------------------------------------------------------\u001b[0m",
      "\u001b[1;31mAttributeError\u001b[0m                            Traceback (most recent call last)",
      "\u001b[1;32m<ipython-input-61-0a52b3d1528d>\u001b[0m in \u001b[0;36m<module>\u001b[1;34m\u001b[0m\n\u001b[0;32m      2\u001b[0m     \u001b[1;32mwhile\u001b[0m \u001b[0mi\u001b[0m \u001b[1;33m<\u001b[0m \u001b[0mlen\u001b[0m\u001b[1;33m(\u001b[0m\u001b[0mlista_examen\u001b[0m\u001b[1;33m[\u001b[0m\u001b[1;36m7\u001b[0m\u001b[1;33m]\u001b[0m\u001b[1;33m)\u001b[0m\u001b[1;33m:\u001b[0m\u001b[1;33m\u001b[0m\u001b[1;33m\u001b[0m\u001b[0m\n\u001b[0;32m      3\u001b[0m         \u001b[0mlist\u001b[0m\u001b[1;33m(\u001b[0m\u001b[0melem\u001b[0m\u001b[1;33m)\u001b[0m\u001b[1;33m\u001b[0m\u001b[1;33m\u001b[0m\u001b[0m\n\u001b[1;32m----> 4\u001b[1;33m         \u001b[0mprint\u001b[0m \u001b[1;33m(\u001b[0m\u001b[1;34mf' {elem.keys()} : {elem.values()}'\u001b[0m\u001b[1;33m)\u001b[0m\u001b[1;33m\u001b[0m\u001b[1;33m\u001b[0m\u001b[0m\n\u001b[0m\u001b[0;32m      5\u001b[0m \u001b[1;33m\u001b[0m\u001b[0m\n\u001b[0;32m      6\u001b[0m \u001b[1;33m\u001b[0m\u001b[0m\n",
      "\u001b[1;31mAttributeError\u001b[0m: 'str' object has no attribute 'keys'"
     ]
    }
   ],
   "source": [
    "\n",
    "for i, elem in enumerate(lista_examen[7]):\n",
    "    while i < len(lista_examen[7]):\n",
    "       print (f' {elem.keys()} : {elem.values()}')\n",
    "\n",
    "\n",
    "\n"
   ]
  },
  {
   "cell_type": "code",
   "execution_count": 62,
   "metadata": {},
   "outputs": [
    {
     "output_type": "stream",
     "name": "stdout",
     "text": [
      "['nombre', 'edad']\n"
     ]
    },
    {
     "output_type": "error",
     "ename": "AttributeError",
     "evalue": "'str' object has no attribute 'keys'",
     "traceback": [
      "\u001b[1;31m---------------------------------------------------------------------------\u001b[0m",
      "\u001b[1;31mAttributeError\u001b[0m                            Traceback (most recent call last)",
      "\u001b[1;32m<ipython-input-62-81bf3fb57a26>\u001b[0m in \u001b[0;36m<module>\u001b[1;34m\u001b[0m\n\u001b[0;32m      7\u001b[0m     \u001b[1;32mwhile\u001b[0m \u001b[0mi\u001b[0m \u001b[1;33m<\u001b[0m \u001b[0mlen\u001b[0m\u001b[1;33m(\u001b[0m\u001b[0mlista_examen\u001b[0m\u001b[1;33m[\u001b[0m\u001b[1;36m7\u001b[0m\u001b[1;33m]\u001b[0m\u001b[1;33m)\u001b[0m\u001b[1;33m:\u001b[0m\u001b[1;33m\u001b[0m\u001b[1;33m\u001b[0m\u001b[0m\n\u001b[0;32m      8\u001b[0m \u001b[1;33m\u001b[0m\u001b[0m\n\u001b[1;32m----> 9\u001b[1;33m        \u001b[0mprint\u001b[0m \u001b[1;33m(\u001b[0m\u001b[1;34mf' {elem.keys()} : {elem.values()}'\u001b[0m\u001b[1;33m)\u001b[0m\u001b[1;33m\u001b[0m\u001b[1;33m\u001b[0m\u001b[0m\n\u001b[0m",
      "\u001b[1;31mAttributeError\u001b[0m: 'str' object has no attribute 'keys'"
     ]
    }
   ],
   "source": [
    "dict_info_1 = list(lista_examen[7])\n",
    "print (dict_info_1)\n",
    "\n",
    "\n",
    "\n",
    "for i, elem in enumerate(lista_examen[7]):\n",
    "    while i < len(lista_examen[7]):\n",
    "\n",
    "       print (f' {elem.keys()} : {elem.values()}')"
   ]
  },
  {
   "source": [
    "#### Ejercicio 3. \n",
    "\n",
    "Crea una función `ejercicio_3` que reciba un parámetro `arg1`. Este argumento se utilizará como la lista de tuplas con nombres de los alumnos y alturas de clase. La función ha de retornar la misma lista de tuplas pero sin la tupla que contiene tu nombre. La tupla que contiene tu nombre ha de encontrarse a través del **valor del String** con tu nombre. Es decir, la función borrará la tupla con tu nombre tanto si está en la primera posición, como en la posición N o la última. La función mostrará por pantalla la tupla modificada.\n",
    "\n",
    "**Notas:** \n",
    "\n",
    "*- La lista de nombres y alturas está al final del notebook*\n",
    "\n",
    "*- Añade la tupla con tu nombre y altura si no apareces en la lista* \n",
    "\n",
    "Ejemplos de llamada a la función y lo que devuelve la función en el caso en el que me llamo 'Manuel Alfonso' y con esta 'lista_nombres_alturas':"
   ],
   "cell_type": "markdown",
   "metadata": {}
  },
  {
   "cell_type": "code",
   "execution_count": 7,
   "metadata": {},
   "outputs": [
    {
     "output_type": "stream",
     "name": "stdout",
     "text": [
      "[('Jonathan Abbondanza', 1.7), ('Nacho Fontal', 1.82)]\n"
     ]
    }
   ],
   "source": [
    "# NO EJECUTAR ESTA CELDA\n",
    "lista_nombres_alturas = [(\"Manuel Alfonso\", 1.75),(\"Jonathan Abbondanza\",  1.70),(\"Nacho Fontal\", 1.82)]\n",
    "ejercicio_3(arg1=lista_nombres_alturas)"
   ]
  },
  {
   "cell_type": "code",
   "execution_count": 9,
   "metadata": {},
   "outputs": [
    {
     "output_type": "stream",
     "name": "stdout",
     "text": [
      "[('Jonathan Abbondanza', 1.7), ('Nacho Fontal', 1.82)]\n"
     ]
    }
   ],
   "source": [
    "# NO EJECUTAR ESTA CELDA\n",
    "lista_nombres_alturas = [(\"Jonathan Abbondanza\",  1.70),(\"Manuel Alfonso\", 1.75),(\"Nacho Fontal\", 1.82)]\n",
    "ejercicio_3(arg1=lista_nombres_alturas)"
   ]
  },
  {
   "cell_type": "code",
   "execution_count": 68,
   "metadata": {},
   "outputs": [
    {
     "output_type": "error",
     "ename": "SyntaxError",
     "evalue": "invalid syntax (<ipython-input-68-4499e37df1ac>, line 7)",
     "traceback": [
      "\u001b[1;36m  File \u001b[1;32m\"<ipython-input-68-4499e37df1ac>\"\u001b[1;36m, line \u001b[1;32m7\u001b[0m\n\u001b[1;33m    if i == \"Gina Garrido\"\u001b[0m\n\u001b[1;37m                          ^\u001b[0m\n\u001b[1;31mSyntaxError\u001b[0m\u001b[1;31m:\u001b[0m invalid syntax\n"
     ]
    }
   ],
   "source": [
    "# tu respuesta aquí\n",
    "lista_nombres_alturas = [(\"Gabriel Vázquez\", 1.75),(\"Jonathan Abbondanza\",  1.70),(\"Nacho Fontal\", 1.82),(\"Javier Araiz\", 1.80),('Jonathan Suarez', 1.86),('Sonia Cobo', 1.73), ('Jorge García', 1.79), (\"Mary Meza\", 1.52), ('Leonardo Frazzetto', 1.75), (\"Nacho Astorga\",1.78),(\"José Carlos Batista\",1.70), (\"Isabel Palomares\", 1.78),(\"Marina Serrano\", 1.54), (\"Daniel Walker\", 1.87), (\"Clara Piniella\", 1.66), (\"Gina Garrido\", 1.63), (\"Adrià Gallardo\", 1.70), (\"María García-Maroto\", 1.64), (\"Susana Vázquez\",1.80), (\"Mauro Garcia-Oliva\", 1.77), (\"Juan Bayon\", 1.64), (\"Miguel Barquero\", 1.85), (\"Borja Puig\", 1.82), (\"Pablo Martínez\", 1.81), (\"Xinru Yang\", 1.60),(\"Pablo Díez\", 1.84),(\"Karina Inche\",1.61)]\n",
    "\n",
    "#retornar la misma lista de tuplas pero sin la tupla que contiene tu nombre\n",
    "def ejercicio_3(arg1):\n",
    "    for i in arg1:\n",
    "        if i == \"Gina Garrido\"\n",
    "        remove(i)\n",
    "        print (arg1)\n",
    "        return arg1\n",
    "\n",
    "ejercicio_3(lista_nombres_alturas)\n",
    "\n",
    "\n"
   ]
  },
  {
   "cell_type": "code",
   "execution_count": 66,
   "metadata": {},
   "outputs": [
    {
     "output_type": "error",
     "ename": "SyntaxError",
     "evalue": "invalid syntax (<ipython-input-66-0aafe25bea9e>, line 3)",
     "traceback": [
      "\u001b[1;36m  File \u001b[1;32m\"<ipython-input-66-0aafe25bea9e>\"\u001b[1;36m, line \u001b[1;32m3\u001b[0m\n\u001b[1;33m    if i[0] = \"Gina Garrido\"\u001b[0m\n\u001b[1;37m            ^\u001b[0m\n\u001b[1;31mSyntaxError\u001b[0m\u001b[1;31m:\u001b[0m invalid syntax\n"
     ]
    }
   ],
   "source": [
    "def ejercicio_3(arg1):\n",
    "    for i in arg1:\n",
    "        if i[0] = \"Gina Garrido\"\n",
    "        remove(i)\n",
    "        print (arg1)\n",
    "        return arg1\n",
    "\n",
    "ejercicio_3(lista_nombres_alturas)\n",
    "\n"
   ]
  },
  {
   "cell_type": "code",
   "execution_count": 79,
   "metadata": {},
   "outputs": [
    {
     "output_type": "stream",
     "name": "stdout",
     "text": [
      "[('Gabriel Vázquez', 1.75), ('Jonathan Abbondanza', 1.7), ('Nacho Fontal', 1.82), ('Javier Araiz', 1.8), ('Jonathan Suarez', 1.86), ('Sonia Cobo', 1.73), ('Jorge García', 1.79), ('Mary Meza', 1.52), ('Leonardo Frazzetto', 1.75), ('Nacho Astorga', 1.78), ('José Carlos Batista', 1.7), ('Isabel Palomares', 1.78), ('Marina Serrano', 1.54), ('Daniel Walker', 1.87), ('Clara Piniella', 1.66), ('Gina Garrido', 1.63), ('Adrià Gallardo', 1.7), ('María García-Maroto', 1.64), ('Susana Vázquez', 1.8), ('Mauro Garcia-Oliva', 1.77), ('Juan Bayon', 1.64), ('Miguel Barquero', 1.85), ('Borja Puig', 1.82), ('Pablo Martínez', 1.81), ('Xinru Yang', 1.6), ('Pablo Díez', 1.84), ('Karina Inche', 1.61)]\n[('Gabriel Vázquez', 1.75), ('Jonathan Abbondanza', 1.7), ('Nacho Fontal', 1.82), ('Javier Araiz', 1.8), ('Jonathan Suarez', 1.86), ('Sonia Cobo', 1.73), ('Jorge García', 1.79), ('Mary Meza', 1.52), ('Leonardo Frazzetto', 1.75), ('Nacho Astorga', 1.78), ('José Carlos Batista', 1.7), ('Isabel Palomares', 1.78), ('Marina Serrano', 1.54), ('Daniel Walker', 1.87), ('Clara Piniella', 1.66), ('Gina Garrido', 1.63), ('Adrià Gallardo', 1.7), ('María García-Maroto', 1.64), ('Susana Vázquez', 1.8), ('Mauro Garcia-Oliva', 1.77), ('Juan Bayon', 1.64), ('Miguel Barquero', 1.85), ('Borja Puig', 1.82), ('Pablo Martínez', 1.81), ('Xinru Yang', 1.6), ('Pablo Díez', 1.84), ('Karina Inche', 1.61)]\n"
     ]
    }
   ],
   "source": [
    "lista_nombres_alturas = [(\"Gabriel Vázquez\", 1.75),(\"Jonathan Abbondanza\",  1.70),(\"Nacho Fontal\", 1.82),(\"Javier Araiz\", 1.80),('Jonathan Suarez', 1.86),('Sonia Cobo', 1.73), ('Jorge García', 1.79), (\"Mary Meza\", 1.52), ('Leonardo Frazzetto', 1.75), (\"Nacho Astorga\",1.78),(\"José Carlos Batista\",1.70), (\"Isabel Palomares\", 1.78),(\"Marina Serrano\", 1.54), (\"Daniel Walker\", 1.87), (\"Clara Piniella\", 1.66), (\"Gina Garrido\", 1.63), (\"Adrià Gallardo\", 1.70), (\"María García-Maroto\", 1.64), (\"Susana Vázquez\",1.80), (\"Mauro Garcia-Oliva\", 1.77), (\"Juan Bayon\", 1.64), (\"Miguel Barquero\", 1.85), (\"Borja Puig\", 1.82), (\"Pablo Martínez\", 1.81), (\"Xinru Yang\", 1.60),(\"Pablo Díez\", 1.84),(\"Karina Inche\",1.61)]\n",
    "\n",
    "\n",
    "def ejercicio_3(arg1):\n",
    "    for i in arg1:\n",
    "        if \"Gina Garrido\" in i:\n",
    "            arg1.pop(i)\n",
    "        print (arg1)\n",
    "        return arg1\n",
    "\n",
    "lista_nombres_alturas_1 = ejercicio_3(lista_nombres_alturas)\n",
    "print (lista_nombres_alturas_1)\n",
    "\n"
   ]
  },
  {
   "source": [
    "-------------------------------------"
   ],
   "cell_type": "markdown",
   "metadata": {}
  },
  {
   "cell_type": "code",
   "execution_count": 85,
   "metadata": {},
   "outputs": [
    {
     "output_type": "error",
     "ename": "TypeError",
     "evalue": "'tuple' object cannot be interpreted as an integer",
     "traceback": [
      "\u001b[1;31m---------------------------------------------------------------------------\u001b[0m",
      "\u001b[1;31mTypeError\u001b[0m                                 Traceback (most recent call last)",
      "\u001b[1;32m<ipython-input-85-22bfedd3a49d>\u001b[0m in \u001b[0;36m<module>\u001b[1;34m\u001b[0m\n\u001b[0;32m      9\u001b[0m             \u001b[1;32mreturn\u001b[0m \u001b[0marg1\u001b[0m\u001b[1;33m\u001b[0m\u001b[1;33m\u001b[0m\u001b[0m\n\u001b[0;32m     10\u001b[0m \u001b[1;33m\u001b[0m\u001b[0m\n\u001b[1;32m---> 11\u001b[1;33m \u001b[0mlista_nombres_alturas_1\u001b[0m \u001b[1;33m=\u001b[0m \u001b[0mejercicio_3\u001b[0m\u001b[1;33m(\u001b[0m\u001b[0mlista_nombres_alturas\u001b[0m\u001b[1;33m)\u001b[0m\u001b[1;33m\u001b[0m\u001b[1;33m\u001b[0m\u001b[0m\n\u001b[0m\u001b[0;32m     12\u001b[0m \u001b[0mprint\u001b[0m \u001b[1;33m(\u001b[0m\u001b[0mlista_nombres_alturas_1\u001b[0m\u001b[1;33m)\u001b[0m\u001b[1;33m\u001b[0m\u001b[1;33m\u001b[0m\u001b[0m\n",
      "\u001b[1;32m<ipython-input-85-22bfedd3a49d>\u001b[0m in \u001b[0;36mejercicio_3\u001b[1;34m(arg1)\u001b[0m\n\u001b[0;32m      5\u001b[0m     \u001b[1;32mfor\u001b[0m \u001b[0mi\u001b[0m \u001b[1;32min\u001b[0m \u001b[0marg1\u001b[0m\u001b[1;33m:\u001b[0m\u001b[1;33m\u001b[0m\u001b[1;33m\u001b[0m\u001b[0m\n\u001b[0;32m      6\u001b[0m         \u001b[1;32mif\u001b[0m \u001b[1;34m\"Gina Garrido\"\u001b[0m \u001b[1;32min\u001b[0m \u001b[0mi\u001b[0m\u001b[1;33m:\u001b[0m\u001b[1;33m\u001b[0m\u001b[1;33m\u001b[0m\u001b[0m\n\u001b[1;32m----> 7\u001b[1;33m             \u001b[0marg1\u001b[0m\u001b[1;33m.\u001b[0m\u001b[0mpop\u001b[0m\u001b[1;33m(\u001b[0m\u001b[0mi\u001b[0m\u001b[1;33m)\u001b[0m\u001b[1;33m\u001b[0m\u001b[1;33m\u001b[0m\u001b[0m\n\u001b[0m\u001b[0;32m      8\u001b[0m             \u001b[0mprint\u001b[0m \u001b[1;33m(\u001b[0m\u001b[0marg1\u001b[0m\u001b[1;33m)\u001b[0m\u001b[1;33m\u001b[0m\u001b[1;33m\u001b[0m\u001b[0m\n\u001b[0;32m      9\u001b[0m             \u001b[1;32mreturn\u001b[0m \u001b[0marg1\u001b[0m\u001b[1;33m\u001b[0m\u001b[1;33m\u001b[0m\u001b[0m\n",
      "\u001b[1;31mTypeError\u001b[0m: 'tuple' object cannot be interpreted as an integer"
     ]
    }
   ],
   "source": [
    "lista_nombres_alturas = [(\"Gabriel Vázquez\", 1.75),(\"Jonathan Abbondanza\",  1.70),(\"Nacho Fontal\", 1.82),(\"Javier Araiz\", 1.80),('Jonathan Suarez', 1.86),('Sonia Cobo', 1.73), ('Jorge García', 1.79), (\"Mary Meza\", 1.52), ('Leonardo Frazzetto', 1.75), (\"Nacho Astorga\",1.78),(\"José Carlos Batista\",1.70), (\"Isabel Palomares\", 1.78),(\"Marina Serrano\", 1.54), (\"Daniel Walker\", 1.87), (\"Clara Piniella\", 1.66), (\"Gina Garrido\", 1.63), (\"Adrià Gallardo\", 1.70), (\"María García-Maroto\", 1.64), (\"Susana Vázquez\",1.80), (\"Mauro Garcia-Oliva\", 1.77), (\"Juan Bayon\", 1.64), (\"Miguel Barquero\", 1.85), (\"Borja Puig\", 1.82), (\"Pablo Martínez\", 1.81), (\"Xinru Yang\", 1.60),(\"Pablo Díez\", 1.84),(\"Karina Inche\",1.61)]\n",
    "\n",
    "def ejercicio_3(arg1):\n",
    "    for i in arg1:\n",
    "        if \"Gina Garrido\" in i:\n",
    "            arg1.pop(i)\n",
    "            print (arg1)\n",
    "            return arg1\n",
    "\n",
    "lista_nombres_alturas_1 = ejercicio_3(lista_nombres_alturas)\n",
    "print (lista_nombres_alturas_1)\n"
   ]
  },
  {
   "cell_type": "code",
   "execution_count": null,
   "metadata": {},
   "outputs": [],
   "source": [
    "lista_nombres_alturas = [(\"Gabriel Vázquez\", 1.75),(\"Jonathan Abbondanza\",  1.70),(\"Nacho Fontal\", 1.82),(\"Javier Araiz\", 1.80),('Jonathan Suarez', 1.86),('Sonia Cobo', 1.73), ('Jorge García', 1.79), (\"Mary Meza\", 1.52), ('Leonardo Frazzetto', 1.75), (\"Nacho Astorga\",1.78),(\"José Carlos Batista\",1.70), (\"Isabel Palomares\", 1.78),(\"Marina Serrano\", 1.54), (\"Daniel Walker\", 1.87), (\"Clara Piniella\", 1.66), (\"Gina Garrido\", 1.63), (\"Adrià Gallardo\", 1.70), (\"María García-Maroto\", 1.64), (\"Susana Vázquez\",1.80), (\"Mauro Garcia-Oliva\", 1.77), (\"Juan Bayon\", 1.64), (\"Miguel Barquero\", 1.85), (\"Borja Puig\", 1.82), (\"Pablo Martínez\", 1.81), (\"Xinru Yang\", 1.60),(\"Pablo Díez\", 1.84),(\"Karina Inche\",1.61)]\n",
    "\n",
    "def ejercicio_3(arg1):\n",
    "    for i in arg1:\n",
    "        if \"Gina Garrido\" in i:\n",
    "            arg1.pop(i)\n",
    "            print (arg1)\n",
    "            return arg1\n",
    "\n",
    "lista_nombres_alturas_1 = ejercicio_3(lista_nombres_alturas)\n",
    "print (lista_nombres_alturas_1)\n"
   ]
  },
  {
   "source": [
    "#### Ejercicio 4. \n",
    "\n",
    "Escribe una función `reverse_number` que reciba dos parámetros. Los parámetros son `cadena` y `n`. `cadena` será un string y `n` un entero. La función debe retornar un string que sea el string `cadena` al revés y que tenga concatenado el número `n` por cada caracter de `cadena`.  \n",
    "\n",
    "\n",
    "**No se permite:**\n",
    "- Usar la función built-in `reverse`\n",
    "- Pasar el string `cadena` a otro tipo de variable (como list)* \n",
    "- Usar el `string slicing` [[::-1]]\n",
    "\n",
    "Ejemplos de llamada a la función y lo que devuelve la función:\n",
    "\n",
    "--------\n",
    "\n",
    ">> print(reverse_number(cadena=\"aloh\", n=3))\n",
    "\n",
    ">>> h3o3l3a3\n",
    "\n",
    "--------\n",
    "\n",
    ">> print(reverse_number(cadena=\"otipep\", n=85))\n",
    "\n",
    ">>> p85e85p85i85t85o85\n",
    "\n",
    "\n",
    "\n"
   ],
   "cell_type": "markdown",
   "metadata": {}
  },
  {
   "source": [
    "#### Ejercicio 5:\n",
    " Crea una función `ejercicio_5` que reciba dos parámetros `arg1` y `arg2`. `arg1` es la misma lista de tuplas con los nombres y alturas que la del ejercicio 3 y `arg2` representa un nombre. \n",
    "Crea un programa que pida al usuario *indefinidamente* un nombre y, cada vez que lo introduzca, intente borrar de `arg1` la tupla con el nombre introducido usando la función `ejercicio_5`:\n",
    "\n",
    "1. Si existe el nombre `arg2` dentro de la `arg1` la función mostrará por pantalla la tupla modificada\n",
    "\n",
    "2. Si el nombre `arg2` no está en la lista `arg1` la función mostrará por pantalla el string \"Ese \n",
    "nombre no está dentro de la lista\"\n",
    "\n",
    "3. Solo en el caso en el que el usuario escriba la palabra *'STOP'* se parará el programa.\n",
    "\n",
    "**Notas:** \n",
    "\n",
    "*- La lista de nombres y alturas está al final del notebook*\n",
    "\n",
    "*- Añade la tupla con tu nombre y altura si no apareces en la lista*  "
   ],
   "cell_type": "markdown",
   "metadata": {}
  },
  {
   "cell_type": "code",
   "execution_count": 1,
   "metadata": {},
   "outputs": [
    {
     "output_type": "execute_result",
     "data": {
      "text/plain": [
       "[('Gabriel Vázquez', 1.75),\n",
       " ('Jonathan Abbondanza', 1.7),\n",
       " ('Nacho Fontal', 1.82),\n",
       " ('Javier Araiz', 1.8),\n",
       " ('Jonathan Suarez', 1.86),\n",
       " ('Sonia Cobo', 1.73),\n",
       " ('Jorge García', 1.79),\n",
       " ('Mary Meza', 1.52),\n",
       " ('Leonardo Frazzetto', 1.75),\n",
       " ('Nacho Astorga', 1.78),\n",
       " ('José Carlos Batista', 1.7),\n",
       " ('Isabel Palomares', 1.78),\n",
       " ('Marina Serrano', 1.54),\n",
       " ('Daniel Walker', 1.87),\n",
       " ('Clara Piniella', 1.66),\n",
       " ('Gina Garrido', 1.63),\n",
       " ('Adrià Gallardo', 1.7),\n",
       " ('María García-Maroto', 1.64),\n",
       " ('Susana Vázquez', 1.8),\n",
       " ('Mauro Garcia-Oliva', 1.77),\n",
       " ('Juan Bayon', 1.64),\n",
       " ('Miguel Barquero', 1.85),\n",
       " ('Borja Puig', 1.82),\n",
       " ('Pablo Martínez', 1.81),\n",
       " ('Xinru Yang', 1.6),\n",
       " ('Pablo Díez', 1.84),\n",
       " ('Karina Inche', 1.61)]"
      ]
     },
     "metadata": {},
     "execution_count": 1
    }
   ],
   "source": [
    "# La lista a usar del ejercicio 3 y 5. Recuerda añadir la tupla con tu información si no está. \n",
    "\n",
    "lista_nombres_alturas = [(\"Gabriel Vázquez\", 1.75),(\"Jonathan Abbondanza\",  1.70),(\"Nacho Fontal\", 1.82),(\"Javier Araiz\", 1.80),('Jonathan Suarez', 1.86),('Sonia Cobo', 1.73), ('Jorge García', 1.79), (\"Mary Meza\", 1.52), ('Leonardo Frazzetto', 1.75), (\"Nacho Astorga\",1.78),(\"José Carlos Batista\",1.70), (\"Isabel Palomares\", 1.78),(\"Marina Serrano\", 1.54), (\"Daniel Walker\", 1.87), (\"Clara Piniella\", 1.66), (\"Gina Garrido\", 1.63), (\"Adrià Gallardo\", 1.70), (\"María García-Maroto\", 1.64), (\"Susana Vázquez\",1.80), (\"Mauro Garcia-Oliva\", 1.77), (\"Juan Bayon\", 1.64), (\"Miguel Barquero\", 1.85), (\"Borja Puig\", 1.82), (\"Pablo Martínez\", 1.81), (\"Xinru Yang\", 1.60),(\"Pablo Díez\", 1.84),(\"Karina Inche\",1.61)]\n",
    "\n",
    "lista_nombres_alturas"
   ]
  }
 ]
}