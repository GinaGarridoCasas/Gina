{
 "cells": [
  {
   "cell_type": "markdown",
   "metadata": {},
   "source": [
    "# Python | day 6 | dictionaries"
   ]
  },
  {
   "cell_type": "markdown",
   "metadata": {},
   "source": [
    "Dictionaries are used to store data values in key:value pairs.\n",
    "\n",
    "A dictionary is a collection which is unordered, changeable and does not allow duplicates.\n",
    "\n",
    "Dictionaries are written with curly brackets, and have keys and values:"
   ]
  },
  {
   "cell_type": "markdown",
   "metadata": {},
   "source": [
    "```python\n",
    "thisdict = {\n",
    "  \"brand\": \"Ford\",\n",
    "  \"model\": \"Mustang\",\n",
    "  \"year\": 1964\n",
    "}\n",
    "```"
   ]
  },
  {
   "cell_type": "markdown",
   "metadata": {},
   "source": [
    "https://www.w3schools.com/python/python_dictionaries.asp"
   ]
  },
  {
   "cell_type": "markdown",
   "metadata": {},
   "source": [
    "### Exercise 1. \n",
    "\n",
    "1. Create a dictionary with an integer 5 as the key and \"val\" as its value."
   ]
  },
  {
   "cell_type": "code",
   "execution_count": 1,
   "metadata": {},
   "outputs": [],
   "source": [
    "dic ={\"val\":5}"
   ]
  },
  {
   "cell_type": "markdown",
   "metadata": {},
   "source": [
    "2. Create two lists: one that has 4 city names and another that has 4 landmarks in the city."
   ]
  },
  {
   "cell_type": "code",
   "execution_count": 16,
   "metadata": {},
   "outputs": [],
   "source": [
    "city = [\"Almería\", \"Madrid\", \"Bilbao\", \"Cáceres\" ]\n",
    "landmarks = [\"Alcazaba\", \"El Prado\", \"Guggenheim\", \"Torre de Bujaco\" ]\n"
   ]
  },
  {
   "cell_type": "markdown",
   "metadata": {},
   "source": [
    "3. Create a dictionary where the cities contained in the first list are the **keys** and the landmarks are the **values**.\n",
    "```python\n",
    "#example\n",
    "places = {\"Malaga\": \"Gibralfaro\", \n",
    "         \"Madrid\": \"Templo de Debod\",\n",
    "         \"Granada\": \"La Alcazaba\",\n",
    "         \"Barcelona\": \"Sagrada Familia\"}\n",
    "```"
   ]
  },
  {
   "cell_type": "code",
   "execution_count": 12,
   "metadata": {},
   "outputs": [],
   "source": [
    "lugares_ver = {\"Almería\": \"Alcazaba\", \"Madrid\": \"El Prado\", \"Bilbao\": \"Guggenheim\", \"Cáceres\": \"Torre de Bujaco\"}"
   ]
  },
  {
   "cell_type": "markdown",
   "metadata": {},
   "source": [
    "4. Loop through the dictionary and print only the values of those keys starting with the letter **M**.\n",
    "\n",
    "https://realpython.com/iterate-through-dictionary-python/"
   ]
  },
  {
   "cell_type": "code",
   "execution_count": 15,
   "metadata": {},
   "outputs": [
    {
     "output_type": "stream",
     "name": "stdout",
     "text": [
      "Almería\nMadrid\nBilbao\nCáceres\n"
     ]
    }
   ],
   "source": [
    "for value in lugares_ver:\n",
    "    print (value)\n",
    "   "
   ]
  },
  {
   "cell_type": "markdown",
   "metadata": {},
   "source": [
    "5. Create a function that receives two lists `list1` and `list2` by parameter and returns a dictionary with each element of `list1` as keys and the elements of `list2` as values. Call the function with the lists you have created before to return the same dictionary you've created in question 3. "
   ]
  },
  {
   "cell_type": "code",
   "execution_count": 57,
   "metadata": {},
   "outputs": [
    {
     "output_type": "stream",
     "name": "stdout",
     "text": [
      "{'Almería': 'Alcazaba', 'Madrid': 'El Prado', 'Bilbao': 'Guggenheim', 'Cáceres': 'Torre de Bujaco'}\n"
     ]
    }
   ],
   "source": [
    "list1 = [\"Almería\", \"Madrid\", \"Bilbao\", \"Cáceres\" ]\n",
    "list2 = [\"Alcazaba\", \"El Prado\", \"Guggenheim\", \"Torre de Bujaco\" ]\n",
    "\n",
    "lugares_ver= {}\n",
    "for key in list1:\n",
    "    for value in list2:\n",
    "        lugares_ver[key] = value\n",
    "        list2.remove(value)\n",
    "        break\n",
    "print (lugares_ver)\n",
    "    \n",
    "\n",
    "            \n",
    "\n",
    "  \n",
    "   \n",
    "\n",
    "    \n",
    "\n",
    "\n",
    "\n",
    "\n"
   ]
  },
  {
   "cell_type": "markdown",
   "metadata": {},
   "source": [
    "### Exercise 2. "
   ]
  },
  {
   "cell_type": "markdown",
   "metadata": {},
   "source": [
    "1. Create an empty dictionary called dog."
   ]
  },
  {
   "cell_type": "code",
   "execution_count": 40,
   "metadata": {},
   "outputs": [],
   "source": [
    "dog = { }"
   ]
  },
  {
   "cell_type": "markdown",
   "metadata": {},
   "source": [
    "2. Add name, color, breed, legs, age to the dog dictionary."
   ]
  },
  {
   "cell_type": "code",
   "execution_count": 41,
   "metadata": {},
   "outputs": [],
   "source": [
    "dog = {\"name\": \"Frida\", \"color\": \"gris_marrón\", \"breed\": \"Beagle\", \"age\": 1}"
   ]
  },
  {
   "cell_type": "markdown",
   "metadata": {},
   "source": [
    "3. Create a student dictionary and add first_name, last_name, age, skills, country, city and address as keys for the dictionary.\n"
   ]
  },
  {
   "cell_type": "code",
   "execution_count": 68,
   "metadata": {},
   "outputs": [],
   "source": [
    "student_dic = {\"first_name\": \"Gina\", \"last_name\": \"Garrido\", \"age\": 57, \"skills\": \"natación\" , \"country\": \"España\", \"city\": \"Madrid\", \"address\": \"Herrera Oria\"}"
   ]
  },
  {
   "cell_type": "markdown",
   "metadata": {},
   "source": [
    "4. Get the length of the student dictionary.\n"
   ]
  },
  {
   "cell_type": "code",
   "execution_count": 44,
   "metadata": {},
   "outputs": [
    {
     "output_type": "execute_result",
     "data": {
      "text/plain": [
       "7"
      ]
     },
     "metadata": {},
     "execution_count": 44
    }
   ],
   "source": [
    "len(student_dic)"
   ]
  },
  {
   "cell_type": "markdown",
   "metadata": {},
   "source": [
    "5. Get the value of skills and check the data type, it should be a list."
   ]
  },
  {
   "cell_type": "code",
   "execution_count": 61,
   "metadata": {},
   "outputs": [
    {
     "output_type": "execute_result",
     "data": {
      "text/plain": [
       "list"
      ]
     },
     "metadata": {},
     "execution_count": 61
    }
   ],
   "source": [
    "valor_skills = list(student_dic.get(\"skills\"))\n",
    "type(valor_skills)\n",
    "    "
   ]
  },
  {
   "cell_type": "markdown",
   "metadata": {},
   "source": [
    "6. Modify the skills values by adding one or two skills."
   ]
  },
  {
   "cell_type": "code",
   "execution_count": 84,
   "metadata": {},
   "outputs": [
    {
     "output_type": "stream",
     "name": "stdout",
     "text": [
      "{'first_name': 'Gina', 'last_name': 'Garrido', 'age': 57, 'country': 'España', 'city': 'Madrid', 'skills': 'cocinar'}\n"
     ]
    }
   ],
   "source": [
    "student_dic.update ({\"skills\": \"cocinar\"})\n",
    "print (student_dic)"
   ]
  },
  {
   "cell_type": "markdown",
   "metadata": {},
   "source": [
    "7. Get the dictionary keys as a list."
   ]
  },
  {
   "cell_type": "code",
   "execution_count": 72,
   "metadata": {},
   "outputs": [
    {
     "output_type": "stream",
     "name": "stdout",
     "text": [
      "dict_keys(['first_name', 'last_name', 'age', 'skills', 'country', 'city', 'address'])\n"
     ]
    }
   ],
   "source": [
    "lista_keys = student_dic.keys()\n",
    "print (lista_keys)"
   ]
  },
  {
   "cell_type": "markdown",
   "metadata": {},
   "source": [
    "8. Get the dictionary values as a list.\n"
   ]
  },
  {
   "cell_type": "code",
   "execution_count": 75,
   "metadata": {},
   "outputs": [
    {
     "output_type": "stream",
     "name": "stdout",
     "text": [
      "dict_values(['Gina', 'Garrido', 57, 'natación', 'España', 'Madrid', 'Herrera Oria'])\n"
     ]
    }
   ],
   "source": [
    "lista_values = student_dic.values()\n",
    "print(lista_values)"
   ]
  },
  {
   "cell_type": "markdown",
   "metadata": {},
   "source": [
    "9. Change the dictionary to a list of tuples using `items()` method"
   ]
  },
  {
   "cell_type": "code",
   "execution_count": 76,
   "metadata": {},
   "outputs": [
    {
     "output_type": "stream",
     "name": "stdout",
     "text": [
      "dict_items([('first_name', 'Gina'), ('last_name', 'Garrido'), ('age', 57), ('skills', 'natación'), ('country', 'España'), ('city', 'Madrid'), ('address', 'Herrera Oria')])\n"
     ]
    }
   ],
   "source": [
    "lista_tuplas = student_dic.items()\n",
    "print(lista_tuplas)"
   ]
  },
  {
   "cell_type": "markdown",
   "metadata": {},
   "source": [
    "10. Delete one of the items in the dictionary.\n"
   ]
  },
  {
   "cell_type": "code",
   "execution_count": 81,
   "metadata": {},
   "outputs": [
    {
     "output_type": "stream",
     "name": "stdout",
     "text": [
      "{'first_name': 'Gina', 'last_name': 'Garrido', 'age': 57, 'country': 'España', 'city': 'Madrid'}\n"
     ]
    }
   ],
   "source": [
    "del student_dic [\"skills\"]\n",
    "print (student_dic)"
   ]
  },
  {
   "cell_type": "markdown",
   "metadata": {},
   "source": [
    "### Bonus Track"
   ]
  },
  {
   "cell_type": "markdown",
   "metadata": {},
   "source": [
    "**Tómate un zumito a tu salud.**"
   ]
  },
  {
   "cell_type": "markdown",
   "metadata": {},
   "source": [
    "!['daughter'](https://i.pinimg.com/originals/8f/35/28/8f35281e742e71be09697e7e6789b819.png)"
   ]
  },
  {
   "cell_type": "code",
   "execution_count": null,
   "metadata": {},
   "outputs": [],
   "source": []
  }
 ],
 "metadata": {
  "kernelspec": {
   "name": "python389jvsc74a57bd07980ba124835d5faa10419b5aaaaec0d5be537aa3d05dd29d745d0092f32015f",
   "display_name": "Python 3.8.9 64-bit"
  },
  "language_info": {
   "codemirror_mode": {
    "name": "ipython",
    "version": 3
   },
   "file_extension": ".py",
   "mimetype": "text/x-python",
   "name": "python",
   "nbconvert_exporter": "python",
   "pygments_lexer": "ipython3",
   "version": "3.8.9-final"
  },
  "metadata": {
   "interpreter": {
    "hash": "7980ba124835d5faa10419b5aaaaec0d5be537aa3d05dd29d745d0092f32015f"
   }
  }
 },
 "nbformat": 4,
 "nbformat_minor": 2
}