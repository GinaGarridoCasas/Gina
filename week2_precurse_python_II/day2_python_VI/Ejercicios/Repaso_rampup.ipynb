{
 "cells": [
  {
   "cell_type": "markdown",
   "metadata": {},
   "source": [
    "## 🐍 Ramp-up\n",
    "\n",
    "Note: The bold words are instructions for you to know how to solve the exercises below that word. For example, if it says **for loop** you should use at least a for loop in order to solve the exercise. "
   ]
  },
  {
   "cell_type": "markdown",
   "metadata": {},
   "source": [
    "#### Collections\n",
    "1. Create a tuple as follows (10,2,27,8)\n",
    "2. Get the lenght of the tuple\n",
    "3. Which type is it? And which type are the elements the tuple contains?\n",
    "4. Create a new tuple with any other 4 strings and concatenate all of them with the tuple you created before by position, creating a list called `words`.\n",
    "5. Make a list with the same elements in question 1. Find the element 27 and make it 37.\n",
    "6. Remove the number 8 from the list.\n",
    "7. Turn the list you made before into a set.\n",
    "8. Check if the element \"3\" is in that set.\n",
    "9. Sort the list you made in exercise 4 in descending order.\n",
    "10. Turn the list `words` into a dictionary. Split every string taking the number in the tuple (10,2,27,8) as the values and the rest as the keys.\n",
    "11. Sum up the values of the new dictionary.\n",
    "12. Sort the values of the dictionary in descending order and the keys in ascending order, then make a list of tuples with every couple of keys and values by position."
   ]
  },
  {
   "cell_type": "code",
   "execution_count": 5,
   "metadata": {},
   "outputs": [
    {
     "output_type": "stream",
     "name": "stdout",
     "text": [
      "<class 'int'>\n<class 'int'>\n<class 'int'>\n<class 'int'>\n['10lunes', '2martes', '27miércoles', '8jueves']\nno está incluido el 3 en el conjunto\n"
     ]
    }
   ],
   "source": [
    "# 1. \n",
    "tupla = (10, 2, 27, 8)\n",
    "\n",
    "# 2. \n",
    "len(tupla)\n",
    "\n",
    "# 3. \n",
    "type(tupla)\n",
    "\n",
    "for i in tupla:\n",
    "    print(type(i))\n",
    "\n",
    "# 4. Create a new tuple with any other 4 strings and concatenate all of them with the tuple you created before by position, creating a list called words.\n",
    "tupla = (10, 2, 27, 8)\n",
    "tupla1 = (\"lunes\", \"martes\", \"miércoles\", \"jueves\")\n",
    "\n",
    "tupla_lista = list(tupla)\n",
    "tupla1_lista = list(tupla1)\n",
    "\n",
    "words = []\n",
    "for i in range(len(tupla_lista)):\n",
    "    word = str(tupla_lista[i]) + tupla1_lista[i]\n",
    "    words.append(word)\n",
    "\n",
    "print(words)\n",
    "\n",
    "# 5.\n",
    "lista = [10, 2, 27, 8]\n",
    "lista[2] = 37\n",
    "\n",
    "# 6. \n",
    "lista.remove(8)\n",
    "\n",
    "#7. \n",
    "lista_set = set(lista)\n",
    "\n",
    "# 8. Check if the element \"3\" is in that set.\n",
    "\n",
    "if 3 in lista_set:\n",
    "    print (\"sí está incluido el 3 en el conjunto\")\n",
    "else:\n",
    "    print (\"no está incluido el 3 en el conjunto\")\n",
    "        \n",
    "\n",
    "\n",
    "# 9. Sort the list you made in exercise 4 in descending order.\n",
    "\n",
    "tupla2 = list(tupla1)\n",
    "tupla2 = tupla2[::-1]\n",
    "\n",
    "\n",
    "\n"
   ]
  },
  {
   "cell_type": "code",
   "execution_count": 12,
   "metadata": {},
   "outputs": [
    {
     "output_type": "execute_result",
     "data": {
      "text/plain": [
       "{'lunes': 10, 'martes': 2, 'miercoles': 27, 'jueves': 8}"
      ]
     },
     "metadata": {},
     "execution_count": 12
    }
   ],
   "source": [
    "\n",
    "# 10. Turn the list words into a d+ictionary. Split every string taking the number in the tuple (10,2,27,8) as the values and the rest as the keys.\n",
    "\n",
    "\n",
    "words = [\"10lunes\", \"2martes\", \"27miercoles\", \"8jueves\"]\n",
    "\n",
    "dictionary = {}\n",
    "\n",
    "for e in words:\n",
    "    dic_key = \"\"\n",
    "    dic_val = \"\"\n",
    "    for letra in e:\n",
    "        if letra.isnumeric():\n",
    "            dic_val += letra\n",
    "        else:\n",
    "            dic_key += letra\n",
    "    dictionary[dic_key] = int(dic_val)\n",
    "\n",
    "dictionary\n",
    "\n",
    "\n"
   ]
  },
  {
   "cell_type": "code",
   "execution_count": 20,
   "metadata": {},
   "outputs": [
    {
     "output_type": "stream",
     "name": "stdout",
     "text": [
      "la suma de los valores de diccionario es: 47\n"
     ]
    }
   ],
   "source": [
    "# 11. Sum up the values of the new dictionary.\n",
    "\n",
    "diccionario_suma = 0\n",
    "for i in dictionary.values():\n",
    "    diccionario_suma += i\n",
    "    \n",
    "print (f'la suma de los valores de diccionario es: {diccionario_suma}')"
   ]
  },
  {
   "cell_type": "code",
   "execution_count": 3,
   "metadata": {},
   "outputs": [
    {
     "output_type": "execute_result",
     "data": {
      "text/plain": [
       "[('jueves', 27), ('lunes', 10), ('martes', 8), ('miercoles', 2)]"
      ]
     },
     "metadata": {},
     "execution_count": 3
    }
   ],
   "source": [
    "# 12. Sort the values of the dictionary in descending order and the keys in ascending order, then make a list of tuples with every couple of keys and values by position.\n",
    "\n",
    "dictionary = {'lunes': 10, 'martes': 2, 'miercoles': 27, 'jueves': 8}\n",
    "\n",
    "#desagregar las claves y valores del diccionario en dos listas, una de keys y otra de values\n",
    "\n",
    "dic_keys= list(dictionary.keys())\n",
    "dic_values = list(dictionary.values())\n",
    "\n",
    "#ordenar en orden ascendente las keys\n",
    "\n",
    "dic_keys_ascend= sorted(dic_keys)\n",
    "\n",
    "#ordenar en orden descendente los values\n",
    "dic_values_descend= sorted(dic_values, reverse=True)\n",
    "\n",
    "# make a list of tuples with every couple of keys and values by position.\n",
    "# Esta última parte la he mirado en las soluciones. \n",
    "\n",
    "\"\"\" una lista vacía se va rellenando con los elementos de la iteración teniendo en cuenta la posición que tiene cada elemento en cada una de las listas de las que se parte \"\"\"\n",
    "\n",
    "\n",
    "dict_tupla = []\n",
    "for i, elem in enumerate(dic_keys_ascend):\n",
    "    dict_tupla.append((elem, dic_values_descend[i]))\n",
    "\n",
    "dict_tupla\n",
    "\n",
    "\n",
    "\n",
    "\n",
    "\n",
    "\n",
    "\n",
    "\n",
    "\n",
    "\n",
    "\n",
    "\n"
   ]
  },
  {
   "cell_type": "markdown",
   "metadata": {},
   "source": [
    "#### Dictionaries\n",
    "\n",
    "1. Make a dictionary containing three major rivers and the country each river runs through. One key-value pair might be 'nile': 'egypt'.\n",
    "\n",
    "    - Use a loop to print a sentence about each river, such as The Nile runs through Egypt.\n",
    "    - Use a loop to print the name of each river included in the dictionary.\n",
    "    - Use a loop to print the name of each country included in the dictionary."
   ]
  },
  {
   "cell_type": "code",
   "execution_count": 82,
   "metadata": {},
   "outputs": [
    {
     "output_type": "stream",
     "name": "stdout",
     "text": [
      "El Tajo pasa por España\nEl Orinoco pasa por Venezuela\nEl Nilo pasa por Egipto\ndict_keys(['Tajo', 'Orinoco', 'Nilo'])\ndict_values(['España', 'Venezuela', 'Egipto'])\n"
     ]
    }
   ],
   "source": [
    "ríos = {\"Tajo\" : \"España\", \"Orinoco\": \"Venezuela\", \"Nilo\": \"Egipto\"}\n",
    "\n",
    "# loop to print a sentence about each river, such as The Nile runs through Egypt.\n",
    "for key in ríos:\n",
    "    if key == \"Tajo\":\n",
    "        print (\"El Tajo pasa por España\")\n",
    "    elif key == \"Orinoco\":\n",
    "        print (\"El Orinoco pasa por Venezuela\")\n",
    "    elif key == \"Nilo\":\n",
    "        print (\"El Nilo pasa por Egipto\")\n",
    "    \n",
    "# Use a loop to print the name of each river included in the dictionary.\n",
    "for key in ríos:\n",
    "    nombres= ríos.keys()\n",
    "    print(nombres)\n",
    "    break\n",
    "\n",
    "# Use a loop to print the name of each country included in the dictionary.\n",
    "\n",
    "for value in ríos:\n",
    "    países = ríos.values()\n",
    "    print(países)\n",
    "    break\n"
   ]
  },
  {
   "cell_type": "markdown",
   "metadata": {},
   "source": [
    "2. Use the provided dictionary that shows some coders and their favoites languages.\n",
    "```Python\n",
    "favorite_languages = {\n",
    "    'jen': 'python',\n",
    "    'sarah': 'c',\n",
    "    'edward': 'ruby',\n",
    "    'phil': 'python',\n",
    "    }\n",
    "```\n",
    "\n",
    "    - Make a list of people who should take the favorite languages poll. Include some names that are already in the dictionary and some that are not.\n",
    "    - Loop through the list of people who should take the poll. If they have already taken the poll, print a message thanking them for responding. If they have not yet taken the poll, print a message inviting them to take the poll."
   ]
  },
  {
   "cell_type": "code",
   "execution_count": 104,
   "metadata": {},
   "outputs": [
    {
     "output_type": "stream",
     "name": "stdout",
     "text": [
      "Gracias por su respuesta\nGracias por su respuesta\n¿Podría rellenar esta encuesta?\n¿Podría rellenar esta encuesta?\n"
     ]
    }
   ],
   "source": [
    "name_poll = ['jen', 'sarah', \"john\", \"David\"]\n",
    "\n",
    "favorite_languages = {'jen': 'python', 'sarah': 'c', 'edward': 'ruby', 'phil': 'python'}\n",
    "\n",
    "for key in favorite_languages:\n",
    "    if key in name_poll:\n",
    "        print (\"Gracias por su respuesta\")\n",
    "    else:\n",
    "        print (\"¿Podría rellenar esta encuesta?\")\n",
    "\n",
    "\n",
    "\n",
    "\n"
   ]
  },
  {
   "cell_type": "markdown",
   "metadata": {},
   "source": [
    "3. Make a dictionary called cities. Use the names of three cities as keys in your dictionary. Create a dictionary of information about each city and include the country that the city is in, its approximate population, and one fact about that city. The keys for each city’s dictionary should be something like country, population, and fact. Print the name of each city and all of the information you have stored about it.\n",
    "\n",
    "```python\n",
    "cities = {\"city1\":{\"country\": \"bla\"}}\n",
    "```\n",
    "\n",
    "\n"
   ]
  },
  {
   "cell_type": "code",
   "execution_count": 119,
   "metadata": {},
   "outputs": [
    {
     "output_type": "stream",
     "name": "stdout",
     "text": [
      " datos de Madrid: {'country': 'España', 'population': 6747068, 'fact': 'SanIsidro'}\n datos de Londres: {'country': 'Inglaterra', 'population': 9372610, 'fact': 'carreras'}\n datos de Venecia: {'country': 'Italia', 'population': 260000, 'fact': 'carnaval'}\n"
     ]
    }
   ],
   "source": [
    "cities = {\"Madrid\":{\"country\":\"España\", \"population\": 6747068, \"fact\":\"SanIsidro\"},\"Londres\":{\"country\":\"Inglaterra\",\"population\": 9372610, \"fact\":\"carreras\"},\"Venecia\":{\"country\":\"Italia\",\"population\": 260000, \"fact\":\"carnaval\"}}\n",
    "\n",
    "\n",
    "print (f' datos de Madrid: {cities[\"Madrid\"]}')\n",
    "print (f' datos de Londres: {cities[\"Londres\"]}')\n",
    "print (f' datos de Venecia: {cities[\"Venecia\"]}')\n",
    "\n"
   ]
  },
  {
   "cell_type": "markdown",
   "metadata": {},
   "source": [
    "**for loop**\n",
    "1. This is a fruit list, ['banana', 'orange', 'mango', 'lemon'] reverse the order using a for loop.\n"
   ]
  },
  {
   "cell_type": "code",
   "execution_count": 94,
   "metadata": {},
   "outputs": [
    {
     "output_type": "stream",
     "name": "stdout",
     "text": [
      "['lemon', 'mango', 'orange', 'banana']\n"
     ]
    }
   ],
   "source": [
    "frutas = [\"banana\", \"orange\", \"mango\", \"lemon\"]\n",
    "\n",
    "for i in frutas:\n",
    "    frutas = frutas[::-1]\n",
    "    print (frutas)\n",
    "    break"
   ]
  },
  {
   "cell_type": "markdown",
   "metadata": {},
   "source": [
    "2. Write a Python program to create the multiplication table (from 1 to 10) of a number.\n",
    "```python\n",
    "Input a number: 5                                                                                             \n",
    "5 x 1 = 5                                                                                                     \n",
    "5 x 2 = 10                                                                                                    \n",
    "5 x 3 = 15                                                                                                    \n",
    "5 x 4 = 20                                                                                                    \n",
    "5 x 5 = 25                                                                                                    \n",
    "5 x 6 = 30                                                                                                    \n",
    "5 x 7 = 35                                                                                                    \n",
    "5 x 8 = 40                                                                                                    \n",
    "5 x 9 = 45                                                                                                    \n",
    "5 x 10 = 50\n",
    "```"
   ]
  },
  {
   "cell_type": "code",
   "execution_count": 22,
   "metadata": {},
   "outputs": [
    {
     "output_type": "stream",
     "name": "stdout",
     "text": [
      "5 x 1 = 5\n5 x 2 = 10\n5 x 3 = 15\n5 x 4 = 20\n5 x 5 = 25\n5 x 6 = 30\n5 x 7 = 35\n5 x 8 = 40\n5 x 9 = 45\n5 x 10 = 50\n"
     ]
    }
   ],
   "source": [
    "numero = int(input(\"introduzca un número del 1 al 10\"))\n",
    "lista = [1, 2, 3, 4, 5, 6, 7, 8, 9, 10]\n",
    "\n",
    "\n",
    "for i in lista[0:11]:\n",
    "    print (numero, 'x',i, '=', numero*i)\n",
    "\n",
    "\n",
    "\n",
    "\n",
    "    \n"
   ]
  },
  {
   "cell_type": "markdown",
   "metadata": {},
   "source": [
    "3. Write a Python program which iterates the integers from 1 to 50. For multiples of three print \"Fizz\" instead of the number and for the multiples of five print \"Buzz\". For numbers which are multiples of both three and five print \"FizzBuzz\".\n",
    "```python\n",
    "Sample Output :\n",
    "fizzbuzz\n",
    "1\n",
    "2\n",
    "fizz\n",
    "4\n",
    "buzz\n",
    "```"
   ]
  },
  {
   "cell_type": "code",
   "execution_count": 120,
   "metadata": {},
   "outputs": [
    {
     "output_type": "stream",
     "name": "stdout",
     "text": [
      "Fizzbuzz\nFizzbuzz\nFizz\nFizzbuzz\nBuzz\nFizz\nFizzbuzz\nFizzbuzz\nFizz\nBuzz\nFizzbuzz\nFizz\nFizzbuzz\nFizzbuzz\nFizz\nFizzbuzz\nFizzbuzz\nFizz\nFizzbuzz\nBuzz\nFizz\nFizzbuzz\nFizzbuzz\nFizz\nBuzz\nFizzbuzz\nFizz\nFizzbuzz\nFizzbuzz\nFizz\nFizzbuzz\nFizzbuzz\nFizz\nFizzbuzz\nBuzz\nFizz\nFizzbuzz\nFizzbuzz\nFizz\nBuzz\nFizzbuzz\nFizz\nFizzbuzz\nFizzbuzz\nFizz\nFizzbuzz\nFizzbuzz\nFizz\nFizzbuzz\n"
     ]
    }
   ],
   "source": [
    "\n",
    "for i in range(1,50):\n",
    "    if i % 3 == 0:\n",
    "        print (\"Fizz\")\n",
    "    elif i % 5 == 0:\n",
    "        print (\"Buzz\")\n",
    "    else:\n",
    "        print (\"Fizzbuzz\")\n",
    "\n",
    "\n"
   ]
  },
  {
   "cell_type": "markdown",
   "metadata": {},
   "source": [
    "**functions**\n",
    "\n",
    "1. Write a Python function to check whether a string is a pangram or not. \n",
    "\n",
    "Note : Pangrams are words or sentences containing every letter of the alphabet at least once.\n",
    "    \n",
    "For example : `\"The quick brown fox jumps over the lazy dog\"`"
   ]
  },
  {
   "cell_type": "code",
   "execution_count": 27,
   "metadata": {},
   "outputs": [
    {
     "output_type": "stream",
     "name": "stdout",
     "text": [
      " es un pangran\n"
     ]
    }
   ],
   "source": [
    "pangr = \"José compró una vieja zampoña en Perú. Excusándose, Sofia tiró su whisky al desagüe de la banqueta\"\n",
    "\n",
    "import string\n",
    "\n",
    "alfabeto = list(string.ascii_lowercase)\n",
    "\n",
    "for i in pangr.lower():\n",
    "    if i in alfabeto:\n",
    "        alfabeto.remove(i)\n",
    "\n",
    "if len(alfabeto) == 0 :\n",
    "    print (f\" es un pangran\")\n",
    "\n",
    "        \n",
    "            \n",
    "\n",
    "\n",
    "\n",
    "\n",
    "\n",
    "\n",
    "\n",
    "\n",
    "\n",
    "\n",
    "    \n",
    "\n",
    "\n",
    "\n"
   ]
  },
  {
   "cell_type": "markdown",
   "metadata": {},
   "source": [
    "2. Write a Python program to count the number of even and odd numbers from a series of numbers. \n",
    "\n",
    "```python\n",
    "Sample numbers: numbers = (1, 2, 3, 4, 5, 6, 7, 8, 9) \n",
    "    \n",
    "Expected Output:\n",
    "Number of even numbers: 5\n",
    "Number of odd numbers: 4\n",
    "```"
   ]
  },
  {
   "cell_type": "code",
   "execution_count": 125,
   "metadata": {},
   "outputs": [
    {
     "output_type": "stream",
     "name": "stdout",
     "text": [
      "la cantidad de números pares es: 3\nla cantidad de números impares es: 4\n"
     ]
    }
   ],
   "source": [
    "numbers = [2, 3, 5, 7, 8, 10, 25]\n",
    "\n",
    "counter_even = 0\n",
    "counter_odd = 0\n",
    "\n",
    "for i in numbers:\n",
    "    if i % 2 == 0:\n",
    "        counter_even += 1\n",
    "    elif i % 2 != 0:\n",
    "        counter_odd += 1\n",
    "\n",
    "print (f'la cantidad de números pares es: {counter_even}')\n",
    "print (f'la cantidad de números impares es: {counter_odd}')\n"
   ]
  },
  {
   "cell_type": "markdown",
   "metadata": {},
   "source": [
    "#### functions & while loop\n",
    "1. Write a program which keeps asking for numbers till the user writes 9999. In that case, the program returns the concatenation of every number as a string.\n"
   ]
  },
  {
   "cell_type": "code",
   "execution_count": 14,
   "metadata": {},
   "outputs": [
    {
     "output_type": "stream",
     "name": "stdout",
     "text": [
      " 3329999\n"
     ]
    }
   ],
   "source": [
    "numeros = []\n",
    "concatenar = \" \"\n",
    "\n",
    "while True: \n",
    "    solicita_numeros = int(input (\"dime un numero\"))\n",
    "    # comparar el número introducido con el 9999 y si es distinto, lo añade a numeros\n",
    "    numeros.append(solicita_numeros)    \n",
    "    \n",
    "    if solicita_numeros == 9999:\n",
    "        for i in numeros:\n",
    "            i = str(i) \n",
    "            concatenar += i\n",
    "        break\n",
    "\n",
    "print (concatenar)\n",
    "\n",
    "    \n",
    "      \n",
    "   "
   ]
  },
  {
   "cell_type": "markdown",
   "metadata": {},
   "source": [
    "2. Writes a function that asks a user for a pin code till they get it right... If they give a wrong answer three times the function returns \"Your bank account has been blocked\", otherwise, returns: \"You got it right! You get full access to your money\".\n"
   ]
  },
  {
   "cell_type": "code",
   "execution_count": 2,
   "metadata": {},
   "outputs": [
    {
     "output_type": "execute_result",
     "data": {
      "text/plain": [
       "'you got ir right. You get full acces to your money'"
      ]
     },
     "metadata": {},
     "execution_count": 2
    }
   ],
   "source": [
    "def pin ():\n",
    "    codigo_pin = 345673\n",
    "    codigo = 0\n",
    "    while codigo < 3:\n",
    "        solicita_codigo = int(input(\"numero\"))\n",
    "        if solicita_codigo != codigo_pin:\n",
    "           codigo += 1\n",
    "        else:\n",
    "            return \"you got ir right. You get full acces to your money\"\n",
    "\n",
    "pin()\n",
    "\n"
   ]
  },
  {
   "cell_type": "markdown",
   "metadata": {},
   "source": [
    "#### functions & for loop\n",
    "\n",
    "1. Write a function that takes in a person's name, and prints out a greeting.\n",
    "    - The greeting must be at least three lines, and the person's name must be in each line.\n",
    "    - Use your function to greet at least three different people.\n",
    "    - Store your three people in a list, and call your function from a for loop."
   ]
  },
  {
   "cell_type": "code",
   "execution_count": 7,
   "metadata": {},
   "outputs": [
    {
     "output_type": "stream",
     "name": "stdout",
     "text": [
      " Hola María me alegro mucho de verte\n ¿que tal María tus vacaciones?\n seguro María que fueron increíbles\n\n Hola Juan me alegro mucho de verte\n ¿que tal Juan tus vacaciones?\n seguro Juan que fueron increíbles\n\n Hola Lucía me alegro mucho de verte\n ¿que tal Lucía tus vacaciones?\n seguro Lucía que fueron increíbles\n\n Hola Antonio me alegro mucho de verte\n ¿que tal Antonio tus vacaciones?\n seguro Antonio que fueron increíbles\n\n"
     ]
    }
   ],
   "source": [
    "people = [\"María\", \"Juan\", \"Lucía\", \"Antonio\"]\n",
    "\n",
    "def greeting(a):\n",
    "    print (f' Hola {a} me alegro mucho de verte\\n ¿que tal {a} tus vacaciones?\\n seguro {a} que fueron increíbles')\n",
    "\n",
    "for i in people:\n",
    "    greeting(i)\n",
    "    print ()\n",
    "\n"
   ]
  },
  {
   "cell_type": "markdown",
   "metadata": {},
   "source": [
    "2. Make a list that includes 3 or 4 games that you like to play and print a statement that tells the user what games you like.\n",
    "    - Write a function that asks the user to tell you a game they like, and store the game in a variable such as `new_game`. \n",
    "    - If the user mentions one game you like to play, send a message asking to play together.\n",
    "    - Otherwise ask for another game name. If the user tries your program 3 times and doesn't give a game name you like, then ask them to find another friend."
   ]
  },
  {
   "cell_type": "code",
   "execution_count": null,
   "metadata": {},
   "outputs": [],
   "source": []
  },
  {
   "cell_type": "markdown",
   "metadata": {},
   "source": [
    "#### write a mini-program\n",
    "**Three is a Crowd**\n",
    "- Make a list of names that includes at least four people.\n",
    "- Write an if test that prints a message about the room being crowded, if there are more than three people in your list.\n",
    "- Modify your list so that there are only two people in it. Use one of the methods for removing people from the list, don't just redefine the list.\n",
    "- Run your if test again. There should be no output this time, because there are less than three people in the list.\n",
    "- Store your if test in a function called something like `crowd_test`.\n",
    "\n"
   ]
  },
  {
   "cell_type": "code",
   "execution_count": null,
   "metadata": {},
   "outputs": [],
   "source": []
  },
  {
   "cell_type": "markdown",
   "metadata": {},
   "source": [
    "**Three is a Crowd - Part 2**\n",
    "- Save your program from *Three is a Crowd* under a new name.\n",
    "- Add an `else` statement to your if tests. If the `else` statement is run, have it print a message that the room is not very crowded.\n"
   ]
  },
  {
   "cell_type": "code",
   "execution_count": null,
   "metadata": {},
   "outputs": [],
   "source": []
  },
  {
   "cell_type": "markdown",
   "metadata": {},
   "source": [
    "\n",
    "**Six is a Mob**\n",
    "- Save your program from *Three is a Crowd - Part 2* under a new name.\n",
    "- Add some names to your list, so that there are at least six people in the list.\n",
    "- Modify your tests so that\n",
    "    - If there are more than 5 people, a message is printed about there being a mob in the room.\n",
    "    - If there are 3-5 people, a message is printed about the room being crowded.\n",
    "    - If there are 1 or 2 people, a message is printed about the room not being crowded.\n",
    "    - If there are no people in the room, a message is printed abou the room being empty."
   ]
  },
  {
   "cell_type": "code",
   "execution_count": null,
   "metadata": {},
   "outputs": [],
   "source": []
  }
 ],
 "metadata": {
  "kernelspec": {
   "name": "python389jvsc74a57bd07980ba124835d5faa10419b5aaaaec0d5be537aa3d05dd29d745d0092f32015f",
   "display_name": "Python 3.8.9 64-bit"
  },
  "language_info": {
   "codemirror_mode": {
    "name": "ipython",
    "version": 3
   },
   "file_extension": ".py",
   "mimetype": "text/x-python",
   "name": "python",
   "nbconvert_exporter": "python",
   "pygments_lexer": "ipython3",
   "version": "3.8.9"
  },
  "metadata": {
   "interpreter": {
    "hash": "7980ba124835d5faa10419b5aaaaec0d5be537aa3d05dd29d745d0092f32015f"
   }
  }
 },
 "nbformat": 4,
 "nbformat_minor": 4
}