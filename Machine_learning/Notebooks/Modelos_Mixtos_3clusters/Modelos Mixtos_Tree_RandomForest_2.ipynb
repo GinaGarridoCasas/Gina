{
 "cells": [
  {
   "cell_type": "code",
   "execution_count": 1,
   "metadata": {},
   "outputs": [],
   "source": [
    "import pandas as pd\r\n",
    "import numpy as np\r\n",
    "import matplotlib.pyplot as plt\r\n",
    "\r\n",
    "import sklearn\r\n",
    "\r\n",
    "# Using Skicit-learn to split data into training and testing sets\r\n",
    "from sklearn.model_selection import train_test_split\r\n"
   ]
  },
  {
   "cell_type": "code",
   "execution_count": 2,
   "metadata": {},
   "outputs": [],
   "source": [
    "from sklearn.tree import DecisionTreeRegressor\r\n",
    "from sklearn.ensemble import RandomForestRegressor\r\n",
    "# evaluate random forest algorithm for classification\r\n",
    "from numpy import mean\r\n",
    "from numpy import std\r\n",
    "from sklearn.datasets import make_classification\r\n",
    "from sklearn.model_selection import cross_val_score\r\n",
    "from sklearn.model_selection import RepeatedStratifiedKFold, RepeatedKFold\r\n",
    "from sklearn.ensemble import RandomForestClassifier"
   ]
  },
  {
   "cell_type": "markdown",
   "metadata": {},
   "source": [
    "# Modelos mixtos. Admiten ser utilizados para regresión y clasificación"
   ]
  },
  {
   "cell_type": "code",
   "execution_count": 3,
   "metadata": {},
   "outputs": [],
   "source": [
    "ENS_2017_C2 = pd.read_csv(\"../../data/Bases_trabajo/ENS_2017_C2.csv\", sep =',')"
   ]
  },
  {
   "cell_type": "code",
   "execution_count": 4,
   "metadata": {},
   "outputs": [],
   "source": [
    "X = ENS_2017_C2[['CCAA', 'Sexo', 'Edad',\r\n",
    "       'Actividad_economica_actual', 'Nacionalidad_española', 'Convivencia',\r\n",
    "       'Estado_civil', 'Nivel_estudios', 'Vacunación_gripe',\r\n",
    "       'Toma_tensiónArterial_profesional', 'Medición_colesterol',\r\n",
    "       'Prueba_sangreHeces', 'Colonoscopia', 'Peso(Kg)',\r\n",
    "       'Freq_ActividadFísica', 'Freq_Consumo_FrutaFresca',\r\n",
    "       'Freq_Consumo_Carne', 'Freq_Consumo_Huevos', 'Freq_Consumo_Pescado',\r\n",
    "       'Freq_Consumo_PastaArrozPatatas', 'Freq_Consumo_PanCereales',\r\n",
    "       'Freq_Consumo_VerdurasEnsaladasHortalizas', 'Freq_Consumo_Legumbres',\r\n",
    "       'Freq_Consumo_EmbutidosFiambres', 'Freq_Consumo_Lácteos',\r\n",
    "       'Freq_Consumo_Dulces', 'Freq_Consumo_ComidaRápida',\r\n",
    "       'Freq_Consumo_ZumoNatural', 'Freq_Diaria_CepilladoDientes',\r\n",
    "       '¿Fuma actualmente', 'Freq_Consumo_Alcohol',\r\n",
    "       'ApoyoAfectivoPersonal_AmigosFamiliares', 'ClaseSocial_BasadaOcupación',\r\n",
    "       'Índice_MasaCorporal']]"
   ]
  },
  {
   "cell_type": "code",
   "execution_count": 5,
   "metadata": {},
   "outputs": [],
   "source": [
    "y = ENS_2017_C2['Salud_percibida']"
   ]
  },
  {
   "cell_type": "code",
   "execution_count": 6,
   "metadata": {},
   "outputs": [],
   "source": [
    "from sklearn.model_selection import train_test_split\r\n",
    "X_train, X_test, y_train, y_test = train_test_split(X, y, test_size=0.2, random_state=101)"
   ]
  },
  {
   "cell_type": "markdown",
   "metadata": {},
   "source": [
    "## Utilización de los modelos para regresión"
   ]
  },
  {
   "cell_type": "markdown",
   "metadata": {},
   "source": [
    "## Regression tree"
   ]
  },
  {
   "cell_type": "code",
   "execution_count": 7,
   "metadata": {},
   "outputs": [
    {
     "data": {
      "text/plain": [
       "DecisionTreeRegressor(max_depth=3)"
      ]
     },
     "execution_count": 7,
     "metadata": {},
     "output_type": "execute_result"
    }
   ],
   "source": [
    "dtr = DecisionTreeRegressor(max_depth=3)\r\n",
    "dtr.fit(X_train, y_train)"
   ]
  },
  {
   "cell_type": "code",
   "execution_count": 8,
   "metadata": {},
   "outputs": [
    {
     "data": {
      "text/plain": [
       "0.18284143567894107"
      ]
     },
     "execution_count": 8,
     "metadata": {},
     "output_type": "execute_result"
    }
   ],
   "source": [
    "dtr.score(X_train,y_train)"
   ]
  },
  {
   "cell_type": "code",
   "execution_count": 9,
   "metadata": {},
   "outputs": [
    {
     "data": {
      "text/plain": [
       "0.46955656810896185"
      ]
     },
     "execution_count": 9,
     "metadata": {},
     "output_type": "execute_result"
    }
   ],
   "source": [
    "predictions_train = dtr.predict(X_train)\r\n",
    "errores_train = abs(predictions_train - y_train)\r\n",
    "np.mean(errores_train)"
   ]
  },
  {
   "cell_type": "code",
   "execution_count": 10,
   "metadata": {},
   "outputs": [
    {
     "data": {
      "text/plain": [
       "32.95450136104199"
      ]
     },
     "execution_count": 10,
     "metadata": {},
     "output_type": "execute_result"
    }
   ],
   "source": [
    "prop = 100 * (errores_train/y_train)\r\n",
    "mape = np.mean(prop)\r\n",
    "mape"
   ]
  },
  {
   "cell_type": "code",
   "execution_count": 11,
   "metadata": {},
   "outputs": [
    {
     "data": {
      "text/html": [
       "<div>\n",
       "<style scoped>\n",
       "    .dataframe tbody tr th:only-of-type {\n",
       "        vertical-align: middle;\n",
       "    }\n",
       "\n",
       "    .dataframe tbody tr th {\n",
       "        vertical-align: top;\n",
       "    }\n",
       "\n",
       "    .dataframe thead th {\n",
       "        text-align: right;\n",
       "    }\n",
       "</style>\n",
       "<table border=\"1\" class=\"dataframe\">\n",
       "  <thead>\n",
       "    <tr style=\"text-align: right;\">\n",
       "      <th></th>\n",
       "      <th>features</th>\n",
       "      <th>importance</th>\n",
       "    </tr>\n",
       "  </thead>\n",
       "  <tbody>\n",
       "    <tr>\n",
       "      <th>2</th>\n",
       "      <td>Edad</td>\n",
       "      <td>0.681889</td>\n",
       "    </tr>\n",
       "    <tr>\n",
       "      <th>14</th>\n",
       "      <td>Freq_ActividadFísica</td>\n",
       "      <td>0.199433</td>\n",
       "    </tr>\n",
       "    <tr>\n",
       "      <th>7</th>\n",
       "      <td>Nivel_estudios</td>\n",
       "      <td>0.063971</td>\n",
       "    </tr>\n",
       "    <tr>\n",
       "      <th>3</th>\n",
       "      <td>Actividad_economica_actual</td>\n",
       "      <td>0.038458</td>\n",
       "    </tr>\n",
       "    <tr>\n",
       "      <th>31</th>\n",
       "      <td>ApoyoAfectivoPersonal_AmigosFamiliares</td>\n",
       "      <td>0.016248</td>\n",
       "    </tr>\n",
       "    <tr>\n",
       "      <th>0</th>\n",
       "      <td>CCAA</td>\n",
       "      <td>0.000000</td>\n",
       "    </tr>\n",
       "    <tr>\n",
       "      <th>25</th>\n",
       "      <td>Freq_Consumo_Dulces</td>\n",
       "      <td>0.000000</td>\n",
       "    </tr>\n",
       "    <tr>\n",
       "      <th>21</th>\n",
       "      <td>Freq_Consumo_VerdurasEnsaladasHortalizas</td>\n",
       "      <td>0.000000</td>\n",
       "    </tr>\n",
       "    <tr>\n",
       "      <th>22</th>\n",
       "      <td>Freq_Consumo_Legumbres</td>\n",
       "      <td>0.000000</td>\n",
       "    </tr>\n",
       "    <tr>\n",
       "      <th>23</th>\n",
       "      <td>Freq_Consumo_EmbutidosFiambres</td>\n",
       "      <td>0.000000</td>\n",
       "    </tr>\n",
       "    <tr>\n",
       "      <th>24</th>\n",
       "      <td>Freq_Consumo_Lácteos</td>\n",
       "      <td>0.000000</td>\n",
       "    </tr>\n",
       "    <tr>\n",
       "      <th>28</th>\n",
       "      <td>Freq_Diaria_CepilladoDientes</td>\n",
       "      <td>0.000000</td>\n",
       "    </tr>\n",
       "    <tr>\n",
       "      <th>26</th>\n",
       "      <td>Freq_Consumo_ComidaRápida</td>\n",
       "      <td>0.000000</td>\n",
       "    </tr>\n",
       "    <tr>\n",
       "      <th>27</th>\n",
       "      <td>Freq_Consumo_ZumoNatural</td>\n",
       "      <td>0.000000</td>\n",
       "    </tr>\n",
       "    <tr>\n",
       "      <th>19</th>\n",
       "      <td>Freq_Consumo_PastaArrozPatatas</td>\n",
       "      <td>0.000000</td>\n",
       "    </tr>\n",
       "    <tr>\n",
       "      <th>29</th>\n",
       "      <td>¿Fuma actualmente</td>\n",
       "      <td>0.000000</td>\n",
       "    </tr>\n",
       "    <tr>\n",
       "      <th>30</th>\n",
       "      <td>Freq_Consumo_Alcohol</td>\n",
       "      <td>0.000000</td>\n",
       "    </tr>\n",
       "    <tr>\n",
       "      <th>32</th>\n",
       "      <td>ClaseSocial_BasadaOcupación</td>\n",
       "      <td>0.000000</td>\n",
       "    </tr>\n",
       "    <tr>\n",
       "      <th>20</th>\n",
       "      <td>Freq_Consumo_PanCereales</td>\n",
       "      <td>0.000000</td>\n",
       "    </tr>\n",
       "    <tr>\n",
       "      <th>17</th>\n",
       "      <td>Freq_Consumo_Huevos</td>\n",
       "      <td>0.000000</td>\n",
       "    </tr>\n",
       "    <tr>\n",
       "      <th>18</th>\n",
       "      <td>Freq_Consumo_Pescado</td>\n",
       "      <td>0.000000</td>\n",
       "    </tr>\n",
       "    <tr>\n",
       "      <th>1</th>\n",
       "      <td>Sexo</td>\n",
       "      <td>0.000000</td>\n",
       "    </tr>\n",
       "    <tr>\n",
       "      <th>16</th>\n",
       "      <td>Freq_Consumo_Carne</td>\n",
       "      <td>0.000000</td>\n",
       "    </tr>\n",
       "    <tr>\n",
       "      <th>15</th>\n",
       "      <td>Freq_Consumo_FrutaFresca</td>\n",
       "      <td>0.000000</td>\n",
       "    </tr>\n",
       "    <tr>\n",
       "      <th>13</th>\n",
       "      <td>Peso(Kg)</td>\n",
       "      <td>0.000000</td>\n",
       "    </tr>\n",
       "    <tr>\n",
       "      <th>12</th>\n",
       "      <td>Colonoscopia</td>\n",
       "      <td>0.000000</td>\n",
       "    </tr>\n",
       "    <tr>\n",
       "      <th>11</th>\n",
       "      <td>Prueba_sangreHeces</td>\n",
       "      <td>0.000000</td>\n",
       "    </tr>\n",
       "    <tr>\n",
       "      <th>10</th>\n",
       "      <td>Medición_colesterol</td>\n",
       "      <td>0.000000</td>\n",
       "    </tr>\n",
       "    <tr>\n",
       "      <th>9</th>\n",
       "      <td>Toma_tensiónArterial_profesional</td>\n",
       "      <td>0.000000</td>\n",
       "    </tr>\n",
       "    <tr>\n",
       "      <th>8</th>\n",
       "      <td>Vacunación_gripe</td>\n",
       "      <td>0.000000</td>\n",
       "    </tr>\n",
       "    <tr>\n",
       "      <th>6</th>\n",
       "      <td>Estado_civil</td>\n",
       "      <td>0.000000</td>\n",
       "    </tr>\n",
       "    <tr>\n",
       "      <th>5</th>\n",
       "      <td>Convivencia</td>\n",
       "      <td>0.000000</td>\n",
       "    </tr>\n",
       "    <tr>\n",
       "      <th>4</th>\n",
       "      <td>Nacionalidad_española</td>\n",
       "      <td>0.000000</td>\n",
       "    </tr>\n",
       "    <tr>\n",
       "      <th>33</th>\n",
       "      <td>Índice_MasaCorporal</td>\n",
       "      <td>0.000000</td>\n",
       "    </tr>\n",
       "  </tbody>\n",
       "</table>\n",
       "</div>"
      ],
      "text/plain": [
       "                                    features  importance\n",
       "2                                       Edad    0.681889\n",
       "14                      Freq_ActividadFísica    0.199433\n",
       "7                             Nivel_estudios    0.063971\n",
       "3                 Actividad_economica_actual    0.038458\n",
       "31    ApoyoAfectivoPersonal_AmigosFamiliares    0.016248\n",
       "0                                       CCAA    0.000000\n",
       "25                       Freq_Consumo_Dulces    0.000000\n",
       "21  Freq_Consumo_VerdurasEnsaladasHortalizas    0.000000\n",
       "22                    Freq_Consumo_Legumbres    0.000000\n",
       "23            Freq_Consumo_EmbutidosFiambres    0.000000\n",
       "24                      Freq_Consumo_Lácteos    0.000000\n",
       "28              Freq_Diaria_CepilladoDientes    0.000000\n",
       "26                 Freq_Consumo_ComidaRápida    0.000000\n",
       "27                  Freq_Consumo_ZumoNatural    0.000000\n",
       "19            Freq_Consumo_PastaArrozPatatas    0.000000\n",
       "29                         ¿Fuma actualmente    0.000000\n",
       "30                      Freq_Consumo_Alcohol    0.000000\n",
       "32               ClaseSocial_BasadaOcupación    0.000000\n",
       "20                  Freq_Consumo_PanCereales    0.000000\n",
       "17                       Freq_Consumo_Huevos    0.000000\n",
       "18                      Freq_Consumo_Pescado    0.000000\n",
       "1                                       Sexo    0.000000\n",
       "16                        Freq_Consumo_Carne    0.000000\n",
       "15                  Freq_Consumo_FrutaFresca    0.000000\n",
       "13                                  Peso(Kg)    0.000000\n",
       "12                              Colonoscopia    0.000000\n",
       "11                        Prueba_sangreHeces    0.000000\n",
       "10                       Medición_colesterol    0.000000\n",
       "9           Toma_tensiónArterial_profesional    0.000000\n",
       "8                           Vacunación_gripe    0.000000\n",
       "6                               Estado_civil    0.000000\n",
       "5                                Convivencia    0.000000\n",
       "4                      Nacionalidad_española    0.000000\n",
       "33                       Índice_MasaCorporal    0.000000"
      ]
     },
     "execution_count": 11,
     "metadata": {},
     "output_type": "execute_result"
    }
   ],
   "source": [
    "import_dict = {\r\n",
    "    'features': X_train.columns,\r\n",
    "    'importance': dtr.feature_importances_\r\n",
    "}\r\n",
    "\r\n",
    "pd.DataFrame(import_dict).sort_values('importance', ascending=False)"
   ]
  },
  {
   "cell_type": "code",
   "execution_count": 12,
   "metadata": {},
   "outputs": [
    {
     "data": {
      "text/plain": [
       "DecisionTreeRegressor(max_depth=3)"
      ]
     },
     "execution_count": 12,
     "metadata": {},
     "output_type": "execute_result"
    }
   ],
   "source": [
    "dtr = DecisionTreeRegressor(max_depth=3)\r\n",
    "dtr.fit(X_test, y_test)"
   ]
  },
  {
   "cell_type": "code",
   "execution_count": 13,
   "metadata": {},
   "outputs": [
    {
     "data": {
      "text/plain": [
       "0.1868855423376129"
      ]
     },
     "execution_count": 13,
     "metadata": {},
     "output_type": "execute_result"
    }
   ],
   "source": [
    "dtr.score(X_test,y_test)"
   ]
  },
  {
   "cell_type": "code",
   "execution_count": 14,
   "metadata": {},
   "outputs": [
    {
     "data": {
      "text/plain": [
       "0.4696244140412249"
      ]
     },
     "execution_count": 14,
     "metadata": {},
     "output_type": "execute_result"
    }
   ],
   "source": [
    "predictions_test = dtr.predict(X_test)\r\n",
    "errores_test = abs(predictions_test - y_test)\r\n",
    "np.mean(errores_test)"
   ]
  },
  {
   "cell_type": "code",
   "execution_count": 15,
   "metadata": {},
   "outputs": [
    {
     "data": {
      "text/plain": [
       "33.00173814339996"
      ]
     },
     "execution_count": 15,
     "metadata": {},
     "output_type": "execute_result"
    }
   ],
   "source": [
    "prop = 100 * (errores_test/y_test)\r\n",
    "mape = np.mean(prop)\r\n",
    "mape"
   ]
  },
  {
   "cell_type": "code",
   "execution_count": 16,
   "metadata": {},
   "outputs": [
    {
     "data": {
      "text/html": [
       "<div>\n",
       "<style scoped>\n",
       "    .dataframe tbody tr th:only-of-type {\n",
       "        vertical-align: middle;\n",
       "    }\n",
       "\n",
       "    .dataframe tbody tr th {\n",
       "        vertical-align: top;\n",
       "    }\n",
       "\n",
       "    .dataframe thead th {\n",
       "        text-align: right;\n",
       "    }\n",
       "</style>\n",
       "<table border=\"1\" class=\"dataframe\">\n",
       "  <thead>\n",
       "    <tr style=\"text-align: right;\">\n",
       "      <th></th>\n",
       "      <th>features</th>\n",
       "      <th>importance</th>\n",
       "    </tr>\n",
       "  </thead>\n",
       "  <tbody>\n",
       "    <tr>\n",
       "      <th>2</th>\n",
       "      <td>Edad</td>\n",
       "      <td>0.639830</td>\n",
       "    </tr>\n",
       "    <tr>\n",
       "      <th>14</th>\n",
       "      <td>Freq_ActividadFísica</td>\n",
       "      <td>0.262030</td>\n",
       "    </tr>\n",
       "    <tr>\n",
       "      <th>31</th>\n",
       "      <td>ApoyoAfectivoPersonal_AmigosFamiliares</td>\n",
       "      <td>0.057568</td>\n",
       "    </tr>\n",
       "    <tr>\n",
       "      <th>21</th>\n",
       "      <td>Freq_Consumo_VerdurasEnsaladasHortalizas</td>\n",
       "      <td>0.040572</td>\n",
       "    </tr>\n",
       "    <tr>\n",
       "      <th>0</th>\n",
       "      <td>CCAA</td>\n",
       "      <td>0.000000</td>\n",
       "    </tr>\n",
       "    <tr>\n",
       "      <th>25</th>\n",
       "      <td>Freq_Consumo_Dulces</td>\n",
       "      <td>0.000000</td>\n",
       "    </tr>\n",
       "    <tr>\n",
       "      <th>20</th>\n",
       "      <td>Freq_Consumo_PanCereales</td>\n",
       "      <td>0.000000</td>\n",
       "    </tr>\n",
       "    <tr>\n",
       "      <th>22</th>\n",
       "      <td>Freq_Consumo_Legumbres</td>\n",
       "      <td>0.000000</td>\n",
       "    </tr>\n",
       "    <tr>\n",
       "      <th>23</th>\n",
       "      <td>Freq_Consumo_EmbutidosFiambres</td>\n",
       "      <td>0.000000</td>\n",
       "    </tr>\n",
       "    <tr>\n",
       "      <th>24</th>\n",
       "      <td>Freq_Consumo_Lácteos</td>\n",
       "      <td>0.000000</td>\n",
       "    </tr>\n",
       "    <tr>\n",
       "      <th>26</th>\n",
       "      <td>Freq_Consumo_ComidaRápida</td>\n",
       "      <td>0.000000</td>\n",
       "    </tr>\n",
       "    <tr>\n",
       "      <th>18</th>\n",
       "      <td>Freq_Consumo_Pescado</td>\n",
       "      <td>0.000000</td>\n",
       "    </tr>\n",
       "    <tr>\n",
       "      <th>27</th>\n",
       "      <td>Freq_Consumo_ZumoNatural</td>\n",
       "      <td>0.000000</td>\n",
       "    </tr>\n",
       "    <tr>\n",
       "      <th>28</th>\n",
       "      <td>Freq_Diaria_CepilladoDientes</td>\n",
       "      <td>0.000000</td>\n",
       "    </tr>\n",
       "    <tr>\n",
       "      <th>29</th>\n",
       "      <td>¿Fuma actualmente</td>\n",
       "      <td>0.000000</td>\n",
       "    </tr>\n",
       "    <tr>\n",
       "      <th>30</th>\n",
       "      <td>Freq_Consumo_Alcohol</td>\n",
       "      <td>0.000000</td>\n",
       "    </tr>\n",
       "    <tr>\n",
       "      <th>32</th>\n",
       "      <td>ClaseSocial_BasadaOcupación</td>\n",
       "      <td>0.000000</td>\n",
       "    </tr>\n",
       "    <tr>\n",
       "      <th>19</th>\n",
       "      <td>Freq_Consumo_PastaArrozPatatas</td>\n",
       "      <td>0.000000</td>\n",
       "    </tr>\n",
       "    <tr>\n",
       "      <th>17</th>\n",
       "      <td>Freq_Consumo_Huevos</td>\n",
       "      <td>0.000000</td>\n",
       "    </tr>\n",
       "    <tr>\n",
       "      <th>1</th>\n",
       "      <td>Sexo</td>\n",
       "      <td>0.000000</td>\n",
       "    </tr>\n",
       "    <tr>\n",
       "      <th>16</th>\n",
       "      <td>Freq_Consumo_Carne</td>\n",
       "      <td>0.000000</td>\n",
       "    </tr>\n",
       "    <tr>\n",
       "      <th>15</th>\n",
       "      <td>Freq_Consumo_FrutaFresca</td>\n",
       "      <td>0.000000</td>\n",
       "    </tr>\n",
       "    <tr>\n",
       "      <th>13</th>\n",
       "      <td>Peso(Kg)</td>\n",
       "      <td>0.000000</td>\n",
       "    </tr>\n",
       "    <tr>\n",
       "      <th>12</th>\n",
       "      <td>Colonoscopia</td>\n",
       "      <td>0.000000</td>\n",
       "    </tr>\n",
       "    <tr>\n",
       "      <th>11</th>\n",
       "      <td>Prueba_sangreHeces</td>\n",
       "      <td>0.000000</td>\n",
       "    </tr>\n",
       "    <tr>\n",
       "      <th>10</th>\n",
       "      <td>Medición_colesterol</td>\n",
       "      <td>0.000000</td>\n",
       "    </tr>\n",
       "    <tr>\n",
       "      <th>9</th>\n",
       "      <td>Toma_tensiónArterial_profesional</td>\n",
       "      <td>0.000000</td>\n",
       "    </tr>\n",
       "    <tr>\n",
       "      <th>8</th>\n",
       "      <td>Vacunación_gripe</td>\n",
       "      <td>0.000000</td>\n",
       "    </tr>\n",
       "    <tr>\n",
       "      <th>7</th>\n",
       "      <td>Nivel_estudios</td>\n",
       "      <td>0.000000</td>\n",
       "    </tr>\n",
       "    <tr>\n",
       "      <th>6</th>\n",
       "      <td>Estado_civil</td>\n",
       "      <td>0.000000</td>\n",
       "    </tr>\n",
       "    <tr>\n",
       "      <th>5</th>\n",
       "      <td>Convivencia</td>\n",
       "      <td>0.000000</td>\n",
       "    </tr>\n",
       "    <tr>\n",
       "      <th>4</th>\n",
       "      <td>Nacionalidad_española</td>\n",
       "      <td>0.000000</td>\n",
       "    </tr>\n",
       "    <tr>\n",
       "      <th>3</th>\n",
       "      <td>Actividad_economica_actual</td>\n",
       "      <td>0.000000</td>\n",
       "    </tr>\n",
       "    <tr>\n",
       "      <th>33</th>\n",
       "      <td>Índice_MasaCorporal</td>\n",
       "      <td>0.000000</td>\n",
       "    </tr>\n",
       "  </tbody>\n",
       "</table>\n",
       "</div>"
      ],
      "text/plain": [
       "                                    features  importance\n",
       "2                                       Edad    0.639830\n",
       "14                      Freq_ActividadFísica    0.262030\n",
       "31    ApoyoAfectivoPersonal_AmigosFamiliares    0.057568\n",
       "21  Freq_Consumo_VerdurasEnsaladasHortalizas    0.040572\n",
       "0                                       CCAA    0.000000\n",
       "25                       Freq_Consumo_Dulces    0.000000\n",
       "20                  Freq_Consumo_PanCereales    0.000000\n",
       "22                    Freq_Consumo_Legumbres    0.000000\n",
       "23            Freq_Consumo_EmbutidosFiambres    0.000000\n",
       "24                      Freq_Consumo_Lácteos    0.000000\n",
       "26                 Freq_Consumo_ComidaRápida    0.000000\n",
       "18                      Freq_Consumo_Pescado    0.000000\n",
       "27                  Freq_Consumo_ZumoNatural    0.000000\n",
       "28              Freq_Diaria_CepilladoDientes    0.000000\n",
       "29                         ¿Fuma actualmente    0.000000\n",
       "30                      Freq_Consumo_Alcohol    0.000000\n",
       "32               ClaseSocial_BasadaOcupación    0.000000\n",
       "19            Freq_Consumo_PastaArrozPatatas    0.000000\n",
       "17                       Freq_Consumo_Huevos    0.000000\n",
       "1                                       Sexo    0.000000\n",
       "16                        Freq_Consumo_Carne    0.000000\n",
       "15                  Freq_Consumo_FrutaFresca    0.000000\n",
       "13                                  Peso(Kg)    0.000000\n",
       "12                              Colonoscopia    0.000000\n",
       "11                        Prueba_sangreHeces    0.000000\n",
       "10                       Medición_colesterol    0.000000\n",
       "9           Toma_tensiónArterial_profesional    0.000000\n",
       "8                           Vacunación_gripe    0.000000\n",
       "7                             Nivel_estudios    0.000000\n",
       "6                               Estado_civil    0.000000\n",
       "5                                Convivencia    0.000000\n",
       "4                      Nacionalidad_española    0.000000\n",
       "3                 Actividad_economica_actual    0.000000\n",
       "33                       Índice_MasaCorporal    0.000000"
      ]
     },
     "execution_count": 16,
     "metadata": {},
     "output_type": "execute_result"
    }
   ],
   "source": [
    "import_dict = {\r\n",
    "    'features': X_test.columns,\r\n",
    "    'importance': dtr.feature_importances_\r\n",
    "}\r\n",
    "\r\n",
    "pd.DataFrame(import_dict).sort_values('importance', ascending=False)"
   ]
  },
  {
   "cell_type": "markdown",
   "metadata": {},
   "source": [
    "## Random Forest Regressor"
   ]
  },
  {
   "cell_type": "code",
   "execution_count": 17,
   "metadata": {},
   "outputs": [
    {
     "data": {
      "text/plain": [
       "0.4367019701886198"
      ]
     },
     "execution_count": 17,
     "metadata": {},
     "output_type": "execute_result"
    }
   ],
   "source": [
    "from sklearn.ensemble import RandomForestRegressor\r\n",
    "from sklearn.metrics import mean_absolute_error\r\n",
    "\r\n",
    "model = RandomForestRegressor(n_estimators=500,\r\n",
    "                               max_depth = 5,\r\n",
    "                               random_state=42)\r\n",
    "\r\n",
    "model.fit(X_train, y_train)\r\n",
    "\r\n",
    "y_pred_reg = model.predict(X_train)\r\n",
    "mean_absolute_error(y_train, y_pred_reg)"
   ]
  },
  {
   "cell_type": "code",
   "execution_count": 18,
   "metadata": {},
   "outputs": [
    {
     "data": {
      "text/plain": [
       "0.2911435279901874"
      ]
     },
     "execution_count": 18,
     "metadata": {},
     "output_type": "execute_result"
    }
   ],
   "source": [
    "model.score(X_train,y_train)"
   ]
  },
  {
   "cell_type": "code",
   "execution_count": 19,
   "metadata": {},
   "outputs": [
    {
     "data": {
      "text/plain": [
       "0.399038184419816"
      ]
     },
     "execution_count": 19,
     "metadata": {},
     "output_type": "execute_result"
    }
   ],
   "source": [
    "model = RandomForestRegressor(n_estimators=500,\r\n",
    "                               max_depth = 5,\r\n",
    "                               random_state=42)\r\n",
    "\r\n",
    "model.fit(X_test, y_test)\r\n",
    "\r\n",
    "y_pred_reg = model.predict(X_test)\r\n",
    "mean_absolute_error(y_test, y_pred_reg)"
   ]
  },
  {
   "cell_type": "code",
   "execution_count": 20,
   "metadata": {},
   "outputs": [
    {
     "data": {
      "text/plain": [
       "0.43043904650215326"
      ]
     },
     "execution_count": 20,
     "metadata": {},
     "output_type": "execute_result"
    }
   ],
   "source": [
    "model.score(X_test,y_test)"
   ]
  },
  {
   "cell_type": "markdown",
   "metadata": {},
   "source": [
    "## Utilización de los modelos para clasificación"
   ]
  },
  {
   "cell_type": "markdown",
   "metadata": {},
   "source": [
    "## Classification tree"
   ]
  },
  {
   "cell_type": "code",
   "execution_count": 21,
   "metadata": {},
   "outputs": [
    {
     "name": "stdout",
     "output_type": "stream",
     "text": [
      "Accuracy: 1.0\n"
     ]
    }
   ],
   "source": [
    "from sklearn.tree import DecisionTreeClassifier\r\n",
    "from sklearn.metrics import accuracy_score\r\n",
    "from sklearn import metrics\r\n",
    "\r\n",
    "\r\n",
    "tree_clf = DecisionTreeClassifier(random_state=42)\r\n",
    "tree_clf.fit(X_train, y_train)\r\n",
    "y_pred_tree = tree_clf.predict(X_train)\r\n",
    "print(\"Accuracy:\", metrics.accuracy_score(y_train, y_pred_tree))\r\n"
   ]
  },
  {
   "cell_type": "code",
   "execution_count": 22,
   "metadata": {},
   "outputs": [
    {
     "name": "stdout",
     "output_type": "stream",
     "text": [
      "Accuracy: 1.0\n"
     ]
    }
   ],
   "source": [
    "tree_clf = DecisionTreeClassifier(random_state=42)\r\n",
    "tree_clf.fit(X_test, y_test)\r\n",
    "y_pred_tree = tree_clf.predict(X_test)\r\n",
    "print(\"Accuracy:\", metrics.accuracy_score(y_test, y_pred_tree))\r\n",
    "\r\n"
   ]
  },
  {
   "cell_type": "markdown",
   "metadata": {},
   "source": [
    "## Random Forest Classifier"
   ]
  },
  {
   "cell_type": "code",
   "execution_count": 23,
   "metadata": {},
   "outputs": [
    {
     "name": "stdout",
     "output_type": "stream",
     "text": [
      "[0.69318182 0.68506494 0.70616883 0.70454545 0.69967532 0.66396104\n",
      " 0.68780488 0.70081301 0.69593496 0.68617886 0.68019481 0.67207792\n",
      " 0.68506494 0.68506494 0.69318182 0.69805195 0.70406504 0.70569106\n",
      " 0.69430894 0.69756098]\n",
      "Accuracy: 0.692 (0.011)\n"
     ]
    }
   ],
   "source": [
    "from sklearn.model_selection import KFold\r\n",
    "\r\n",
    "# define the model\r\n",
    "model = RandomForestClassifier()\r\n",
    "# evaluate the model \r\n",
    "# THIS DOESN'T TRAIN THE MODEL\r\n",
    "k_fold = RepeatedStratifiedKFold(n_splits=10, n_repeats=2, random_state=42)\r\n",
    "n_scores = cross_val_score(model, X_train, y_train, scoring='accuracy', cv=k_fold, n_jobs=-1, error_score='raise')\r\n",
    "# report performance\r\n",
    "print(n_scores)\r\n",
    "print('Accuracy: %.3f (%.3f)' % (mean(n_scores), std(n_scores)))"
   ]
  },
  {
   "cell_type": "code",
   "execution_count": 24,
   "metadata": {},
   "outputs": [
    {
     "data": {
      "text/plain": [
       "0.7061688311688312"
      ]
     },
     "execution_count": 24,
     "metadata": {},
     "output_type": "execute_result"
    }
   ],
   "source": [
    "max(n_scores)"
   ]
  },
  {
   "cell_type": "code",
   "execution_count": 25,
   "metadata": {},
   "outputs": [
    {
     "data": {
      "text/plain": [
       "0.663961038961039"
      ]
     },
     "execution_count": 25,
     "metadata": {},
     "output_type": "execute_result"
    }
   ],
   "source": [
    "min(n_scores)"
   ]
  },
  {
   "cell_type": "code",
   "execution_count": 26,
   "metadata": {},
   "outputs": [
    {
     "name": "stdout",
     "output_type": "stream",
     "text": [
      "Accuracy: 0.6775503573749188\n"
     ]
    }
   ],
   "source": [
    "from sklearn.ensemble import RandomForestClassifier\r\n",
    "\r\n",
    "rnd_clf = RandomForestClassifier(n_estimators = 500,\r\n",
    "                                max_depth = 4,\r\n",
    "                                random_state = 42)\r\n",
    "\r\n",
    "rnd_clf.fit(X_train, y_train)\r\n",
    "\r\n",
    "y_pred_rf = rnd_clf.predict(X_train)\r\n",
    "print(\"Accuracy:\", metrics.accuracy_score(y_train, y_pred_rf))"
   ]
  },
  {
   "cell_type": "code",
   "execution_count": 27,
   "metadata": {},
   "outputs": [],
   "source": [
    "from sklearn.ensemble import RandomForestClassifier\r\n",
    "\r\n",
    "rnd_clf = RandomForestClassifier(n_estimators = 500,\r\n",
    "                                max_depth = 4,\r\n",
    "                                random_state = 42)\r\n",
    "\r\n",
    "rnd_clf.fit(X_test, y_test)\r\n",
    "\r\n",
    "y_pred_rf = rnd_clf.predict(X_test)\r\n",
    "print(\"Accuracy:\", metrics.accuracy_score(y_test, y_pred_rf))"
   ]
  },
  {
   "cell_type": "markdown",
   "metadata": {},
   "source": [
    "### ....................................................."
   ]
  },
  {
   "cell_type": "markdown",
   "metadata": {},
   "source": [
    "## Conclusion. Modelos mixtos (Regresión y clasificación)\r\n",
    "\r\n",
    "### Regresión. Los dos modelos de regresión son los que obtienen peores resultados.\r\n",
    "\r\n",
    "###     - Regression tree. Score_train = .1748, Score_test = .1899\r\n",
    "###     - Random Forest Regressor. Score_train = .2703, Score_test = .3762\r\n",
    "\r\n",
    "### Clasificación. Entre los dos modelos de clasificación, el de Classification tree es que mejor clasifica los registros.\r\n",
    "###     - Classification tree. Accuracy_train = 1.0, Accuracy_test = 1.0\r\n",
    "###     - Random Forest Classifier. Accuracy_train = .6771, Accuracy_test = .6843\r\n",
    "\r\n",
    "### Las variables que tienen mayor peso al realizar la clasificación son, por orden de importancia: Edad, Frecuencia de Actividad física, Actividad económica actual, Frecuencia de consumo de alcohol. En la muestra de test se incluyen después de las indicadas: Estado civil y Frecuencia de consumo de verduras, ensaladas y hortalizas"
   ]
  }
 ],
 "metadata": {
  "interpreter": {
   "hash": "7980ba124835d5faa10419b5aaaaec0d5be537aa3d05dd29d745d0092f32015f"
  },
  "kernelspec": {
   "display_name": "Python 3.8.9 64-bit",
   "name": "python3"
  },
  "language_info": {
   "codemirror_mode": {
    "name": "ipython",
    "version": 3
   },
   "file_extension": ".py",
   "mimetype": "text/x-python",
   "name": "python",
   "nbconvert_exporter": "python",
   "pygments_lexer": "ipython3",
   "version": "3.8.9"
  },
  "orig_nbformat": 4
 },
 "nbformat": 4,
 "nbformat_minor": 2
}