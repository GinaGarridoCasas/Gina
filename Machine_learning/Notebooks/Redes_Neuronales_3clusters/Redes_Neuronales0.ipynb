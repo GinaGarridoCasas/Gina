{
 "cells": [
  {
   "cell_type": "code",
   "execution_count": 2,
   "metadata": {},
   "outputs": [],
   "source": [
    "# TensorFlow y tf.keras\r\n",
    "import tensorflow as tf\r\n",
    "from tensorflow import keras\r\n",
    "from tensorflow.keras import datasets, layers, models\r\n",
    "from keras.layers import Dropout\r\n",
    "\r\n",
    "# Librerias de ayuda\r\n",
    "import pandas as pd\r\n",
    "import numpy as np\r\n",
    "import matplotlib.pyplot as pl"
   ]
  },
  {
   "cell_type": "code",
   "execution_count": 3,
   "metadata": {},
   "outputs": [],
   "source": [
    "ENS_2017_C0 = pd.read_csv(\"../../data/Bases_trabajo/ENS_2017_C0.csv\", sep =',')"
   ]
  },
  {
   "cell_type": "code",
   "execution_count": 4,
   "metadata": {},
   "outputs": [],
   "source": [
    "X = ENS_2017_C0[['CCAA', 'Sexo', 'Edad',\r\n",
    "       'Actividad_economica_actual', 'Nacionalidad_española', 'Convivencia',\r\n",
    "       'Estado_civil', 'Nivel_estudios', 'Vacunación_gripe',\r\n",
    "       'Toma_tensiónArterial_profesional', 'Medición_colesterol',\r\n",
    "       'Prueba_sangreHeces', 'Colonoscopia', 'Peso(Kg)',\r\n",
    "       'Freq_ActividadFísica', 'Freq_Consumo_FrutaFresca',\r\n",
    "       'Freq_Consumo_Carne', 'Freq_Consumo_Huevos', 'Freq_Consumo_Pescado',\r\n",
    "       'Freq_Consumo_PastaArrozPatatas', 'Freq_Consumo_PanCereales',\r\n",
    "       'Freq_Consumo_VerdurasEnsaladasHortalizas', 'Freq_Consumo_Legumbres',\r\n",
    "       'Freq_Consumo_EmbutidosFiambres', 'Freq_Consumo_Lácteos',\r\n",
    "       'Freq_Consumo_Dulces', 'Freq_Consumo_ComidaRápida',\r\n",
    "       'Freq_Consumo_ZumoNatural', 'Freq_Diaria_CepilladoDientes',\r\n",
    "       '¿Fuma actualmente', 'Freq_Consumo_Alcohol',\r\n",
    "       'ApoyoAfectivoPersonal_AmigosFamiliares', 'ClaseSocial_BasadaOcupación',\r\n",
    "       'Índice_MasaCorporal',]]"
   ]
  },
  {
   "cell_type": "code",
   "execution_count": 5,
   "metadata": {},
   "outputs": [
    {
     "data": {
      "text/plain": [
       "(7650, 34)"
      ]
     },
     "execution_count": 5,
     "metadata": {},
     "output_type": "execute_result"
    }
   ],
   "source": [
    "X.shape"
   ]
  },
  {
   "cell_type": "code",
   "execution_count": 6,
   "metadata": {},
   "outputs": [],
   "source": [
    "y = ENS_2017_C0['Salud_percibida']"
   ]
  },
  {
   "cell_type": "code",
   "execution_count": 7,
   "metadata": {},
   "outputs": [],
   "source": [
    "from sklearn.model_selection import train_test_split\r\n",
    "X_train, X_test, y_train, y_test = train_test_split(X, y, test_size=0.2, random_state=101)"
   ]
  },
  {
   "cell_type": "code",
   "execution_count": 8,
   "metadata": {},
   "outputs": [],
   "source": [
    "from sklearn.preprocessing import StandardScaler\r\n",
    "\r\n",
    "scaler = StandardScaler().fit(X_train)\r\n",
    "\r\n",
    "X_train = scaler.transform(X_train)\r\n",
    "\r\n",
    "X_test = scaler.transform(X_test)"
   ]
  },
  {
   "cell_type": "code",
   "execution_count": 9,
   "metadata": {},
   "outputs": [
    {
     "data": {
      "text/plain": [
       "(6120, 34)"
      ]
     },
     "execution_count": 9,
     "metadata": {},
     "output_type": "execute_result"
    }
   ],
   "source": [
    "X_train.shape"
   ]
  },
  {
   "cell_type": "code",
   "execution_count": 10,
   "metadata": {},
   "outputs": [
    {
     "data": {
      "text/plain": [
       "(1530, 34)"
      ]
     },
     "execution_count": 10,
     "metadata": {},
     "output_type": "execute_result"
    }
   ],
   "source": [
    "X_test.shape"
   ]
  },
  {
   "cell_type": "code",
   "execution_count": 11,
   "metadata": {},
   "outputs": [
    {
     "data": {
      "text/plain": [
       "1530"
      ]
     },
     "execution_count": 11,
     "metadata": {},
     "output_type": "execute_result"
    }
   ],
   "source": [
    "len(y_test)"
   ]
  },
  {
   "cell_type": "code",
   "execution_count": 12,
   "metadata": {},
   "outputs": [],
   "source": [
    "model = models.Sequential()\r\n",
    "model.add(layers.Dense(32, activation='relu', input_shape = (34,)))\r\n",
    "model.add(layers.Dense(10, activation='relu'))\r\n",
    "model.add(layers.Dense(4,activation='softmax'))\r\n"
   ]
  },
  {
   "cell_type": "code",
   "execution_count": 13,
   "metadata": {},
   "outputs": [],
   "source": [
    "model.compile(optimizer='adam',# Aporta información sobre cómo el modelo se va actualizando con el set de datos\r\n",
    "              loss='sparse_categorical_crossentropy', # Aporta información sobre la exactitud del modelo durante el entrenamiento\r\n",
    "              metrics=['accuracy']) # permite monitorizar el proceso de entrenamiento y test. Se utiliza el método accuracy (exactitud)"
   ]
  },
  {
   "cell_type": "code",
   "execution_count": 16,
   "metadata": {},
   "outputs": [
    {
     "name": "stdout",
     "output_type": "stream",
     "text": [
      "Epoch 1/50\n",
      "192/192 [==============================] - 0s 1ms/step - loss: 0.6351 - accuracy: 0.7255\n",
      "Epoch 2/50\n",
      "192/192 [==============================] - 0s 1ms/step - loss: 0.6314 - accuracy: 0.7268\n",
      "Epoch 3/50\n",
      "192/192 [==============================] - 0s 1ms/step - loss: 0.6289 - accuracy: 0.7257\n",
      "Epoch 4/50\n",
      "192/192 [==============================] - 0s 1ms/step - loss: 0.6255 - accuracy: 0.7309\n",
      "Epoch 5/50\n",
      "192/192 [==============================] - 0s 1ms/step - loss: 0.6233 - accuracy: 0.7312\n",
      "Epoch 6/50\n",
      "192/192 [==============================] - 0s 1ms/step - loss: 0.6191 - accuracy: 0.7338\n",
      "Epoch 7/50\n",
      "192/192 [==============================] - 0s 1ms/step - loss: 0.6168 - accuracy: 0.7322\n",
      "Epoch 8/50\n",
      "192/192 [==============================] - 0s 1ms/step - loss: 0.6141 - accuracy: 0.7342\n",
      "Epoch 9/50\n",
      "192/192 [==============================] - 0s 1ms/step - loss: 0.6100 - accuracy: 0.7351\n",
      "Epoch 10/50\n",
      "192/192 [==============================] - 0s 1ms/step - loss: 0.6078 - accuracy: 0.7330\n",
      "Epoch 11/50\n",
      "192/192 [==============================] - 0s 1ms/step - loss: 0.6057 - accuracy: 0.7382\n",
      "Epoch 12/50\n",
      "192/192 [==============================] - 0s 1ms/step - loss: 0.6032 - accuracy: 0.7364\n",
      "Epoch 13/50\n",
      "192/192 [==============================] - 0s 1ms/step - loss: 0.6013 - accuracy: 0.7407\n",
      "Epoch 14/50\n",
      "192/192 [==============================] - 0s 1ms/step - loss: 0.5983 - accuracy: 0.7369\n",
      "Epoch 15/50\n",
      "192/192 [==============================] - 0s 1ms/step - loss: 0.5963 - accuracy: 0.7376\n",
      "Epoch 16/50\n",
      "192/192 [==============================] - 0s 1ms/step - loss: 0.5948 - accuracy: 0.7382\n",
      "Epoch 17/50\n",
      "192/192 [==============================] - 0s 1ms/step - loss: 0.5923 - accuracy: 0.7394\n",
      "Epoch 18/50\n",
      "192/192 [==============================] - 0s 1ms/step - loss: 0.5908 - accuracy: 0.7412\n",
      "Epoch 19/50\n",
      "192/192 [==============================] - 0s 1ms/step - loss: 0.5891 - accuracy: 0.7441\n",
      "Epoch 20/50\n",
      "192/192 [==============================] - 0s 1ms/step - loss: 0.5848 - accuracy: 0.7453\n",
      "Epoch 21/50\n",
      "192/192 [==============================] - 0s 1ms/step - loss: 0.5834 - accuracy: 0.7446\n",
      "Epoch 22/50\n",
      "192/192 [==============================] - 0s 1ms/step - loss: 0.5824 - accuracy: 0.7466\n",
      "Epoch 23/50\n",
      "192/192 [==============================] - 0s 1ms/step - loss: 0.5804 - accuracy: 0.7454\n",
      "Epoch 24/50\n",
      "192/192 [==============================] - 0s 1ms/step - loss: 0.5776 - accuracy: 0.7490\n",
      "Epoch 25/50\n",
      "192/192 [==============================] - 0s 1ms/step - loss: 0.5760 - accuracy: 0.7487\n",
      "Epoch 26/50\n",
      "192/192 [==============================] - 0s 1ms/step - loss: 0.5740 - accuracy: 0.7521\n",
      "Epoch 27/50\n",
      "192/192 [==============================] - 0s 1ms/step - loss: 0.5718 - accuracy: 0.7523\n",
      "Epoch 28/50\n",
      "192/192 [==============================] - 0s 1ms/step - loss: 0.5709 - accuracy: 0.7503\n",
      "Epoch 29/50\n",
      "192/192 [==============================] - 0s 1ms/step - loss: 0.5688 - accuracy: 0.7525\n",
      "Epoch 30/50\n",
      "192/192 [==============================] - 0s 1ms/step - loss: 0.5670 - accuracy: 0.7556\n",
      "Epoch 31/50\n",
      "192/192 [==============================] - 0s 1ms/step - loss: 0.5654 - accuracy: 0.7546\n",
      "Epoch 32/50\n",
      "192/192 [==============================] - 0s 1ms/step - loss: 0.5642 - accuracy: 0.7560\n",
      "Epoch 33/50\n",
      "192/192 [==============================] - 0s 1ms/step - loss: 0.5627 - accuracy: 0.7562\n",
      "Epoch 34/50\n",
      "192/192 [==============================] - 0s 1ms/step - loss: 0.5618 - accuracy: 0.7569\n",
      "Epoch 35/50\n",
      "192/192 [==============================] - 0s 2ms/step - loss: 0.5598 - accuracy: 0.7600\n",
      "Epoch 36/50\n",
      "192/192 [==============================] - 0s 1ms/step - loss: 0.5593 - accuracy: 0.7549\n",
      "Epoch 37/50\n",
      "192/192 [==============================] - 0s 1ms/step - loss: 0.5561 - accuracy: 0.7609\n",
      "Epoch 38/50\n",
      "192/192 [==============================] - 0s 1ms/step - loss: 0.5560 - accuracy: 0.7631\n",
      "Epoch 39/50\n",
      "192/192 [==============================] - 0s 1ms/step - loss: 0.5534 - accuracy: 0.7639\n",
      "Epoch 40/50\n",
      "192/192 [==============================] - 0s 1ms/step - loss: 0.5523 - accuracy: 0.7636\n",
      "Epoch 41/50\n",
      "192/192 [==============================] - 0s 1ms/step - loss: 0.5519 - accuracy: 0.7619\n",
      "Epoch 42/50\n",
      "192/192 [==============================] - 0s 1ms/step - loss: 0.5500 - accuracy: 0.7641\n",
      "Epoch 43/50\n",
      "192/192 [==============================] - 0s 1ms/step - loss: 0.5477 - accuracy: 0.7658\n",
      "Epoch 44/50\n",
      "192/192 [==============================] - 0s 1ms/step - loss: 0.5468 - accuracy: 0.7675\n",
      "Epoch 45/50\n",
      "192/192 [==============================] - 0s 1ms/step - loss: 0.5463 - accuracy: 0.7668\n",
      "Epoch 46/50\n",
      "192/192 [==============================] - 0s 1ms/step - loss: 0.5443 - accuracy: 0.7670\n",
      "Epoch 47/50\n",
      "192/192 [==============================] - 0s 1ms/step - loss: 0.5436 - accuracy: 0.7663\n",
      "Epoch 48/50\n",
      "192/192 [==============================] - 0s 1ms/step - loss: 0.5420 - accuracy: 0.7676\n",
      "Epoch 49/50\n",
      "192/192 [==============================] - 0s 1ms/step - loss: 0.5403 - accuracy: 0.7690\n",
      "Epoch 50/50\n",
      "192/192 [==============================] - 0s 1ms/step - loss: 0.5386 - accuracy: 0.7699\n"
     ]
    },
    {
     "data": {
      "text/plain": [
       "<tensorflow.python.keras.callbacks.History at 0x2dd9ba7b700>"
      ]
     },
     "execution_count": 16,
     "metadata": {},
     "output_type": "execute_result"
    }
   ],
   "source": [
    "model.fit(X_train, y_train, epochs=50)"
   ]
  },
  {
   "cell_type": "code",
   "execution_count": 17,
   "metadata": {},
   "outputs": [
    {
     "name": "stdout",
     "output_type": "stream",
     "text": [
      "48/48 - 0s - loss: 0.8905 - accuracy: 0.6503\n",
      "\n",
      "Test accuracy: 0.6503267884254456\n"
     ]
    }
   ],
   "source": [
    "test_loss, test_acc = model.evaluate(X_test,  y_test, verbose=2)\r\n",
    "\r\n",
    "print('\\nTest accuracy:', test_acc)"
   ]
  }
 ],
 "metadata": {
  "interpreter": {
   "hash": "7980ba124835d5faa10419b5aaaaec0d5be537aa3d05dd29d745d0092f32015f"
  },
  "kernelspec": {
   "display_name": "Python 3.8.9 64-bit",
   "name": "python3"
  },
  "language_info": {
   "codemirror_mode": {
    "name": "ipython",
    "version": 3
   },
   "file_extension": ".py",
   "mimetype": "text/x-python",
   "name": "python",
   "nbconvert_exporter": "python",
   "pygments_lexer": "ipython3",
   "version": "3.8.9"
  },
  "orig_nbformat": 4
 },
 "nbformat": 4,
 "nbformat_minor": 2
}