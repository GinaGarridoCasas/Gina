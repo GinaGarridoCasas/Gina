{
 "cells": [
  {
   "cell_type": "code",
   "execution_count": 83,
   "metadata": {},
   "outputs": [],
   "source": [
    "# TensorFlow y tf.keras\r\n",
    "import tensorflow as tf\r\n",
    "from tensorflow import keras\r\n",
    "from tensorflow.keras import datasets, layers, models\r\n",
    "from keras.layers import Dropout\r\n",
    "\r\n",
    "# Librerias de ayuda\r\n",
    "import pandas as pd\r\n",
    "import numpy as np\r\n",
    "import matplotlib.pyplot as pl"
   ]
  },
  {
   "cell_type": "code",
   "execution_count": 84,
   "metadata": {},
   "outputs": [],
   "source": [
    "ENS_2017_C1 = pd.read_csv(\"../data/Bases_trabajo/ENS_2017_C1.csv\", sep =',')"
   ]
  },
  {
   "cell_type": "code",
   "execution_count": 85,
   "metadata": {},
   "outputs": [],
   "source": [
    "X = ENS_2017_C1[['CCAA', 'Sexo', 'Edad',\r\n",
    "       'Actividad_economica_actual', 'Nacionalidad_española', 'Convivencia',\r\n",
    "       'Estado_civil', 'Nivel_estudios', 'Vacunación_gripe',\r\n",
    "       'Toma_tensiónArterial_profesional', 'Medición_colesterol',\r\n",
    "       'Prueba_sangreHeces', 'Colonoscopia', 'Peso(Kg)',\r\n",
    "       'Freq_ActividadFísica', 'Freq_Consumo_FrutaFresca',\r\n",
    "       'Freq_Consumo_Carne', 'Freq_Consumo_Huevos', 'Freq_Consumo_Pescado',\r\n",
    "       'Freq_Consumo_PastaArrozPatatas', 'Freq_Consumo_PanCereales',\r\n",
    "       'Freq_Consumo_VerdurasEnsaladasHortalizas', 'Freq_Consumo_Legumbres',\r\n",
    "       'Freq_Consumo_EmbutidosFiambres', 'Freq_Consumo_Lácteos',\r\n",
    "       'Freq_Consumo_Dulces', 'Freq_Consumo_ComidaRápida',\r\n",
    "       'Freq_Consumo_ZumoNatural', 'Freq_Diaria_CepilladoDientes',\r\n",
    "       '¿Fuma actualmente', 'Freq_Consumo_Alcohol',\r\n",
    "       'ApoyoAfectivoPersonal_AmigosFamiliares', 'ClaseSocial_BasadaOcupación',\r\n",
    "       'Índice_MasaCorporal',]]"
   ]
  },
  {
   "cell_type": "code",
   "execution_count": 39,
   "metadata": {},
   "outputs": [
    {
     "data": {
      "text/plain": [
       "(7743, 34)"
      ]
     },
     "execution_count": 39,
     "metadata": {},
     "output_type": "execute_result"
    }
   ],
   "source": [
    "X.shape"
   ]
  },
  {
   "cell_type": "code",
   "execution_count": 86,
   "metadata": {},
   "outputs": [],
   "source": [
    "y = ENS_2017_C1['Salud_percibida']"
   ]
  },
  {
   "cell_type": "code",
   "execution_count": 87,
   "metadata": {},
   "outputs": [],
   "source": [
    "from sklearn.model_selection import train_test_split\r\n",
    "X_train, X_test, y_train, y_test = train_test_split(X, y, test_size=0.2, random_state=101)"
   ]
  },
  {
   "cell_type": "code",
   "execution_count": 62,
   "metadata": {},
   "outputs": [],
   "source": [
    "from sklearn.preprocessing import StandardScaler\r\n",
    "\r\n",
    "scaler = StandardScaler().fit(X_train)\r\n",
    "\r\n",
    "X_train = scaler.transform(X_train)\r\n",
    "\r\n",
    "X_test = scaler.transform(X_test)"
   ]
  },
  {
   "cell_type": "code",
   "execution_count": 63,
   "metadata": {},
   "outputs": [
    {
     "data": {
      "text/plain": [
       "(6194, 34)"
      ]
     },
     "execution_count": 63,
     "metadata": {},
     "output_type": "execute_result"
    }
   ],
   "source": [
    "X_train.shape"
   ]
  },
  {
   "cell_type": "code",
   "execution_count": 64,
   "metadata": {},
   "outputs": [
    {
     "data": {
      "text/plain": [
       "(1549, 34)"
      ]
     },
     "execution_count": 64,
     "metadata": {},
     "output_type": "execute_result"
    }
   ],
   "source": [
    "X_test.shape"
   ]
  },
  {
   "cell_type": "code",
   "execution_count": 65,
   "metadata": {},
   "outputs": [
    {
     "data": {
      "text/plain": [
       "1549"
      ]
     },
     "execution_count": 65,
     "metadata": {},
     "output_type": "execute_result"
    }
   ],
   "source": [
    "len(y_test)"
   ]
  },
  {
   "cell_type": "code",
   "execution_count": 88,
   "metadata": {},
   "outputs": [],
   "source": [
    "model = models.Sequential()\r\n",
    "model.add(layers.Dense(15, activation='relu', input_shape = (34,))) # 34 es el número de columnas del dataframe\r\n",
    "model.add(layers.Dense(7, activation='relu'))\r\n",
    "model.add(layers.Dense(1,activation='sigmoid'))\r\n"
   ]
  },
  {
   "cell_type": "code",
   "execution_count": 89,
   "metadata": {},
   "outputs": [],
   "source": [
    "model.compile(optimizer='adam',# Aporta información sobre cómo el modelo se va actualizando con el set de datos\r\n",
    "              loss='categorical_crossentropy', # Aporta información sobre la exactitud del modelo durante el entrenamiento\r\n",
    "              metrics=['accuracy']) # permite monitorizar el proceso de entrenamiento y test. Se utiliza el método accuracy (exactitud)"
   ]
  },
  {
   "cell_type": "code",
   "execution_count": 90,
   "metadata": {},
   "outputs": [
    {
     "name": "stdout",
     "output_type": "stream",
     "text": [
      "Epoch 1/10\n",
      "194/194 [==============================] - 1s 1ms/step - loss: 0.0000e+00 - accuracy: 0.6708\n",
      "Epoch 2/10\n",
      "194/194 [==============================] - 0s 1ms/step - loss: 0.0000e+00 - accuracy: 0.6715\n",
      "Epoch 3/10\n",
      "194/194 [==============================] - 0s 1ms/step - loss: 0.0000e+00 - accuracy: 0.6715\n",
      "Epoch 4/10\n",
      "194/194 [==============================] - 0s 1ms/step - loss: 0.0000e+00 - accuracy: 0.6715\n",
      "Epoch 5/10\n",
      "194/194 [==============================] - 0s 1ms/step - loss: 0.0000e+00 - accuracy: 0.6715\n",
      "Epoch 6/10\n",
      "194/194 [==============================] - 0s 1ms/step - loss: 0.0000e+00 - accuracy: 0.6715\n",
      "Epoch 7/10\n",
      "194/194 [==============================] - 0s 2ms/step - loss: 0.0000e+00 - accuracy: 0.6715\n",
      "Epoch 8/10\n",
      "194/194 [==============================] - 0s 1ms/step - loss: 0.0000e+00 - accuracy: 0.6715\n",
      "Epoch 9/10\n",
      "194/194 [==============================] - 0s 1ms/step - loss: 0.0000e+00 - accuracy: 0.6715\n",
      "Epoch 10/10\n",
      "194/194 [==============================] - 0s 1ms/step - loss: 0.0000e+00 - accuracy: 0.6715\n"
     ]
    },
    {
     "data": {
      "text/plain": [
       "<tensorflow.python.keras.callbacks.History at 0x16ae2661bb0>"
      ]
     },
     "execution_count": 90,
     "metadata": {},
     "output_type": "execute_result"
    }
   ],
   "source": [
    "model.fit(X_train, y_train, epochs=10)"
   ]
  },
  {
   "cell_type": "code",
   "execution_count": 91,
   "metadata": {},
   "outputs": [
    {
     "name": "stdout",
     "output_type": "stream",
     "text": [
      "49/49 - 0s - loss: 0.0000e+00 - accuracy: 0.6624\n",
      "\n",
      "Test accuracy: 0.662362813949585\n"
     ]
    }
   ],
   "source": [
    "test_loss, test_acc = model.evaluate(X_test,  y_test, verbose=2)\r\n",
    "\r\n",
    "print('\\nTest accuracy:', test_acc)"
   ]
  },
  {
   "cell_type": "code",
   "execution_count": 92,
   "metadata": {},
   "outputs": [],
   "source": [
    "model = models.Sequential()\r\n",
    "model.add(layers.Dense(32, activation='relu', input_shape = (34,)))\r\n",
    "model.add(layers.Dense(10, activation='relu'))\r\n",
    "model.add(layers.Dense(1,activation='softmax'))\r\n"
   ]
  },
  {
   "cell_type": "code",
   "execution_count": 93,
   "metadata": {},
   "outputs": [],
   "source": [
    "model.compile(optimizer='adam',# Aporta información sobre cómo el modelo se va actualizando con el set de datos\r\n",
    "              loss='categorical_crossentropy', # Aporta información sobre la exactitud del modelo durante el entrenamiento\r\n",
    "              metrics=['accuracy']) # permite monitorizar el proceso de entrenamiento y test. Se utiliza el método accuracy (exactitud)"
   ]
  },
  {
   "cell_type": "code",
   "execution_count": 94,
   "metadata": {},
   "outputs": [
    {
     "name": "stdout",
     "output_type": "stream",
     "text": [
      "Epoch 1/10\n",
      "194/194 [==============================] - 1s 1ms/step - loss: 0.0000e+00 - accuracy: 0.6715\n",
      "Epoch 2/10\n",
      "194/194 [==============================] - 0s 1ms/step - loss: 0.0000e+00 - accuracy: 0.6715\n",
      "Epoch 3/10\n",
      "194/194 [==============================] - 0s 1ms/step - loss: 0.0000e+00 - accuracy: 0.6715\n",
      "Epoch 4/10\n",
      "194/194 [==============================] - 0s 1ms/step - loss: 0.0000e+00 - accuracy: 0.6715\n",
      "Epoch 5/10\n",
      "194/194 [==============================] - 0s 1ms/step - loss: 0.0000e+00 - accuracy: 0.6715\n",
      "Epoch 6/10\n",
      "194/194 [==============================] - 0s 1ms/step - loss: 0.0000e+00 - accuracy: 0.6715\n",
      "Epoch 7/10\n",
      "194/194 [==============================] - 0s 1ms/step - loss: 0.0000e+00 - accuracy: 0.6715\n",
      "Epoch 8/10\n",
      "194/194 [==============================] - 0s 1ms/step - loss: 0.0000e+00 - accuracy: 0.6715\n",
      "Epoch 9/10\n",
      "194/194 [==============================] - 0s 2ms/step - loss: 0.0000e+00 - accuracy: 0.6715\n",
      "Epoch 10/10\n",
      "194/194 [==============================] - 0s 2ms/step - loss: 0.0000e+00 - accuracy: 0.6715\n"
     ]
    },
    {
     "data": {
      "text/plain": [
       "<tensorflow.python.keras.callbacks.History at 0x16ae2c61970>"
      ]
     },
     "execution_count": 94,
     "metadata": {},
     "output_type": "execute_result"
    }
   ],
   "source": [
    "model.fit(X_train, y_train, epochs=10)"
   ]
  },
  {
   "cell_type": "code",
   "execution_count": 95,
   "metadata": {},
   "outputs": [
    {
     "name": "stdout",
     "output_type": "stream",
     "text": [
      "49/49 - 0s - loss: 0.0000e+00 - accuracy: 0.6624\n",
      "\n",
      "Test accuracy: 0.662362813949585\n"
     ]
    }
   ],
   "source": [
    "test_loss, test_acc = model.evaluate(X_test,  y_test, verbose=2)\r\n",
    "\r\n",
    "print('\\nTest accuracy:', test_acc)"
   ]
  }
 ],
 "metadata": {
  "interpreter": {
   "hash": "7980ba124835d5faa10419b5aaaaec0d5be537aa3d05dd29d745d0092f32015f"
  },
  "kernelspec": {
   "display_name": "Python 3.8.9 64-bit",
   "name": "python3"
  },
  "language_info": {
   "codemirror_mode": {
    "name": "ipython",
    "version": 3
   },
   "file_extension": ".py",
   "mimetype": "text/x-python",
   "name": "python",
   "nbconvert_exporter": "python",
   "pygments_lexer": "ipython3",
   "version": "3.8.9"
  },
  "orig_nbformat": 4
 },
 "nbformat": 4,
 "nbformat_minor": 2
}