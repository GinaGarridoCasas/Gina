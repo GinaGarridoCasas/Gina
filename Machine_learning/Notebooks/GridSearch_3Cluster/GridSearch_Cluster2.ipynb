{
 "cells": [
  {
   "cell_type": "code",
   "execution_count": 1,
   "metadata": {},
   "outputs": [],
   "source": [
    "import pandas as pd\r\n",
    "import numpy as np\r\n",
    "\r\n",
    "from sklearn import svm\r\n",
    "from sklearn.tree import DecisionTreeClassifier\r\n",
    "from sklearn.metrics import accuracy_score\r\n",
    "from sklearn import metrics\r\n",
    "\r\n",
    "from sklearn.model_selection import GridSearchCV\r\n",
    "from sklearn.pipeline import Pipeline\r\n",
    "from sklearn.model_selection import RepeatedKFold\r\n",
    "from sklearn.model_selection import train_test_split "
   ]
  },
  {
   "cell_type": "code",
   "execution_count": 2,
   "metadata": {},
   "outputs": [],
   "source": [
    "ENS_2017_C2 = pd.read_csv(\"../../data/Bases_trabajo/ENS_2017_C2.csv\", sep =',')"
   ]
  },
  {
   "cell_type": "code",
   "execution_count": 3,
   "metadata": {},
   "outputs": [],
   "source": [
    "ENS_2017_C2_R = ENS_2017_C2"
   ]
  },
  {
   "cell_type": "code",
   "execution_count": 4,
   "metadata": {},
   "outputs": [],
   "source": [
    "ENS_2017_C2_R= ENS_2017_C2.loc[:,['Edad','Actividad_economica_actual', 'Freq_ActividadFísica', 'Nivel_estudios','Freq_Consumo_VerdurasEnsaladasHortalizas','ApoyoAfectivoPersonal_AmigosFamiliares', 'Salud_percibida']]"
   ]
  },
  {
   "cell_type": "code",
   "execution_count": 5,
   "metadata": {},
   "outputs": [
    {
     "data": {
      "text/plain": [
       "Index(['Edad', 'Actividad_economica_actual', 'Freq_ActividadFísica',\n",
       "       'Nivel_estudios', 'Freq_Consumo_VerdurasEnsaladasHortalizas',\n",
       "       'ApoyoAfectivoPersonal_AmigosFamiliares', 'Salud_percibida'],\n",
       "      dtype='object')"
      ]
     },
     "execution_count": 5,
     "metadata": {},
     "output_type": "execute_result"
    }
   ],
   "source": [
    "ENS_2017_C2_R.columns"
   ]
  },
  {
   "cell_type": "code",
   "execution_count": 6,
   "metadata": {},
   "outputs": [],
   "source": [
    "ENS_muestra = ENS_2017_C2_R.sample(n=1500, random_state=101)"
   ]
  },
  {
   "cell_type": "code",
   "execution_count": 7,
   "metadata": {},
   "outputs": [],
   "source": [
    "X = ENS_muestra[['Edad','Actividad_economica_actual', 'Freq_ActividadFísica', 'Nivel_estudios','Freq_Consumo_VerdurasEnsaladasHortalizas','ApoyoAfectivoPersonal_AmigosFamiliares']]"
   ]
  },
  {
   "cell_type": "code",
   "execution_count": 8,
   "metadata": {},
   "outputs": [],
   "source": [
    "y = ENS_muestra['Salud_percibida']"
   ]
  },
  {
   "cell_type": "code",
   "execution_count": 9,
   "metadata": {},
   "outputs": [],
   "source": [
    "X_train, X_test, y_train, y_test = train_test_split(X, y, test_size=0.2, random_state=42)"
   ]
  },
  {
   "cell_type": "code",
   "execution_count": 10,
   "metadata": {},
   "outputs": [],
   "source": [
    "# Le podemos poner cualquier clasificador. Irá cambiando según va probando pero necesita 1.\r\n",
    "pipe = Pipeline(steps=[('classifier', DecisionTreeClassifier())])\r\n",
    "\r\n",
    "\r\n",
    "decision_tree_params = {\r\n",
    "    'classifier': [DecisionTreeClassifier()],\r\n",
    "    'classifier__max_depth': [3,4],\r\n",
    "    'classifier__min_samples_leaf': [1000,1500],\r\n",
    "    'classifier__min_samples_split': [3000, 3500],\r\n",
    "    'classifier__criterion': ('gini','entropy')\r\n",
    "    }\r\n",
    "\r\n",
    "svm_params = {\r\n",
    "    'classifier': [svm.SVC()],\r\n",
    "    'classifier__kernel':('rbf', 'sigmoid'), \r\n",
    "    'classifier__C':[10, 30, 1000, 100], \r\n",
    "    'classifier__coef0': [-1., 0., 1],\r\n",
    "    'classifier__gamma': [1, 3, 10, 30]\r\n",
    "    }\r\n",
    "\r\n",
    "# hypertuning \r\n",
    "# Create space of candidate learning algorithms and their hyperparameters\r\n",
    "search_space = [\r\n",
    "    decision_tree_params,\r\n",
    "    svm_params\r\n",
    "    ]"
   ]
  },
  {
   "cell_type": "code",
   "execution_count": 11,
   "metadata": {},
   "outputs": [
    {
     "name": "stdout",
     "output_type": "stream",
     "text": [
      "\n",
      "############################\n",
      "\n",
      "best estimator: DecisionTreeClassifier(max_depth=3, min_samples_leaf=1000,\n",
      "                       min_samples_split=3000)\n",
      "\n",
      "############################\n",
      "\n",
      "clf.best_params_ {'classifier': DecisionTreeClassifier(max_depth=3, min_samples_leaf=1000,\n",
      "                       min_samples_split=3000), 'classifier__criterion': 'gini', 'classifier__max_depth': 3, 'classifier__min_samples_leaf': 1000, 'classifier__min_samples_split': 3000}\n",
      "\n",
      "############################\n",
      "\n",
      "clf.best_score 0.6641666666666667\n"
     ]
    }
   ],
   "source": [
    "# Create grid search \r\n",
    "clf = GridSearchCV(estimator=pipe, param_grid=search_space, verbose=0, n_jobs=-1)\r\n",
    "\r\n",
    "# Fit grid search\r\n",
    "best_model = clf.fit(X_train, y_train)\r\n",
    "\r\n",
    "# View best model\r\n",
    "separator = \"\\n############################\\n\"\r\n",
    "print(separator)\r\n",
    "print(\"best estimator:\", best_model.best_estimator_.get_params()['classifier'])\r\n",
    "print(separator)\r\n",
    "print(\"clf.best_params_\", clf.best_params_)\r\n",
    "print(separator)\r\n",
    "# Mean cross-validated score of the best_estimator\r\n",
    "print(\"clf.best_score\", clf.best_score_)\r\n",
    "\r\n",
    "#SAVE MODEL\r\n",
    "# save the model to disk\r\n",
    "# filename = 'finished_model.sav'\r\n",
    "# pickle.dump(best_model, open(filename, 'wb'))"
   ]
  },
  {
   "cell_type": "markdown",
   "metadata": {},
   "source": [
    "## Gridsearch con todas las variables del cluster 2"
   ]
  },
  {
   "cell_type": "code",
   "execution_count": 12,
   "metadata": {},
   "outputs": [],
   "source": [
    "ENS_2017_C2 = pd.read_csv(\"../../data/Bases_trabajo/ENS_2017_C2.csv\", sep =',')"
   ]
  },
  {
   "cell_type": "code",
   "execution_count": 13,
   "metadata": {},
   "outputs": [],
   "source": [
    "ENS_muestra = ENS_2017_C2.sample(n=1500, random_state=101)"
   ]
  },
  {
   "cell_type": "code",
   "execution_count": 14,
   "metadata": {},
   "outputs": [],
   "source": [
    "X = ENS_muestra[['CCAA', 'Sexo', 'Edad',\r\n",
    "       'Actividad_economica_actual', 'Nacionalidad_española', 'Convivencia',\r\n",
    "       'Estado_civil', 'Nivel_estudios', 'Vacunación_gripe',\r\n",
    "       'Toma_tensiónArterial_profesional', 'Medición_colesterol',\r\n",
    "       'Prueba_sangreHeces', 'Colonoscopia', 'Peso(Kg)',\r\n",
    "       'Freq_ActividadFísica', 'Freq_Consumo_FrutaFresca',\r\n",
    "       'Freq_Consumo_Carne', 'Freq_Consumo_Huevos', 'Freq_Consumo_Pescado',\r\n",
    "       'Freq_Consumo_PastaArrozPatatas', 'Freq_Consumo_PanCereales',\r\n",
    "       'Freq_Consumo_VerdurasEnsaladasHortalizas', 'Freq_Consumo_Legumbres',\r\n",
    "       'Freq_Consumo_EmbutidosFiambres', 'Freq_Consumo_Lácteos',\r\n",
    "       'Freq_Consumo_Dulces', 'Freq_Consumo_ComidaRápida',\r\n",
    "       'Freq_Consumo_ZumoNatural', 'Freq_Diaria_CepilladoDientes',\r\n",
    "       '¿Fuma actualmente', 'Freq_Consumo_Alcohol',\r\n",
    "       'ApoyoAfectivoPersonal_AmigosFamiliares', 'ClaseSocial_BasadaOcupación',\r\n",
    "       'Índice_MasaCorporal']]"
   ]
  },
  {
   "cell_type": "code",
   "execution_count": 15,
   "metadata": {},
   "outputs": [],
   "source": [
    "y = ENS_muestra['Salud_percibida']"
   ]
  },
  {
   "cell_type": "code",
   "execution_count": 16,
   "metadata": {},
   "outputs": [],
   "source": [
    "X_train, X_test, y_train, y_test = train_test_split(X, y, test_size=0.2, random_state=101)"
   ]
  },
  {
   "cell_type": "code",
   "execution_count": 17,
   "metadata": {},
   "outputs": [],
   "source": [
    "\r\n",
    "pipe = Pipeline(steps=[('classifier', DecisionTreeClassifier())])\r\n",
    "\r\n",
    "\r\n",
    "decision_tree_params = {\r\n",
    "    'classifier': [DecisionTreeClassifier()],\r\n",
    "    'classifier__max_depth': [3,4],\r\n",
    "    'classifier__min_samples_leaf': [1000,1500],\r\n",
    "    'classifier__min_samples_split': [3000, 3500],\r\n",
    "    'classifier__criterion': ('gini','entropy')\r\n",
    "    }\r\n",
    "\r\n",
    "svm_params = {\r\n",
    "    'classifier': [svm.SVC()],\r\n",
    "    'classifier__kernel':('rbf', 'sigmoid'), \r\n",
    "    'classifier__C':[10, 30, 1000, 100], \r\n",
    "    'classifier__coef0': [-1., 0., 1],\r\n",
    "    'classifier__gamma': [1, 3, 10, 30]\r\n",
    "    }\r\n",
    "\r\n",
    "# hypertuning \r\n",
    "# Create space of candidate learning algorithms and their hyperparameters\r\n",
    "search_space = [\r\n",
    "    decision_tree_params,\r\n",
    "    svm_params\r\n",
    "    ]"
   ]
  },
  {
   "cell_type": "code",
   "execution_count": 18,
   "metadata": {},
   "outputs": [
    {
     "name": "stdout",
     "output_type": "stream",
     "text": [
      "\n",
      "############################\n",
      "\n",
      "best estimator: DecisionTreeClassifier(max_depth=3, min_samples_leaf=1000,\n",
      "                       min_samples_split=3000)\n",
      "\n",
      "############################\n",
      "\n",
      "clf.best_params_ {'classifier': DecisionTreeClassifier(max_depth=3, min_samples_leaf=1000,\n",
      "                       min_samples_split=3000), 'classifier__criterion': 'gini', 'classifier__max_depth': 3, 'classifier__min_samples_leaf': 1000, 'classifier__min_samples_split': 3000}\n",
      "\n",
      "############################\n",
      "\n",
      "clf.best_score 0.6683333333333332\n"
     ]
    }
   ],
   "source": [
    "# Create grid search \r\n",
    "clf = GridSearchCV(estimator=pipe, param_grid=search_space, verbose=0, n_jobs=-1)\r\n",
    "\r\n",
    "# Fit grid search\r\n",
    "best_model = clf.fit(X_train, y_train)\r\n",
    "\r\n",
    "# View best model\r\n",
    "separator = \"\\n############################\\n\"\r\n",
    "print(separator)\r\n",
    "print(\"best estimator:\", best_model.best_estimator_.get_params()['classifier'])\r\n",
    "print(separator)\r\n",
    "print(\"clf.best_params_\", clf.best_params_)\r\n",
    "print(separator)\r\n",
    "# Mean cross-validated score of the best_estimator\r\n",
    "print(\"clf.best_score\", clf.best_score_)\r\n",
    "\r\n",
    "#SAVE MODEL\r\n",
    "# save the model to disk\r\n",
    "# filename = 'finished_model.sav'\r\n",
    "# pickle.dump(best_model, open(filename, 'wb'))"
   ]
  }
 ],
 "metadata": {
  "interpreter": {
   "hash": "7980ba124835d5faa10419b5aaaaec0d5be537aa3d05dd29d745d0092f32015f"
  },
  "kernelspec": {
   "display_name": "Python 3.8.9 64-bit",
   "name": "python3"
  },
  "language_info": {
   "codemirror_mode": {
    "name": "ipython",
    "version": 3
   },
   "file_extension": ".py",
   "mimetype": "text/x-python",
   "name": "python",
   "nbconvert_exporter": "python",
   "pygments_lexer": "ipython3",
   "version": "3.8.9"
  },
  "orig_nbformat": 4
 },
 "nbformat": 4,
 "nbformat_minor": 2
}