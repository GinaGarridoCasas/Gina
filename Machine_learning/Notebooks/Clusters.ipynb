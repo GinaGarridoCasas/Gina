{
 "cells": [
  {
   "cell_type": "markdown",
   "metadata": {},
   "source": [
    "#### Extraemos de la base de datos las variables indepencientes (X) y la dependiente (y)"
   ]
  },
  {
   "cell_type": "code",
   "execution_count": 1,
   "metadata": {},
   "outputs": [
    {
     "data": {
      "text/plain": [
       "(23089, 35)"
      ]
     },
     "execution_count": 1,
     "metadata": {},
     "output_type": "execute_result"
    }
   ],
   "source": [
    "import pandas as pd\n",
    "import numpy as np\n",
    "\n",
    "from sklearn import metrics\n",
    "from sklearn.preprocessing import StandardScaler\n",
    "from sklearn.model_selection import train_test_split\n",
    "from sklearn import datasets\n",
    "from sklearn.cluster import KMeans\n",
    "\n",
    "\n",
    "ENS_2017_valida_2 = pd.read_csv(\"../data/Bases_trabajo/ENS_2017_valida_2.csv\", sep =',')\n",
    "\n",
    "# Pasamos a array la variable que queremos predecir ('actual')\n",
    "y = np.array(ENS_2017_valida_2['Salud_percibida'])\n",
    "# Eliminamos del dataframe la variable que queremos predecir y mantenemos el resto como columnas (serán las variables predictoras:X)\n",
    "# axis 1 se refiere a las columnas\n",
    "X= np.array(ENS_2017_valida_2.drop('Salud_percibida', axis = 1))\n",
    "X.shape\n",
    "\n"
   ]
  },
  {
   "cell_type": "code",
   "execution_count": 2,
   "metadata": {},
   "outputs": [],
   "source": [
    "# Dividimos en muestra de entrenamiento y de test\r\n",
    "X_train, X_test, y_train, y_test = train_test_split(X,\r\n",
    "                                                    y,\r\n",
    "                                                    test_size=0.2,\r\n",
    "                                                    random_state=42)"
   ]
  },
  {
   "cell_type": "markdown",
   "metadata": {},
   "source": [
    "## Método Kmeans"
   ]
  },
  {
   "cell_type": "markdown",
   "metadata": {},
   "source": [
    "#### Determinamos el número de Clusters óptimo en la muestra de entrenamiento"
   ]
  },
  {
   "cell_type": "code",
   "execution_count": 3,
   "metadata": {},
   "outputs": [
    {
     "data": {
      "image/png": "[encoded data removed]",
      "text/plain": [
       "<Figure size 432x288 with 1 Axes>"
      ]
     },
     "metadata": {
      "needs_background": "light"
     },
     "output_type": "display_data"
    }
   ],
   "source": [
    "# Identificamos el número de clústers más adecuado viendo en una gráfica cual puede ser el elbow (codo). El número de clústers a partir del cual ya no aumenta de forma importante el score\n",
    "import matplotlib.pyplot as plt\n",
    "\n",
    "Nc = range(1, 10)\n",
    "kmeans = [KMeans(n_clusters=i) for i in Nc]\n",
    "kmeans\n",
    "score = [kmeans[i].fit(X_train).score(X_train) for i in range(len(kmeans))]\n",
    "score\n",
    "plt.plot(Nc,score)\n",
    "plt.xlabel('Number of Clusters')\n",
    "plt.ylabel('Score')\n",
    "plt.title('Elbow Curve')\n",
    "plt.show()\n",
    "\n",
    "# UTILIZAREMOS 4 CLÚSTERS"
   ]
  },
  {
   "cell_type": "markdown",
   "metadata": {},
   "source": [
    "# 4 Clústers"
   ]
  },
  {
   "cell_type": "markdown",
   "metadata": {},
   "source": [
    "### Kmeans. Muestra de entrenamiento"
   ]
  },
  {
   "cell_type": "code",
   "execution_count": 4,
   "metadata": {},
   "outputs": [
    {
     "name": "stdout",
     "output_type": "stream",
     "text": [
      "kmeans.labels_: [3 1 3 ... 2 2 3]\n",
      "\n",
      "predict: [3 1 3 ... 2 2 3]\n",
      "\n",
      "KMeans cluster centers 3:\n",
      " [[8.66088494e+03 9.84058282e+00 1.53010499e+00 5.40276409e+01\n",
      "  2.35868867e+00 1.06278123e+00 1.94943218e+00 2.05035355e+00\n",
      "  5.74823227e+00 1.74651811e+00 1.02485537e+00 1.03085494e+00\n",
      "  1.81208485e+00 1.83222627e+00 7.27030212e+01 1.98778659e+00\n",
      "  1.68223698e+00 2.92264838e+00 3.64173988e+00 3.50117849e+00\n",
      "  2.87615170e+00 1.34476109e+00 2.06213842e+00 3.76173130e+00\n",
      "  3.61667024e+00 1.38311549e+00 3.27683737e+00 4.93164774e+00\n",
      "  4.49925005e+00 3.88515106e+00 3.09620741e+00 5.54381830e+00\n",
      "  3.93550461e+00 3.97728734e+00 2.68823655e+00]\n",
      " [2.02121673e+04 8.14820490e+00 1.54487741e+00 5.33450088e+01\n",
      "  2.47898424e+00 1.05100701e+00 1.93388792e+00 2.08493870e+00\n",
      "  5.80297723e+00 1.77451839e+00 1.02889667e+00 1.03305604e+00\n",
      "  1.78787215e+00 1.85573555e+00 7.28211471e+01 1.92819615e+00\n",
      "  1.83690893e+00 2.96278459e+00 3.69570928e+00 3.58537653e+00\n",
      "  3.07815236e+00 1.34763573e+00 2.05297723e+00 3.88200525e+00\n",
      "  3.48817863e+00 1.37018389e+00 3.23183012e+00 4.92797723e+00\n",
      "  4.41922067e+00 3.88156743e+00 3.04422067e+00 5.63835377e+00\n",
      "  3.99759194e+00 3.95556042e+00 2.67578809e+00]\n",
      " [2.85411947e+03 7.99411380e+00 1.54196643e+00 5.30636582e+01\n",
      "  2.35687813e+00 1.07979071e+00 1.95094833e+00 2.07259647e+00\n",
      "  5.75256159e+00 1.79180292e+00 1.03466318e+00 1.04272945e+00\n",
      "  1.83736647e+00 1.86614345e+00 7.19047308e+01 1.85633312e+00\n",
      "  1.70067582e+00 3.02180074e+00 3.80030521e+00 3.62698932e+00\n",
      "  2.58360584e+00 1.31349466e+00 1.90538478e+00 3.82951820e+00\n",
      "  3.47024199e+00 1.53193809e+00 3.24787443e+00 4.96511881e+00\n",
      "  4.62851537e+00 3.84499673e+00 3.05580990e+00 5.69282756e+00\n",
      "  4.08742097e+00 4.03618923e+00 2.64770002e+00]\n",
      " [1.44472000e+04 9.32286513e+00 1.55022586e+00 5.30699075e+01\n",
      "  2.45794795e+00 1.05700151e+00 1.92127339e+00 2.09765541e+00\n",
      "  5.76166918e+00 1.76597118e+00 1.02473650e+00 1.01978920e+00\n",
      "  1.81006668e+00 1.83609378e+00 7.23316842e+01 2.03140460e+00\n",
      "  1.78576038e+00 3.03248010e+00 3.61755216e+00 3.73607227e+00\n",
      "  2.96881050e+00 1.37276834e+00 2.15465692e+00 3.80748548e+00\n",
      "  3.61411056e+00 1.41492794e+00 3.46138955e+00 5.08905141e+00\n",
      "  4.41686384e+00 4.16154012e+00 3.04538610e+00 5.70832437e+00\n",
      "  3.96149710e+00 4.00817380e+00 2.67799527e+00]]\n"
     ]
    }
   ],
   "source": [
    "# establecemos el modelo de cluster con Kmeans\n",
    "\n",
    "kmeans_train = KMeans(n_clusters=4, random_state=42).fit(X_train)\n",
    "print(\"kmeans.labels_:\", kmeans_train.labels_)\n",
    "predict_train = kmeans_train.predict(X_train)\n",
    "print(\"\\npredict:\", predict_train)\n",
    "clusters_train = kmeans_train.cluster_centers_\n",
    "print(f'\\nKMeans cluster centers 3:\\n {clusters_train}')"
   ]
  },
  {
   "cell_type": "code",
   "execution_count": 5,
   "metadata": {},
   "outputs": [
    {
     "name": "stdout",
     "output_type": "stream",
     "text": [
      "K_train_Score: 0.25\n"
     ]
    }
   ],
   "source": [
    "k_train_score = metrics.accuracy_score(y_train, predict_train)\n",
    "print(f'K_train_Score: {k_train_score.round(2)}')\n"
   ]
  },
  {
   "cell_type": "markdown",
   "metadata": {},
   "source": [
    "### Kmeans. Muestra de test\r\n"
   ]
  },
  {
   "cell_type": "code",
   "execution_count": 6,
   "metadata": {},
   "outputs": [
    {
     "name": "stdout",
     "output_type": "stream",
     "text": [
      "kmeans.labels_: [2 3 1 ... 1 0 1]\n",
      "\n",
      "predict: [2 3 1 ... 1 0 1]\n",
      "\n",
      "KMeans cluster centers 3:\n",
      " [[8.42766174e+03 9.44085028e+00 1.52680222e+00 5.44066543e+01\n",
      "  2.40850277e+00 1.04990758e+00 1.96395564e+00 2.04158965e+00\n",
      "  5.66820702e+00 1.74121996e+00 1.03049908e+00 1.03881701e+00\n",
      "  1.81330869e+00 1.84565619e+00 7.24269871e+01 2.00462107e+00\n",
      "  1.66081331e+00 2.92883549e+00 3.61090573e+00 3.48059150e+00\n",
      "  2.88262477e+00 1.35489834e+00 2.06469501e+00 3.71164510e+00\n",
      "  3.56561922e+00 1.39556377e+00 3.31885397e+00 4.94085028e+00\n",
      "  4.47689464e+00 3.85027726e+00 3.10998152e+00 5.65526802e+00\n",
      "  3.90295749e+00 4.08687616e+00 2.68484288e+00]\n",
      " [2.00680426e+04 7.99357430e+00 1.52851406e+00 5.40441767e+01\n",
      "  2.46666667e+00 1.05863454e+00 1.88192771e+00 2.05783133e+00\n",
      "  5.73654618e+00 1.75823293e+00 1.03052209e+00 1.02329317e+00\n",
      "  1.77991968e+00 1.85943775e+00 7.42546185e+01 1.93654618e+00\n",
      "  1.81285141e+00 2.98795181e+00 3.66104418e+00 3.58072289e+00\n",
      "  3.06024096e+00 1.38232932e+00 2.05863454e+00 3.87068273e+00\n",
      "  3.52449799e+00 1.37108434e+00 3.35421687e+00 4.97751004e+00\n",
      "  4.40963855e+00 3.91405622e+00 3.06345382e+00 5.53253012e+00\n",
      "  4.01124498e+00 4.04337349e+00 2.76867470e+00]\n",
      " [2.93581905e+03 7.84242424e+00 1.53506494e+00 5.37272727e+01\n",
      "  2.38787879e+00 1.08138528e+00 1.90476190e+00 2.06233766e+00\n",
      "  5.67186147e+00 1.78787879e+00 1.03722944e+00 1.03549784e+00\n",
      "  1.83203463e+00 1.85194805e+00 7.24675325e+01 1.83376623e+00\n",
      "  1.72813853e+00 2.98961039e+00 3.80865801e+00 3.60086580e+00\n",
      "  2.55584416e+00 1.24761905e+00 1.84242424e+00 3.76190476e+00\n",
      "  3.40519481e+00 1.46406926e+00 3.31168831e+00 5.02077922e+00\n",
      "  4.69783550e+00 3.80865801e+00 3.04415584e+00 5.79653680e+00\n",
      "  4.08051948e+00 4.00519481e+00 2.66060606e+00]\n",
      " [1.41185678e+04 9.66989437e+00 1.56426056e+00 5.24894366e+01\n",
      "  2.48415493e+00 1.06073944e+00 1.89964789e+00 2.09066901e+00\n",
      "  5.89876761e+00 1.78433099e+00 1.02200704e+00 1.02200704e+00\n",
      "  1.81778169e+00 1.84330986e+00 7.27684859e+01 2.05017606e+00\n",
      "  1.71830986e+00 2.98415493e+00 3.57658451e+00 3.73415493e+00\n",
      "  2.93397887e+00 1.39260563e+00 2.17517606e+00 3.81690141e+00\n",
      "  3.59683099e+00 1.40492958e+00 3.34771127e+00 4.97711268e+00\n",
      "  4.41813380e+00 4.14788732e+00 3.05369718e+00 5.65580986e+00\n",
      "  3.94278169e+00 3.95774648e+00 2.69982394e+00]]\n"
     ]
    }
   ],
   "source": [
    "kmeans_test = KMeans(n_clusters=4, random_state=42).fit(X_test)\n",
    "print(\"kmeans.labels_:\", kmeans_test.labels_)\n",
    "predict_test = kmeans_test.predict(X_test)\n",
    "print(\"\\npredict:\", predict_test)\n",
    "clusters_test = kmeans_test.cluster_centers_\n",
    "print(f'\\nKMeans cluster centers 3:\\n {clusters_test}')"
   ]
  },
  {
   "cell_type": "code",
   "execution_count": 7,
   "metadata": {},
   "outputs": [
    {
     "name": "stdout",
     "output_type": "stream",
     "text": [
      "K_train_Score: 0.26\n"
     ]
    }
   ],
   "source": [
    "k_test_score = metrics.accuracy_score(y_test, predict_test)\n",
    "print(f'K_train_Score: {k_test_score.round(2)}')"
   ]
  },
  {
   "cell_type": "markdown",
   "metadata": {},
   "source": [
    "## Datos estandarizados"
   ]
  },
  {
   "cell_type": "markdown",
   "metadata": {},
   "source": [
    "### Kmeans. Muestra de entrenamiento"
   ]
  },
  {
   "cell_type": "code",
   "execution_count": 8,
   "metadata": {},
   "outputs": [],
   "source": [
    "# Normalizamos los datos\r\n",
    "X_train_N = StandardScaler().fit_transform(X_train)"
   ]
  },
  {
   "cell_type": "code",
   "execution_count": 9,
   "metadata": {},
   "outputs": [
    {
     "name": "stdout",
     "output_type": "stream",
     "text": [
      "kmeans.labels_: [3 3 2 ... 3 3 1]\n",
      "\n",
      "predict: [3 3 2 ... 3 3 1]\n",
      "\n",
      "KMeans cluster centers 3:\n",
      " [[-1.26472484e-01 -8.83539103e-02 -1.55104416e-01 -1.06193915e+00\n",
      "   1.69471227e-01  3.88215447e-01  4.94685568e-01 -5.49596893e-01\n",
      "  -3.13124382e-02  4.32053716e-01  3.36031029e+00  3.54664052e+00\n",
      "   3.80417089e-01  3.27100283e-01 -2.61954094e-01  2.12819035e-01\n",
      "   4.80172575e-01 -1.83839445e-01 -1.49382466e-01  2.36934489e-01\n",
      "  -1.78087380e-01  3.66179048e-03  4.09204108e-01  4.45936062e-02\n",
      "  -2.29122780e-01  1.08948704e-01 -2.27076220e-01 -6.18022485e-01\n",
      "  -8.02684801e-02  1.97888474e-02  3.39664349e-02  1.94560292e-01\n",
      "  -6.82692282e-04  1.32736355e-01 -3.89149954e-01]\n",
      " [-1.42556131e-02 -1.81873060e-02  2.40289964e-01  9.65318393e-01\n",
      "   7.28278333e-01 -1.72204059e-01  6.33788163e-02  3.80180905e-01\n",
      "  -7.78470250e-01 -7.43974780e-01 -1.67578065e-01 -1.75859448e-01\n",
      "  -2.18393078e-01 -2.44517142e-01 -9.95543222e-03 -3.44974522e-01\n",
      "  -3.02811087e-01  2.80198737e-01  1.28657459e-01 -1.55244110e-01\n",
      "   7.06880429e-02 -9.33757411e-02 -9.49806843e-02 -2.45250718e-02\n",
      "   3.42975228e-01 -9.13269419e-02  1.28271561e-01  6.00394509e-01\n",
      "   2.16347887e-01 -3.11268423e-01  3.68752791e-01  2.91004683e-01\n",
      "   1.93783766e-02  3.41183612e-01  2.61636628e-01]\n",
      " [ 5.07056795e-02  1.05759225e-01  2.67161119e-01 -3.68517034e-01\n",
      "  -4.13003229e-01 -3.76687440e-02 -1.08804788e-01 -8.29023451e-02\n",
      "   8.50938955e-01  3.22690486e-01 -1.70535627e-01 -1.80531664e-01\n",
      "  -9.28711788e-03  1.53920007e-02 -3.98257974e-01  4.54516984e-01\n",
      "  -2.60995074e-01  4.97132065e-02 -1.22534709e-02 -1.52731690e-01\n",
      "   1.39695541e-01  1.49308295e-01 -3.28113639e-01  6.00976871e-02\n",
      "   1.05924614e-01  8.92313757e-02  5.47478634e-02  2.43387811e-02\n",
      "  -3.80211847e-01  5.47261709e-01  5.13351293e-02 -9.38419407e-02\n",
      "   7.85183506e-02 -6.67842782e-01 -4.46640969e-01]\n",
      " [-1.82236404e-02 -7.88631939e-02 -5.26430714e-01 -5.02559838e-01\n",
      "  -3.90229559e-01  1.68417328e-01 -3.28882955e-02 -2.43452136e-01\n",
      "  -4.48044470e-02  4.07838877e-01 -1.70535627e-01 -1.80531664e-01\n",
      "   1.90354027e-01  2.01366539e-01  4.78889822e-01 -1.38967331e-01\n",
      "   5.36870989e-01 -3.33369185e-01 -1.05149034e-01  2.96961696e-01\n",
      "  -1.99002417e-01 -5.70856538e-02  3.90351674e-01 -4.43140031e-02\n",
      "  -4.55608752e-01 -1.19573855e-02 -1.63939332e-01 -5.90541936e-01\n",
      "   1.80413018e-01 -2.44494865e-01 -4.67841374e-01 -2.52373169e-01\n",
      "  -1.05281134e-01  3.15973750e-01  2.50875485e-01]]\n"
     ]
    }
   ],
   "source": [
    "kmeans_train_N = KMeans(n_clusters=4, random_state=42).fit(X_train_N)\n",
    "print(\"kmeans.labels_:\", kmeans_train_N.labels_)\n",
    "predict_train = kmeans_train_N.predict(X_train_N)\n",
    "print(\"\\npredict:\", predict_train)\n",
    "clusters_train = kmeans_train_N.cluster_centers_\n",
    "print(f'\\nKMeans cluster centers 3:\\n {clusters_train}')"
   ]
  },
  {
   "cell_type": "code",
   "execution_count": 10,
   "metadata": {},
   "outputs": [
    {
     "name": "stdout",
     "output_type": "stream",
     "text": [
      "K_train_N_Score: 0.21\n"
     ]
    }
   ],
   "source": [
    "k_train_N_score = metrics.accuracy_score(y_train, predict_train)\n",
    "print(f'K_train_N_Score: {k_train_N_score.round(2)}')"
   ]
  },
  {
   "cell_type": "markdown",
   "metadata": {},
   "source": [
    "### Kmeans. Muestra de test "
   ]
  },
  {
   "cell_type": "code",
   "execution_count": 11,
   "metadata": {},
   "outputs": [],
   "source": [
    "# Normalizamos los datos\n",
    "X_test_N = StandardScaler().fit_transform(X_test)"
   ]
  },
  {
   "cell_type": "code",
   "execution_count": 12,
   "metadata": {},
   "outputs": [
    {
     "name": "stdout",
     "output_type": "stream",
     "text": [
      "kmeans.labels_: [2 0 2 ... 1 0 2]\n",
      "\n",
      "predict: [2 0 2 ... 1 0 2]\n",
      "\n",
      "KMeans cluster centers 3:\n",
      " [[ 0.00612344 -0.00583549  0.29912859  0.96269382  0.75459151 -0.16418822\n",
      "   0.0629554   0.32461102 -0.75897872 -0.75488889 -0.17616388 -0.17098547\n",
      "  -0.21008303 -0.21514965 -0.05094503 -0.36817563 -0.30970833  0.31847745\n",
      "   0.14312683 -0.18707031  0.06830476 -0.11622493 -0.08660895 -0.0378173\n",
      "   0.36213936 -0.05552988  0.1462195   0.57321142  0.17965667 -0.27982956\n",
      "   0.39081654  0.36901293  0.03751656  0.31635866  0.25636263]\n",
      " [-0.00614998 -0.08178031 -0.78131586 -0.32328913 -0.47236982  0.04833893\n",
      "  -0.11392321 -0.06007002  0.05559175  0.37111884 -0.17616388 -0.17485289\n",
      "   0.07121315  0.09117095  0.70989941 -0.06864442  0.41455759 -0.30390616\n",
      "  -0.04532203  0.23885523 -0.09914358 -0.04301805  0.31618725 -0.01110855\n",
      "  -0.46234232  0.00971658 -0.10461475 -0.43144907  0.22138862 -0.34282668\n",
      "  -0.47078316 -0.49647182 -0.13089946  0.17470814  0.41591944]\n",
      " [ 0.02340673  0.10428679  0.38910997 -0.52935433 -0.3463544   0.06636051\n",
      "  -0.04475887 -0.18513168  0.70093349  0.36560138 -0.17616388 -0.17485289\n",
      "   0.09823333  0.08681014 -0.51939589  0.40409783 -0.11825758 -0.03549881\n",
      "  -0.08466277 -0.07043298  0.05743635  0.14851107 -0.22493156  0.06499866\n",
      "   0.06461175  0.0354242  -0.02179444 -0.12683309 -0.34954762  0.55122564\n",
      "   0.0324039   0.03296682  0.0822279  -0.47054127 -0.55178901]\n",
      " [-0.17152722 -0.20976695 -0.15938213 -0.98525807  0.05061532  0.37818693\n",
      "   0.5620185  -0.57770384 -0.04170402  0.42025841  3.52167613  3.46867754\n",
      "   0.33352489  0.33027844 -0.20972419  0.09717528  0.50552651 -0.13809264\n",
      "  -0.12062529  0.3672979  -0.28757233  0.00984896  0.3039732  -0.13223451\n",
      "  -0.20295438  0.0755632  -0.23314808 -0.49311767 -0.09080933  0.08143895\n",
      "  -0.12291922  0.17767936 -0.06016244  0.09864564 -0.35178022]]\n"
     ]
    }
   ],
   "source": [
    "kmeans_test_N = KMeans(n_clusters=4, random_state=42).fit(X_test_N)\n",
    "print(\"kmeans.labels_:\", kmeans_test_N.labels_)\n",
    "predict_test = kmeans_test_N.predict(X_test_N)\n",
    "print(\"\\npredict:\", predict_test)\n",
    "clusters_test = kmeans_test_N.cluster_centers_\n",
    "print(f'\\nKMeans cluster centers 3:\\n {clusters_test}')"
   ]
  },
  {
   "cell_type": "code",
   "execution_count": 13,
   "metadata": {},
   "outputs": [
    {
     "name": "stdout",
     "output_type": "stream",
     "text": [
      "K_test_N_Score: 0.27\n"
     ]
    }
   ],
   "source": [
    "k_test_N_score = metrics.accuracy_score(y_test, predict_test)\n",
    "print(f'K_test_N_Score: {k_test_N_score.round(2)}')"
   ]
  },
  {
   "cell_type": "markdown",
   "metadata": {},
   "source": [
    "# 3 Clústers. Igual que los valores de la VD"
   ]
  },
  {
   "cell_type": "code",
   "execution_count": 14,
   "metadata": {},
   "outputs": [
    {
     "data": {
      "text/plain": [
       "(23089, 35)"
      ]
     },
     "execution_count": 14,
     "metadata": {},
     "output_type": "execute_result"
    }
   ],
   "source": [
    "ENS_2017_valida_2 = pd.read_csv(\"../data/Bases_trabajo/ENS_2017_valida_2.csv\", sep =',')\n",
    "\n",
    "# Pasamos a array la variable que queremos predecir ('actual')\n",
    "y = np.array(ENS_2017_valida_2['Salud_percibida'])\n",
    "# Eliminamos del dataframe la variable que queremos predecir y mantenemos el resto como columnas (serán las variables predictoras:X)\n",
    "# axis 1 se refiere a las columnas\n",
    "X= np.array(ENS_2017_valida_2.drop('Salud_percibida', axis = 1))\n",
    "X.shape"
   ]
  },
  {
   "cell_type": "code",
   "execution_count": 15,
   "metadata": {},
   "outputs": [],
   "source": [
    "# Dividimos en muestra de entrenamiento y de test\n",
    "X_train, X_test, y_train, y_test = train_test_split(X,\n",
    "                                                    y,\n",
    "                                                    test_size=0.2,\n",
    "                                                    random_state=42)"
   ]
  },
  {
   "cell_type": "markdown",
   "metadata": {},
   "source": [
    "### Kmeans. Muestra de entrenamiento"
   ]
  },
  {
   "cell_type": "code",
   "execution_count": 16,
   "metadata": {},
   "outputs": [
    {
     "name": "stdout",
     "output_type": "stream",
     "text": [
      "kmeans.labels_: [2 0 2 ... 1 1 0]\n",
      "\n",
      "predict: [2 0 2 ... 1 1 0]\n",
      "\n",
      "KMeans cluster centers 3:\n",
      " [[1.92048098e+04 7.72967282e+00 1.54324587e+00 5.34036281e+01\n",
      "  2.47100745e+00 1.04842890e+00 1.94088111e+00 2.09199870e+00\n",
      "  5.76336249e+00 1.77632005e+00 1.02607710e+00 1.02802073e+00\n",
      "  1.78701004e+00 1.85017817e+00 7.28312277e+01 1.94671202e+00\n",
      "  1.81778426e+00 3.06073858e+00 3.71914480e+00 3.61499838e+00\n",
      "  3.01490120e+00 1.36977648e+00 2.14123745e+00 3.88111435e+00\n",
      "  3.51522514e+00 1.36993845e+00 3.37755102e+00 4.98380305e+00\n",
      "  4.41690962e+00 3.97635245e+00 3.06073858e+00 5.71509556e+00\n",
      "  4.02121801e+00 3.99595076e+00 2.67622287e+00]\n",
      " [3.81867674e+03 7.95162608e+00 1.54044779e+00 5.33876450e+01\n",
      "  2.37767609e+00 1.07109005e+00 1.94672332e+00 2.06291878e+00\n",
      "  5.66857330e+00 1.78100997e+00 1.03268508e+00 1.04003922e+00\n",
      "  1.83281582e+00 1.85847361e+00 7.22493872e+01 1.87890178e+00\n",
      "  1.69717274e+00 3.02925315e+00 3.77120445e+00 3.59764667e+00\n",
      "  2.59405132e+00 1.31867952e+00 1.99950972e+00 3.81336820e+00\n",
      "  3.50106227e+00 1.50563818e+00 3.35888217e+00 4.95554829e+00\n",
      "  4.63703219e+00 3.82480798e+00 3.06978264e+00 5.72070600e+00\n",
      "  4.02729204e+00 4.06030397e+00 2.66661219e+00]\n",
      " [1.15036306e+04 1.08091615e+01 1.54159922e+00 5.33439624e+01\n",
      "  2.38993202e+00 1.06846876e+00 1.92910327e+00 2.07397216e+00\n",
      "  5.86581418e+00 1.75153771e+00 1.02606021e+00 1.02670767e+00\n",
      "  1.81595986e+00 1.83376497e+00 7.22393979e+01 2.02784073e+00\n",
      "  1.73794108e+00 2.86500486e+00 3.57559081e+00 3.62431208e+00\n",
      "  3.01877630e+00 1.34558109e+00 1.99158304e+00 3.76497248e+00\n",
      "  3.62690191e+00 1.39980576e+00 3.17902234e+00 4.99643898e+00\n",
      "  4.41987698e+00 4.02929751e+00 3.05114924e+00 5.50178051e+00\n",
      "  3.93719650e+00 3.92732276e+00 2.67465199e+00]]\n"
     ]
    }
   ],
   "source": [
    "# establecemos el modelo de cluster con Kmeans\n",
    "\n",
    "kmeans_train = KMeans(n_clusters=3, random_state=42).fit(X_train)\n",
    "print(\"kmeans.labels_:\", kmeans_train.labels_)\n",
    "predict_train = kmeans_train.predict(X_train)\n",
    "print(\"\\npredict:\", predict_train)\n",
    "clusters_train = kmeans_train.cluster_centers_\n",
    "print(f'\\nKMeans cluster centers 3:\\n {clusters_train}')"
   ]
  },
  {
   "cell_type": "code",
   "execution_count": 17,
   "metadata": {},
   "outputs": [
    {
     "name": "stdout",
     "output_type": "stream",
     "text": [
      "K_train_Score: 0.3\n"
     ]
    }
   ],
   "source": [
    "k_train_score = metrics.accuracy_score(y_train, predict_train)\n",
    "print(f'K_train_Score: {k_train_score.round(2)}')"
   ]
  },
  {
   "cell_type": "markdown",
   "metadata": {},
   "source": [
    "### Kmeans. Muestra de test"
   ]
  },
  {
   "cell_type": "code",
   "execution_count": 18,
   "metadata": {},
   "outputs": [
    {
     "name": "stdout",
     "output_type": "stream",
     "text": [
      "kmeans.labels_: [1 2 0 ... 0 1 0]\n",
      "\n",
      "predict: [1 2 0 ... 0 1 0]\n",
      "\n",
      "KMeans cluster centers 3:\n",
      " [[1.93726094e+04 7.85583224e+00 1.52883355e+00 5.36513761e+01\n",
      "  2.45543906e+00 1.05111402e+00 1.90563565e+00 2.05570118e+00\n",
      "  5.72018349e+00 1.76867628e+00 1.02948886e+00 1.02228047e+00\n",
      "  1.78374836e+00 1.85648755e+00 7.39547837e+01 1.95150721e+00\n",
      "  1.80996068e+00 3.04390564e+00 3.67300131e+00 3.59633028e+00\n",
      "  2.99475754e+00 1.41480996e+00 2.14220183e+00 3.87352556e+00\n",
      "  3.50720839e+00 1.38925295e+00 3.43512451e+00 4.98427261e+00\n",
      "  4.44036697e+00 3.98165138e+00 3.06422018e+00 5.56094364e+00\n",
      "  4.01769332e+00 4.03931848e+00 2.73853211e+00]\n",
      " [3.98502268e+03 7.58538122e+00 1.52804033e+00 5.39647133e+01\n",
      "  2.42344045e+00 1.06931317e+00 1.89540013e+00 2.06868305e+00\n",
      "  5.59861374e+00 1.77504726e+00 1.03339635e+00 1.03780718e+00\n",
      "  1.82671708e+00 1.85129175e+00 7.28052930e+01 1.85507246e+00\n",
      "  1.71266541e+00 3.01386263e+00 3.76811594e+00 3.57971014e+00\n",
      "  2.60743541e+00 1.27410208e+00 1.96534342e+00 3.74228103e+00\n",
      "  3.42470069e+00 1.42974165e+00 3.42533081e+00 4.99117832e+00\n",
      "  4.71644612e+00 3.78512917e+00 3.04473850e+00 5.73850032e+00\n",
      "  4.03402647e+00 4.05482042e+00 2.69250158e+00]\n",
      " [1.17250326e+04 1.07534884e+01 1.55946844e+00 5.33700997e+01\n",
      "  2.43455150e+00 1.06777409e+00 1.93355482e+00 2.06511628e+00\n",
      "  5.92225914e+00 1.76013289e+00 1.02724252e+00 1.02857143e+00\n",
      "  1.81926910e+00 1.84318937e+00 7.22797342e+01 2.06312292e+00\n",
      "  1.67574751e+00 2.85980066e+00 3.54950166e+00 3.62524917e+00\n",
      "  2.99401993e+00 1.34817276e+00 1.99867110e+00 3.76478405e+00\n",
      "  3.63986711e+00 1.40531561e+00 3.13421927e+00 4.96279070e+00\n",
      "  4.33089701e+00 4.03122924e+00 3.09368771e+00 5.67043189e+00\n",
      "  3.90431894e+00 3.97275748e+00 2.68438538e+00]]\n"
     ]
    }
   ],
   "source": [
    "# establecemos el modelo de cluster con Kmeans\n",
    "\n",
    "kmeans_test = KMeans(n_clusters=3, random_state=42).fit(X_test)\n",
    "print(\"kmeans.labels_:\", kmeans_test.labels_)\n",
    "predict_test = kmeans_test.predict(X_test)\n",
    "print(\"\\npredict:\", predict_test)\n",
    "clusters_test = kmeans_test.cluster_centers_\n",
    "print(f'\\nKMeans cluster centers 3:\\n {clusters_test}')"
   ]
  },
  {
   "cell_type": "code",
   "execution_count": 19,
   "metadata": {},
   "outputs": [
    {
     "name": "stdout",
     "output_type": "stream",
     "text": [
      "K_test_Score: 0.3\n"
     ]
    }
   ],
   "source": [
    "k_test_score = metrics.accuracy_score(y_test, predict_test)\n",
    "print(f'K_test_Score: {k_test_score.round(2)}')"
   ]
  },
  {
   "cell_type": "markdown",
   "metadata": {},
   "source": [
    "## Datos estandarizados"
   ]
  },
  {
   "cell_type": "code",
   "execution_count": 20,
   "metadata": {},
   "outputs": [],
   "source": [
    "# Normalizamos los datos\n",
    "X_train_N = StandardScaler().fit_transform(X_train)"
   ]
  },
  {
   "cell_type": "markdown",
   "metadata": {},
   "source": [
    "### Kmeans. Muestra de entrenamiento"
   ]
  },
  {
   "cell_type": "code",
   "execution_count": 21,
   "metadata": {},
   "outputs": [
    {
     "name": "stdout",
     "output_type": "stream",
     "text": [
      "kmeans.labels_: [1 1 0 ... 1 1 2]\n",
      "\n",
      "predict: [1 1 0 ... 1 1 2]\n",
      "\n",
      "KMeans cluster centers 3:\n",
      " [[ 5.34031238e-02  9.72353790e-02  1.43876087e-01 -2.87581942e-01\n",
      "  -4.61789374e-01 -8.24281923e-02 -2.03996242e-01 -2.83565057e-02\n",
      "   8.66251707e-01  3.03554912e-01 -1.12679319e-01 -1.41230253e-01\n",
      "  -4.72925426e-02 -2.81124917e-02 -2.32422278e-01  4.55006371e-01\n",
      "  -2.95541745e-01  4.47230681e-02 -2.55558085e-02 -1.85975743e-01\n",
      "   1.48533902e-01  1.20722364e-01 -3.51008221e-01  4.39960928e-02\n",
      "   8.54886696e-02  8.03016020e-02  9.47218061e-02  5.56706405e-02\n",
      "  -3.55848558e-01  5.00980504e-01  1.54360361e-02 -1.86607602e-01\n",
      "   6.74248984e-02 -7.14172392e-01 -3.09933799e-01]\n",
      " [-3.47881312e-02 -7.51199584e-02 -3.71255492e-01 -7.55955527e-01\n",
      "  -2.80462502e-01  2.92382643e-01  1.75490280e-01 -3.99196166e-01\n",
      "  -5.39900236e-02  4.46829362e-01  2.95701726e-01  3.30158173e-01\n",
      "   2.97710262e-01  2.85635625e-01  2.05812027e-01 -1.01338606e-01\n",
      "   6.57552239e-01 -3.46418832e-01 -1.15067330e-01  3.57356582e-01\n",
      "  -2.29743636e-01 -2.22364634e-02  4.73147995e-01 -9.36699478e-03\n",
      "  -4.45329348e-01  1.05048234e-02 -2.45351610e-01 -7.29959398e-01\n",
      "   1.18486312e-01 -1.56750370e-01 -3.88786020e-01 -6.81775310e-02\n",
      "  -9.05400481e-02  3.64159350e-01 -6.26797499e-04]\n",
      " [-2.09600547e-02 -2.80037391e-02  1.82925806e-01  9.26547545e-01\n",
      "   6.82655759e-01 -1.73536770e-01  4.33178982e-02  3.71405906e-01\n",
      "  -7.80179291e-01 -6.75143131e-01 -1.47528105e-01 -1.50000870e-01\n",
      "  -2.11665778e-01 -2.19555761e-01  4.42924796e-02 -3.46844398e-01\n",
      "  -2.85132717e-01  2.56133590e-01  1.23646342e-01 -1.30756845e-01\n",
      "   5.64137329e-02 -9.60364674e-02 -7.31303359e-02 -3.39099934e-02\n",
      "   3.02546088e-01 -8.57011906e-02  1.21235266e-01  5.76523332e-01\n",
      "   2.37416761e-01 -3.42924493e-01  3.20630626e-01  2.36907502e-01\n",
      "   1.37485890e-02  3.67485977e-01  2.96341449e-01]]\n"
     ]
    }
   ],
   "source": [
    "kmeans_train_N = KMeans(n_clusters=3, random_state=42).fit(X_train_N)\n",
    "print(\"kmeans.labels_:\", kmeans_train_N.labels_)\n",
    "predict_train = kmeans_train_N.predict(X_train_N)\n",
    "print(\"\\npredict:\", predict_train)\n",
    "clusters_train = kmeans_train_N.cluster_centers_\n",
    "print(f'\\nKMeans cluster centers 3:\\n {clusters_train}')"
   ]
  },
  {
   "cell_type": "code",
   "execution_count": 22,
   "metadata": {},
   "outputs": [
    {
     "name": "stdout",
     "output_type": "stream",
     "text": [
      "K_train_N_Score: 0.37\n"
     ]
    }
   ],
   "source": [
    "k_train_N_score = metrics.accuracy_score(y_train, predict_train)\n",
    "print(f'K_train_N_Score: {k_train_N_score.round(2)}')"
   ]
  },
  {
   "cell_type": "markdown",
   "metadata": {},
   "source": [
    "### Kmeans. Muestra de test"
   ]
  },
  {
   "cell_type": "code",
   "execution_count": 23,
   "metadata": {},
   "outputs": [],
   "source": [
    "# Normalizamos los datos\n",
    "X_test_N = StandardScaler().fit_transform(X_test)"
   ]
  },
  {
   "cell_type": "code",
   "execution_count": 24,
   "metadata": {},
   "outputs": [
    {
     "name": "stdout",
     "output_type": "stream",
     "text": [
      "kmeans.labels_: [2 0 2 ... 2 0 2]\n",
      "\n",
      "predict: [2 0 2 ... 2 0 2]\n",
      "\n",
      "KMeans cluster centers 3:\n",
      " [[-0.01135105  0.00273449  0.23883849  0.9042438   0.68732111 -0.17671236\n",
      "   0.04117714  0.32581055 -0.77602128 -0.67237769 -0.16556117 -0.15705716\n",
      "  -0.21016789 -0.20011375  0.01654765 -0.35732493 -0.3092593   0.27396663\n",
      "   0.15430803 -0.16405206  0.05496829 -0.10605428 -0.07784489 -0.03371713\n",
      "   0.30755352 -0.05934892  0.13593347  0.54495948  0.20734353 -0.30232105\n",
      "   0.33300641  0.30703516  0.0099072   0.37107239  0.30739652]\n",
      " [-0.06810037 -0.15131326 -0.38251154 -0.74604835 -0.28986094  0.35001298\n",
      "   0.26539867 -0.32498144 -0.04149033  0.46375105  0.32957133  0.35185871\n",
      "   0.28270203  0.27454556  0.21005954 -0.14972043  0.74325643 -0.29585021\n",
      "  -0.07420075  0.41658373 -0.2524637  -0.01318347  0.48215431 -0.01572166\n",
      "  -0.45540854  0.02301352 -0.25667379 -0.68212139  0.15866268 -0.15994001\n",
      "  -0.47835792 -0.12952177 -0.10266788  0.35116678 -0.03010353]\n",
      " [ 0.06903311  0.12459567  0.07612195 -0.30303374 -0.46376371 -0.11273751\n",
      "  -0.26588255 -0.06188894  0.83412261  0.30195183 -0.10700889 -0.1345336\n",
      "  -0.02160481 -0.025091   -0.1939201   0.49406191 -0.30736057 -0.03302709\n",
      "  -0.09643426 -0.18183094  0.15597534  0.12032109 -0.32582451  0.04796188\n",
      "   0.06673789  0.04174223  0.07613836  0.01314643 -0.34713319  0.44602141\n",
      "   0.05984951 -0.20713791  0.0762475  -0.67784558 -0.29122417]]\n"
     ]
    }
   ],
   "source": [
    "kmeans_test_N = KMeans(n_clusters=3, random_state=42).fit(X_test_N)\n",
    "print(\"kmeans.labels_:\", kmeans_test_N.labels_)\n",
    "predict_test = kmeans_test_N.predict(X_test_N)\n",
    "print(\"\\npredict:\", predict_test)\n",
    "clusters_test = kmeans_test_N.cluster_centers_\n",
    "print(f'\\nKMeans cluster centers 3:\\n {clusters_test}')"
   ]
  },
  {
   "cell_type": "code",
   "execution_count": 25,
   "metadata": {},
   "outputs": [
    {
     "name": "stdout",
     "output_type": "stream",
     "text": [
      "K_test_N_Score: 0.29\n"
     ]
    }
   ],
   "source": [
    "k_test_N_score = metrics.accuracy_score(y_test, predict_test)\n",
    "print(f'K_test_N_Score: {k_test_N_score.round(2)}')"
   ]
  },
  {
   "cell_type": "markdown",
   "metadata": {},
   "source": [
    "## Aplicamos el modelo a todos los datos. Con 3 Clúster sin normalizar. Es el modelo en el que se obtienen un mejor Score"
   ]
  },
  {
   "cell_type": "code",
   "execution_count": 26,
   "metadata": {},
   "outputs": [],
   "source": [
    "ENS_2017_valida_2 = pd.read_csv(\"../data/Bases_trabajo/ENS_2017_valida_2.csv\", sep =',')\r\n",
    "\r\n",
    "y = np.array(ENS_2017_valida_2['Salud_percibida'])\r\n",
    "\r\n",
    "X= np.array(ENS_2017_valida_2.drop('Salud_percibida', axis = 1))\r\n"
   ]
  },
  {
   "cell_type": "markdown",
   "metadata": {},
   "source": [
    "### Kmeans. Base completa"
   ]
  },
  {
   "cell_type": "code",
   "execution_count": 27,
   "metadata": {},
   "outputs": [
    {
     "name": "stdout",
     "output_type": "stream",
     "text": [
      "kmeans.labels_: [2 2 2 ... 1 1 1]\n",
      "\n",
      "predict: [2 2 2 ... 1 1 1]\n",
      "\n",
      "KMeans cluster centers 3:\n",
      " [[1.15215000e+04 1.07767672e+01 1.54534823e+00 5.33778586e+01\n",
      "  2.39851871e+00 1.06795738e+00 1.92918399e+00 2.07445426e+00\n",
      "  5.87409044e+00 1.75272869e+00 1.02598753e+00 1.02702703e+00\n",
      "  1.81704782e+00 1.83575884e+00 7.22544179e+01 2.03417360e+00\n",
      "  1.72479210e+00 2.86772349e+00 3.57276507e+00 3.62240125e+00\n",
      "  3.01858108e+00 1.34979210e+00 1.99051455e+00 3.76273389e+00\n",
      "  3.63240644e+00 1.40059771e+00 3.16930873e+00 4.98999480e+00\n",
      "  4.40059771e+00 4.02936590e+00 3.06496881e+00 5.53404366e+00\n",
      "  3.93308212e+00 3.93620062e+00 2.67762474e+00]\n",
      " [1.92290000e+04 7.74297189e+00 1.54035497e+00 5.34503174e+01\n",
      "  2.46949087e+00 1.04922917e+00 1.93444747e+00 2.08433735e+00\n",
      "  5.75722244e+00 1.77458220e+00 1.02668739e+00 1.02681695e+00\n",
      "  1.78637129e+00 1.85153517e+00 7.30513020e+01 1.94869802e+00\n",
      "  1.81552015e+00 3.05583625e+00 3.70734551e+00 3.61264412e+00\n",
      "  3.00816168e+00 1.37699184e+00 2.14211685e+00 3.88003627e+00\n",
      "  3.51120611e+00 1.37375308e+00 3.39072419e+00 4.98497215e+00\n",
      "  4.42207540e+00 3.97681047e+00 3.05907501e+00 5.68454463e+00\n",
      "  4.01982122e+00 4.00427517e+00 2.68830159e+00]\n",
      " [3.83650000e+03 7.90487360e+00 1.53765963e+00 5.34804535e+01\n",
      "  2.38545739e+00 1.07088872e+00 1.93640865e+00 2.06228825e+00\n",
      "  5.65389627e+00 1.78055773e+00 1.03322909e+00 1.03974459e+00\n",
      "  1.83124837e+00 1.85678916e+00 7.23578316e+01 1.87307793e+00\n",
      "  1.70172009e+00 3.02410738e+00 3.77143602e+00 3.59460516e+00\n",
      "  2.59317175e+00 1.30727131e+00 1.99387542e+00 3.80036487e+00\n",
      "  3.48449309e+00 1.49074798e+00 3.37203544e+00 4.96155851e+00\n",
      "  4.65572062e+00 3.81678395e+00 3.06150639e+00 5.72556685e+00\n",
      "  4.02723482e+00 4.05981235e+00 2.67109721e+00]]\n"
     ]
    }
   ],
   "source": [
    "kmeans = KMeans(n_clusters=3, random_state=42).fit(X)\r\n",
    "print(\"kmeans.labels_:\", kmeans.labels_)\r\n",
    "predict = kmeans.predict(X)\r\n",
    "print(\"\\npredict:\", predict)\r\n",
    "clusters = kmeans.cluster_centers_\r\n",
    "print(f'\\nKMeans cluster centers 3:\\n {clusters}')"
   ]
  },
  {
   "cell_type": "code",
   "execution_count": 28,
   "metadata": {},
   "outputs": [
    {
     "name": "stdout",
     "output_type": "stream",
     "text": [
      "K_Score: 0.3\n"
     ]
    }
   ],
   "source": [
    "k_score = metrics.accuracy_score(y, predict)\r\n",
    "print(f'K_Score: {k_score.round(2)}')"
   ]
  },
  {
   "cell_type": "markdown",
   "metadata": {},
   "source": [
    "## Vemos si mejora el modelo de 3 Clúster sin normalizar reduciendo las variables con PCA (análisis de componentes principales) "
   ]
  },
  {
   "cell_type": "code",
   "execution_count": 40,
   "metadata": {},
   "outputs": [],
   "source": [
    "from sklearn.decomposition import PCA\r\n",
    "\r\n",
    "pca_5 = PCA(n_components=5)\r\n",
    "pca_4 = PCA(n_components=4)\r\n",
    "pca_3 = PCA(n_components=3)"
   ]
  },
  {
   "cell_type": "markdown",
   "metadata": {},
   "source": [
    "### 5 componentes principales"
   ]
  },
  {
   "cell_type": "code",
   "execution_count": 41,
   "metadata": {},
   "outputs": [
    {
     "data": {
      "text/plain": [
       "PCA(n_components=5)"
      ]
     },
     "execution_count": 41,
     "metadata": {},
     "output_type": "execute_result"
    }
   ],
   "source": [
    "pca_5.fit(X)"
   ]
  },
  {
   "cell_type": "code",
   "execution_count": 42,
   "metadata": {},
   "outputs": [
    {
     "data": {
      "text/plain": [
       "PCA(n_components=5)"
      ]
     },
     "execution_count": 42,
     "metadata": {},
     "output_type": "execute_result"
    }
   ],
   "source": [
    "pca_5"
   ]
  },
  {
   "cell_type": "code",
   "execution_count": 43,
   "metadata": {},
   "outputs": [],
   "source": [
    "X_pca5 = pca_5.transform(X) # resultado del modelo"
   ]
  },
  {
   "cell_type": "code",
   "execution_count": 44,
   "metadata": {},
   "outputs": [
    {
     "name": "stdout",
     "output_type": "stream",
     "text": [
      "PCA 5\n",
      "\n",
      "Varianza explicativa \n",
      "[9.99985603e-01 8.08773620e-06 4.83006978e-06 5.77834314e-07\n",
      " 1.90762274e-07]\n",
      "\n",
      "Total varianza explicativa: \n",
      "1.0\n"
     ]
    }
   ],
   "source": [
    "# Mostramos las varianzas explicativas\r\n",
    "\r\n",
    "print('PCA 5\\n')\r\n",
    "print(f'Varianza explicativa \\n{pca_5.explained_variance_ratio_}')\r\n",
    "total_var_pca_5 = pca_5.explained_variance_ratio_[0]\r\n",
    "print(f'\\nTotal varianza explicativa: \\n{total_var_pca_5.round(2)}')"
   ]
  },
  {
   "cell_type": "code",
   "execution_count": 45,
   "metadata": {},
   "outputs": [
    {
     "name": "stdout",
     "output_type": "stream",
     "text": [
      "\n",
      "PARA PCA 5:\n",
      "\n",
      "kmeans.labels_: [1 1 1 ... 0 0 0]\n",
      "\n",
      "predict: [1 1 1 ... 0 0 0]\n",
      "\n",
      "KMeans cluster centers con PCA 5:\n",
      " [[-7.72449999e+03 -1.53065889e-02  2.05869511e-01 -1.18844861e+00\n",
      "  -9.77510804e-02]\n",
      " [ 7.66800003e+03  9.28719249e-03  1.43383995e-01 -8.12608428e-01\n",
      "  -6.36388909e-02]\n",
      " [-5.65000389e+01  5.83923281e-03 -3.48817460e-01  1.99842782e+00\n",
      "   1.61150023e-01]]\n"
     ]
    }
   ],
   "source": [
    "# Para PCA 5\r\n",
    "print('\\nPARA PCA 5:\\n')\r\n",
    "kmeans_pca_5 = KMeans(n_clusters=3, random_state=11).fit(X_pca5)\r\n",
    "print(\"kmeans.labels_:\", kmeans_pca_5.labels_)\r\n",
    "predict_pca_5 = kmeans_pca_5.predict(X_pca5)\r\n",
    "print(\"\\npredict:\", predict_pca_5)\r\n",
    "clusters_pca_5 = kmeans_pca_5.cluster_centers_\r\n",
    "print(f'\\nKMeans cluster centers con PCA 5:\\n {clusters_pca_5}')"
   ]
  },
  {
   "cell_type": "code",
   "execution_count": 46,
   "metadata": {},
   "outputs": [
    {
     "name": "stdout",
     "output_type": "stream",
     "text": [
      "PCA5_Score: 0.302351769240764\n",
      "PCA5_Score: 0.3\n"
     ]
    }
   ],
   "source": [
    "k_pca5_score = metrics.accuracy_score(y, predict_pca_5)\r\n",
    "print(f'PCA5_Score: {k_pca5_score}')\r\n",
    "print(f'PCA5_Score: {k_pca5_score.round(2)}')"
   ]
  },
  {
   "cell_type": "markdown",
   "metadata": {},
   "source": [
    "### 4 componentes principales"
   ]
  },
  {
   "cell_type": "code",
   "execution_count": 47,
   "metadata": {},
   "outputs": [
    {
     "data": {
      "text/plain": [
       "PCA(n_components=4)"
      ]
     },
     "execution_count": 47,
     "metadata": {},
     "output_type": "execute_result"
    }
   ],
   "source": [
    "# Fijamos el modelo\r\n",
    "pca_4.fit(X)"
   ]
  },
  {
   "cell_type": "code",
   "execution_count": 48,
   "metadata": {},
   "outputs": [],
   "source": [
    "# Creamos las variables X_pca4 para conservar los datos de X\r\n",
    "\r\n",
    "X_pca4 = pca_4.transform(X)"
   ]
  },
  {
   "cell_type": "code",
   "execution_count": 49,
   "metadata": {},
   "outputs": [
    {
     "name": "stdout",
     "output_type": "stream",
     "text": [
      "PCA 4\n",
      "\n",
      "Varianza explicativa \n",
      "[9.99985603e-01 8.08773620e-06 4.83006978e-06 5.77834314e-07]\n",
      "\n",
      "Total varianza explicativa: \n",
      "100.0\n"
     ]
    }
   ],
   "source": [
    "# Mostramos las varianzas explicativas\r\n",
    "\r\n",
    "print('PCA 4\\n')\r\n",
    "print(f'Varianza explicativa \\n{pca_4.explained_variance_ratio_}')\r\n",
    "total_var_pca_4 = pca_4.explained_variance_ratio_.sum() * 100\r\n",
    "print(f'\\nTotal varianza explicativa: \\n{total_var_pca_4.round(2)}')"
   ]
  },
  {
   "cell_type": "code",
   "execution_count": 50,
   "metadata": {},
   "outputs": [
    {
     "name": "stdout",
     "output_type": "stream",
     "text": [
      "\n",
      "PARA PCA 4:\n",
      "\n",
      "kmeans.labels_: [0 0 0 ... 1 1 1]\n",
      "\n",
      "predict: [0 0 0 ... 1 1 1]\n",
      "\n",
      "KMeans cluster centers con PCA 4:\n",
      " [[ 7.72750003e+03  1.07715194e-01  8.69439271e-02 -7.04617899e-01]\n",
      " [-7.66499999e+03  6.53678054e-02  2.09395711e-01 -1.26059231e+00]\n",
      " [ 6.24999600e+01 -1.72750337e-01 -2.97353334e-01  1.96985301e+00]]\n"
     ]
    }
   ],
   "source": [
    "# Para PCA 4\r\n",
    "print('\\nPARA PCA 4:\\n')\r\n",
    "kmeans_pca_4 = KMeans(n_clusters=3, random_state=11).fit(X_pca4)\r\n",
    "print(\"kmeans.labels_:\", kmeans_pca_4.labels_)\r\n",
    "predict_pca_4 = kmeans_pca_4.predict(X_pca4)\r\n",
    "print(\"\\npredict:\", predict_pca_4)\r\n",
    "clusters_pca_4 = kmeans_pca_4.cluster_centers_\r\n",
    "print(f'\\nKMeans cluster centers con PCA 4:\\n {clusters_pca_4}')"
   ]
  },
  {
   "cell_type": "code",
   "execution_count": 51,
   "metadata": {},
   "outputs": [
    {
     "name": "stdout",
     "output_type": "stream",
     "text": [
      "PCA4_Score: 0.30473385594872016\n",
      "PCA4_Score: 0.3\n"
     ]
    }
   ],
   "source": [
    "k_pca4_score = metrics.accuracy_score(y, predict_pca_4)\r\n",
    "print(f'PCA4_Score: {k_pca4_score}')\r\n",
    "print(f'PCA4_Score: {k_pca4_score.round(2)}')"
   ]
  },
  {
   "cell_type": "markdown",
   "metadata": {},
   "source": [
    "### 3 componentes principales"
   ]
  },
  {
   "cell_type": "code",
   "execution_count": 52,
   "metadata": {},
   "outputs": [
    {
     "data": {
      "text/plain": [
       "PCA(n_components=3)"
      ]
     },
     "execution_count": 52,
     "metadata": {},
     "output_type": "execute_result"
    }
   ],
   "source": [
    "pca_3.fit(X)"
   ]
  },
  {
   "cell_type": "code",
   "execution_count": 53,
   "metadata": {},
   "outputs": [],
   "source": [
    "X_pca3 = pca_3.transform(X)"
   ]
  },
  {
   "cell_type": "code",
   "execution_count": 54,
   "metadata": {},
   "outputs": [
    {
     "name": "stdout",
     "output_type": "stream",
     "text": [
      "PCA 3\n",
      "\n",
      "Varianza explicativa \n",
      "[9.99985603e-01 8.08773620e-06 4.83006978e-06]\n",
      "\n",
      "Total varianza explicativa: \n",
      "100.0\n"
     ]
    }
   ],
   "source": [
    "print('PCA 3\\n')\r\n",
    "print(f'Varianza explicativa \\n{pca_3.explained_variance_ratio_}')\r\n",
    "total_var_pca_3 = pca_3.explained_variance_ratio_.sum() * 100\r\n",
    "print(f'\\nTotal varianza explicativa: \\n{total_var_pca_3.round(2)}')\r\n"
   ]
  },
  {
   "cell_type": "code",
   "execution_count": 55,
   "metadata": {},
   "outputs": [
    {
     "name": "stdout",
     "output_type": "stream",
     "text": [
      "PARA PCA 3:\n",
      "\n",
      "kmeans.labels_: [1 1 1 ... 0 0 0]\n",
      "\n",
      "predict: [1 1 1 ... 0 0 0]\n",
      "\n",
      "KMeans cluster centers con PCA 3:\n",
      " [[-7.73399999e+03 -2.90036599e-02  2.10127481e-01]\n",
      " [ 7.65850003e+03 -7.35999506e-03  1.48824068e-01]\n",
      " [-7.55000387e+01  3.61536868e-02 -3.58373465e-01]]\n"
     ]
    }
   ],
   "source": [
    "# Para PCA 3\r\n",
    "print('PARA PCA 3:\\n')\r\n",
    "kmeans_pca_3 = KMeans(n_clusters=3, random_state=11).fit(X_pca3)\r\n",
    "print(\"kmeans.labels_:\", kmeans_pca_3.labels_)\r\n",
    "predict_pca_3 = kmeans_pca_3.predict(X_pca3)\r\n",
    "print(\"\\npredict:\", predict_pca_3)\r\n",
    "clusters_pca_3 = kmeans_pca_3.cluster_centers_\r\n",
    "print(f'\\nKMeans cluster centers con PCA 3:\\n {clusters_pca_3}')\r\n",
    "\r\n"
   ]
  },
  {
   "cell_type": "code",
   "execution_count": 56,
   "metadata": {},
   "outputs": [
    {
     "name": "stdout",
     "output_type": "stream",
     "text": [
      "PCA3_Score: 0.3\n",
      "PCA3_Score: 0.3025250119104335\n"
     ]
    }
   ],
   "source": [
    "k_pca3_score = metrics.accuracy_score(y, predict_pca_3)\r\n",
    "print(f'PCA3_Score: {k_pca3_score.round(2)}')\r\n",
    "print(f'PCA3_Score: {k_pca3_score}')"
   ]
  },
  {
   "cell_type": "markdown",
   "metadata": {},
   "source": [
    "## Mejora un poco con 4 componentes principales. Mantenemos el modelo de Kmeans con 3 Clústers y 4 componentes principales"
   ]
  },
  {
   "cell_type": "markdown",
   "metadata": {},
   "source": [
    "## Método DBSCAN"
   ]
  },
  {
   "cell_type": "code",
   "execution_count": 179,
   "metadata": {},
   "outputs": [
    {
     "data": {
      "text/plain": [
       "(23089, 35)"
      ]
     },
     "execution_count": 179,
     "metadata": {},
     "output_type": "execute_result"
    }
   ],
   "source": [
    "ENS_2017_valida_2 = pd.read_csv(\"../data/Bases_trabajo/ENS_2017_valida_2.csv\", sep =',')\r\n",
    "\r\n",
    "# Pasamos a array la variable que queremos predecir ('actual')\r\n",
    "y = np.array(ENS_2017_valida_2['Salud_percibida'])\r\n",
    "# Eliminamos del dataframe la variable que queremos predecir y mantenemos el resto como columnas (serán las variables predictoras:X)\r\n",
    "# axis 1 se refiere a las columnas\r\n",
    "X= np.array(ENS_2017_valida_2.drop('Salud_percibida', axis = 1))\r\n",
    "X.shape"
   ]
  },
  {
   "cell_type": "code",
   "execution_count": 180,
   "metadata": {},
   "outputs": [],
   "source": [
    "# Dividimos en muestra de entrenamiento y de test\r\n",
    "X_train, X_test, y_train, y_test = train_test_split(X,\r\n",
    "                                                    y,\r\n",
    "                                                    test_size=0.2,\r\n",
    "                                                    random_state=42)"
   ]
  },
  {
   "cell_type": "markdown",
   "metadata": {},
   "source": []
  },
  {
   "cell_type": "markdown",
   "metadata": {},
   "source": [
    "### Partimos de un epsilon equivalente al número de categorías de la variable con más categorías (CCAA) DBSCAN. eps = 19, min_samples = 2\r\n",
    "### Hay que tener en cuenta que en la base hay dos variables numéricas con las que la distancia respecto a las variables categóricas puede ser muy elevada"
   ]
  },
  {
   "cell_type": "code",
   "execution_count": null,
   "metadata": {},
   "outputs": [],
   "source": [
    "# Importamos DBSCAN\r\n",
    "from sklearn.cluster import DBSCAN\r\n",
    "\r\n",
    "# Para DBSCAN \r\n",
    "# Normalizamos los datos\r\n",
    "# X_train = StandardScaler().fit_transform(X_train)\r\n",
    "\r\n",
    "# Definimos DBSCAN\r\n",
    "\r\n",
    "for i in range (1,10):\r\n",
    "    for j in range (2,10):\r\n",
    "        print ('eps:', i)\r\n",
    "        print ('min_sample:', j)\r\n",
    "        db_train = DBSCAN(eps=i, min_samples=j).fit(X_train)\r\n",
    "        core_samples_mask = np.zeros_like(db_train.labels_, dtype=bool)\r\n",
    "        core_samples_mask[db_train.core_sample_indices_] = True\r\n",
    "        y_db_train = db_train.labels_\r\n",
    "\r\n",
    "        db_train_Score = metrics.accuracy_score(y_train, y_db_train)\r\n",
    "        print('DB_train_Score:', db_train_Score.round(2))\r\n",
    "        print('DB_train_Score:', db_train_Score)\r\n",
    "\r\n",
    "\r\n"
   ]
  },
  {
   "cell_type": "markdown",
   "metadata": {},
   "source": [
    "### Probamos con los datos estandarizados a ver si mejora el modelo con el número de epsilon que mejores resultados hemos obtenido"
   ]
  },
  {
   "cell_type": "code",
   "execution_count": 201,
   "metadata": {},
   "outputs": [],
   "source": [
    "\r\n",
    "# Normalizamos los datos\r\n",
    "X_train = StandardScaler().fit_transform(X_train)\r\n",
    "\r\n",
    "# Definimos DBSCAN \r\n",
    "db_train = DBSCAN(eps= 20, min_samples=2).fit(X_train)\r\n",
    "core_samples_mask = np.zeros_like(db_train.labels_, dtype=bool)\r\n",
    "core_samples_mask[db_train.core_sample_indices_] = True\r\n",
    "y_db_train = db_train.labels_\r\n"
   ]
  },
  {
   "cell_type": "code",
   "execution_count": 202,
   "metadata": {},
   "outputs": [
    {
     "name": "stdout",
     "output_type": "stream",
     "text": [
      "DB_train_Score: 0.0\n",
      "DB_train_Score: 0.0\n"
     ]
    }
   ],
   "source": [
    "db_train_Score = metrics.accuracy_score(y_train, y_db_train)\r\n",
    "print('DB_train_Score:', db_train_Score.round(2))\r\n",
    "print('DB_train_Score:', db_train_Score)"
   ]
  },
  {
   "cell_type": "markdown",
   "metadata": {},
   "source": [
    "### Para reducir la distancia entre las variables probamos a categorizar las variables numéricas\r\n",
    "#### Categorizamos las variables numéricas estableciendo las categorías en base a los valores de la mediana y los cuartiles"
   ]
  },
  {
   "cell_type": "code",
   "execution_count": 203,
   "metadata": {},
   "outputs": [],
   "source": [
    "ENS_2017_valida_2 = pd.read_csv(\"../data/Bases_trabajo/ENS_2017_valida_2.csv\", sep =',')\r\n",
    "ENS_2017_valida_agr = ENS_2017_valida_2\r\n",
    "ENS_2017_valida_agr.to_csv('../data/Bases_trabajo/ENS_2017_valida_agr.csv')"
   ]
  },
  {
   "cell_type": "code",
   "execution_count": 204,
   "metadata": {},
   "outputs": [
    {
     "name": "stdout",
     "output_type": "stream",
     "text": [
      "Edad: 53.0, 39.0, 68.0\n",
      "Peso: 71.0, 62.0, 80.0\n"
     ]
    }
   ],
   "source": [
    "Mediana_Edad = ENS_2017_valida_agr['Edad'].median()\r\n",
    "Cuartil25_Edad =ENS_2017_valida_agr['Edad'].quantile(0.25)\r\n",
    "Cuartil75_Edad =ENS_2017_valida_agr['Edad'].quantile(0.75)\r\n",
    "Mediana_Peso = ENS_2017_valida_agr['Peso(Kg)'].median()\r\n",
    "Cuartil25_Peso = ENS_2017_valida_agr['Peso(Kg)'].quantile(0.25)\r\n",
    "Cuartil75_Peso = ENS_2017_valida_agr['Peso(Kg)'].quantile(0.75)\r\n",
    "\r\n",
    "print (f'Edad: {Mediana_Edad}, {Cuartil25_Edad}, {Cuartil75_Edad}')\r\n",
    "print (f'Peso: {Mediana_Peso}, {Cuartil25_Peso}, {Cuartil75_Peso}')\r\n"
   ]
  },
  {
   "cell_type": "code",
   "execution_count": 205,
   "metadata": {},
   "outputs": [],
   "source": [
    "# Edad\r\n",
    "ENS_2017_valida_agr['Edad_ag'] = ENS_2017_valida_agr['Edad']\r\n",
    "\r\n",
    "ENS_2017_valida_agr.loc[ENS_2017_valida_agr['Edad']<= 40,'Edad_ag'] = 1\r\n",
    "ENS_2017_valida_agr.loc[(ENS_2017_valida_agr['Edad']>40) & (ENS_2017_valida_agr['Edad']<=53),'Edad_ag'] = 2\r\n",
    "ENS_2017_valida_agr.loc[(ENS_2017_valida_agr['Edad']>53) & (ENS_2017_valida_agr['Edad']<=68),'Edad_ag'] = 3\r\n",
    "ENS_2017_valida_agr.loc[ENS_2017_valida_agr['Edad']>68,'Edad_ag'] = 4\r\n",
    "\r\n",
    "# Peso\r\n",
    "ENS_2017_valida_agr['Peso_ag'] = ENS_2017_valida_agr['Peso(Kg)']\r\n",
    "\r\n",
    "ENS_2017_valida_agr.loc[ENS_2017_valida_agr['Peso(Kg)']<= 62,'Peso_ag'] = 1\r\n",
    "ENS_2017_valida_agr.loc[(ENS_2017_valida_agr['Peso(Kg)']>62) & (ENS_2017_valida_agr['Peso(Kg)']<=71),'Peso_ag'] = 2\r\n",
    "ENS_2017_valida_agr.loc[(ENS_2017_valida_agr['Peso(Kg)']>71) & (ENS_2017_valida_agr['Peso(Kg)']<=82),'Peso_ag'] = 3\r\n",
    "ENS_2017_valida_agr.loc[ENS_2017_valida_agr['Peso(Kg)']>82,'Peso_ag'] = 4\r\n"
   ]
  },
  {
   "cell_type": "markdown",
   "metadata": {},
   "source": [
    "#### Eliminamos las variables numéricas de Edad y Peso y mantenemos estas variables categorizadas"
   ]
  },
  {
   "cell_type": "code",
   "execution_count": 206,
   "metadata": {},
   "outputs": [],
   "source": [
    "del ENS_2017_valida_agr[\"Edad\"]\r\n",
    "del ENS_2017_valida_agr[\"Peso(Kg)\"]\r\n",
    "del ENS_2017_valida_agr[\"Unnamed: 0\"]\r\n",
    "ENS_2017_valida_agr.to_csv('../data/Bases_trabajo/ENS_2017_valida_agr.csv')\r\n"
   ]
  },
  {
   "cell_type": "code",
   "execution_count": 207,
   "metadata": {},
   "outputs": [
    {
     "data": {
      "text/plain": [
       "(23089, 35)"
      ]
     },
     "execution_count": 207,
     "metadata": {},
     "output_type": "execute_result"
    }
   ],
   "source": [
    "ENS_2017_valida_agr = pd.read_csv(\"../data/Bases_trabajo/ENS_2017_valida_agr.csv\", sep =',')\r\n",
    "\r\n",
    "# Pasamos a array la variable que queremos predecir ('actual')\r\n",
    "y = np.array(ENS_2017_valida_agr['Salud_percibida'])\r\n",
    "# Eliminamos del dataframe la variable que queremos predecir y mantenemos el resto como columnas (serán las variables predictoras:X)\r\n",
    "# axis 1 se refiere a las columnas\r\n",
    "X= np.array(ENS_2017_valida_agr.drop('Salud_percibida', axis = 1))\r\n",
    "X.shape"
   ]
  },
  {
   "cell_type": "code",
   "execution_count": 208,
   "metadata": {},
   "outputs": [],
   "source": [
    "# Dividimos en muestra de entrenamiento y de test\r\n",
    "X_train, X_test, y_train, y_test = train_test_split(X,\r\n",
    "                                                    y,\r\n",
    "                                                    test_size=0.2,\r\n",
    "                                                    random_state=42)"
   ]
  },
  {
   "cell_type": "markdown",
   "metadata": {},
   "source": [
    "#### Establecemos el valor de epsilon de inicio con el mayor número de categorías que se encuentran en las variables. CCAA: 19 categorías "
   ]
  },
  {
   "cell_type": "code",
   "execution_count": 209,
   "metadata": {},
   "outputs": [],
   "source": [
    "# Importamos DBSCAN\r\n",
    "from sklearn.datasets import make_blobs\r\n",
    "from sklearn.preprocessing import StandardScaler\r\n",
    "# Para DBSCAN \r\n",
    "\r\n",
    "# Normalizamos los datos\r\n",
    "# X_train = StandardScaler().fit_transform(X_train)\r\n",
    "\r\n",
    "# Definimos DBSCAN \r\n",
    "db_train = DBSCAN(eps= 19, min_samples=2).fit(X_train)\r\n",
    "core_samples_mask = np.zeros_like(db_train.labels_, dtype=bool)\r\n",
    "core_samples_mask[db_train.core_sample_indices_] = True\r\n",
    "y_db_train = db_train.labels_\r\n"
   ]
  },
  {
   "cell_type": "code",
   "execution_count": 210,
   "metadata": {},
   "outputs": [
    {
     "name": "stdout",
     "output_type": "stream",
     "text": [
      "DB_train_Score: 0.0\n",
      "DB_train_Score: 0.0\n"
     ]
    }
   ],
   "source": [
    "db_train_Score = metrics.accuracy_score(y_train, y_db_train)\r\n",
    "print('DB_train_Score:', db_train_Score.round(2))\r\n",
    "print('DB_train_Score:', db_train_Score)"
   ]
  },
  {
   "cell_type": "code",
   "execution_count": 211,
   "metadata": {},
   "outputs": [],
   "source": [
    "# Importamos DBSCAN\r\n",
    "from sklearn.datasets import make_blobs\r\n",
    "from sklearn.preprocessing import StandardScaler\r\n",
    "# Para DBSCAN \r\n",
    "\r\n",
    "# Normalizamos los datos\r\n",
    "# X_train = StandardScaler().fit_transform(X_train)\r\n",
    "\r\n",
    "# Definimos DBSCAN \r\n",
    "db_train = DBSCAN(eps= 20, min_samples=2).fit(X_train)\r\n",
    "core_samples_mask = np.zeros_like(db_train.labels_, dtype=bool)\r\n",
    "core_samples_mask[db_train.core_sample_indices_] = True\r\n",
    "y_db_train = db_train.labels_"
   ]
  },
  {
   "cell_type": "code",
   "execution_count": 212,
   "metadata": {},
   "outputs": [
    {
     "name": "stdout",
     "output_type": "stream",
     "text": [
      "DB_train_Score: 0.0\n",
      "DB_train_Score: 0.0\n"
     ]
    }
   ],
   "source": [
    "db_train_Score = metrics.accuracy_score(y_train, y_db_train)\r\n",
    "print('DB_train_Score:', db_train_Score.round(2))\r\n",
    "print('DB_train_Score:', db_train_Score)"
   ]
  },
  {
   "cell_type": "markdown",
   "metadata": {},
   "source": [
    "## Datos estandarizados"
   ]
  },
  {
   "cell_type": "markdown",
   "metadata": {},
   "source": [
    "### DBSCAN. eps = 19, min_samples = 2"
   ]
  },
  {
   "cell_type": "code",
   "execution_count": 213,
   "metadata": {},
   "outputs": [],
   "source": [
    "# Importamos DBSCAN\r\n",
    "from sklearn.cluster import DBSCAN\r\n",
    "\r\n",
    "# Para DBSCAN \r\n",
    "# Normalizamos los datos\r\n",
    "X_train_N = StandardScaler().fit_transform(X_train)\r\n",
    "\r\n",
    "# Definimos DBSCAN 2\r\n",
    "DB_train_N = DBSCAN(eps=19, min_samples=2).fit(X_train_N)\r\n",
    "core_samples_mask = np.zeros_like(DB_train_N.labels_, dtype=bool)\r\n",
    "core_samples_mask[DB_train_N.core_sample_indices_] = True\r\n",
    "y_DB_train_N = DB_train_N.labels_\r\n"
   ]
  },
  {
   "cell_type": "code",
   "execution_count": 214,
   "metadata": {},
   "outputs": [
    {
     "name": "stdout",
     "output_type": "stream",
     "text": [
      "DB_train_N_Score: 0.0\n",
      "DB_train_Score: 0.0\n"
     ]
    }
   ],
   "source": [
    "DB_train_Score = metrics.accuracy_score(y_train, y_DB_train_N)\r\n",
    "print('DB_train_N_Score:', DB_train_Score.round(2))\r\n",
    "print('DB_train_Score:', db_train_Score)"
   ]
  },
  {
   "cell_type": "code",
   "execution_count": 215,
   "metadata": {},
   "outputs": [],
   "source": [
    "# Normalizamos los datos\r\n",
    "X_train_N = StandardScaler().fit_transform(X_train)\r\n",
    "\r\n",
    "# Definimos DBSCAN 2\r\n",
    "DB_train_N = DBSCAN(eps=20, min_samples=2).fit(X_train_N)\r\n",
    "core_samples_mask = np.zeros_like(DB_train_N.labels_, dtype=bool)\r\n",
    "core_samples_mask[DB_train_N.core_sample_indices_] = True\r\n",
    "y_DB_train_N = DB_train_N.labels_"
   ]
  },
  {
   "cell_type": "code",
   "execution_count": 216,
   "metadata": {},
   "outputs": [
    {
     "name": "stdout",
     "output_type": "stream",
     "text": [
      "DB_train_N_Score: 0.0\n",
      "DB_train_Score: 0.0\n"
     ]
    }
   ],
   "source": [
    "DB_train_Score = metrics.accuracy_score(y_train, y_DB_train_N)\r\n",
    "print('DB_train_N_Score:', DB_train_Score.round(2))\r\n",
    "print('DB_train_Score:', db_train_Score)"
   ]
  },
  {
   "cell_type": "markdown",
   "metadata": {},
   "source": [
    "## Conclusión\r\n",
    "## El mejor modelo para agrupar los registros en Clúster es el de Kmeans con 3 Cluster y las variables agrupadas en 4 componentes principales"
   ]
  },
  {
   "cell_type": "markdown",
   "metadata": {},
   "source": [
    "### ................................................................................."
   ]
  },
  {
   "cell_type": "markdown",
   "metadata": {},
   "source": [
    "## Añadimos una columna a nuestro Dataframe con la asignación de los Clústers a cada una de las filas"
   ]
  },
  {
   "cell_type": "code",
   "execution_count": 122,
   "metadata": {},
   "outputs": [],
   "source": [
    "Clusters = kmeans_pca_4.predict(X_pca4)\r\n",
    "ENS_2017_valida_2['Clusters'] = Clusters\r\n",
    "\r\n"
   ]
  },
  {
   "cell_type": "code",
   "execution_count": 123,
   "metadata": {},
   "outputs": [],
   "source": [
    "ENS_2017_C = ENS_2017_valida_2\r\n",
    "ENS_2017_C.to_csv('../data/Bases_trabajo/ENS_2017_C.csv')\r\n"
   ]
  },
  {
   "cell_type": "markdown",
   "metadata": {},
   "source": [
    "## Obtenemos el porcentaje y el número de observaciones en cada Clúster"
   ]
  },
  {
   "cell_type": "code",
   "execution_count": 124,
   "metadata": {},
   "outputs": [],
   "source": [
    "ENS_2017_C= pd.read_csv(\"../data/Bases_trabajo/ENS_2017_C.csv\", sep =',')"
   ]
  },
  {
   "cell_type": "code",
   "execution_count": 125,
   "metadata": {},
   "outputs": [
    {
     "data": {
      "text/plain": [
       "1    33.535450\n",
       "2    33.331890\n",
       "0    33.132661\n",
       "Name: Clusters, dtype: float64"
      ]
     },
     "execution_count": 125,
     "metadata": {},
     "output_type": "execute_result"
    }
   ],
   "source": [
    "freq_Clusters = ENS_2017_C['Clusters'].value_counts() / len(ENS_2017_C['Clusters'])*100\r\n",
    "freq_Clusters"
   ]
  },
  {
   "cell_type": "code",
   "execution_count": 126,
   "metadata": {},
   "outputs": [
    {
     "data": {
      "text/plain": [
       "1    7743\n",
       "2    7696\n",
       "0    7650\n",
       "Name: Clusters, dtype: int64"
      ]
     },
     "execution_count": 126,
     "metadata": {},
     "output_type": "execute_result"
    }
   ],
   "source": [
    "freq_Clusters_abs = ENS_2017_C['Clusters'].value_counts() \r\n",
    "freq_Clusters_abs"
   ]
  },
  {
   "cell_type": "markdown",
   "metadata": {},
   "source": [
    "## Identificamos el perfil de cada Clúster cruzando las diferentes variables del dataset con la columna de Clúster"
   ]
  },
  {
   "cell_type": "code",
   "execution_count": 128,
   "metadata": {},
   "outputs": [
    {
     "name": "stdout",
     "output_type": "stream",
     "text": [
      "Salud_percibida          1          2          3\n",
      "Clusters                                        \n",
      "0                32.905119  33.248960  34.412955\n",
      "1                33.811542  33.285120  32.253711\n",
      "2                33.283339  33.465919  33.333333\n"
     ]
    }
   ],
   "source": [
    "Cluster_SaludPercibida = pd.crosstab(index =ENS_2017_C['Clusters'],columns =ENS_2017_C['Salud_percibida']).apply(lambda r: r/r.sum() *100,axis=0)\r\n",
    "\r\n",
    "print (Cluster_SaludPercibida)"
   ]
  },
  {
   "cell_type": "code",
   "execution_count": null,
   "metadata": {},
   "outputs": [],
   "source": [
    "\r\n",
    "Cluster_CCAA = pd.crosstab(index =ENS_2017_C['Clusters'],columns =ENS_2017_C['CCAA']).apply(lambda r: r/r.sum() *100,axis=0)\r\n",
    "print(Cluster_CCAA)\r\n",
    "\r\n",
    "Cluster_Sexo = pd.crosstab(index =ENS_2017_C['Clusters'],columns =ENS_2017_C['Sexo']).apply(lambda r: r/r.sum() *100,axis=0)\r\n",
    "print(Cluster_Sexo)\r\n",
    "\r\n",
    "Cluster_Actividad_economica_actual = pd.crosstab(index =ENS_2017_C['Clusters'],columns =ENS_2017_C['Actividad_economica_actual']).apply(lambda r: r/r.sum() *100,axis=0)\r\n",
    "print(Cluster_Actividad_economica_actual)\r\n",
    "\r\n",
    "Cluster_Nacionalidad_española = pd.crosstab(index =ENS_2017_C['Clusters'],columns =ENS_2017_C['Nacionalidad_española']).apply(lambda r: r/r.sum() *100,axis=0)\r\n",
    "print(Cluster_Nacionalidad_española)\r\n",
    "\r\n",
    "Cluster_Convivencia = pd.crosstab(index =ENS_2017_C['Clusters'],columns =ENS_2017_C['Convivencia']).apply(lambda r: r/r.sum() *100,axis=0)\r\n",
    "print(Cluster_Convivencia)\r\n",
    "\r\n",
    "Cluster_Estado_civil = pd.crosstab(index =ENS_2017_C['Clusters'],columns =ENS_2017_C['Estado_civil']).apply(lambda r: r/r.sum() *100,axis=0)\r\n",
    "print(Cluster_Estado_civil)\r\n",
    "\r\n",
    "Cluster_Nivel_estudios = pd.crosstab(index =ENS_2017_C['Clusters'],columns =ENS_2017_C['Nivel_estudios']).apply(lambda r: r/r.sum() *100,axis=0)\r\n",
    "print(Cluster_Nivel_estudios)\r\n",
    "\r\n",
    "Clúster_ Edad = ENS_2017_C.groupby(['Clusters'])['Edad'].describe()"
   ]
  },
  {
   "cell_type": "code",
   "execution_count": 129,
   "metadata": {},
   "outputs": [
    {
     "data": {
      "text/html": [
       "<div>\n",
       "<style scoped>\n",
       "    .dataframe tbody tr th:only-of-type {\n",
       "        vertical-align: middle;\n",
       "    }\n",
       "\n",
       "    .dataframe tbody tr th {\n",
       "        vertical-align: top;\n",
       "    }\n",
       "\n",
       "    .dataframe thead th {\n",
       "        text-align: right;\n",
       "    }\n",
       "</style>\n",
       "<table border=\"1\" class=\"dataframe\">\n",
       "  <thead>\n",
       "    <tr style=\"text-align: right;\">\n",
       "      <th></th>\n",
       "      <th>count</th>\n",
       "      <th>mean</th>\n",
       "      <th>std</th>\n",
       "      <th>min</th>\n",
       "      <th>25%</th>\n",
       "      <th>50%</th>\n",
       "      <th>75%</th>\n",
       "      <th>max</th>\n",
       "    </tr>\n",
       "    <tr>\n",
       "      <th>Clusters</th>\n",
       "      <th></th>\n",
       "      <th></th>\n",
       "      <th></th>\n",
       "      <th></th>\n",
       "      <th></th>\n",
       "      <th></th>\n",
       "      <th></th>\n",
       "      <th></th>\n",
       "    </tr>\n",
       "  </thead>\n",
       "  <tbody>\n",
       "    <tr>\n",
       "      <th>0</th>\n",
       "      <td>7650.0</td>\n",
       "      <td>53.527190</td>\n",
       "      <td>18.978808</td>\n",
       "      <td>15.0</td>\n",
       "      <td>39.0</td>\n",
       "      <td>53.0</td>\n",
       "      <td>68.0</td>\n",
       "      <td>103.0</td>\n",
       "    </tr>\n",
       "    <tr>\n",
       "      <th>1</th>\n",
       "      <td>7743.0</td>\n",
       "      <td>53.476947</td>\n",
       "      <td>18.922976</td>\n",
       "      <td>15.0</td>\n",
       "      <td>40.0</td>\n",
       "      <td>53.0</td>\n",
       "      <td>68.0</td>\n",
       "      <td>100.0</td>\n",
       "    </tr>\n",
       "    <tr>\n",
       "      <th>2</th>\n",
       "      <td>7696.0</td>\n",
       "      <td>53.304704</td>\n",
       "      <td>18.784073</td>\n",
       "      <td>15.0</td>\n",
       "      <td>39.0</td>\n",
       "      <td>53.0</td>\n",
       "      <td>68.0</td>\n",
       "      <td>102.0</td>\n",
       "    </tr>\n",
       "  </tbody>\n",
       "</table>\n",
       "</div>"
      ],
      "text/plain": [
       "           count       mean        std   min   25%   50%   75%    max\n",
       "Clusters                                                             \n",
       "0         7650.0  53.527190  18.978808  15.0  39.0  53.0  68.0  103.0\n",
       "1         7743.0  53.476947  18.922976  15.0  40.0  53.0  68.0  100.0\n",
       "2         7696.0  53.304704  18.784073  15.0  39.0  53.0  68.0  102.0"
      ]
     },
     "execution_count": 129,
     "metadata": {},
     "output_type": "execute_result"
    }
   ],
   "source": [
    "Clúster_Edad = ENS_2017_C.groupby(['Clusters'])['Edad'].describe()\r\n",
    "\r\n",
    "Clúster_Edad\r\n"
   ]
  },
  {
   "cell_type": "code",
   "execution_count": null,
   "metadata": {},
   "outputs": [],
   "source": [
    "Cluster_Vacunación_gripe = pd.crosstab(index =ENS_2017_C['Clusters'],columns =ENS_2017_C['Vacunación_gripe']).apply(lambda r: r/r.sum() *100,axis=0)\r\n",
    "print(Cluster_Vacunación_gripe)\r\n",
    "\r\n",
    "Cluster_Toma_tensiónArterial_profesional = pd.crosstab(index =ENS_2017_C['Clusters'],columns =ENS_2017_C['Toma_tensiónArterial_profesional']).apply(lambda r: r/r.sum() *100,axis=0)\r\n",
    "print(Cluster_Toma_tensiónArterial_profesional)\r\n",
    "\r\n",
    "Cluster_Prueba_sangreHeces = pd.crosstab(index =ENS_2017_C['Clusters'],columns =ENS_2017_C['Prueba_sangreHeces']).apply(lambda r: r/r.sum() *100, axis=0)\r\n",
    "print(Cluster_Prueba_sangreHeces)\r\n",
    "\r\n",
    "Cluster_Colonoscopia = pd.crosstab(index =ENS_2017_C['Clusters'],columns =ENS_2017_C['Colonoscopia']).apply(lambda r: r/r.sum() *100, axis=0)\r\n",
    "print(Cluster_Colonoscopia)\r\n"
   ]
  },
  {
   "cell_type": "code",
   "execution_count": null,
   "metadata": {},
   "outputs": [],
   "source": [
    "Cluster_Freq_ActividadFísica = pd.crosstab(index =ENS_2017_C['Clusters'],columns =ENS_2017_C['Freq_ActividadFísica']).apply(lambda r: r/r.sum() *100,\r\n",
    "                                axis=0)\r\n",
    "print(Cluster_Freq_ActividadFísica)"
   ]
  },
  {
   "cell_type": "code",
   "execution_count": null,
   "metadata": {},
   "outputs": [],
   "source": [
    "Cluster_Freq_Consumo_FrutaFresca = pd.crosstab(index =ENS_2017_C['Clusters'],columns =ENS_2017_C['Freq_Consumo_FrutaFresca']).apply(lambda r: r/r.sum() *100,\r\n",
    "                                axis=0)\r\n",
    "print(Cluster_Freq_Consumo_FrutaFresca)"
   ]
  },
  {
   "cell_type": "code",
   "execution_count": null,
   "metadata": {},
   "outputs": [],
   "source": []
  },
  {
   "cell_type": "code",
   "execution_count": null,
   "metadata": {},
   "outputs": [],
   "source": []
  },
  {
   "cell_type": "markdown",
   "metadata": {},
   "source": []
  },
  {
   "cell_type": "code",
   "execution_count": null,
   "metadata": {},
   "outputs": [],
   "source": []
  }
 ],
 "metadata": {
  "interpreter": {
   "hash": "7980ba124835d5faa10419b5aaaaec0d5be537aa3d05dd29d745d0092f32015f"
  },
  "kernelspec": {
   "display_name": "Python 3.8.9 64-bit",
   "name": "python3"
  },
  "language_info": {
   "name": "python",
   "version": ""
  },
  "orig_nbformat": 4
 },
 "nbformat": 4,
 "nbformat_minor": 2
}