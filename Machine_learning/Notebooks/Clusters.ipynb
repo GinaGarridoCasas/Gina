{
 "cells": [
  {
   "cell_type": "markdown",
   "metadata": {},
   "source": [
    "#### Extraemos de la base de datos las variables indepencientes (X) y la dependiente (y)"
   ]
  },
  {
   "cell_type": "code",
   "execution_count": 11,
   "metadata": {},
   "outputs": [
    {
     "data": {
      "text/plain": [
       "(23089, 35)"
      ]
     },
     "execution_count": 11,
     "metadata": {},
     "output_type": "execute_result"
    }
   ],
   "source": [
    "import pandas as pd\n",
    "import numpy as np\n",
    "\n",
    "from sklearn import metrics\n",
    "from sklearn.preprocessing import StandardScaler\n",
    "from sklearn.model_selection import train_test_split\n",
    "from sklearn import datasets\n",
    "from sklearn.cluster import KMeans\n",
    "\n",
    "\n",
    "ENS_2017_valida_2 = pd.read_csv(\"../data/Bases_trabajo/ENS_2017_valida_2.csv\", sep =',')\n",
    "\n",
    "# Pasamos a array la variable que queremos predecir ('actual')\n",
    "y = np.array(ENS_2017_valida_2['Salud_percibida'])\n",
    "# Eliminamos del dataframe la variable que queremos predecir y mantenemos el resto como columnas (serán las variables predictoras:X)\n",
    "# axis 1 se refiere a las columnas\n",
    "X= np.array(ENS_2017_valida_2.drop('Salud_percibida', axis = 1))\n",
    "X.shape\n",
    "\n"
   ]
  },
  {
   "cell_type": "code",
   "execution_count": 2,
   "metadata": {},
   "outputs": [],
   "source": [
    "# Dividimos en muestra de entrenamiento y de test\n",
    "X_train, X_test, y_train, y_test = train_test_split(X,\n",
    "                                                    y,\n",
    "                                                    test_size=0.2,\n",
    "                                                    random_state=42)"
   ]
  },
  {
   "cell_type": "markdown",
   "metadata": {},
   "source": [
    "#### Determinamos el número de Clusters óptimo en nuestra muestra de entrenamiento"
   ]
  },
  {
   "cell_type": "code",
   "execution_count": 12,
   "metadata": {},
   "outputs": [
    {
     "data": {
      "image/png": "[encoded data removed]",
      "image/svg+xml": "<?xml version=\"1.0\" encoding=\"utf-8\" standalone=\"no\"?>\r\n<!DOCTYPE svg PUBLIC \"-//W3C//DTD SVG 1.1//EN\"\r\n  \"http://www.w3.org/Graphics/SVG/1.1/DTD/svg11.dtd\">\r\n<svg height=\"277.314375pt\" version=\"1.1\" viewBox=\"0 0 384.620312 277.314375\" width=\"384.620312pt\" xmlns=\"http://www.w3.org/2000/svg\" xmlns:xlink=\"http://www.w3.org/1999/xlink\">\r\n <metadata>\r\n  <rdf:RDF xmlns:cc=\"http://creativecommons.org/ns#\" xmlns:dc=\"http://purl.org/dc/elements/1.1/\" xmlns:rdf=\"http://www.w3.org/1999/02/22-rdf-syntax-ns#\">\r\n   <cc:Work>\r\n    <dc:type rdf:resource=\"http://purl.org/dc/dcmitype/StillImage\"/>\r\n    <dc:date>2021-06-29T17:47:30.692001</dc:date>\r\n    <dc:format>image/svg+xml</dc:format>\r\n    <dc:creator>\r\n     <cc:Agent>\r\n      <dc:title>Matplotlib v3.4.1, https://matplotlib.org/</dc:title>\r\n     </cc:Agent>\r\n    </dc:creator>\r\n   </cc:Work>\r\n  </rdf:RDF>\r\n </metadata>\r\n <defs>\r\n  <style type=\"text/css\">*{stroke-linecap:butt;stroke-linejoin:round;}</style>\r\n </defs>\r\n <g id=\"figure_1\">\r\n  <g id=\"patch_1\">\r\n   <path d=\"M 0 277.314375 \r\nL 384.620312 277.314375 \r\nL 384.620312 0 \r\nL 0 0 \r\nz\r\n\" style=\"fill:none;\"/>\r\n  </g>\r\n  <g id=\"axes_1\">\r\n   <g id=\"patch_2\">\r\n    <path d=\"M 42.620313 239.758125 \r\nL 377.420313 239.758125 \r\nL 377.420313 22.318125 \r\nL 42.620313 22.318125 \r\nz\r\n\" style=\"fill:#ffffff;\"/>\r\n   </g>\r\n   <g id=\"matplotlib.axis_1\">\r\n    <g id=\"xtick_1\">\r\n     <g id=\"line2d_1\">\r\n      <defs>\r\n       <path d=\"M 0 0 \r\nL 0 3.5 \r\n\" id=\"m8907b8f50c\" style=\"stroke:#000000;stroke-width:0.8;\"/>\r\n      </defs>\r\n      <g>\r\n       <use style=\"stroke:#000000;stroke-width:0.8;\" x=\"57.838494\" xlink:href=\"#m8907b8f50c\" y=\"239.758125\"/>\r\n      </g>\r\n     </g>\r\n     <g id=\"text_1\">\r\n      <!-- 1 -->\r\n      <g transform=\"translate(54.657244 254.356562)scale(0.1 -0.1)\">\r\n       <defs>\r\n        <path d=\"M 794 531 \r\nL 1825 531 \r\nL 1825 4091 \r\nL 703 3866 \r\nL 703 4441 \r\nL 1819 4666 \r\nL 2450 4666 \r\nL 2450 531 \r\nL 3481 531 \r\nL 3481 0 \r\nL 794 0 \r\nL 794 531 \r\nz\r\n\" id=\"DejaVuSans-31\" transform=\"scale(0.015625)\"/>\r\n       </defs>\r\n       <use xlink:href=\"#DejaVuSans-31\"/>\r\n      </g>\r\n     </g>\r\n    </g>\r\n    <g id=\"xtick_2\">\r\n     <g id=\"line2d_2\">\r\n      <g>\r\n       <use style=\"stroke:#000000;stroke-width:0.8;\" x=\"95.883949\" xlink:href=\"#m8907b8f50c\" y=\"239.758125\"/>\r\n      </g>\r\n     </g>\r\n     <g id=\"text_2\">\r\n      <!-- 2 -->\r\n      <g transform=\"translate(92.702699 254.356562)scale(0.1 -0.1)\">\r\n       <defs>\r\n        <path d=\"M 1228 531 \r\nL 3431 531 \r\nL 3431 0 \r\nL 469 0 \r\nL 469 531 \r\nQ 828 903 1448 1529 \r\nQ 2069 2156 2228 2338 \r\nQ 2531 2678 2651 2914 \r\nQ 2772 3150 2772 3378 \r\nQ 2772 3750 2511 3984 \r\nQ 2250 4219 1831 4219 \r\nQ 1534 4219 1204 4116 \r\nQ 875 4013 500 3803 \r\nL 500 4441 \r\nQ 881 4594 1212 4672 \r\nQ 1544 4750 1819 4750 \r\nQ 2544 4750 2975 4387 \r\nQ 3406 4025 3406 3419 \r\nQ 3406 3131 3298 2873 \r\nQ 3191 2616 2906 2266 \r\nQ 2828 2175 2409 1742 \r\nQ 1991 1309 1228 531 \r\nz\r\n\" id=\"DejaVuSans-32\" transform=\"scale(0.015625)\"/>\r\n       </defs>\r\n       <use xlink:href=\"#DejaVuSans-32\"/>\r\n      </g>\r\n     </g>\r\n    </g>\r\n    <g id=\"xtick_3\">\r\n     <g id=\"line2d_3\">\r\n      <g>\r\n       <use style=\"stroke:#000000;stroke-width:0.8;\" x=\"133.929403\" xlink:href=\"#m8907b8f50c\" y=\"239.758125\"/>\r\n      </g>\r\n     </g>\r\n     <g id=\"text_3\">\r\n      <!-- 3 -->\r\n      <g transform=\"translate(130.748153 254.356562)scale(0.1 -0.1)\">\r\n       <defs>\r\n        <path d=\"M 2597 2516 \r\nQ 3050 2419 3304 2112 \r\nQ 3559 1806 3559 1356 \r\nQ 3559 666 3084 287 \r\nQ 2609 -91 1734 -91 \r\nQ 1441 -91 1130 -33 \r\nQ 819 25 488 141 \r\nL 488 750 \r\nQ 750 597 1062 519 \r\nQ 1375 441 1716 441 \r\nQ 2309 441 2620 675 \r\nQ 2931 909 2931 1356 \r\nQ 2931 1769 2642 2001 \r\nQ 2353 2234 1838 2234 \r\nL 1294 2234 \r\nL 1294 2753 \r\nL 1863 2753 \r\nQ 2328 2753 2575 2939 \r\nQ 2822 3125 2822 3475 \r\nQ 2822 3834 2567 4026 \r\nQ 2313 4219 1838 4219 \r\nQ 1578 4219 1281 4162 \r\nQ 984 4106 628 3988 \r\nL 628 4550 \r\nQ 988 4650 1302 4700 \r\nQ 1616 4750 1894 4750 \r\nQ 2613 4750 3031 4423 \r\nQ 3450 4097 3450 3541 \r\nQ 3450 3153 3228 2886 \r\nQ 3006 2619 2597 2516 \r\nz\r\n\" id=\"DejaVuSans-33\" transform=\"scale(0.015625)\"/>\r\n       </defs>\r\n       <use xlink:href=\"#DejaVuSans-33\"/>\r\n      </g>\r\n     </g>\r\n    </g>\r\n    <g id=\"xtick_4\">\r\n     <g id=\"line2d_4\">\r\n      <g>\r\n       <use style=\"stroke:#000000;stroke-width:0.8;\" x=\"171.974858\" xlink:href=\"#m8907b8f50c\" y=\"239.758125\"/>\r\n      </g>\r\n     </g>\r\n     <g id=\"text_4\">\r\n      <!-- 4 -->\r\n      <g transform=\"translate(168.793608 254.356562)scale(0.1 -0.1)\">\r\n       <defs>\r\n        <path d=\"M 2419 4116 \r\nL 825 1625 \r\nL 2419 1625 \r\nL 2419 4116 \r\nz\r\nM 2253 4666 \r\nL 3047 4666 \r\nL 3047 1625 \r\nL 3713 1625 \r\nL 3713 1100 \r\nL 3047 1100 \r\nL 3047 0 \r\nL 2419 0 \r\nL 2419 1100 \r\nL 313 1100 \r\nL 313 1709 \r\nL 2253 4666 \r\nz\r\n\" id=\"DejaVuSans-34\" transform=\"scale(0.015625)\"/>\r\n       </defs>\r\n       <use xlink:href=\"#DejaVuSans-34\"/>\r\n      </g>\r\n     </g>\r\n    </g>\r\n    <g id=\"xtick_5\">\r\n     <g id=\"line2d_5\">\r\n      <g>\r\n       <use style=\"stroke:#000000;stroke-width:0.8;\" x=\"210.020313\" xlink:href=\"#m8907b8f50c\" y=\"239.758125\"/>\r\n      </g>\r\n     </g>\r\n     <g id=\"text_5\">\r\n      <!-- 5 -->\r\n      <g transform=\"translate(206.839063 254.356562)scale(0.1 -0.1)\">\r\n       <defs>\r\n        <path d=\"M 691 4666 \r\nL 3169 4666 \r\nL 3169 4134 \r\nL 1269 4134 \r\nL 1269 2991 \r\nQ 1406 3038 1543 3061 \r\nQ 1681 3084 1819 3084 \r\nQ 2600 3084 3056 2656 \r\nQ 3513 2228 3513 1497 \r\nQ 3513 744 3044 326 \r\nQ 2575 -91 1722 -91 \r\nQ 1428 -91 1123 -41 \r\nQ 819 9 494 109 \r\nL 494 744 \r\nQ 775 591 1075 516 \r\nQ 1375 441 1709 441 \r\nQ 2250 441 2565 725 \r\nQ 2881 1009 2881 1497 \r\nQ 2881 1984 2565 2268 \r\nQ 2250 2553 1709 2553 \r\nQ 1456 2553 1204 2497 \r\nQ 953 2441 691 2322 \r\nL 691 4666 \r\nz\r\n\" id=\"DejaVuSans-35\" transform=\"scale(0.015625)\"/>\r\n       </defs>\r\n       <use xlink:href=\"#DejaVuSans-35\"/>\r\n      </g>\r\n     </g>\r\n    </g>\r\n    <g id=\"xtick_6\">\r\n     <g id=\"line2d_6\">\r\n      <g>\r\n       <use style=\"stroke:#000000;stroke-width:0.8;\" x=\"248.065767\" xlink:href=\"#m8907b8f50c\" y=\"239.758125\"/>\r\n      </g>\r\n     </g>\r\n     <g id=\"text_6\">\r\n      <!-- 6 -->\r\n      <g transform=\"translate(244.884517 254.356562)scale(0.1 -0.1)\">\r\n       <defs>\r\n        <path d=\"M 2113 2584 \r\nQ 1688 2584 1439 2293 \r\nQ 1191 2003 1191 1497 \r\nQ 1191 994 1439 701 \r\nQ 1688 409 2113 409 \r\nQ 2538 409 2786 701 \r\nQ 3034 994 3034 1497 \r\nQ 3034 2003 2786 2293 \r\nQ 2538 2584 2113 2584 \r\nz\r\nM 3366 4563 \r\nL 3366 3988 \r\nQ 3128 4100 2886 4159 \r\nQ 2644 4219 2406 4219 \r\nQ 1781 4219 1451 3797 \r\nQ 1122 3375 1075 2522 \r\nQ 1259 2794 1537 2939 \r\nQ 1816 3084 2150 3084 \r\nQ 2853 3084 3261 2657 \r\nQ 3669 2231 3669 1497 \r\nQ 3669 778 3244 343 \r\nQ 2819 -91 2113 -91 \r\nQ 1303 -91 875 529 \r\nQ 447 1150 447 2328 \r\nQ 447 3434 972 4092 \r\nQ 1497 4750 2381 4750 \r\nQ 2619 4750 2861 4703 \r\nQ 3103 4656 3366 4563 \r\nz\r\n\" id=\"DejaVuSans-36\" transform=\"scale(0.015625)\"/>\r\n       </defs>\r\n       <use xlink:href=\"#DejaVuSans-36\"/>\r\n      </g>\r\n     </g>\r\n    </g>\r\n    <g id=\"xtick_7\">\r\n     <g id=\"line2d_7\">\r\n      <g>\r\n       <use style=\"stroke:#000000;stroke-width:0.8;\" x=\"286.111222\" xlink:href=\"#m8907b8f50c\" y=\"239.758125\"/>\r\n      </g>\r\n     </g>\r\n     <g id=\"text_7\">\r\n      <!-- 7 -->\r\n      <g transform=\"translate(282.929972 254.356562)scale(0.1 -0.1)\">\r\n       <defs>\r\n        <path d=\"M 525 4666 \r\nL 3525 4666 \r\nL 3525 4397 \r\nL 1831 0 \r\nL 1172 0 \r\nL 2766 4134 \r\nL 525 4134 \r\nL 525 4666 \r\nz\r\n\" id=\"DejaVuSans-37\" transform=\"scale(0.015625)\"/>\r\n       </defs>\r\n       <use xlink:href=\"#DejaVuSans-37\"/>\r\n      </g>\r\n     </g>\r\n    </g>\r\n    <g id=\"xtick_8\">\r\n     <g id=\"line2d_8\">\r\n      <g>\r\n       <use style=\"stroke:#000000;stroke-width:0.8;\" x=\"324.156676\" xlink:href=\"#m8907b8f50c\" y=\"239.758125\"/>\r\n      </g>\r\n     </g>\r\n     <g id=\"text_8\">\r\n      <!-- 8 -->\r\n      <g transform=\"translate(320.975426 254.356562)scale(0.1 -0.1)\">\r\n       <defs>\r\n        <path d=\"M 2034 2216 \r\nQ 1584 2216 1326 1975 \r\nQ 1069 1734 1069 1313 \r\nQ 1069 891 1326 650 \r\nQ 1584 409 2034 409 \r\nQ 2484 409 2743 651 \r\nQ 3003 894 3003 1313 \r\nQ 3003 1734 2745 1975 \r\nQ 2488 2216 2034 2216 \r\nz\r\nM 1403 2484 \r\nQ 997 2584 770 2862 \r\nQ 544 3141 544 3541 \r\nQ 544 4100 942 4425 \r\nQ 1341 4750 2034 4750 \r\nQ 2731 4750 3128 4425 \r\nQ 3525 4100 3525 3541 \r\nQ 3525 3141 3298 2862 \r\nQ 3072 2584 2669 2484 \r\nQ 3125 2378 3379 2068 \r\nQ 3634 1759 3634 1313 \r\nQ 3634 634 3220 271 \r\nQ 2806 -91 2034 -91 \r\nQ 1263 -91 848 271 \r\nQ 434 634 434 1313 \r\nQ 434 1759 690 2068 \r\nQ 947 2378 1403 2484 \r\nz\r\nM 1172 3481 \r\nQ 1172 3119 1398 2916 \r\nQ 1625 2713 2034 2713 \r\nQ 2441 2713 2670 2916 \r\nQ 2900 3119 2900 3481 \r\nQ 2900 3844 2670 4047 \r\nQ 2441 4250 2034 4250 \r\nQ 1625 4250 1398 4047 \r\nQ 1172 3844 1172 3481 \r\nz\r\n\" id=\"DejaVuSans-38\" transform=\"scale(0.015625)\"/>\r\n       </defs>\r\n       <use xlink:href=\"#DejaVuSans-38\"/>\r\n      </g>\r\n     </g>\r\n    </g>\r\n    <g id=\"xtick_9\">\r\n     <g id=\"line2d_9\">\r\n      <g>\r\n       <use style=\"stroke:#000000;stroke-width:0.8;\" x=\"362.202131\" xlink:href=\"#m8907b8f50c\" y=\"239.758125\"/>\r\n      </g>\r\n     </g>\r\n     <g id=\"text_9\">\r\n      <!-- 9 -->\r\n      <g transform=\"translate(359.020881 254.356562)scale(0.1 -0.1)\">\r\n       <defs>\r\n        <path d=\"M 703 97 \r\nL 703 672 \r\nQ 941 559 1184 500 \r\nQ 1428 441 1663 441 \r\nQ 2288 441 2617 861 \r\nQ 2947 1281 2994 2138 \r\nQ 2813 1869 2534 1725 \r\nQ 2256 1581 1919 1581 \r\nQ 1219 1581 811 2004 \r\nQ 403 2428 403 3163 \r\nQ 403 3881 828 4315 \r\nQ 1253 4750 1959 4750 \r\nQ 2769 4750 3195 4129 \r\nQ 3622 3509 3622 2328 \r\nQ 3622 1225 3098 567 \r\nQ 2575 -91 1691 -91 \r\nQ 1453 -91 1209 -44 \r\nQ 966 3 703 97 \r\nz\r\nM 1959 2075 \r\nQ 2384 2075 2632 2365 \r\nQ 2881 2656 2881 3163 \r\nQ 2881 3666 2632 3958 \r\nQ 2384 4250 1959 4250 \r\nQ 1534 4250 1286 3958 \r\nQ 1038 3666 1038 3163 \r\nQ 1038 2656 1286 2365 \r\nQ 1534 2075 1959 2075 \r\nz\r\n\" id=\"DejaVuSans-39\" transform=\"scale(0.015625)\"/>\r\n       </defs>\r\n       <use xlink:href=\"#DejaVuSans-39\"/>\r\n      </g>\r\n     </g>\r\n    </g>\r\n    <g id=\"text_10\">\r\n     <!-- Number of Clusters -->\r\n     <g transform=\"translate(161.585938 268.034687)scale(0.1 -0.1)\">\r\n      <defs>\r\n       <path d=\"M 628 4666 \r\nL 1478 4666 \r\nL 3547 763 \r\nL 3547 4666 \r\nL 4159 4666 \r\nL 4159 0 \r\nL 3309 0 \r\nL 1241 3903 \r\nL 1241 0 \r\nL 628 0 \r\nL 628 4666 \r\nz\r\n\" id=\"DejaVuSans-4e\" transform=\"scale(0.015625)\"/>\r\n       <path d=\"M 544 1381 \r\nL 544 3500 \r\nL 1119 3500 \r\nL 1119 1403 \r\nQ 1119 906 1312 657 \r\nQ 1506 409 1894 409 \r\nQ 2359 409 2629 706 \r\nQ 2900 1003 2900 1516 \r\nL 2900 3500 \r\nL 3475 3500 \r\nL 3475 0 \r\nL 2900 0 \r\nL 2900 538 \r\nQ 2691 219 2414 64 \r\nQ 2138 -91 1772 -91 \r\nQ 1169 -91 856 284 \r\nQ 544 659 544 1381 \r\nz\r\nM 1991 3584 \r\nL 1991 3584 \r\nz\r\n\" id=\"DejaVuSans-75\" transform=\"scale(0.015625)\"/>\r\n       <path d=\"M 3328 2828 \r\nQ 3544 3216 3844 3400 \r\nQ 4144 3584 4550 3584 \r\nQ 5097 3584 5394 3201 \r\nQ 5691 2819 5691 2113 \r\nL 5691 0 \r\nL 5113 0 \r\nL 5113 2094 \r\nQ 5113 2597 4934 2840 \r\nQ 4756 3084 4391 3084 \r\nQ 3944 3084 3684 2787 \r\nQ 3425 2491 3425 1978 \r\nL 3425 0 \r\nL 2847 0 \r\nL 2847 2094 \r\nQ 2847 2600 2669 2842 \r\nQ 2491 3084 2119 3084 \r\nQ 1678 3084 1418 2786 \r\nQ 1159 2488 1159 1978 \r\nL 1159 0 \r\nL 581 0 \r\nL 581 3500 \r\nL 1159 3500 \r\nL 1159 2956 \r\nQ 1356 3278 1631 3431 \r\nQ 1906 3584 2284 3584 \r\nQ 2666 3584 2933 3390 \r\nQ 3200 3197 3328 2828 \r\nz\r\n\" id=\"DejaVuSans-6d\" transform=\"scale(0.015625)\"/>\r\n       <path d=\"M 3116 1747 \r\nQ 3116 2381 2855 2742 \r\nQ 2594 3103 2138 3103 \r\nQ 1681 3103 1420 2742 \r\nQ 1159 2381 1159 1747 \r\nQ 1159 1113 1420 752 \r\nQ 1681 391 2138 391 \r\nQ 2594 391 2855 752 \r\nQ 3116 1113 3116 1747 \r\nz\r\nM 1159 2969 \r\nQ 1341 3281 1617 3432 \r\nQ 1894 3584 2278 3584 \r\nQ 2916 3584 3314 3078 \r\nQ 3713 2572 3713 1747 \r\nQ 3713 922 3314 415 \r\nQ 2916 -91 2278 -91 \r\nQ 1894 -91 1617 61 \r\nQ 1341 213 1159 525 \r\nL 1159 0 \r\nL 581 0 \r\nL 581 4863 \r\nL 1159 4863 \r\nL 1159 2969 \r\nz\r\n\" id=\"DejaVuSans-62\" transform=\"scale(0.015625)\"/>\r\n       <path d=\"M 3597 1894 \r\nL 3597 1613 \r\nL 953 1613 \r\nQ 991 1019 1311 708 \r\nQ 1631 397 2203 397 \r\nQ 2534 397 2845 478 \r\nQ 3156 559 3463 722 \r\nL 3463 178 \r\nQ 3153 47 2828 -22 \r\nQ 2503 -91 2169 -91 \r\nQ 1331 -91 842 396 \r\nQ 353 884 353 1716 \r\nQ 353 2575 817 3079 \r\nQ 1281 3584 2069 3584 \r\nQ 2775 3584 3186 3129 \r\nQ 3597 2675 3597 1894 \r\nz\r\nM 3022 2063 \r\nQ 3016 2534 2758 2815 \r\nQ 2500 3097 2075 3097 \r\nQ 1594 3097 1305 2825 \r\nQ 1016 2553 972 2059 \r\nL 3022 2063 \r\nz\r\n\" id=\"DejaVuSans-65\" transform=\"scale(0.015625)\"/>\r\n       <path d=\"M 2631 2963 \r\nQ 2534 3019 2420 3045 \r\nQ 2306 3072 2169 3072 \r\nQ 1681 3072 1420 2755 \r\nQ 1159 2438 1159 1844 \r\nL 1159 0 \r\nL 581 0 \r\nL 581 3500 \r\nL 1159 3500 \r\nL 1159 2956 \r\nQ 1341 3275 1631 3429 \r\nQ 1922 3584 2338 3584 \r\nQ 2397 3584 2469 3576 \r\nQ 2541 3569 2628 3553 \r\nL 2631 2963 \r\nz\r\n\" id=\"DejaVuSans-72\" transform=\"scale(0.015625)\"/>\r\n       <path id=\"DejaVuSans-20\" transform=\"scale(0.015625)\"/>\r\n       <path d=\"M 1959 3097 \r\nQ 1497 3097 1228 2736 \r\nQ 959 2375 959 1747 \r\nQ 959 1119 1226 758 \r\nQ 1494 397 1959 397 \r\nQ 2419 397 2687 759 \r\nQ 2956 1122 2956 1747 \r\nQ 2956 2369 2687 2733 \r\nQ 2419 3097 1959 3097 \r\nz\r\nM 1959 3584 \r\nQ 2709 3584 3137 3096 \r\nQ 3566 2609 3566 1747 \r\nQ 3566 888 3137 398 \r\nQ 2709 -91 1959 -91 \r\nQ 1206 -91 779 398 \r\nQ 353 888 353 1747 \r\nQ 353 2609 779 3096 \r\nQ 1206 3584 1959 3584 \r\nz\r\n\" id=\"DejaVuSans-6f\" transform=\"scale(0.015625)\"/>\r\n       <path d=\"M 2375 4863 \r\nL 2375 4384 \r\nL 1825 4384 \r\nQ 1516 4384 1395 4259 \r\nQ 1275 4134 1275 3809 \r\nL 1275 3500 \r\nL 2222 3500 \r\nL 2222 3053 \r\nL 1275 3053 \r\nL 1275 0 \r\nL 697 0 \r\nL 697 3053 \r\nL 147 3053 \r\nL 147 3500 \r\nL 697 3500 \r\nL 697 3744 \r\nQ 697 4328 969 4595 \r\nQ 1241 4863 1831 4863 \r\nL 2375 4863 \r\nz\r\n\" id=\"DejaVuSans-66\" transform=\"scale(0.015625)\"/>\r\n       <path d=\"M 4122 4306 \r\nL 4122 3641 \r\nQ 3803 3938 3442 4084 \r\nQ 3081 4231 2675 4231 \r\nQ 1875 4231 1450 3742 \r\nQ 1025 3253 1025 2328 \r\nQ 1025 1406 1450 917 \r\nQ 1875 428 2675 428 \r\nQ 3081 428 3442 575 \r\nQ 3803 722 4122 1019 \r\nL 4122 359 \r\nQ 3791 134 3420 21 \r\nQ 3050 -91 2638 -91 \r\nQ 1578 -91 968 557 \r\nQ 359 1206 359 2328 \r\nQ 359 3453 968 4101 \r\nQ 1578 4750 2638 4750 \r\nQ 3056 4750 3426 4639 \r\nQ 3797 4528 4122 4306 \r\nz\r\n\" id=\"DejaVuSans-43\" transform=\"scale(0.015625)\"/>\r\n       <path d=\"M 603 4863 \r\nL 1178 4863 \r\nL 1178 0 \r\nL 603 0 \r\nL 603 4863 \r\nz\r\n\" id=\"DejaVuSans-6c\" transform=\"scale(0.015625)\"/>\r\n       <path d=\"M 2834 3397 \r\nL 2834 2853 \r\nQ 2591 2978 2328 3040 \r\nQ 2066 3103 1784 3103 \r\nQ 1356 3103 1142 2972 \r\nQ 928 2841 928 2578 \r\nQ 928 2378 1081 2264 \r\nQ 1234 2150 1697 2047 \r\nL 1894 2003 \r\nQ 2506 1872 2764 1633 \r\nQ 3022 1394 3022 966 \r\nQ 3022 478 2636 193 \r\nQ 2250 -91 1575 -91 \r\nQ 1294 -91 989 -36 \r\nQ 684 19 347 128 \r\nL 347 722 \r\nQ 666 556 975 473 \r\nQ 1284 391 1588 391 \r\nQ 1994 391 2212 530 \r\nQ 2431 669 2431 922 \r\nQ 2431 1156 2273 1281 \r\nQ 2116 1406 1581 1522 \r\nL 1381 1569 \r\nQ 847 1681 609 1914 \r\nQ 372 2147 372 2553 \r\nQ 372 3047 722 3315 \r\nQ 1072 3584 1716 3584 \r\nQ 2034 3584 2315 3537 \r\nQ 2597 3491 2834 3397 \r\nz\r\n\" id=\"DejaVuSans-73\" transform=\"scale(0.015625)\"/>\r\n       <path d=\"M 1172 4494 \r\nL 1172 3500 \r\nL 2356 3500 \r\nL 2356 3053 \r\nL 1172 3053 \r\nL 1172 1153 \r\nQ 1172 725 1289 603 \r\nQ 1406 481 1766 481 \r\nL 2356 481 \r\nL 2356 0 \r\nL 1766 0 \r\nQ 1100 0 847 248 \r\nQ 594 497 594 1153 \r\nL 594 3053 \r\nL 172 3053 \r\nL 172 3500 \r\nL 594 3500 \r\nL 594 4494 \r\nL 1172 4494 \r\nz\r\n\" id=\"DejaVuSans-74\" transform=\"scale(0.015625)\"/>\r\n      </defs>\r\n      <use xlink:href=\"#DejaVuSans-4e\"/>\r\n      <use x=\"74.804688\" xlink:href=\"#DejaVuSans-75\"/>\r\n      <use x=\"138.183594\" xlink:href=\"#DejaVuSans-6d\"/>\r\n      <use x=\"235.595703\" xlink:href=\"#DejaVuSans-62\"/>\r\n      <use x=\"299.072266\" xlink:href=\"#DejaVuSans-65\"/>\r\n      <use x=\"360.595703\" xlink:href=\"#DejaVuSans-72\"/>\r\n      <use x=\"401.708984\" xlink:href=\"#DejaVuSans-20\"/>\r\n      <use x=\"433.496094\" xlink:href=\"#DejaVuSans-6f\"/>\r\n      <use x=\"494.677734\" xlink:href=\"#DejaVuSans-66\"/>\r\n      <use x=\"529.882812\" xlink:href=\"#DejaVuSans-20\"/>\r\n      <use x=\"561.669922\" xlink:href=\"#DejaVuSans-43\"/>\r\n      <use x=\"631.494141\" xlink:href=\"#DejaVuSans-6c\"/>\r\n      <use x=\"659.277344\" xlink:href=\"#DejaVuSans-75\"/>\r\n      <use x=\"722.65625\" xlink:href=\"#DejaVuSans-73\"/>\r\n      <use x=\"774.755859\" xlink:href=\"#DejaVuSans-74\"/>\r\n      <use x=\"813.964844\" xlink:href=\"#DejaVuSans-65\"/>\r\n      <use x=\"875.488281\" xlink:href=\"#DejaVuSans-72\"/>\r\n      <use x=\"916.601562\" xlink:href=\"#DejaVuSans-73\"/>\r\n     </g>\r\n    </g>\r\n   </g>\r\n   <g id=\"matplotlib.axis_2\">\r\n    <g id=\"ytick_1\">\r\n     <g id=\"line2d_10\">\r\n      <defs>\r\n       <path d=\"M 0 0 \r\nL -3.5 0 \r\n\" id=\"m4986460124\" style=\"stroke:#000000;stroke-width:0.8;\"/>\r\n      </defs>\r\n      <g>\r\n       <use style=\"stroke:#000000;stroke-width:0.8;\" x=\"42.620313\" xlink:href=\"#m4986460124\" y=\"225.220332\"/>\r\n      </g>\r\n     </g>\r\n     <g id=\"text_11\">\r\n      <!-- −8 -->\r\n      <g transform=\"translate(20.878125 229.019551)scale(0.1 -0.1)\">\r\n       <defs>\r\n        <path d=\"M 678 2272 \r\nL 4684 2272 \r\nL 4684 1741 \r\nL 678 1741 \r\nL 678 2272 \r\nz\r\n\" id=\"DejaVuSans-2212\" transform=\"scale(0.015625)\"/>\r\n       </defs>\r\n       <use xlink:href=\"#DejaVuSans-2212\"/>\r\n       <use x=\"83.789062\" xlink:href=\"#DejaVuSans-38\"/>\r\n      </g>\r\n     </g>\r\n    </g>\r\n    <g id=\"ytick_2\">\r\n     <g id=\"line2d_11\">\r\n      <g>\r\n       <use style=\"stroke:#000000;stroke-width:0.8;\" x=\"42.620313\" xlink:href=\"#m4986460124\" y=\"200.783267\"/>\r\n      </g>\r\n     </g>\r\n     <g id=\"text_12\">\r\n      <!-- −7 -->\r\n      <g transform=\"translate(20.878125 204.582486)scale(0.1 -0.1)\">\r\n       <use xlink:href=\"#DejaVuSans-2212\"/>\r\n       <use x=\"83.789062\" xlink:href=\"#DejaVuSans-37\"/>\r\n      </g>\r\n     </g>\r\n    </g>\r\n    <g id=\"ytick_3\">\r\n     <g id=\"line2d_12\">\r\n      <g>\r\n       <use style=\"stroke:#000000;stroke-width:0.8;\" x=\"42.620313\" xlink:href=\"#m4986460124\" y=\"176.346203\"/>\r\n      </g>\r\n     </g>\r\n     <g id=\"text_13\">\r\n      <!-- −6 -->\r\n      <g transform=\"translate(20.878125 180.145421)scale(0.1 -0.1)\">\r\n       <use xlink:href=\"#DejaVuSans-2212\"/>\r\n       <use x=\"83.789062\" xlink:href=\"#DejaVuSans-36\"/>\r\n      </g>\r\n     </g>\r\n    </g>\r\n    <g id=\"ytick_4\">\r\n     <g id=\"line2d_13\">\r\n      <g>\r\n       <use style=\"stroke:#000000;stroke-width:0.8;\" x=\"42.620313\" xlink:href=\"#m4986460124\" y=\"151.909138\"/>\r\n      </g>\r\n     </g>\r\n     <g id=\"text_14\">\r\n      <!-- −5 -->\r\n      <g transform=\"translate(20.878125 155.708357)scale(0.1 -0.1)\">\r\n       <use xlink:href=\"#DejaVuSans-2212\"/>\r\n       <use x=\"83.789062\" xlink:href=\"#DejaVuSans-35\"/>\r\n      </g>\r\n     </g>\r\n    </g>\r\n    <g id=\"ytick_5\">\r\n     <g id=\"line2d_14\">\r\n      <g>\r\n       <use style=\"stroke:#000000;stroke-width:0.8;\" x=\"42.620313\" xlink:href=\"#m4986460124\" y=\"127.472073\"/>\r\n      </g>\r\n     </g>\r\n     <g id=\"text_15\">\r\n      <!-- −4 -->\r\n      <g transform=\"translate(20.878125 131.271292)scale(0.1 -0.1)\">\r\n       <use xlink:href=\"#DejaVuSans-2212\"/>\r\n       <use x=\"83.789062\" xlink:href=\"#DejaVuSans-34\"/>\r\n      </g>\r\n     </g>\r\n    </g>\r\n    <g id=\"ytick_6\">\r\n     <g id=\"line2d_15\">\r\n      <g>\r\n       <use style=\"stroke:#000000;stroke-width:0.8;\" x=\"42.620313\" xlink:href=\"#m4986460124\" y=\"103.035009\"/>\r\n      </g>\r\n     </g>\r\n     <g id=\"text_16\">\r\n      <!-- −3 -->\r\n      <g transform=\"translate(20.878125 106.834227)scale(0.1 -0.1)\">\r\n       <use xlink:href=\"#DejaVuSans-2212\"/>\r\n       <use x=\"83.789062\" xlink:href=\"#DejaVuSans-33\"/>\r\n      </g>\r\n     </g>\r\n    </g>\r\n    <g id=\"ytick_7\">\r\n     <g id=\"line2d_16\">\r\n      <g>\r\n       <use style=\"stroke:#000000;stroke-width:0.8;\" x=\"42.620313\" xlink:href=\"#m4986460124\" y=\"78.597944\"/>\r\n      </g>\r\n     </g>\r\n     <g id=\"text_17\">\r\n      <!-- −2 -->\r\n      <g transform=\"translate(20.878125 82.397163)scale(0.1 -0.1)\">\r\n       <use xlink:href=\"#DejaVuSans-2212\"/>\r\n       <use x=\"83.789062\" xlink:href=\"#DejaVuSans-32\"/>\r\n      </g>\r\n     </g>\r\n    </g>\r\n    <g id=\"ytick_8\">\r\n     <g id=\"line2d_17\">\r\n      <g>\r\n       <use style=\"stroke:#000000;stroke-width:0.8;\" x=\"42.620313\" xlink:href=\"#m4986460124\" y=\"54.160879\"/>\r\n      </g>\r\n     </g>\r\n     <g id=\"text_18\">\r\n      <!-- −1 -->\r\n      <g transform=\"translate(20.878125 57.960098)scale(0.1 -0.1)\">\r\n       <use xlink:href=\"#DejaVuSans-2212\"/>\r\n       <use x=\"83.789062\" xlink:href=\"#DejaVuSans-31\"/>\r\n      </g>\r\n     </g>\r\n    </g>\r\n    <g id=\"ytick_9\">\r\n     <g id=\"line2d_18\">\r\n      <g>\r\n       <use style=\"stroke:#000000;stroke-width:0.8;\" x=\"42.620313\" xlink:href=\"#m4986460124\" y=\"29.723814\"/>\r\n      </g>\r\n     </g>\r\n     <g id=\"text_19\">\r\n      <!-- 0 -->\r\n      <g transform=\"translate(29.257813 33.523033)scale(0.1 -0.1)\">\r\n       <defs>\r\n        <path d=\"M 2034 4250 \r\nQ 1547 4250 1301 3770 \r\nQ 1056 3291 1056 2328 \r\nQ 1056 1369 1301 889 \r\nQ 1547 409 2034 409 \r\nQ 2525 409 2770 889 \r\nQ 3016 1369 3016 2328 \r\nQ 3016 3291 2770 3770 \r\nQ 2525 4250 2034 4250 \r\nz\r\nM 2034 4750 \r\nQ 2819 4750 3233 4129 \r\nQ 3647 3509 3647 2328 \r\nQ 3647 1150 3233 529 \r\nQ 2819 -91 2034 -91 \r\nQ 1250 -91 836 529 \r\nQ 422 1150 422 2328 \r\nQ 422 3509 836 4129 \r\nQ 1250 4750 2034 4750 \r\nz\r\n\" id=\"DejaVuSans-30\" transform=\"scale(0.015625)\"/>\r\n       </defs>\r\n       <use xlink:href=\"#DejaVuSans-30\"/>\r\n      </g>\r\n     </g>\r\n    </g>\r\n    <g id=\"text_20\">\r\n     <!-- Score -->\r\n     <g transform=\"translate(14.798438 145.040469)rotate(-90)scale(0.1 -0.1)\">\r\n      <defs>\r\n       <path d=\"M 3425 4513 \r\nL 3425 3897 \r\nQ 3066 4069 2747 4153 \r\nQ 2428 4238 2131 4238 \r\nQ 1616 4238 1336 4038 \r\nQ 1056 3838 1056 3469 \r\nQ 1056 3159 1242 3001 \r\nQ 1428 2844 1947 2747 \r\nL 2328 2669 \r\nQ 3034 2534 3370 2195 \r\nQ 3706 1856 3706 1288 \r\nQ 3706 609 3251 259 \r\nQ 2797 -91 1919 -91 \r\nQ 1588 -91 1214 -16 \r\nQ 841 59 441 206 \r\nL 441 856 \r\nQ 825 641 1194 531 \r\nQ 1563 422 1919 422 \r\nQ 2459 422 2753 634 \r\nQ 3047 847 3047 1241 \r\nQ 3047 1584 2836 1778 \r\nQ 2625 1972 2144 2069 \r\nL 1759 2144 \r\nQ 1053 2284 737 2584 \r\nQ 422 2884 422 3419 \r\nQ 422 4038 858 4394 \r\nQ 1294 4750 2059 4750 \r\nQ 2388 4750 2728 4690 \r\nQ 3069 4631 3425 4513 \r\nz\r\n\" id=\"DejaVuSans-53\" transform=\"scale(0.015625)\"/>\r\n       <path d=\"M 3122 3366 \r\nL 3122 2828 \r\nQ 2878 2963 2633 3030 \r\nQ 2388 3097 2138 3097 \r\nQ 1578 3097 1268 2742 \r\nQ 959 2388 959 1747 \r\nQ 959 1106 1268 751 \r\nQ 1578 397 2138 397 \r\nQ 2388 397 2633 464 \r\nQ 2878 531 3122 666 \r\nL 3122 134 \r\nQ 2881 22 2623 -34 \r\nQ 2366 -91 2075 -91 \r\nQ 1284 -91 818 406 \r\nQ 353 903 353 1747 \r\nQ 353 2603 823 3093 \r\nQ 1294 3584 2113 3584 \r\nQ 2378 3584 2631 3529 \r\nQ 2884 3475 3122 3366 \r\nz\r\n\" id=\"DejaVuSans-63\" transform=\"scale(0.015625)\"/>\r\n      </defs>\r\n      <use xlink:href=\"#DejaVuSans-53\"/>\r\n      <use x=\"63.476562\" xlink:href=\"#DejaVuSans-63\"/>\r\n      <use x=\"118.457031\" xlink:href=\"#DejaVuSans-6f\"/>\r\n      <use x=\"179.638672\" xlink:href=\"#DejaVuSans-72\"/>\r\n      <use x=\"218.501953\" xlink:href=\"#DejaVuSans-65\"/>\r\n     </g>\r\n    </g>\r\n    <g id=\"text_21\">\r\n     <!-- 1e11 -->\r\n     <g transform=\"translate(42.620313 19.318125)scale(0.1 -0.1)\">\r\n      <use xlink:href=\"#DejaVuSans-31\"/>\r\n      <use x=\"63.623047\" xlink:href=\"#DejaVuSans-65\"/>\r\n      <use x=\"125.146484\" xlink:href=\"#DejaVuSans-31\"/>\r\n      <use x=\"188.769531\" xlink:href=\"#DejaVuSans-31\"/>\r\n     </g>\r\n    </g>\r\n   </g>\r\n   <g id=\"line2d_19\">\r\n    <path clip-path=\"url(#p5d4f9f0865)\" d=\"M 57.838494 229.874489 \r\nL 95.883949 80.073488 \r\nL 133.929403 52.086787 \r\nL 171.974858 42.299243 \r\nL 210.020313 37.735066 \r\nL 248.065767 35.273181 \r\nL 286.111222 33.818741 \r\nL 324.156676 32.856589 \r\nL 362.202131 32.201761 \r\n\" style=\"fill:none;stroke:#1f77b4;stroke-linecap:square;stroke-width:1.5;\"/>\r\n   </g>\r\n   <g id=\"patch_3\">\r\n    <path d=\"M 42.620313 239.758125 \r\nL 42.620313 22.318125 \r\n\" style=\"fill:none;stroke:#000000;stroke-linecap:square;stroke-linejoin:miter;stroke-width:0.8;\"/>\r\n   </g>\r\n   <g id=\"patch_4\">\r\n    <path d=\"M 377.420313 239.758125 \r\nL 377.420313 22.318125 \r\n\" style=\"fill:none;stroke:#000000;stroke-linecap:square;stroke-linejoin:miter;stroke-width:0.8;\"/>\r\n   </g>\r\n   <g id=\"patch_5\">\r\n    <path d=\"M 42.620313 239.758125 \r\nL 377.420313 239.758125 \r\n\" style=\"fill:none;stroke:#000000;stroke-linecap:square;stroke-linejoin:miter;stroke-width:0.8;\"/>\r\n   </g>\r\n   <g id=\"patch_6\">\r\n    <path d=\"M 42.620313 22.318125 \r\nL 377.420313 22.318125 \r\n\" style=\"fill:none;stroke:#000000;stroke-linecap:square;stroke-linejoin:miter;stroke-width:0.8;\"/>\r\n   </g>\r\n   <g id=\"text_22\">\r\n    <!-- Elbow Curve -->\r\n    <g transform=\"translate(172.56625 16.318125)scale(0.12 -0.12)\">\r\n     <defs>\r\n      <path d=\"M 628 4666 \r\nL 3578 4666 \r\nL 3578 4134 \r\nL 1259 4134 \r\nL 1259 2753 \r\nL 3481 2753 \r\nL 3481 2222 \r\nL 1259 2222 \r\nL 1259 531 \r\nL 3634 531 \r\nL 3634 0 \r\nL 628 0 \r\nL 628 4666 \r\nz\r\n\" id=\"DejaVuSans-45\" transform=\"scale(0.015625)\"/>\r\n      <path d=\"M 269 3500 \r\nL 844 3500 \r\nL 1563 769 \r\nL 2278 3500 \r\nL 2956 3500 \r\nL 3675 769 \r\nL 4391 3500 \r\nL 4966 3500 \r\nL 4050 0 \r\nL 3372 0 \r\nL 2619 2869 \r\nL 1863 0 \r\nL 1184 0 \r\nL 269 3500 \r\nz\r\n\" id=\"DejaVuSans-77\" transform=\"scale(0.015625)\"/>\r\n      <path d=\"M 191 3500 \r\nL 800 3500 \r\nL 1894 563 \r\nL 2988 3500 \r\nL 3597 3500 \r\nL 2284 0 \r\nL 1503 0 \r\nL 191 3500 \r\nz\r\n\" id=\"DejaVuSans-76\" transform=\"scale(0.015625)\"/>\r\n     </defs>\r\n     <use xlink:href=\"#DejaVuSans-45\"/>\r\n     <use x=\"63.183594\" xlink:href=\"#DejaVuSans-6c\"/>\r\n     <use x=\"90.966797\" xlink:href=\"#DejaVuSans-62\"/>\r\n     <use x=\"154.443359\" xlink:href=\"#DejaVuSans-6f\"/>\r\n     <use x=\"215.625\" xlink:href=\"#DejaVuSans-77\"/>\r\n     <use x=\"297.412109\" xlink:href=\"#DejaVuSans-20\"/>\r\n     <use x=\"329.199219\" xlink:href=\"#DejaVuSans-43\"/>\r\n     <use x=\"399.023438\" xlink:href=\"#DejaVuSans-75\"/>\r\n     <use x=\"462.402344\" xlink:href=\"#DejaVuSans-72\"/>\r\n     <use x=\"503.515625\" xlink:href=\"#DejaVuSans-76\"/>\r\n     <use x=\"562.695312\" xlink:href=\"#DejaVuSans-65\"/>\r\n    </g>\r\n   </g>\r\n  </g>\r\n </g>\r\n <defs>\r\n  <clipPath id=\"p5d4f9f0865\">\r\n   <rect height=\"217.44\" width=\"334.8\" x=\"42.620313\" y=\"22.318125\"/>\r\n  </clipPath>\r\n </defs>\r\n</svg>\r\n",
      "text/plain": [
       "<Figure size 432x288 with 1 Axes>"
      ]
     },
     "metadata": {
      "needs_background": "light"
     },
     "output_type": "display_data"
    }
   ],
   "source": [
    "# Identificamos el número de clústers más adecuado viendo en una gráfica cual puede ser el elbow (codo). El número de clústers a partir del cual ya no aumenta de forma importante el score\n",
    "import matplotlib.pyplot as plt\n",
    "\n",
    "Nc = range(1, 10)\n",
    "kmeans = [KMeans(n_clusters=i) for i in Nc]\n",
    "kmeans\n",
    "score = [kmeans[i].fit(X_train).score(X_train) for i in range(len(kmeans))]\n",
    "score\n",
    "plt.plot(Nc,score)\n",
    "plt.xlabel('Number of Clusters')\n",
    "plt.ylabel('Score')\n",
    "plt.title('Elbow Curve')\n",
    "plt.show()\n",
    "\n",
    "# UTILIZAREMOS 4 CLÚSTERS"
   ]
  },
  {
   "cell_type": "markdown",
   "metadata": {},
   "source": [
    "### 4 Clústers"
   ]
  },
  {
   "cell_type": "code",
   "execution_count": 16,
   "metadata": {},
   "outputs": [
    {
     "name": "stdout",
     "output_type": "stream",
     "text": [
      "kmeans.labels_: [3 1 3 ... 2 2 3]\n",
      "\n",
      "predict: [3 1 3 ... 2 2 3]\n",
      "\n",
      "KMeans cluster centers 3:\n",
      " [[8.66088494e+03 9.84058282e+00 1.53010499e+00 5.40276409e+01\n",
      "  2.35868867e+00 1.06278123e+00 1.94943218e+00 2.05035355e+00\n",
      "  5.74823227e+00 1.74651811e+00 1.02485537e+00 1.03085494e+00\n",
      "  1.81208485e+00 1.83222627e+00 7.27030212e+01 1.98778659e+00\n",
      "  1.68223698e+00 2.92264838e+00 3.64173988e+00 3.50117849e+00\n",
      "  2.87615170e+00 1.34476109e+00 2.06213842e+00 3.76173130e+00\n",
      "  3.61667024e+00 1.38311549e+00 3.27683737e+00 4.93164774e+00\n",
      "  4.49925005e+00 3.88515106e+00 3.09620741e+00 5.54188987e+00\n",
      "  3.93550461e+00 3.97728734e+00 2.68823655e+00]\n",
      " [2.02121673e+04 8.14820490e+00 1.54487741e+00 5.33450088e+01\n",
      "  2.47898424e+00 1.05100701e+00 1.93388792e+00 2.08493870e+00\n",
      "  5.80297723e+00 1.77451839e+00 1.02889667e+00 1.03305604e+00\n",
      "  1.78787215e+00 1.85573555e+00 7.28211471e+01 1.92819615e+00\n",
      "  1.83690893e+00 2.96278459e+00 3.69570928e+00 3.58537653e+00\n",
      "  3.07815236e+00 1.34763573e+00 2.05297723e+00 3.88200525e+00\n",
      "  3.48817863e+00 1.37018389e+00 3.23183012e+00 4.92797723e+00\n",
      "  4.41922067e+00 3.88156743e+00 3.04422067e+00 5.63507005e+00\n",
      "  3.99759194e+00 3.95556042e+00 2.67578809e+00]\n",
      " [2.85411947e+03 7.99411380e+00 1.54196643e+00 5.30636582e+01\n",
      "  2.35687813e+00 1.07979071e+00 1.95094833e+00 2.07259647e+00\n",
      "  5.75256159e+00 1.79180292e+00 1.03466318e+00 1.04272945e+00\n",
      "  1.83736647e+00 1.86614345e+00 7.19047308e+01 1.85633312e+00\n",
      "  1.70067582e+00 3.02180074e+00 3.80030521e+00 3.62698932e+00\n",
      "  2.58360584e+00 1.31349466e+00 1.90538478e+00 3.82951820e+00\n",
      "  3.47024199e+00 1.53193809e+00 3.24787443e+00 4.96511881e+00\n",
      "  4.62851537e+00 3.84499673e+00 3.05580990e+00 5.69086549e+00\n",
      "  4.08742097e+00 4.03618923e+00 2.64770002e+00]\n",
      " [1.44472000e+04 9.32286513e+00 1.55022586e+00 5.30699075e+01\n",
      "  2.45794795e+00 1.05700151e+00 1.92127339e+00 2.09765541e+00\n",
      "  5.76166918e+00 1.76597118e+00 1.02473650e+00 1.01978920e+00\n",
      "  1.81006668e+00 1.83609378e+00 7.23316842e+01 2.03140460e+00\n",
      "  1.78576038e+00 3.03248010e+00 3.61755216e+00 3.73607227e+00\n",
      "  2.96881050e+00 1.37276834e+00 2.15465692e+00 3.80748548e+00\n",
      "  3.61411056e+00 1.41492794e+00 3.46138955e+00 5.08905141e+00\n",
      "  4.41686384e+00 4.16154012e+00 3.04538610e+00 5.70187137e+00\n",
      "  3.96149710e+00 4.00817380e+00 2.67799527e+00]]\n"
     ]
    }
   ],
   "source": [
    "# establecemos el modelo de cluster con Kmeans\n",
    "\n",
    "kmeans_train = KMeans(n_clusters=4, random_state=42).fit(X_train)\n",
    "print(\"kmeans.labels_:\", kmeans_train.labels_)\n",
    "predict_train = kmeans_train.predict(X_train)\n",
    "print(\"\\npredict:\", predict_train)\n",
    "clusters_train = kmeans_train.cluster_centers_\n",
    "print(f'\\nKMeans cluster centers 3:\\n {clusters_train}')"
   ]
  },
  {
   "cell_type": "code",
   "execution_count": null,
   "metadata": {},
   "outputs": [],
   "source": []
  },
  {
   "cell_type": "code",
   "execution_count": 18,
   "metadata": {},
   "outputs": [
    {
     "name": "stdout",
     "output_type": "stream",
     "text": [
      "K_train_Score: 0.25\n"
     ]
    }
   ],
   "source": [
    "k_train_score = metrics.accuracy_score(y_train, predict_train)\n",
    "print(f'K_train_Score: {k_train_score.round(2)}')\n"
   ]
  },
  {
   "cell_type": "markdown",
   "metadata": {},
   "source": [
    "### Vemos si mejora el score en el conjunto de test\n"
   ]
  },
  {
   "cell_type": "code",
   "execution_count": 19,
   "metadata": {},
   "outputs": [
    {
     "name": "stdout",
     "output_type": "stream",
     "text": [
      "kmeans.labels_: [2 3 1 ... 1 0 1]\n",
      "\n",
      "predict: [2 3 1 ... 1 0 1]\n",
      "\n",
      "KMeans cluster centers 3:\n",
      " [[8.42766174e+03 9.44085028e+00 1.52680222e+00 5.44066543e+01\n",
      "  2.40850277e+00 1.04990758e+00 1.96395564e+00 2.04158965e+00\n",
      "  5.66820702e+00 1.74121996e+00 1.03049908e+00 1.03881701e+00\n",
      "  1.81330869e+00 1.84565619e+00 7.24269871e+01 2.00462107e+00\n",
      "  1.66081331e+00 2.92883549e+00 3.61090573e+00 3.48059150e+00\n",
      "  2.88262477e+00 1.35489834e+00 2.06469501e+00 3.71164510e+00\n",
      "  3.56561922e+00 1.39556377e+00 3.31885397e+00 4.94085028e+00\n",
      "  4.47689464e+00 3.85027726e+00 3.10998152e+00 5.65249538e+00\n",
      "  3.90295749e+00 4.08687616e+00 2.68484288e+00]\n",
      " [2.00680426e+04 7.99357430e+00 1.52851406e+00 5.40441767e+01\n",
      "  2.46666667e+00 1.05863454e+00 1.88192771e+00 2.05783133e+00\n",
      "  5.73654618e+00 1.75823293e+00 1.03052209e+00 1.02329317e+00\n",
      "  1.77991968e+00 1.85943775e+00 7.42546185e+01 1.93654618e+00\n",
      "  1.81285141e+00 2.98795181e+00 3.66104418e+00 3.58072289e+00\n",
      "  3.06024096e+00 1.38232932e+00 2.05863454e+00 3.87068273e+00\n",
      "  3.52449799e+00 1.37108434e+00 3.35421687e+00 4.97751004e+00\n",
      "  4.40963855e+00 3.91405622e+00 3.06345382e+00 5.53012048e+00\n",
      "  4.01124498e+00 4.04337349e+00 2.76867470e+00]\n",
      " [2.93581905e+03 7.84242424e+00 1.53506494e+00 5.37272727e+01\n",
      "  2.38787879e+00 1.08138528e+00 1.90476190e+00 2.06233766e+00\n",
      "  5.67186147e+00 1.78787879e+00 1.03722944e+00 1.03549784e+00\n",
      "  1.83203463e+00 1.85194805e+00 7.24675325e+01 1.83376623e+00\n",
      "  1.72813853e+00 2.98961039e+00 3.80865801e+00 3.60086580e+00\n",
      "  2.55584416e+00 1.24761905e+00 1.84242424e+00 3.76190476e+00\n",
      "  3.40519481e+00 1.46406926e+00 3.31168831e+00 5.02077922e+00\n",
      "  4.69783550e+00 3.80865801e+00 3.04415584e+00 5.78874459e+00\n",
      "  4.08051948e+00 4.00519481e+00 2.66060606e+00]\n",
      " [1.41185678e+04 9.66989437e+00 1.56426056e+00 5.24894366e+01\n",
      "  2.48415493e+00 1.06073944e+00 1.89964789e+00 2.09066901e+00\n",
      "  5.89876761e+00 1.78433099e+00 1.02200704e+00 1.02200704e+00\n",
      "  1.81778169e+00 1.84330986e+00 7.27684859e+01 2.05017606e+00\n",
      "  1.71830986e+00 2.98415493e+00 3.57658451e+00 3.73415493e+00\n",
      "  2.93397887e+00 1.39260563e+00 2.17517606e+00 3.81690141e+00\n",
      "  3.59683099e+00 1.40492958e+00 3.34771127e+00 4.97711268e+00\n",
      "  4.41813380e+00 4.14788732e+00 3.05369718e+00 5.65580986e+00\n",
      "  3.94278169e+00 3.95774648e+00 2.69982394e+00]]\n"
     ]
    }
   ],
   "source": [
    "kmeans_test = KMeans(n_clusters=4, random_state=42).fit(X_test)\n",
    "print(\"kmeans.labels_:\", kmeans_test.labels_)\n",
    "predict_test = kmeans_test.predict(X_test)\n",
    "print(\"\\npredict:\", predict_test)\n",
    "clusters_test = kmeans_test.cluster_centers_\n",
    "print(f'\\nKMeans cluster centers 3:\\n {clusters_test}')"
   ]
  },
  {
   "cell_type": "code",
   "execution_count": 20,
   "metadata": {},
   "outputs": [
    {
     "name": "stdout",
     "output_type": "stream",
     "text": [
      "K_train_Score: 0.26\n"
     ]
    }
   ],
   "source": [
    "k_test_score = metrics.accuracy_score(y_test, predict_test)\n",
    "print(f'K_train_Score: {k_test_score.round(2)}')"
   ]
  },
  {
   "cell_type": "markdown",
   "metadata": {},
   "source": [
    "### Hallamos Clúster con el método DBSCAN\n"
   ]
  },
  {
   "cell_type": "code",
   "execution_count": 21,
   "metadata": {},
   "outputs": [],
   "source": [
    "# Importamos DBSCAN\n",
    "from sklearn.cluster import DBSCAN\n",
    "\n",
    "# Para DBSCAN \n",
    "# Normalizamos los datos\n",
    "# X_train = StandardScaler().fit_transform(X_train)\n",
    "\n",
    "# Definimos DBSCAN 2\n",
    "DB_train = DBSCAN(eps=0.2, min_samples=5).fit(X_train)\n",
    "core_samples_mask = np.zeros_like(DB_train.labels_, dtype=bool)\n",
    "core_samples_mask[DB_train.core_sample_indices_] = True\n",
    "y_DB_train = DB_train.labels_\n",
    "\n"
   ]
  },
  {
   "cell_type": "code",
   "execution_count": 22,
   "metadata": {},
   "outputs": [
    {
     "name": "stdout",
     "output_type": "stream",
     "text": [
      "DB_train_Score: 0.0\n"
     ]
    }
   ],
   "source": [
    "DB_train_Score = metrics.accuracy_score(y_train, y_DB_train)\n",
    "\n",
    "print('DB_train_Score:', DB_train_Score.round(2))"
   ]
  },
  {
   "cell_type": "markdown",
   "metadata": {},
   "source": [
    "### Normalizamos los datos de las X"
   ]
  },
  {
   "cell_type": "code",
   "execution_count": 27,
   "metadata": {},
   "outputs": [],
   "source": [
    "# Normalizamos los datos\n",
    "X_train_N = StandardScaler().fit_transform(X_train)"
   ]
  },
  {
   "cell_type": "code",
   "execution_count": 28,
   "metadata": {},
   "outputs": [
    {
     "name": "stdout",
     "output_type": "stream",
     "text": [
      "kmeans.labels_: [1 1 3 ... 1 1 2]\n",
      "\n",
      "predict: [1 1 3 ... 1 1 2]\n",
      "\n",
      "KMeans cluster centers 3:\n",
      " [[-1.26472484e-01 -8.83539103e-02 -1.55104416e-01 -1.06193915e+00\n",
      "   1.69471227e-01  3.88215447e-01  4.94685568e-01 -5.49596893e-01\n",
      "  -3.13124382e-02  4.32053716e-01  3.36031029e+00  3.54664052e+00\n",
      "   3.80417089e-01  3.27100283e-01 -2.61954094e-01  2.12819035e-01\n",
      "   4.80172575e-01 -1.83839445e-01 -1.49382466e-01  2.36934489e-01\n",
      "  -1.78087380e-01  3.66179048e-03  4.09204108e-01  4.45936062e-02\n",
      "  -2.29122780e-01  1.08948704e-01 -2.27076220e-01 -6.18022485e-01\n",
      "  -8.02684801e-02  1.97888474e-02  3.39664349e-02  1.94729058e-01\n",
      "  -6.82692282e-04  1.32736355e-01 -3.89149954e-01]\n",
      " [-1.05419010e-02 -6.43762920e-02 -6.90549417e-01 -3.70753311e-01\n",
      "  -4.29759576e-01  9.66302886e-02 -1.26791992e-01 -1.85264051e-01\n",
      "   2.27144536e-04  3.65283279e-01 -1.70535627e-01 -1.80531664e-01\n",
      "   1.25000169e-01  1.48352118e-01  6.82094082e-01 -1.15827682e-01\n",
      "   4.73562905e-01 -3.09815576e-01 -1.00891474e-01  2.34301468e-01\n",
      "  -1.53972185e-01 -7.88388694e-02  3.51672650e-01 -4.71178831e-02\n",
      "  -4.31824869e-01 -2.33630955e-03 -1.10983275e-01 -4.89874229e-01\n",
      "   1.76790957e-01 -2.99076132e-01 -4.73016967e-01 -3.66384906e-01\n",
      "  -1.08104380e-01  2.09480282e-01  4.26537398e-01]\n",
      " [-4.13762836e-03 -1.47856729e-02  2.65202270e-01  9.76835870e-01\n",
      "   7.43209411e-01 -1.68194050e-01  6.99621934e-02  3.90380916e-01\n",
      "  -7.64335019e-01 -7.58694659e-01 -1.67534427e-01 -1.75790511e-01\n",
      "  -2.32535747e-01 -2.74672029e-01 -4.29945758e-02 -3.38499492e-01\n",
      "  -3.03127819e-01  2.83140129e-01  1.20809829e-01 -1.66716353e-01\n",
      "   8.39360181e-02 -8.21898852e-02 -9.88939321e-02 -1.93962257e-02\n",
      "   3.59627075e-01 -9.34499072e-02  1.33893080e-01  6.01052799e-01\n",
      "   2.03524013e-01 -2.90742036e-01  3.81037680e-01  3.06605212e-01\n",
      "   1.81196254e-02  3.22614693e-01  2.37553415e-01]\n",
      " [ 3.14904542e-02  8.35509844e-02  3.67097399e-01 -4.79096118e-01\n",
      "  -3.75989693e-01  2.42157292e-02 -2.87557839e-02 -1.40964526e-01\n",
      "   7.52762695e-01  3.60975178e-01 -1.70535627e-01 -1.80531664e-01\n",
      "   6.35105126e-02  9.20079724e-02 -5.17232910e-01  4.02208005e-01\n",
      "  -1.86833969e-01  2.04042077e-02 -8.47659366e-03 -7.59547670e-02\n",
      "   7.82271861e-02  1.48964377e-01 -2.69911489e-01  5.38154433e-02\n",
      "   5.88248509e-02  7.78652145e-02 -1.26698599e-03 -7.07731651e-02\n",
      "  -3.42486290e-01  5.43639895e-01  3.60324631e-02 -7.56816591e-03\n",
      "   7.69816208e-02 -5.18387444e-01 -5.49940883e-01]]\n"
     ]
    }
   ],
   "source": [
    "kmeans_train_N = KMeans(n_clusters=4, random_state=42).fit(X_train_N)\n",
    "print(\"kmeans.labels_:\", kmeans_train_N.labels_)\n",
    "predict_train = kmeans_train_N.predict(X_train_N)\n",
    "print(\"\\npredict:\", predict_train)\n",
    "clusters_train = kmeans_train_N.cluster_centers_\n",
    "print(f'\\nKMeans cluster centers 3:\\n {clusters_train}')"
   ]
  },
  {
   "cell_type": "code",
   "execution_count": 29,
   "metadata": {},
   "outputs": [
    {
     "name": "stdout",
     "output_type": "stream",
     "text": [
      "K_train_Score: 0.35\n"
     ]
    }
   ],
   "source": [
    "k_train_N_score = metrics.accuracy_score(y_train, predict_train)\n",
    "print(f'K_train_N_Score: {k_train_N_score.round(2)}')"
   ]
  },
  {
   "cell_type": "markdown",
   "metadata": {},
   "source": [
    "### Vemos si mejora el modelo en el conjunto de test con valores X normalizados"
   ]
  },
  {
   "cell_type": "code",
   "execution_count": 30,
   "metadata": {},
   "outputs": [],
   "source": [
    "# Normalizamos los datos\n",
    "X_test_N = StandardScaler().fit_transform(X_test)"
   ]
  },
  {
   "cell_type": "code",
   "execution_count": 31,
   "metadata": {},
   "outputs": [
    {
     "name": "stdout",
     "output_type": "stream",
     "text": [
      "kmeans.labels_: [3 3 3 ... 3 1 3]\n",
      "\n",
      "predict: [3 3 3 ... 3 1 3]\n",
      "\n",
      "KMeans cluster centers 3:\n",
      " [[-1.13698314e-01 -2.67363335e-01 -2.28849805e-01 -9.43354216e-01\n",
      "   4.14503110e-02  5.12173176e-01  4.63607783e-01 -5.50445550e-01\n",
      "  -7.55697763e-02  4.30175888e-01  5.67653253e+00  2.15728413e+00\n",
      "   3.00759504e-01  3.38804138e-01 -2.06746321e-01  1.04881303e-01\n",
      "   5.87324258e-01 -1.21432814e-01 -1.47190786e-01  4.63443180e-01\n",
      "  -3.38427375e-01 -8.61078883e-02  3.63424205e-01 -2.17010110e-02\n",
      "  -1.88984228e-01  7.40058552e-02 -2.24443741e-01 -4.84083379e-01\n",
      "  -3.15383887e-02  4.97453362e-02 -6.32660920e-02  2.21503197e-01\n",
      "  -1.65722757e-01  7.96491318e-02 -3.70514429e-01]\n",
      " [-7.14975216e-04  1.55986471e-03  2.41869107e-01  9.47155337e-01\n",
      "   7.19362522e-01 -1.70710224e-01  4.55356005e-02  3.24244037e-01\n",
      "  -7.58922950e-01 -7.36508353e-01 -1.76163881e-01 -1.56318466e-01\n",
      "  -2.26162003e-01 -2.20543198e-01  5.44698960e-03 -3.57392342e-01\n",
      "  -3.19373575e-01  2.80594739e-01  1.35688813e-01 -1.88327342e-01\n",
      "   6.10362918e-02 -1.21981364e-01 -9.39201313e-02 -3.99457719e-02\n",
      "   3.26237875e-01 -6.41426468e-02  1.38698242e-01  5.60028612e-01\n",
      "   2.11863143e-01 -3.05513762e-01  3.52413458e-01  3.06874607e-01\n",
      "   1.70337918e-02  3.21654004e-01  3.01966358e-01]\n",
      " [-3.46225127e-02 -1.08463371e-01 -6.31657530e-01 -5.29957959e-01\n",
      "  -4.57447952e-01  8.98193366e-02  2.32299632e-02 -1.90793874e-01\n",
      "   7.39761484e-02  4.25508187e-01 -1.76163881e-01  2.59925729e-03\n",
      "   1.64345369e-01  1.98421087e-01  5.24665744e-01 -8.25358961e-02\n",
      "   5.70369849e-01 -3.38071630e-01 -6.51589463e-02  3.10830018e-01\n",
      "  -1.47954104e-01 -1.57721608e-02  4.28396265e-01  7.56876177e-03\n",
      "  -5.08387293e-01  1.98788284e-02 -1.65520033e-01 -5.70838383e-01\n",
      "   2.03638394e-01 -2.50891907e-01 -4.66588308e-01 -3.61153366e-01\n",
      "  -8.66448307e-02  2.26144181e-01  2.25577419e-01]\n",
      " [ 4.36675243e-02  1.24491111e-01  3.53681725e-01 -4.25407897e-01\n",
      "  -3.42307972e-01  5.01601142e-02 -1.13285733e-01 -1.15715284e-01\n",
      "   7.45645892e-01  3.46499272e-01 -1.76163881e-01 -3.67751647e-02\n",
      "   5.92571781e-02  1.79200086e-02 -4.76460300e-01  4.47665928e-01\n",
      "  -2.47322641e-01  2.83423356e-02 -6.98721310e-02 -1.32922358e-01\n",
      "   1.04678498e-01  1.52557918e-01 -3.33865961e-01  3.74643876e-02\n",
      "   1.45080896e-01  4.28172885e-02  2.78232405e-02 -1.79640962e-02\n",
      "  -4.12686828e-01  5.54783460e-01  6.64975080e-02 -9.98033779e-03\n",
      "   7.81936232e-02 -5.60891719e-01 -4.97527110e-01]]\n"
     ]
    }
   ],
   "source": [
    "kmeans_test_N = KMeans(n_clusters=4, random_state=42).fit(X_test_N)\n",
    "print(\"kmeans.labels_:\", kmeans_test_N.labels_)\n",
    "predict_test = kmeans_test_N.predict(X_test_N)\n",
    "print(\"\\npredict:\", predict_test)\n",
    "clusters_test = kmeans_test_N.cluster_centers_\n",
    "print(f'\\nKMeans cluster centers 3:\\n {clusters_test}')"
   ]
  },
  {
   "cell_type": "code",
   "execution_count": 32,
   "metadata": {},
   "outputs": [
    {
     "name": "stdout",
     "output_type": "stream",
     "text": [
      "K_test_Score: 0.21\n"
     ]
    }
   ],
   "source": [
    "k_test_N_score = metrics.accuracy_score(y_test, predict_test)\n",
    "print(f'K_test_N_Score: {k_test_N_score.round(2)}')"
   ]
  },
  {
   "cell_type": "code",
   "execution_count": 33,
   "metadata": {},
   "outputs": [],
   "source": [
    "# Importamos DBSCAN\n",
    "from sklearn.cluster import DBSCAN\n",
    "\n",
    "# Para DBSCAN \n",
    "# Normalizamos los datos\n",
    "X_train_N = StandardScaler().fit_transform(X_train)\n",
    "\n",
    "# Definimos DBSCAN 2\n",
    "DB_train_N = DBSCAN(eps=0.2, min_samples=5).fit(X_train_N)\n",
    "core_samples_mask = np.zeros_like(DB_train_N.labels_, dtype=bool)\n",
    "core_samples_mask[DB_train_N.core_sample_indices_] = True\n",
    "y_DB_train_N = DB_train_N.labels_\n"
   ]
  },
  {
   "cell_type": "code",
   "execution_count": 34,
   "metadata": {},
   "outputs": [
    {
     "name": "stdout",
     "output_type": "stream",
     "text": [
      "DB_train_N_Score: 0.0\n"
     ]
    }
   ],
   "source": [
    "DB_train_Score = metrics.accuracy_score(y_train, y_DB_train_N)\n",
    "\n",
    "print('DB_train_N_Score:', DB_train_Score.round(2))"
   ]
  },
  {
   "cell_type": "markdown",
   "metadata": {},
   "source": [
    "### 3 Clústers. Igual que los valores de la VD"
   ]
  },
  {
   "cell_type": "code",
   "execution_count": 36,
   "metadata": {},
   "outputs": [
    {
     "data": {
      "text/plain": [
       "(23089, 35)"
      ]
     },
     "execution_count": 36,
     "metadata": {},
     "output_type": "execute_result"
    }
   ],
   "source": [
    "ENS_2017_valida_2 = pd.read_csv(\"../data/Bases_trabajo/ENS_2017_valida_2.csv\", sep =',')\n",
    "\n",
    "# Pasamos a array la variable que queremos predecir ('actual')\n",
    "y = np.array(ENS_2017_valida_2['Salud_percibida'])\n",
    "# Eliminamos del dataframe la variable que queremos predecir y mantenemos el resto como columnas (serán las variables predictoras:X)\n",
    "# axis 1 se refiere a las columnas\n",
    "X= np.array(ENS_2017_valida_2.drop('Salud_percibida', axis = 1))\n",
    "X.shape"
   ]
  },
  {
   "cell_type": "code",
   "execution_count": 37,
   "metadata": {},
   "outputs": [],
   "source": [
    "# Dividimos en muestra de entrenamiento y de test\n",
    "X_train, X_test, y_train, y_test = train_test_split(X,\n",
    "                                                    y,\n",
    "                                                    test_size=0.2,\n",
    "                                                    random_state=42)"
   ]
  },
  {
   "cell_type": "code",
   "execution_count": 38,
   "metadata": {},
   "outputs": [
    {
     "name": "stdout",
     "output_type": "stream",
     "text": [
      "kmeans.labels_: [2 0 2 ... 1 1 0]\n",
      "\n",
      "predict: [2 0 2 ... 1 1 0]\n",
      "\n",
      "KMeans cluster centers 3:\n",
      " [[1.92048098e+04 7.72967282e+00 1.54324587e+00 5.34036281e+01\n",
      "  2.47100745e+00 1.04842890e+00 1.94088111e+00 2.09199870e+00\n",
      "  5.76336249e+00 1.77632005e+00 1.02607710e+00 1.02802073e+00\n",
      "  1.78701004e+00 1.85017817e+00 7.28312277e+01 1.94671202e+00\n",
      "  1.81778426e+00 3.06073858e+00 3.71914480e+00 3.61499838e+00\n",
      "  3.01490120e+00 1.36977648e+00 2.14123745e+00 3.88111435e+00\n",
      "  3.51522514e+00 1.36993845e+00 3.37755102e+00 4.98380305e+00\n",
      "  4.41690962e+00 3.97635245e+00 3.06073858e+00 5.71023648e+00\n",
      "  4.02121801e+00 3.99595076e+00 2.67622287e+00]\n",
      " [3.81867674e+03 7.95162608e+00 1.54044779e+00 5.33876450e+01\n",
      "  2.37767609e+00 1.07109005e+00 1.94672332e+00 2.06291878e+00\n",
      "  5.66857330e+00 1.78100997e+00 1.03268508e+00 1.04003922e+00\n",
      "  1.83281582e+00 1.85847361e+00 7.22493872e+01 1.87890178e+00\n",
      "  1.69717274e+00 3.02925315e+00 3.77120445e+00 3.59764667e+00\n",
      "  2.59405132e+00 1.31867952e+00 1.99950972e+00 3.81336820e+00\n",
      "  3.50106227e+00 1.50563818e+00 3.35888217e+00 4.95554829e+00\n",
      "  4.63703219e+00 3.82480798e+00 3.06978264e+00 5.71923517e+00\n",
      "  4.02729204e+00 4.06030397e+00 2.66661219e+00]\n",
      " [1.15036306e+04 1.08091615e+01 1.54159922e+00 5.33439624e+01\n",
      "  2.38993202e+00 1.06846876e+00 1.92910327e+00 2.07397216e+00\n",
      "  5.86581418e+00 1.75153771e+00 1.02606021e+00 1.02670767e+00\n",
      "  1.81595986e+00 1.83376497e+00 7.22393979e+01 2.02784073e+00\n",
      "  1.73794108e+00 2.86500486e+00 3.57559081e+00 3.62431208e+00\n",
      "  3.01877630e+00 1.34558109e+00 1.99158304e+00 3.76497248e+00\n",
      "  3.62690191e+00 1.39980576e+00 3.17902234e+00 4.99643898e+00\n",
      "  4.41987698e+00 4.02929751e+00 3.05114924e+00 5.49789576e+00\n",
      "  3.93719650e+00 3.92732276e+00 2.67465199e+00]]\n"
     ]
    }
   ],
   "source": [
    "# establecemos el modelo de cluster con Kmeans\n",
    "\n",
    "kmeans_train = KMeans(n_clusters=3, random_state=42).fit(X_train)\n",
    "print(\"kmeans.labels_:\", kmeans_train.labels_)\n",
    "predict_train = kmeans_train.predict(X_train)\n",
    "print(\"\\npredict:\", predict_train)\n",
    "clusters_train = kmeans_train.cluster_centers_\n",
    "print(f'\\nKMeans cluster centers 3:\\n {clusters_train}')"
   ]
  },
  {
   "cell_type": "code",
   "execution_count": 39,
   "metadata": {},
   "outputs": [
    {
     "name": "stdout",
     "output_type": "stream",
     "text": [
      "K_train_Score: 0.3\n"
     ]
    }
   ],
   "source": [
    "k_train_score = metrics.accuracy_score(y_train, predict_train)\n",
    "print(f'K_train_Score: {k_train_score.round(2)}')"
   ]
  },
  {
   "cell_type": "code",
   "execution_count": 40,
   "metadata": {},
   "outputs": [
    {
     "name": "stdout",
     "output_type": "stream",
     "text": [
      "kmeans.labels_: [1 2 0 ... 0 1 0]\n",
      "\n",
      "predict: [1 2 0 ... 0 1 0]\n",
      "\n",
      "KMeans cluster centers 3:\n",
      " [[1.93726094e+04 7.85583224e+00 1.52883355e+00 5.36513761e+01\n",
      "  2.45543906e+00 1.05111402e+00 1.90563565e+00 2.05570118e+00\n",
      "  5.72018349e+00 1.76867628e+00 1.02948886e+00 1.02228047e+00\n",
      "  1.78374836e+00 1.85648755e+00 7.39547837e+01 1.95150721e+00\n",
      "  1.80996068e+00 3.04390564e+00 3.67300131e+00 3.59633028e+00\n",
      "  2.99475754e+00 1.41480996e+00 2.14220183e+00 3.87352556e+00\n",
      "  3.50720839e+00 1.38925295e+00 3.43512451e+00 4.98427261e+00\n",
      "  4.44036697e+00 3.98165138e+00 3.06422018e+00 5.55897772e+00\n",
      "  4.01769332e+00 4.03931848e+00 2.73853211e+00]\n",
      " [3.98502268e+03 7.58538122e+00 1.52804033e+00 5.39647133e+01\n",
      "  2.42344045e+00 1.06931317e+00 1.89540013e+00 2.06868305e+00\n",
      "  5.59861374e+00 1.77504726e+00 1.03339635e+00 1.03780718e+00\n",
      "  1.82671708e+00 1.85129175e+00 7.28052930e+01 1.85507246e+00\n",
      "  1.71266541e+00 3.01386263e+00 3.76811594e+00 3.57971014e+00\n",
      "  2.60743541e+00 1.27410208e+00 1.96534342e+00 3.74228103e+00\n",
      "  3.42470069e+00 1.42974165e+00 3.42533081e+00 4.99117832e+00\n",
      "  4.71644612e+00 3.78512917e+00 3.04473850e+00 5.73282924e+00\n",
      "  4.03402647e+00 4.05482042e+00 2.69250158e+00]\n",
      " [1.17250326e+04 1.07534884e+01 1.55946844e+00 5.33700997e+01\n",
      "  2.43455150e+00 1.06777409e+00 1.93355482e+00 2.06511628e+00\n",
      "  5.92225914e+00 1.76013289e+00 1.02724252e+00 1.02857143e+00\n",
      "  1.81926910e+00 1.84318937e+00 7.22797342e+01 2.06312292e+00\n",
      "  1.67574751e+00 2.85980066e+00 3.54950166e+00 3.62524917e+00\n",
      "  2.99401993e+00 1.34817276e+00 1.99867110e+00 3.76478405e+00\n",
      "  3.63986711e+00 1.40531561e+00 3.13421927e+00 4.96279070e+00\n",
      "  4.33089701e+00 4.03122924e+00 3.09368771e+00 5.66843854e+00\n",
      "  3.90431894e+00 3.97275748e+00 2.68438538e+00]]\n"
     ]
    }
   ],
   "source": [
    "# establecemos el modelo de cluster con Kmeans\n",
    "\n",
    "kmeans_test = KMeans(n_clusters=3, random_state=42).fit(X_test)\n",
    "print(\"kmeans.labels_:\", kmeans_test.labels_)\n",
    "predict_test = kmeans_test.predict(X_test)\n",
    "print(\"\\npredict:\", predict_test)\n",
    "clusters_test = kmeans_test.cluster_centers_\n",
    "print(f'\\nKMeans cluster centers 3:\\n {clusters_test}')"
   ]
  },
  {
   "cell_type": "code",
   "execution_count": 42,
   "metadata": {},
   "outputs": [
    {
     "name": "stdout",
     "output_type": "stream",
     "text": [
      "K_test_Score: 0.3\n"
     ]
    }
   ],
   "source": [
    "k_test_score = metrics.accuracy_score(y_test, predict_test)\n",
    "print(f'K_test_Score: {k_test_score.round(2)}')"
   ]
  },
  {
   "cell_type": "code",
   "execution_count": 43,
   "metadata": {},
   "outputs": [],
   "source": [
    "# Normalizamos los datos\n",
    "X_train_N = StandardScaler().fit_transform(X_train)"
   ]
  },
  {
   "cell_type": "code",
   "execution_count": 44,
   "metadata": {},
   "outputs": [
    {
     "name": "stdout",
     "output_type": "stream",
     "text": [
      "kmeans.labels_: [1 1 2 ... 1 1 0]\n",
      "\n",
      "predict: [1 1 2 ... 1 1 0]\n",
      "\n",
      "KMeans cluster centers 3:\n",
      " [[-2.09477330e-02 -2.77027140e-02  1.83844068e-01  9.26249568e-01\n",
      "   6.83043183e-01 -1.73536770e-01  4.26985900e-02  3.71563518e-01\n",
      "  -7.79655839e-01 -6.75143131e-01 -1.47528105e-01 -1.50000870e-01\n",
      "  -2.11275549e-01 -2.20404054e-01  4.35916584e-02 -3.46687186e-01\n",
      "  -2.85132717e-01  2.55685647e-01  1.24021987e-01 -1.30244929e-01\n",
      "   5.70286723e-02 -9.60364674e-02 -7.35365961e-02 -3.35053321e-02\n",
      "   3.02866750e-01 -8.57011906e-02  1.20797071e-01  5.76819755e-01\n",
      "   2.37416761e-01 -3.42446411e-01  3.20630626e-01  2.37065734e-01\n",
      "   1.30676219e-02  3.66984532e-01  2.95946414e-01]\n",
      " [-3.61986970e-02 -7.42047038e-02 -3.73047554e-01 -7.53368424e-01\n",
      "  -2.81415531e-01  2.91459292e-01  1.73897674e-01 -3.96596778e-01\n",
      "  -5.36576085e-02  4.46711463e-01  2.94304575e-01  3.27619578e-01\n",
      "   2.96907549e-01  2.86051150e-01  2.06797333e-01 -1.02338428e-01\n",
      "   6.53396473e-01 -3.45508843e-01 -1.15526266e-01  3.56599261e-01\n",
      "  -2.30282175e-01 -2.25026817e-02  4.71612441e-01 -1.18966492e-02\n",
      "  -4.44898454e-01  1.07559050e-02 -2.46357078e-01 -7.29422913e-01\n",
      "   1.18721018e-01 -1.57578393e-01 -3.86722946e-01 -6.91434594e-02\n",
      "  -9.08853555e-02  3.64006625e-01 -4.95414183e-04]\n",
      " [ 5.49125930e-02  9.65566384e-02  1.45943474e-01 -2.88344712e-01\n",
      "  -4.61824042e-01 -8.26098321e-02 -2.02931607e-01 -2.98747740e-02\n",
      "   8.67906257e-01  3.03271812e-01 -1.12521723e-01 -1.40206723e-01\n",
      "  -4.79126347e-02 -2.84535800e-02 -2.33775320e-01  4.57265466e-01\n",
      "  -2.94360354e-01  4.54319623e-02 -2.52894827e-02 -1.87305177e-01\n",
      "   1.49407751e-01  1.21353762e-01 -3.51430527e-01  4.60157272e-02\n",
      "   8.62060005e-02  8.02634927e-02  9.70224820e-02  5.70115450e-02\n",
      "  -3.57353956e-01  5.03022487e-01  1.46617947e-02 -1.86218422e-01\n",
      "   6.88845096e-02 -7.16444026e-01 -3.10480716e-01]]\n"
     ]
    }
   ],
   "source": [
    "kmeans_train_N = KMeans(n_clusters=3, random_state=42).fit(X_train_N)\n",
    "print(\"kmeans.labels_:\", kmeans_train_N.labels_)\n",
    "predict_train = kmeans_train_N.predict(X_train_N)\n",
    "print(\"\\npredict:\", predict_train)\n",
    "clusters_train = kmeans_train_N.cluster_centers_\n",
    "print(f'\\nKMeans cluster centers 3:\\n {clusters_train}')"
   ]
  },
  {
   "cell_type": "code",
   "execution_count": 45,
   "metadata": {},
   "outputs": [
    {
     "name": "stdout",
     "output_type": "stream",
     "text": [
      "K_train_N_Score: 0.3\n"
     ]
    }
   ],
   "source": [
    "k_train_N_score = metrics.accuracy_score(y_train, predict_train)\n",
    "print(f'K_train_N_Score: {k_train_N_score.round(2)}')"
   ]
  },
  {
   "cell_type": "code",
   "execution_count": 46,
   "metadata": {},
   "outputs": [],
   "source": [
    "# Normalizamos los datos\n",
    "X_test_N = StandardScaler().fit_transform(X_test)"
   ]
  },
  {
   "cell_type": "code",
   "execution_count": 47,
   "metadata": {},
   "outputs": [
    {
     "name": "stdout",
     "output_type": "stream",
     "text": [
      "kmeans.labels_: [2 0 2 ... 2 0 2]\n",
      "\n",
      "predict: [2 0 2 ... 2 0 2]\n",
      "\n",
      "KMeans cluster centers 3:\n",
      " [[-0.01303898  0.00584964  0.23762715  0.90546955  0.68770058 -0.16924491\n",
      "   0.04240585  0.3289843  -0.77661265 -0.67094693 -0.16556117 -0.15705716\n",
      "  -0.20862831 -0.19842087  0.01938636 -0.35547687 -0.31267119  0.2733784\n",
      "   0.15056327 -0.16336471  0.05558939 -0.1036286  -0.07893077 -0.03289838\n",
      "   0.31050905 -0.05768979  0.13454782  0.54319721  0.20805518 -0.30294499\n",
      "   0.33506253  0.30497544  0.00830854  0.37306101  0.30895135]\n",
      " [-0.07782743 -0.15509671 -0.37380889 -0.75075327 -0.28062445  0.34886144\n",
      "   0.27592311 -0.33022959 -0.04868935  0.46128453  0.33371362  0.36056144\n",
      "   0.28864535  0.27962072  0.19518624 -0.14904611  0.75118363 -0.28978033\n",
      "  -0.06804862  0.42219984 -0.25416734 -0.00821264  0.48568913 -0.01915895\n",
      "  -0.45406623  0.02694748 -0.25336386 -0.67772994  0.15710826 -0.15953203\n",
      "  -0.48434326 -0.12759284 -0.10623572  0.35612855 -0.04304603]\n",
      " [ 0.07789672  0.12267318  0.06702581 -0.30339464 -0.4706322  -0.11627631\n",
      "  -0.27225993 -0.06256928  0.83475006  0.30363372 -0.10747875 -0.13844803\n",
      "  -0.02604214 -0.0289967  -0.18174116  0.48723818 -0.30330829 -0.03924623\n",
      "  -0.0975562  -0.18312689  0.15397821  0.11280947 -0.32215635  0.04954304\n",
      "   0.05905371  0.03665462  0.07254879  0.00658229 -0.34313513  0.44220409\n",
      "   0.05905463 -0.20610386  0.0796267  -0.67700412 -0.28030428]]\n"
     ]
    }
   ],
   "source": [
    "kmeans_test_N = KMeans(n_clusters=3, random_state=42).fit(X_test_N)\n",
    "print(\"kmeans.labels_:\", kmeans_test_N.labels_)\n",
    "predict_test = kmeans_test_N.predict(X_test_N)\n",
    "print(\"\\npredict:\", predict_test)\n",
    "clusters_test = kmeans_test_N.cluster_centers_\n",
    "print(f'\\nKMeans cluster centers 3:\\n {clusters_test}')"
   ]
  },
  {
   "cell_type": "code",
   "execution_count": 48,
   "metadata": {},
   "outputs": [
    {
     "name": "stdout",
     "output_type": "stream",
     "text": [
      "K_test_N_Score: 0.28\n"
     ]
    }
   ],
   "source": [
    "k_test_N_score = metrics.accuracy_score(y_test, predict_test)\n",
    "print(f'K_test_N_Score: {k_test_N_score.round(2)}')"
   ]
  },
  {
   "cell_type": "markdown",
   "metadata": {},
   "source": [
    "### Aplicamos el modelo a todos los datos. Con 3 Clúster sin normalizar. Es el modelo en el que se obtienen un mejor Score"
   ]
  },
  {
   "cell_type": "code",
   "execution_count": 49,
   "metadata": {},
   "outputs": [],
   "source": [
    "ENS_2017_valida_2 = pd.read_csv(\"../data/Bases_trabajo/ENS_2017_valida_2.csv\", sep =',')\n",
    "\n",
    "y = np.array(ENS_2017_valida_2['Salud_percibida'])\n",
    "\n",
    "X= np.array(ENS_2017_valida_2.drop('Salud_percibida', axis = 1))\n"
   ]
  },
  {
   "cell_type": "code",
   "execution_count": 50,
   "metadata": {},
   "outputs": [
    {
     "name": "stdout",
     "output_type": "stream",
     "text": [
      "kmeans.labels_: [2 2 2 ... 1 1 1]\n",
      "\n",
      "predict: [2 2 2 ... 1 1 1]\n",
      "\n",
      "KMeans cluster centers 3:\n",
      " [[1.15215000e+04 1.07767672e+01 1.54534823e+00 5.33778586e+01\n",
      "  2.39851871e+00 1.06795738e+00 1.92918399e+00 2.07445426e+00\n",
      "  5.87409044e+00 1.75272869e+00 1.02598753e+00 1.02702703e+00\n",
      "  1.81704782e+00 1.83575884e+00 7.22544179e+01 2.03417360e+00\n",
      "  1.72479210e+00 2.86772349e+00 3.57276507e+00 3.62240125e+00\n",
      "  3.01858108e+00 1.34979210e+00 1.99051455e+00 3.76273389e+00\n",
      "  3.63240644e+00 1.40059771e+00 3.16930873e+00 4.98999480e+00\n",
      "  4.40059771e+00 4.02936590e+00 3.06496881e+00 5.53053534e+00\n",
      "  3.93308212e+00 3.93620062e+00 2.67762474e+00]\n",
      " [1.92290000e+04 7.74297189e+00 1.54035497e+00 5.34503174e+01\n",
      "  2.46949087e+00 1.04922917e+00 1.93444747e+00 2.08433735e+00\n",
      "  5.75722244e+00 1.77458220e+00 1.02668739e+00 1.02681695e+00\n",
      "  1.78637129e+00 1.85153517e+00 7.30513020e+01 1.94869802e+00\n",
      "  1.81552015e+00 3.05583625e+00 3.70734551e+00 3.61264412e+00\n",
      "  3.00816168e+00 1.37699184e+00 2.14211685e+00 3.88003627e+00\n",
      "  3.51120611e+00 1.37375308e+00 3.39072419e+00 4.98497215e+00\n",
      "  4.42207540e+00 3.97681047e+00 3.05907501e+00 5.68026946e+00\n",
      "  4.01982122e+00 4.00427517e+00 2.68830159e+00]\n",
      " [3.83650000e+03 7.90487360e+00 1.53765963e+00 5.34804535e+01\n",
      "  2.38545739e+00 1.07088872e+00 1.93640865e+00 2.06228825e+00\n",
      "  5.65389627e+00 1.78055773e+00 1.03322909e+00 1.03974459e+00\n",
      "  1.83124837e+00 1.85678916e+00 7.23578316e+01 1.87307793e+00\n",
      "  1.70172009e+00 3.02410738e+00 3.77143602e+00 3.59460516e+00\n",
      "  2.59317175e+00 1.30727131e+00 1.99387542e+00 3.80036487e+00\n",
      "  3.48449309e+00 1.49074798e+00 3.37203544e+00 4.96155851e+00\n",
      "  4.65572062e+00 3.81678395e+00 3.06150639e+00 5.72322127e+00\n",
      "  4.02723482e+00 4.05981235e+00 2.67109721e+00]]\n"
     ]
    }
   ],
   "source": [
    "kmeans = KMeans(n_clusters=3, random_state=42).fit(X)\n",
    "print(\"kmeans.labels_:\", kmeans.labels_)\n",
    "predict = kmeans.predict(X)\n",
    "print(\"\\npredict:\", predict)\n",
    "clusters = kmeans.cluster_centers_\n",
    "print(f'\\nKMeans cluster centers 3:\\n {clusters}')"
   ]
  },
  {
   "cell_type": "code",
   "execution_count": 51,
   "metadata": {},
   "outputs": [
    {
     "name": "stdout",
     "output_type": "stream",
     "text": [
      "K_Score: 0.3\n"
     ]
    }
   ],
   "source": [
    "k_score = metrics.accuracy_score(y, predict)\n",
    "print(f'K_Score: {k_score.round(2)}')"
   ]
  },
  {
   "cell_type": "markdown",
   "metadata": {},
   "source": [
    "### Añadimos una columna a nuestro Dataframe con la asignación de los Clústers a cada una de las filas"
   ]
  },
  {
   "cell_type": "code",
   "execution_count": 53,
   "metadata": {},
   "outputs": [],
   "source": [
    "Clusters = kmeans.predict(X)\n",
    "ENS_2017_valida_2['Clusters'] = Clusters"
   ]
  },
  {
   "cell_type": "code",
   "execution_count": 54,
   "metadata": {},
   "outputs": [
    {
     "data": {
      "text/plain": [
       "1    33.405518\n",
       "0    33.331890\n",
       "2    33.262593\n",
       "Name: Clusters, dtype: float64"
      ]
     },
     "execution_count": 54,
     "metadata": {},
     "output_type": "execute_result"
    }
   ],
   "source": [
    "freq_Clusters = ENS_2017_valida_2['Clusters'].value_counts() / len(ENS_2017_valida_2['Clusters'])*100\n",
    "freq_Clusters"
   ]
  },
  {
   "cell_type": "code",
   "execution_count": 55,
   "metadata": {},
   "outputs": [
    {
     "data": {
      "text/plain": [
       "1    7713\n",
       "0    7696\n",
       "2    7680\n",
       "Name: Clusters, dtype: int64"
      ]
     },
     "execution_count": 55,
     "metadata": {},
     "output_type": "execute_result"
    }
   ],
   "source": [
    "freq_Clusters_abs = ENS_2017_valida_2['Clusters'].value_counts() \n",
    "freq_Clusters_abs"
   ]
  },
  {
   "cell_type": "markdown",
   "metadata": {},
   "source": [
    "### Identificamos el perfil de cada Clúster"
   ]
  },
  {
   "cell_type": "code",
   "execution_count": 59,
   "metadata": {},
   "outputs": [
    {
     "data": {
      "text/plain": [
       "Index(['Unnamed: 0', 'CCAA', 'Sexo', 'Edad', 'Actividad_economica_actual',\n",
       "       'Nacionalidad_española', 'Convivencia', 'Estado_civil',\n",
       "       'Nivel_estudios', 'Salud_percibida', 'Vacunación_gripe',\n",
       "       'Toma_tensiónArterial_profesional', 'Medición_colesterol',\n",
       "       'Prueba_sangreHeces', 'Colonoscopia', 'Peso(Kg)',\n",
       "       'Freq_ActividadFísica', 'Freq_Consumo_FrutaFresca',\n",
       "       'Freq_Consumo_Carne', 'Freq_Consumo_Huevos', 'Freq_Consumo_Pescado',\n",
       "       'Freq_Consumo_PastaArrozPatatas', 'Freq_Consumo_PanCereales',\n",
       "       'Freq_Consumo_VerdurasEnsaladasHortalizas', 'Freq_Consumo_Legumbres',\n",
       "       'Freq_Consumo_EmbutidosFiambres', 'Freq_Consumo_Lácteos',\n",
       "       'Freq_Consumo_Dulces', 'Freq_Consumo_ComidaRápida',\n",
       "       'Freq_Consumo_ZumoNatural', 'Freq_Diaria_CepilladoDientes',\n",
       "       '¿Fuma actualmente', 'Freq_Consumo_Alcohol',\n",
       "       'ApoyoAfectivoPersonal_AmigosFamiliares', 'ClaseSocial_BasadaOcupación',\n",
       "       'Índice_MasaCorporal', 'Clusters'],\n",
       "      dtype='object')"
      ]
     },
     "execution_count": 59,
     "metadata": {},
     "output_type": "execute_result"
    }
   ],
   "source": [
    "ENS_2017_valida_2.columns"
   ]
  },
  {
   "cell_type": "code",
   "execution_count": 58,
   "metadata": {},
   "outputs": [
    {
     "name": "stdout",
     "output_type": "stream",
     "text": [
      "Salud_percibida     1     2    3\n",
      "Clusters                        \n",
      "0                5103  1856  737\n",
      "1                5164  1833  716\n",
      "2                5068  1842  770\n"
     ]
    }
   ],
   "source": [
    "Cluster_SaludPercibida = pd.crosstab(ENS_2017_valida_2['Clusters'],ENS_2017_valida_2['Salud_percibida'],margins = False)\n",
    "print(Cluster_SaludPercibida)"
   ]
  },
  {
   "cell_type": "code",
   "execution_count": 61,
   "metadata": {},
   "outputs": [
    {
     "name": "stdout",
     "output_type": "stream",
     "text": [
      "Sexo         1     2\n",
      "Clusters            \n",
      "0         3501  4195\n",
      "1         3543  4170\n",
      "2         3551  4129\n"
     ]
    }
   ],
   "source": [
    "Cluster_Sexo = pd.crosstab(ENS_2017_valida_2['Clusters'],ENS_2017_valida_2['Sexo'],margins = False)\n",
    "print(Cluster_Sexo)"
   ]
  },
  {
   "cell_type": "code",
   "execution_count": 62,
   "metadata": {},
   "outputs": [
    {
     "name": "stdout",
     "output_type": "stream",
     "text": [
      "CCAA        1    2    3    4     5    6    7    8     9    10   11   12    13  \\\n",
      "Clusters                                                                        \n",
      "0         1145  147  581    0     0    0  211  140   126    0    0  311  2032   \n",
      "1          682  898  258    0  1120  797  808  352   229  857    0  433     0   \n",
      "2         1108    0    0  923     0    0  268  635  2008  974  952  591     0   \n",
      "\n",
      "CCAA        14   15   16   17   18   19  \n",
      "Clusters                                 \n",
      "0         1026  777  530  670    0    0  \n",
      "1            0    0  743    0  255  281  \n",
      "2            0    0  221    0    0    0  \n"
     ]
    }
   ],
   "source": [
    "Cluster_CCAA = pd.crosstab(ENS_2017_valida_2['Clusters'],ENS_2017_valida_2['CCAA'],margins = False)\n",
    "print(Cluster_CCAA)"
   ]
  },
  {
   "cell_type": "code",
   "execution_count": 63,
   "metadata": {},
   "outputs": [
    {
     "name": "stdout",
     "output_type": "stream",
     "text": [
      "Actividad_economica_actual   1.0  2.0   3.0  4.0  5.0  6.0\n",
      "Clusters                                                  \n",
      "0                           3446  726  2182  431  179  732\n",
      "1                           3220  870  2177  463  199  784\n",
      "2                           3281  891  2249  415  204  640\n"
     ]
    }
   ],
   "source": [
    "Cluster_Actividad_economica_actual = pd.crosstab(ENS_2017_valida_2['Clusters'],ENS_2017_valida_2['Actividad_economica_actual'],margins = False)\n",
    "print(Cluster_Actividad_economica_actual)"
   ]
  },
  {
   "cell_type": "code",
   "execution_count": 64,
   "metadata": {},
   "outputs": [
    {
     "name": "stdout",
     "output_type": "stream",
     "text": [
      "Nacionalidad_española     1    2\n",
      "Clusters                        \n",
      "0                      7173  523\n",
      "1                      7333  380\n",
      "2                      7136  544\n"
     ]
    }
   ],
   "source": [
    "Cluster_Nacionalidad_española = pd.crosstab(ENS_2017_valida_2['Clusters'],ENS_2017_valida_2['Nacionalidad_española'],margins = False)\n",
    "print(Cluster_Nacionalidad_española)"
   ]
  },
  {
   "cell_type": "code",
   "execution_count": 65,
   "metadata": {},
   "outputs": [
    {
     "name": "stdout",
     "output_type": "stream",
     "text": [
      "Convivencia   1.0  2.0   3.0\n",
      "Clusters                    \n",
      "0            4004  233  3459\n",
      "1            4053  113  3547\n",
      "2            3957  254  3469\n"
     ]
    }
   ],
   "source": [
    "Cluster_Convivencia = pd.crosstab(ENS_2017_valida_2['Clusters'],ENS_2017_valida_2['Convivencia'],margins = False)\n",
    "print(Cluster_Convivencia)"
   ]
  },
  {
   "cell_type": "code",
   "execution_count": 96,
   "metadata": {},
   "outputs": [
    {
     "name": "stdout",
     "output_type": "stream",
     "text": [
      "Estado_civil        1.0        2.0        3.0        4.0        5.0\n",
      "Clusters                                                           \n",
      "0             33.389946  33.405310  32.436070  34.111311  34.160959\n",
      "1             32.608696  33.541267  34.253028  33.931777  33.561644\n",
      "2             34.001359  33.053423  33.310902  31.956912  32.277397\n"
     ]
    }
   ],
   "source": [
    "Cluster_Estado_civil = pd.crosstab(index =ENS_2017_valida_2['Clusters'],columns =ENS_2017_valida_2['Estado_civil']).apply(lambda r: r/r.sum() *100,axis=0)\n",
    "\n",
    "print(Cluster_Estado_civil)"
   ]
  },
  {
   "cell_type": "code",
   "execution_count": 95,
   "metadata": {},
   "outputs": [
    {
     "name": "stdout",
     "output_type": "stream",
     "text": [
      "Nivel_estudios          2          3          4          5          6  \\\n",
      "Clusters                                                                \n",
      "0               24.942792  36.789588  30.465950  30.265775  36.252617   \n",
      "1               31.121281  29.023861  37.096774  33.068161  32.100488   \n",
      "2               43.935927  34.186551  32.437276  36.666064  31.646895   \n",
      "\n",
      "Nivel_estudios          7          8          9  \n",
      "Clusters                                         \n",
      "0               32.813515  32.896983  37.780430  \n",
      "1               33.723197  36.767217  31.933174  \n",
      "2               33.463288  30.335800  30.286396  \n"
     ]
    }
   ],
   "source": [
    "Cluster_Nivel_estudios = pd.crosstab(index =ENS_2017_valida_2['Clusters'],columns =ENS_2017_valida_2['Nivel_estudios']).apply(lambda r: r/r.sum() *100,axis=0)\n",
    "\n",
    "print(Cluster_Nivel_estudios)"
   ]
  },
  {
   "cell_type": "code",
   "execution_count": 94,
   "metadata": {},
   "outputs": [
    {
     "name": "stdout",
     "output_type": "stream",
     "text": [
      "Vacunación_gripe          1         2\n",
      "Clusters                             \n",
      "0                 35.761216  32.60331\n",
      "1                 32.607471  33.64486\n",
      "2                 31.631312  33.75183\n"
     ]
    }
   ],
   "source": [
    "Cluster_Vacunación_gripe = pd.crosstab(index =ENS_2017_valida_2['Clusters'],columns =ENS_2017_valida_2['Vacunación_gripe']).apply(lambda r: r/r.sum() *100,axis=0)\n",
    "\n",
    "print(Cluster_Vacunación_gripe)"
   ]
  },
  {
   "cell_type": "code",
   "execution_count": 93,
   "metadata": {},
   "outputs": [
    {
     "name": "stdout",
     "output_type": "stream",
     "text": [
      "Toma_tensiónArterial_profesional        1.0        2.0\n",
      "Clusters                                              \n",
      "0                                 33.422508  30.257186\n",
      "1                                 33.471553  31.164902\n",
      "2                                 33.105939  38.577912\n"
     ]
    }
   ],
   "source": [
    "Cluster_Toma_tensiónArterial_profesional = pd.crosstab(index =ENS_2017_valida_2['Clusters'],columns =ENS_2017_valida_2['Toma_tensiónArterial_profesional']).apply(lambda r: r/r.sum() *100,axis=0)\n",
    "\n",
    "print(Cluster_Toma_tensiónArterial_profesional)"
   ]
  },
  {
   "cell_type": "code",
   "execution_count": 92,
   "metadata": {},
   "outputs": [
    {
     "name": "stdout",
     "output_type": "stream",
     "text": [
      "Prueba_sangreHeces        1.0        2.0\n",
      "Clusters                                \n",
      "0                   32.398897  33.548594\n",
      "1                   37.844669  32.374446\n",
      "2                   29.756434  34.076960\n"
     ]
    }
   ],
   "source": [
    "Cluster_Prueba_sangreHeces = pd.crosstab(index =ENS_2017_valida_2['Clusters'],columns =ENS_2017_valida_2['Prueba_sangreHeces']).apply(lambda r: r/r.sum() *100, axis=0)\n",
    "\n",
    "print(Cluster_Prueba_sangreHeces)"
   ]
  },
  {
   "cell_type": "code",
   "execution_count": 91,
   "metadata": {},
   "outputs": [
    {
     "name": "stdout",
     "output_type": "stream",
     "text": [
      "Colonoscopia        1.0        2.0\n",
      "Clusters                          \n",
      "0             36.050157  32.844740\n",
      "1             32.630379  33.544433\n",
      "2             31.319464  33.610827\n"
     ]
    }
   ],
   "source": [
    "Cluster_Colonoscopia = pd.crosstab(index =ENS_2017_valida_2['Clusters'],columns =ENS_2017_valida_2['Colonoscopia']).apply(lambda r: r/r.sum() *100,\n",
    "                                axis=0)\n",
    "print(Cluster_Colonoscopia)"
   ]
  },
  {
   "cell_type": "code",
   "execution_count": 90,
   "metadata": {},
   "outputs": [
    {
     "name": "stdout",
     "output_type": "stream",
     "text": [
      "Freq_ActividadFísica        1.0        2.0        3.0        4.0\n",
      "Clusters                                                        \n",
      "0                     31.088083  33.219178  32.587358  42.075038\n",
      "1                     36.224375  29.949183  29.681979  39.433384\n",
      "2                     32.687542  36.831639  37.730664  18.491577\n"
     ]
    }
   ],
   "source": [
    "Cluster_Freq_ActividadFísica = pd.crosstab(index =ENS_2017_valida_2['Clusters'],columns =ENS_2017_valida_2['Freq_ActividadFísica']).apply(lambda r: r/r.sum() *100,\n",
    "                                axis=0)\n",
    "print(Cluster_Freq_ActividadFísica)"
   ]
  },
  {
   "cell_type": "code",
   "execution_count": 89,
   "metadata": {},
   "outputs": [
    {
     "name": "stdout",
     "output_type": "stream",
     "text": [
      "Freq_Consumo_FrutaFresca        1.0        2.0        3.0        4.0  \\\n",
      "Clusters                                                               \n",
      "0                         34.388461  28.395062  32.617801  32.674419   \n",
      "1                         32.065005  33.676269  39.057592  37.093023   \n",
      "2                         33.546534  37.928669  28.324607  30.232558   \n",
      "\n",
      "Freq_Consumo_FrutaFresca        5.0        6.0  \n",
      "Clusters                                        \n",
      "0                         34.051144  33.682008  \n",
      "1                         35.935397  34.937238  \n",
      "2                         30.013459  31.380753  \n"
     ]
    }
   ],
   "source": [
    "Cluster_Freq_Consumo_FrutaFresca = pd.crosstab(index =ENS_2017_valida_2['Clusters'],columns =ENS_2017_valida_2['Freq_Consumo_FrutaFresca']).apply(lambda r: r/r.sum() *100,\n",
    "                                axis=0)\n",
    "print(Cluster_Freq_Consumo_FrutaFresca)"
   ]
  },
  {
   "cell_type": "code",
   "execution_count": null,
   "metadata": {},
   "outputs": [],
   "source": []
  },
  {
   "cell_type": "code",
   "execution_count": 82,
   "metadata": {},
   "outputs": [],
   "source": [
    "def crosstabs (df,col1,col2):\n",
    "    Cluster_col2 = pd.crosstab(index =df['col1'],columns =df['col2']).apply(lambda r: r/r.sum() *100,axis=0)\n",
    "    return Cluster_col2\n",
    "\n",
    "crosstabs (ENS_2017_valida_2, Clusters, Freq_Consumo_FrutaFresca)"
   ]
  },
  {
   "cell_type": "code",
   "execution_count": null,
   "metadata": {},
   "outputs": [],
   "source": []
  },
  {
   "cell_type": "markdown",
   "metadata": {},
   "source": []
  },
  {
   "cell_type": "code",
   "execution_count": null,
   "metadata": {},
   "outputs": [],
   "source": []
  }
 ],
 "metadata": {
  "interpreter": {
   "hash": "7980ba124835d5faa10419b5aaaaec0d5be537aa3d05dd29d745d0092f32015f"
  },
  "kernelspec": {
   "display_name": "Python 3.8.9 64-bit",
   "name": "python3"
  },
  "language_info": {
   "name": "python",
   "version": ""
  },
  "orig_nbformat": 4
 },
 "nbformat": 4,
 "nbformat_minor": 2
}