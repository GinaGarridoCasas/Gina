{
 "metadata": {
  "language_info": {
   "codemirror_mode": {
    "name": "ipython",
    "version": 3
   },
   "file_extension": ".py",
   "mimetype": "text/x-python",
   "name": "python",
   "nbconvert_exporter": "python",
   "pygments_lexer": "ipython3",
   "version": "3.8.9"
  },
  "orig_nbformat": 4,
  "kernelspec": {
   "name": "python3",
   "display_name": "Python 3.8.9 64-bit"
  },
  "interpreter": {
   "hash": "7980ba124835d5faa10419b5aaaaec0d5be537aa3d05dd29d745d0092f32015f"
  }
 },
 "nbformat": 4,
 "nbformat_minor": 2,
 "cells": [
  {
   "cell_type": "code",
   "execution_count": 1,
   "metadata": {},
   "outputs": [],
   "source": [
    "import pandas as pd\n",
    "import numpy as np\n",
    "import matplotlib.pyplot as plt\n",
    "import seaborn as sns"
   ]
  },
  {
   "cell_type": "code",
   "execution_count": 2,
   "metadata": {},
   "outputs": [],
   "source": [
    "ENS_2017_valida = pd.read_csv(\"../Data/Bases_trabajo/ENS_2017_valida.csv\", sep =',')"
   ]
  },
  {
   "cell_type": "code",
   "execution_count": 3,
   "metadata": {},
   "outputs": [
    {
     "output_type": "execute_result",
     "data": {
      "text/plain": [
       "Index(['Unnamed: 0', 'CCAA', 'Sexo', 'Edad', 'Actividad_economica_actual',\n",
       "       'País_nacimiento', 'Nacionalidad_española', 'Nacionalidad_extranjera',\n",
       "       'Convivencia', 'Estado_civil', 'Nivel_estudios', 'Salud_percibida',\n",
       "       'Vacunación_gripe', 'Toma_tensiónArterial_profesional',\n",
       "       'Medición_colesterol', 'Medición_azúcarSangre', 'Prueba_sangreHeces',\n",
       "       'Colonoscopia', 'Altura(cm)', 'Peso(Kg)', 'Freq_ActividadFísica',\n",
       "       'Freq_Consumo_FrutaFresca', 'Freq_Consumo_Carne', 'Freq_Consumo_Huevos',\n",
       "       'Freq_Consumo_Pescado', 'Freq_Consumo_PastaArrozPatatas',\n",
       "       'Freq_Consumo_PanCereales', 'Freq_Consumo_VerdurasEnsaladasHortalizas',\n",
       "       'Freq_Consumo_Legumbres', 'Freq_Consumo_EmbutidosFiambres',\n",
       "       'Freq_Consumo_Lácteos', 'Freq_Consumo_Dulces',\n",
       "       'Freq_Consumo_RefrescosAzúcar', 'Freq_Consumo_ComidaRápida',\n",
       "       'Freq_Consumo_Aperitivos', 'Freq_Consumo_ZumoNatural',\n",
       "       'Freq_Diaria_CepilladoDientes', '¿Fuma actualmente',\n",
       "       'Freq_Consumo_Alcohol', 'ApoyoAfectivoPersonal_AmigosFamiliares',\n",
       "       'ApoyoAfectivoPersonal_AsuntosCasa',\n",
       "       'ApoyoAfectivoPersonal_ReconocimientoTrabajo',\n",
       "       'ApoyoAfectivoPersonal_PersonasSePreocupan',\n",
       "       'ApoyoAfectivoPersonal_RecibirAmorAfecto',\n",
       "       'ApoyoAfectivoPersonal_HablarProblemasTrabajoCasa',\n",
       "       'ApoyoAfectivoPersonal_HablarProblemasPersonalesFamiliares',\n",
       "       'ApoyoAfectivoPersonal_HablarProblemasEconómicos',\n",
       "       'ApoyoAfectivoPersonal_RecibirInvitacionesSalirConOtrasPersonas',\n",
       "       'ApoyoAfectivoPersonal_RecibirConsejosÚtiles',\n",
       "       'ApoyoAfectivoPersonal_RecibirAyudaEnfermoCama', 'FACTORADULTO',\n",
       "       'ClaseSocial_BasadaOcupación', 'Índice_MasaCorporal'],\n",
       "      dtype='object')"
      ]
     },
     "metadata": {},
     "execution_count": 3
    }
   ],
   "source": [
    "ENS_2017_valida.columns"
   ]
  },
  {
   "cell_type": "code",
   "execution_count": 4,
   "metadata": {},
   "outputs": [
    {
     "output_type": "stream",
     "name": "stdout",
     "text": [
      "Top Absolute Correlations\n",
      "País_nacimiento                                                 Nacionalidad_extranjera                                           0.941341\n",
      "ApoyoAfectivoPersonal_HablarProblemasTrabajoCasa                ApoyoAfectivoPersonal_HablarProblemasPersonalesFamiliares         0.887158\n",
      "ApoyoAfectivoPersonal_HablarProblemasPersonalesFamiliares       ApoyoAfectivoPersonal_HablarProblemasEconómicos                   0.876314\n",
      "ApoyoAfectivoPersonal_HablarProblemasTrabajoCasa                ApoyoAfectivoPersonal_HablarProblemasEconómicos                   0.832609\n",
      "Nacionalidad_española                                           Nacionalidad_extranjera                                           0.824398\n",
      "País_nacimiento                                                 Nacionalidad_española                                             0.782249\n",
      "Medición_colesterol                                             Medición_azúcarSangre                                             0.775807\n",
      "Peso(Kg)                                                        Índice_MasaCorporal                                               0.728308\n",
      "ApoyoAfectivoPersonal_PersonasSePreocupan                       ApoyoAfectivoPersonal_RecibirAmorAfecto                           0.724247\n",
      "ApoyoAfectivoPersonal_HablarProblemasPersonalesFamiliares       ApoyoAfectivoPersonal_RecibirConsejosÚtiles                       0.691242\n",
      "ApoyoAfectivoPersonal_HablarProblemasEconómicos                 ApoyoAfectivoPersonal_RecibirConsejosÚtiles                       0.680549\n",
      "ApoyoAfectivoPersonal_HablarProblemasTrabajoCasa                ApoyoAfectivoPersonal_RecibirConsejosÚtiles                       0.671404\n",
      "ApoyoAfectivoPersonal_RecibirInvitacionesSalirConOtrasPersonas  ApoyoAfectivoPersonal_RecibirConsejosÚtiles                       0.664347\n",
      "Sexo                                                            Altura(cm)                                                        0.646932\n",
      "ApoyoAfectivoPersonal_RecibirAmorAfecto                         ApoyoAfectivoPersonal_HablarProblemasTrabajoCasa                  0.645613\n",
      "ApoyoAfectivoPersonal_PersonasSePreocupan                       ApoyoAfectivoPersonal_HablarProblemasTrabajoCasa                  0.638457\n",
      "                                                                ApoyoAfectivoPersonal_HablarProblemasPersonalesFamiliares         0.636456\n",
      "ApoyoAfectivoPersonal_RecibirAmorAfecto                         ApoyoAfectivoPersonal_HablarProblemasPersonalesFamiliares         0.634569\n",
      "                                                                ApoyoAfectivoPersonal_RecibirAyudaEnfermoCama                     0.618696\n",
      "ApoyoAfectivoPersonal_PersonasSePreocupan                       ApoyoAfectivoPersonal_HablarProblemasEconómicos                   0.610639\n",
      "ApoyoAfectivoPersonal_RecibirAmorAfecto                         ApoyoAfectivoPersonal_HablarProblemasEconómicos                   0.603934\n",
      "ApoyoAfectivoPersonal_PersonasSePreocupan                       ApoyoAfectivoPersonal_RecibirAyudaEnfermoCama                     0.598876\n",
      "ApoyoAfectivoPersonal_HablarProblemasPersonalesFamiliares       ApoyoAfectivoPersonal_RecibirAyudaEnfermoCama                     0.595487\n",
      "ApoyoAfectivoPersonal_PersonasSePreocupan                       ApoyoAfectivoPersonal_RecibirConsejosÚtiles                       0.589757\n",
      "ApoyoAfectivoPersonal_HablarProblemasTrabajoCasa                ApoyoAfectivoPersonal_RecibirAyudaEnfermoCama                     0.587820\n",
      "ApoyoAfectivoPersonal_HablarProblemasPersonalesFamiliares       ApoyoAfectivoPersonal_RecibirInvitacionesSalirConOtrasPersonas    0.587554\n",
      "ApoyoAfectivoPersonal_RecibirConsejosÚtiles                     ApoyoAfectivoPersonal_RecibirAyudaEnfermoCama                     0.584783\n",
      "ApoyoAfectivoPersonal_HablarProblemasEconómicos                 ApoyoAfectivoPersonal_RecibirAyudaEnfermoCama                     0.583872\n",
      "                                                                ApoyoAfectivoPersonal_RecibirInvitacionesSalirConOtrasPersonas    0.583254\n",
      "ApoyoAfectivoPersonal_RecibirAmorAfecto                         ApoyoAfectivoPersonal_RecibirConsejosÚtiles                       0.579576\n",
      "ApoyoAfectivoPersonal_HablarProblemasTrabajoCasa                ApoyoAfectivoPersonal_RecibirInvitacionesSalirConOtrasPersonas    0.568759\n",
      "Nivel_estudios                                                  ClaseSocial_BasadaOcupación                                       0.515246\n",
      "ApoyoAfectivoPersonal_AmigosFamiliares                          ApoyoAfectivoPersonal_AsuntosCasa                                 0.507617\n",
      "Altura(cm)                                                      Peso(Kg)                                                          0.501155\n",
      "dtype: float64\n"
     ]
    }
   ],
   "source": [
    "# ver si hay alguna correlación de 50% o mayor entre la salud percibida y alguna de las variables que entran en el estudio\n",
    "\n",
    "def get_redundant_pairs(df):\n",
    "    '''Get diagonal and lower triangular pairs of correlation matrix'''\n",
    "    pairs_to_drop = set()\n",
    "    cols = df.columns\n",
    "    for i in range(0, df.shape[1]):\n",
    "        for j in range(0, i+1):\n",
    "            pairs_to_drop.add((cols[i], cols[j]))\n",
    "    return pairs_to_drop\n",
    "\n",
    "# Función para obtener el Top x de correlaciones más altas que queramos\n",
    "\n",
    "def get_top_abs_correlations(df, n=5):\n",
    "    au_corr = df.corr().abs().unstack()\n",
    "    labels_to_drop = get_redundant_pairs(df)\n",
    "    au_corr = au_corr.drop(labels=labels_to_drop).sort_values(ascending=False)\n",
    "    return au_corr[0:n]\n",
    "\n",
    "print(\"Top Absolute Correlations\")\n",
    "print(get_top_abs_correlations(ENS_2017_valida, 34))\n"
   ]
  },
  {
   "cell_type": "code",
   "execution_count": null,
   "metadata": {},
   "outputs": [],
   "source": []
  }
 ]
}