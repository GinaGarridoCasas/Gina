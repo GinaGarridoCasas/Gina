{
 "cells": [
  {
   "cell_type": "markdown",
   "metadata": {},
   "source": [
    "### 1. \n",
    "\n",
    "Crear una función que reciba cuatro parámetros: una lista 'L', un número 'T', un número 'V' y un booleano 'S'. La función debe devolver otras dos listas: \"lista_train_val\" y \"lista_test\".\n",
    "\n",
    "- \"lista_train_val\" es una lista con dos elementos. Cada elemento es una lista: \"list_train\", que representa el conjunto de entrenamiento y \"list_val\", que representa el conjunto de validación. \n",
    "- \"list_test\" es el conjunto de test. Como mínimo ha de tener 1 elemento (si 'L' > 1).\n",
    "- \"L\" es cualquier lista de elementos. Al principio, entra con un tamaño completo (100%). Esta es la lista que se partirá y se generarán los conjuntos entrenamiento, de validación y de test.\n",
    "- \"T\" es un número entre 1 y 100 que va a representar el tamaño, en porcentaje, del conjunto de test \"list_test\". \n",
    "- \"V\" es un número entre 0 y 100 que va a representar el tamaño, en porcentaje, del conjunto de validación \"list_val\". Su valor por defecto es 0.\n",
    "- \"S\", que por defecto es False, determinará si los conjuntos \"list_train\", \"list_test\" y \"list_val\" están aleatoriamente ordenados. ¿Encuentras alguna posible incoherencia si se reordenan aleatoriamente?\n",
    "\n",
    "Prueba la función con una lista de 100 números aleatorios del 0 al 100. \n",
    "\n",
    "### 2. \n",
    "\n",
    "Rehacer el ejercicio anterior en otra función para que no devuelva dos listas, sino los tres conjuntos: \n",
    "\n",
    "--> return list_train, list_val, list_test "
   ]
  },
  {
   "cell_type": "code",
   "execution_count": 1,
   "metadata": {},
   "outputs": [],
   "source": [
    "import pandas as Pd\n",
    "import numpy as np\n",
    "import random\n",
    "from random import choice\n",
    "\n",
    "\n",
    "def entrenamiento_test  (L,T,V, S =False):\n",
    "\n",
    "    L = [random.randint(0, 100) for _ in range(100)]\n",
    "        \n",
    "    list_test=[]\n",
    "    for i in range(T):\n",
    "        test = choice(L)\n",
    "        list_test.append(test)\n",
    "   \n",
    "    list_train = []\n",
    "    for i in L:\n",
    "        if i not in list_test:\n",
    "            list_train.append(i)\n",
    "        \n",
    "    list_val=[]\n",
    "    for i in range(V):\n",
    "        val = choice(list_train)\n",
    "        list_val.append(val)\n",
    "\n",
    "    list_train_val = [[list_train], [list_val]]\n",
    "\n",
    "    return (f'lista_train_val {list_train_val}, lista_test {list_test}')\n",
    "\n",
    "\n",
    "\n"
   ]
  },
  {
   "cell_type": "code",
   "execution_count": 2,
   "metadata": {},
   "outputs": [
    {
     "output_type": "execute_result",
     "data": {
      "text/plain": [
       "'lista_train_val [[[56, 84, 37, 8, 26, 92, 87, 69, 3, 52, 53, 19, 65, 61, 60, 85, 90, 25, 68, 21, 57, 72, 58, 85, 73, 48, 45, 19, 29, 15, 82, 65, 97, 93, 40, 11, 67, 99, 15, 42, 52, 47, 19, 79, 10, 72, 34, 64, 45, 34, 95, 49, 75, 76, 21, 79, 62, 12, 89, 16, 18, 94, 52, 60, 75, 39, 71, 33, 97, 96, 49, 45, 60, 65, 20]], [[76, 82, 64, 85, 95, 19, 92, 75, 71, 26, 97, 48, 39, 48, 90]]], lista_test [66, 41, 54, 4, 50, 70, 63, 38, 30, 31, 0, 88, 70, 86, 54, 63, 4, 38, 4, 70]'"
      ]
     },
     "metadata": {},
     "execution_count": 2
    }
   ],
   "source": [
    "entrenamiento_test  (100,20,15, S =False)"
   ]
  },
  {
   "cell_type": "code",
   "execution_count": 3,
   "metadata": {},
   "outputs": [],
   "source": [
    "import pandas as Pd\n",
    "import numpy as np\n",
    "import random\n",
    "from random import choice\n",
    "\n",
    "\n",
    "def entrenamiento_validacion_test (L,T,V, S =False):\n",
    "\n",
    "    L = [random.randint(0, 100) for _ in range(100)]\n",
    "        \n",
    "    list_test=[]\n",
    "    for i in range(T):\n",
    "        test = choice(L)\n",
    "        list_test.append(test)\n",
    "   \n",
    "    list_train = []\n",
    "    for i in L:\n",
    "        if i not in list_test:\n",
    "            list_train.append(i)\n",
    "        \n",
    "    list_val=[]\n",
    "    for i in range(V):\n",
    "        val = choice(list_train)\n",
    "        list_val.append(val)\n",
    "\n",
    "       \n",
    "    return (f'lista_train {list_train}, lista_validación {list_val}, lista_test {list_test}')\n",
    "\n"
   ]
  },
  {
   "cell_type": "code",
   "execution_count": 4,
   "metadata": {},
   "outputs": [
    {
     "output_type": "execute_result",
     "data": {
      "text/plain": [
       "'lista_train [21, 95, 45, 9, 9, 36, 62, 27, 99, 47, 57, 92, 48, 84, 26, 24, 100, 13, 49, 83, 24, 52, 2, 0, 12, 7, 49, 48, 75, 71, 52, 94, 46, 54, 26, 2, 9, 1, 45, 2, 56, 43, 24, 73, 96, 52, 96, 0, 99, 17, 36, 95, 99, 84, 13, 68, 77, 49, 55, 55, 13, 21, 58, 88, 54, 9, 34], lista_validación [96, 21, 9, 68, 17, 21, 24, 24, 62, 43, 62, 2, 36, 84, 2], lista_test [14, 40, 37, 35, 87, 29, 67, 63, 70, 81, 28, 23, 90, 82, 74, 69, 81, 25, 51, 40]'"
      ]
     },
     "metadata": {},
     "execution_count": 4
    }
   ],
   "source": [
    "entrenamiento_validacion_test (100,20,15, S =False)"
   ]
  },
  {
   "cell_type": "code",
   "execution_count": null,
   "metadata": {},
   "outputs": [],
   "source": []
  }
 ],
 "metadata": {
  "kernelspec": {
   "name": "python389jvsc74a57bd07980ba124835d5faa10419b5aaaaec0d5be537aa3d05dd29d745d0092f32015f",
   "display_name": "Python 3.8.9 64-bit"
  },
  "language_info": {
   "codemirror_mode": {
    "name": "ipython",
    "version": 3
   },
   "file_extension": ".py",
   "mimetype": "text/x-python",
   "name": "python",
   "nbconvert_exporter": "python",
   "pygments_lexer": "ipython3",
   "version": "3.8.9"
  },
  "metadata": {
   "interpreter": {
    "hash": "7980ba124835d5faa10419b5aaaaec0d5be537aa3d05dd29d745d0092f32015f"
   }
  }
 },
 "nbformat": 4,
 "nbformat_minor": 2
}