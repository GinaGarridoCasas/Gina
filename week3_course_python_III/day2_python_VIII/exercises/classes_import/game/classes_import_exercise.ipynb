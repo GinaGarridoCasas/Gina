{
 "metadata": {
  "language_info": {
   "codemirror_mode": {
    "name": "ipython",
    "version": 3
   },
   "file_extension": ".py",
   "mimetype": "text/x-python",
   "name": "python",
   "nbconvert_exporter": "python",
   "pygments_lexer": "ipython3",
   "version": "3.8.9"
  },
  "orig_nbformat": 2,
  "kernelspec": {
   "name": "python389jvsc74a57bd07980ba124835d5faa10419b5aaaaec0d5be537aa3d05dd29d745d0092f32015f",
   "display_name": "Python 3.8.9 64-bit"
  },
  "metadata": {
   "interpreter": {
    "hash": "7980ba124835d5faa10419b5aaaaec0d5be537aa3d05dd29d745d0092f32015f"
   }
  }
 },
 "nbformat": 4,
 "nbformat_minor": 2,
 "cells": [
  {
   "source": [
    "## 1\n",
    "\n",
    "Crea un archivo 'ClaseHumano.py' en la carpeta 'objects' que contenga una clase:\n",
    "\n",
    "* 'Humano' que tiene:\n",
    "    - Un atributo 'ojos' que por defecto es 2\n",
    "    - Un atributo 'piernas' que por defecto es 2\n",
    "    - Un atributo 'dientes' que por defecto es 32\n",
    "    - Un atributo 'nombre'\n",
    "    - Un atributo 'armadura' \n",
    "    - Un atributo 'nivel' \n",
    "    - Un atributo 'ataque'\n",
    "    - Un atributo 'salud' que por defecto es 100\n",
    "    - Una función  llamada 'atacar' que recibe un argumento 'orco' que representa otra clase ('Orco'). Esta función resta a la vida del 'Orco' el ataque de 'Humano' menos la armadura de 'Orco'. Al final, muestra por pantalla la vida del 'Orco'\n",
    "    - Una función no_vivo que retorna True si la vida del 'Humano' es igual o inferior a 0, False en otro caso.\n",
    "    - Una función que muestre por pantalla todos los atributos actuales de 'Humano' concatenados con un String representando el nombre del atributo que se muestra. Ejemplo: \"Nombre: Ataulfo | dientes: 32 | salud: 100 | ...\"\n",
    "\n",
    "Crea un archivo 'ClaseOrco.py' en la carpeta 'objects' que contenga una clase:\n",
    "\n",
    "* 'Orco' que tiene:\n",
    "    - Un atributo 'ojos' que por defecto es 2\n",
    "    - Un atributo 'piernas' que por defecto es 2\n",
    "    - Un atributo 'dientes' que por defecto es 56\n",
    "    - Un atributo 'nombre'\n",
    "    - Un atributo 'armadura' \n",
    "    - Un atributo 'nivel' \n",
    "    - Un atributo 'ataque'\n",
    "    - Un atributo 'salud' que por defecto es 100\n",
    "    - Una función  llamada 'atacar' que recibe un argumento 'humano' que representa otra clase ('Humano'). Esta función resta a la vida del 'Humano' el ataque de 'Orco' menos la armadura de 'Humano'. Al final, muestra por pantalla la vida del 'Humano'\n",
    "    - Una función no_vivo que retorna True si la vida del 'Humano' es igual o inferior a 0, False en otro caso.\n",
    "    - Una función que muestre por pantalla todos los atributos actuales de 'Orco' concatenados con un String representando el nombre del atributo que se muestra. Ejemplo: \"Nombre: Graug | dientes: 56 | salud: 100 | ...\"   "
   ],
   "cell_type": "markdown",
   "metadata": {}
  },
  {
   "source": [
    "## 2\n",
    "\n",
    "Desde aquí, importa las clases del ejercicio 1 (tendrás que utilizar sys.path para poder importar los archivos/módulos/librerías/ficheros). Crea una instancia de Humano/a y otra de Orco/a:\n",
    "\n",
    "* La clase Humano/a ha de inicializarse con los siguientes valores:\n",
    "    - nombre: tu nombre\n",
    "    - nivel: tu edad\n",
    "    - armadura: un número Entero que sea un décimo de tu nivel redondeado hacia abajo\n",
    "    - ataque: un número Entero que sea un quinto de tu nivel redondeado hacia abajo\n",
    "    - Todo lo demás por defecto.\n",
    "\n",
    "* La clase Orco/a ha de inicializarse con los siguientes valores:\n",
    "    - nombre: el nombre de tu compañero/a\n",
    "    - nivel: su edad\n",
    "    - armadura: un número Entero que sea un quinceavo de su nivel redondeado hacia arriba\n",
    "    - ataque: un número Entero que sea un sexto de su nivel redondeado hacia arriba\n",
    "    - Todo lo demás por defecto.\n"
   ],
   "cell_type": "markdown",
   "metadata": {}
  },
  {
   "cell_type": "code",
   "execution_count": 2,
   "metadata": {},
   "outputs": [
    {
     "output_type": "stream",
     "name": "stdout",
     "text": [
      "c:\\Users\\ggarr\\OneDrive\\Escritorio\\Data_Science\\The Bridge\\Gina\\week3_course_python_III\\day2_python_VIII\\exercises\\classes_import\\game\n Nombre: Gina | ojos: 2| dientes: 32 | piernas: 2 | armadura: 4 | nivel: 57 | salud: 100| ataque: 10\n"
     ]
    }
   ],
   "source": [
    "import os\n",
    "import sys\n",
    "\n",
    "ruta = os.getcwd() \n",
    "print(ruta)\n",
    "for i in range(2):\n",
    "\truta = os.path.dirname(ruta)\n",
    "\n",
    "sys.path.append(ruta)\n",
    "\n",
    "import classes_import.object.ClaseHumano as humano\n",
    "import classes_import.object.ClaseOrco as orco\n",
    "\n",
    "Gina = humano.Humano (nombre = \"Gina\", ataque = 10, nivel = 57, armadura = 4)\n",
    "\n",
    "Juan = orco.Orco (nombre = \"Juan\", ataque = 6, nivel = 38, armadura = 3)\n",
    "\n",
    "Gina.mostrar()\n",
    "\n",
    "\n",
    "\n"
   ]
  },
  {
   "source": [
    "## 3\n",
    "\n",
    "Crea un bucle infinito que espere en cada turno(Iteración) 1 segundo. Para ello has de utilizar la función 'sleep(1)' de la librería time. En cada uno de los turnos debe ocurrir lo siguiente:\n",
    "\n",
    "- Que se muestre por pantalla el número del turno que se lleva empezando desde 1.  \n",
    "- Que se ataquen las instancias. Para ello, has de llamar a la función 'atacar' de cada una de las instancias.\n",
    "- Comprobar si una instancia no está viva con la función correspondiente. Si una instancia no está viva, mostrar por pantalla que una de ellas ha perdido y la otra ha ganado. Terminar el juego aquí.\n",
    "- Mostrar al finalizar el turno una barra divisoria para diferenciar un turno del siguiente.\n",
    "\n",
    "Hay que tener en cuenta: \n",
    "\n",
    "- Una instancia no puede atacar a la otra si no está viva.\n",
    "- Empieza primero la instancia que tiene menos nivel."
   ],
   "cell_type": "markdown",
   "metadata": {}
  },
  {
   "cell_type": "code",
   "execution_count": 3,
   "metadata": {},
   "outputs": [
    {
     "output_type": "stream",
     "name": "stdout",
     "text": [
      "la vida restante del Gina es: 94\n",
      "la vida restante del Juan es: 90\n",
      "Turno 2 ------------\n",
      "la vida restante del Gina es: 88\n",
      "la vida restante del Juan es: 80\n",
      "Turno 3 ------------\n",
      "la vida restante del Gina es: 82\n",
      "la vida restante del Juan es: 70\n",
      "Turno 4 ------------\n",
      "la vida restante del Gina es: 76\n",
      "la vida restante del Juan es: 60\n",
      "Turno 5 ------------\n",
      "la vida restante del Gina es: 70\n",
      "la vida restante del Juan es: 50\n",
      "Turno 6 ------------\n",
      "la vida restante del Gina es: 64\n",
      "la vida restante del Juan es: 40\n",
      "Turno 7 ------------\n",
      "la vida restante del Gina es: 58\n",
      "la vida restante del Juan es: 30\n",
      "Turno 8 ------------\n",
      "la vida restante del Gina es: 52\n",
      "la vida restante del Juan es: 20\n",
      "Turno 9 ------------\n",
      "la vida restante del Gina es: 46\n",
      "la vida restante del Juan es: 10\n",
      "Turno 10 ------------\n",
      "la vida restante del Gina es: 40\n",
      "la vida restante del Juan es: 0\n",
      "Juan está muerto y Gina ha ganado\n"
     ]
    }
   ],
   "source": [
    "# Tu código aquí\n",
    "\n",
    "import time\n",
    "\n",
    "turno = 1\n",
    "while True:\n",
    "    if Juan.nivel < Gina.nivel:\n",
    "        Juan.atacar(Gina)\n",
    "        if Gina.novivo() == False:\n",
    "            Gina.atacar(Juan)\n",
    "    else:\n",
    "        Gina.atacar(Juan)\n",
    "        if Juan.novivo() == False:\n",
    "            Juan.atacar(Gina)\n",
    "\n",
    "    if Gina.novivo() == True: \n",
    "        print (\"Gina está muerta y Juan ha ganado\")\n",
    "        break\n",
    "    if Juan.novivo()== True:\n",
    "        print(\"Juan está muerto y Gina ha ganado\")\n",
    "        break\n",
    "      \n",
    "    time.sleep(1)\n",
    "    turno +=1\n",
    "\n",
    "    print (f\"Turno {turno} ------------\")\n",
    "    \n",
    "    \n",
    "   \n",
    "\n",
    "    \n",
    "\n",
    "\n"
   ]
  },
  {
   "cell_type": "code",
   "execution_count": null,
   "metadata": {},
   "outputs": [],
   "source": []
  }
 ]
}