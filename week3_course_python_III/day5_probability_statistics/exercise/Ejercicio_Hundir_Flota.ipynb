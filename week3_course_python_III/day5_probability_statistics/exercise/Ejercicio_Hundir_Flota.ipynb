{
 "cells": [
  {
   "cell_type": "markdown",
   "metadata": {},
   "source": [
    "# Ejercicio Hundir La Flota | Challenge yourself \n",
    "\n",
    "#### La fecha de entrega está limitada al próximo 16/05/2021"
   ]
  },
  {
   "cell_type": "markdown",
   "metadata": {},
   "source": [
    "En este ejercicio deberás programar el juego **hundir la flota** o [**batalla naval**](https://es.wikipedia.org/wiki/Batalla_naval_(juego)) "
   ]
  },
  {
   "cell_type": "markdown",
   "metadata": {},
   "source": [
    "El tablero de este juego será una matriz de 10x10 dimensiones, matriz sobre la que plamaremos el estado de cada turno. Cada matriz de información continente del estado en cada momento, se mostrará por pantalla."
   ]
  },
  {
   "cell_type": "markdown",
   "metadata": {},
   "source": [
    "![tablero](https://i.pinimg.com/474x/1c/66/ca/1c66ca8d767428dcd1c39285643f3987--yahoo-search.jpg)"
   ]
  },
  {
   "cell_type": "markdown",
   "metadata": {},
   "source": [
    "**Las reglas son las siguientes:**\n",
    "\n",
    "- Cada jugador deberá colocar en su tablero:\n",
    "    - 4 barcos tamaño 2x1. \n",
    "\n",
    "    - 3 barcos tamaño 3x1.\n",
    "\n",
    "    - 2 barcos tamaño 4x1.\n",
    "    \n",
    "    - 1 barco tamaño 5x1. \n",
    "    \n",
    "\n",
    "- En cada turno, el jugador correspondiente debe elegir una casilla de la matriz (10x10) y ambos jugadores marcarán la casilla en la matriz.\n",
    "- Si la casilla que se ha elegido es agua, será marcada como un una \"**o**\" y si la casilla que ha marcado es uno de los barcos, la casilla será marcada con una \"**x**\". \n",
    "- Los barcos han de ser mostrados con un \"__#__\" en la matriz. \n",
    "- Los espacios con agua serán mostrados como \" \" ó \"**~**\".\n",
    "\n",
    "Antes de que comience la partida, cada jugador deberá crear su estado inicial. El estado inicial es una configuración de la matriz con todos los barcos colocados. Para ello, el programa debería preguntar, uno a uno, dónde se quiere colocar cada barco. El estilo de pregunta, ha de ser: \n",
    "\n",
    "- Inserte la posición del barco 1 (2x1). El usuario ha de escribir si se quiere insertar en la 4a fila, en horizontal y ocupando las últimas dos columnas: `4h9:10`.\n",
    "- Inserte la posición del barco 2 (2x1). El usuario ha de escribir si se quiere insertar en la 8a fila, en horizontal y ocupando las dos primeras columnas: `8h1:2`.\n",
    "- Inserte la posición del barco 3 (5x1). Si se quiere colocar en vertical empezando por la fila 1 a la 5 y columna 8: `8v1:5`.\n",
    "\n",
    "También tendrás la opción de cargar una partida anteriormente definida en formato [JSON](https://www.w3schools.com/python/python_json.asp).\n",
    "\n",
    "Para saber quién empieza a jugar, los jugadores deberán ponerse de acuerdo para que uno de ellos sea el que llame a una función que devuelva dos valores random del 1 al 6, de tipo entero. El primer valor que se muestre por pantalla será el correspondiente al jugador que llama a la función, el segundo será el del contrincante. Quien saque un valor más alto, empieza. \n",
    "\n",
    "Además, el programa guardará el nombre de los jugadores y el histórico, es decir, todos los estados de la partida. Para ello se utilizará el formato JSON.\n",
    "\n",
    "Cuando un jugador haya creado su estado inicial, este estado también deberá ser guardado en formato JSON. Antes de que se inicie la partida, el otro jugador deberá cargar tu estado inicial y tú el suyo. El estado inicial del enemigo es el que usará tu programa para comprobar si las coordenadas que has utilizado han acertado en el blanco o no. \n",
    "\n",
    "El formato de preguntas por turno es: \n",
    "\n",
    "- `Inserte coordenadas a atacar:`. La respuesta válida será `0x8` --> fila 0, columna 8. \n",
    "\n",
    "Una vez insertada las coordenadas, deberá resultar que aparezcan tu matriz y la matriz de estado de tu enemigo, esta última con la nueva coordenada marcada sin la flota excepto si el torpedo hubiera dado en el blanco. "
   ]
  },
  {
   "cell_type": "markdown",
   "metadata": {},
   "source": [
    "**A modo de resumen:**\n",
    "\n",
    "1. Se eligen los nombres de jugador. ¡Recuerda no dejar espacios!\n",
    "\n",
    "2. Se pregunta sobre las posiciones de tu flota. Una vez que se haya definido, el sistema debe guardar en JSON el estado de tu flota. OPCIONAL: Puedes cargar una partida a partir de un fichero JSON.\n",
    "\n",
    "3. Se carga el estado inicial de tu enemigo a partir de un fichero JSON que te habrá definido previamente. El fichero estará en una carpeta llamada \"Partidas_Batalla_Naval\". Para cargar el fichero se debe introducir la ruta o nombre del fichero. \n",
    "\n",
    "4. Cuando ambos estéis en el mismo punto y se sepa quién es el primero, se debe escribir *primero* o *segundo*. Si eres primero, el sistema empezará preguntándote las coordenadas. Si eres segundo, el sistema preguntará por las coordenadas del rival. \n",
    "\n",
    "5. Se debe mostrar por pantalla dos matrices: una matriz 10x10 que representa los puntos que has ido marcando, que no mostrará la flota del enemigo excepto si algún barco ha sido dañado, y otra a la derecha que muestre tu flota con los puntos que hayan sido atacados por parte del contrincante. \n",
    "\n",
    "6. Cuando toda la flota de uno de los dos jugadores haya sido exterminada, se mostrará el ganador de la partida. Que si has sido tú el que ha programado este juego, ya habrás ganado incluso antes de empezar a jugar. "
   ]
  },
  {
   "source": [
    "----------------------------------------------------\n",
    "\n",
    "Hay dos tipos de bonus:\n",
    "\n",
    "1. Hacer todo usando clases. Como mínimo, crear una clase \"Barco\" y \"Tablero\"\n",
    "2. Toda la parte del JSON es un Bonus extra plus ++ con el objetivo de que se pueda cargar una partida con una configuración predeterminada. De esta forma, podrías configurar una estructura de barcos y que alguien juegue contra ti en su ordenador con esa estructura.\n",
    "3. ¿Habéis acabado todo esto antes de la fecha? Habla con los profesores :=) \n",
    "----------------------------------------------------"
   ],
   "cell_type": "markdown",
   "metadata": {}
  },
  {
   "cell_type": "markdown",
   "metadata": {},
   "source": [
    "Hay que programar este juego en varios archivos `.py` de modo que puedas ejecutar dicho programa por la terminal desde cualquier dispositivo. "
   ]
  },
  {
   "cell_type": "code",
   "execution_count": 9,
   "metadata": {},
   "outputs": [
    {
     "output_type": "stream",
     "name": "stdout",
     "text": [
      "['1A', '1B', '1C', '1D', '1E', '1F', '1G', '1H', '1I', '1J', '2A', '2B', '2C', '2D', '2E', '2F', '2G', '2H', '2I', '2J', '3A', '3B', '3C', '3D', '3E', '3F', '3G', '3H', '3I', '3J', '4A', '4B', '4C', '4D', '4E', '4F', '4G', '4H', '4I', '4J', '5A', '5B', '5C', '5D', '5E', '5F', '5G', '5H', '5I', '5J', '6A', '6B', '6C', '6D', '6E', '6F', '6G', '6H', '6I', '6J', '7A', '7B', '7C', '7D', '7E', '7F', '7G', '7H', '7I', '7J', '8A', '8B', '8C', '8D', '8E', '8F', '8G', '8H', '8I', '8J', '9A', '9B', '9C', '9D', '9E', '9F', '9G', '9H', '9I', '9J', '10A', '10B', '10C', '10D', '10E', '10F', '10G', '10H', '10I', '10J']\n"
     ]
    }
   ],
   "source": [
    "# keep calm and keep coding\n",
    "# filas y columnas del tablero\n",
    "Filas = [\"1\", \"2\", \"3\", \"4\", \"5\", \"6\", \"7\", \"8\", \"9\",\"10\"]\n",
    "Columnas = [\"A\", \"B\", \"C\", \"D\",\"E\",\"F\",\"G\",\"H\",\"I\", \"J\"]\n",
    "\n",
    "# Creo una lista con todos las posibilidades del tablero. tablero\n",
    "\n",
    "tablero = []\n",
    "for i in Filas:\n",
    "    for j in Columnas:\n",
    "        tablero.append(i + j)\n",
    "        \n",
    "print (tablero)\n",
    "\n",
    " \n",
    "\n"
   ]
  },
  {
   "cell_type": "code",
   "execution_count": 2,
   "metadata": {},
   "outputs": [
    {
     "output_type": "stream",
     "name": "stdout",
     "text": [
      "    1   2   3   4   5   6   7   8   9  10\nA NaN NaN NaN NaN NaN NaN NaN NaN NaN NaN\nB NaN NaN NaN NaN NaN NaN NaN NaN NaN NaN\nC NaN NaN NaN NaN NaN NaN NaN NaN NaN NaN\nD NaN NaN NaN NaN NaN NaN NaN NaN NaN NaN\nE NaN NaN NaN NaN NaN NaN NaN NaN NaN NaN\nF NaN NaN NaN NaN NaN NaN NaN NaN NaN NaN\nG NaN NaN NaN NaN NaN NaN NaN NaN NaN NaN\nH NaN NaN NaN NaN NaN NaN NaN NaN NaN NaN\nI NaN NaN NaN NaN NaN NaN NaN NaN NaN NaN\nJ NaN NaN NaN NaN NaN NaN NaN NaN NaN NaN\n"
     ]
    }
   ],
   "source": [
    "#Crear el tablero con una matriz de 10 x 10\n",
    "\n",
    "import numpy as np\n",
    "\n",
    "matriz = np.full((10,10), 0)\n",
    "\n",
    "import pandas as pd\n",
    "\n",
    "tablero = pd.DataFrame(matriz, columns = [\"1\", \"2\", \"3\", \"4\", \"5\", \"6\", \"7\", \"8\", \"9\", \"10\"])\n",
    "\n",
    "# variar el nombre de las filas\n",
    "tablero.index \n",
    "tablero_1 = pd.DataFrame(tablero, index = [\"A\", \"B\", \"C\", \"D\",\"E\",\"F\",\"G\",\"H\",\"I\", \"J\"])\n",
    "print (tablero_1)\n",
    "\n",
    "# cambiar el valor de los NaN (valores perdidos, casillas vacías, en blanco)\n",
    "# tablero_1.fillna(0)"
   ]
  },
  {
   "cell_type": "code",
   "execution_count": null,
   "metadata": {},
   "outputs": [],
   "source": [
    "# Estado inicial. Selección de casillas en las que cada jugador coloca sus barcos\n",
    "# Crear una lista por cada barco seleccionado\n",
    "\n",
    "\n",
    "# HAY QUE ASEGURAR:\n",
    "    # que no se repite la misma casilla\n",
    "    # que no se introduce de forma errónea las letras que la definen: v, h\n",
    "    # que se coloca correctamente el formato para identificar la casilla 8v9:10 (barco de 2x1), 4h5:8 (barco de 3x1)\n",
    "\n",
    "\n",
    "\n",
    "\n",
    "# 4 barcos tamaño 2x1.\n",
    "\n",
    "DosUnoUno = []\n",
    "for x in range(2):\n",
    "    FilaColumna = input('Inserte la posición del barco: ')  # entrada de cadena\n",
    "    DosUnoUno.append(FilaColumna)\n",
    "\n",
    "\n",
    "DosUnoUno = []\n",
    "for x in range(2):\n",
    "    FilaColumna = input('Inserte la posición del barco: ')  # entrada de cadena\n",
    "    DosUnoUno.append(FilaColumna)\n",
    "\n",
    "DosUnoDos = []\n",
    "for x in range(2):\n",
    "    FilaColumna = input('Teclear la fila y columna: ')  # entrada de cadena\n",
    "    DosUnoDos.append(FilaColumna)\n",
    "\n",
    "DosUnoTres = []\n",
    "for x in range(2):\n",
    "    FilaColumna = input('Teclear la fila y columna: ')  # entrada de cadena\n",
    "    DosUnoTres.append(FilaColumna)\n",
    "\n",
    "DosUnoCuatro = []\n",
    "for x in range(2):\n",
    "    FilaColumna = input('Teclear la fila y columna: ')  # entrada de cadena\n",
    "    DosUnoCuatro.append(FilaColumna)\n",
    "\n",
    "DosUno = DosUnoUno + DosUnoDos + DosUnoTres + DosUnoCuatro\n",
    "print (DosUno)\n",
    "\n",
    "#3 barcos tamaño 3x1.\n",
    "\n",
    "TresUnoUno = []\n",
    "for x in range(3):\n",
    "    FilaColumna = input('Teclear la fila y columna: ')  # entrada de cadena\n",
    "    TresUnoUno.append(FilaColumna)\n",
    "\n",
    "TresUnoDos = []\n",
    "for x in range(3):\n",
    "    FilaColumna = input('Teclear la fila y columna: ')  # entrada de cadena\n",
    "    TresUnoDos.append(FilaColumna)\n",
    "\n",
    "TresUnoTres = []\n",
    "for x in range(3):\n",
    "    FilaColumna = input('Teclear la fila y columna: ')  # entrada de cadena\n",
    "    TresUnoTres.append(FilaColumna)\n",
    "\n",
    "TresUno = TresUnoUno + TresUnoDos + TresUnoTres\n",
    "print (TresUno)\n",
    "\n",
    "# 2 barcos tamaño 4x1.\n",
    "\n",
    "CuatroUnoUno = []\n",
    "for x in range(4):\n",
    "    FilaColumna = input('Teclear la fila y columna: ')  # entrada de cadena\n",
    "    CuatroUnoUno.append(FilaColumna)\n",
    "\n",
    "CuatroUnoDos = []\n",
    "for x in range(4):\n",
    "    FilaColumna = input('Teclear la fila y columna: ')  # entrada de cadena\n",
    "    CuatroUnoDos.append(FilaColumna)\n",
    "\n",
    "CuatroUno = CuatroUnoUno + CuatroUnoDos\n",
    "print (CuatroUno)\n",
    "\n",
    "# 1 barco tamaño 5x1.\n",
    "\n",
    "CincoUno = []\n",
    "for x in range(5):\n",
    "    FilaColumna = input('Teclear la fila y columna: ')  # entrada de cadena\n",
    "    CincoUno.append(FilaColumna)\n",
    "\n",
    "# crear una única lista a partir de las listas de los barcos seleccionados\n",
    "\n",
    "tablero_barcos = DosUno + TresUno + CuatroUno + CincoUno\n",
    "print (tablero_barcos)\n"
   ]
  },
  {
   "cell_type": "code",
   "execution_count": 29,
   "metadata": {},
   "outputs": [
    {
     "output_type": "execute_result",
     "data": {
      "text/plain": [
       "    0   1     2     3\n",
       "0  2A  2B  None  None\n",
       "1  1B  1C  None  None\n",
       "2  9D  9E    9F    9G"
      ],
      "text/html": "<div>\n<style scoped>\n    .dataframe tbody tr th:only-of-type {\n        vertical-align: middle;\n    }\n\n    .dataframe tbody tr th {\n        vertical-align: top;\n    }\n\n    .dataframe thead th {\n        text-align: right;\n    }\n</style>\n<table border=\"1\" class=\"dataframe\">\n  <thead>\n    <tr style=\"text-align: right;\">\n      <th></th>\n      <th>0</th>\n      <th>1</th>\n      <th>2</th>\n      <th>3</th>\n    </tr>\n  </thead>\n  <tbody>\n    <tr>\n      <th>0</th>\n      <td>2A</td>\n      <td>2B</td>\n      <td>None</td>\n      <td>None</td>\n    </tr>\n    <tr>\n      <th>1</th>\n      <td>1B</td>\n      <td>1C</td>\n      <td>None</td>\n      <td>None</td>\n    </tr>\n    <tr>\n      <th>2</th>\n      <td>9D</td>\n      <td>9E</td>\n      <td>9F</td>\n      <td>9G</td>\n    </tr>\n  </tbody>\n</table>\n</div>"
     },
     "metadata": {},
     "execution_count": 29
    }
   ],
   "source": [
    "tablero_barcos = [[\"2A\", \"2B\"], [\"1B\", \"1C\"], [\"9D\", \"9E\",\"9F\", \"9G\"]]\n",
    "\n",
    "import pandas as pd\n",
    "\n",
    "barcos = pd.DataFrame(tablero_barcos)\n",
    "barcos\n",
    "\n",
    "# NO SIRVE\n"
   ]
  },
  {
   "cell_type": "code",
   "execution_count": null,
   "metadata": {},
   "outputs": [],
   "source": [
    "# asignar a la lista de casillas de los barcos seleccionados sin son agua o barco\n",
    "# a es la lista con el total de las casillas del tablero. tablero\n",
    "# b es la lista con las casillas seleccionadas de barcos. tablero_barcos\n",
    "\n",
    "tablero_agua_barco = []\n",
    "for i, elem in enumerate (tablero):\n",
    "    if elem in tablero_barcos:\n",
    "       tablero_agua_barco.append(\"#\")\n",
    "    elif elem not in tablero_barcos:\n",
    "       tablero_agua_barco.append(\"\") \n",
    "\n",
    "print (tablero_agua_barco)\n",
    "    \n",
    "# Para asociar cada uno de los nombres de las casillas del tablero a agua o barco. Creo un diccionario en el que las claves corresponden a los elementos del tablero vacio y los valores al tablero con los símbolos de barco y agua\n",
    "\n",
    "dicc_agua_barco = dict(zip(tablero, tablero_agua_barcos))\n",
    "\n",
    "\n"
   ]
  },
  {
   "cell_type": "code",
   "execution_count": null,
   "metadata": {},
   "outputs": [],
   "source": [
    "# selección de casillas del jugador\n",
    "#dicc_agua_barco: diccionario en el que a cada nombre de casilla le corresponde un símbolo asociado a barco o agua. Cuando el jugador dé una clave se modificará el símbolo de barco o agua por \"x\" o \"o\"\n",
    "\n",
    "    if dicc_agua_barco[key] == \"#\":\n",
    "        dicc_agua_barco[key] = \"x\"\n",
    "    elif dicc_agua_barco[key] == \"\":\n",
    "        dicc_agua_barco[key] = \"o\" \n",
    "\n",
    "\n",
    "# crear una matriz con "
   ]
  },
  {
   "cell_type": "code",
   "execution_count": 12,
   "metadata": {},
   "outputs": [
    {
     "output_type": "stream",
     "name": "stdout",
     "text": [
      "3\n2\n"
     ]
    },
    {
     "output_type": "execute_result",
     "data": {
      "text/plain": [
       "'Comienza el jugador que llama la función'"
      ]
     },
     "metadata": {},
     "execution_count": 12
    }
   ],
   "source": [
    "# Para saber quién empieza a jugar, los jugadores deberán ponerse de acuerdo para que uno de ellos sea el que llame a una función que devuelva dos valores random del 1 al 6, de tipo entero. El primer valor que se muestre por pantalla será el correspondiente al jugador que llama a la función, el segundo será el del contrincante. Quien saque un valor más alto, empieza.\n",
    "\n",
    "def inicio_juego():\n",
    "    import random\n",
    "\n",
    "    x = random.randint(1, 6)\n",
    "    print (x)\n",
    "    y = random.randint (1,6)\n",
    "    print (y)\n",
    "\n",
    "    if x > y:\n",
    "        return 'Comienza el jugador que llama la función'\n",
    "    elif x == y:\n",
    "        return \"vuelve a solicitar dos números aleatorios\"\n",
    "\n",
    "    else:\n",
    "        return'Comienza el contrincante'\n",
    "\n",
    "inicio_juego()\n"
   ]
  },
  {
   "cell_type": "code",
   "execution_count": null,
   "metadata": {},
   "outputs": [],
   "source": [
    "# el primer jugador selecciona una casilla. Alternativamente cada uno de ellos seleccionan casillas y se les informa si es barco o agua. Cuando no queden casillas de barcos se termina la jugada\n",
    "\n",
    "import time\n",
    "\n",
    "turno = 1\n",
    "while True:\n",
    "    jugador_1 = []\n",
    "    FilaColumna = input('Inserte coordenadas a atacar:')\n",
    "    print (f'{FilaColumna} --> fila {FilaColumna[0]}, columna {FilaColumna[1]}')\n",
    "    jugador_1.append(FilaColumna)\n",
    "    for i in jugador_1:\n",
    "        if i in dicc_agua_barco.keys():\n",
    "            if dicc_agua_barco[i] == \"#\":\n",
    "                dicc_agua_barco[i] == \"x\"\n",
    "            elif dicc_agua_barco[i] == \"\":\n",
    "                dicc_agua_barco[i] == \"o\"\n",
    "\n",
    "# COMO FINALIZAR LA PARTIDA. CUANDO NO QUEDEN \"#\" PORQUE SE HAYAN SUSTITUIDO POR \"x\" EN TODOS LOS CASOS     \n",
    "    if         :    \n",
    "        print (\"la partida ha terminado. El ganador es: jugador_1\")\n",
    "        break\n",
    "    \n",
    "    jugador_2 = []\n",
    "    FilaColumna = input('Inserte coordenadas a atacar:')\n",
    "    print (f'{FilaColumna} --> fila {FilaColumna[0]}, columna {FilaColumna[1]}')\n",
    "    jugador_2.append(FilaColumna)\n",
    "    for i in jugador_1:\n",
    "        if i in dicc_agua_barco.keys():\n",
    "            if dicc_agua_barco[i] == \"#\":\n",
    "                del dicc_agua_barco[i]\n",
    "\n",
    "\n",
    "    print (f\"Turno {turno} ------------\")\n",
    "    \n",
    "    time.sleep(1)\n",
    "    turno +=1\n",
    "\n",
    "  \n",
    "\n",
    "\n",
    "\n",
    "   \n"
   ]
  },
  {
   "cell_type": "code",
   "execution_count": null,
   "metadata": {},
   "outputs": [],
   "source": [
    "import json\n"
   ]
  }
 ],
 "metadata": {
  "file_extension": ".py",
  "kernelspec": {
   "name": "python389jvsc74a57bd07980ba124835d5faa10419b5aaaaec0d5be537aa3d05dd29d745d0092f32015f",
   "display_name": "Python 3.8.9 64-bit"
  },
  "language_info": {
   "codemirror_mode": {
    "name": "ipython",
    "version": 3
   },
   "file_extension": ".py",
   "mimetype": "text/x-python",
   "name": "python",
   "nbconvert_exporter": "python",
   "pygments_lexer": "ipython3",
   "version": "3.8.9"
  },
  "mimetype": "text/x-python",
  "name": "python",
  "npconvert_exporter": "python",
  "pygments_lexer": "ipython3",
  "version": 3,
  "metadata": {
   "interpreter": {
    "hash": "7980ba124835d5faa10419b5aaaaec0d5be537aa3d05dd29d745d0092f32015f"
   }
  }
 },
 "nbformat": 4,
 "nbformat_minor": 4
}