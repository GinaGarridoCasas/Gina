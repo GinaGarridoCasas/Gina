{
 "cells": [
  {
   "cell_type": "markdown",
   "metadata": {
    "id": "BuQ4CAHwm9h5"
   },
   "source": [
    "# Python | object oriented programming"
   ]
  },
  {
   "cell_type": "markdown",
   "metadata": {
    "id": "FxPBIJLgm9iA"
   },
   "source": [
    "#### ¡Practice what you already know and keep learning!"
   ]
  },
  {
   "cell_type": "markdown",
   "metadata": {
    "id": "mk5uo_y1m9iB"
   },
   "source": [
    "![\"con_clase\"](https://cdn.ttgtmedia.com/rms/onlineimages/whatis-object_oriented_programming_half_column_mobile.png)"
   ]
  },
  {
   "cell_type": "markdown",
   "metadata": {
    "id": "I8XXMNCmm9iC"
   },
   "source": [
    "https://realpython.com/python3-object-oriented-programming/"
   ]
  },
  {
   "cell_type": "markdown",
   "metadata": {
    "id": "IvEq9-fkm9iD"
   },
   "source": [
    "## Exercise 1. "
   ]
  },
  {
   "cell_type": "markdown",
   "metadata": {
    "id": "1ZuDAWtPm9iE"
   },
   "source": [
    "A friend of yours have asked you to define a class so they can use it at the Natural History Museum in London in order to describe dinosaurs. \n",
    "\n",
    "Since you have no idea about dinosaurs he has given you a couple of instructions:\n",
    "\n",
    "   - Dinosaurs have four attributes all along the whole kind:\n",
    "        - They all have teeth, although every one of them have a different number of those\n",
    "        - Special skills which will be an empty list \n",
    "        - He finds interesting to specify if they are dangerous with a boolean, he also told you to set it False since usually they are very nice \n",
    "        - All of them have an only head\n",
    "        \n",
    "        \n",
    "   - Define also a couple of methods:\n",
    "   \n",
    "       - `many_teeth` --> number of teeth gives you a clue of how old the dinosaurs are, that's why it could be interesting to be able to change the number of teeth they have.\n",
    "       - `add_skill` --> this method add skills to each dinosaurs instance. \n",
    "       - `is_dangerous` --> not all of the dinosaurs are nice, some of them are a little bit dangerous and could attacks you, with this method you should be able to change the boolean set. Make sure, using `if`, the argument is always a boolean, if not print something like \"Remember you should give a boolean, True or False?\"\n"
   ]
  },
  {
   "cell_type": "code",
   "execution_count": 8,
   "metadata": {
    "id": "vO98GInMm9iG"
   },
   "outputs": [],
   "source": [
    "# define a class Dinosaur\n",
    "class Dinosaur():\n",
    "    def __init__(self, teeth, skills = [], dangerous = False, head=1):\n",
    "        self.teeth = teeth\n",
    "        self.skills = skills\n",
    "        self.dangerous = dangerous\n",
    "        self. head = head\n",
    "\n",
    "\n",
    "    def many_teeth(self):\n",
    "        \n",
    "        number_teeth = input(\"number of teeth\")\n",
    "        self.teeth = number_teeth\n",
    "        return self.teeth\n",
    "    \n",
    "    def add_skills(self, habil):\n",
    "        self.skills.append(habil)\n",
    "        return skills\n",
    "\n",
    "    def is_dangerous(self, a):\n",
    "        if a == True:\n",
    "            self.dangerous = True\n",
    "            return True\n",
    "        else:\n",
    "            self.dangerous = False\n",
    "            return False\n",
    "    \n",
    "    def mostrar_atributos(self):\n",
    "        print(\"Teeth:\", self.teeth)\n",
    "\n",
    "\n",
    "\n",
    "\n",
    "\n",
    "\n",
    "\n"
   ]
  },
  {
   "cell_type": "markdown",
   "metadata": {
    "id": "2bdz2TUBm9iG"
   },
   "source": [
    "Once you have the class Dinosaur and its methods defined, create an instance **tyrannosaurus**. Your friend has told you that Tyrannosaurus rex had 50 to 60 solid cone-shaped teeth as big as bananas. Set the number of teeth as 60 since you will have the opportunity of changing it later using the method `many_teeth`. "
   ]
  },
  {
   "cell_type": "code",
   "execution_count": 9,
   "metadata": {
    "id": "5jH0onglm9iH"
   },
   "outputs": [
    {
     "output_type": "stream",
     "name": "stdout",
     "text": [
      "60\n[]\n"
     ]
    }
   ],
   "source": [
    "# create an Tyrannosaurus rex with 60 teeth\n",
    "tyrannosaurus = Dinosaur(teeth=60)\n",
    "print (tyrannosaurus.teeth)\n",
    "print (tyrannosaurus.skills)"
   ]
  },
  {
   "cell_type": "code",
   "execution_count": 10,
   "metadata": {},
   "outputs": [
    {
     "output_type": "stream",
     "name": "stdout",
     "text": [
      "Teeth: 60\n"
     ]
    }
   ],
   "source": [
    "tyrannosaurus.mostrar_atributos()"
   ]
  },
  {
   "cell_type": "markdown",
   "metadata": {
    "id": "AYggIHH3m9iH"
   },
   "source": [
    "Tyrannosaurus rex are the most dangerous dinosaurs so please, use the method `is_dangerous` with the argument \"yes, it is dangerous\", to set this up. It should return a message telling you to give a boolean, True or False, instead of the string you used as argument. "
   ]
  },
  {
   "cell_type": "code",
   "execution_count": 19,
   "metadata": {
    "id": "AAGTApnZm9iH"
   },
   "outputs": [
    {
     "output_type": "error",
     "ename": "TypeError",
     "evalue": "is_dangerous() missing 1 required positional argument: 'a'",
     "traceback": [
      "\u001b[1;31m---------------------------------------------------------------------------\u001b[0m",
      "\u001b[1;31mTypeError\u001b[0m                                 Traceback (most recent call last)",
      "\u001b[1;32m<ipython-input-19-05451ed29d12>\u001b[0m in \u001b[0;36m<module>\u001b[1;34m\u001b[0m\n\u001b[0;32m      1\u001b[0m \u001b[1;31m# call is_dangerous method saying \"yes, it is dangerous\"\u001b[0m\u001b[1;33m\u001b[0m\u001b[1;33m\u001b[0m\u001b[1;33m\u001b[0m\u001b[0m\n\u001b[1;32m----> 2\u001b[1;33m \u001b[0mDinosaur\u001b[0m\u001b[1;33m.\u001b[0m\u001b[0mis_dangerous\u001b[0m\u001b[1;33m(\u001b[0m\u001b[1;34m\"yes, it is dangerous\"\u001b[0m\u001b[1;33m)\u001b[0m\u001b[1;33m\u001b[0m\u001b[1;33m\u001b[0m\u001b[0m\n\u001b[0m",
      "\u001b[1;31mTypeError\u001b[0m: is_dangerous() missing 1 required positional argument: 'a'"
     ]
    }
   ],
   "source": [
    "# call is_dangerous method saying \"yes, it is dangerous\"\n",
    "tyrannosaurus.is_dangerous(\"yes, it is dangerous\")"
   ]
  },
  {
   "cell_type": "markdown",
   "metadata": {
    "id": "2fVZ77J-m9iI"
   },
   "source": [
    "Good try! But you need to set this with a boolean. Since tyrannosaurus rex are dangerous give True as an argument to the method `is_dangerous`."
   ]
  },
  {
   "cell_type": "code",
   "execution_count": 20,
   "metadata": {
    "id": "zmsAIyp6m9iI"
   },
   "outputs": [
    {
     "output_type": "error",
     "ename": "TypeError",
     "evalue": "is_dangerous() missing 1 required positional argument: 'a'",
     "traceback": [
      "\u001b[1;31m---------------------------------------------------------------------------\u001b[0m",
      "\u001b[1;31mTypeError\u001b[0m                                 Traceback (most recent call last)",
      "\u001b[1;32m<ipython-input-20-288fcb7e6bed>\u001b[0m in \u001b[0;36m<module>\u001b[1;34m\u001b[0m\n\u001b[0;32m      1\u001b[0m \u001b[1;31m# call is_dangerous method with True as an argument\u001b[0m\u001b[1;33m\u001b[0m\u001b[1;33m\u001b[0m\u001b[1;33m\u001b[0m\u001b[0m\n\u001b[1;32m----> 2\u001b[1;33m \u001b[0mDinosaur\u001b[0m\u001b[1;33m.\u001b[0m\u001b[0mis_dangerous\u001b[0m\u001b[1;33m(\u001b[0m\u001b[1;32mTrue\u001b[0m\u001b[1;33m)\u001b[0m\u001b[1;33m\u001b[0m\u001b[1;33m\u001b[0m\u001b[0m\n\u001b[0m",
      "\u001b[1;31mTypeError\u001b[0m: is_dangerous() missing 1 required positional argument: 'a'"
     ]
    }
   ],
   "source": [
    "# call is_dangerous method with True as an argument\n",
    "Dinosaur.is_dangerous(True)"
   ]
  },
  {
   "cell_type": "markdown",
   "metadata": {
    "id": "sKf-Ear1m9iI"
   },
   "source": [
    "Set \"lethality\" as an special skill of the tyrannosaurus rex using the `add_skill` method. "
   ]
  },
  {
   "cell_type": "code",
   "execution_count": 21,
   "metadata": {
    "id": "G53h3xq6m9iI"
   },
   "outputs": [
    {
     "output_type": "error",
     "ename": "NameError",
     "evalue": "name 'lethality' is not defined",
     "traceback": [
      "\u001b[1;31m---------------------------------------------------------------------------\u001b[0m",
      "\u001b[1;31mNameError\u001b[0m                                 Traceback (most recent call last)",
      "\u001b[1;32m<ipython-input-21-3e2ba10fc5b3>\u001b[0m in \u001b[0;36m<module>\u001b[1;34m\u001b[0m\n\u001b[0;32m      1\u001b[0m \u001b[1;31m# give lethality as an argument to the method add_skill\u001b[0m\u001b[1;33m\u001b[0m\u001b[1;33m\u001b[0m\u001b[1;33m\u001b[0m\u001b[0m\n\u001b[1;32m----> 2\u001b[1;33m \u001b[0mDinosaur\u001b[0m\u001b[1;33m.\u001b[0m\u001b[0madd_skills\u001b[0m\u001b[1;33m(\u001b[0m\u001b[0mlethality\u001b[0m\u001b[1;33m)\u001b[0m\u001b[1;33m\u001b[0m\u001b[1;33m\u001b[0m\u001b[0m\n\u001b[0m",
      "\u001b[1;31mNameError\u001b[0m: name 'lethality' is not defined"
     ]
    }
   ],
   "source": [
    "# give lethality as an argument to the method add_skill\n",
    "Dinosaur.add_skills(lethality)"
   ]
  },
  {
   "cell_type": "markdown",
   "metadata": {
    "id": "eSbRsbgLm9iJ"
   },
   "source": [
    "Show its `special_skill` to make sure you add the skill as expected."
   ]
  },
  {
   "cell_type": "code",
   "execution_count": 22,
   "metadata": {
    "id": "0Ae44O1Gm9iJ"
   },
   "outputs": [
    {
     "output_type": "error",
     "ename": "NameError",
     "evalue": "name 'skills' is not defined",
     "traceback": [
      "\u001b[1;31m---------------------------------------------------------------------------\u001b[0m",
      "\u001b[1;31mNameError\u001b[0m                                 Traceback (most recent call last)",
      "\u001b[1;32m<ipython-input-22-edc408cca440>\u001b[0m in \u001b[0;36m<module>\u001b[1;34m\u001b[0m\n\u001b[0;32m      1\u001b[0m \u001b[1;31m# show its special_skill\u001b[0m\u001b[1;33m\u001b[0m\u001b[1;33m\u001b[0m\u001b[1;33m\u001b[0m\u001b[0m\n\u001b[1;32m----> 2\u001b[1;33m \u001b[0mskills\u001b[0m\u001b[1;33m\u001b[0m\u001b[1;33m\u001b[0m\u001b[0m\n\u001b[0m",
      "\u001b[1;31mNameError\u001b[0m: name 'skills' is not defined"
     ]
    }
   ],
   "source": [
    "# show its special_skill \n",
    "skills"
   ]
  },
  {
   "cell_type": "markdown",
   "metadata": {
    "id": "fBytzaNfm9iK"
   },
   "source": [
    "If you could add \"lethality\" to the tyrannosaurus special skills, let's try now adding \"strength\"."
   ]
  },
  {
   "cell_type": "code",
   "execution_count": 23,
   "metadata": {
    "id": "ctA3qtr6m9iK"
   },
   "outputs": [
    {
     "output_type": "error",
     "ename": "NameError",
     "evalue": "name 'add_skills' is not defined",
     "traceback": [
      "\u001b[1;31m---------------------------------------------------------------------------\u001b[0m",
      "\u001b[1;31mNameError\u001b[0m                                 Traceback (most recent call last)",
      "\u001b[1;32m<ipython-input-23-e3c6300d38d6>\u001b[0m in \u001b[0;36m<module>\u001b[1;34m\u001b[0m\n\u001b[0;32m      1\u001b[0m \u001b[1;31m# add strength to the list of special_skill\u001b[0m\u001b[1;33m\u001b[0m\u001b[1;33m\u001b[0m\u001b[1;33m\u001b[0m\u001b[0m\n\u001b[1;32m----> 2\u001b[1;33m \u001b[0madd_skills\u001b[0m\u001b[1;33m(\u001b[0m\u001b[0mself\u001b[0m\u001b[1;33m,\u001b[0m \u001b[0mstrenght\u001b[0m\u001b[1;33m)\u001b[0m\u001b[1;33m\u001b[0m\u001b[1;33m\u001b[0m\u001b[0m\n\u001b[0m",
      "\u001b[1;31mNameError\u001b[0m: name 'add_skills' is not defined"
     ]
    }
   ],
   "source": [
    "# add strength to the list of special_skill\n",
    "add_skills(self, strenght)"
   ]
  },
  {
   "cell_type": "markdown",
   "metadata": {
    "id": "qz5Nw6cEm9iK"
   },
   "source": [
    "Now, you know a lot about tyrannosaurus rex and found out the most of them lose some teeth due to their diet during their life, so 50 teeth should be more realistic. Use `many_teeth` method. "
   ]
  },
  {
   "cell_type": "code",
   "execution_count": 25,
   "metadata": {
    "id": "z1bdi52Im9iK"
   },
   "outputs": [
    {
     "output_type": "error",
     "ename": "AttributeError",
     "evalue": "'int' object has no attribute 'teeth'",
     "traceback": [
      "\u001b[1;31m---------------------------------------------------------------------------\u001b[0m",
      "\u001b[1;31mAttributeError\u001b[0m                            Traceback (most recent call last)",
      "\u001b[1;32m<ipython-input-25-ad428e90d9a0>\u001b[0m in \u001b[0;36m<module>\u001b[1;34m\u001b[0m\n\u001b[0;32m      1\u001b[0m \u001b[1;31m# set 50 teeth as the number of teeth\u001b[0m\u001b[1;33m\u001b[0m\u001b[1;33m\u001b[0m\u001b[1;33m\u001b[0m\u001b[0m\n\u001b[1;32m----> 2\u001b[1;33m \u001b[0mDinosaur\u001b[0m\u001b[1;33m.\u001b[0m\u001b[0mmany_teeth\u001b[0m\u001b[1;33m(\u001b[0m\u001b[1;36m50\u001b[0m\u001b[1;33m)\u001b[0m\u001b[1;33m\u001b[0m\u001b[1;33m\u001b[0m\u001b[0m\n\u001b[0m",
      "\u001b[1;32m<ipython-input-17-e3b812e95c89>\u001b[0m in \u001b[0;36mmany_teeth\u001b[1;34m(self)\u001b[0m\n\u001b[0;32m     11\u001b[0m \u001b[1;33m\u001b[0m\u001b[0m\n\u001b[0;32m     12\u001b[0m         \u001b[0mnumber_teeth\u001b[0m \u001b[1;33m=\u001b[0m \u001b[0minput\u001b[0m\u001b[1;33m(\u001b[0m\u001b[1;34m\"number of teeth\"\u001b[0m\u001b[1;33m)\u001b[0m\u001b[1;33m\u001b[0m\u001b[1;33m\u001b[0m\u001b[0m\n\u001b[1;32m---> 13\u001b[1;33m         \u001b[0mself\u001b[0m\u001b[1;33m.\u001b[0m\u001b[0mteeth\u001b[0m \u001b[1;33m=\u001b[0m \u001b[0mnumber_teeth\u001b[0m\u001b[1;33m\u001b[0m\u001b[1;33m\u001b[0m\u001b[0m\n\u001b[0m\u001b[0;32m     14\u001b[0m         \u001b[1;32mreturn\u001b[0m \u001b[0mself\u001b[0m\u001b[1;33m.\u001b[0m\u001b[0mteeth\u001b[0m\u001b[1;33m\u001b[0m\u001b[1;33m\u001b[0m\u001b[0m\n\u001b[0;32m     15\u001b[0m \u001b[1;33m\u001b[0m\u001b[0m\n",
      "\u001b[1;31mAttributeError\u001b[0m: 'int' object has no attribute 'teeth'"
     ]
    }
   ],
   "source": [
    "# set 50 teeth as the number of teeth\n",
    "Dinosaur.many_teeth(50)"
   ]
  },
  {
   "cell_type": "markdown",
   "metadata": {
    "id": "o-7Bad0um9iL"
   },
   "source": [
    "Show the tyrannosaurus rex's attributes defining a dictionary called `tyrannosaurus_data`. The keys should be the attributes: `teeth`, `danger`, `head`, `special_skill`, and the values those given to the attributes during the exercise.\n",
    "\n",
    "*Hint: You could solve this exercise using a function. Try google.* "
   ]
  },
  {
   "cell_type": "code",
   "execution_count": null,
   "metadata": {
    "id": "WOF38DGwm9iL"
   },
   "outputs": [],
   "source": [
    "# create the tyrannosaurus_data dictionary\n"
   ]
  },
  {
   "cell_type": "markdown",
   "metadata": {
    "id": "lBjvGXe6m9iL"
   },
   "source": [
    "Try to define a function named `if_danger` which check if **Dinosaur** is dangerous and if it is, then return something like \"RUN FOR YOUR LIFE, THIS GUY IS HUNGRY AND EAT PEOPLE\", in case the dinosaur isn't dangerous return \"all good, nothing to fear\".\n",
    "\n",
    "Call the function using as an argument the attribute `danger` of the **tyrannosaurus**."
   ]
  },
  {
   "cell_type": "code",
   "execution_count": null,
   "metadata": {
    "id": "xpvjjRpsm9iL"
   },
   "outputs": [],
   "source": [
    "# define if_danger with one parameter\n"
   ]
  },
  {
   "cell_type": "code",
   "execution_count": null,
   "metadata": {
    "id": "HUoNuOwkm9iM"
   },
   "outputs": [],
   "source": [
    "# invoked the if_danger function\n"
   ]
  },
  {
   "cell_type": "markdown",
   "metadata": {
    "id": "MBfcWvBWm9iM"
   },
   "source": [
    "## Bonus Track."
   ]
  },
  {
   "cell_type": "markdown",
   "metadata": {
    "id": "drkpY5I0m9iM"
   },
   "source": [
    "A company is opening a bank, but the coder who is designing the user class made some errors. They need you to help them.\n",
    "\n",
    "You must include the following:\n",
    "\n",
    "**A withdraw method**\n",
    "- Subtracts money from balance\n",
    "- One parameter, money to withdraw\n",
    "- Raise ValueError if there isn't enough money to withdraw\n",
    "- Return a string with name and balence(see examples)\n",
    "\n",
    "**A check method**\n",
    "- Adds money to baleance\n",
    "- Two parameters, other user and money\n",
    "- Other user will always be valid\n",
    "- Raise a ValueError if other user doesn't have enough money\n",
    "- Raise a ValueError if checking_account isn't true for other user\n",
    "- Return a string with name and balance plus other name and other balance(see examples)\n",
    "\n",
    "**An add_cash method**\n",
    "- Adds money to balance\n",
    "- One parameter, money to add\n",
    "- Return a string with name and balance(see examples)\n",
    "\n",
    "**Additional Notes:**\n",
    "\n",
    "- Checking_account should be stored as a boolean\n",
    "- No input numbers will be negitive\n",
    "- Output must end with period\n",
    "- Float numbers will not be used so, balance should be integer\n",
    "- No currency will be used"
   ]
  },
  {
   "cell_type": "markdown",
   "metadata": {
    "id": "tx13w3brm9iN"
   },
   "source": [
    "KATA --> https://www.codewars.com/kata/5a03af9606d5b65ff7000009"
   ]
  },
  {
   "cell_type": "markdown",
   "metadata": {
    "id": "36JztU-im9iN"
   },
   "source": [
    "**If you dare trying to solve this problem, you'll need this:** https://www.w3schools.com/python/gloss_python_raise.asp"
   ]
  },
  {
   "cell_type": "code",
   "execution_count": null,
   "metadata": {
    "id": "qCnnlCJgm9iN"
   },
   "outputs": [],
   "source": [
    "#your code here\n",
    "class User(object):\n",
    "    pass\n"
   ]
  }
 ],
 "metadata": {
  "colab": {
   "name": "exercise_OOP_dinosaurs.ipynb",
   "provenance": []
  },
  "kernelspec": {
   "name": "python389jvsc74a57bd07980ba124835d5faa10419b5aaaaec0d5be537aa3d05dd29d745d0092f32015f",
   "display_name": "Python 3.8.9 64-bit"
  },
  "language_info": {
   "codemirror_mode": {
    "name": "ipython",
    "version": 3
   },
   "file_extension": ".py",
   "mimetype": "text/x-python",
   "name": "python",
   "nbconvert_exporter": "python",
   "pygments_lexer": "ipython3",
   "version": "3.8.9"
  },
  "metadata": {
   "interpreter": {
    "hash": "7980ba124835d5faa10419b5aaaaec0d5be537aa3d05dd29d745d0092f32015f"
   }
  }
 },
 "nbformat": 4,
 "nbformat_minor": 1
}