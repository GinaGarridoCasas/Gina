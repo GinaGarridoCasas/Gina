{
 "metadata": {
  "language_info": {
   "codemirror_mode": {
    "name": "ipython",
    "version": 3
   },
   "file_extension": ".py",
   "mimetype": "text/x-python",
   "name": "python",
   "nbconvert_exporter": "python",
   "pygments_lexer": "ipython3",
   "version": "3.8.9"
  },
  "orig_nbformat": 2,
  "kernelspec": {
   "name": "python389jvsc74a57bd07980ba124835d5faa10419b5aaaaec0d5be537aa3d05dd29d745d0092f32015f",
   "display_name": "Python 3.8.9 64-bit"
  },
  "metadata": {
   "interpreter": {
    "hash": "7980ba124835d5faa10419b5aaaaec0d5be537aa3d05dd29d745d0092f32015f"
   }
  }
 },
 "nbformat": 4,
 "nbformat_minor": 2,
 "cells": [
  {
   "cell_type": "markdown",
   "metadata": {},
   "source": [
    "### 1. \n",
    "\n",
    "En el archivo \"logistic_regression_df_class\" hemos visto un ejemplo multiclase. Elimina del dataframe todas las filas que se correspondan con la clase valor \"1\".\n",
    "\n",
    "Ahora, realiza el ejercicio con el nuevo dataframe:\n",
    "\n",
    "- ¿Se mejora la precisión del algoritmo con dos clases? ¿por qué?\n",
    "\n",
    "LogisticRegression() es una clase que tiene varios parámetros de entrada. Investiga (modifica, prueba) los argumentos y comenta si modificando algunas de ellas se mejora el porcentaje de acierto del problema (probar al menos 2 diferentes)\n",
    "\n",
    "https://scikit-learn.org/stable/modules/generated/sklearn.linear_model.LogisticRegression.html\n"
   ]
  },
  {
   "source": [
    "### Sí se mejora la precisión del algoritmo. el porcentaje de aciertos con 3 valores en la variable clase es: 0.7823529411764706 y eliminando el valor 1 es: 0.9538461538461539. También mejora en la muestra de entrenamiento y en la de test\n",
    "\n",
    "### Creo que se mejora porque la variable se queda con valores más diferenciados al eliminar el 1 con lo que es más fácil la predicción\n",
    "\n",
    "### Con los dos nuevos parámetros que he probado: liblinear y newton-cg no se modifica el porcentaje de aciertos "
   ],
   "cell_type": "markdown",
   "metadata": {}
  },
  {
   "cell_type": "code",
   "execution_count": 19,
   "metadata": {},
   "outputs": [],
   "source": [
    "import pandas as pd\n",
    "import numpy as np\n",
    "from sklearn import linear_model\n",
    "from sklearn import model_selection\n",
    "#from sklearn.model_selection import train_test_split\n",
    "from sklearn.metrics import classification_report\n",
    "from sklearn.metrics import confusion_matrix\n",
    "from sklearn.metrics import accuracy_score\n",
    "import matplotlib.pyplot as plt\n",
    "import seaborn as sb"
   ]
  },
  {
   "cell_type": "code",
   "execution_count": 20,
   "metadata": {},
   "outputs": [],
   "source": [
    "dataframe = pd.read_csv(\"../data/usuarios_win_mac_lin.csv\")"
   ]
  },
  {
   "cell_type": "code",
   "execution_count": 21,
   "metadata": {},
   "outputs": [],
   "source": [
    "# Eliminar de la variable clase el valor 1\n",
    "filtro = dataframe['clase'] != 1\n",
    "dataframe = dataframe[filtro]\n"
   ]
  },
  {
   "cell_type": "code",
   "execution_count": 22,
   "metadata": {},
   "outputs": [
    {
     "output_type": "execute_result",
     "data": {
      "text/plain": [
       "array([2, 0], dtype=int64)"
      ]
     },
     "metadata": {},
     "execution_count": 22
    }
   ],
   "source": [
    "# obtener los valores únicos de la variable clase después de eliminar el valor 1\n",
    "dataframe['clase'].unique()"
   ]
  },
  {
   "source": [
    "### Creamos el modelo"
   ],
   "cell_type": "markdown",
   "metadata": {}
  },
  {
   "cell_type": "code",
   "execution_count": 23,
   "metadata": {},
   "outputs": [
    {
     "output_type": "stream",
     "name": "stdout",
     "text": [
      "(130,)\n"
     ]
    },
    {
     "output_type": "execute_result",
     "data": {
      "text/plain": [
       "(130, 4)"
      ]
     },
     "metadata": {},
     "execution_count": 23
    }
   ],
   "source": [
    "X = np.array(dataframe.drop(['clase'], axis=1))\n",
    "y = np.array(dataframe['clase'])\n",
    "print(y.shape)\n",
    "X.shape"
   ]
  },
  {
   "cell_type": "code",
   "execution_count": 24,
   "metadata": {},
   "outputs": [
    {
     "output_type": "execute_result",
     "data": {
      "text/plain": [
       "0.9538461538461539"
      ]
     },
     "metadata": {},
     "execution_count": 24
    }
   ],
   "source": [
    "model = linear_model.LogisticRegression(max_iter=100)\n",
    "# No se está entrenado con el conjunto de entrenamiento\n",
    "model.fit(X,y)\n",
    "model.score(X, y)"
   ]
  },
  {
   "cell_type": "code",
   "execution_count": 25,
   "metadata": {},
   "outputs": [],
   "source": [
    "y_predict = model.predict(X)"
   ]
  },
  {
   "source": [
    "### Validamos el modelo"
   ],
   "cell_type": "markdown",
   "metadata": {}
  },
  {
   "cell_type": "code",
   "execution_count": 29,
   "metadata": {},
   "outputs": [
    {
     "output_type": "stream",
     "name": "stdout",
     "text": [
      "(104, 4)\n"
     ]
    },
    {
     "output_type": "execute_result",
     "data": {
      "text/plain": [
       "(26, 4)"
      ]
     },
     "metadata": {},
     "execution_count": 29
    }
   ],
   "source": [
    "seed = 7\n",
    "X_train, X_test, Y_train, Y_test = model_selection.train_test_split(X, y, test_size=0.2, random_state=seed)\n",
    "print(X_train.shape)\n",
    "X_test.shape"
   ]
  },
  {
   "cell_type": "code",
   "execution_count": 33,
   "metadata": {},
   "outputs": [
    {
     "output_type": "stream",
     "name": "stdout",
     "text": [
      "[0.85714286 0.91428571 0.97058824]\n----------\nLogistic Regression: 0.914006 +- (0.046314)\n"
     ]
    }
   ],
   "source": [
    "model = linear_model.LogisticRegression(max_iter=100)\n",
    "name='Logistic Regression'\n",
    "kfold = model_selection.KFold(n_splits=3, random_state=None) #Parte los datos en 10 trozos para usar validación cruzada / cross validation\n",
    "# cross_val_score \n",
    "cv_results = model_selection.cross_val_score(model, X_train, Y_train, cv=kfold, scoring='accuracy')\n",
    "msg = \"%s: %f %s (%f)\" % (name, cv_results.mean(), \"+-\", cv_results.std())\n",
    "print(cv_results)\n",
    "print(\"----------\")\n",
    "print(msg)"
   ]
  },
  {
   "cell_type": "code",
   "execution_count": 35,
   "metadata": {},
   "outputs": [
    {
     "output_type": "execute_result",
     "data": {
      "text/plain": [
       "LogisticRegression()"
      ]
     },
     "metadata": {},
     "execution_count": 35
    }
   ],
   "source": [
    "model.fit(X_train, Y_train)"
   ]
  },
  {
   "cell_type": "code",
   "execution_count": 36,
   "metadata": {},
   "outputs": [
    {
     "output_type": "execute_result",
     "data": {
      "text/plain": [
       "0.9519230769230769"
      ]
     },
     "metadata": {},
     "execution_count": 36
    }
   ],
   "source": [
    "model.score(X_train, Y_train)"
   ]
  },
  {
   "cell_type": "code",
   "execution_count": 37,
   "metadata": {},
   "outputs": [
    {
     "output_type": "execute_result",
     "data": {
      "text/plain": [
       "0.9615384615384616"
      ]
     },
     "metadata": {},
     "execution_count": 37
    }
   ],
   "source": [
    "model.score(X_test, Y_test)"
   ]
  },
  {
   "cell_type": "code",
   "execution_count": 38,
   "metadata": {},
   "outputs": [
    {
     "output_type": "stream",
     "name": "stdout",
     "text": [
      "0.9615384615384616\n0.9615384615384616\n"
     ]
    }
   ],
   "source": [
    "predictions = model.predict(X_test)\n",
    "print(model.score(X=X_test, y=Y_test))\n",
    "print(accuracy_score(Y_test, predictions))"
   ]
  },
  {
   "cell_type": "code",
   "execution_count": 39,
   "metadata": {},
   "outputs": [
    {
     "output_type": "stream",
     "name": "stdout",
     "text": [
      "Acierto: 96.15 %\nError: 3.85 %\n"
     ]
    }
   ],
   "source": [
    "acierto = accuracy_score(Y_test, predictions)\n",
    "\n",
    "error = 1 - acierto\n",
    "print(\"Acierto:\", round(acierto*100, 2), \"%\")\n",
    "print(\"Error:\", round(error*100, 2), \"%\")"
   ]
  },
  {
   "cell_type": "code",
   "execution_count": 40,
   "metadata": {},
   "outputs": [
    {
     "output_type": "stream",
     "name": "stdout",
     "text": [
      "[[22  1]\n [ 0  3]]\n"
     ]
    }
   ],
   "source": [
    "print(confusion_matrix(Y_test, predictions))"
   ]
  },
  {
   "source": [
    "## Algoritmo alternativo para optimizar el modelo: liblinear"
   ],
   "cell_type": "markdown",
   "metadata": {}
  },
  {
   "cell_type": "code",
   "execution_count": 59,
   "metadata": {},
   "outputs": [
    {
     "output_type": "stream",
     "name": "stdout",
     "text": [
      "(104, 4)\n"
     ]
    },
    {
     "output_type": "execute_result",
     "data": {
      "text/plain": [
       "(26, 4)"
      ]
     },
     "metadata": {},
     "execution_count": 59
    }
   ],
   "source": [
    "seed = 7\n",
    "X_train, X_test, Y_train, Y_test = model_selection.train_test_split(X, y, test_size=0.2, random_state=seed)\n",
    "print(X_train.shape)\n",
    "X_test.shape"
   ]
  },
  {
   "cell_type": "code",
   "execution_count": 60,
   "metadata": {},
   "outputs": [],
   "source": [
    "model = linear_model.LogisticRegression(max_iter=100, solver='liblinear')\n",
    "kfold = model_selection.KFold(n_splits=3, random_state=None) #Parte los datos en 10 trozos para usar validación cruzada / cross validation\n",
    "# cross_val_score \n",
    "cv_results = model_selection.cross_val_score(model, X_train, Y_train, cv=kfold, scoring='accuracy')\n",
    "msg = \"%s: %f %s (%f)\" % (name, cv_results.mean(), \"+-\", cv_results.std())"
   ]
  },
  {
   "cell_type": "code",
   "execution_count": 61,
   "metadata": {},
   "outputs": [
    {
     "output_type": "execute_result",
     "data": {
      "text/plain": [
       "LogisticRegression(solver='liblinear')"
      ]
     },
     "metadata": {},
     "execution_count": 61
    }
   ],
   "source": [
    "model.fit(X_train, Y_train)"
   ]
  },
  {
   "cell_type": "code",
   "execution_count": 62,
   "metadata": {},
   "outputs": [
    {
     "output_type": "execute_result",
     "data": {
      "text/plain": [
       "0.9519230769230769"
      ]
     },
     "metadata": {},
     "execution_count": 62
    }
   ],
   "source": [
    "model.score(X_train, Y_train)"
   ]
  },
  {
   "cell_type": "code",
   "execution_count": 63,
   "metadata": {},
   "outputs": [
    {
     "output_type": "execute_result",
     "data": {
      "text/plain": [
       "0.9615384615384616"
      ]
     },
     "metadata": {},
     "execution_count": 63
    }
   ],
   "source": [
    "model.score(X_test, Y_test)"
   ]
  },
  {
   "cell_type": "code",
   "execution_count": 64,
   "metadata": {},
   "outputs": [
    {
     "output_type": "stream",
     "name": "stdout",
     "text": [
      "0.9615384615384616\n0.9615384615384616\n"
     ]
    }
   ],
   "source": [
    "predictions = model.predict(X_test)\n",
    "print(model.score(X=X_test, y=Y_test))\n",
    "print(accuracy_score(Y_test, predictions))"
   ]
  },
  {
   "cell_type": "code",
   "execution_count": 65,
   "metadata": {},
   "outputs": [
    {
     "output_type": "stream",
     "name": "stdout",
     "text": [
      "Acierto: 96.15 %\nError: 3.85 %\n"
     ]
    }
   ],
   "source": [
    "acierto = accuracy_score(Y_test, predictions)\n",
    "\n",
    "error = 1 - acierto\n",
    "print(\"Acierto:\", round(acierto*100, 2), \"%\")\n",
    "print(\"Error:\", round(error*100, 2), \"%\")"
   ]
  },
  {
   "source": [
    "## Algoritmo alternativo para optimizar el modelo: newton-cg"
   ],
   "cell_type": "markdown",
   "metadata": {}
  },
  {
   "cell_type": "code",
   "execution_count": 66,
   "metadata": {},
   "outputs": [
    {
     "output_type": "stream",
     "name": "stdout",
     "text": [
      "(104, 4)\n"
     ]
    },
    {
     "output_type": "execute_result",
     "data": {
      "text/plain": [
       "(26, 4)"
      ]
     },
     "metadata": {},
     "execution_count": 66
    }
   ],
   "source": [
    "seed = 7\n",
    "X_train, X_test, Y_train, Y_test = model_selection.train_test_split(X, y, test_size=0.2, random_state=seed)\n",
    "print(X_train.shape)\n",
    "X_test.shape"
   ]
  },
  {
   "cell_type": "code",
   "execution_count": 67,
   "metadata": {},
   "outputs": [],
   "source": [
    "model = linear_model.LogisticRegression(max_iter=100, solver='newton-cg')\n",
    "kfold = model_selection.KFold(n_splits=3, random_state=None) #Parte los datos en 10 trozos para usar validación cruzada / cross validation\n",
    "# cross_val_score \n",
    "cv_results = model_selection.cross_val_score(model, X_train, Y_train, cv=kfold, scoring='accuracy')\n",
    "msg = \"%s: %f %s (%f)\" % (name, cv_results.mean(), \"+-\", cv_results.std())"
   ]
  },
  {
   "cell_type": "code",
   "execution_count": 68,
   "metadata": {},
   "outputs": [
    {
     "output_type": "execute_result",
     "data": {
      "text/plain": [
       "LogisticRegression(solver='newton-cg')"
      ]
     },
     "metadata": {},
     "execution_count": 68
    }
   ],
   "source": [
    "model.fit(X_train, Y_train)"
   ]
  },
  {
   "cell_type": "code",
   "execution_count": 69,
   "metadata": {},
   "outputs": [
    {
     "output_type": "execute_result",
     "data": {
      "text/plain": [
       "0.9519230769230769"
      ]
     },
     "metadata": {},
     "execution_count": 69
    }
   ],
   "source": [
    "model.score(X_train, Y_train)"
   ]
  },
  {
   "cell_type": "code",
   "execution_count": 70,
   "metadata": {},
   "outputs": [
    {
     "output_type": "execute_result",
     "data": {
      "text/plain": [
       "0.9615384615384616"
      ]
     },
     "metadata": {},
     "execution_count": 70
    }
   ],
   "source": [
    "model.score(X_test, Y_test)"
   ]
  },
  {
   "cell_type": "code",
   "execution_count": 71,
   "metadata": {},
   "outputs": [
    {
     "output_type": "stream",
     "name": "stdout",
     "text": [
      "0.9615384615384616\n0.9615384615384616\n"
     ]
    }
   ],
   "source": [
    "predictions = model.predict(X_test)\n",
    "print(model.score(X=X_test, y=Y_test))\n",
    "print(accuracy_score(Y_test, predictions))"
   ]
  },
  {
   "cell_type": "code",
   "execution_count": 72,
   "metadata": {},
   "outputs": [
    {
     "output_type": "stream",
     "name": "stdout",
     "text": [
      "Acierto: 96.15 %\nError: 3.85 %\n"
     ]
    }
   ],
   "source": [
    "acierto = accuracy_score(Y_test, predictions)\n",
    "\n",
    "error = 1 - acierto\n",
    "print(\"Acierto:\", round(acierto*100, 2), \"%\")\n",
    "print(\"Error:\", round(error*100, 2), \"%\")"
   ]
  }
 ]
}