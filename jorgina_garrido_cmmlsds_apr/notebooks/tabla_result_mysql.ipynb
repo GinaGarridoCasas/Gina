{
 "cells": [
  {
   "cell_type": "code",
   "execution_count": 100,
   "metadata": {},
   "outputs": [],
   "source": [
    "import pandas as pd\r\n",
    "import os, sys\r\n",
    "import json\r\n",
    "import pymysql"
   ]
  },
  {
   "cell_type": "code",
   "execution_count": 101,
   "metadata": {},
   "outputs": [],
   "source": [
    "Resultados_modelos = pd.DataFrame()"
   ]
  },
  {
   "cell_type": "code",
   "execution_count": 102,
   "metadata": {},
   "outputs": [],
   "source": [
    "models_comparaison = pd.DataFrame({'Model': ['Kmeans', 'Dbscan','LinearRegression', 'PolynomialFeatures','SVR','LogisticRegression','KNeighborsClassifier','SVC','DecisionTreeRegressor','RandomForestRegressor','DecisionTreeClassifier','RandomForestClassifier','Red neuronal'],\r\n",
    "'Parameter' : ['None','None','n_job', 'degree','Kernel_C_gamma_epsilon','max_iter','n_neighbors','Kernel_C_gamma','max_depth','n_estimators_max_depth','None','n_splits_n_repeats','Dense_(activation_input_shape)'],\r\n",
    "'Recall':['None', 'None','None', 'None','None', 'None','None','LogisticRegression','KNeighborsClassifier','SVC','DecisionTreeRegressor','RandomForestRegressor','RandomForestClassifier','DecisionTreeClassifier','Red neuronal'], \r\n",
    "'Score':['None', 'None','LinearRegression', 'PolynomialFeatures','SVR','LogisticRegression','KNeighborsClassifier','SVC','DecisionTreeRegressor','RandomForestRegressor','RandomForestClassifier','DecisionTreeClassifier','Red neuronal'],\r\n",
    "'MAE':['None', 'None','LinearRegression', 'PolynomialFeatures','SVR','LogisticRegression','KNeighborsClassifier','SVC','DecisionTreeRegressor','RandomForestRegressor','RandomForestClassifier','DecisionTreeClassifier','Red neuronal'],\r\n",
    "'Accuracy': ['None', 'None','LinearRegression', 'PolynomialFeatures','SVR','LogisticRegression','KNeighborsClassifier','SVC','DecisionTreeRegressor','RandomForestRegressor','RandomForestClassifier','DecisionTreeClassifier','Red neuronal']})\r\n"
   ]
  },
  {
   "cell_type": "code",
   "execution_count": 103,
   "metadata": {},
   "outputs": [],
   "source": [
    "models_comparaison.to_csv ('../data/Bases_trabajo/models_comparaison.csv')"
   ]
  },
  {
   "cell_type": "code",
   "execution_count": 104,
   "metadata": {},
   "outputs": [],
   "source": [
    "# datos para conectarme a MySQL\r\n",
    "\r\n",
    "#\"IP_DNS\": \"consciencesai.com\",\r\n",
    "#   \"PORT\": 30001,\r\n",
    "#   \"USER\": Vuestro DNI (letra/s en minúscula),\r\n",
    "#   \"PASSWORD\": el id de vuestro correo,\r\n",
    "#   \"BD_NAME\":  el USER pero con \"_ds_april_2021_db\"al final "
   ]
  },
  {
   "cell_type": "code",
   "execution_count": 105,
   "metadata": {},
   "outputs": [],
   "source": [
    "import pymysql\r\n",
    "from sqlalchemy import create_engine\r\n",
    "from sqlalchemy.pool import NullPool\r\n",
    "\r\n",
    "class MySQL:\r\n",
    "\r\n",
    "    def __init__(self, IP_DNS, USER, PASSWORD, BD_NAME, PORT):\r\n",
    "        self.IP_DNS = \"consciencesai.com\"\r\n",
    "        self.USER = \"13297422h\"\r\n",
    "        self.PASSWORD = \"jorginagc\"\r\n",
    "        self.BD_NAME = \"13297422h_ds_april_2021_db\"\r\n",
    "        self.PORT = 30001\r\n",
    "        self.SQL_ALCHEMY = 'mysql+pymysql://' + self.USER + ':' + self.PASSWORD + '@' + self.IP_DNS + ':' + str(self.PORT) + '/' + self.BD_NAME\r\n",
    "        \r\n",
    "    def connect(self):\r\n",
    "        # Open database connection\r\n",
    "        self.db = pymysql.connect(host=self.IP_DNS,\r\n",
    "                                  user=self.USER, \r\n",
    "                                  password=self.PASSWORD, \r\n",
    "                                  database=self.BD_NAME, \r\n",
    "                                  port=self.PORT)\r\n",
    "        # prepare a cursor object using cursor() method\r\n",
    "        self.cursor = self.db.cursor()\r\n",
    "        print(\"Connected to MySQL server [\" + self.BD_NAME + \"]\")\r\n",
    "        return self.db\r\n",
    "\r\n",
    "    def close(self):\r\n",
    "        # disconnect from server\r\n",
    "        self.db.close()\r\n",
    "        print(\"Close connection with MySQL server [\" + self.BD_NAME + \"]\")\r\n",
    "    \r\n",
    "    def execute_interactive_sql(self, sql, delete=False):\r\n",
    "        \"\"\" NO SELECT \"\"\"\r\n",
    "        result = 0\r\n",
    "        try:\r\n",
    "            # Execute the SQL command\r\n",
    "            self.cursor.execute(sql)\r\n",
    "            # Commit your changes in the database\r\n",
    "            self.db.commit()\r\n",
    "            print(\"Executed \\n\\n\" + str(sql) + \"\\n\\n successfully\")\r\n",
    "            result = 1\r\n",
    "        except Exception as error:\r\n",
    "            print(error)\r\n",
    "            # Rollback in case there is any error\r\n",
    "            self.db.rollback()\r\n",
    "        return result\r\n",
    "        \r\n",
    "    def execute_get_sql(self, sql):\r\n",
    "        \"\"\"SELECT\"\"\"\r\n",
    "        results = None\r\n",
    "        print(\"Executing:\\n\", sql)\r\n",
    "        try:\r\n",
    "            # Execute the SQL command\r\n",
    "            self.cursor.execute(sql)\r\n",
    "            # Fetch all the rows in a list of lists.\r\n",
    "            results = self.cursor.fetchall()\r\n",
    "        except Exception as error:\r\n",
    "            print(error)\r\n",
    "            print (\"Error: unable to fetch data\")\r\n",
    "        \r\n",
    "        return results\r\n",
    "\r\n",
    "    def create_engine(self):\r\n",
    "        engine = create_engine(self.SQL_ALCHEMY, poolclass=NullPool)\r\n",
    "        conn = engine.connect()\r\n",
    "        print(\"Connected to MySQL server [\" + self.BD_NAME + \"]\")\r\n",
    "        return conn, engine\r\n",
    "\r\n",
    "\r\n",
    "    def execute_engine(self, conn, sql):\r\n",
    "        result = 0\r\n",
    "        try:\r\n",
    "            result = conn.execute(sql).fetchall()\r\n",
    "            print(\"Executed \\n\\n\" + str(sql) + \"\\n\\n successfully\")\r\n",
    "            \r\n",
    "        except Exception as error:\r\n",
    "            print(error)\r\n",
    "        return result\r\n",
    "\r\n",
    "    def close_engine(self, conn, engine):\r\n",
    "        conn.close()\r\n",
    "        engine.dispose()\r\n",
    "        print(\"Close connection with MySQL server [\" + self.BD_NAME + \"]\")\r\n",
    "\r\n",
    "    def generate_insert_into_people_sql(self, to_insert):\r\n",
    "        \"\"\"\r\n",
    "        This must be modified according to the table structure\r\n",
    "        \"\"\"\r\n",
    "        nombre = to_insert[0]\r\n",
    "        apellidos = to_insert[1]\r\n",
    "        direccion = to_insert[2]\r\n",
    "        edad = to_insert[3]\r\n",
    "        nota = to_insert[4]\r\n",
    "        \r\n",
    "        sql = \"\"\"INSERT INTO people\r\n",
    "            (MOMENTO, NOMBRE, APELLIDOS, DIRECCION, EDAD, NOTA)\r\n",
    "            VALUES\r\n",
    "            (NOW(), '\"\"\" + nombre + \"\"\"', '\"\"\" + apellidos + \"\"\"', '\"\"\" + direccion + \"\"\"', '\"\"\" + edad + \"\"\"', '\"\"\" + nota + \"\"\"')\"\"\"\r\n",
    "\r\n",
    "        sql = sql.replace(\"\\n\", \"\").replace(\"            \", \" \")\r\n",
    "        return sql"
   ]
  },
  {
   "cell_type": "code",
   "execution_count": 106,
   "metadata": {},
   "outputs": [
    {
     "name": "stdout",
     "output_type": "stream",
     "text": [
      "Connected to MySQL server [13297422h_ds_april_2021_db]\n"
     ]
    }
   ],
   "source": [
    "mysql_db = MySQL(IP_DNS=\"consciencesai.com\", USER=\"13297422h\", PASSWORD=\"jorginagc\", BD_NAME=\"13297422h_ds_april_2021_db\", PORT=30001)\r\n",
    "conn = mysql_db.connect()\r\n",
    "\r\n",
    "# select_sql = 'SELECT * FROM models_comparaison'\r\n",
    "# select_result = mysql_db.execute_get_sql(sql=select_sql)\r\n",
    "\r\n",
    "# df = pd.read_sql('SELECT * FROM models_comparaison', con=conn)\r\n",
    "# df"
   ]
  },
  {
   "cell_type": "code",
   "execution_count": 107,
   "metadata": {},
   "outputs": [],
   "source": [
    "models_comparaison = pd.read_csv('../data/Bases_trabajo/models_comparaison.csv')"
   ]
  },
  {
   "cell_type": "code",
   "execution_count": 108,
   "metadata": {},
   "outputs": [
    {
     "name": "stdout",
     "output_type": "stream",
     "text": [
      "Executing:\n",
      " SELECT * FROM models_comparaison\n"
     ]
    }
   ],
   "source": [
    "select_sql = 'SELECT * FROM models_comparaison'\r\n",
    "select_result = mysql_db.execute_get_sql(sql=select_sql)"
   ]
  },
  {
   "cell_type": "code",
   "execution_count": 109,
   "metadata": {},
   "outputs": [
    {
     "data": {
      "text/html": [
       "<div>\n",
       "<style scoped>\n",
       "    .dataframe tbody tr th:only-of-type {\n",
       "        vertical-align: middle;\n",
       "    }\n",
       "\n",
       "    .dataframe tbody tr th {\n",
       "        vertical-align: top;\n",
       "    }\n",
       "\n",
       "    .dataframe thead th {\n",
       "        text-align: right;\n",
       "    }\n",
       "</style>\n",
       "<table border=\"1\" class=\"dataframe\">\n",
       "  <thead>\n",
       "    <tr style=\"text-align: right;\">\n",
       "      <th></th>\n",
       "      <th>Model</th>\n",
       "      <th>Parameter</th>\n",
       "      <th>Recall</th>\n",
       "      <th>Score</th>\n",
       "      <th>MAE</th>\n",
       "      <th>Accuracy</th>\n",
       "    </tr>\n",
       "  </thead>\n",
       "  <tbody>\n",
       "    <tr>\n",
       "      <th>0</th>\n",
       "      <td>LinearRegression</td>\n",
       "      <td>n_job</td>\n",
       "      <td>None</td>\n",
       "      <td>LinearRegression</td>\n",
       "      <td>LinearRegression</td>\n",
       "      <td>LinearRegression</td>\n",
       "    </tr>\n",
       "    <tr>\n",
       "      <th>1</th>\n",
       "      <td>PolynomialFeatures</td>\n",
       "      <td>degree</td>\n",
       "      <td>None</td>\n",
       "      <td>PolynomialFeatures</td>\n",
       "      <td>PolynomialFeatures</td>\n",
       "      <td>PolynomialFeatures</td>\n",
       "    </tr>\n",
       "    <tr>\n",
       "      <th>2</th>\n",
       "      <td>SVR</td>\n",
       "      <td>Kernel_C_gamma_epsilon</td>\n",
       "      <td>None</td>\n",
       "      <td>SVR</td>\n",
       "      <td>SVR</td>\n",
       "      <td>SVR</td>\n",
       "    </tr>\n",
       "    <tr>\n",
       "      <th>3</th>\n",
       "      <td>LogisticRegression</td>\n",
       "      <td>max_iter</td>\n",
       "      <td>LogisticRegression</td>\n",
       "      <td>LogisticRegression</td>\n",
       "      <td>LogisticRegression</td>\n",
       "      <td>LogisticRegression</td>\n",
       "    </tr>\n",
       "    <tr>\n",
       "      <th>4</th>\n",
       "      <td>KNeighborsClassifier</td>\n",
       "      <td>n_neighbors</td>\n",
       "      <td>KNeighborsClassifier</td>\n",
       "      <td>KNeighborsClassifier</td>\n",
       "      <td>KNeighborsClassifier</td>\n",
       "      <td>KNeighborsClassifier</td>\n",
       "    </tr>\n",
       "    <tr>\n",
       "      <th>5</th>\n",
       "      <td>SVC</td>\n",
       "      <td>Kernel_C_gamma</td>\n",
       "      <td>SVC</td>\n",
       "      <td>SVC</td>\n",
       "      <td>SVC</td>\n",
       "      <td>SVC</td>\n",
       "    </tr>\n",
       "    <tr>\n",
       "      <th>6</th>\n",
       "      <td>max_depth</td>\n",
       "      <td>DecisionTreeRegressor</td>\n",
       "      <td>DecisionTreeRegressor</td>\n",
       "      <td>DecisionTreeRegressor</td>\n",
       "      <td>DecisionTreeRegressor</td>\n",
       "      <td>DecisionTreeRegressor</td>\n",
       "    </tr>\n",
       "    <tr>\n",
       "      <th>7</th>\n",
       "      <td>n_estimators_max_depth</td>\n",
       "      <td>RandomForestRegressor</td>\n",
       "      <td>RandomForestRegressor</td>\n",
       "      <td>RandomForestRegressor</td>\n",
       "      <td>RandomForestRegressor</td>\n",
       "      <td>RandomForestRegressor</td>\n",
       "    </tr>\n",
       "    <tr>\n",
       "      <th>8</th>\n",
       "      <td>RandomForestClassifier</td>\n",
       "      <td>n_splits_n_repeats</td>\n",
       "      <td>RandomForestClassifier</td>\n",
       "      <td>RandomForestClassifier</td>\n",
       "      <td>RandomForestClassifier</td>\n",
       "      <td>RandomForestClassifier</td>\n",
       "    </tr>\n",
       "    <tr>\n",
       "      <th>9</th>\n",
       "      <td>DecisionTreeClassifier</td>\n",
       "      <td>None</td>\n",
       "      <td>DecisionTreeClassifier</td>\n",
       "      <td>DecisionTreeClassifier</td>\n",
       "      <td>DecisionTreeClassifier</td>\n",
       "      <td>DecisionTreeClassifier</td>\n",
       "    </tr>\n",
       "    <tr>\n",
       "      <th>10</th>\n",
       "      <td>Red neuronal</td>\n",
       "      <td>Dense_(activation_input_shape)</td>\n",
       "      <td>Red neuronal</td>\n",
       "      <td>Red neuronal</td>\n",
       "      <td>Red neuronal</td>\n",
       "      <td>Red neuronal</td>\n",
       "    </tr>\n",
       "  </tbody>\n",
       "</table>\n",
       "</div>"
      ],
      "text/plain": [
       "                     Model                       Parameter  \\\n",
       "0         LinearRegression                           n_job   \n",
       "1       PolynomialFeatures                          degree   \n",
       "2                      SVR          Kernel_C_gamma_epsilon   \n",
       "3       LogisticRegression                        max_iter   \n",
       "4     KNeighborsClassifier                     n_neighbors   \n",
       "5                      SVC                  Kernel_C_gamma   \n",
       "6                max_depth           DecisionTreeRegressor   \n",
       "7   n_estimators_max_depth           RandomForestRegressor   \n",
       "8   RandomForestClassifier              n_splits_n_repeats   \n",
       "9   DecisionTreeClassifier                            None   \n",
       "10            Red neuronal  Dense_(activation_input_shape)   \n",
       "\n",
       "                    Recall                   Score                     MAE  \\\n",
       "0                     None        LinearRegression        LinearRegression   \n",
       "1                     None      PolynomialFeatures      PolynomialFeatures   \n",
       "2                     None                     SVR                     SVR   \n",
       "3       LogisticRegression      LogisticRegression      LogisticRegression   \n",
       "4     KNeighborsClassifier    KNeighborsClassifier    KNeighborsClassifier   \n",
       "5                      SVC                     SVC                     SVC   \n",
       "6    DecisionTreeRegressor   DecisionTreeRegressor   DecisionTreeRegressor   \n",
       "7    RandomForestRegressor   RandomForestRegressor   RandomForestRegressor   \n",
       "8   RandomForestClassifier  RandomForestClassifier  RandomForestClassifier   \n",
       "9   DecisionTreeClassifier  DecisionTreeClassifier  DecisionTreeClassifier   \n",
       "10            Red neuronal            Red neuronal            Red neuronal   \n",
       "\n",
       "                  Accuracy  \n",
       "0         LinearRegression  \n",
       "1       PolynomialFeatures  \n",
       "2                      SVR  \n",
       "3       LogisticRegression  \n",
       "4     KNeighborsClassifier  \n",
       "5                      SVC  \n",
       "6    DecisionTreeRegressor  \n",
       "7    RandomForestRegressor  \n",
       "8   RandomForestClassifier  \n",
       "9   DecisionTreeClassifier  \n",
       "10            Red neuronal  "
      ]
     },
     "execution_count": 109,
     "metadata": {},
     "output_type": "execute_result"
    }
   ],
   "source": [
    "df = pd.read_sql('SELECT * FROM models_comparaison', con=conn)\r\n",
    "df"
   ]
  },
  {
   "cell_type": "code",
   "execution_count": 110,
   "metadata": {},
   "outputs": [],
   "source": [
    "# mysql_db = MySQL(IP_DNS=\"consciencesai.com\", USER=\"13297422h\", PASSWORD=\"jorginagc\", BD_NAME=\"13297422h_ds_april_2021_db\", PORT=30001)\r\n",
    "# conn,engine = mysql_db.create_engine()"
   ]
  },
  {
   "cell_type": "code",
   "execution_count": 111,
   "metadata": {},
   "outputs": [],
   "source": [
    "# models_comparaison = pd.read_csv('../data/Bases_trabajo/models_comparaison.csv')"
   ]
  },
  {
   "cell_type": "code",
   "execution_count": 112,
   "metadata": {},
   "outputs": [],
   "source": [
    " #models_comparaison.to_sql (name = 'models_comparaison.csv', con= conn, if_exists='fail', index = False)"
   ]
  },
  {
   "cell_type": "code",
   "execution_count": 113,
   "metadata": {},
   "outputs": [],
   "source": [
    "# select_sql = 'SELECT * FROM models_comparaison' \r\n",
    "#resultado = mysql_db.execute_engine(conn, select_sql)\r\n",
    "\r\n",
    "# resultado"
   ]
  },
  {
   "cell_type": "code",
   "execution_count": 114,
   "metadata": {},
   "outputs": [],
   "source": [
    "# df = pd.read_sql('SELECT * FROM models_comparaison_1', con=conn)\r\n",
    "# df"
   ]
  },
  {
   "cell_type": "code",
   "execution_count": 115,
   "metadata": {},
   "outputs": [
    {
     "name": "stdout",
     "output_type": "stream",
     "text": [
      "Close connection with MySQL server [13297422h_ds_april_2021_db]\n"
     ]
    }
   ],
   "source": [
    "mysql_db.close_engine(conn, engine)"
   ]
  }
 ],
 "metadata": {
  "interpreter": {
   "hash": "7980ba124835d5faa10419b5aaaaec0d5be537aa3d05dd29d745d0092f32015f"
  },
  "kernelspec": {
   "display_name": "Python 3.8.9 64-bit",
   "name": "python3"
  },
  "language_info": {
   "codemirror_mode": {
    "name": "ipython",
    "version": 3
   },
   "file_extension": ".py",
   "mimetype": "text/x-python",
   "name": "python",
   "nbconvert_exporter": "python",
   "pygments_lexer": "ipython3",
   "version": "3.8.9"
  },
  "orig_nbformat": 4
 },
 "nbformat": 4,
 "nbformat_minor": 2
}