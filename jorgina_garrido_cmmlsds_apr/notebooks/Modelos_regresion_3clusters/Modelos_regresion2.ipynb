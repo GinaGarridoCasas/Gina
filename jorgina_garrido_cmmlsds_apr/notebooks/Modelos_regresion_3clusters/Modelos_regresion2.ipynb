{
 "cells": [
  {
   "cell_type": "code",
   "execution_count": 34,
   "metadata": {},
   "outputs": [],
   "source": [
    "import pandas as pd\r\n",
    "import numpy as np\r\n",
    "import pandas as pd\r\n",
    "import matplotlib.pyplot as plt"
   ]
  },
  {
   "cell_type": "code",
   "execution_count": 35,
   "metadata": {},
   "outputs": [],
   "source": [
    "from sklearn.pipeline import Pipeline\r\n",
    "from sklearn.impute import SimpleImputer\r\n",
    "from sklearn.preprocessing import StandardScaler\r\n",
    "from sklearn.model_selection import train_test_split\r\n",
    "\r\n",
    "from sklearn.svm import SVC\r\n",
    "from sklearn.linear_model import LogisticRegression\r\n",
    "from sklearn.ensemble import RandomForestClassifier\r\n",
    "from sklearn.feature_selection import SelectKBest\r\n",
    "from sklearn import svm, datasets\r\n",
    "from sklearn.model_selection import GridSearchCV"
   ]
  },
  {
   "cell_type": "markdown",
   "metadata": {},
   "source": [
    "## Cluster 2"
   ]
  },
  {
   "cell_type": "code",
   "execution_count": 36,
   "metadata": {},
   "outputs": [],
   "source": [
    "ENS_2017_C2 = pd.read_csv(\"../../data/Bases_trabajo/ENS_2017_C2.csv\", sep =',')"
   ]
  },
  {
   "cell_type": "code",
   "execution_count": 37,
   "metadata": {},
   "outputs": [
    {
     "data": {
      "text/plain": [
       "Index(['Unnamed: 0', 'Unnamed: 0.1', 'Unnamed: 0.1.1', 'CCAA', 'Sexo', 'Edad',\n",
       "       'Actividad_economica_actual', 'Nacionalidad_española', 'Convivencia',\n",
       "       'Estado_civil', 'Nivel_estudios', 'Salud_percibida', 'Vacunación_gripe',\n",
       "       'Toma_tensiónArterial_profesional', 'Medición_colesterol',\n",
       "       'Prueba_sangreHeces', 'Colonoscopia', 'Peso(Kg)',\n",
       "       'Freq_ActividadFísica', 'Freq_Consumo_FrutaFresca',\n",
       "       'Freq_Consumo_Carne', 'Freq_Consumo_Huevos', 'Freq_Consumo_Pescado',\n",
       "       'Freq_Consumo_PastaArrozPatatas', 'Freq_Consumo_PanCereales',\n",
       "       'Freq_Consumo_VerdurasEnsaladasHortalizas', 'Freq_Consumo_Legumbres',\n",
       "       'Freq_Consumo_EmbutidosFiambres', 'Freq_Consumo_Lácteos',\n",
       "       'Freq_Consumo_Dulces', 'Freq_Consumo_ComidaRápida',\n",
       "       'Freq_Consumo_ZumoNatural', 'Freq_Diaria_CepilladoDientes',\n",
       "       '¿Fuma actualmente', 'Freq_Consumo_Alcohol',\n",
       "       'ApoyoAfectivoPersonal_AmigosFamiliares', 'ClaseSocial_BasadaOcupación',\n",
       "       'Índice_MasaCorporal', 'Edad_ag', 'Peso_ag', 'Clusters'],\n",
       "      dtype='object')"
      ]
     },
     "execution_count": 37,
     "metadata": {},
     "output_type": "execute_result"
    }
   ],
   "source": [
    "ENS_2017_C2.columns"
   ]
  },
  {
   "cell_type": "markdown",
   "metadata": {},
   "source": [
    "### Regresión lineal múltiple"
   ]
  },
  {
   "cell_type": "code",
   "execution_count": 38,
   "metadata": {},
   "outputs": [],
   "source": [
    "X = ENS_2017_C2[['CCAA', 'Sexo', 'Edad',\r\n",
    "       'Actividad_economica_actual', 'Nacionalidad_española', 'Convivencia',\r\n",
    "       'Estado_civil', 'Nivel_estudios', 'Vacunación_gripe',\r\n",
    "       'Toma_tensiónArterial_profesional', 'Medición_colesterol',\r\n",
    "       'Prueba_sangreHeces', 'Colonoscopia', 'Peso(Kg)',\r\n",
    "       'Freq_ActividadFísica', 'Freq_Consumo_FrutaFresca',\r\n",
    "       'Freq_Consumo_Carne', 'Freq_Consumo_Huevos', 'Freq_Consumo_Pescado',\r\n",
    "       'Freq_Consumo_PastaArrozPatatas', 'Freq_Consumo_PanCereales',\r\n",
    "       'Freq_Consumo_VerdurasEnsaladasHortalizas', 'Freq_Consumo_Legumbres',\r\n",
    "       'Freq_Consumo_EmbutidosFiambres', 'Freq_Consumo_Lácteos',\r\n",
    "       'Freq_Consumo_Dulces', 'Freq_Consumo_ComidaRápida',\r\n",
    "       'Freq_Consumo_ZumoNatural', 'Freq_Diaria_CepilladoDientes',\r\n",
    "       '¿Fuma actualmente', 'Freq_Consumo_Alcohol',\r\n",
    "       'ApoyoAfectivoPersonal_AmigosFamiliares', 'ClaseSocial_BasadaOcupación',\r\n",
    "       'Índice_MasaCorporal',]]"
   ]
  },
  {
   "cell_type": "code",
   "execution_count": 39,
   "metadata": {},
   "outputs": [],
   "source": [
    "y = ENS_2017_C2['Salud_percibida']"
   ]
  },
  {
   "cell_type": "code",
   "execution_count": 40,
   "metadata": {},
   "outputs": [],
   "source": [
    "from sklearn.model_selection import train_test_split\r\n",
    "X_train, X_test, y_train, y_test = train_test_split(X, y, test_size=0.2, random_state=101)"
   ]
  },
  {
   "cell_type": "code",
   "execution_count": 41,
   "metadata": {},
   "outputs": [],
   "source": [
    "from sklearn.linear_model import LinearRegression"
   ]
  },
  {
   "cell_type": "code",
   "execution_count": 42,
   "metadata": {},
   "outputs": [],
   "source": [
    "lm = LinearRegression(n_jobs=-1)"
   ]
  },
  {
   "cell_type": "code",
   "execution_count": 43,
   "metadata": {},
   "outputs": [
    {
     "data": {
      "text/plain": [
       "LinearRegression(n_jobs=-1)"
      ]
     },
     "execution_count": 43,
     "metadata": {},
     "output_type": "execute_result"
    }
   ],
   "source": [
    "lm.fit(X_train, y_train)"
   ]
  },
  {
   "cell_type": "code",
   "execution_count": 44,
   "metadata": {},
   "outputs": [
    {
     "name": "stdout",
     "output_type": "stream",
     "text": [
      "1.9422568783121608\n"
     ]
    }
   ],
   "source": [
    "print(lm.intercept_)"
   ]
  },
  {
   "cell_type": "code",
   "execution_count": 45,
   "metadata": {},
   "outputs": [
    {
     "data": {
      "text/html": [
       "<div>\n",
       "<style scoped>\n",
       "    .dataframe tbody tr th:only-of-type {\n",
       "        vertical-align: middle;\n",
       "    }\n",
       "\n",
       "    .dataframe tbody tr th {\n",
       "        vertical-align: top;\n",
       "    }\n",
       "\n",
       "    .dataframe thead th {\n",
       "        text-align: right;\n",
       "    }\n",
       "</style>\n",
       "<table border=\"1\" class=\"dataframe\">\n",
       "  <thead>\n",
       "    <tr style=\"text-align: right;\">\n",
       "      <th></th>\n",
       "      <th>Coefficient</th>\n",
       "    </tr>\n",
       "  </thead>\n",
       "  <tbody>\n",
       "    <tr>\n",
       "      <th>CCAA</th>\n",
       "      <td>-0.000044</td>\n",
       "    </tr>\n",
       "    <tr>\n",
       "      <th>Sexo</th>\n",
       "      <td>0.091483</td>\n",
       "    </tr>\n",
       "    <tr>\n",
       "      <th>Edad</th>\n",
       "      <td>0.006164</td>\n",
       "    </tr>\n",
       "    <tr>\n",
       "      <th>Actividad_economica_actual</th>\n",
       "      <td>0.022066</td>\n",
       "    </tr>\n",
       "    <tr>\n",
       "      <th>Nacionalidad_española</th>\n",
       "      <td>-0.022181</td>\n",
       "    </tr>\n",
       "    <tr>\n",
       "      <th>Convivencia</th>\n",
       "      <td>0.023130</td>\n",
       "    </tr>\n",
       "    <tr>\n",
       "      <th>Estado_civil</th>\n",
       "      <td>-0.000800</td>\n",
       "    </tr>\n",
       "    <tr>\n",
       "      <th>Nivel_estudios</th>\n",
       "      <td>-0.037567</td>\n",
       "    </tr>\n",
       "    <tr>\n",
       "      <th>Vacunación_gripe</th>\n",
       "      <td>-0.156731</td>\n",
       "    </tr>\n",
       "    <tr>\n",
       "      <th>Toma_tensiónArterial_profesional</th>\n",
       "      <td>-0.074174</td>\n",
       "    </tr>\n",
       "    <tr>\n",
       "      <th>Medición_colesterol</th>\n",
       "      <td>-0.084076</td>\n",
       "    </tr>\n",
       "    <tr>\n",
       "      <th>Prueba_sangreHeces</th>\n",
       "      <td>-0.069549</td>\n",
       "    </tr>\n",
       "    <tr>\n",
       "      <th>Colonoscopia</th>\n",
       "      <td>-0.165868</td>\n",
       "    </tr>\n",
       "    <tr>\n",
       "      <th>Peso(Kg)</th>\n",
       "      <td>0.003022</td>\n",
       "    </tr>\n",
       "    <tr>\n",
       "      <th>Freq_ActividadFísica</th>\n",
       "      <td>-0.063005</td>\n",
       "    </tr>\n",
       "    <tr>\n",
       "      <th>Freq_Consumo_FrutaFresca</th>\n",
       "      <td>0.001835</td>\n",
       "    </tr>\n",
       "    <tr>\n",
       "      <th>Freq_Consumo_Carne</th>\n",
       "      <td>0.021123</td>\n",
       "    </tr>\n",
       "    <tr>\n",
       "      <th>Freq_Consumo_Huevos</th>\n",
       "      <td>-0.007652</td>\n",
       "    </tr>\n",
       "    <tr>\n",
       "      <th>Freq_Consumo_Pescado</th>\n",
       "      <td>-0.002609</td>\n",
       "    </tr>\n",
       "    <tr>\n",
       "      <th>Freq_Consumo_PastaArrozPatatas</th>\n",
       "      <td>0.019238</td>\n",
       "    </tr>\n",
       "    <tr>\n",
       "      <th>Freq_Consumo_PanCereales</th>\n",
       "      <td>0.013444</td>\n",
       "    </tr>\n",
       "    <tr>\n",
       "      <th>Freq_Consumo_VerdurasEnsaladasHortalizas</th>\n",
       "      <td>0.012601</td>\n",
       "    </tr>\n",
       "    <tr>\n",
       "      <th>Freq_Consumo_Legumbres</th>\n",
       "      <td>0.006803</td>\n",
       "    </tr>\n",
       "    <tr>\n",
       "      <th>Freq_Consumo_EmbutidosFiambres</th>\n",
       "      <td>0.019974</td>\n",
       "    </tr>\n",
       "    <tr>\n",
       "      <th>Freq_Consumo_Lácteos</th>\n",
       "      <td>0.013513</td>\n",
       "    </tr>\n",
       "    <tr>\n",
       "      <th>Freq_Consumo_Dulces</th>\n",
       "      <td>0.009484</td>\n",
       "    </tr>\n",
       "    <tr>\n",
       "      <th>Freq_Consumo_ComidaRápida</th>\n",
       "      <td>0.005279</td>\n",
       "    </tr>\n",
       "    <tr>\n",
       "      <th>Freq_Consumo_ZumoNatural</th>\n",
       "      <td>-0.003317</td>\n",
       "    </tr>\n",
       "    <tr>\n",
       "      <th>Freq_Diaria_CepilladoDientes</th>\n",
       "      <td>-0.041667</td>\n",
       "    </tr>\n",
       "    <tr>\n",
       "      <th>¿Fuma actualmente</th>\n",
       "      <td>-0.020896</td>\n",
       "    </tr>\n",
       "    <tr>\n",
       "      <th>Freq_Consumo_Alcohol</th>\n",
       "      <td>0.019731</td>\n",
       "    </tr>\n",
       "    <tr>\n",
       "      <th>ApoyoAfectivoPersonal_AmigosFamiliares</th>\n",
       "      <td>-0.050523</td>\n",
       "    </tr>\n",
       "    <tr>\n",
       "      <th>ClaseSocial_BasadaOcupación</th>\n",
       "      <td>0.005202</td>\n",
       "    </tr>\n",
       "    <tr>\n",
       "      <th>Índice_MasaCorporal</th>\n",
       "      <td>-0.013764</td>\n",
       "    </tr>\n",
       "  </tbody>\n",
       "</table>\n",
       "</div>"
      ],
      "text/plain": [
       "                                          Coefficient\n",
       "CCAA                                        -0.000044\n",
       "Sexo                                         0.091483\n",
       "Edad                                         0.006164\n",
       "Actividad_economica_actual                   0.022066\n",
       "Nacionalidad_española                       -0.022181\n",
       "Convivencia                                  0.023130\n",
       "Estado_civil                                -0.000800\n",
       "Nivel_estudios                              -0.037567\n",
       "Vacunación_gripe                            -0.156731\n",
       "Toma_tensiónArterial_profesional            -0.074174\n",
       "Medición_colesterol                         -0.084076\n",
       "Prueba_sangreHeces                          -0.069549\n",
       "Colonoscopia                                -0.165868\n",
       "Peso(Kg)                                     0.003022\n",
       "Freq_ActividadFísica                        -0.063005\n",
       "Freq_Consumo_FrutaFresca                     0.001835\n",
       "Freq_Consumo_Carne                           0.021123\n",
       "Freq_Consumo_Huevos                         -0.007652\n",
       "Freq_Consumo_Pescado                        -0.002609\n",
       "Freq_Consumo_PastaArrozPatatas               0.019238\n",
       "Freq_Consumo_PanCereales                     0.013444\n",
       "Freq_Consumo_VerdurasEnsaladasHortalizas     0.012601\n",
       "Freq_Consumo_Legumbres                       0.006803\n",
       "Freq_Consumo_EmbutidosFiambres               0.019974\n",
       "Freq_Consumo_Lácteos                         0.013513\n",
       "Freq_Consumo_Dulces                          0.009484\n",
       "Freq_Consumo_ComidaRápida                    0.005279\n",
       "Freq_Consumo_ZumoNatural                    -0.003317\n",
       "Freq_Diaria_CepilladoDientes                -0.041667\n",
       "¿Fuma actualmente                           -0.020896\n",
       "Freq_Consumo_Alcohol                         0.019731\n",
       "ApoyoAfectivoPersonal_AmigosFamiliares      -0.050523\n",
       "ClaseSocial_BasadaOcupación                  0.005202\n",
       "Índice_MasaCorporal                         -0.013764"
      ]
     },
     "execution_count": 45,
     "metadata": {},
     "output_type": "execute_result"
    }
   ],
   "source": [
    "lm.coef_ # Pendientes de Xn\r\n",
    "coeff_df = pd.DataFrame(lm.coef_, X.columns, columns=['Coefficient'])\r\n",
    "coeff_df"
   ]
  },
  {
   "cell_type": "code",
   "execution_count": 46,
   "metadata": {},
   "outputs": [
    {
     "data": {
      "text/plain": [
       "23.487032071263858"
      ]
     },
     "execution_count": 46,
     "metadata": {},
     "output_type": "execute_result"
    }
   ],
   "source": [
    "lm.score(X_train, y_train) *100"
   ]
  },
  {
   "cell_type": "code",
   "execution_count": 47,
   "metadata": {},
   "outputs": [],
   "source": [
    "y_pred = lm.predict(X_train)"
   ]
  },
  {
   "cell_type": "code",
   "execution_count": 48,
   "metadata": {},
   "outputs": [
    {
     "data": {
      "text/plain": [
       "0.33605876977042604"
      ]
     },
     "execution_count": 48,
     "metadata": {},
     "output_type": "execute_result"
    }
   ],
   "source": [
    "from sklearn.metrics import mean_squared_error\r\n",
    "mean_squared_error(y_train, y_pred)"
   ]
  },
  {
   "cell_type": "code",
   "execution_count": 49,
   "metadata": {},
   "outputs": [
    {
     "data": {
      "text/plain": [
       "21.157317471537638"
      ]
     },
     "execution_count": 49,
     "metadata": {},
     "output_type": "execute_result"
    }
   ],
   "source": [
    "lm.score(X_test, y_test) *100"
   ]
  },
  {
   "cell_type": "code",
   "execution_count": 50,
   "metadata": {},
   "outputs": [],
   "source": [
    "y_pred = lm.predict(X_test)"
   ]
  },
  {
   "cell_type": "code",
   "execution_count": 51,
   "metadata": {},
   "outputs": [
    {
     "data": {
      "text/plain": [
       "0.34184133963335656"
      ]
     },
     "execution_count": 51,
     "metadata": {},
     "output_type": "execute_result"
    }
   ],
   "source": [
    "mean_squared_error(y_test, y_pred)"
   ]
  },
  {
   "cell_type": "code",
   "execution_count": 52,
   "metadata": {},
   "outputs": [
    {
     "data": {
      "text/plain": [
       "23.02581211771757"
      ]
     },
     "execution_count": 52,
     "metadata": {},
     "output_type": "execute_result"
    }
   ],
   "source": [
    "lm.score(X, y) *100"
   ]
  },
  {
   "cell_type": "code",
   "execution_count": 53,
   "metadata": {},
   "outputs": [],
   "source": [
    "y_pred = lm.predict(X)"
   ]
  },
  {
   "cell_type": "code",
   "execution_count": 54,
   "metadata": {},
   "outputs": [
    {
     "data": {
      "text/plain": [
       "0.33721588484175047"
      ]
     },
     "execution_count": 54,
     "metadata": {},
     "output_type": "execute_result"
    }
   ],
   "source": [
    "mean_squared_error(y, y_pred)"
   ]
  },
  {
   "cell_type": "markdown",
   "metadata": {},
   "source": [
    "### Regresión polinómica"
   ]
  },
  {
   "cell_type": "code",
   "execution_count": 55,
   "metadata": {},
   "outputs": [],
   "source": [
    "from sklearn.preprocessing import PolynomialFeatures\r\n",
    "from sklearn.linear_model import LinearRegression\r\n",
    "from sklearn.metrics import r2_score, mean_absolute_error"
   ]
  },
  {
   "cell_type": "code",
   "execution_count": 56,
   "metadata": {},
   "outputs": [],
   "source": [
    "ENS_2017_C2 = pd.read_csv(\"../../data/Bases_trabajo/ENS_2017_C2.csv\", sep =',')"
   ]
  },
  {
   "cell_type": "code",
   "execution_count": 57,
   "metadata": {},
   "outputs": [],
   "source": [
    "ENS_muestra = ENS_2017_C2.sample(n=2000, random_state=101)"
   ]
  },
  {
   "cell_type": "code",
   "execution_count": 58,
   "metadata": {},
   "outputs": [],
   "source": [
    "X = ENS_muestra[['CCAA', 'Sexo', 'Edad',\r\n",
    "       'Actividad_economica_actual', 'Nacionalidad_española', 'Convivencia',\r\n",
    "       'Estado_civil', 'Nivel_estudios', 'Vacunación_gripe',\r\n",
    "       'Toma_tensiónArterial_profesional', 'Medición_colesterol',\r\n",
    "       'Prueba_sangreHeces', 'Colonoscopia', 'Peso(Kg)',\r\n",
    "       'Freq_ActividadFísica', 'Freq_Consumo_FrutaFresca',\r\n",
    "       'Freq_Consumo_Carne', 'Freq_Consumo_Huevos', 'Freq_Consumo_Pescado',\r\n",
    "       'Freq_Consumo_PastaArrozPatatas', 'Freq_Consumo_PanCereales',\r\n",
    "       'Freq_Consumo_VerdurasEnsaladasHortalizas', 'Freq_Consumo_Legumbres',\r\n",
    "       'Freq_Consumo_EmbutidosFiambres', 'Freq_Consumo_Lácteos',\r\n",
    "       'Freq_Consumo_Dulces', 'Freq_Consumo_ComidaRápida',\r\n",
    "       'Freq_Consumo_ZumoNatural', 'Freq_Diaria_CepilladoDientes',\r\n",
    "       '¿Fuma actualmente', 'Freq_Consumo_Alcohol',\r\n",
    "       'ApoyoAfectivoPersonal_AmigosFamiliares', 'ClaseSocial_BasadaOcupación',\r\n",
    "       'Índice_MasaCorporal']]"
   ]
  },
  {
   "cell_type": "code",
   "execution_count": 59,
   "metadata": {},
   "outputs": [],
   "source": [
    "y = ENS_muestra['Salud_percibida']"
   ]
  },
  {
   "cell_type": "code",
   "execution_count": 60,
   "metadata": {},
   "outputs": [],
   "source": [
    "from sklearn.model_selection import train_test_split\r\n",
    "X_train, X_test, y_train, y_test = train_test_split(X, y, test_size=0.2, random_state=101)"
   ]
  },
  {
   "cell_type": "code",
   "execution_count": 61,
   "metadata": {},
   "outputs": [
    {
     "name": "stdout",
     "output_type": "stream",
     "text": [
      "X_poly.shape:  (1600, 630)\n",
      "y_pred (1600,)\n",
      "X_poly.shape:  (1600, 7770)\n",
      "y_pred (1600,)\n",
      "X_poly.shape:  (1600, 73815)\n",
      "y_pred (1600,)\n"
     ]
    }
   ],
   "source": [
    "degree_min = 2\r\n",
    "degree_max = 4\r\n",
    "\r\n",
    "#Creamos un diccionario para obtener los resultados con los diferents degrees\r\n",
    "\r\n",
    "dictionary_scores = {\"degree\":[], \"score\":[], \"score test\": []}\r\n",
    "\r\n",
    "for degree in range(degree_min,degree_max+1):\r\n",
    "    \r\n",
    "    polinominal_model = PolynomialFeatures(degree) \r\n",
    "    X_poly = polinominal_model.fit_transform(X_train, y_train)\r\n",
    "        \r\n",
    "    \r\n",
    "    #######\r\n",
    "    print(\"X_poly.shape: \",X_poly.shape)\r\n",
    "\r\n",
    "    model = LinearRegression()\r\n",
    "    model.fit(X_poly, y_train)\r\n",
    "    y_pred = model.predict(X_poly)\r\n",
    "\r\n",
    "    score = r2_score(y_train, y_pred)\r\n",
    "\r\n",
    "    # para predecir\r\n",
    "    X_test_poly = polinominal_model.fit_transform(X_test)\r\n",
    "    y_test_pred = model.predict(X_test_poly)\r\n",
    "    \r\n",
    "    score_test = r2_score(y_test, y_test_pred)\r\n",
    "\r\n",
    "    print(\"y_pred\", y_pred.shape)\r\n",
    "    \r\n",
    "    #código para crear el dataframe de score\r\n",
    "    lista_val = [degree, score, score_test]\r\n",
    "    for i,e in enumerate([\"degree\", \"score\", \"score test\"]):\r\n",
    "        dictionary_scores[e].append(lista_val[i])\r\n",
    "        \r\n"
   ]
  },
  {
   "cell_type": "code",
   "execution_count": 62,
   "metadata": {},
   "outputs": [],
   "source": [
    "df_score = pd.DataFrame(dictionary_scores)"
   ]
  },
  {
   "cell_type": "code",
   "execution_count": 63,
   "metadata": {},
   "outputs": [
    {
     "data": {
      "text/html": [
       "<div>\n",
       "<style scoped>\n",
       "    .dataframe tbody tr th:only-of-type {\n",
       "        vertical-align: middle;\n",
       "    }\n",
       "\n",
       "    .dataframe tbody tr th {\n",
       "        vertical-align: top;\n",
       "    }\n",
       "\n",
       "    .dataframe thead th {\n",
       "        text-align: right;\n",
       "    }\n",
       "</style>\n",
       "<table border=\"1\" class=\"dataframe\">\n",
       "  <thead>\n",
       "    <tr style=\"text-align: right;\">\n",
       "      <th></th>\n",
       "      <th>score</th>\n",
       "      <th>score test</th>\n",
       "    </tr>\n",
       "    <tr>\n",
       "      <th>degree</th>\n",
       "      <th></th>\n",
       "      <th></th>\n",
       "    </tr>\n",
       "  </thead>\n",
       "  <tbody>\n",
       "    <tr>\n",
       "      <th>2</th>\n",
       "      <td>0.571918</td>\n",
       "      <td>-0.289091</td>\n",
       "    </tr>\n",
       "    <tr>\n",
       "      <th>3</th>\n",
       "      <td>1.000000</td>\n",
       "      <td>-3.850296</td>\n",
       "    </tr>\n",
       "    <tr>\n",
       "      <th>4</th>\n",
       "      <td>1.000000</td>\n",
       "      <td>-5.904668</td>\n",
       "    </tr>\n",
       "  </tbody>\n",
       "</table>\n",
       "</div>"
      ],
      "text/plain": [
       "           score  score test\n",
       "degree                      \n",
       "2       0.571918   -0.289091\n",
       "3       1.000000   -3.850296\n",
       "4       1.000000   -5.904668"
      ]
     },
     "execution_count": 63,
     "metadata": {},
     "output_type": "execute_result"
    }
   ],
   "source": [
    "df_score.groupby([\"degree\"]).max()"
   ]
  },
  {
   "cell_type": "markdown",
   "metadata": {},
   "source": [
    "### Aplico el modelo con 2 degrees a toda la base de datos"
   ]
  },
  {
   "cell_type": "code",
   "execution_count": 66,
   "metadata": {},
   "outputs": [],
   "source": [
    "ENS_2017_C2 = pd.read_csv(\"../../data/Bases_trabajo/ENS_2017_C2.csv\", sep =',')"
   ]
  },
  {
   "cell_type": "code",
   "execution_count": 67,
   "metadata": {},
   "outputs": [],
   "source": [
    "X = ENS_2017_C2[['CCAA', 'Sexo', 'Edad',\r\n",
    "       'Actividad_economica_actual', 'Nacionalidad_española', 'Convivencia',\r\n",
    "       'Estado_civil', 'Nivel_estudios', 'Vacunación_gripe',\r\n",
    "       'Toma_tensiónArterial_profesional', 'Medición_colesterol',\r\n",
    "       'Prueba_sangreHeces', 'Colonoscopia', 'Peso(Kg)',\r\n",
    "       'Freq_ActividadFísica', 'Freq_Consumo_FrutaFresca',\r\n",
    "       'Freq_Consumo_Carne', 'Freq_Consumo_Huevos', 'Freq_Consumo_Pescado',\r\n",
    "       'Freq_Consumo_PastaArrozPatatas', 'Freq_Consumo_PanCereales',\r\n",
    "       'Freq_Consumo_VerdurasEnsaladasHortalizas', 'Freq_Consumo_Legumbres',\r\n",
    "       'Freq_Consumo_EmbutidosFiambres', 'Freq_Consumo_Lácteos',\r\n",
    "       'Freq_Consumo_Dulces', 'Freq_Consumo_ComidaRápida',\r\n",
    "       'Freq_Consumo_ZumoNatural', 'Freq_Diaria_CepilladoDientes',\r\n",
    "       '¿Fuma actualmente', 'Freq_Consumo_Alcohol',\r\n",
    "       'ApoyoAfectivoPersonal_AmigosFamiliares', 'ClaseSocial_BasadaOcupación',\r\n",
    "       'Índice_MasaCorporal',]]"
   ]
  },
  {
   "cell_type": "code",
   "execution_count": 68,
   "metadata": {},
   "outputs": [],
   "source": [
    "y = ENS_2017_C2['Salud_percibida']"
   ]
  },
  {
   "cell_type": "code",
   "execution_count": 69,
   "metadata": {},
   "outputs": [],
   "source": [
    "from sklearn.model_selection import train_test_split\r\n",
    "X_train, X_test, y_train, y_test = train_test_split(X, y, test_size=0.2, random_state=101)"
   ]
  },
  {
   "cell_type": "code",
   "execution_count": 70,
   "metadata": {},
   "outputs": [
    {
     "data": {
      "text/plain": [
       "(6156, 34)"
      ]
     },
     "execution_count": 70,
     "metadata": {},
     "output_type": "execute_result"
    }
   ],
   "source": [
    "X_train.shape"
   ]
  },
  {
   "cell_type": "code",
   "execution_count": 71,
   "metadata": {},
   "outputs": [
    {
     "name": "stdout",
     "output_type": "stream",
     "text": [
      "X_poly.shape:  (6156, 630)\n",
      "y_pred (6156,)\n",
      "Score 0.3474172415823691\n",
      "Score_test 0.19901970004278569\n"
     ]
    }
   ],
   "source": [
    "\r\n",
    "polinominal_model = PolynomialFeatures(degree = 2) \r\n",
    "X_poly = polinominal_model.fit_transform(X_train, y_train)\r\n",
    "        \r\n",
    "    \r\n",
    "#######\r\n",
    "print(\"X_poly.shape: \",X_poly.shape)\r\n",
    "\r\n",
    "model = LinearRegression()\r\n",
    "model.fit(X_poly, y_train)\r\n",
    "y_pred = model.predict(X_poly)\r\n",
    "\r\n",
    "score = r2_score(y_train, y_pred)\r\n",
    "\r\n",
    "# para predecir\r\n",
    "X_test_poly = polinominal_model.fit_transform(X_test)\r\n",
    "y_test_pred = model.predict(X_test_poly)\r\n",
    "    \r\n",
    "score_test = r2_score(y_test, y_test_pred)\r\n",
    "\r\n",
    "print(\"y_pred\", y_pred.shape)\r\n",
    "print(\"Score\", score)  \r\n",
    "print(\"Score_test\", score_test) \r\n",
    "        \r\n"
   ]
  },
  {
   "cell_type": "code",
   "execution_count": 72,
   "metadata": {},
   "outputs": [
    {
     "data": {
      "text/plain": [
       "0.28662613005873855"
      ]
     },
     "execution_count": 72,
     "metadata": {},
     "output_type": "execute_result"
    }
   ],
   "source": [
    "mean_squared_error(y_train, y_pred)"
   ]
  },
  {
   "cell_type": "code",
   "execution_count": 73,
   "metadata": {},
   "outputs": [
    {
     "data": {
      "text/plain": [
       "0.34728419934019444"
      ]
     },
     "execution_count": 73,
     "metadata": {},
     "output_type": "execute_result"
    }
   ],
   "source": [
    "mean_squared_error(y_test, y_test_pred)"
   ]
  },
  {
   "cell_type": "markdown",
   "metadata": {},
   "source": [
    "### SVR"
   ]
  },
  {
   "cell_type": "code",
   "execution_count": 74,
   "metadata": {},
   "outputs": [],
   "source": [
    "ENS_2017_C2 = pd.read_csv(\"../../data/Bases_trabajo/ENS_2017_C2.csv\", sep =',')"
   ]
  },
  {
   "cell_type": "code",
   "execution_count": 75,
   "metadata": {},
   "outputs": [],
   "source": [
    "X = ENS_2017_C2[['CCAA', 'Sexo', 'Edad',\r\n",
    "       'Actividad_economica_actual', 'Nacionalidad_española', 'Convivencia',\r\n",
    "       'Estado_civil', 'Nivel_estudios', 'Vacunación_gripe',\r\n",
    "       'Toma_tensiónArterial_profesional', 'Medición_colesterol',\r\n",
    "       'Prueba_sangreHeces', 'Colonoscopia', 'Peso(Kg)',\r\n",
    "       'Freq_ActividadFísica', 'Freq_Consumo_FrutaFresca',\r\n",
    "       'Freq_Consumo_Carne', 'Freq_Consumo_Huevos', 'Freq_Consumo_Pescado',\r\n",
    "       'Freq_Consumo_PastaArrozPatatas', 'Freq_Consumo_PanCereales',\r\n",
    "       'Freq_Consumo_VerdurasEnsaladasHortalizas', 'Freq_Consumo_Legumbres',\r\n",
    "       'Freq_Consumo_EmbutidosFiambres', 'Freq_Consumo_Lácteos',\r\n",
    "       'Freq_Consumo_Dulces', 'Freq_Consumo_ComidaRápida',\r\n",
    "       'Freq_Consumo_ZumoNatural', 'Freq_Diaria_CepilladoDientes',\r\n",
    "       '¿Fuma actualmente', 'Freq_Consumo_Alcohol',\r\n",
    "       'ApoyoAfectivoPersonal_AmigosFamiliares', 'ClaseSocial_BasadaOcupación',\r\n",
    "       'Índice_MasaCorporal']]"
   ]
  },
  {
   "cell_type": "code",
   "execution_count": 76,
   "metadata": {},
   "outputs": [],
   "source": [
    "y = ENS_2017_C2['Salud_percibida']"
   ]
  },
  {
   "cell_type": "code",
   "execution_count": 77,
   "metadata": {},
   "outputs": [],
   "source": [
    "from sklearn.model_selection import train_test_split\r\n",
    "X_train, X_test, y_train, y_test = train_test_split(X, y, test_size=0.2, random_state=101)"
   ]
  },
  {
   "cell_type": "code",
   "execution_count": 78,
   "metadata": {},
   "outputs": [],
   "source": [
    "from sklearn.svm import SVR"
   ]
  },
  {
   "cell_type": "markdown",
   "metadata": {},
   "source": [
    "### Kernel= 'rbd', C=100, gamma= 0.1, epsilon =.1"
   ]
  },
  {
   "cell_type": "code",
   "execution_count": 79,
   "metadata": {},
   "outputs": [
    {
     "name": "stdout",
     "output_type": "stream",
     "text": [
      "model.score: 0.9772314280043262\n"
     ]
    }
   ],
   "source": [
    "svr_rbf = SVR(kernel='rbf', C=100, gamma=0.1, epsilon=.1)\r\n",
    "model = svr_rbf.fit(X_train, y_train)\r\n",
    "print(\"model.score:\", model.score(X_train, y_train))\r\n",
    "y_prediction = model.predict(X_train)"
   ]
  },
  {
   "cell_type": "code",
   "execution_count": 80,
   "metadata": {},
   "outputs": [
    {
     "data": {
      "text/plain": [
       "0.010000367913347944"
      ]
     },
     "execution_count": 80,
     "metadata": {},
     "output_type": "execute_result"
    }
   ],
   "source": [
    "mean_squared_error(y_train, y_prediction)"
   ]
  },
  {
   "cell_type": "code",
   "execution_count": 81,
   "metadata": {},
   "outputs": [
    {
     "name": "stdout",
     "output_type": "stream",
     "text": [
      "model.score: 0.9769436156987598\n"
     ]
    }
   ],
   "source": [
    "svr_rbf = SVR(kernel='rbf', C=100, gamma=0.1, epsilon=.1)\r\n",
    "model = svr_rbf.fit(X_test, y_test)\r\n",
    "print(\"model.score:\", model.score(X_test, y_test))\r\n",
    "y_prediction = model.predict(X_test)"
   ]
  },
  {
   "cell_type": "code",
   "execution_count": 82,
   "metadata": {},
   "outputs": [
    {
     "data": {
      "text/plain": [
       "0.009996647810394036"
      ]
     },
     "execution_count": 82,
     "metadata": {},
     "output_type": "execute_result"
    }
   ],
   "source": [
    "mean_squared_error(y_test, y_prediction)"
   ]
  },
  {
   "cell_type": "markdown",
   "metadata": {},
   "source": [
    "### ......................................................"
   ]
  },
  {
   "cell_type": "markdown",
   "metadata": {},
   "source": [
    "## Conclusion\r\n",
    "### Regresión lineal.- No es un buen modelo. El modelo explica únicamente un 20,628%, en la muestra de entrenamiento, y un 20,091%, en la de test, de la variación de los resultados\r\n",
    "### Regresión polinómica.- Tampoco es un buen modelo. Se produce sobreentrenamiento. El 32,05% de la variación de los resultados en la muestra de entrenamiento es explicada por el modelo (2 degrees). Con la muestra de test, sin embargo, no se explica en ningún caso la variación de los resultados por este modelo. El coeficiente de determinación es negativo con independencia del número de degrees que se utilice. El error en la muestra de test es muy elevado\r\n",
    "### SVR.- Este es el mejor modelo de los modelos de regresión probados para explicar la variación de los resultados. El modelo explica el 97,65% de la variación de los resultados en la muestra de entrenamiento y el 97,73% en la de test. El error de la predicción (MSE) en ambos casos es muy bajo "
   ]
  }
 ],
 "metadata": {
  "interpreter": {
   "hash": "7980ba124835d5faa10419b5aaaaec0d5be537aa3d05dd29d745d0092f32015f"
  },
  "kernelspec": {
   "display_name": "Python 3.8.9 64-bit",
   "name": "python3"
  },
  "language_info": {
   "codemirror_mode": {
    "name": "ipython",
    "version": 3
   },
   "file_extension": ".py",
   "mimetype": "text/x-python",
   "name": "python",
   "nbconvert_exporter": "python",
   "pygments_lexer": "ipython3",
   "version": "3.8.9"
  },
  "orig_nbformat": 4
 },
 "nbformat": 4,
 "nbformat_minor": 2
}