{
 "cells": [
  {
   "cell_type": "code",
   "execution_count": 24,
   "metadata": {},
   "outputs": [],
   "source": [
    "import pandas as pd\r\n",
    "import numpy as np\r\n",
    "import pandas as pd\r\n",
    "import matplotlib.pyplot as plt"
   ]
  },
  {
   "cell_type": "code",
   "execution_count": 25,
   "metadata": {},
   "outputs": [],
   "source": [
    "\r\n",
    "from sklearn.impute import SimpleImputer\r\n",
    "from sklearn.preprocessing import StandardScaler\r\n",
    "from sklearn.model_selection import train_test_split\r\n",
    "\r\n",
    "from sklearn.linear_model import LinearRegression\r\n",
    "from sklearn.metrics import mean_squared_error"
   ]
  },
  {
   "cell_type": "markdown",
   "metadata": {},
   "source": [
    "## Cluster 0"
   ]
  },
  {
   "cell_type": "code",
   "execution_count": 26,
   "metadata": {},
   "outputs": [],
   "source": [
    "ENS_2017_C0 = pd.read_csv(\"../../data/Bases_trabajo/ENS_2017_C0.csv\", sep =',')"
   ]
  },
  {
   "cell_type": "code",
   "execution_count": 27,
   "metadata": {},
   "outputs": [
    {
     "data": {
      "text/plain": [
       "Index(['Unnamed: 0', 'Unnamed: 0.1', 'Unnamed: 0.1.1', 'CCAA', 'Sexo', 'Edad',\n",
       "       'Actividad_economica_actual', 'Nacionalidad_española', 'Convivencia',\n",
       "       'Estado_civil', 'Nivel_estudios', 'Salud_percibida', 'Vacunación_gripe',\n",
       "       'Toma_tensiónArterial_profesional', 'Medición_colesterol',\n",
       "       'Prueba_sangreHeces', 'Colonoscopia', 'Peso(Kg)',\n",
       "       'Freq_ActividadFísica', 'Freq_Consumo_FrutaFresca',\n",
       "       'Freq_Consumo_Carne', 'Freq_Consumo_Huevos', 'Freq_Consumo_Pescado',\n",
       "       'Freq_Consumo_PastaArrozPatatas', 'Freq_Consumo_PanCereales',\n",
       "       'Freq_Consumo_VerdurasEnsaladasHortalizas', 'Freq_Consumo_Legumbres',\n",
       "       'Freq_Consumo_EmbutidosFiambres', 'Freq_Consumo_Lácteos',\n",
       "       'Freq_Consumo_Dulces', 'Freq_Consumo_ComidaRápida',\n",
       "       'Freq_Consumo_ZumoNatural', 'Freq_Diaria_CepilladoDientes',\n",
       "       '¿Fuma actualmente', 'Freq_Consumo_Alcohol',\n",
       "       'ApoyoAfectivoPersonal_AmigosFamiliares', 'ClaseSocial_BasadaOcupación',\n",
       "       'Índice_MasaCorporal', 'Clusters'],\n",
       "      dtype='object')"
      ]
     },
     "execution_count": 27,
     "metadata": {},
     "output_type": "execute_result"
    }
   ],
   "source": [
    "ENS_2017_C0.columns"
   ]
  },
  {
   "cell_type": "markdown",
   "metadata": {},
   "source": [
    "### Regresión lineal múltiple"
   ]
  },
  {
   "cell_type": "code",
   "execution_count": 28,
   "metadata": {},
   "outputs": [],
   "source": [
    "X = ENS_2017_C0[['CCAA', 'Sexo', 'Edad',\r\n",
    "       'Actividad_economica_actual', 'Nacionalidad_española', 'Convivencia',\r\n",
    "       'Estado_civil', 'Nivel_estudios', 'Vacunación_gripe',\r\n",
    "       'Toma_tensiónArterial_profesional', 'Medición_colesterol',\r\n",
    "       'Prueba_sangreHeces', 'Colonoscopia', 'Peso(Kg)',\r\n",
    "       'Freq_ActividadFísica', 'Freq_Consumo_FrutaFresca',\r\n",
    "       'Freq_Consumo_Carne', 'Freq_Consumo_Huevos', 'Freq_Consumo_Pescado',\r\n",
    "       'Freq_Consumo_PastaArrozPatatas', 'Freq_Consumo_PanCereales',\r\n",
    "       'Freq_Consumo_VerdurasEnsaladasHortalizas', 'Freq_Consumo_Legumbres',\r\n",
    "       'Freq_Consumo_EmbutidosFiambres', 'Freq_Consumo_Lácteos',\r\n",
    "       'Freq_Consumo_Dulces', 'Freq_Consumo_ComidaRápida',\r\n",
    "       'Freq_Consumo_ZumoNatural', 'Freq_Diaria_CepilladoDientes',\r\n",
    "       '¿Fuma actualmente', 'Freq_Consumo_Alcohol',\r\n",
    "       'ApoyoAfectivoPersonal_AmigosFamiliares', 'ClaseSocial_BasadaOcupación',\r\n",
    "       'Índice_MasaCorporal',]]"
   ]
  },
  {
   "cell_type": "code",
   "execution_count": 29,
   "metadata": {},
   "outputs": [],
   "source": [
    "y = ENS_2017_C0['Salud_percibida']"
   ]
  },
  {
   "cell_type": "code",
   "execution_count": 30,
   "metadata": {},
   "outputs": [],
   "source": [
    "from sklearn.model_selection import train_test_split\r\n",
    "X_train, X_test, y_train, y_test = train_test_split(X, y, test_size=0.2, random_state=101)"
   ]
  },
  {
   "cell_type": "code",
   "execution_count": 31,
   "metadata": {},
   "outputs": [],
   "source": [
    "from sklearn.linear_model import LinearRegression"
   ]
  },
  {
   "cell_type": "code",
   "execution_count": 32,
   "metadata": {},
   "outputs": [],
   "source": [
    "lm = LinearRegression(n_jobs=-1)"
   ]
  },
  {
   "cell_type": "code",
   "execution_count": 33,
   "metadata": {},
   "outputs": [
    {
     "data": {
      "text/plain": [
       "LinearRegression(n_jobs=-1)"
      ]
     },
     "execution_count": 33,
     "metadata": {},
     "output_type": "execute_result"
    }
   ],
   "source": [
    "lm.fit(X_train, y_train)"
   ]
  },
  {
   "cell_type": "code",
   "execution_count": 34,
   "metadata": {},
   "outputs": [
    {
     "name": "stdout",
     "output_type": "stream",
     "text": [
      "1.807223942784427\n"
     ]
    }
   ],
   "source": [
    "print(lm.intercept_)"
   ]
  },
  {
   "cell_type": "code",
   "execution_count": 35,
   "metadata": {},
   "outputs": [
    {
     "data": {
      "text/html": [
       "<div>\n",
       "<style scoped>\n",
       "    .dataframe tbody tr th:only-of-type {\n",
       "        vertical-align: middle;\n",
       "    }\n",
       "\n",
       "    .dataframe tbody tr th {\n",
       "        vertical-align: top;\n",
       "    }\n",
       "\n",
       "    .dataframe thead th {\n",
       "        text-align: right;\n",
       "    }\n",
       "</style>\n",
       "<table border=\"1\" class=\"dataframe\">\n",
       "  <thead>\n",
       "    <tr style=\"text-align: right;\">\n",
       "      <th></th>\n",
       "      <th>Coefficient</th>\n",
       "    </tr>\n",
       "  </thead>\n",
       "  <tbody>\n",
       "    <tr>\n",
       "      <th>CCAA</th>\n",
       "      <td>-0.002363</td>\n",
       "    </tr>\n",
       "    <tr>\n",
       "      <th>Sexo</th>\n",
       "      <td>0.049103</td>\n",
       "    </tr>\n",
       "    <tr>\n",
       "      <th>Edad</th>\n",
       "      <td>0.007703</td>\n",
       "    </tr>\n",
       "    <tr>\n",
       "      <th>Actividad_economica_actual</th>\n",
       "      <td>0.043566</td>\n",
       "    </tr>\n",
       "    <tr>\n",
       "      <th>Nacionalidad_española</th>\n",
       "      <td>-0.076633</td>\n",
       "    </tr>\n",
       "    <tr>\n",
       "      <th>Convivencia</th>\n",
       "      <td>0.007995</td>\n",
       "    </tr>\n",
       "    <tr>\n",
       "      <th>Estado_civil</th>\n",
       "      <td>-0.002162</td>\n",
       "    </tr>\n",
       "    <tr>\n",
       "      <th>Nivel_estudios</th>\n",
       "      <td>-0.011135</td>\n",
       "    </tr>\n",
       "    <tr>\n",
       "      <th>Vacunación_gripe</th>\n",
       "      <td>-0.106229</td>\n",
       "    </tr>\n",
       "    <tr>\n",
       "      <th>Toma_tensiónArterial_profesional</th>\n",
       "      <td>-0.096166</td>\n",
       "    </tr>\n",
       "    <tr>\n",
       "      <th>Medición_colesterol</th>\n",
       "      <td>-0.047205</td>\n",
       "    </tr>\n",
       "    <tr>\n",
       "      <th>Prueba_sangreHeces</th>\n",
       "      <td>-0.081786</td>\n",
       "    </tr>\n",
       "    <tr>\n",
       "      <th>Colonoscopia</th>\n",
       "      <td>-0.117638</td>\n",
       "    </tr>\n",
       "    <tr>\n",
       "      <th>Peso(Kg)</th>\n",
       "      <td>-0.000263</td>\n",
       "    </tr>\n",
       "    <tr>\n",
       "      <th>Freq_ActividadFísica</th>\n",
       "      <td>-0.069526</td>\n",
       "    </tr>\n",
       "    <tr>\n",
       "      <th>Freq_Consumo_FrutaFresca</th>\n",
       "      <td>0.014622</td>\n",
       "    </tr>\n",
       "    <tr>\n",
       "      <th>Freq_Consumo_Carne</th>\n",
       "      <td>0.007440</td>\n",
       "    </tr>\n",
       "    <tr>\n",
       "      <th>Freq_Consumo_Huevos</th>\n",
       "      <td>-0.019892</td>\n",
       "    </tr>\n",
       "    <tr>\n",
       "      <th>Freq_Consumo_Pescado</th>\n",
       "      <td>0.000319</td>\n",
       "    </tr>\n",
       "    <tr>\n",
       "      <th>Freq_Consumo_PastaArrozPatatas</th>\n",
       "      <td>-0.004373</td>\n",
       "    </tr>\n",
       "    <tr>\n",
       "      <th>Freq_Consumo_PanCereales</th>\n",
       "      <td>0.027240</td>\n",
       "    </tr>\n",
       "    <tr>\n",
       "      <th>Freq_Consumo_VerdurasEnsaladasHortalizas</th>\n",
       "      <td>0.020135</td>\n",
       "    </tr>\n",
       "    <tr>\n",
       "      <th>Freq_Consumo_Legumbres</th>\n",
       "      <td>-0.008546</td>\n",
       "    </tr>\n",
       "    <tr>\n",
       "      <th>Freq_Consumo_EmbutidosFiambres</th>\n",
       "      <td>-0.004203</td>\n",
       "    </tr>\n",
       "    <tr>\n",
       "      <th>Freq_Consumo_Lácteos</th>\n",
       "      <td>0.006655</td>\n",
       "    </tr>\n",
       "    <tr>\n",
       "      <th>Freq_Consumo_Dulces</th>\n",
       "      <td>0.019602</td>\n",
       "    </tr>\n",
       "    <tr>\n",
       "      <th>Freq_Consumo_ComidaRápida</th>\n",
       "      <td>0.016224</td>\n",
       "    </tr>\n",
       "    <tr>\n",
       "      <th>Freq_Consumo_ZumoNatural</th>\n",
       "      <td>-0.005076</td>\n",
       "    </tr>\n",
       "    <tr>\n",
       "      <th>Freq_Diaria_CepilladoDientes</th>\n",
       "      <td>-0.038509</td>\n",
       "    </tr>\n",
       "    <tr>\n",
       "      <th>¿Fuma actualmente</th>\n",
       "      <td>-0.013503</td>\n",
       "    </tr>\n",
       "    <tr>\n",
       "      <th>Freq_Consumo_Alcohol</th>\n",
       "      <td>0.031218</td>\n",
       "    </tr>\n",
       "    <tr>\n",
       "      <th>ApoyoAfectivoPersonal_AmigosFamiliares</th>\n",
       "      <td>-0.067298</td>\n",
       "    </tr>\n",
       "    <tr>\n",
       "      <th>ClaseSocial_BasadaOcupación</th>\n",
       "      <td>0.025720</td>\n",
       "    </tr>\n",
       "    <tr>\n",
       "      <th>Índice_MasaCorporal</th>\n",
       "      <td>0.038168</td>\n",
       "    </tr>\n",
       "  </tbody>\n",
       "</table>\n",
       "</div>"
      ],
      "text/plain": [
       "                                          Coefficient\n",
       "CCAA                                        -0.002363\n",
       "Sexo                                         0.049103\n",
       "Edad                                         0.007703\n",
       "Actividad_economica_actual                   0.043566\n",
       "Nacionalidad_española                       -0.076633\n",
       "Convivencia                                  0.007995\n",
       "Estado_civil                                -0.002162\n",
       "Nivel_estudios                              -0.011135\n",
       "Vacunación_gripe                            -0.106229\n",
       "Toma_tensiónArterial_profesional            -0.096166\n",
       "Medición_colesterol                         -0.047205\n",
       "Prueba_sangreHeces                          -0.081786\n",
       "Colonoscopia                                -0.117638\n",
       "Peso(Kg)                                    -0.000263\n",
       "Freq_ActividadFísica                        -0.069526\n",
       "Freq_Consumo_FrutaFresca                     0.014622\n",
       "Freq_Consumo_Carne                           0.007440\n",
       "Freq_Consumo_Huevos                         -0.019892\n",
       "Freq_Consumo_Pescado                         0.000319\n",
       "Freq_Consumo_PastaArrozPatatas              -0.004373\n",
       "Freq_Consumo_PanCereales                     0.027240\n",
       "Freq_Consumo_VerdurasEnsaladasHortalizas     0.020135\n",
       "Freq_Consumo_Legumbres                      -0.008546\n",
       "Freq_Consumo_EmbutidosFiambres              -0.004203\n",
       "Freq_Consumo_Lácteos                         0.006655\n",
       "Freq_Consumo_Dulces                          0.019602\n",
       "Freq_Consumo_ComidaRápida                    0.016224\n",
       "Freq_Consumo_ZumoNatural                    -0.005076\n",
       "Freq_Diaria_CepilladoDientes                -0.038509\n",
       "¿Fuma actualmente                           -0.013503\n",
       "Freq_Consumo_Alcohol                         0.031218\n",
       "ApoyoAfectivoPersonal_AmigosFamiliares      -0.067298\n",
       "ClaseSocial_BasadaOcupación                  0.025720\n",
       "Índice_MasaCorporal                          0.038168"
      ]
     },
     "execution_count": 35,
     "metadata": {},
     "output_type": "execute_result"
    }
   ],
   "source": [
    "lm.coef_ # Pendientes de Xn\r\n",
    "coeff_df = pd.DataFrame(lm.coef_, X.columns, columns=['Coefficient'])\r\n",
    "coeff_df"
   ]
  },
  {
   "cell_type": "code",
   "execution_count": 36,
   "metadata": {},
   "outputs": [
    {
     "data": {
      "text/plain": [
       "24.73502601356965"
      ]
     },
     "execution_count": 36,
     "metadata": {},
     "output_type": "execute_result"
    }
   ],
   "source": [
    "lm.score(X_train, y_train) *100"
   ]
  },
  {
   "cell_type": "code",
   "execution_count": 37,
   "metadata": {},
   "outputs": [],
   "source": [
    "y_pred = lm.predict(X_train)"
   ]
  },
  {
   "cell_type": "code",
   "execution_count": 38,
   "metadata": {},
   "outputs": [
    {
     "data": {
      "text/plain": [
       "0.3354986895275645"
      ]
     },
     "execution_count": 38,
     "metadata": {},
     "output_type": "execute_result"
    }
   ],
   "source": [
    "from sklearn.metrics import mean_squared_error\r\n",
    "mean_squared_error(y_train, y_pred)"
   ]
  },
  {
   "cell_type": "code",
   "execution_count": 39,
   "metadata": {},
   "outputs": [
    {
     "data": {
      "text/plain": [
       "21.244177779488137"
      ]
     },
     "execution_count": 39,
     "metadata": {},
     "output_type": "execute_result"
    }
   ],
   "source": [
    "lm.score(X_test, y_test) *100"
   ]
  },
  {
   "cell_type": "code",
   "execution_count": 40,
   "metadata": {},
   "outputs": [],
   "source": [
    "y_pred = lm.predict(X_test)"
   ]
  },
  {
   "cell_type": "code",
   "execution_count": 41,
   "metadata": {},
   "outputs": [
    {
     "data": {
      "text/plain": [
       "0.3536378313707546"
      ]
     },
     "execution_count": 41,
     "metadata": {},
     "output_type": "execute_result"
    }
   ],
   "source": [
    "mean_squared_error(y_test, y_pred)"
   ]
  },
  {
   "cell_type": "code",
   "execution_count": 42,
   "metadata": {},
   "outputs": [
    {
     "data": {
      "text/plain": [
       "24.038779512099385"
      ]
     },
     "execution_count": 42,
     "metadata": {},
     "output_type": "execute_result"
    }
   ],
   "source": [
    "lm.score(X, y) *100"
   ]
  },
  {
   "cell_type": "code",
   "execution_count": 43,
   "metadata": {},
   "outputs": [],
   "source": [
    "y_pred = lm.predict(X)"
   ]
  },
  {
   "cell_type": "code",
   "execution_count": 44,
   "metadata": {},
   "outputs": [
    {
     "data": {
      "text/plain": [
       "0.3391265178962026"
      ]
     },
     "execution_count": 44,
     "metadata": {},
     "output_type": "execute_result"
    }
   ],
   "source": [
    "mean_squared_error(y, y_pred)"
   ]
  },
  {
   "cell_type": "markdown",
   "metadata": {},
   "source": [
    "### Regresión polinómica"
   ]
  },
  {
   "cell_type": "code",
   "execution_count": 45,
   "metadata": {},
   "outputs": [],
   "source": [
    "from sklearn.preprocessing import PolynomialFeatures\r\n",
    "from sklearn.linear_model import LinearRegression\r\n",
    "from sklearn.metrics import r2_score, mean_absolute_error"
   ]
  },
  {
   "cell_type": "code",
   "execution_count": 46,
   "metadata": {},
   "outputs": [],
   "source": [
    "ENS_2017_C0 = pd.read_csv(\"../../data/Bases_trabajo/ENS_2017_C0.csv\", sep =',')"
   ]
  },
  {
   "cell_type": "code",
   "execution_count": 47,
   "metadata": {},
   "outputs": [],
   "source": [
    "ENS_muestra = ENS_2017_C0.sample(n=2000, random_state=101)"
   ]
  },
  {
   "cell_type": "code",
   "execution_count": 48,
   "metadata": {},
   "outputs": [],
   "source": [
    "X = ENS_muestra[['CCAA', 'Sexo', 'Edad',\r\n",
    "       'Actividad_economica_actual', 'Nacionalidad_española', 'Convivencia',\r\n",
    "       'Estado_civil', 'Nivel_estudios', 'Vacunación_gripe',\r\n",
    "       'Toma_tensiónArterial_profesional', 'Medición_colesterol',\r\n",
    "       'Prueba_sangreHeces', 'Colonoscopia', 'Peso(Kg)',\r\n",
    "       'Freq_ActividadFísica', 'Freq_Consumo_FrutaFresca',\r\n",
    "       'Freq_Consumo_Carne', 'Freq_Consumo_Huevos', 'Freq_Consumo_Pescado',\r\n",
    "       'Freq_Consumo_PastaArrozPatatas', 'Freq_Consumo_PanCereales',\r\n",
    "       'Freq_Consumo_VerdurasEnsaladasHortalizas', 'Freq_Consumo_Legumbres',\r\n",
    "       'Freq_Consumo_EmbutidosFiambres', 'Freq_Consumo_Lácteos',\r\n",
    "       'Freq_Consumo_Dulces', 'Freq_Consumo_ComidaRápida',\r\n",
    "       'Freq_Consumo_ZumoNatural', 'Freq_Diaria_CepilladoDientes',\r\n",
    "       '¿Fuma actualmente', 'Freq_Consumo_Alcohol',\r\n",
    "       'ApoyoAfectivoPersonal_AmigosFamiliares', 'ClaseSocial_BasadaOcupación',\r\n",
    "       'Índice_MasaCorporal',]]"
   ]
  },
  {
   "cell_type": "code",
   "execution_count": 49,
   "metadata": {},
   "outputs": [],
   "source": [
    "y = ENS_muestra['Salud_percibida']"
   ]
  },
  {
   "cell_type": "code",
   "execution_count": 50,
   "metadata": {},
   "outputs": [],
   "source": [
    "from sklearn.model_selection import train_test_split\r\n",
    "X_train, X_test, y_train, y_test = train_test_split(X, y, test_size=0.2, random_state=101)"
   ]
  },
  {
   "cell_type": "code",
   "execution_count": 51,
   "metadata": {},
   "outputs": [
    {
     "name": "stdout",
     "output_type": "stream",
     "text": [
      "X_poly.shape:  (1600, 630)\n",
      "y_pred (1600,)\n",
      "X_poly.shape:  (1600, 7770)\n",
      "y_pred (1600,)\n",
      "X_poly.shape:  (1600, 73815)\n",
      "y_pred (1600,)\n"
     ]
    }
   ],
   "source": [
    "degree_min = 2\r\n",
    "degree_max = 4\r\n",
    "\r\n",
    "#Creamos un diccionario para obtener los resultados con los diferents degrees\r\n",
    "\r\n",
    "dictionary_scores = {\"degree\":[], \"score\":[], \"score test\": []}\r\n",
    "\r\n",
    "for degree in range(degree_min,degree_max+1):\r\n",
    "    \r\n",
    "    polinominal_model = PolynomialFeatures(degree) \r\n",
    "    X_poly = polinominal_model.fit_transform(X_train, y_train)\r\n",
    "        \r\n",
    "    \r\n",
    "    #######\r\n",
    "    print(\"X_poly.shape: \",X_poly.shape)\r\n",
    "\r\n",
    "    model = LinearRegression()\r\n",
    "    model.fit(X_poly, y_train)\r\n",
    "    y_pred = model.predict(X_poly)\r\n",
    "\r\n",
    "    score = r2_score(y_train, y_pred)\r\n",
    "\r\n",
    "    # para predecir\r\n",
    "    X_test_poly = polinominal_model.fit_transform(X_test)\r\n",
    "    y_test_pred = model.predict(X_test_poly)\r\n",
    "    \r\n",
    "    score_test = r2_score(y_test, y_test_pred)\r\n",
    "\r\n",
    "    print(\"y_pred\", y_pred.shape)\r\n",
    "    \r\n",
    "    #código para crear el dataframe de score\r\n",
    "    lista_val = [degree, score, score_test]\r\n",
    "    for i,e in enumerate([\"degree\", \"score\", \"score test\"]):\r\n",
    "        dictionary_scores[e].append(lista_val[i])\r\n",
    "        \r\n"
   ]
  },
  {
   "cell_type": "code",
   "execution_count": 52,
   "metadata": {},
   "outputs": [],
   "source": [
    "df_score = pd.DataFrame(dictionary_scores)"
   ]
  },
  {
   "cell_type": "code",
   "execution_count": 53,
   "metadata": {},
   "outputs": [
    {
     "data": {
      "text/html": [
       "<div>\n",
       "<style scoped>\n",
       "    .dataframe tbody tr th:only-of-type {\n",
       "        vertical-align: middle;\n",
       "    }\n",
       "\n",
       "    .dataframe tbody tr th {\n",
       "        vertical-align: top;\n",
       "    }\n",
       "\n",
       "    .dataframe thead th {\n",
       "        text-align: right;\n",
       "    }\n",
       "</style>\n",
       "<table border=\"1\" class=\"dataframe\">\n",
       "  <thead>\n",
       "    <tr style=\"text-align: right;\">\n",
       "      <th></th>\n",
       "      <th>score</th>\n",
       "      <th>score test</th>\n",
       "    </tr>\n",
       "    <tr>\n",
       "      <th>degree</th>\n",
       "      <th></th>\n",
       "      <th></th>\n",
       "    </tr>\n",
       "  </thead>\n",
       "  <tbody>\n",
       "    <tr>\n",
       "      <th>2</th>\n",
       "      <td>0.518203</td>\n",
       "      <td>-0.121196</td>\n",
       "    </tr>\n",
       "    <tr>\n",
       "      <th>3</th>\n",
       "      <td>1.000000</td>\n",
       "      <td>-4.230121</td>\n",
       "    </tr>\n",
       "    <tr>\n",
       "      <th>4</th>\n",
       "      <td>1.000000</td>\n",
       "      <td>-4.431289</td>\n",
       "    </tr>\n",
       "  </tbody>\n",
       "</table>\n",
       "</div>"
      ],
      "text/plain": [
       "           score  score test\n",
       "degree                      \n",
       "2       0.518203   -0.121196\n",
       "3       1.000000   -4.230121\n",
       "4       1.000000   -4.431289"
      ]
     },
     "execution_count": 53,
     "metadata": {},
     "output_type": "execute_result"
    }
   ],
   "source": [
    "df_score.groupby([\"degree\"]).max()"
   ]
  },
  {
   "cell_type": "markdown",
   "metadata": {},
   "source": [
    "### Aplico el modelo con 2 degrees a toda la base de datos"
   ]
  },
  {
   "cell_type": "code",
   "execution_count": 54,
   "metadata": {},
   "outputs": [],
   "source": [
    "ENS_2017_C0 = pd.read_csv(\"../../data/Bases_trabajo/ENS_2017_C0.csv\", sep =',')"
   ]
  },
  {
   "cell_type": "code",
   "execution_count": 56,
   "metadata": {},
   "outputs": [],
   "source": [
    "X = ENS_2017_C0[['CCAA', 'Sexo', 'Edad',\r\n",
    "       'Actividad_economica_actual', 'Nacionalidad_española', 'Convivencia',\r\n",
    "       'Estado_civil', 'Nivel_estudios', 'Vacunación_gripe',\r\n",
    "       'Toma_tensiónArterial_profesional', 'Medición_colesterol',\r\n",
    "       'Prueba_sangreHeces', 'Colonoscopia', 'Peso(Kg)',\r\n",
    "       'Freq_ActividadFísica', 'Freq_Consumo_FrutaFresca',\r\n",
    "       'Freq_Consumo_Carne', 'Freq_Consumo_Huevos', 'Freq_Consumo_Pescado',\r\n",
    "       'Freq_Consumo_PastaArrozPatatas', 'Freq_Consumo_PanCereales',\r\n",
    "       'Freq_Consumo_VerdurasEnsaladasHortalizas', 'Freq_Consumo_Legumbres',\r\n",
    "       'Freq_Consumo_EmbutidosFiambres', 'Freq_Consumo_Lácteos',\r\n",
    "       'Freq_Consumo_Dulces', 'Freq_Consumo_ComidaRápida',\r\n",
    "       'Freq_Consumo_ZumoNatural', 'Freq_Diaria_CepilladoDientes',\r\n",
    "       '¿Fuma actualmente', 'Freq_Consumo_Alcohol',\r\n",
    "       'ApoyoAfectivoPersonal_AmigosFamiliares', 'ClaseSocial_BasadaOcupación',\r\n",
    "       'Índice_MasaCorporal']]"
   ]
  },
  {
   "cell_type": "code",
   "execution_count": 57,
   "metadata": {},
   "outputs": [],
   "source": [
    "y = ENS_2017_C0['Salud_percibida']"
   ]
  },
  {
   "cell_type": "code",
   "execution_count": 58,
   "metadata": {},
   "outputs": [],
   "source": [
    "from sklearn.model_selection import train_test_split\r\n",
    "X_train, X_test, y_train, y_test = train_test_split(X, y, test_size=0.2, random_state=101)"
   ]
  },
  {
   "cell_type": "code",
   "execution_count": 59,
   "metadata": {},
   "outputs": [
    {
     "data": {
      "text/plain": [
       "(6120, 34)"
      ]
     },
     "execution_count": 59,
     "metadata": {},
     "output_type": "execute_result"
    }
   ],
   "source": [
    "X_train.shape"
   ]
  },
  {
   "cell_type": "markdown",
   "metadata": {},
   "source": [
    "### Aplico a toda la base de datos un degree = 2. Aunque el Score es menor, el score test es bastante más bajo"
   ]
  },
  {
   "cell_type": "code",
   "execution_count": 60,
   "metadata": {},
   "outputs": [
    {
     "name": "stdout",
     "output_type": "stream",
     "text": [
      "X_poly.shape:  (6120, 630)\n",
      "y_pred (6120,)\n",
      "Score 0.3593114300025073\n",
      "Score_test 0.15311838123872068\n"
     ]
    }
   ],
   "source": [
    "\r\n",
    "polinominal_model = PolynomialFeatures(degree = 2) \r\n",
    "X_poly = polinominal_model.fit_transform(X_train, y_train)\r\n",
    "        \r\n",
    "    \r\n",
    "#######\r\n",
    "print(\"X_poly.shape: \",X_poly.shape)\r\n",
    "\r\n",
    "model = LinearRegression()\r\n",
    "model.fit(X_poly, y_train)\r\n",
    "y_pred = model.predict(X_poly)\r\n",
    "\r\n",
    "score = r2_score(y_train, y_pred)\r\n",
    "\r\n",
    "# para predecir\r\n",
    "X_test_poly = polinominal_model.fit_transform(X_test)\r\n",
    "y_test_pred = model.predict(X_test_poly)\r\n",
    "    \r\n",
    "score_test = r2_score(y_test, y_test_pred)\r\n",
    "\r\n",
    "print(\"y_pred\", y_pred.shape)\r\n",
    "print(\"Score\", score)  \r\n",
    "print(\"Score_test\", score_test) \r\n",
    "        \r\n"
   ]
  },
  {
   "cell_type": "code",
   "execution_count": 61,
   "metadata": {},
   "outputs": [
    {
     "data": {
      "text/plain": [
       "0.28559124416651205"
      ]
     },
     "execution_count": 61,
     "metadata": {},
     "output_type": "execute_result"
    }
   ],
   "source": [
    "mean_squared_error(y_train, y_pred)"
   ]
  },
  {
   "cell_type": "code",
   "execution_count": 62,
   "metadata": {},
   "outputs": [
    {
     "data": {
      "text/plain": [
       "0.3802758585237541"
      ]
     },
     "execution_count": 62,
     "metadata": {},
     "output_type": "execute_result"
    }
   ],
   "source": [
    "mean_squared_error(y_test, y_test_pred)"
   ]
  },
  {
   "cell_type": "markdown",
   "metadata": {},
   "source": [
    "### SVR"
   ]
  },
  {
   "cell_type": "code",
   "execution_count": 63,
   "metadata": {},
   "outputs": [],
   "source": [
    "ENS_2017_C0 = pd.read_csv(\"../../data/Bases_trabajo/ENS_2017_C0.csv\", sep =',')"
   ]
  },
  {
   "cell_type": "code",
   "execution_count": 64,
   "metadata": {},
   "outputs": [],
   "source": [
    "X = ENS_2017_C0[['CCAA', 'Sexo', 'Edad',\r\n",
    "       'Actividad_economica_actual', 'Nacionalidad_española', 'Convivencia',\r\n",
    "       'Estado_civil', 'Nivel_estudios', 'Vacunación_gripe',\r\n",
    "       'Toma_tensiónArterial_profesional', 'Medición_colesterol',\r\n",
    "       'Prueba_sangreHeces', 'Colonoscopia', 'Peso(Kg)',\r\n",
    "       'Freq_ActividadFísica', 'Freq_Consumo_FrutaFresca',\r\n",
    "       'Freq_Consumo_Carne', 'Freq_Consumo_Huevos', 'Freq_Consumo_Pescado',\r\n",
    "       'Freq_Consumo_PastaArrozPatatas', 'Freq_Consumo_PanCereales',\r\n",
    "       'Freq_Consumo_VerdurasEnsaladasHortalizas', 'Freq_Consumo_Legumbres',\r\n",
    "       'Freq_Consumo_EmbutidosFiambres', 'Freq_Consumo_Lácteos',\r\n",
    "       'Freq_Consumo_Dulces', 'Freq_Consumo_ComidaRápida',\r\n",
    "       'Freq_Consumo_ZumoNatural', 'Freq_Diaria_CepilladoDientes',\r\n",
    "       '¿Fuma actualmente', 'Freq_Consumo_Alcohol',\r\n",
    "       'ApoyoAfectivoPersonal_AmigosFamiliares', 'ClaseSocial_BasadaOcupación',\r\n",
    "       'Índice_MasaCorporal']]"
   ]
  },
  {
   "cell_type": "code",
   "execution_count": 65,
   "metadata": {},
   "outputs": [],
   "source": [
    "y = ENS_2017_C0['Salud_percibida']"
   ]
  },
  {
   "cell_type": "code",
   "execution_count": 66,
   "metadata": {},
   "outputs": [],
   "source": [
    "from sklearn.model_selection import train_test_split\r\n",
    "X_train, X_test, y_train, y_test = train_test_split(X, y, test_size=0.2, random_state=101)"
   ]
  },
  {
   "cell_type": "code",
   "execution_count": 67,
   "metadata": {},
   "outputs": [],
   "source": [
    "from sklearn.svm import SVR"
   ]
  },
  {
   "cell_type": "markdown",
   "metadata": {},
   "source": [
    "### Kernel= 'rbd', C=100, gamma= 0.1, epsilon =.1"
   ]
  },
  {
   "cell_type": "code",
   "execution_count": 68,
   "metadata": {},
   "outputs": [
    {
     "name": "stdout",
     "output_type": "stream",
     "text": [
      "model.score: 0.9775968888472831\n"
     ]
    }
   ],
   "source": [
    "svr_rbf = SVR(kernel='rbf', C=100, gamma=0.1, epsilon=.1)\r\n",
    "model = svr_rbf.fit(X_train, y_train)\r\n",
    "print(\"model.score:\", model.score(X_train, y_train))\r\n",
    "y_prediction = model.predict(X_train)"
   ]
  },
  {
   "cell_type": "code",
   "execution_count": 69,
   "metadata": {},
   "outputs": [
    {
     "data": {
      "text/plain": [
       "0.009986337648149568"
      ]
     },
     "execution_count": 69,
     "metadata": {},
     "output_type": "execute_result"
    }
   ],
   "source": [
    "mean_squared_error(y_train, y_prediction)"
   ]
  },
  {
   "cell_type": "code",
   "execution_count": 70,
   "metadata": {},
   "outputs": [
    {
     "name": "stdout",
     "output_type": "stream",
     "text": [
      "model.score: 0.97772727833828\n"
     ]
    }
   ],
   "source": [
    "svr_rbf = SVR(kernel='rbf', C=100, gamma=0.1, epsilon=.1)\r\n",
    "model = svr_rbf.fit(X_test, y_test)\r\n",
    "print(\"model.score:\", model.score(X_test, y_test))\r\n",
    "y_prediction = model.predict(X_test)"
   ]
  },
  {
   "cell_type": "code",
   "execution_count": 71,
   "metadata": {},
   "outputs": [
    {
     "data": {
      "text/plain": [
       "0.010001136125684025"
      ]
     },
     "execution_count": 71,
     "metadata": {},
     "output_type": "execute_result"
    }
   ],
   "source": [
    "mean_squared_error(y_test, y_prediction)"
   ]
  },
  {
   "cell_type": "markdown",
   "metadata": {},
   "source": [
    "### ......................................................"
   ]
  },
  {
   "cell_type": "markdown",
   "metadata": {},
   "source": [
    "## Conclusion\r\n",
    "### Regresión lineal.- No es un buen modelo. El modelo explica únicamente un 20,628%, en la muestra de entrenamiento, y un 20,091%, en la de test, de la variación de los resultados\r\n",
    "### Regresión polinómica.- Tampoco es un buen modelo. Se produce sobreentrenamiento. El 32,05% de la variación de los resultados en la muestra de entrenamiento es explicada por el modelo (2 degrees). Con la muestra de test, sin embargo, no se explica en ningún caso la variación de los resultados por este modelo. El coeficiente de determinación es negativo con independencia del número de degrees que se utilice. El error en la muestra de test es muy elevado\r\n",
    "### SVR.- Este es el mejor modelo de los modelos de regresión probados para explicar la variación de los resultados. El modelo explica el 97,65% de la variación de los resultados en la muestra de entrenamiento y el 97,73% en la de test. El error de la predicción (MSE) en ambos casos es muy bajo "
   ]
  }
 ],
 "metadata": {
  "interpreter": {
   "hash": "7980ba124835d5faa10419b5aaaaec0d5be537aa3d05dd29d745d0092f32015f"
  },
  "kernelspec": {
   "display_name": "Python 3.8.9 64-bit",
   "name": "python3"
  },
  "language_info": {
   "name": "python",
   "version": ""
  },
  "orig_nbformat": 4
 },
 "nbformat": 4,
 "nbformat_minor": 2
}