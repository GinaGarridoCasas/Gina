{
 "cells": [
  {
   "cell_type": "code",
   "execution_count": null,
   "metadata": {},
   "outputs": [],
   "source": [
    "import tensorflow as tf"
   ]
  },
  {
   "cell_type": "code",
   "execution_count": null,
   "metadata": {},
   "outputs": [],
   "source": [
    "# save\r\n",
    "\r\n",
    "model.save(\"my_model.h5\")\r\n"
   ]
  },
  {
   "cell_type": "code",
   "execution_count": null,
   "metadata": {},
   "outputs": [],
   "source": [
    "# load\r\n",
    "model = tf.keras.models.load_model('my_model.h5')\r\n",
    "model.summary()"
   ]
  },
  {
   "cell_type": "code",
   "execution_count": null,
   "metadata": {},
   "outputs": [],
   "source": [
    "# save\r\n",
    "model_json = model.to_json()\r\n",
    "with open('model.json', 'w') as json_file:\r\n",
    "    json_file.write(model_json)\r\n",
    "\r\n",
    "model.save_weights('model.h5')\r\n",
    "\r\n",
    "# load\r\n",
    "json_file = open('model.json', 'r')\r\n",
    "loaded_model_json = json_file.read()\r\n",
    "json_file.close()\r\n",
    "model = model_from_json(loaded_model_json)\r\n",
    "model.load_weights('model.h5')"
   ]
  }
 ],
 "metadata": {
  "interpreter": {
   "hash": "7980ba124835d5faa10419b5aaaaec0d5be537aa3d05dd29d745d0092f32015f"
  },
  "kernelspec": {
   "display_name": "Python 3.8.9 64-bit",
   "name": "python3"
  },
  "language_info": {
   "name": "python",
   "version": ""
  },
  "orig_nbformat": 4
 },
 "nbformat": 4,
 "nbformat_minor": 2
}