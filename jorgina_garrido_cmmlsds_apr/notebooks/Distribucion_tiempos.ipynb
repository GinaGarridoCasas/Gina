{
 "cells": [
  {
   "cell_type": "code",
   "execution_count": null,
   "source": [
    "import pandas as pd\r\n",
    "import numpy as np\r\n",
    "import matplotlib.pyplot as plt\r\n",
    "\r\n",
    "Tiempo = [10,5,35,50]\r\n",
    "\r\n",
    "Actividades = 'Documentación','Búsqueda de bases','Data_Mining','Machine_learning'\r\n",
    "plt.pie(Tiempo,labels=Actividades,autopct='%1.1f%%')\r\n",
    "plt.title('Tiempo dedicado a actividades Machine_learning')\r\n",
    "plt.axis('equal')\r\n",
    "plt.show()\r\n",
    "\r\n",
    "plt.savefig(\"../reports/Tiempo_dedicado_Machine_learning.jpg\", bbox_inches='tight')"
   ],
   "outputs": [],
   "metadata": {}
  }
 ],
 "metadata": {
  "interpreter": {
   "hash": "7980ba124835d5faa10419b5aaaaec0d5be537aa3d05dd29d745d0092f32015f"
  },
  "kernelspec": {
   "display_name": "Python 3.8.9 64-bit",
   "name": "python3"
  },
  "language_info": {
   "name": "python",
   "version": ""
  },
  "orig_nbformat": 4
 },
 "nbformat": 4,
 "nbformat_minor": 2
}