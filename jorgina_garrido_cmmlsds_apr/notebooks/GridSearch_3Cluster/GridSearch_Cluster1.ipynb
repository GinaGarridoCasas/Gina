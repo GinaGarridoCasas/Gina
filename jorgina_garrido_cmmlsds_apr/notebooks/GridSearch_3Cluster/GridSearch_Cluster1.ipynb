{
 "cells": [
  {
   "cell_type": "code",
   "execution_count": 41,
   "metadata": {},
   "outputs": [],
   "source": [
    "import pandas as pd\r\n",
    "import numpy as np\r\n",
    "\r\n",
    "from sklearn import svm\r\n",
    "from sklearn.tree import DecisionTreeClassifier\r\n",
    "from sklearn.metrics import accuracy_score\r\n",
    "from sklearn import metrics\r\n",
    "\r\n",
    "from sklearn.model_selection import GridSearchCV\r\n",
    "from sklearn.pipeline import Pipeline\r\n",
    "from sklearn.model_selection import RepeatedKFold\r\n",
    "from sklearn.model_selection import train_test_split "
   ]
  },
  {
   "cell_type": "markdown",
   "metadata": {},
   "source": [
    "### Como los dos modelos son de clasificación utilizamos la base de datos en la que las variables numéricas (edad y peso) se han agrupado en categorías"
   ]
  },
  {
   "cell_type": "code",
   "execution_count": 42,
   "metadata": {},
   "outputs": [],
   "source": [
    "ENS_2017_C1_agr = pd.read_csv(\"../../data/Bases_trabajo/ENS_2017_C1_agr.csv\", sep =',')"
   ]
  },
  {
   "cell_type": "code",
   "execution_count": 43,
   "metadata": {},
   "outputs": [],
   "source": [
    "ENS_2017_C1_agr_R = ENS_2017_C1_agr"
   ]
  },
  {
   "cell_type": "code",
   "execution_count": 44,
   "metadata": {},
   "outputs": [],
   "source": [
    "ENS_2017_C1_agr_R= ENS_2017_C1_agr.loc[:,['Edad_ag','Actividad_economica_actual', 'Estado_civil', 'Freq_ActividadFísica', 'Freq_Consumo_VerdurasEnsaladasHortalizas','Freq_Consumo_Alcohol', 'Salud_percibida']]"
   ]
  },
  {
   "cell_type": "code",
   "execution_count": 45,
   "metadata": {},
   "outputs": [
    {
     "data": {
      "text/plain": [
       "Index(['Edad_ag', 'Actividad_economica_actual', 'Estado_civil',\n",
       "       'Freq_ActividadFísica', 'Freq_Consumo_VerdurasEnsaladasHortalizas',\n",
       "       'Freq_Consumo_Alcohol', 'Salud_percibida'],\n",
       "      dtype='object')"
      ]
     },
     "execution_count": 45,
     "metadata": {},
     "output_type": "execute_result"
    }
   ],
   "source": [
    "ENS_2017_C1_agr_R.columns"
   ]
  },
  {
   "cell_type": "code",
   "execution_count": 46,
   "metadata": {},
   "outputs": [],
   "source": [
    "ENS_muestra = ENS_2017_C1_agr_R.sample(n=1500, random_state=101)"
   ]
  },
  {
   "cell_type": "code",
   "execution_count": 47,
   "metadata": {},
   "outputs": [],
   "source": [
    "X = ENS_muestra[['Edad_ag',\r\n",
    "       'Actividad_economica_actual', \r\n",
    "       'Estado_civil', 'Freq_ActividadFísica', 'Freq_Consumo_VerdurasEnsaladasHortalizas', 'Freq_Consumo_Alcohol']]"
   ]
  },
  {
   "cell_type": "code",
   "execution_count": 48,
   "metadata": {},
   "outputs": [],
   "source": [
    "y = ENS_muestra['Salud_percibida']"
   ]
  },
  {
   "cell_type": "code",
   "execution_count": 49,
   "metadata": {},
   "outputs": [],
   "source": [
    "X_train, X_test, y_train, y_test = train_test_split(X, y, test_size=0.2, random_state=42)"
   ]
  },
  {
   "cell_type": "code",
   "execution_count": 50,
   "metadata": {},
   "outputs": [],
   "source": [
    "# Le podemos poner cualquier clasificador. Irá cambiando según va probando pero necesita 1.\r\n",
    "pipe = Pipeline(steps=[('classifier', DecisionTreeClassifier())])\r\n",
    "\r\n",
    "\r\n",
    "decision_tree_params = {\r\n",
    "    'classifier': [DecisionTreeClassifier()]\r\n",
    "    }\r\n",
    "\r\n",
    "svm_params = {\r\n",
    "    'classifier': [svm.SVC()],\r\n",
    "    'classifier__kernel':('rbf',), \r\n",
    "    'classifier__C':[10,], \r\n",
    "    'classifier__gamma': [1,]\r\n",
    "    }\r\n",
    "\r\n",
    "# hypertuning \r\n",
    "# Create space of candidate learning algorithms and their hyperparameters\r\n",
    "search_space = [\r\n",
    "    decision_tree_params,\r\n",
    "    svm_params\r\n",
    "    ]"
   ]
  },
  {
   "cell_type": "code",
   "execution_count": 51,
   "metadata": {},
   "outputs": [
    {
     "name": "stdout",
     "output_type": "stream",
     "text": [
      "\n",
      "############################\n",
      "\n",
      "best estimator: SVC(C=10, gamma=1)\n",
      "\n",
      "############################\n",
      "\n",
      "clf.best_params_ {'classifier': SVC(C=10, gamma=1), 'classifier__C': 10, 'classifier__gamma': 1, 'classifier__kernel': 'rbf'}\n",
      "\n",
      "############################\n",
      "\n",
      "clf.best_score 0.6391666666666668\n",
      "Exactitud training data: 0.8733333333333333\n"
     ]
    }
   ],
   "source": [
    "# Create grid search \r\n",
    "clf = GridSearchCV(estimator=pipe, param_grid=search_space, verbose=0, n_jobs=-1)\r\n",
    "\r\n",
    "# Fit grid search\r\n",
    "best_model = clf.fit(X_train, y_train)\r\n",
    "prediction_train = best_model.predict(X_train)\r\n",
    "\r\n",
    "# View best model\r\n",
    "separator = \"\\n############################\\n\"\r\n",
    "print(separator)\r\n",
    "print(\"best estimator:\", best_model.best_estimator_.get_params()['classifier'])\r\n",
    "print(separator)\r\n",
    "print(\"clf.best_params_\", clf.best_params_)\r\n",
    "print(separator)\r\n",
    "# Mean cross-validated score of the best_estimator\r\n",
    "print(\"clf.best_score\", clf.best_score_)\r\n",
    "# Exactitud del modelo\r\n",
    "print (\"Exactitud training data:\", accuracy_score (y_true = y_train, y_pred = prediction_train))\r\n",
    "\r\n",
    "#SAVE MODEL\r\n",
    "# save the model to disk\r\n",
    "# filename = 'finished_model.sav'\r\n",
    "# pickle.dump(best_model, open(filename, 'wb'))"
   ]
  },
  {
   "cell_type": "code",
   "execution_count": 52,
   "metadata": {},
   "outputs": [
    {
     "name": "stdout",
     "output_type": "stream",
     "text": [
      "\n",
      "############################\n",
      "\n",
      "best estimator: SVC(C=10, gamma=1)\n",
      "\n",
      "############################\n",
      "\n",
      "clf.best_params_ {'classifier': SVC(C=10, gamma=1), 'classifier__C': 10, 'classifier__gamma': 1, 'classifier__kernel': 'rbf'}\n",
      "\n",
      "############################\n",
      "\n",
      "clf.best_score 0.6433333333333333\n",
      "Exactitud test data: 0.9433333333333334\n"
     ]
    }
   ],
   "source": [
    "# Create grid search \r\n",
    "clf = GridSearchCV(estimator=pipe, param_grid=search_space, verbose=0, n_jobs=-1)\r\n",
    "\r\n",
    "# Fit grid search\r\n",
    "best_model = clf.fit(X_test, y_test)\r\n",
    "prediction_test = best_model.predict(X_test)\r\n",
    "\r\n",
    "# View best model\r\n",
    "separator = \"\\n############################\\n\"\r\n",
    "print(separator)\r\n",
    "print(\"best estimator:\", best_model.best_estimator_.get_params()['classifier'])\r\n",
    "print(separator)\r\n",
    "print(\"clf.best_params_\", clf.best_params_)\r\n",
    "print(separator)\r\n",
    "# Mean cross-validated score of the best_estimator\r\n",
    "print(\"clf.best_score\", clf.best_score_)\r\n",
    "# Exactitud del modelo\r\n",
    "print (\"Exactitud test data:\", accuracy_score (y_true = y_test, y_pred = prediction_test))\r\n",
    "\r\n",
    "#SAVE MODEL\r\n",
    "# save the model to disk\r\n",
    "# filename = 'finished_model.sav'\r\n",
    "# pickle.dump(best_model, open(filename, 'wb'))"
   ]
  },
  {
   "cell_type": "markdown",
   "metadata": {},
   "source": [
    "## Gridsearch con todas las variables del cluster 1"
   ]
  },
  {
   "cell_type": "code",
   "execution_count": 53,
   "metadata": {},
   "outputs": [],
   "source": [
    "ENS_2017_C1_agr = pd.read_csv(\"../../data/Bases_trabajo/ENS_2017_C1_agr.csv\", sep =',')"
   ]
  },
  {
   "cell_type": "code",
   "execution_count": 54,
   "metadata": {},
   "outputs": [],
   "source": [
    "ENS_muestra = ENS_2017_C1_agr.sample(n=5000, random_state=101)"
   ]
  },
  {
   "cell_type": "code",
   "execution_count": 55,
   "metadata": {},
   "outputs": [],
   "source": [
    "X = ENS_muestra[['CCAA', 'Sexo', \r\n",
    "       'Actividad_economica_actual', 'Nacionalidad_española', 'Convivencia',\r\n",
    "       'Estado_civil', 'Nivel_estudios', 'Vacunación_gripe',\r\n",
    "       'Toma_tensiónArterial_profesional', 'Medición_colesterol',\r\n",
    "       'Prueba_sangreHeces', 'Colonoscopia', \r\n",
    "       'Freq_ActividadFísica', 'Freq_Consumo_FrutaFresca',\r\n",
    "       'Freq_Consumo_Carne', 'Freq_Consumo_Huevos', 'Freq_Consumo_Pescado',\r\n",
    "       'Freq_Consumo_PastaArrozPatatas', 'Freq_Consumo_PanCereales',\r\n",
    "       'Freq_Consumo_VerdurasEnsaladasHortalizas', 'Freq_Consumo_Legumbres',\r\n",
    "       'Freq_Consumo_EmbutidosFiambres', 'Freq_Consumo_Lácteos',\r\n",
    "       'Freq_Consumo_Dulces', 'Freq_Consumo_ComidaRápida',\r\n",
    "       'Freq_Consumo_ZumoNatural', 'Freq_Diaria_CepilladoDientes',\r\n",
    "       '¿Fuma actualmente', 'Freq_Consumo_Alcohol',\r\n",
    "       'ApoyoAfectivoPersonal_AmigosFamiliares', 'ClaseSocial_BasadaOcupación',\r\n",
    "       'Índice_MasaCorporal','Edad_ag', 'Peso_ag']]"
   ]
  },
  {
   "cell_type": "code",
   "execution_count": 56,
   "metadata": {},
   "outputs": [],
   "source": [
    "y = ENS_muestra['Salud_percibida']"
   ]
  },
  {
   "cell_type": "code",
   "execution_count": 57,
   "metadata": {},
   "outputs": [],
   "source": [
    "X_train, X_test, y_train, y_test = train_test_split(X, y, test_size=0.2, random_state=101)"
   ]
  },
  {
   "cell_type": "code",
   "execution_count": 58,
   "metadata": {},
   "outputs": [],
   "source": [
    "\r\n",
    "pipe = Pipeline(steps=[('classifier', DecisionTreeClassifier())])\r\n",
    "\r\n",
    "\r\n",
    "decision_tree_params = {\r\n",
    "    'classifier': [DecisionTreeClassifier()],\r\n",
    "    }\r\n",
    "\r\n",
    "svm_params = {\r\n",
    "    'classifier': [svm.SVC()],\r\n",
    "    'classifier__kernel':('rbf', ), \r\n",
    "    'classifier__C':[10, ], \r\n",
    "    'classifier__gamma': [1, ]\r\n",
    "    }\r\n",
    "\r\n",
    "# hypertuning \r\n",
    "# Create space of candidate learning algorithms and their hyperparameters\r\n",
    "search_space = [\r\n",
    "    decision_tree_params,\r\n",
    "    svm_params\r\n",
    "    ]"
   ]
  },
  {
   "cell_type": "code",
   "execution_count": 59,
   "metadata": {},
   "outputs": [
    {
     "name": "stdout",
     "output_type": "stream",
     "text": [
      "\n",
      "############################\n",
      "\n",
      "best estimator: SVC(C=10, gamma=1)\n",
      "\n",
      "############################\n",
      "\n",
      "clf.best_params_ {'classifier': SVC(C=10, gamma=1), 'classifier__C': 10, 'classifier__gamma': 1, 'classifier__kernel': 'rbf'}\n",
      "\n",
      "############################\n",
      "\n",
      "clf.best_score 0.6690000000000002\n",
      "Exactitud training data: 1.0\n"
     ]
    }
   ],
   "source": [
    "# Create grid search \r\n",
    "clf = GridSearchCV(estimator=pipe, param_grid=search_space, verbose=0, n_jobs=-1)\r\n",
    "\r\n",
    "# Fit grid search\r\n",
    "best_model = clf.fit(X_train, y_train)\r\n",
    "prediction_train = best_model.predict(X_train)\r\n",
    "\r\n",
    "# View best model\r\n",
    "separator = \"\\n############################\\n\"\r\n",
    "print(separator)\r\n",
    "print(\"best estimator:\", best_model.best_estimator_.get_params()['classifier'])\r\n",
    "print(separator)\r\n",
    "print(\"clf.best_params_\", clf.best_params_)\r\n",
    "print(separator)\r\n",
    "# Mean cross-validated score of the best_estimator\r\n",
    "print(\"clf.best_score\", clf.best_score_)\r\n",
    "# Exactitud del modelo\r\n",
    "print (\"Exactitud training data:\", accuracy_score (y_true = y_train, y_pred = prediction_train))\r\n",
    "\r\n",
    "#SAVE MODEL\r\n",
    "# save the model to disk\r\n",
    "# filename = 'finished_model.sav'\r\n",
    "# pickle.dump(best_model, open(filename, 'wb'))"
   ]
  },
  {
   "cell_type": "code",
   "execution_count": 60,
   "metadata": {},
   "outputs": [
    {
     "name": "stdout",
     "output_type": "stream",
     "text": [
      "\n",
      "############################\n",
      "\n",
      "best estimator: SVC(C=10, gamma=1)\n",
      "\n",
      "############################\n",
      "\n",
      "clf.best_params_ {'classifier': SVC(C=10, gamma=1), 'classifier__C': 10, 'classifier__gamma': 1, 'classifier__kernel': 'rbf'}\n",
      "\n",
      "############################\n",
      "\n",
      "clf.best_score 0.6779999999999999\n",
      "Exactitud test data: 1.0\n"
     ]
    }
   ],
   "source": [
    "clf = GridSearchCV(estimator=pipe, param_grid=search_space, verbose=0, n_jobs=-1)\r\n",
    "\r\n",
    "# Fit grid search\r\n",
    "best_model = clf.fit(X_test, y_test)\r\n",
    "prediction_test = best_model.predict(X_test)\r\n",
    "\r\n",
    "# View best model\r\n",
    "separator = \"\\n############################\\n\"\r\n",
    "print(separator)\r\n",
    "print(\"best estimator:\", best_model.best_estimator_.get_params()['classifier'])\r\n",
    "print(separator)\r\n",
    "print(\"clf.best_params_\", clf.best_params_)\r\n",
    "print(separator)\r\n",
    "# Mean cross-validated score of the best_estimator\r\n",
    "print(\"clf.best_score\", clf.best_score_)\r\n",
    "# Exactitud del modelo\r\n",
    "print (\"Exactitud test data:\", accuracy_score (y_true = y_test, y_pred = prediction_test))\r\n",
    "\r\n",
    "#SAVE MODEL\r\n",
    "# save the model to disk\r\n",
    "# filename = 'finished_model.sav'\r\n",
    "# pickle.dump(best_model, open(filename, 'wb'))"
   ]
  }
 ],
 "metadata": {
  "interpreter": {
   "hash": "7980ba124835d5faa10419b5aaaaec0d5be537aa3d05dd29d745d0092f32015f"
  },
  "kernelspec": {
   "display_name": "Python 3.8.9 64-bit",
   "name": "python3"
  },
  "language_info": {
   "codemirror_mode": {
    "name": "ipython",
    "version": 3
   },
   "file_extension": ".py",
   "mimetype": "text/x-python",
   "name": "python",
   "nbconvert_exporter": "python",
   "pygments_lexer": "ipython3",
   "version": "3.8.9"
  },
  "orig_nbformat": 4
 },
 "nbformat": 4,
 "nbformat_minor": 2
}