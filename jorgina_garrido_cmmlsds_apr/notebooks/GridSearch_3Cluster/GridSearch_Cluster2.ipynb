{
 "cells": [
  {
   "cell_type": "code",
   "execution_count": 1,
   "metadata": {},
   "outputs": [],
   "source": [
    "import pandas as pd\r\n",
    "import numpy as np\r\n",
    "\r\n",
    "from sklearn import svm\r\n",
    "from sklearn.tree import DecisionTreeClassifier\r\n",
    "from sklearn.metrics import accuracy_score\r\n",
    "from sklearn import metrics\r\n",
    "\r\n",
    "from sklearn.model_selection import GridSearchCV\r\n",
    "from sklearn.pipeline import Pipeline\r\n",
    "from sklearn.model_selection import RepeatedKFold\r\n",
    "from sklearn.model_selection import train_test_split "
   ]
  },
  {
   "cell_type": "markdown",
   "metadata": {},
   "source": [
    "### Como los dos modelos son de clasificación utilizamos la base de datos en la que las variables numéricas (edad y peso) se han agrupado en categorías"
   ]
  },
  {
   "cell_type": "code",
   "execution_count": 2,
   "metadata": {},
   "outputs": [],
   "source": [
    "ENS_2017_C2_agr = pd.read_csv(\"../../data/Bases_trabajo/ENS_2017_C2_agr.csv\", sep =',')"
   ]
  },
  {
   "cell_type": "code",
   "execution_count": 3,
   "metadata": {},
   "outputs": [],
   "source": [
    "ENS_2017_C2_agr_R = ENS_2017_C2_agr"
   ]
  },
  {
   "cell_type": "code",
   "execution_count": 4,
   "metadata": {},
   "outputs": [],
   "source": [
    "ENS_2017_C2_agr_R= ENS_2017_C2_agr.loc[:,['Edad_ag','Actividad_economica_actual', 'Freq_ActividadFísica', 'Nivel_estudios','Freq_Consumo_VerdurasEnsaladasHortalizas','ApoyoAfectivoPersonal_AmigosFamiliares', 'Salud_percibida']]"
   ]
  },
  {
   "cell_type": "code",
   "execution_count": 5,
   "metadata": {},
   "outputs": [
    {
     "data": {
      "text/plain": [
       "Index(['Edad_ag', 'Actividad_economica_actual', 'Freq_ActividadFísica',\n",
       "       'Nivel_estudios', 'Freq_Consumo_VerdurasEnsaladasHortalizas',\n",
       "       'ApoyoAfectivoPersonal_AmigosFamiliares', 'Salud_percibida'],\n",
       "      dtype='object')"
      ]
     },
     "execution_count": 5,
     "metadata": {},
     "output_type": "execute_result"
    }
   ],
   "source": [
    "ENS_2017_C2_agr_R.columns"
   ]
  },
  {
   "cell_type": "code",
   "execution_count": 6,
   "metadata": {},
   "outputs": [],
   "source": [
    "ENS_muestra = ENS_2017_C2_agr_R.sample(n=1500, random_state=101)"
   ]
  },
  {
   "cell_type": "code",
   "execution_count": 7,
   "metadata": {},
   "outputs": [],
   "source": [
    "X = ENS_muestra[['Edad_ag','Actividad_economica_actual', 'Freq_ActividadFísica', 'Nivel_estudios','Freq_Consumo_VerdurasEnsaladasHortalizas','ApoyoAfectivoPersonal_AmigosFamiliares']]"
   ]
  },
  {
   "cell_type": "code",
   "execution_count": 8,
   "metadata": {},
   "outputs": [],
   "source": [
    "y = ENS_muestra['Salud_percibida']"
   ]
  },
  {
   "cell_type": "code",
   "execution_count": 9,
   "metadata": {},
   "outputs": [],
   "source": [
    "X_train, X_test, y_train, y_test = train_test_split(X, y, test_size=0.2, random_state=42)"
   ]
  },
  {
   "cell_type": "markdown",
   "metadata": {},
   "source": [
    "### Solicitamos con Gridsearch que seleccione el mejor modelo de clasificación entre los dos en los que se ha obtenido mejor score (DecissionTreeClassifier y SVC). Utilizamos en ambos casos los parámetros con los que se han obtenido los mejores score"
   ]
  },
  {
   "cell_type": "code",
   "execution_count": 10,
   "metadata": {},
   "outputs": [],
   "source": [
    "pipe = Pipeline(steps=[('classifier', DecisionTreeClassifier())])\r\n",
    "\r\n",
    "\r\n",
    "decision_tree_params = {\r\n",
    "    'classifier': [DecisionTreeClassifier()],\r\n",
    "    'classifier__max_depth': [3,]\r\n",
    "    }\r\n",
    "\r\n",
    "svm_params = {\r\n",
    "    'classifier': [svm.SVC()],\r\n",
    "    'classifier__kernel':('rbf',), \r\n",
    "    'classifier__C':[10,], \r\n",
    "    'classifier__gamma':[1,]\r\n",
    "    }\r\n",
    "\r\n",
    "# hypertuning \r\n",
    "# Create space of candidate learning algorithms and their hyperparameters\r\n",
    "search_space = [\r\n",
    "    decision_tree_params,\r\n",
    "    svm_params\r\n",
    "    ]"
   ]
  },
  {
   "cell_type": "code",
   "execution_count": 11,
   "metadata": {},
   "outputs": [
    {
     "name": "stdout",
     "output_type": "stream",
     "text": [
      "\n",
      "############################\n",
      "\n",
      "best estimator: DecisionTreeClassifier(max_depth=3)\n",
      "\n",
      "############################\n",
      "\n",
      "clf.best_params_ {'classifier': DecisionTreeClassifier(max_depth=3), 'classifier__max_depth': 3}\n",
      "\n",
      "############################\n",
      "\n",
      "clf.best_score 0.6758333333333333\n",
      "Exactitud training data: 0.6916666666666667\n"
     ]
    }
   ],
   "source": [
    "# Create grid search \r\n",
    "clf = GridSearchCV(estimator=pipe, param_grid=search_space, verbose=0, n_jobs=-1)\r\n",
    "\r\n",
    "# Fit grid search\r\n",
    "best_model = clf.fit(X_train, y_train)\r\n",
    "prediction_train = best_model.predict(X_train)\r\n",
    "\r\n",
    "# View best model\r\n",
    "separator = \"\\n############################\\n\"\r\n",
    "print(separator)\r\n",
    "print(\"best estimator:\", best_model.best_estimator_.get_params()['classifier'])\r\n",
    "print(separator)\r\n",
    "print(\"clf.best_params_\", clf.best_params_)\r\n",
    "print(separator)\r\n",
    "# Mean cross-validated score of the best_estimator\r\n",
    "print(\"clf.best_score\", clf.best_score_)\r\n",
    "# Exactitud del modelo\r\n",
    "print (\"Exactitud training data:\", accuracy_score (y_true = y_train, y_pred = prediction_train))\r\n",
    "\r\n",
    "#SAVE MODEL\r\n",
    "# save the model to disk\r\n",
    "# filename = 'finished_model.sav'\r\n",
    "# pickle.dump(best_model, open(filename, 'wb'))"
   ]
  },
  {
   "cell_type": "code",
   "execution_count": 12,
   "metadata": {},
   "outputs": [
    {
     "name": "stdout",
     "output_type": "stream",
     "text": [
      "\n",
      "############################\n",
      "\n",
      "best estimator: DecisionTreeClassifier(max_depth=3)\n",
      "\n",
      "############################\n",
      "\n",
      "clf.best_params_ {'classifier': DecisionTreeClassifier(max_depth=3), 'classifier__max_depth': 3}\n",
      "\n",
      "############################\n",
      "\n",
      "clf.best_score 0.6200000000000001\n",
      "Exactitud test data: 0.69\n"
     ]
    }
   ],
   "source": [
    "# Create grid search \r\n",
    "clf = GridSearchCV(estimator=pipe, param_grid=search_space, verbose=0, n_jobs=-1)\r\n",
    "\r\n",
    "# Fit grid search\r\n",
    "best_model = clf.fit(X_test, y_test)\r\n",
    "prediction_test = best_model.predict(X_test)\r\n",
    "\r\n",
    "# View best model\r\n",
    "separator = \"\\n############################\\n\"\r\n",
    "print(separator)\r\n",
    "print(\"best estimator:\", best_model.best_estimator_.get_params()['classifier'])\r\n",
    "print(separator)\r\n",
    "print(\"clf.best_params_\", clf.best_params_)\r\n",
    "print(separator)\r\n",
    "# Mean cross-validated score of the best_estimator\r\n",
    "print(\"clf.best_score\", clf.best_score_)\r\n",
    "# Exactitud del modelo\r\n",
    "print (\"Exactitud test data:\", accuracy_score (y_true = y_test, y_pred = prediction_test))\r\n",
    "\r\n",
    "\r\n",
    "#SAVE MODEL\r\n",
    "# save the model to disk\r\n",
    "# filename = 'finished_model.sav'\r\n",
    "# pickle.dump(best_model, open(filename, 'wb'))"
   ]
  },
  {
   "cell_type": "markdown",
   "metadata": {},
   "source": [
    "## Gridsearch con todas las variables del cluster 2"
   ]
  },
  {
   "cell_type": "code",
   "execution_count": 13,
   "metadata": {},
   "outputs": [],
   "source": [
    "ENS_2017_C2_agr = pd.read_csv(\"../../data/Bases_trabajo/ENS_2017_C2_agr.csv\", sep =',')"
   ]
  },
  {
   "cell_type": "code",
   "execution_count": 14,
   "metadata": {},
   "outputs": [],
   "source": [
    "ENS_muestra = ENS_2017_C2_agr.sample(n=1500, random_state=101)"
   ]
  },
  {
   "cell_type": "code",
   "execution_count": 15,
   "metadata": {},
   "outputs": [],
   "source": [
    "X = ENS_muestra[['CCAA', 'Sexo', 'Edad_ag',\r\n",
    "       'Actividad_economica_actual', 'Nacionalidad_española', 'Convivencia',\r\n",
    "       'Estado_civil', 'Nivel_estudios', 'Vacunación_gripe',\r\n",
    "       'Toma_tensiónArterial_profesional', 'Medición_colesterol',\r\n",
    "       'Prueba_sangreHeces', 'Colonoscopia', 'Peso_ag',\r\n",
    "       'Freq_ActividadFísica', 'Freq_Consumo_FrutaFresca',\r\n",
    "       'Freq_Consumo_Carne', 'Freq_Consumo_Huevos', 'Freq_Consumo_Pescado',\r\n",
    "       'Freq_Consumo_PastaArrozPatatas', 'Freq_Consumo_PanCereales',\r\n",
    "       'Freq_Consumo_VerdurasEnsaladasHortalizas', 'Freq_Consumo_Legumbres',\r\n",
    "       'Freq_Consumo_EmbutidosFiambres', 'Freq_Consumo_Lácteos',\r\n",
    "       'Freq_Consumo_Dulces', 'Freq_Consumo_ComidaRápida',\r\n",
    "       'Freq_Consumo_ZumoNatural', 'Freq_Diaria_CepilladoDientes',\r\n",
    "       '¿Fuma actualmente', 'Freq_Consumo_Alcohol',\r\n",
    "       'ApoyoAfectivoPersonal_AmigosFamiliares', 'ClaseSocial_BasadaOcupación',\r\n",
    "       'Índice_MasaCorporal']]"
   ]
  },
  {
   "cell_type": "code",
   "execution_count": 16,
   "metadata": {},
   "outputs": [],
   "source": [
    "y = ENS_muestra['Salud_percibida']"
   ]
  },
  {
   "cell_type": "code",
   "execution_count": 17,
   "metadata": {},
   "outputs": [],
   "source": [
    "X_train, X_test, y_train, y_test = train_test_split(X, y, test_size=0.2, random_state=101)"
   ]
  },
  {
   "cell_type": "code",
   "execution_count": 18,
   "metadata": {},
   "outputs": [],
   "source": [
    "pipe = Pipeline(steps=[('classifier', DecisionTreeClassifier())])\r\n",
    "\r\n",
    "\r\n",
    "decision_tree_params = {\r\n",
    "    'classifier': [DecisionTreeClassifier()],\r\n",
    "    'classifier__max_depth': [3,]\r\n",
    "    }\r\n",
    "\r\n",
    "svm_params = {\r\n",
    "    'classifier': [svm.SVC()],\r\n",
    "    'classifier__kernel':('rbf',), \r\n",
    "    'classifier__C':[10,], \r\n",
    "    'classifier__gamma':[1,]\r\n",
    "    }\r\n",
    "\r\n",
    "# hypertuning \r\n",
    "# Create space of candidate learning algorithms and their hyperparameters\r\n",
    "search_space = [\r\n",
    "    decision_tree_params,\r\n",
    "    svm_params\r\n",
    "    ]"
   ]
  },
  {
   "cell_type": "code",
   "execution_count": 19,
   "metadata": {},
   "outputs": [
    {
     "name": "stdout",
     "output_type": "stream",
     "text": [
      "\n",
      "############################\n",
      "\n",
      "best estimator: SVC(C=10, gamma=1)\n",
      "\n",
      "############################\n",
      "\n",
      "clf.best_params_ {'classifier': SVC(C=10, gamma=1), 'classifier__C': 10, 'classifier__gamma': 1, 'classifier__kernel': 'rbf'}\n",
      "\n",
      "############################\n",
      "\n",
      "clf.best_score 0.6683333333333332\n",
      "Exactitud training data: 1.0\n"
     ]
    }
   ],
   "source": [
    "\r\n",
    "# Create grid search \r\n",
    "clf = GridSearchCV(estimator=pipe, param_grid=search_space, verbose=0, n_jobs=-1)\r\n",
    "\r\n",
    "# Fit grid search\r\n",
    "best_model = clf.fit(X_train, y_train)\r\n",
    "prediction_train = best_model.predict(X_train)\r\n",
    "\r\n",
    "# View best model\r\n",
    "separator = \"\\n############################\\n\"\r\n",
    "print(separator)\r\n",
    "print(\"best estimator:\", best_model.best_estimator_.get_params()['classifier'])\r\n",
    "print(separator)\r\n",
    "print(\"clf.best_params_\", clf.best_params_)\r\n",
    "print(separator)\r\n",
    "# Mean cross-validated score of the best_estimator\r\n",
    "print(\"clf.best_score\", clf.best_score_)\r\n",
    "# Exactitud del modelo\r\n",
    "print (\"Exactitud training data:\", accuracy_score (y_true = y_train, y_pred = prediction_train))\r\n",
    "\r\n",
    "#SAVE MODEL\r\n",
    "# save the model to disk\r\n",
    "# filename = 'finished_model.sav'\r\n",
    "# pickle.dump(best_model, open(filename, 'wb'))"
   ]
  },
  {
   "cell_type": "code",
   "execution_count": 20,
   "metadata": {},
   "outputs": [
    {
     "name": "stdout",
     "output_type": "stream",
     "text": [
      "\n",
      "############################\n",
      "\n",
      "best estimator: DecisionTreeClassifier(max_depth=3)\n",
      "\n",
      "############################\n",
      "\n",
      "clf.best_params_ {'classifier': DecisionTreeClassifier(max_depth=3), 'classifier__max_depth': 3}\n",
      "\n",
      "############################\n",
      "\n",
      "clf.best_score 0.6599999999999999\n",
      "Exactitud test data: 0.72\n"
     ]
    }
   ],
   "source": [
    "# Create grid search \r\n",
    "clf = GridSearchCV(estimator=pipe, param_grid=search_space, verbose=0, n_jobs=-1)\r\n",
    "\r\n",
    "# Fit grid search\r\n",
    "best_model = clf.fit(X_test, y_test)\r\n",
    "prediction_test = best_model.predict(X_test)\r\n",
    "\r\n",
    "# View best model\r\n",
    "separator = \"\\n############################\\n\"\r\n",
    "print(separator)\r\n",
    "print(\"best estimator:\", best_model.best_estimator_.get_params()['classifier'])\r\n",
    "print(separator)\r\n",
    "print(\"clf.best_params_\", clf.best_params_)\r\n",
    "print(separator)\r\n",
    "# Mean cross-validated score of the best_estimator\r\n",
    "print(\"clf.best_score\", clf.best_score_)\r\n",
    "# Exactitud del modelo\r\n",
    "print (\"Exactitud test data:\", accuracy_score (y_true = y_test, y_pred = prediction_test))\r\n",
    "\r\n",
    "\r\n",
    "#SAVE MODEL\r\n",
    "# save the model to disk\r\n",
    "# filename = 'finished_model.sav'\r\n",
    "# pickle.dump(best_model, open(filename, 'wb'))"
   ]
  }
 ],
 "metadata": {
  "interpreter": {
   "hash": "7980ba124835d5faa10419b5aaaaec0d5be537aa3d05dd29d745d0092f32015f"
  },
  "kernelspec": {
   "display_name": "Python 3.8.9 64-bit",
   "name": "python3"
  },
  "language_info": {
   "codemirror_mode": {
    "name": "ipython",
    "version": 3
   },
   "file_extension": ".py",
   "mimetype": "text/x-python",
   "name": "python",
   "nbconvert_exporter": "python",
   "pygments_lexer": "ipython3",
   "version": "3.8.9"
  },
  "orig_nbformat": 4
 },
 "nbformat": 4,
 "nbformat_minor": 2
}