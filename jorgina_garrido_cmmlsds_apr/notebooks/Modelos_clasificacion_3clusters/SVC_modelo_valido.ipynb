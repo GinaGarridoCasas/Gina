{
 "cells": [
  {
   "cell_type": "code",
   "execution_count": 9,
   "source": [
    "import pandas as pd\r\n",
    "import numpy as np\r\n",
    "from sklearn import model_selection\r\n",
    "from sklearn.metrics import accuracy_score\r\n",
    "from sklearn.model_selection import train_test_split\r\n",
    "from sklearn import svm"
   ],
   "outputs": [],
   "metadata": {}
  },
  {
   "cell_type": "code",
   "execution_count": 10,
   "source": [
    "ENS_2017_C_agr = pd.read_csv(\"../../data/Bases_trabajo/ENS_2017_C_agr.csv\", sep =',')"
   ],
   "outputs": [],
   "metadata": {}
  },
  {
   "cell_type": "markdown",
   "source": [
    "## SVC"
   ],
   "metadata": {}
  },
  {
   "cell_type": "code",
   "execution_count": 11,
   "source": [
    "X = ENS_2017_C_agr[['CCAA', 'Sexo', \r\n",
    "       'Actividad_economica_actual', 'Nacionalidad_española', 'Convivencia',\r\n",
    "       'Estado_civil', 'Nivel_estudios', 'Vacunación_gripe',\r\n",
    "       'Toma_tensiónArterial_profesional', 'Medición_colesterol',\r\n",
    "       'Prueba_sangreHeces', 'Colonoscopia', \r\n",
    "       'Freq_ActividadFísica', 'Freq_Consumo_FrutaFresca',\r\n",
    "       'Freq_Consumo_Carne', 'Freq_Consumo_Huevos', 'Freq_Consumo_Pescado',\r\n",
    "       'Freq_Consumo_PastaArrozPatatas', 'Freq_Consumo_PanCereales',\r\n",
    "       'Freq_Consumo_VerdurasEnsaladasHortalizas', 'Freq_Consumo_Legumbres',\r\n",
    "       'Freq_Consumo_EmbutidosFiambres', 'Freq_Consumo_Lácteos',\r\n",
    "       'Freq_Consumo_Dulces', 'Freq_Consumo_ComidaRápida',\r\n",
    "       'Freq_Consumo_ZumoNatural', 'Freq_Diaria_CepilladoDientes',\r\n",
    "       '¿Fuma actualmente', 'Freq_Consumo_Alcohol',\r\n",
    "       'ApoyoAfectivoPersonal_AmigosFamiliares', 'ClaseSocial_BasadaOcupación',\r\n",
    "       'Índice_MasaCorporal','Edad_ag','Peso_ag']]\r\n",
    "\r\n",
    "y = ENS_2017_C_agr['Salud_percibida']"
   ],
   "outputs": [],
   "metadata": {}
  },
  {
   "cell_type": "code",
   "execution_count": 12,
   "source": [
    "X_train, X_test, y_train, y_test = train_test_split(X, y, test_size=0.2, random_state=101)"
   ],
   "outputs": [],
   "metadata": {}
  },
  {
   "cell_type": "code",
   "execution_count": 13,
   "source": [
    "# rbf -- Radial basis function\r\n",
    "clf = svm.SVC(C=10, kernel='rbf', gamma= 1)\r\n",
    "clf.fit(X_train, y_train)\r\n",
    "print ('score:', clf.score(X_train, y_train))\r\n",
    "\r\n",
    "clf = svm.SVC(C=10, kernel='rbf', gamma= 1)\r\n",
    "clf.fit(X_test, y_test)\r\n",
    "print ('score:', clf.score(X_test, y_test))\r\n"
   ],
   "outputs": [
    {
     "output_type": "stream",
     "name": "stdout",
     "text": [
      "score: 1.0\n",
      "score: 1.0\n"
     ]
    }
   ],
   "metadata": {}
  },
  {
   "cell_type": "code",
   "execution_count": 16,
   "source": [
    "import pickle\r\n",
    "# save the classifier\r\n",
    "with open('../../modelos/ENS_2017_finalmodel_SVC.pkl', 'wb') as fid:\r\n",
    "    pickle.dump(clf, fid)    "
   ],
   "outputs": [
    {
     "output_type": "error",
     "ename": "NameError",
     "evalue": "name 'clf_clf' is not defined",
     "traceback": [
      "\u001b[1;31m---------------------------------------------------------------------------\u001b[0m",
      "\u001b[1;31mNameError\u001b[0m                                 Traceback (most recent call last)",
      "\u001b[1;32m<ipython-input-16-f7e6c0134cbc>\u001b[0m in \u001b[0;36m<module>\u001b[1;34m\u001b[0m\n\u001b[0;32m      2\u001b[0m \u001b[1;31m# save the classifier\u001b[0m\u001b[1;33m\u001b[0m\u001b[1;33m\u001b[0m\u001b[1;33m\u001b[0m\u001b[0m\n\u001b[0;32m      3\u001b[0m \u001b[1;32mwith\u001b[0m \u001b[0mopen\u001b[0m\u001b[1;33m(\u001b[0m\u001b[1;34m'../../modelos/ENS_2017_finalmodel_SVC.pkl'\u001b[0m\u001b[1;33m,\u001b[0m \u001b[1;34m'wb'\u001b[0m\u001b[1;33m)\u001b[0m \u001b[1;32mas\u001b[0m \u001b[0mfid\u001b[0m\u001b[1;33m:\u001b[0m\u001b[1;33m\u001b[0m\u001b[1;33m\u001b[0m\u001b[0m\n\u001b[1;32m----> 4\u001b[1;33m     \u001b[0mpickle\u001b[0m\u001b[1;33m.\u001b[0m\u001b[0mdump\u001b[0m\u001b[1;33m(\u001b[0m\u001b[0mclf_clf\u001b[0m\u001b[1;33m,\u001b[0m \u001b[0mfid\u001b[0m\u001b[1;33m)\u001b[0m\u001b[1;33m\u001b[0m\u001b[1;33m\u001b[0m\u001b[0m\n\u001b[0m",
      "\u001b[1;31mNameError\u001b[0m: name 'clf_clf' is not defined"
     ]
    }
   ],
   "metadata": {}
  }
 ],
 "metadata": {
  "interpreter": {
   "hash": "7980ba124835d5faa10419b5aaaaec0d5be537aa3d05dd29d745d0092f32015f"
  },
  "kernelspec": {
   "display_name": "Python 3.8.9 64-bit",
   "name": "python3"
  },
  "language_info": {
   "codemirror_mode": {
    "name": "ipython",
    "version": 3
   },
   "file_extension": ".py",
   "mimetype": "text/x-python",
   "name": "python",
   "nbconvert_exporter": "python",
   "pygments_lexer": "ipython3",
   "version": "3.8.9"
  },
  "orig_nbformat": 4
 },
 "nbformat": 4,
 "nbformat_minor": 2
}