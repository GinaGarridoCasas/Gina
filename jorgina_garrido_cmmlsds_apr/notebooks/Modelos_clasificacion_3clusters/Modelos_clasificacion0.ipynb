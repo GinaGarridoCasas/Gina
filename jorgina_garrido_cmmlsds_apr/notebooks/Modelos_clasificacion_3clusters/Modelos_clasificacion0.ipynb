{
 "cells": [
  {
   "cell_type": "code",
   "execution_count": 1,
   "metadata": {},
   "outputs": [],
   "source": [
    "import pandas as pd\r\n",
    "import numpy as np\r\n",
    "from sklearn import linear_model\r\n",
    "from sklearn import model_selection\r\n",
    "#from sklearn.model_selection import train_test_split\r\n",
    "from sklearn.metrics import classification_report\r\n",
    "from sklearn.metrics import confusion_matrix\r\n",
    "from sklearn.metrics import accuracy_score\r\n",
    "import matplotlib.pyplot as plt\r\n",
    "import seaborn as sb"
   ]
  },
  {
   "cell_type": "code",
   "execution_count": 2,
   "metadata": {},
   "outputs": [],
   "source": [
    "ENS_2017_C0 = pd.read_csv(\"../../data/Bases_trabajo/ENS_2017_C0.csv\", sep =',')"
   ]
  },
  {
   "cell_type": "code",
   "execution_count": 3,
   "metadata": {},
   "outputs": [],
   "source": [
    "ENS_2017_C0_agr = ENS_2017_C0\r\n",
    "ENS_2017_C0_agr.to_csv('../../data/Bases_trabajo/ENS_2017_C0_agr.csv')"
   ]
  },
  {
   "cell_type": "markdown",
   "metadata": {},
   "source": [
    "### Se pasan a categóricas las dos variables numéricas: Edad y peso"
   ]
  },
  {
   "cell_type": "markdown",
   "metadata": {},
   "source": [
    "#### Se halla la mediana y los cuartiles, 25 y 75 para establecer las categorías de ambas variables"
   ]
  },
  {
   "cell_type": "code",
   "execution_count": 4,
   "metadata": {},
   "outputs": [
    {
     "name": "stdout",
     "output_type": "stream",
     "text": [
      "Edad: 53.0, 39.0, 68.0\n",
      "Peso: 71.0, 62.0, 80.0\n"
     ]
    }
   ],
   "source": [
    "Mediana_Edad = ENS_2017_C0_agr['Edad'].median()\r\n",
    "Cuartil25_Edad =ENS_2017_C0_agr['Edad'].quantile(0.25)\r\n",
    "Cuartil75_Edad =ENS_2017_C0_agr['Edad'].quantile(0.75)\r\n",
    "Mediana_Peso = ENS_2017_C0_agr['Peso(Kg)'].median()\r\n",
    "Cuartil25_Peso = ENS_2017_C0_agr['Peso(Kg)'].quantile(0.25)\r\n",
    "Cuartil75_Peso = ENS_2017_C0_agr['Peso(Kg)'].quantile(0.75)\r\n",
    "\r\n",
    "print (f'Edad: {Mediana_Edad}, {Cuartil25_Edad}, {Cuartil75_Edad}')\r\n",
    "print (f'Peso: {Mediana_Peso}, {Cuartil25_Peso}, {Cuartil75_Peso}')\r\n",
    "\r\n"
   ]
  },
  {
   "cell_type": "markdown",
   "metadata": {},
   "source": [
    "#### Se establecen 4 categorias en función de la mediana y los cuartiles"
   ]
  },
  {
   "cell_type": "code",
   "execution_count": 36,
   "metadata": {},
   "outputs": [],
   "source": [
    "# Edad\r\n",
    "ENS_2017_C0_agr['Edad_ag'] = ENS_2017_C0_agr['Edad']\r\n",
    "\r\n",
    "ENS_2017_C0_agr.loc[ENS_2017_C0_agr['Edad_ag']<= 40,'Edad_ag'] = 1\r\n",
    "ENS_2017_C0_agr.loc[(ENS_2017_C0_agr['Edad_ag']>40) & (ENS_2017_C0_agr['Edad_ag']<=53),'Edad_ag'] = 2\r\n",
    "ENS_2017_C0_agr.loc[(ENS_2017_C0_agr['Edad_ag']>53) & (ENS_2017_C0_agr['Edad_ag']<=68),'Edad_ag'] = 3\r\n",
    "ENS_2017_C0_agr.loc[ENS_2017_C0_agr['Edad_ag']>68,'Edad_ag'] = 4\r\n",
    "\r\n",
    "# Peso\r\n",
    "ENS_2017_C0_agr['Peso_ag'] = ENS_2017_C0_agr['Peso(Kg)']\r\n",
    "\r\n",
    "ENS_2017_C0_agr.loc[ENS_2017_C0_agr['Peso_ag']<= 62,'Peso_ag'] = 1\r\n",
    "ENS_2017_C0_agr.loc[(ENS_2017_C0_agr['Peso_ag']>62) & (ENS_2017_C0_agr['Peso_ag']<=71),'Peso_ag'] = 2\r\n",
    "ENS_2017_C0_agr.loc[(ENS_2017_C0_agr['Peso_ag']>71) & (ENS_2017_C0_agr['Peso_ag']<=82),'Peso_ag'] = 3\r\n",
    "ENS_2017_C0_agr.loc[ENS_2017_C0_agr['Peso_ag']>82,'Peso_ag'] = 4\r\n",
    "\r\n"
   ]
  },
  {
   "cell_type": "code",
   "execution_count": null,
   "metadata": {},
   "outputs": [],
   "source": [
    "del ENS_2017_C0_agr['Edad']\r\n",
    "del ENS_2017_C0_agr['Peso(Kg)']"
   ]
  },
  {
   "cell_type": "code",
   "execution_count": null,
   "metadata": {},
   "outputs": [],
   "source": [
    "ENS_2017_C0_agr.to_csv('../../data/Bases_trabajo/ENS_2017_C0_agr.csv')"
   ]
  },
  {
   "cell_type": "markdown",
   "metadata": {},
   "source": [
    "## Regresión logística"
   ]
  },
  {
   "cell_type": "code",
   "execution_count": 37,
   "metadata": {},
   "outputs": [],
   "source": [
    "X = ENS_2017_C0_agr[['CCAA', 'Sexo', \r\n",
    "       'Actividad_economica_actual', 'Nacionalidad_española', 'Convivencia',\r\n",
    "       'Estado_civil', 'Nivel_estudios', 'Vacunación_gripe',\r\n",
    "       'Toma_tensiónArterial_profesional', 'Medición_colesterol',\r\n",
    "       'Prueba_sangreHeces', 'Colonoscopia', \r\n",
    "       'Freq_ActividadFísica', 'Freq_Consumo_FrutaFresca',\r\n",
    "       'Freq_Consumo_Carne', 'Freq_Consumo_Huevos', 'Freq_Consumo_Pescado',\r\n",
    "       'Freq_Consumo_PastaArrozPatatas', 'Freq_Consumo_PanCereales',\r\n",
    "       'Freq_Consumo_VerdurasEnsaladasHortalizas', 'Freq_Consumo_Legumbres',\r\n",
    "       'Freq_Consumo_EmbutidosFiambres', 'Freq_Consumo_Lácteos',\r\n",
    "       'Freq_Consumo_Dulces', 'Freq_Consumo_ComidaRápida',\r\n",
    "       'Freq_Consumo_ZumoNatural', 'Freq_Diaria_CepilladoDientes',\r\n",
    "       '¿Fuma actualmente', 'Freq_Consumo_Alcohol',\r\n",
    "       'ApoyoAfectivoPersonal_AmigosFamiliares', 'ClaseSocial_BasadaOcupación',\r\n",
    "       'Índice_MasaCorporal','Edad_ag','Peso_ag']]"
   ]
  },
  {
   "cell_type": "code",
   "execution_count": 38,
   "metadata": {},
   "outputs": [],
   "source": [
    "y = ENS_2017_C0_agr['Salud_percibida']"
   ]
  },
  {
   "cell_type": "code",
   "execution_count": 39,
   "metadata": {},
   "outputs": [],
   "source": [
    "from sklearn.model_selection import train_test_split\r\n",
    "X_train, X_test, y_train, y_test = train_test_split(X, y, test_size=0.2, random_state=101)"
   ]
  },
  {
   "cell_type": "markdown",
   "metadata": {},
   "source": [
    "### Entrenamiento"
   ]
  },
  {
   "cell_type": "code",
   "execution_count": 40,
   "metadata": {},
   "outputs": [
    {
     "name": "stderr",
     "output_type": "stream",
     "text": [
      "C:\\Users\\ggarr\\AppData\\Local\\Programs\\Python\\Python38\\lib\\site-packages\\sklearn\\linear_model\\_logistic.py:763: ConvergenceWarning: lbfgs failed to converge (status=1):\n",
      "STOP: TOTAL NO. of ITERATIONS REACHED LIMIT.\n",
      "\n",
      "Increase the number of iterations (max_iter) or scale the data as shown in:\n",
      "    https://scikit-learn.org/stable/modules/preprocessing.html\n",
      "Please also refer to the documentation for alternative solver options:\n",
      "    https://scikit-learn.org/stable/modules/linear_model.html#logistic-regression\n",
      "  n_iter_i = _check_optimize_result(\n"
     ]
    },
    {
     "data": {
      "text/plain": [
       "0.6952614379084967"
      ]
     },
     "execution_count": 40,
     "metadata": {},
     "output_type": "execute_result"
    }
   ],
   "source": [
    "#model = linear_model.LogisticRegression(tol=0.75, C=9)\r\n",
    "model = linear_model.LogisticRegression(max_iter=100)\r\n",
    "# No se está entrenado con el conjunto de entrenamiento\r\n",
    "model.fit(X_train,y_train)\r\n",
    "model.score(X_train, y_train)"
   ]
  },
  {
   "cell_type": "code",
   "execution_count": 41,
   "metadata": {},
   "outputs": [
    {
     "name": "stdout",
     "output_type": "stream",
     "text": [
      "[1 2 1 ... 1 1 1]\n"
     ]
    }
   ],
   "source": [
    "y_predict = model.predict(X_train)\r\n",
    "print(y_predict)"
   ]
  },
  {
   "cell_type": "code",
   "execution_count": 42,
   "metadata": {},
   "outputs": [
    {
     "data": {
      "text/plain": [
       "0.6952614379084967"
      ]
     },
     "execution_count": 42,
     "metadata": {},
     "output_type": "execute_result"
    }
   ],
   "source": [
    "model.score(X_train,y_train)"
   ]
  },
  {
   "cell_type": "markdown",
   "metadata": {},
   "source": [
    "### Test"
   ]
  },
  {
   "cell_type": "code",
   "execution_count": 43,
   "metadata": {},
   "outputs": [
    {
     "name": "stderr",
     "output_type": "stream",
     "text": [
      "C:\\Users\\ggarr\\AppData\\Local\\Programs\\Python\\Python38\\lib\\site-packages\\sklearn\\linear_model\\_logistic.py:763: ConvergenceWarning: lbfgs failed to converge (status=1):\n",
      "STOP: TOTAL NO. of ITERATIONS REACHED LIMIT.\n",
      "\n",
      "Increase the number of iterations (max_iter) or scale the data as shown in:\n",
      "    https://scikit-learn.org/stable/modules/preprocessing.html\n",
      "Please also refer to the documentation for alternative solver options:\n",
      "    https://scikit-learn.org/stable/modules/linear_model.html#logistic-regression\n",
      "  n_iter_i = _check_optimize_result(\n"
     ]
    },
    {
     "data": {
      "text/plain": [
       "0.6882352941176471"
      ]
     },
     "execution_count": 43,
     "metadata": {},
     "output_type": "execute_result"
    }
   ],
   "source": [
    "#model = linear_model.LogisticRegression(tol=0.75, C=9)\r\n",
    "model = linear_model.LogisticRegression(max_iter=100)\r\n",
    "# No se está entrenado con el conjunto de entrenamiento\r\n",
    "model.fit(X_test,y_test)\r\n",
    "model.score(X_test, y_test)"
   ]
  },
  {
   "cell_type": "code",
   "execution_count": 44,
   "metadata": {},
   "outputs": [
    {
     "name": "stdout",
     "output_type": "stream",
     "text": [
      "[3 2 2 ... 1 1 1]\n"
     ]
    }
   ],
   "source": [
    "y_predict = model.predict(X_test)\r\n",
    "print(y_predict)"
   ]
  },
  {
   "cell_type": "code",
   "execution_count": 45,
   "metadata": {},
   "outputs": [
    {
     "data": {
      "text/plain": [
       "0.6882352941176471"
      ]
     },
     "execution_count": 45,
     "metadata": {},
     "output_type": "execute_result"
    }
   ],
   "source": [
    "model.score(X_test,y_test)"
   ]
  },
  {
   "cell_type": "markdown",
   "metadata": {},
   "source": [
    "## KNN"
   ]
  },
  {
   "cell_type": "code",
   "execution_count": 46,
   "metadata": {},
   "outputs": [],
   "source": [
    "X_train, X_test, y_train, y_test = train_test_split(X, y, test_size=0.2, random_state=101)"
   ]
  },
  {
   "cell_type": "markdown",
   "metadata": {},
   "source": [
    "### Entrenamiento"
   ]
  },
  {
   "cell_type": "code",
   "execution_count": 47,
   "metadata": {},
   "outputs": [
    {
     "data": {
      "text/plain": [
       "KNeighborsClassifier(n_neighbors=2)"
      ]
     },
     "execution_count": 47,
     "metadata": {},
     "output_type": "execute_result"
    }
   ],
   "source": [
    "from sklearn.neighbors import KNeighborsClassifier\r\n",
    "\r\n",
    "model = KNeighborsClassifier(n_neighbors=2)\r\n",
    "\r\n",
    "# Train the model using the training sets\r\n",
    "model.fit(X_train, y_train)  # Memorize some trivial features between 'features' and 'label'"
   ]
  },
  {
   "cell_type": "code",
   "execution_count": 48,
   "metadata": {},
   "outputs": [],
   "source": [
    "y_pred = model.predict(X_train)"
   ]
  },
  {
   "cell_type": "code",
   "execution_count": 49,
   "metadata": {},
   "outputs": [
    {
     "name": "stdout",
     "output_type": "stream",
     "text": [
      "Accuracy: 0.7810457516339869\n"
     ]
    }
   ],
   "source": [
    "from sklearn import metrics\r\n",
    "print(\"Accuracy:\", metrics.accuracy_score(y_train, y_pred))"
   ]
  },
  {
   "cell_type": "code",
   "execution_count": 50,
   "metadata": {},
   "outputs": [
    {
     "data": {
      "text/plain": [
       "KNeighborsClassifier(n_neighbors=3)"
      ]
     },
     "execution_count": 50,
     "metadata": {},
     "output_type": "execute_result"
    }
   ],
   "source": [
    "from sklearn.neighbors import KNeighborsClassifier\r\n",
    "\r\n",
    "model = KNeighborsClassifier(n_neighbors=3)\r\n",
    "\r\n",
    "# Train the model using the training sets\r\n",
    "model.fit(X_train, y_train)  # Memorize some trivial features between 'features' and 'label'"
   ]
  },
  {
   "cell_type": "code",
   "execution_count": 51,
   "metadata": {},
   "outputs": [],
   "source": [
    "y_pred = model.predict(X_train)"
   ]
  },
  {
   "cell_type": "code",
   "execution_count": 52,
   "metadata": {},
   "outputs": [
    {
     "name": "stdout",
     "output_type": "stream",
     "text": [
      "Accuracy: 0.7766339869281046\n"
     ]
    }
   ],
   "source": [
    "from sklearn import metrics\r\n",
    "print(\"Accuracy:\", metrics.accuracy_score(y_train, y_pred))"
   ]
  },
  {
   "cell_type": "markdown",
   "metadata": {},
   "source": [
    "### Test"
   ]
  },
  {
   "cell_type": "code",
   "execution_count": 53,
   "metadata": {},
   "outputs": [
    {
     "data": {
      "text/plain": [
       "KNeighborsClassifier(n_neighbors=2)"
      ]
     },
     "execution_count": 53,
     "metadata": {},
     "output_type": "execute_result"
    }
   ],
   "source": [
    "model = KNeighborsClassifier(n_neighbors=2)\r\n",
    "\r\n",
    "# Train the model using the training sets\r\n",
    "model.fit(X_test, y_test)  # Memorize some trivial feat"
   ]
  },
  {
   "cell_type": "code",
   "execution_count": 54,
   "metadata": {},
   "outputs": [],
   "source": [
    "y_pred = model.predict(X_test)"
   ]
  },
  {
   "cell_type": "code",
   "execution_count": 55,
   "metadata": {},
   "outputs": [
    {
     "name": "stdout",
     "output_type": "stream",
     "text": [
      "Accuracy: 0.7738562091503268\n"
     ]
    }
   ],
   "source": [
    "print(\"Accuracy:\", metrics.accuracy_score(y_test, y_pred))"
   ]
  },
  {
   "cell_type": "code",
   "execution_count": 56,
   "metadata": {},
   "outputs": [
    {
     "data": {
      "text/plain": [
       "KNeighborsClassifier(n_neighbors=3)"
      ]
     },
     "execution_count": 56,
     "metadata": {},
     "output_type": "execute_result"
    }
   ],
   "source": [
    "model = KNeighborsClassifier(n_neighbors=3)\r\n",
    "\r\n",
    "# Train the model using the training sets\r\n",
    "model.fit(X_test, y_test)  # Memorize some trivial feat"
   ]
  },
  {
   "cell_type": "code",
   "execution_count": 57,
   "metadata": {},
   "outputs": [],
   "source": [
    "y_pred = model.predict(X_test)"
   ]
  },
  {
   "cell_type": "code",
   "execution_count": 58,
   "metadata": {},
   "outputs": [
    {
     "name": "stdout",
     "output_type": "stream",
     "text": [
      "Accuracy: 0.7647058823529411\n"
     ]
    }
   ],
   "source": [
    "print(\"Accuracy:\", metrics.accuracy_score(y_test, y_pred))"
   ]
  },
  {
   "cell_type": "markdown",
   "metadata": {},
   "source": [
    "## SVC"
   ]
  },
  {
   "cell_type": "code",
   "execution_count": 59,
   "metadata": {},
   "outputs": [],
   "source": [
    "ENS_muestra = ENS_2017_C0_agr.sample(n=2000, random_state=101)"
   ]
  },
  {
   "cell_type": "code",
   "execution_count": 60,
   "metadata": {},
   "outputs": [],
   "source": [
    "X_train, X_test, y_train, y_test = train_test_split(X, y, test_size=0.2, random_state=101)"
   ]
  },
  {
   "cell_type": "markdown",
   "metadata": {},
   "source": [
    "### Vemos que valor de C y gamma son los más adecuados para establecer nuestro modelo"
   ]
  },
  {
   "cell_type": "code",
   "execution_count": 61,
   "metadata": {},
   "outputs": [
    {
     "name": "stdout",
     "output_type": "stream",
     "text": [
      "10 1\n"
     ]
    }
   ],
   "source": [
    "from sklearn import svm\r\n",
    "\r\n",
    "C_cands = [10, 30, 1000, 100]\r\n",
    "gamma_cands = [1, 3, 10, 30]\r\n",
    "max_score = -1\r\n",
    "C_pick = -1\r\n",
    "gamma_pick = -1\r\n",
    "for C in C_cands:\r\n",
    "    for gamma in gamma_cands:\r\n",
    "        clf = svm.SVC(C=C, kernel='rbf', gamma=gamma)\r\n",
    "        clf.fit(X_train, y_train)\r\n",
    "        score = clf.score(X_train, y_train)\r\n",
    "        if score > max_score:\r\n",
    "            max_score = score\r\n",
    "            C_pick = C\r\n",
    "            gamma_pick = gamma\r\n",
    "\r\n",
    "print (C_pick, gamma_pick)"
   ]
  },
  {
   "cell_type": "code",
   "execution_count": 62,
   "metadata": {},
   "outputs": [
    {
     "name": "stdout",
     "output_type": "stream",
     "text": [
      "10 1\n"
     ]
    }
   ],
   "source": [
    "from sklearn import svm\r\n",
    "\r\n",
    "C_cands = [10, 30, 1000, 100]\r\n",
    "gamma_cands = [1, 3, 10, 30]\r\n",
    "max_score = -1\r\n",
    "C_pick = -1\r\n",
    "gamma_pick = -1\r\n",
    "for C in C_cands:\r\n",
    "    for gamma in gamma_cands:\r\n",
    "        clf = svm.SVC(C=C, kernel='rbf', gamma=gamma)\r\n",
    "        clf.fit(X_test, y_test)\r\n",
    "        score = clf.score(X_test, y_test)\r\n",
    "        if score > max_score:\r\n",
    "            max_score = score\r\n",
    "            C_pick = C\r\n",
    "            gamma_pick = gamma\r\n",
    "\r\n",
    "print (C_pick, gamma_pick)"
   ]
  },
  {
   "cell_type": "code",
   "execution_count": 63,
   "metadata": {},
   "outputs": [
    {
     "name": "stdout",
     "output_type": "stream",
     "text": [
      "score: 1.0\n"
     ]
    }
   ],
   "source": [
    "\r\n",
    "# rbf -- Radial basis function\r\n",
    "clf = svm.SVC(C=10, kernel='rbf', gamma= 1)\r\n",
    "clf.fit(X_train, y_train)\r\n",
    "print ('score:', clf.score(X_train, y_train))"
   ]
  },
  {
   "cell_type": "code",
   "execution_count": 64,
   "metadata": {},
   "outputs": [
    {
     "name": "stdout",
     "output_type": "stream",
     "text": [
      "score: 1.0\n"
     ]
    }
   ],
   "source": [
    "clf = svm.SVC(C=10, kernel='rbf', gamma= 1)\r\n",
    "clf.fit(X_test, y_test)\r\n",
    "print ('score:', clf.score(X_test, y_test))"
   ]
  },
  {
   "cell_type": "markdown",
   "metadata": {},
   "source": [
    "### ...................................................."
   ]
  },
  {
   "cell_type": "markdown",
   "metadata": {},
   "source": [
    "## Conclusion. Modelos de clasificación\r\n",
    "### Regresión logística.- Es el modelo con el que se obtienen peores resultados. El modelo explica 69,98%, en la muestra de entrenamiento, y un 68,04%, en la de test, de la variación de los resultados\r\n",
    "### K Nearest Neighbor.- Mejoran los resultados respecto al de regresión logística. La precisión del modelo al clasificar es del 77,94% con 2 Neigbor. Con la muestra de test, la precisión sube muy ligeramente a 79,59%\r\n",
    "### SVC.- Es el modelo que presenta mejores resultados (C=10, Kernel='rbf', gamma=1). Tanto con la muestra de entrenamiento como con la de test el porcentaje de acierto al clasificar los casos es de 1.0 "
   ]
  }
 ],
 "metadata": {
  "interpreter": {
   "hash": "7980ba124835d5faa10419b5aaaaec0d5be537aa3d05dd29d745d0092f32015f"
  },
  "kernelspec": {
   "display_name": "Python 3.8.9 64-bit",
   "name": "python3"
  },
  "language_info": {
   "codemirror_mode": {
    "name": "ipython",
    "version": 3
   },
   "file_extension": ".py",
   "mimetype": "text/x-python",
   "name": "python",
   "nbconvert_exporter": "python",
   "pygments_lexer": "ipython3",
   "version": "3.8.9"
  },
  "orig_nbformat": 4
 },
 "nbformat": 4,
 "nbformat_minor": 2
}