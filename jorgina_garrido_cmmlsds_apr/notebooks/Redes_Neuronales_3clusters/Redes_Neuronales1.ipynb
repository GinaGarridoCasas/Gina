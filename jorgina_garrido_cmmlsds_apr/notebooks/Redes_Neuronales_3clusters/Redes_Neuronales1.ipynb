{
 "cells": [
  {
   "cell_type": "code",
   "execution_count": 1,
   "metadata": {},
   "outputs": [],
   "source": [
    "# TensorFlow y tf.keras\r\n",
    "import tensorflow as tf\r\n",
    "from tensorflow import keras\r\n",
    "from tensorflow.keras import datasets, layers, models\r\n",
    "from keras.layers import Dropout\r\n",
    "\r\n",
    "# Librerias de ayuda\r\n",
    "import pandas as pd\r\n",
    "import numpy as np\r\n",
    "import matplotlib.pyplot as pl"
   ]
  },
  {
   "cell_type": "code",
   "execution_count": 2,
   "metadata": {},
   "outputs": [],
   "source": [
    "ENS_2017_C1 = pd.read_csv(\"../../data/Bases_trabajo/ENS_2017_C1.csv\", sep =',')"
   ]
  },
  {
   "cell_type": "code",
   "execution_count": 3,
   "metadata": {},
   "outputs": [],
   "source": [
    "X = ENS_2017_C1[['CCAA', 'Sexo', 'Edad',\r\n",
    "       'Actividad_economica_actual', 'Nacionalidad_española', 'Convivencia',\r\n",
    "       'Estado_civil', 'Nivel_estudios', 'Vacunación_gripe',\r\n",
    "       'Toma_tensiónArterial_profesional', 'Medición_colesterol',\r\n",
    "       'Prueba_sangreHeces', 'Colonoscopia', 'Peso(Kg)',\r\n",
    "       'Freq_ActividadFísica', 'Freq_Consumo_FrutaFresca',\r\n",
    "       'Freq_Consumo_Carne', 'Freq_Consumo_Huevos', 'Freq_Consumo_Pescado',\r\n",
    "       'Freq_Consumo_PastaArrozPatatas', 'Freq_Consumo_PanCereales',\r\n",
    "       'Freq_Consumo_VerdurasEnsaladasHortalizas', 'Freq_Consumo_Legumbres',\r\n",
    "       'Freq_Consumo_EmbutidosFiambres', 'Freq_Consumo_Lácteos',\r\n",
    "       'Freq_Consumo_Dulces', 'Freq_Consumo_ComidaRápida',\r\n",
    "       'Freq_Consumo_ZumoNatural', 'Freq_Diaria_CepilladoDientes',\r\n",
    "       '¿Fuma actualmente', 'Freq_Consumo_Alcohol',\r\n",
    "       'ApoyoAfectivoPersonal_AmigosFamiliares', 'ClaseSocial_BasadaOcupación',\r\n",
    "       'Índice_MasaCorporal']]"
   ]
  },
  {
   "cell_type": "code",
   "execution_count": 4,
   "metadata": {},
   "outputs": [
    {
     "data": {
      "text/plain": [
       "(7743, 34)"
      ]
     },
     "execution_count": 4,
     "metadata": {},
     "output_type": "execute_result"
    }
   ],
   "source": [
    "X.shape"
   ]
  },
  {
   "cell_type": "code",
   "execution_count": 5,
   "metadata": {},
   "outputs": [],
   "source": [
    "y = ENS_2017_C1['Salud_percibida']"
   ]
  },
  {
   "cell_type": "code",
   "execution_count": 6,
   "metadata": {},
   "outputs": [],
   "source": [
    "from sklearn.model_selection import train_test_split\r\n",
    "X_train, X_test, y_train, y_test = train_test_split(X, y, test_size=0.2, random_state=101)"
   ]
  },
  {
   "cell_type": "code",
   "execution_count": 7,
   "metadata": {},
   "outputs": [],
   "source": [
    "from sklearn.preprocessing import StandardScaler\r\n",
    "\r\n",
    "scaler = StandardScaler().fit(X_train)\r\n",
    "\r\n",
    "X_train = scaler.transform(X_train)\r\n",
    "\r\n",
    "X_test = scaler.transform(X_test)"
   ]
  },
  {
   "cell_type": "code",
   "execution_count": 8,
   "metadata": {},
   "outputs": [
    {
     "data": {
      "text/plain": [
       "(6194, 34)"
      ]
     },
     "execution_count": 8,
     "metadata": {},
     "output_type": "execute_result"
    }
   ],
   "source": [
    "X_train.shape"
   ]
  },
  {
   "cell_type": "code",
   "execution_count": 9,
   "metadata": {},
   "outputs": [
    {
     "data": {
      "text/plain": [
       "(1549, 34)"
      ]
     },
     "execution_count": 9,
     "metadata": {},
     "output_type": "execute_result"
    }
   ],
   "source": [
    "X_test.shape"
   ]
  },
  {
   "cell_type": "code",
   "execution_count": 10,
   "metadata": {},
   "outputs": [
    {
     "data": {
      "text/plain": [
       "1549"
      ]
     },
     "execution_count": 10,
     "metadata": {},
     "output_type": "execute_result"
    }
   ],
   "source": [
    "len(y_test)"
   ]
  },
  {
   "cell_type": "code",
   "execution_count": 11,
   "metadata": {},
   "outputs": [],
   "source": [
    "model = models.Sequential()\r\n",
    "model.add(layers.Dense(32, activation='relu', input_shape = (34,)))\r\n",
    "model.add(layers.Dense(10, activation='relu'))\r\n",
    "model.add(layers.Dense(4,activation='softmax'))\r\n"
   ]
  },
  {
   "cell_type": "code",
   "execution_count": 12,
   "metadata": {},
   "outputs": [],
   "source": [
    "model.compile(optimizer='adam',# Aporta información sobre cómo el modelo se va actualizando con el set de datos\r\n",
    "              loss='sparse_categorical_crossentropy', # Aporta información sobre la exactitud del modelo durante el entrenamiento\r\n",
    "              metrics=['accuracy']) # permite monitorizar el proceso de entrenamiento y test. Se utiliza el método accuracy (exactitud)"
   ]
  },
  {
   "cell_type": "code",
   "execution_count": 13,
   "metadata": {},
   "outputs": [
    {
     "name": "stdout",
     "output_type": "stream",
     "text": [
      "Epoch 1/100\n",
      "194/194 [==============================] - 1s 1ms/step - loss: 0.9374 - accuracy: 0.5982\n",
      "Epoch 2/100\n",
      "194/194 [==============================] - 0s 1ms/step - loss: 0.7425 - accuracy: 0.6828\n",
      "Epoch 3/100\n",
      "194/194 [==============================] - 0s 1ms/step - loss: 0.7235 - accuracy: 0.6886\n",
      "Epoch 4/100\n",
      "194/194 [==============================] - 0s 1ms/step - loss: 0.7132 - accuracy: 0.6933\n",
      "Epoch 5/100\n",
      "194/194 [==============================] - 0s 1ms/step - loss: 0.7063 - accuracy: 0.6952\n",
      "Epoch 6/100\n",
      "194/194 [==============================] - 0s 1ms/step - loss: 0.7012 - accuracy: 0.6955\n",
      "Epoch 7/100\n",
      "194/194 [==============================] - 0s 1ms/step - loss: 0.6959 - accuracy: 0.6984\n",
      "Epoch 8/100\n",
      "194/194 [==============================] - 0s 1ms/step - loss: 0.6904 - accuracy: 0.7015\n",
      "Epoch 9/100\n",
      "194/194 [==============================] - 0s 1ms/step - loss: 0.6864 - accuracy: 0.7033\n",
      "Epoch 10/100\n",
      "194/194 [==============================] - 0s 1ms/step - loss: 0.6809 - accuracy: 0.7034\n",
      "Epoch 11/100\n",
      "194/194 [==============================] - 0s 1ms/step - loss: 0.6768 - accuracy: 0.7067\n",
      "Epoch 12/100\n",
      "194/194 [==============================] - 0s 1ms/step - loss: 0.6724 - accuracy: 0.7057\n",
      "Epoch 13/100\n",
      "194/194 [==============================] - 0s 1ms/step - loss: 0.6687 - accuracy: 0.7120\n",
      "Epoch 14/100\n",
      "194/194 [==============================] - 0s 1ms/step - loss: 0.6639 - accuracy: 0.7121\n",
      "Epoch 15/100\n",
      "194/194 [==============================] - 0s 1ms/step - loss: 0.6598 - accuracy: 0.7157\n",
      "Epoch 16/100\n",
      "194/194 [==============================] - 0s 1ms/step - loss: 0.6553 - accuracy: 0.7173\n",
      "Epoch 17/100\n",
      "194/194 [==============================] - 0s 1ms/step - loss: 0.6518 - accuracy: 0.7217\n",
      "Epoch 18/100\n",
      "194/194 [==============================] - 0s 1ms/step - loss: 0.6488 - accuracy: 0.7205\n",
      "Epoch 19/100\n",
      "194/194 [==============================] - 0s 1ms/step - loss: 0.6444 - accuracy: 0.7210\n",
      "Epoch 20/100\n",
      "194/194 [==============================] - 0s 1ms/step - loss: 0.6411 - accuracy: 0.7244\n",
      "Epoch 21/100\n",
      "194/194 [==============================] - 0s 2ms/step - loss: 0.6372 - accuracy: 0.7263\n",
      "Epoch 22/100\n",
      "194/194 [==============================] - 0s 2ms/step - loss: 0.6342 - accuracy: 0.7284\n",
      "Epoch 23/100\n",
      "194/194 [==============================] - 0s 2ms/step - loss: 0.6311 - accuracy: 0.7301\n",
      "Epoch 24/100\n",
      "194/194 [==============================] - 0s 2ms/step - loss: 0.6286 - accuracy: 0.7297\n",
      "Epoch 25/100\n",
      "194/194 [==============================] - 0s 2ms/step - loss: 0.6258 - accuracy: 0.7325\n",
      "Epoch 26/100\n",
      "194/194 [==============================] - 0s 2ms/step - loss: 0.6236 - accuracy: 0.7341\n",
      "Epoch 27/100\n",
      "194/194 [==============================] - 0s 2ms/step - loss: 0.6209 - accuracy: 0.7372\n",
      "Epoch 28/100\n",
      "194/194 [==============================] - 0s 2ms/step - loss: 0.6180 - accuracy: 0.7339\n",
      "Epoch 29/100\n",
      "194/194 [==============================] - 0s 2ms/step - loss: 0.6150 - accuracy: 0.7347\n",
      "Epoch 30/100\n",
      "194/194 [==============================] - 0s 2ms/step - loss: 0.6131 - accuracy: 0.7383\n",
      "Epoch 31/100\n",
      "194/194 [==============================] - 0s 2ms/step - loss: 0.6123 - accuracy: 0.7391\n",
      "Epoch 32/100\n",
      "194/194 [==============================] - 0s 2ms/step - loss: 0.6086 - accuracy: 0.7399\n",
      "Epoch 33/100\n",
      "194/194 [==============================] - 0s 2ms/step - loss: 0.6066 - accuracy: 0.7444\n",
      "Epoch 34/100\n",
      "194/194 [==============================] - 0s 2ms/step - loss: 0.6051 - accuracy: 0.7439\n",
      "Epoch 35/100\n",
      "194/194 [==============================] - 0s 2ms/step - loss: 0.6019 - accuracy: 0.7483\n",
      "Epoch 36/100\n",
      "194/194 [==============================] - 0s 2ms/step - loss: 0.6014 - accuracy: 0.7439\n",
      "Epoch 37/100\n",
      "194/194 [==============================] - 0s 2ms/step - loss: 0.6007 - accuracy: 0.7493\n",
      "Epoch 38/100\n",
      "194/194 [==============================] - 0s 2ms/step - loss: 0.5987 - accuracy: 0.7459\n",
      "Epoch 39/100\n",
      "194/194 [==============================] - 0s 2ms/step - loss: 0.5968 - accuracy: 0.7486\n",
      "Epoch 40/100\n",
      "194/194 [==============================] - 0s 2ms/step - loss: 0.5947 - accuracy: 0.7491\n",
      "Epoch 41/100\n",
      "194/194 [==============================] - 1s 3ms/step - loss: 0.5932 - accuracy: 0.7498\n",
      "Epoch 42/100\n",
      "194/194 [==============================] - 1s 3ms/step - loss: 0.5922 - accuracy: 0.7504\n",
      "Epoch 43/100\n",
      "194/194 [==============================] - 1s 4ms/step - loss: 0.5908 - accuracy: 0.7527\n",
      "Epoch 44/100\n",
      "194/194 [==============================] - 1s 3ms/step - loss: 0.5880 - accuracy: 0.7540\n",
      "Epoch 45/100\n",
      "194/194 [==============================] - 1s 3ms/step - loss: 0.5874 - accuracy: 0.7535\n",
      "Epoch 46/100\n",
      "194/194 [==============================] - 0s 2ms/step - loss: 0.5855 - accuracy: 0.7554\n",
      "Epoch 47/100\n",
      "194/194 [==============================] - 0s 2ms/step - loss: 0.5836 - accuracy: 0.7557\n",
      "Epoch 48/100\n",
      "194/194 [==============================] - 0s 2ms/step - loss: 0.5843 - accuracy: 0.7515\n",
      "Epoch 49/100\n",
      "194/194 [==============================] - 1s 3ms/step - loss: 0.5816 - accuracy: 0.7614\n",
      "Epoch 50/100\n",
      "194/194 [==============================] - 1s 3ms/step - loss: 0.5806 - accuracy: 0.7585\n",
      "Epoch 51/100\n",
      "194/194 [==============================] - 0s 3ms/step - loss: 0.5774 - accuracy: 0.7556\n",
      "Epoch 52/100\n",
      "194/194 [==============================] - 0s 2ms/step - loss: 0.5781 - accuracy: 0.7554\n",
      "Epoch 53/100\n",
      "194/194 [==============================] - 0s 2ms/step - loss: 0.5752 - accuracy: 0.7586\n",
      "Epoch 54/100\n",
      "194/194 [==============================] - 0s 2ms/step - loss: 0.5744 - accuracy: 0.7614\n",
      "Epoch 55/100\n",
      "194/194 [==============================] - 0s 2ms/step - loss: 0.5743 - accuracy: 0.7588\n",
      "Epoch 56/100\n",
      "194/194 [==============================] - 0s 2ms/step - loss: 0.5718 - accuracy: 0.7599\n",
      "Epoch 57/100\n",
      "194/194 [==============================] - 0s 2ms/step - loss: 0.5713 - accuracy: 0.7630\n",
      "Epoch 58/100\n",
      "194/194 [==============================] - 0s 2ms/step - loss: 0.5703 - accuracy: 0.7594\n",
      "Epoch 59/100\n",
      "194/194 [==============================] - 0s 2ms/step - loss: 0.5690 - accuracy: 0.7627\n",
      "Epoch 60/100\n",
      "194/194 [==============================] - 0s 2ms/step - loss: 0.5676 - accuracy: 0.7640\n",
      "Epoch 61/100\n",
      "194/194 [==============================] - 0s 2ms/step - loss: 0.5661 - accuracy: 0.7614\n",
      "Epoch 62/100\n",
      "194/194 [==============================] - 0s 2ms/step - loss: 0.5658 - accuracy: 0.7632\n",
      "Epoch 63/100\n",
      "194/194 [==============================] - 0s 2ms/step - loss: 0.5663 - accuracy: 0.7624\n",
      "Epoch 64/100\n",
      "194/194 [==============================] - 0s 1ms/step - loss: 0.5634 - accuracy: 0.7632\n",
      "Epoch 65/100\n",
      "194/194 [==============================] - 0s 2ms/step - loss: 0.5633 - accuracy: 0.7641\n",
      "Epoch 66/100\n",
      "194/194 [==============================] - 0s 2ms/step - loss: 0.5624 - accuracy: 0.7690\n",
      "Epoch 67/100\n",
      "194/194 [==============================] - 0s 2ms/step - loss: 0.5613 - accuracy: 0.7669\n",
      "Epoch 68/100\n",
      "194/194 [==============================] - 0s 2ms/step - loss: 0.5601 - accuracy: 0.7665\n",
      "Epoch 69/100\n",
      "194/194 [==============================] - 0s 2ms/step - loss: 0.5589 - accuracy: 0.7678\n",
      "Epoch 70/100\n",
      "194/194 [==============================] - 0s 2ms/step - loss: 0.5590 - accuracy: 0.7680\n",
      "Epoch 71/100\n",
      "194/194 [==============================] - 0s 3ms/step - loss: 0.5571 - accuracy: 0.7724\n",
      "Epoch 72/100\n",
      "194/194 [==============================] - 0s 2ms/step - loss: 0.5571 - accuracy: 0.7707\n",
      "Epoch 73/100\n",
      "194/194 [==============================] - 0s 2ms/step - loss: 0.5559 - accuracy: 0.7680\n",
      "Epoch 74/100\n",
      "194/194 [==============================] - 0s 2ms/step - loss: 0.5552 - accuracy: 0.7707\n",
      "Epoch 75/100\n",
      "194/194 [==============================] - 1s 3ms/step - loss: 0.5539 - accuracy: 0.7722\n",
      "Epoch 76/100\n",
      "194/194 [==============================] - 1s 3ms/step - loss: 0.5540 - accuracy: 0.7685\n",
      "Epoch 77/100\n",
      "194/194 [==============================] - 0s 3ms/step - loss: 0.5534 - accuracy: 0.7730\n",
      "Epoch 78/100\n",
      "194/194 [==============================] - 1s 3ms/step - loss: 0.5490 - accuracy: 0.7753\n",
      "Epoch 79/100\n",
      "194/194 [==============================] - 0s 3ms/step - loss: 0.5504 - accuracy: 0.7716\n",
      "Epoch 80/100\n",
      "194/194 [==============================] - 0s 2ms/step - loss: 0.5502 - accuracy: 0.7719\n",
      "Epoch 81/100\n",
      "194/194 [==============================] - 0s 2ms/step - loss: 0.5493 - accuracy: 0.7686\n",
      "Epoch 82/100\n",
      "194/194 [==============================] - 0s 2ms/step - loss: 0.5491 - accuracy: 0.7728\n",
      "Epoch 83/100\n",
      "194/194 [==============================] - 0s 2ms/step - loss: 0.5477 - accuracy: 0.7748\n",
      "Epoch 84/100\n",
      "194/194 [==============================] - 0s 2ms/step - loss: 0.5467 - accuracy: 0.7758\n",
      "Epoch 85/100\n",
      "194/194 [==============================] - 0s 2ms/step - loss: 0.5458 - accuracy: 0.7748\n",
      "Epoch 86/100\n",
      "194/194 [==============================] - 0s 2ms/step - loss: 0.5470 - accuracy: 0.7759\n",
      "Epoch 87/100\n",
      "194/194 [==============================] - 0s 2ms/step - loss: 0.5435 - accuracy: 0.7798\n",
      "Epoch 88/100\n",
      "194/194 [==============================] - 0s 2ms/step - loss: 0.5454 - accuracy: 0.7737\n",
      "Epoch 89/100\n",
      "194/194 [==============================] - 0s 2ms/step - loss: 0.5422 - accuracy: 0.7774\n",
      "Epoch 90/100\n",
      "194/194 [==============================] - 0s 2ms/step - loss: 0.5428 - accuracy: 0.7775\n",
      "Epoch 91/100\n",
      "194/194 [==============================] - 0s 2ms/step - loss: 0.5415 - accuracy: 0.7780\n",
      "Epoch 92/100\n",
      "194/194 [==============================] - 0s 2ms/step - loss: 0.5408 - accuracy: 0.7780\n",
      "Epoch 93/100\n",
      "194/194 [==============================] - 0s 2ms/step - loss: 0.5407 - accuracy: 0.7791\n",
      "Epoch 94/100\n",
      "194/194 [==============================] - 0s 2ms/step - loss: 0.5393 - accuracy: 0.7791\n",
      "Epoch 95/100\n",
      "194/194 [==============================] - 0s 2ms/step - loss: 0.5398 - accuracy: 0.7795\n",
      "Epoch 96/100\n",
      "194/194 [==============================] - 0s 2ms/step - loss: 0.5376 - accuracy: 0.7799\n",
      "Epoch 97/100\n",
      "194/194 [==============================] - 0s 2ms/step - loss: 0.5364 - accuracy: 0.7795\n",
      "Epoch 98/100\n",
      "194/194 [==============================] - 0s 2ms/step - loss: 0.5372 - accuracy: 0.7806\n",
      "Epoch 99/100\n",
      "194/194 [==============================] - 0s 2ms/step - loss: 0.5354 - accuracy: 0.7811\n",
      "Epoch 100/100\n",
      "194/194 [==============================] - 0s 1ms/step - loss: 0.5348 - accuracy: 0.7788\n"
     ]
    },
    {
     "data": {
      "text/plain": [
       "<tensorflow.python.keras.callbacks.History at 0x221e50f41c0>"
      ]
     },
     "execution_count": 13,
     "metadata": {},
     "output_type": "execute_result"
    }
   ],
   "source": [
    "model.fit(X_train, y_train, epochs=100)"
   ]
  },
  {
   "cell_type": "code",
   "execution_count": 15,
   "metadata": {},
   "outputs": [
    {
     "name": "stdout",
     "output_type": "stream",
     "text": [
      "49/49 - 0s - loss: 0.9560 - accuracy: 0.6281\n",
      "\n",
      "Test accuracy: 0.6281471848487854\n"
     ]
    }
   ],
   "source": [
    "test_loss, test_acc = model.evaluate(X_test,  y_test, verbose=2)\r\n",
    "\r\n",
    "print('\\nTest accuracy:', test_acc)"
   ]
  }
 ],
 "metadata": {
  "interpreter": {
   "hash": "7980ba124835d5faa10419b5aaaaec0d5be537aa3d05dd29d745d0092f32015f"
  },
  "kernelspec": {
   "display_name": "Python 3.8.9 64-bit",
   "name": "python3"
  },
  "language_info": {
   "codemirror_mode": {
    "name": "ipython",
    "version": 3
   },
   "file_extension": ".py",
   "mimetype": "text/x-python",
   "name": "python",
   "nbconvert_exporter": "python",
   "pygments_lexer": "ipython3",
   "version": "3.8.9"
  },
  "orig_nbformat": 4
 },
 "nbformat": 4,
 "nbformat_minor": 2
}