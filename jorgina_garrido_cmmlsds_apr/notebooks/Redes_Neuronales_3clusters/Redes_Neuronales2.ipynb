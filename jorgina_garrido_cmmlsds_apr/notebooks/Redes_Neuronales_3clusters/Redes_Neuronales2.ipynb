{
 "cells": [
  {
   "cell_type": "code",
   "execution_count": 15,
   "metadata": {},
   "outputs": [],
   "source": [
    "# TensorFlow y tf.keras\r\n",
    "import tensorflow as tf\r\n",
    "from tensorflow import keras\r\n",
    "from tensorflow.keras import datasets, layers, models\r\n",
    "from keras.layers import Dropout\r\n",
    "\r\n",
    "# Librerias de ayuda\r\n",
    "import pandas as pd\r\n",
    "import numpy as np\r\n",
    "import matplotlib.pyplot as pl"
   ]
  },
  {
   "cell_type": "code",
   "execution_count": 16,
   "metadata": {},
   "outputs": [],
   "source": [
    "ENS_2017_C2 = pd.read_csv(\"../../data/Bases_trabajo/ENS_2017_C2.csv\", sep =',')"
   ]
  },
  {
   "cell_type": "code",
   "execution_count": 17,
   "metadata": {},
   "outputs": [],
   "source": [
    "X = ENS_2017_C2[['CCAA', 'Sexo', 'Edad',\r\n",
    "       'Actividad_economica_actual', 'Nacionalidad_española', 'Convivencia',\r\n",
    "       'Estado_civil', 'Nivel_estudios', 'Vacunación_gripe',\r\n",
    "       'Toma_tensiónArterial_profesional', 'Medición_colesterol',\r\n",
    "       'Prueba_sangreHeces', 'Colonoscopia', 'Peso(Kg)',\r\n",
    "       'Freq_ActividadFísica', 'Freq_Consumo_FrutaFresca',\r\n",
    "       'Freq_Consumo_Carne', 'Freq_Consumo_Huevos', 'Freq_Consumo_Pescado',\r\n",
    "       'Freq_Consumo_PastaArrozPatatas', 'Freq_Consumo_PanCereales',\r\n",
    "       'Freq_Consumo_VerdurasEnsaladasHortalizas', 'Freq_Consumo_Legumbres',\r\n",
    "       'Freq_Consumo_EmbutidosFiambres', 'Freq_Consumo_Lácteos',\r\n",
    "       'Freq_Consumo_Dulces', 'Freq_Consumo_ComidaRápida',\r\n",
    "       'Freq_Consumo_ZumoNatural', 'Freq_Diaria_CepilladoDientes',\r\n",
    "       '¿Fuma actualmente', 'Freq_Consumo_Alcohol',\r\n",
    "       'ApoyoAfectivoPersonal_AmigosFamiliares', 'ClaseSocial_BasadaOcupación',\r\n",
    "       'Índice_MasaCorporal',]]"
   ]
  },
  {
   "cell_type": "code",
   "execution_count": 18,
   "metadata": {},
   "outputs": [
    {
     "data": {
      "text/plain": [
       "(7696, 34)"
      ]
     },
     "execution_count": 18,
     "metadata": {},
     "output_type": "execute_result"
    }
   ],
   "source": [
    "X.shape"
   ]
  },
  {
   "cell_type": "code",
   "execution_count": 19,
   "metadata": {},
   "outputs": [],
   "source": [
    "y = ENS_2017_C2['Salud_percibida']"
   ]
  },
  {
   "cell_type": "code",
   "execution_count": 20,
   "metadata": {},
   "outputs": [],
   "source": [
    "from sklearn.model_selection import train_test_split\r\n",
    "X_train, X_test, y_train, y_test = train_test_split(X, y, test_size=0.2, random_state=101)"
   ]
  },
  {
   "cell_type": "code",
   "execution_count": 21,
   "metadata": {},
   "outputs": [],
   "source": [
    "from sklearn.preprocessing import StandardScaler\r\n",
    "\r\n",
    "scaler = StandardScaler().fit(X_train)\r\n",
    "\r\n",
    "X_train = scaler.transform(X_train)\r\n",
    "\r\n",
    "X_test = scaler.transform(X_test)"
   ]
  },
  {
   "cell_type": "code",
   "execution_count": 22,
   "metadata": {},
   "outputs": [
    {
     "data": {
      "text/plain": [
       "(6156, 34)"
      ]
     },
     "execution_count": 22,
     "metadata": {},
     "output_type": "execute_result"
    }
   ],
   "source": [
    "X_train.shape"
   ]
  },
  {
   "cell_type": "code",
   "execution_count": 23,
   "metadata": {},
   "outputs": [
    {
     "data": {
      "text/plain": [
       "(1540, 34)"
      ]
     },
     "execution_count": 23,
     "metadata": {},
     "output_type": "execute_result"
    }
   ],
   "source": [
    "X_test.shape"
   ]
  },
  {
   "cell_type": "code",
   "execution_count": 24,
   "metadata": {},
   "outputs": [
    {
     "data": {
      "text/plain": [
       "1540"
      ]
     },
     "execution_count": 24,
     "metadata": {},
     "output_type": "execute_result"
    }
   ],
   "source": [
    "len(y_test)"
   ]
  },
  {
   "cell_type": "code",
   "execution_count": 25,
   "metadata": {},
   "outputs": [],
   "source": [
    "model = models.Sequential()\r\n",
    "model.add(layers.Dense(32, activation='relu', input_shape = (34,)))\r\n",
    "model.add(layers.Dense(10, activation='relu'))\r\n",
    "model.add(layers.Dense(4,activation='softmax'))\r\n"
   ]
  },
  {
   "cell_type": "code",
   "execution_count": 26,
   "metadata": {},
   "outputs": [],
   "source": [
    "model.compile(optimizer='adam',# Aporta información sobre cómo el modelo se va actualizando con el set de datos\r\n",
    "              loss='sparse_categorical_crossentropy', # Aporta información sobre la exactitud del modelo durante el entrenamiento\r\n",
    "              metrics=['accuracy']) # permite monitorizar el proceso de entrenamiento y test. Se utiliza el método accuracy (exactitud)"
   ]
  },
  {
   "cell_type": "code",
   "execution_count": 29,
   "metadata": {},
   "outputs": [
    {
     "name": "stdout",
     "output_type": "stream",
     "text": [
      "Epoch 1/100\n",
      "193/193 [==============================] - 0s 2ms/step - loss: 0.5597 - accuracy: 0.7734\n",
      "Epoch 2/100\n",
      "193/193 [==============================] - 0s 2ms/step - loss: 0.5589 - accuracy: 0.7732\n",
      "Epoch 3/100\n",
      "193/193 [==============================] - 0s 2ms/step - loss: 0.5566 - accuracy: 0.7755\n",
      "Epoch 4/100\n",
      "193/193 [==============================] - 0s 2ms/step - loss: 0.5543 - accuracy: 0.7789\n",
      "Epoch 5/100\n",
      "193/193 [==============================] - 0s 2ms/step - loss: 0.5529 - accuracy: 0.7781\n",
      "Epoch 6/100\n",
      "193/193 [==============================] - 0s 2ms/step - loss: 0.5513 - accuracy: 0.7786\n",
      "Epoch 7/100\n",
      "193/193 [==============================] - 0s 2ms/step - loss: 0.5482 - accuracy: 0.7820\n",
      "Epoch 8/100\n",
      "193/193 [==============================] - 0s 2ms/step - loss: 0.5481 - accuracy: 0.7802\n",
      "Epoch 9/100\n",
      "193/193 [==============================] - 0s 2ms/step - loss: 0.5468 - accuracy: 0.7786\n",
      "Epoch 10/100\n",
      "193/193 [==============================] - 0s 2ms/step - loss: 0.5444 - accuracy: 0.7827\n",
      "Epoch 11/100\n",
      "193/193 [==============================] - 0s 2ms/step - loss: 0.5430 - accuracy: 0.7820\n",
      "Epoch 12/100\n",
      "193/193 [==============================] - 0s 1ms/step - loss: 0.5426 - accuracy: 0.7823\n",
      "Epoch 13/100\n",
      "193/193 [==============================] - 0s 2ms/step - loss: 0.5403 - accuracy: 0.7840\n",
      "Epoch 14/100\n",
      "193/193 [==============================] - 0s 2ms/step - loss: 0.5380 - accuracy: 0.7843\n",
      "Epoch 15/100\n",
      "193/193 [==============================] - 0s 2ms/step - loss: 0.5371 - accuracy: 0.7854\n",
      "Epoch 16/100\n",
      "193/193 [==============================] - 0s 2ms/step - loss: 0.5358 - accuracy: 0.7857\n",
      "Epoch 17/100\n",
      "193/193 [==============================] - 0s 2ms/step - loss: 0.5351 - accuracy: 0.7864\n",
      "Epoch 18/100\n",
      "193/193 [==============================] - 0s 2ms/step - loss: 0.5339 - accuracy: 0.7849\n",
      "Epoch 19/100\n",
      "193/193 [==============================] - 0s 2ms/step - loss: 0.5315 - accuracy: 0.7900\n",
      "Epoch 20/100\n",
      "193/193 [==============================] - 0s 2ms/step - loss: 0.5297 - accuracy: 0.7891\n",
      "Epoch 21/100\n",
      "193/193 [==============================] - 1s 3ms/step - loss: 0.5303 - accuracy: 0.7891\n",
      "Epoch 22/100\n",
      "193/193 [==============================] - 0s 2ms/step - loss: 0.5287 - accuracy: 0.7904\n",
      "Epoch 23/100\n",
      "193/193 [==============================] - 0s 2ms/step - loss: 0.5273 - accuracy: 0.7913\n",
      "Epoch 24/100\n",
      "193/193 [==============================] - 0s 3ms/step - loss: 0.5255 - accuracy: 0.7943\n",
      "Epoch 25/100\n",
      "193/193 [==============================] - 1s 3ms/step - loss: 0.5246 - accuracy: 0.7937\n",
      "Epoch 26/100\n",
      "193/193 [==============================] - 0s 3ms/step - loss: 0.5233 - accuracy: 0.7916\n",
      "Epoch 27/100\n",
      "193/193 [==============================] - 1s 3ms/step - loss: 0.5226 - accuracy: 0.7943\n",
      "Epoch 28/100\n",
      "193/193 [==============================] - 0s 3ms/step - loss: 0.5201 - accuracy: 0.7958\n",
      "Epoch 29/100\n",
      "193/193 [==============================] - 0s 2ms/step - loss: 0.5188 - accuracy: 0.7966\n",
      "Epoch 30/100\n",
      "193/193 [==============================] - 0s 2ms/step - loss: 0.5170 - accuracy: 0.7947\n",
      "Epoch 31/100\n",
      "193/193 [==============================] - 0s 2ms/step - loss: 0.5153 - accuracy: 0.7981\n",
      "Epoch 32/100\n",
      "193/193 [==============================] - 1s 3ms/step - loss: 0.5171 - accuracy: 0.7942\n",
      "Epoch 33/100\n",
      "193/193 [==============================] - 1s 3ms/step - loss: 0.5161 - accuracy: 0.7968\n",
      "Epoch 34/100\n",
      "193/193 [==============================] - 1s 3ms/step - loss: 0.5128 - accuracy: 0.8007\n",
      "Epoch 35/100\n",
      "193/193 [==============================] - 1s 3ms/step - loss: 0.5133 - accuracy: 0.7987\n",
      "Epoch 36/100\n",
      "193/193 [==============================] - 1s 4ms/step - loss: 0.5117 - accuracy: 0.8002\n",
      "Epoch 37/100\n",
      "193/193 [==============================] - 0s 2ms/step - loss: 0.5107 - accuracy: 0.8018\n",
      "Epoch 38/100\n",
      "193/193 [==============================] - 0s 2ms/step - loss: 0.5105 - accuracy: 0.8017\n",
      "Epoch 39/100\n",
      "193/193 [==============================] - 0s 2ms/step - loss: 0.5100 - accuracy: 0.8002\n",
      "Epoch 40/100\n",
      "193/193 [==============================] - 0s 2ms/step - loss: 0.5087 - accuracy: 0.7987\n",
      "Epoch 41/100\n",
      "193/193 [==============================] - 0s 2ms/step - loss: 0.5096 - accuracy: 0.8020\n",
      "Epoch 42/100\n",
      "193/193 [==============================] - 0s 2ms/step - loss: 0.5080 - accuracy: 0.8036\n",
      "Epoch 43/100\n",
      "193/193 [==============================] - 0s 2ms/step - loss: 0.5066 - accuracy: 0.8069\n",
      "Epoch 44/100\n",
      "193/193 [==============================] - 0s 2ms/step - loss: 0.5044 - accuracy: 0.8034\n",
      "Epoch 45/100\n",
      "193/193 [==============================] - 0s 2ms/step - loss: 0.5053 - accuracy: 0.8043\n",
      "Epoch 46/100\n",
      "193/193 [==============================] - 1s 3ms/step - loss: 0.5037 - accuracy: 0.8070\n",
      "Epoch 47/100\n",
      "193/193 [==============================] - 1s 4ms/step - loss: 0.5038 - accuracy: 0.8056\n",
      "Epoch 48/100\n",
      "193/193 [==============================] - 1s 4ms/step - loss: 0.5035 - accuracy: 0.8041\n",
      "Epoch 49/100\n",
      "193/193 [==============================] - 1s 3ms/step - loss: 0.5026 - accuracy: 0.8054\n",
      "Epoch 50/100\n",
      "193/193 [==============================] - 1s 3ms/step - loss: 0.5012 - accuracy: 0.8031\n",
      "Epoch 51/100\n",
      "193/193 [==============================] - 0s 2ms/step - loss: 0.5002 - accuracy: 0.8062\n",
      "Epoch 52/100\n",
      "193/193 [==============================] - 0s 2ms/step - loss: 0.4994 - accuracy: 0.8070\n",
      "Epoch 53/100\n",
      "193/193 [==============================] - 1s 3ms/step - loss: 0.4990 - accuracy: 0.8077\n",
      "Epoch 54/100\n",
      "193/193 [==============================] - 1s 3ms/step - loss: 0.4959 - accuracy: 0.8095\n",
      "Epoch 55/100\n",
      "193/193 [==============================] - 1s 3ms/step - loss: 0.4980 - accuracy: 0.8108\n",
      "Epoch 56/100\n",
      "193/193 [==============================] - 1s 3ms/step - loss: 0.4981 - accuracy: 0.8098\n",
      "Epoch 57/100\n",
      "193/193 [==============================] - 1s 3ms/step - loss: 0.4970 - accuracy: 0.8088\n",
      "Epoch 58/100\n",
      "193/193 [==============================] - 1s 3ms/step - loss: 0.4961 - accuracy: 0.8080\n",
      "Epoch 59/100\n",
      "193/193 [==============================] - 1s 3ms/step - loss: 0.4948 - accuracy: 0.8099\n",
      "Epoch 60/100\n",
      "193/193 [==============================] - 1s 3ms/step - loss: 0.4944 - accuracy: 0.8106\n",
      "Epoch 61/100\n",
      "193/193 [==============================] - 1s 3ms/step - loss: 0.4946 - accuracy: 0.8096\n",
      "Epoch 62/100\n",
      "193/193 [==============================] - 1s 3ms/step - loss: 0.4936 - accuracy: 0.8080\n",
      "Epoch 63/100\n",
      "193/193 [==============================] - 1s 3ms/step - loss: 0.4923 - accuracy: 0.8116\n",
      "Epoch 64/100\n",
      "193/193 [==============================] - 1s 3ms/step - loss: 0.4915 - accuracy: 0.8082\n",
      "Epoch 65/100\n",
      "193/193 [==============================] - 0s 2ms/step - loss: 0.4918 - accuracy: 0.8122\n",
      "Epoch 66/100\n",
      "193/193 [==============================] - 0s 2ms/step - loss: 0.4922 - accuracy: 0.8078\n",
      "Epoch 67/100\n",
      "193/193 [==============================] - 1s 4ms/step - loss: 0.4898 - accuracy: 0.8134\n",
      "Epoch 68/100\n",
      "193/193 [==============================] - 1s 4ms/step - loss: 0.4890 - accuracy: 0.8122\n",
      "Epoch 69/100\n",
      "193/193 [==============================] - 1s 4ms/step - loss: 0.4897 - accuracy: 0.8134\n",
      "Epoch 70/100\n",
      "193/193 [==============================] - 1s 4ms/step - loss: 0.4882 - accuracy: 0.8116\n",
      "Epoch 71/100\n",
      "193/193 [==============================] - 1s 4ms/step - loss: 0.4892 - accuracy: 0.8122\n",
      "Epoch 72/100\n",
      "193/193 [==============================] - 1s 4ms/step - loss: 0.4867 - accuracy: 0.8137\n",
      "Epoch 73/100\n",
      "193/193 [==============================] - 1s 4ms/step - loss: 0.4879 - accuracy: 0.8112\n",
      "Epoch 74/100\n",
      "193/193 [==============================] - 0s 2ms/step - loss: 0.4855 - accuracy: 0.8132\n",
      "Epoch 75/100\n",
      "193/193 [==============================] - 0s 2ms/step - loss: 0.4848 - accuracy: 0.8127\n",
      "Epoch 76/100\n",
      "193/193 [==============================] - 0s 2ms/step - loss: 0.4867 - accuracy: 0.8122\n",
      "Epoch 77/100\n",
      "193/193 [==============================] - 1s 3ms/step - loss: 0.4877 - accuracy: 0.8116\n",
      "Epoch 78/100\n",
      "193/193 [==============================] - 1s 3ms/step - loss: 0.4832 - accuracy: 0.8151\n",
      "Epoch 79/100\n",
      "193/193 [==============================] - 1s 3ms/step - loss: 0.4829 - accuracy: 0.8134\n",
      "Epoch 80/100\n",
      "193/193 [==============================] - 1s 3ms/step - loss: 0.4830 - accuracy: 0.8135\n",
      "Epoch 81/100\n",
      "193/193 [==============================] - 1s 3ms/step - loss: 0.4815 - accuracy: 0.8130\n",
      "Epoch 82/100\n",
      "193/193 [==============================] - 1s 3ms/step - loss: 0.4814 - accuracy: 0.8140\n",
      "Epoch 83/100\n",
      "193/193 [==============================] - 1s 3ms/step - loss: 0.4802 - accuracy: 0.8147\n",
      "Epoch 84/100\n",
      "193/193 [==============================] - 1s 3ms/step - loss: 0.4816 - accuracy: 0.8132\n",
      "Epoch 85/100\n",
      "193/193 [==============================] - 1s 3ms/step - loss: 0.4806 - accuracy: 0.8145\n",
      "Epoch 86/100\n",
      "193/193 [==============================] - 1s 3ms/step - loss: 0.4785 - accuracy: 0.8166\n",
      "Epoch 87/100\n",
      "193/193 [==============================] - 1s 3ms/step - loss: 0.4798 - accuracy: 0.8112\n",
      "Epoch 88/100\n",
      "193/193 [==============================] - 1s 3ms/step - loss: 0.4778 - accuracy: 0.8145\n",
      "Epoch 89/100\n",
      "193/193 [==============================] - 1s 3ms/step - loss: 0.4801 - accuracy: 0.8134\n",
      "Epoch 90/100\n",
      "193/193 [==============================] - 1s 3ms/step - loss: 0.4779 - accuracy: 0.8161\n",
      "Epoch 91/100\n",
      "193/193 [==============================] - 1s 3ms/step - loss: 0.4763 - accuracy: 0.8200\n",
      "Epoch 92/100\n",
      "193/193 [==============================] - 1s 3ms/step - loss: 0.4792 - accuracy: 0.8117\n",
      "Epoch 93/100\n",
      "193/193 [==============================] - 0s 2ms/step - loss: 0.4788 - accuracy: 0.8148\n",
      "Epoch 94/100\n",
      "193/193 [==============================] - 0s 2ms/step - loss: 0.4779 - accuracy: 0.8150\n",
      "Epoch 95/100\n",
      "193/193 [==============================] - 0s 2ms/step - loss: 0.4754 - accuracy: 0.8181\n",
      "Epoch 96/100\n",
      "193/193 [==============================] - 0s 2ms/step - loss: 0.4750 - accuracy: 0.8164\n",
      "Epoch 97/100\n",
      "193/193 [==============================] - 0s 2ms/step - loss: 0.4765 - accuracy: 0.8147\n",
      "Epoch 98/100\n",
      "193/193 [==============================] - 0s 2ms/step - loss: 0.4762 - accuracy: 0.8169\n",
      "Epoch 99/100\n",
      "193/193 [==============================] - 0s 2ms/step - loss: 0.4764 - accuracy: 0.8155\n",
      "Epoch 100/100\n",
      "193/193 [==============================] - 0s 2ms/step - loss: 0.4742 - accuracy: 0.8166\n"
     ]
    },
    {
     "data": {
      "text/plain": [
       "<tensorflow.python.keras.callbacks.History at 0x1e510a66cd0>"
      ]
     },
     "execution_count": 29,
     "metadata": {},
     "output_type": "execute_result"
    }
   ],
   "source": [
    "model.fit(X_train, y_train, epochs=100)"
   ]
  },
  {
   "cell_type": "code",
   "execution_count": 30,
   "metadata": {},
   "outputs": [
    {
     "name": "stdout",
     "output_type": "stream",
     "text": [
      "49/49 - 0s - loss: 1.1357 - accuracy: 0.6461\n",
      "\n",
      "Test accuracy: 0.6461039185523987\n"
     ]
    }
   ],
   "source": [
    "test_loss, train_acc = model.evaluate(X_train,  y_train, verbose=2)\r\n",
    "\r\n",
    "print('\\ntrain accuracy:', train_acc)"
   ]
  },
  {
   "cell_type": "code",
   "execution_count": null,
   "metadata": {},
   "outputs": [],
   "source": [
    "model.fit(X_test, y_test, epochs=100)"
   ]
  },
  {
   "cell_type": "code",
   "execution_count": 30,
   "metadata": {},
   "outputs": [
    {
     "data": {
      "application/vnd.code.notebook.stdout": [
       "49/49 - 0s - loss: 1.1357 - accuracy: 0.6461\n",
       "\n",
       "Test accuracy: 0.6461039185523987\n"
      ]
     },
     "output_type": "unknown"
    }
   ],
   "source": [
    "test_loss, test_acc = model.evaluate(X_test,  y_test, verbose=2)\r\n",
    "\r\n",
    "print('\\ntest accuracy:', test_acc)"
   ]
  }
 ],
 "metadata": {
  "interpreter": {
   "hash": "7980ba124835d5faa10419b5aaaaec0d5be537aa3d05dd29d745d0092f32015f"
  },
  "kernelspec": {
   "display_name": "Python 3.8.9 64-bit",
   "name": "python3"
  },
  "language_info": {
   "name": "python",
   "version": ""
  },
  "orig_nbformat": 4
 },
 "nbformat": 4,
 "nbformat_minor": 2
}