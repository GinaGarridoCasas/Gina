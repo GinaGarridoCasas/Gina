{
 "cells": [
  {
   "cell_type": "code",
   "execution_count": 1,
   "metadata": {},
   "outputs": [],
   "source": [
    "# TensorFlow y tf.keras\r\n",
    "import tensorflow as tf\r\n",
    "from tensorflow import keras\r\n",
    "from tensorflow.keras import datasets, layers, models\r\n",
    "from keras.layers import Dropout\r\n",
    "\r\n",
    "# Librerias de ayuda\r\n",
    "import pandas as pd\r\n",
    "import numpy as np\r\n",
    "import matplotlib.pyplot as pl"
   ]
  },
  {
   "cell_type": "code",
   "execution_count": 2,
   "metadata": {},
   "outputs": [],
   "source": [
    "ENS_2017_C0 = pd.read_csv(\"../../data/Bases_trabajo/ENS_2017_C0.csv\", sep =',')"
   ]
  },
  {
   "cell_type": "code",
   "execution_count": 3,
   "metadata": {},
   "outputs": [],
   "source": [
    "X = ENS_2017_C0[['CCAA', 'Sexo', 'Edad',\r\n",
    "       'Actividad_economica_actual', 'Nacionalidad_española', 'Convivencia',\r\n",
    "       'Estado_civil', 'Nivel_estudios', 'Vacunación_gripe',\r\n",
    "       'Toma_tensiónArterial_profesional', 'Medición_colesterol',\r\n",
    "       'Prueba_sangreHeces', 'Colonoscopia', 'Peso(Kg)',\r\n",
    "       'Freq_ActividadFísica', 'Freq_Consumo_FrutaFresca',\r\n",
    "       'Freq_Consumo_Carne', 'Freq_Consumo_Huevos', 'Freq_Consumo_Pescado',\r\n",
    "       'Freq_Consumo_PastaArrozPatatas', 'Freq_Consumo_PanCereales',\r\n",
    "       'Freq_Consumo_VerdurasEnsaladasHortalizas', 'Freq_Consumo_Legumbres',\r\n",
    "       'Freq_Consumo_EmbutidosFiambres', 'Freq_Consumo_Lácteos',\r\n",
    "       'Freq_Consumo_Dulces', 'Freq_Consumo_ComidaRápida',\r\n",
    "       'Freq_Consumo_ZumoNatural', 'Freq_Diaria_CepilladoDientes',\r\n",
    "       '¿Fuma actualmente', 'Freq_Consumo_Alcohol',\r\n",
    "       'ApoyoAfectivoPersonal_AmigosFamiliares', 'ClaseSocial_BasadaOcupación',\r\n",
    "       'Índice_MasaCorporal',]]"
   ]
  },
  {
   "cell_type": "code",
   "execution_count": 4,
   "metadata": {},
   "outputs": [
    {
     "data": {
      "text/plain": [
       "(7650, 34)"
      ]
     },
     "execution_count": 4,
     "metadata": {},
     "output_type": "execute_result"
    }
   ],
   "source": [
    "X.shape"
   ]
  },
  {
   "cell_type": "code",
   "execution_count": 5,
   "metadata": {},
   "outputs": [],
   "source": [
    "y = ENS_2017_C0['Salud_percibida']"
   ]
  },
  {
   "cell_type": "code",
   "execution_count": 6,
   "metadata": {},
   "outputs": [],
   "source": [
    "from sklearn.model_selection import train_test_split\r\n",
    "X_train, X_test, y_train, y_test = train_test_split(X, y, test_size=0.2, random_state=101)"
   ]
  },
  {
   "cell_type": "code",
   "execution_count": 7,
   "metadata": {},
   "outputs": [],
   "source": [
    "from sklearn.preprocessing import StandardScaler\r\n",
    "\r\n",
    "scaler = StandardScaler().fit(X_train)\r\n",
    "\r\n",
    "X_train = scaler.transform(X_train)\r\n",
    "\r\n",
    "X_test = scaler.transform(X_test)"
   ]
  },
  {
   "cell_type": "code",
   "execution_count": 8,
   "metadata": {},
   "outputs": [
    {
     "data": {
      "text/plain": [
       "(6120, 34)"
      ]
     },
     "execution_count": 8,
     "metadata": {},
     "output_type": "execute_result"
    }
   ],
   "source": [
    "X_train.shape"
   ]
  },
  {
   "cell_type": "code",
   "execution_count": 9,
   "metadata": {},
   "outputs": [
    {
     "data": {
      "text/plain": [
       "(1530, 34)"
      ]
     },
     "execution_count": 9,
     "metadata": {},
     "output_type": "execute_result"
    }
   ],
   "source": [
    "X_test.shape"
   ]
  },
  {
   "cell_type": "code",
   "execution_count": 10,
   "metadata": {},
   "outputs": [
    {
     "data": {
      "text/plain": [
       "1530"
      ]
     },
     "execution_count": 10,
     "metadata": {},
     "output_type": "execute_result"
    }
   ],
   "source": [
    "len(y_test)"
   ]
  },
  {
   "cell_type": "code",
   "execution_count": 11,
   "metadata": {},
   "outputs": [],
   "source": [
    "model = models.Sequential()\r\n",
    "model.add(layers.Dense(32, activation='relu', input_shape = (34,)))\r\n",
    "model.add(layers.Dense(10, activation='relu'))\r\n",
    "model.add(layers.Dense(4,activation='softmax'))\r\n"
   ]
  },
  {
   "cell_type": "code",
   "execution_count": 12,
   "metadata": {},
   "outputs": [],
   "source": [
    "model.compile(optimizer='adam',# Aporta información sobre cómo el modelo se va actualizando con el set de datos\r\n",
    "              loss='sparse_categorical_crossentropy', # Aporta información sobre la exactitud del modelo durante el entrenamiento\r\n",
    "              metrics=['accuracy']) # permite monitorizar el proceso de entrenamiento y test. Se utiliza el método accuracy (exactitud)"
   ]
  },
  {
   "cell_type": "code",
   "execution_count": 13,
   "metadata": {},
   "outputs": [
    {
     "name": "stdout",
     "output_type": "stream",
     "text": [
      "Epoch 1/100\n",
      "192/192 [==============================] - 1s 2ms/step - loss: 0.8940 - accuracy: 0.6552\n",
      "Epoch 2/100\n",
      "192/192 [==============================] - 1s 3ms/step - loss: 0.7479 - accuracy: 0.6791\n",
      "Epoch 3/100\n",
      "192/192 [==============================] - 1s 4ms/step - loss: 0.7195 - accuracy: 0.6866\n",
      "Epoch 4/100\n",
      "192/192 [==============================] - 1s 4ms/step - loss: 0.7071 - accuracy: 0.6944\n",
      "Epoch 5/100\n",
      "192/192 [==============================] - 1s 4ms/step - loss: 0.6988 - accuracy: 0.6972\n",
      "Epoch 6/100\n",
      "192/192 [==============================] - 1s 4ms/step - loss: 0.6928 - accuracy: 0.6998\n",
      "Epoch 7/100\n",
      "192/192 [==============================] - 1s 3ms/step - loss: 0.6875 - accuracy: 0.7026\n",
      "Epoch 8/100\n",
      "192/192 [==============================] - 0s 2ms/step - loss: 0.6841 - accuracy: 0.7052\n",
      "Epoch 9/100\n",
      "192/192 [==============================] - 0s 2ms/step - loss: 0.6786 - accuracy: 0.7087\n",
      "Epoch 10/100\n",
      "192/192 [==============================] - 0s 2ms/step - loss: 0.6735 - accuracy: 0.7132\n",
      "Epoch 11/100\n",
      "192/192 [==============================] - 0s 2ms/step - loss: 0.6687 - accuracy: 0.7098\n",
      "Epoch 12/100\n",
      "192/192 [==============================] - 0s 2ms/step - loss: 0.6645 - accuracy: 0.7132\n",
      "Epoch 13/100\n",
      "192/192 [==============================] - 0s 2ms/step - loss: 0.6604 - accuracy: 0.7173\n",
      "Epoch 14/100\n",
      "192/192 [==============================] - 0s 2ms/step - loss: 0.6573 - accuracy: 0.7137\n",
      "Epoch 15/100\n",
      "192/192 [==============================] - 0s 2ms/step - loss: 0.6523 - accuracy: 0.7214\n",
      "Epoch 16/100\n",
      "192/192 [==============================] - 0s 2ms/step - loss: 0.6488 - accuracy: 0.7248\n",
      "Epoch 17/100\n",
      "192/192 [==============================] - 0s 2ms/step - loss: 0.6460 - accuracy: 0.7235\n",
      "Epoch 18/100\n",
      "192/192 [==============================] - 0s 2ms/step - loss: 0.6420 - accuracy: 0.7263\n",
      "Epoch 19/100\n",
      "192/192 [==============================] - 0s 2ms/step - loss: 0.6389 - accuracy: 0.7252\n",
      "Epoch 20/100\n",
      "192/192 [==============================] - 0s 2ms/step - loss: 0.6348 - accuracy: 0.7278\n",
      "Epoch 21/100\n",
      "192/192 [==============================] - 0s 2ms/step - loss: 0.6310 - accuracy: 0.7307\n",
      "Epoch 22/100\n",
      "192/192 [==============================] - 0s 2ms/step - loss: 0.6293 - accuracy: 0.7296\n",
      "Epoch 23/100\n",
      "192/192 [==============================] - 0s 2ms/step - loss: 0.6259 - accuracy: 0.7332\n",
      "Epoch 24/100\n",
      "192/192 [==============================] - 0s 2ms/step - loss: 0.6226 - accuracy: 0.7317\n",
      "Epoch 25/100\n",
      "192/192 [==============================] - 0s 2ms/step - loss: 0.6199 - accuracy: 0.7353\n",
      "Epoch 26/100\n",
      "192/192 [==============================] - 0s 2ms/step - loss: 0.6185 - accuracy: 0.7342\n",
      "Epoch 27/100\n",
      "192/192 [==============================] - 0s 2ms/step - loss: 0.6153 - accuracy: 0.7382\n",
      "Epoch 28/100\n",
      "192/192 [==============================] - 1s 3ms/step - loss: 0.6125 - accuracy: 0.7389\n",
      "Epoch 29/100\n",
      "192/192 [==============================] - 1s 3ms/step - loss: 0.6106 - accuracy: 0.7400\n",
      "Epoch 30/100\n",
      "192/192 [==============================] - 1s 4ms/step - loss: 0.6083 - accuracy: 0.7386\n",
      "Epoch 31/100\n",
      "192/192 [==============================] - 1s 3ms/step - loss: 0.6066 - accuracy: 0.7387\n",
      "Epoch 32/100\n",
      "192/192 [==============================] - 0s 2ms/step - loss: 0.6033 - accuracy: 0.7410\n",
      "Epoch 33/100\n",
      "192/192 [==============================] - 0s 2ms/step - loss: 0.6029 - accuracy: 0.7459\n",
      "Epoch 34/100\n",
      "192/192 [==============================] - 0s 2ms/step - loss: 0.5996 - accuracy: 0.7417\n",
      "Epoch 35/100\n",
      "192/192 [==============================] - 0s 2ms/step - loss: 0.5972 - accuracy: 0.7433\n",
      "Epoch 36/100\n",
      "192/192 [==============================] - 0s 2ms/step - loss: 0.5949 - accuracy: 0.7438\n",
      "Epoch 37/100\n",
      "192/192 [==============================] - 0s 2ms/step - loss: 0.5937 - accuracy: 0.7464\n",
      "Epoch 38/100\n",
      "192/192 [==============================] - 0s 2ms/step - loss: 0.5921 - accuracy: 0.7502\n",
      "Epoch 39/100\n",
      "192/192 [==============================] - 0s 3ms/step - loss: 0.5896 - accuracy: 0.7472\n",
      "Epoch 40/100\n",
      "192/192 [==============================] - 0s 3ms/step - loss: 0.5903 - accuracy: 0.7466\n",
      "Epoch 41/100\n",
      "192/192 [==============================] - 1s 3ms/step - loss: 0.5875 - accuracy: 0.7515\n",
      "Epoch 42/100\n",
      "192/192 [==============================] - 0s 3ms/step - loss: 0.5856 - accuracy: 0.7480\n",
      "Epoch 43/100\n",
      "192/192 [==============================] - 0s 2ms/step - loss: 0.5845 - accuracy: 0.7510\n",
      "Epoch 44/100\n",
      "192/192 [==============================] - 1s 3ms/step - loss: 0.5835 - accuracy: 0.7523\n",
      "Epoch 45/100\n",
      "192/192 [==============================] - 0s 2ms/step - loss: 0.5822 - accuracy: 0.7510\n",
      "Epoch 46/100\n",
      "192/192 [==============================] - 0s 2ms/step - loss: 0.5808 - accuracy: 0.7518\n",
      "Epoch 47/100\n",
      "192/192 [==============================] - 0s 2ms/step - loss: 0.5789 - accuracy: 0.7534\n",
      "Epoch 48/100\n",
      "192/192 [==============================] - 0s 2ms/step - loss: 0.5778 - accuracy: 0.7518\n",
      "Epoch 49/100\n",
      "192/192 [==============================] - 0s 2ms/step - loss: 0.5761 - accuracy: 0.7528\n",
      "Epoch 50/100\n",
      "192/192 [==============================] - 0s 2ms/step - loss: 0.5749 - accuracy: 0.7549\n",
      "Epoch 51/100\n",
      "192/192 [==============================] - 0s 2ms/step - loss: 0.5735 - accuracy: 0.7582\n",
      "Epoch 52/100\n",
      "192/192 [==============================] - 0s 2ms/step - loss: 0.5729 - accuracy: 0.7507\n",
      "Epoch 53/100\n",
      "192/192 [==============================] - 0s 2ms/step - loss: 0.5710 - accuracy: 0.7546\n",
      "Epoch 54/100\n",
      "192/192 [==============================] - 0s 2ms/step - loss: 0.5712 - accuracy: 0.7587\n",
      "Epoch 55/100\n",
      "192/192 [==============================] - 0s 2ms/step - loss: 0.5687 - accuracy: 0.7580\n",
      "Epoch 56/100\n",
      "192/192 [==============================] - 0s 2ms/step - loss: 0.5686 - accuracy: 0.7588\n",
      "Epoch 57/100\n",
      "192/192 [==============================] - 0s 2ms/step - loss: 0.5660 - accuracy: 0.7606\n",
      "Epoch 58/100\n",
      "192/192 [==============================] - 0s 2ms/step - loss: 0.5667 - accuracy: 0.7608\n",
      "Epoch 59/100\n",
      "192/192 [==============================] - 0s 2ms/step - loss: 0.5658 - accuracy: 0.7592\n",
      "Epoch 60/100\n",
      "192/192 [==============================] - 0s 2ms/step - loss: 0.5654 - accuracy: 0.7596\n",
      "Epoch 61/100\n",
      "192/192 [==============================] - 0s 2ms/step - loss: 0.5651 - accuracy: 0.7614\n",
      "Epoch 62/100\n",
      "192/192 [==============================] - 0s 2ms/step - loss: 0.5617 - accuracy: 0.7585\n",
      "Epoch 63/100\n",
      "192/192 [==============================] - 0s 2ms/step - loss: 0.5624 - accuracy: 0.7631\n",
      "Epoch 64/100\n",
      "192/192 [==============================] - 0s 2ms/step - loss: 0.5609 - accuracy: 0.7626\n",
      "Epoch 65/100\n",
      "192/192 [==============================] - 0s 2ms/step - loss: 0.5592 - accuracy: 0.7645\n",
      "Epoch 66/100\n",
      "192/192 [==============================] - 1s 3ms/step - loss: 0.5600 - accuracy: 0.7624\n",
      "Epoch 67/100\n",
      "192/192 [==============================] - 1s 3ms/step - loss: 0.5581 - accuracy: 0.7624\n",
      "Epoch 68/100\n",
      "192/192 [==============================] - 1s 4ms/step - loss: 0.5566 - accuracy: 0.7663\n",
      "Epoch 69/100\n",
      "192/192 [==============================] - 1s 3ms/step - loss: 0.5577 - accuracy: 0.7632\n",
      "Epoch 70/100\n",
      "192/192 [==============================] - 1s 3ms/step - loss: 0.5562 - accuracy: 0.7652\n",
      "Epoch 71/100\n",
      "192/192 [==============================] - 1s 4ms/step - loss: 0.5548 - accuracy: 0.7662\n",
      "Epoch 72/100\n",
      "192/192 [==============================] - 1s 3ms/step - loss: 0.5546 - accuracy: 0.7624\n",
      "Epoch 73/100\n",
      "192/192 [==============================] - 0s 2ms/step - loss: 0.5535 - accuracy: 0.7673\n",
      "Epoch 74/100\n",
      "192/192 [==============================] - 0s 2ms/step - loss: 0.5514 - accuracy: 0.7699\n",
      "Epoch 75/100\n",
      "192/192 [==============================] - 0s 2ms/step - loss: 0.5510 - accuracy: 0.7680\n",
      "Epoch 76/100\n",
      "192/192 [==============================] - 0s 2ms/step - loss: 0.5521 - accuracy: 0.7647\n",
      "Epoch 77/100\n",
      "192/192 [==============================] - 0s 2ms/step - loss: 0.5495 - accuracy: 0.7686\n",
      "Epoch 78/100\n",
      "192/192 [==============================] - 0s 2ms/step - loss: 0.5480 - accuracy: 0.7685\n",
      "Epoch 79/100\n",
      "192/192 [==============================] - 0s 2ms/step - loss: 0.5498 - accuracy: 0.7691\n",
      "Epoch 80/100\n",
      "192/192 [==============================] - 0s 2ms/step - loss: 0.5480 - accuracy: 0.7696\n",
      "Epoch 81/100\n",
      "192/192 [==============================] - 0s 2ms/step - loss: 0.5466 - accuracy: 0.7688\n",
      "Epoch 82/100\n",
      "192/192 [==============================] - 0s 2ms/step - loss: 0.5456 - accuracy: 0.7681\n",
      "Epoch 83/100\n",
      "192/192 [==============================] - 0s 2ms/step - loss: 0.5453 - accuracy: 0.7683\n",
      "Epoch 84/100\n",
      "192/192 [==============================] - 0s 2ms/step - loss: 0.5447 - accuracy: 0.7676\n",
      "Epoch 85/100\n",
      "192/192 [==============================] - 0s 2ms/step - loss: 0.5430 - accuracy: 0.7690\n",
      "Epoch 86/100\n",
      "192/192 [==============================] - 0s 2ms/step - loss: 0.5434 - accuracy: 0.7693\n",
      "Epoch 87/100\n",
      "192/192 [==============================] - 0s 2ms/step - loss: 0.5440 - accuracy: 0.7696\n",
      "Epoch 88/100\n",
      "192/192 [==============================] - 0s 2ms/step - loss: 0.5414 - accuracy: 0.7688\n",
      "Epoch 89/100\n",
      "192/192 [==============================] - 0s 2ms/step - loss: 0.5415 - accuracy: 0.7721\n",
      "Epoch 90/100\n",
      "192/192 [==============================] - 0s 2ms/step - loss: 0.5384 - accuracy: 0.7711\n",
      "Epoch 91/100\n",
      "192/192 [==============================] - 1s 3ms/step - loss: 0.5375 - accuracy: 0.7709\n",
      "Epoch 92/100\n",
      "192/192 [==============================] - 0s 2ms/step - loss: 0.5386 - accuracy: 0.7704\n",
      "Epoch 93/100\n",
      "192/192 [==============================] - 0s 2ms/step - loss: 0.5370 - accuracy: 0.7732\n",
      "Epoch 94/100\n",
      "192/192 [==============================] - 0s 2ms/step - loss: 0.5367 - accuracy: 0.7734\n",
      "Epoch 95/100\n",
      "192/192 [==============================] - 0s 2ms/step - loss: 0.5347 - accuracy: 0.7717\n",
      "Epoch 96/100\n",
      "192/192 [==============================] - 0s 2ms/step - loss: 0.5341 - accuracy: 0.7745\n",
      "Epoch 97/100\n",
      "192/192 [==============================] - 0s 2ms/step - loss: 0.5329 - accuracy: 0.7725\n",
      "Epoch 98/100\n",
      "192/192 [==============================] - 0s 2ms/step - loss: 0.5333 - accuracy: 0.7732\n",
      "Epoch 99/100\n",
      "192/192 [==============================] - 0s 2ms/step - loss: 0.5334 - accuracy: 0.7748\n",
      "Epoch 100/100\n",
      "192/192 [==============================] - 0s 2ms/step - loss: 0.5310 - accuracy: 0.7750\n"
     ]
    },
    {
     "data": {
      "text/plain": [
       "<tensorflow.python.keras.callbacks.History at 0x19f70583d30>"
      ]
     },
     "execution_count": 13,
     "metadata": {},
     "output_type": "execute_result"
    }
   ],
   "source": [
    "model.fit(X_train, y_train, epochs=100)"
   ]
  },
  {
   "cell_type": "code",
   "execution_count": 1,
   "metadata": {},
   "outputs": [
    {
     "ename": "NameError",
     "evalue": "name 'model' is not defined",
     "output_type": "error",
     "traceback": [
      "\u001b[1;31m---------------------------------------------------------------------------\u001b[0m",
      "\u001b[1;31mNameError\u001b[0m                                 Traceback (most recent call last)",
      "\u001b[1;32m<ipython-input-1-3a0ca8951b9a>\u001b[0m in \u001b[0;36m<module>\u001b[1;34m\u001b[0m\n\u001b[1;32m----> 1\u001b[1;33m \u001b[0mtest_loss\u001b[0m\u001b[1;33m,\u001b[0m \u001b[0mtest_acc\u001b[0m \u001b[1;33m=\u001b[0m \u001b[0mmodel\u001b[0m\u001b[1;33m.\u001b[0m\u001b[0mevaluate\u001b[0m\u001b[1;33m(\u001b[0m\u001b[0mX_train\u001b[0m\u001b[1;33m,\u001b[0m  \u001b[0my_train\u001b[0m\u001b[1;33m,\u001b[0m \u001b[0mverbose\u001b[0m\u001b[1;33m=\u001b[0m\u001b[1;36m2\u001b[0m\u001b[1;33m)\u001b[0m\u001b[1;33m\u001b[0m\u001b[1;33m\u001b[0m\u001b[0m\n\u001b[0m\u001b[0;32m      2\u001b[0m \u001b[1;33m\u001b[0m\u001b[0m\n\u001b[0;32m      3\u001b[0m \u001b[0mprint\u001b[0m\u001b[1;33m(\u001b[0m\u001b[1;34m'\\nTest accuracy:'\u001b[0m\u001b[1;33m,\u001b[0m \u001b[0mtest_acc\u001b[0m\u001b[1;33m)\u001b[0m\u001b[1;33m\u001b[0m\u001b[1;33m\u001b[0m\u001b[0m\n",
      "\u001b[1;31mNameError\u001b[0m: name 'model' is not defined"
     ]
    }
   ],
   "source": [
    "test_loss, test_acc = model.evaluate(X_train,  y_train, verbose=2)\r\n",
    "\r\n",
    "print('\\nTest accuracy:', test_acc)"
   ]
  },
  {
   "cell_type": "code",
   "execution_count": 15,
   "metadata": {},
   "outputs": [
    {
     "name": "stdout",
     "output_type": "stream",
     "text": [
      "48/48 - 0s - loss: 0.9735 - accuracy: 0.6320\n",
      "\n",
      "Test accuracy: 0.6320261359214783\n"
     ]
    }
   ],
   "source": [
    "test_loss, test_acc = model.evaluate(X_test,  y_test, verbose=2)\r\n",
    "\r\n",
    "print('\\nTest accuracy:', test_acc)"
   ]
  }
 ],
 "metadata": {
  "interpreter": {
   "hash": "7980ba124835d5faa10419b5aaaaec0d5be537aa3d05dd29d745d0092f32015f"
  },
  "kernelspec": {
   "display_name": "Python 3.8.9 64-bit",
   "name": "python3"
  },
  "language_info": {
   "codemirror_mode": {
    "name": "ipython",
    "version": 3
   },
   "file_extension": ".py",
   "mimetype": "text/x-python",
   "name": "python",
   "nbconvert_exporter": "python",
   "pygments_lexer": "ipython3",
   "version": "3.8.9"
  },
  "orig_nbformat": 4
 },
 "nbformat": 4,
 "nbformat_minor": 2
}