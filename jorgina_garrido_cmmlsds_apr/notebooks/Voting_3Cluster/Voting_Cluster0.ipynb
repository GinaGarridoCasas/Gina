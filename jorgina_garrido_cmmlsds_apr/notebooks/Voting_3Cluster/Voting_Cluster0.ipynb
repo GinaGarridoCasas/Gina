{
 "cells": [
  {
   "cell_type": "code",
   "execution_count": 10,
   "metadata": {},
   "outputs": [],
   "source": [
    "import pandas as pd\r\n",
    "import numpy as np\r\n",
    "\r\n",
    "from sklearn.metrics import accuracy_score\r\n",
    "from sklearn import metrics\r\n",
    "\r\n",
    "from sklearn.model_selection import train_test_split "
   ]
  },
  {
   "cell_type": "code",
   "execution_count": 11,
   "metadata": {},
   "outputs": [],
   "source": [
    "ENS_2017_C0_agr = pd.read_csv(\"../../data/Bases_trabajo/ENS_2017_C0_agr.csv\", sep =',')"
   ]
  },
  {
   "cell_type": "code",
   "execution_count": 12,
   "metadata": {},
   "outputs": [],
   "source": [
    "ENS_2017_C0_agr_R = ENS_2017_C0_agr"
   ]
  },
  {
   "cell_type": "code",
   "execution_count": 13,
   "metadata": {},
   "outputs": [],
   "source": [
    "ENS_2017_C0_agr_R= ENS_2017_C0_agr.loc[:,['Edad_ag','Actividad_economica_actual', 'Freq_ActividadFísica', 'Freq_Consumo_Carne','Freq_Consumo_Alcohol', 'Nivel_estudios', 'Vacunación_gripe','Salud_percibida']]"
   ]
  },
  {
   "cell_type": "code",
   "execution_count": 14,
   "metadata": {},
   "outputs": [],
   "source": [
    "ENS_muestra = ENS_2017_C0_agr_R.sample(n=1500, random_state=101)"
   ]
  },
  {
   "cell_type": "code",
   "execution_count": 15,
   "metadata": {},
   "outputs": [],
   "source": [
    "X = ENS_muestra[['Edad_ag','Actividad_economica_actual', 'Freq_ActividadFísica', 'Freq_Consumo_Carne','Freq_Consumo_Alcohol', 'Nivel_estudios', 'Vacunación_gripe']]"
   ]
  },
  {
   "cell_type": "code",
   "execution_count": 16,
   "metadata": {},
   "outputs": [],
   "source": [
    "y = ENS_muestra['Salud_percibida']"
   ]
  },
  {
   "cell_type": "code",
   "execution_count": 17,
   "metadata": {},
   "outputs": [],
   "source": [
    "X_train, X_test, y_train, y_test = train_test_split(X, y, test_size=0.2, random_state=42)"
   ]
  },
  {
   "cell_type": "markdown",
   "metadata": {},
   "source": [
    "### Modelo Hard voting classifier"
   ]
  },
  {
   "cell_type": "code",
   "execution_count": 18,
   "metadata": {},
   "outputs": [],
   "source": [
    "from sklearn.svm import SVC\r\n",
    "from sklearn.tree import DecisionTreeClassifier\r\n",
    "from sklearn.ensemble import VotingClassifier\r\n",
    "\r\n",
    "dtc_clf = DecisionTreeClassifier(random_state=42)\r\n",
    "svm_clf = SVC(C = 10, gamma=1, kernel = 'rbf', random_state=42)\r\n",
    "\r\n",
    "estimators = [('dtc', dtc_clf), ('svc', svm_clf)]\r\n",
    "\r\n",
    "voting_clf = VotingClassifier(estimators = estimators,\r\n",
    "                             voting='hard')"
   ]
  },
  {
   "cell_type": "code",
   "execution_count": 19,
   "metadata": {},
   "outputs": [
    {
     "data": {
      "text/plain": [
       "VotingClassifier(estimators=[('dtc', DecisionTreeClassifier(random_state=42)),\n",
       "                             ('svc', SVC(C=10, gamma=1, random_state=42))])"
      ]
     },
     "execution_count": 19,
     "metadata": {},
     "output_type": "execute_result"
    }
   ],
   "source": [
    "voting_clf.fit(X_train, y_train)"
   ]
  },
  {
   "cell_type": "code",
   "execution_count": 20,
   "metadata": {},
   "outputs": [
    {
     "name": "stdout",
     "output_type": "stream",
     "text": [
      "DecisionTreeClassifier 0.9316666666666666\n",
      "SVC 0.9316666666666666\n",
      "VotingClassifier 0.9316666666666666\n"
     ]
    }
   ],
   "source": [
    "from sklearn.metrics import accuracy_score\r\n",
    "\r\n",
    "for clf in (dtc_clf, svm_clf, voting_clf):\r\n",
    "    clf.fit(X_train, y_train)\r\n",
    "    y_pred = clf.predict(X_train)\r\n",
    "    print(clf.__class__.__name__, accuracy_score(y_train, y_pred))"
   ]
  },
  {
   "cell_type": "code",
   "execution_count": 21,
   "metadata": {},
   "outputs": [
    {
     "data": {
      "text/plain": [
       "VotingClassifier(estimators=[('dtc', DecisionTreeClassifier(random_state=42)),\n",
       "                             ('svc', SVC(C=10, gamma=1, random_state=42))])"
      ]
     },
     "execution_count": 21,
     "metadata": {},
     "output_type": "execute_result"
    }
   ],
   "source": [
    "voting_clf.fit(X_test, y_test)"
   ]
  },
  {
   "cell_type": "code",
   "execution_count": 22,
   "metadata": {},
   "outputs": [
    {
     "name": "stdout",
     "output_type": "stream",
     "text": [
      "DecisionTreeClassifier 0.9866666666666667\n",
      "SVC 0.9866666666666667\n",
      "VotingClassifier 0.9866666666666667\n"
     ]
    }
   ],
   "source": [
    "from sklearn.metrics import accuracy_score\r\n",
    "\r\n",
    "for clf in (dtc_clf, svm_clf, voting_clf):\r\n",
    "    clf.fit(X_test, y_test)\r\n",
    "    y_pred = clf.predict(X_test)\r\n",
    "    print(clf.__class__.__name__, accuracy_score(y_test, y_pred))"
   ]
  },
  {
   "cell_type": "markdown",
   "metadata": {},
   "source": [
    "### Con toda la base de datos del Cluster 0"
   ]
  },
  {
   "cell_type": "code",
   "execution_count": 23,
   "metadata": {},
   "outputs": [],
   "source": [
    "ENS_2017_C0_agr = pd.read_csv(\"../../data/Bases_trabajo/ENS_2017_C0_agr.csv\", sep =',')"
   ]
  },
  {
   "cell_type": "code",
   "execution_count": 24,
   "metadata": {},
   "outputs": [],
   "source": [
    "ENS_muestra = ENS_2017_C0_agr.sample(n=1500, random_state=101)"
   ]
  },
  {
   "cell_type": "code",
   "execution_count": 25,
   "metadata": {},
   "outputs": [],
   "source": [
    "X = ENS_muestra[['CCAA', 'Sexo', \r\n",
    "       'Actividad_economica_actual', 'Nacionalidad_española', 'Convivencia',\r\n",
    "       'Estado_civil', 'Nivel_estudios', 'Vacunación_gripe',\r\n",
    "       'Toma_tensiónArterial_profesional', 'Medición_colesterol',\r\n",
    "       'Prueba_sangreHeces', 'Colonoscopia', \r\n",
    "       'Freq_ActividadFísica', 'Freq_Consumo_FrutaFresca',\r\n",
    "       'Freq_Consumo_Carne', 'Freq_Consumo_Huevos', 'Freq_Consumo_Pescado',\r\n",
    "       'Freq_Consumo_PastaArrozPatatas', 'Freq_Consumo_PanCereales',\r\n",
    "       'Freq_Consumo_VerdurasEnsaladasHortalizas', 'Freq_Consumo_Legumbres',\r\n",
    "       'Freq_Consumo_EmbutidosFiambres', 'Freq_Consumo_Lácteos',\r\n",
    "       'Freq_Consumo_Dulces', 'Freq_Consumo_ComidaRápida',\r\n",
    "       'Freq_Consumo_ZumoNatural', 'Freq_Diaria_CepilladoDientes',\r\n",
    "       '¿Fuma actualmente', 'Freq_Consumo_Alcohol',\r\n",
    "       'ApoyoAfectivoPersonal_AmigosFamiliares', 'ClaseSocial_BasadaOcupación',\r\n",
    "       'Índice_MasaCorporal','Edad_ag','Peso_ag']]"
   ]
  },
  {
   "cell_type": "code",
   "execution_count": 26,
   "metadata": {},
   "outputs": [],
   "source": [
    "y = ENS_muestra['Salud_percibida']"
   ]
  },
  {
   "cell_type": "code",
   "execution_count": 27,
   "metadata": {},
   "outputs": [],
   "source": [
    "X_train, X_test, y_train, y_test = train_test_split(X, y, test_size=0.2, random_state=42)"
   ]
  },
  {
   "cell_type": "code",
   "execution_count": 28,
   "metadata": {},
   "outputs": [],
   "source": [
    "from sklearn.svm import SVC\r\n",
    "from sklearn.tree import DecisionTreeClassifier\r\n",
    "from sklearn.ensemble import VotingClassifier\r\n",
    "\r\n",
    "dtc_clf = DecisionTreeClassifier(random_state=42)\r\n",
    "svm_clf = SVC(C = 10, gamma=1, kernel = 'rbf', random_state=42)\r\n",
    "\r\n",
    "estimators = [('dtc', dtc_clf), ('svc', svm_clf)]\r\n",
    "\r\n",
    "voting_clf = VotingClassifier(estimators = estimators,\r\n",
    "                             voting='hard')"
   ]
  },
  {
   "cell_type": "code",
   "execution_count": 29,
   "metadata": {},
   "outputs": [
    {
     "data": {
      "text/plain": [
       "VotingClassifier(estimators=[('dtc', DecisionTreeClassifier(random_state=42)),\n",
       "                             ('svc', SVC(C=10, gamma=1, random_state=42))])"
      ]
     },
     "execution_count": 29,
     "metadata": {},
     "output_type": "execute_result"
    }
   ],
   "source": [
    "voting_clf.fit(X_train, y_train)"
   ]
  },
  {
   "cell_type": "code",
   "execution_count": 30,
   "metadata": {},
   "outputs": [
    {
     "name": "stdout",
     "output_type": "stream",
     "text": [
      "DecisionTreeClassifier 1.0\n",
      "SVC 1.0\n",
      "VotingClassifier 1.0\n"
     ]
    }
   ],
   "source": [
    "from sklearn.metrics import accuracy_score\r\n",
    "\r\n",
    "for clf in (dtc_clf, svm_clf, voting_clf):\r\n",
    "    clf.fit(X_train, y_train)\r\n",
    "    y_pred = clf.predict(X_train)\r\n",
    "    print(clf.__class__.__name__, accuracy_score(y_train, y_pred))"
   ]
  },
  {
   "cell_type": "code",
   "execution_count": 31,
   "metadata": {},
   "outputs": [
    {
     "data": {
      "text/plain": [
       "VotingClassifier(estimators=[('dtc', DecisionTreeClassifier(random_state=42)),\n",
       "                             ('svc', SVC(C=10, gamma=1, random_state=42))])"
      ]
     },
     "execution_count": 31,
     "metadata": {},
     "output_type": "execute_result"
    }
   ],
   "source": [
    "voting_clf.fit(X_test, y_test)"
   ]
  },
  {
   "cell_type": "code",
   "execution_count": 33,
   "metadata": {},
   "outputs": [
    {
     "name": "stdout",
     "output_type": "stream",
     "text": [
      "DecisionTreeClassifier 1.0\n",
      "SVC 1.0\n",
      "VotingClassifier 1.0\n"
     ]
    }
   ],
   "source": [
    "from sklearn.metrics import accuracy_score\r\n",
    "\r\n",
    "for clf in (dtc_clf, svm_clf, voting_clf):\r\n",
    "    clf.fit(X_test, y_test)\r\n",
    "    y_pred = clf.predict(X_test)\r\n",
    "    print(clf.__class__.__name__, accuracy_score(y_test, y_pred))"
   ]
  },
  {
   "cell_type": "markdown",
   "metadata": {},
   "source": [
    "## Soft Voting classifier"
   ]
  },
  {
   "cell_type": "code",
   "execution_count": 34,
   "metadata": {},
   "outputs": [],
   "source": [
    "from sklearn.svm import SVC\r\n",
    "from sklearn.tree import DecisionTreeClassifier\r\n",
    "from sklearn.ensemble import VotingClassifier\r\n",
    "\r\n",
    "\r\n",
    "dtc_clf = DecisionTreeClassifier(max_depth = 4, random_state=42)\r\n",
    "svm_clf = SVC(C = 10, gamma=1, kernel = 'rbf', probability = True, random_state=42)\r\n",
    "\r\n",
    "\r\n",
    "estimators = [('dtc', dtc_clf), ('svc', svm_clf)]\r\n",
    "\r\n",
    "voting_clf = VotingClassifier(estimators = estimators,\r\n",
    "                             voting ='soft')"
   ]
  },
  {
   "cell_type": "code",
   "execution_count": 35,
   "metadata": {},
   "outputs": [
    {
     "name": "stdout",
     "output_type": "stream",
     "text": [
      "DecisionTreeClassifier 0.7008333333333333\n",
      "SVC 1.0\n",
      "VotingClassifier 0.29083333333333333\n"
     ]
    }
   ],
   "source": [
    "for clf in (dtc_clf, svm_clf, voting_clf):\r\n",
    "    clf.fit(X_train, y_train)\r\n",
    "    y_pred = clf.predict(X_train)\r\n",
    "    print(clf.__class__.__name__, accuracy_score(y_train, y_pred))"
   ]
  },
  {
   "cell_type": "code",
   "execution_count": 36,
   "metadata": {},
   "outputs": [
    {
     "name": "stdout",
     "output_type": "stream",
     "text": [
      "DecisionTreeClassifier 0.7833333333333333\n",
      "SVC 1.0\n",
      "VotingClassifier 0.5333333333333333\n"
     ]
    }
   ],
   "source": [
    "for clf in (dtc_clf, svm_clf, voting_clf):\r\n",
    "    clf.fit(X_test, y_test)\r\n",
    "    y_pred = clf.predict(X_test)\r\n",
    "    print(clf.__class__.__name__, accuracy_score(y_test, y_pred))"
   ]
  }
 ],
 "metadata": {
  "interpreter": {
   "hash": "7980ba124835d5faa10419b5aaaaec0d5be537aa3d05dd29d745d0092f32015f"
  },
  "kernelspec": {
   "display_name": "Python 3.8.9 64-bit",
   "name": "python3"
  },
  "language_info": {
   "codemirror_mode": {
    "name": "ipython",
    "version": 3
   },
   "file_extension": ".py",
   "mimetype": "text/x-python",
   "name": "python",
   "nbconvert_exporter": "python",
   "pygments_lexer": "ipython3",
   "version": "3.8.9"
  },
  "orig_nbformat": 4
 },
 "nbformat": 4,
 "nbformat_minor": 2
}