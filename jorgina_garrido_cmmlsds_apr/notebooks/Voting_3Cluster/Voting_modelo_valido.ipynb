{
 "cells": [
  {
   "cell_type": "code",
   "execution_count": 5,
   "metadata": {},
   "outputs": [],
   "source": [
    "import pandas as pd\r\n",
    "import numpy as np\r\n",
    "\r\n",
    "from sklearn.svm import SVC\r\n",
    "from sklearn.tree import DecisionTreeClassifier\r\n",
    "from sklearn.ensemble import VotingClassifier\r\n",
    "\r\n",
    "from sklearn.metrics import accuracy_score\r\n",
    "from sklearn import metrics\r\n",
    "\r\n",
    "from sklearn.model_selection import train_test_split\r\n",
    "\r\n",
    "import tensorflow as tf"
   ]
  },
  {
   "cell_type": "code",
   "execution_count": 6,
   "metadata": {},
   "outputs": [],
   "source": [
    "ENS_2017_C_agr = pd.read_csv(\"../../data/Bases_trabajo/ENS_2017_C_agr.csv\", sep =',')"
   ]
  },
  {
   "cell_type": "code",
   "execution_count": 7,
   "metadata": {},
   "outputs": [],
   "source": [
    "ENS_2017_C_agr_R = ENS_2017_C_agr"
   ]
  },
  {
   "cell_type": "code",
   "execution_count": 8,
   "metadata": {},
   "outputs": [],
   "source": [
    "ENS_2017_C_agr_R= ENS_2017_C_agr.loc[:,['Edad_ag','Actividad_economica_actual', 'Estado_civil','Freq_ActividadFísica', 'Freq_Consumo_Carne','Freq_Consumo_VerdurasEnsaladasHortalizas','Freq_Consumo_Alcohol', 'Nivel_estudios','Vacunación_gripe','ApoyoAfectivoPersonal_AmigosFamiliares','Salud_percibida']]"
   ]
  },
  {
   "cell_type": "code",
   "execution_count": 9,
   "metadata": {},
   "outputs": [],
   "source": [
    "X = ENS_2017_C_agr_R[['Edad_ag','Actividad_economica_actual', 'Estado_civil','Freq_ActividadFísica', 'Freq_Consumo_Carne','Freq_Consumo_VerdurasEnsaladasHortalizas','Freq_Consumo_Alcohol', 'Nivel_estudios','Vacunación_gripe','ApoyoAfectivoPersonal_AmigosFamiliares']]"
   ]
  },
  {
   "cell_type": "code",
   "execution_count": 10,
   "metadata": {},
   "outputs": [],
   "source": [
    "y = ENS_2017_C_agr_R['Salud_percibida']"
   ]
  },
  {
   "cell_type": "code",
   "execution_count": 11,
   "metadata": {},
   "outputs": [],
   "source": [
    "dtc_clf = DecisionTreeClassifier(random_state=42)\r\n",
    "svm_clf = SVC(C = 10, gamma=1, kernel = 'rbf', random_state=42)\r\n",
    "\r\n",
    "estimators = [('dtc', dtc_clf), ('svc', svm_clf)]\r\n",
    "\r\n",
    "voting_clf = VotingClassifier(estimators = estimators,\r\n",
    "                             voting='hard')"
   ]
  },
  {
   "cell_type": "code",
   "execution_count": 12,
   "metadata": {},
   "outputs": [
    {
     "data": {
      "text/plain": [
       "VotingClassifier(estimators=[('dtc', DecisionTreeClassifier(random_state=42)),\n",
       "                             ('svc', SVC(C=10, gamma=1, random_state=42))])"
      ]
     },
     "execution_count": 12,
     "metadata": {},
     "output_type": "execute_result"
    }
   ],
   "source": [
    "voting_clf.fit(X, y)"
   ]
  },
  {
   "cell_type": "code",
   "execution_count": 13,
   "metadata": {},
   "outputs": [
    {
     "name": "stdout",
     "output_type": "stream",
     "text": [
      "DecisionTreeClassifier 0.9487634804452336\n",
      "SVC 0.9487634804452336\n",
      "VotingClassifier 0.9487634804452336\n"
     ]
    }
   ],
   "source": [
    "for clf in (dtc_clf, svm_clf, voting_clf):\r\n",
    "    clf.fit(X, y)\r\n",
    "    y_pred = clf.predict(X)\r\n",
    "    print(clf.__class__.__name__, accuracy_score(y, y_pred))"
   ]
  },
  {
   "cell_type": "code",
   "execution_count": 29,
   "metadata": {},
   "outputs": [],
   "source": [
    "import pickle\r\n",
    "# save the classifier\r\n",
    "with open('../../modelos/ENS_2017_finalmodel_voting.pkl', 'wb') as fid:\r\n",
    "    pickle.dump(voting_clf, fid)    \r\n"
   ]
  },
  {
   "cell_type": "code",
   "execution_count": 30,
   "metadata": {},
   "outputs": [],
   "source": [
    "# load it again\r\n",
    "with open('../../modelos/ENS_2017_finalmodel_voting.pkl', 'rb') as fid:\r\n",
    "    voting_clf_loaded = pickle.load(fid)"
   ]
  },
  {
   "cell_type": "code",
   "execution_count": null,
   "metadata": {},
   "outputs": [],
   "source": []
  }
 ],
 "metadata": {
  "interpreter": {
   "hash": "7980ba124835d5faa10419b5aaaaec0d5be537aa3d05dd29d745d0092f32015f"
  },
  "kernelspec": {
   "display_name": "Python 3.8.9 64-bit",
   "name": "python3"
  },
  "language_info": {
   "codemirror_mode": {
    "name": "ipython",
    "version": 3
   },
   "file_extension": ".py",
   "mimetype": "text/x-python",
   "name": "python",
   "nbconvert_exporter": "python",
   "pygments_lexer": "ipython3",
   "version": "3.8.9"
  },
  "orig_nbformat": 4
 },
 "nbformat": 4,
 "nbformat_minor": 2
}