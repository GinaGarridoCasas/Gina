{
 "cells": [
  {
   "cell_type": "code",
   "execution_count": 5,
   "source": [
    "import pandas as pd\r\n",
    "import numpy as np\r\n",
    "\r\n",
    "from sklearn.svm import SVC\r\n",
    "from sklearn.tree import DecisionTreeClassifier\r\n",
    "from sklearn.ensemble import VotingClassifier\r\n",
    "\r\n",
    "from sklearn.metrics import accuracy_score\r\n",
    "from sklearn import metrics\r\n",
    "\r\n",
    "from sklearn.model_selection import train_test_split\r\n",
    "\r\n",
    "import tensorflow as tf"
   ],
   "outputs": [],
   "metadata": {}
  },
  {
   "cell_type": "code",
   "execution_count": 6,
   "source": [
    "ENS_2017_C_agr = pd.read_csv(\"../../data/Bases_trabajo/ENS_2017_C_agr.csv\", sep =',')"
   ],
   "outputs": [],
   "metadata": {}
  },
  {
   "cell_type": "code",
   "execution_count": 9,
   "source": [
    "X = ENS_2017_C_agr[['Edad_ag','Actividad_economica_actual', 'Freq_ActividadFísica', 'Freq_Consumo_Alcohol', 'Nivel_estudios']]"
   ],
   "outputs": [],
   "metadata": {}
  },
  {
   "cell_type": "code",
   "execution_count": 10,
   "source": [
    "y = ENS_2017_C_agr['Salud_percibida']"
   ],
   "outputs": [],
   "metadata": {}
  },
  {
   "cell_type": "code",
   "execution_count": null,
   "source": [
    "X_train, X_test, y_train, y_test = train_test_split(X, y, test_size=0.2, random_state=101)"
   ],
   "outputs": [],
   "metadata": {}
  },
  {
   "cell_type": "code",
   "execution_count": 11,
   "source": [
    "dtc_clf = DecisionTreeClassifier(random_state=42)\r\n",
    "svm_clf = SVC(C = 10, gamma=1, kernel = 'rbf', random_state=42)\r\n",
    "\r\n",
    "estimators = [('dtc', dtc_clf), ('svc', svm_clf)]\r\n",
    "\r\n",
    "voting_clf = VotingClassifier(estimators = estimators,\r\n",
    "                             voting='hard')"
   ],
   "outputs": [],
   "metadata": {}
  },
  {
   "cell_type": "code",
   "execution_count": 13,
   "source": [
    "fdtc_clf = DecisionTreeClassifier(random_state=42)\r\n",
    "svm_clf = SVC(C = 10, gamma=1, kernel = 'rbf', random_state=42)\r\n",
    "\r\n",
    "estimators = [('dtc', dtc_clf), ('svc', svm_clf)]\r\n",
    "\r\n",
    "voting_clf = VotingClassifier(estimators = estimators,\r\n",
    "                             voting='hard')\r\n",
    "\r\n",
    "print ('Train')\r\n",
    "\r\n",
    "voting_clf.fit(X_train, y_train)\r\n",
    "\r\n",
    "for clf in (dtc_clf, svm_clf, voting_clf):\r\n",
    "    clf.fit(X_train, y_train)\r\n",
    "    y_pred_train = clf.predict(X_train)\r\n",
    "    print(clf.__class__.__name__, accuracy_score(y_train, y_pred_train))\r\n",
    "\r\n",
    "print ('Test')\r\n",
    "\r\n",
    "voting_clf.fit(X_test, y_test)\r\n",
    "\r\n",
    "for clf in (dtc_clf, svm_clf, voting_clf):\r\n",
    "    clf.fit(X_test, y_test)\r\n",
    "    y_pred_test = clf.predict(X_test)\r\n",
    "    print(clf.__class__.__name__, accuracy_score(y_test, y_pred_test))"
   ],
   "outputs": [
    {
     "output_type": "stream",
     "name": "stdout",
     "text": [
      "DecisionTreeClassifier 0.9487634804452336\n",
      "SVC 0.9487634804452336\n",
      "VotingClassifier 0.9487634804452336\n"
     ]
    }
   ],
   "metadata": {}
  },
  {
   "cell_type": "code",
   "execution_count": 29,
   "source": [
    "import pickle\r\n",
    "# save the classifier\r\n",
    "with open('../../modelos/ENS_2017_finalmodel_voting.pkl', 'wb') as fid:\r\n",
    "    pickle.dump(voting_clf, fid)    \r\n"
   ],
   "outputs": [],
   "metadata": {}
  },
  {
   "cell_type": "code",
   "execution_count": 30,
   "source": [
    "# load it again\r\n",
    "#with open('../../modelos/ENS_2017_finalmodel_voting.pkl', 'rb') as fid:\r\n",
    "    #voting_clf_loaded = pickle.load(fid)"
   ],
   "outputs": [],
   "metadata": {}
  },
  {
   "cell_type": "code",
   "execution_count": null,
   "source": [],
   "outputs": [],
   "metadata": {}
  }
 ],
 "metadata": {
  "interpreter": {
   "hash": "7980ba124835d5faa10419b5aaaaec0d5be537aa3d05dd29d745d0092f32015f"
  },
  "kernelspec": {
   "display_name": "Python 3.8.9 64-bit",
   "name": "python3"
  },
  "language_info": {
   "codemirror_mode": {
    "name": "ipython",
    "version": 3
   },
   "file_extension": ".py",
   "mimetype": "text/x-python",
   "name": "python",
   "nbconvert_exporter": "python",
   "pygments_lexer": "ipython3",
   "version": "3.8.9"
  },
  "orig_nbformat": 4
 },
 "nbformat": 4,
 "nbformat_minor": 2
}