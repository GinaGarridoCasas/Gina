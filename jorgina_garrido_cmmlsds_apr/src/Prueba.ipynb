{
 "cells": [
  {
   "cell_type": "code",
   "execution_count": 1,
   "metadata": {},
   "outputs": [],
   "source": [
    "import pandas as pd\r\n",
    "import numpy as np\r\n"
   ]
  },
  {
   "cell_type": "code",
   "execution_count": 2,
   "metadata": {},
   "outputs": [],
   "source": [
    "import sys, os\r\n",
    "path = os.getcwd()\r\n",
    "k = os.path.dirname(path)\r\n",
    "k = k + os.sep + \"src\"\r\n",
    "sys.path.append(k)\r\n"
   ]
  },
  {
   "cell_type": "code",
   "execution_count": 3,
   "metadata": {},
   "outputs": [],
   "source": [
    "import pandas as pd\r\n",
    "import numpy as np\r\n",
    "from sklearn.cluster import KMeans\r\n",
    "from sklearn.model_selection import train_test_split\r\n",
    "from sklearn import metrics\r\n",
    "from sklearn.preprocessing import StandardScaler"
   ]
  },
  {
   "cell_type": "code",
   "execution_count": 4,
   "metadata": {},
   "outputs": [],
   "source": [
    "from sklearn.preprocessing import PolynomialFeatures\r\n",
    "from sklearn.linear_model import LinearRegression\r\n",
    "from sklearn.metrics import r2_score, mean_absolute_error\r\n"
   ]
  },
  {
   "cell_type": "code",
   "execution_count": 5,
   "metadata": {},
   "outputs": [],
   "source": [
    "from sklearn.metrics import r2_score, mean_absolute_error\r\n",
    "from sklearn.metrics import mean_squared_error"
   ]
  },
  {
   "cell_type": "code",
   "execution_count": 6,
   "metadata": {},
   "outputs": [],
   "source": [
    "from sklearn import linear_model\r\n",
    "from sklearn.linear_model import LogisticRegression\r\n",
    "from sklearn.metrics import accuracy_score\r\n",
    "from sklearn.neighbors import KNeighborsClassifier\r\n",
    "from sklearn import svm\r\n",
    "from sklearn.tree import DecisionTreeRegressor\r\n",
    "from sklearn.ensemble import RandomForestRegressor\r\n",
    "from sklearn.tree import DecisionTreeClassifier\r\n",
    "from sklearn.ensemble import RandomForestClassifier\r\n",
    "import tensorflow as tf\r\n",
    "from tensorflow import keras\r\n",
    "from tensorflow.keras import datasets, layers, models\r\n",
    "from keras.layers import Dropout\r\n",
    "\r\n",
    "from sklearn.preprocessing import StandardScaler\r\n",
    "from sklearn.model_selection import GridSearchCV\r\n",
    "from sklearn.pipeline import Pipeline\r\n",
    "\r\n"
   ]
  },
  {
   "cell_type": "code",
   "execution_count": 7,
   "metadata": {},
   "outputs": [],
   "source": [
    "ENS_2017_C_agr = pd.read_csv(\"../data/Bases_trabajo/ENS_2017_C_agr.csv\", sep =',')"
   ]
  },
  {
   "cell_type": "code",
   "execution_count": 8,
   "metadata": {},
   "outputs": [],
   "source": [
    "X = ENS_2017_C_agr[['Actividad_economica_actual', 'Nacionalidad_española', 'Convivencia',\r\n",
    "       'Freq_Consumo_Carne', 'ClaseSocial_BasadaOcupación']]\r\n",
    "\r\n",
    "y = ENS_2017_C_agr['Salud_percibida']"
   ]
  },
  {
   "cell_type": "code",
   "execution_count": 9,
   "metadata": {},
   "outputs": [],
   "source": [
    "X_train, X_test, y_train, y_test = train_test_split(X, y, test_size=0.2, random_state=2003)"
   ]
  },
  {
   "cell_type": "code",
   "execution_count": 10,
   "metadata": {},
   "outputs": [],
   "source": [
    "from sklearn.svm import SVC\r\n",
    "from sklearn.tree import DecisionTreeClassifier\r\n",
    "from sklearn.ensemble import VotingClassifier"
   ]
  },
  {
   "cell_type": "code",
   "execution_count": 11,
   "metadata": {},
   "outputs": [
    {
     "name": "stdout",
     "output_type": "stream",
     "text": [
      "Train\n"
     ]
    }
   ],
   "source": [
    "dtc_clf = DecisionTreeClassifier(random_state=42)\r\n",
    "svm_clf = SVC(C = 10, gamma=1, kernel = 'rbf', probability = True, random_state=42)\r\n",
    "\r\n",
    "estimators = [('dtc', dtc_clf), ('svc', svm_clf)]\r\n",
    "\r\n",
    "voting_clf = VotingClassifier(estimators = estimators,\r\n",
    "                             voting='soft')\r\n",
    "\r\n",
    "print ('Train')\r\n",
    "\r\n",
    "voting_clf.fit(X_train, y_train)\r\n",
    "\r\n",
    "for clf in (dtc_clf, svm_clf, voting_clf):\r\n",
    "    clf.fit(X_train, y_train)\r\n",
    "    y_pred_train = clf.predict(X_train)\r\n",
    "    print(clf.__class__.__name__, accuracy_score(y_train, y_pred_train))\r\n",
    "\r\n",
    "print ('Test')\r\n",
    "\r\n",
    "voting_clf.fit(X_test, y_test)\r\n",
    "\r\n",
    "for clf in (dtc_clf, svm_clf, voting_clf):\r\n",
    "    clf.fit(X_test, y_test)\r\n",
    "    y_pred_test = clf.predict(X_test)\r\n",
    "    print(clf.__class__.__name__, accuracy_score(y_test, y_pred_test))\r\n",
    "\r\n",
    "print ('total')\r\n",
    "\r\n",
    "voting_clf.fit(X, y)\r\n",
    "\r\n",
    "for clf in (dtc_clf, svm_clf, voting_clf):\r\n",
    "    clf.fit(X, y)\r\n",
    "    y_pred_total = clf.predict(X)\r\n",
    "    print(clf.__class__.__name__, accuracy_score(y, y_pred_total))\r\n",
    "\r\n",
    "\r\n"
   ]
  }
 ],
 "metadata": {
  "interpreter": {
   "hash": "7980ba124835d5faa10419b5aaaaec0d5be537aa3d05dd29d745d0092f32015f"
  },
  "kernelspec": {
   "display_name": "Python 3.8.9 64-bit",
   "name": "python3"
  },
  "language_info": {
   "codemirror_mode": {
    "name": "ipython",
    "version": 3
   },
   "file_extension": ".py",
   "mimetype": "text/x-python",
   "name": "python",
   "nbconvert_exporter": "python",
   "pygments_lexer": "ipython3",
   "version": "3.8.9"
  },
  "orig_nbformat": 4
 },
 "nbformat": 4,
 "nbformat_minor": 2
}