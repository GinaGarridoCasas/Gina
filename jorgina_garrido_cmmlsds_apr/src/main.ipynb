{
 "cells": [
  {
   "cell_type": "code",
   "execution_count": 2,
   "metadata": {},
   "outputs": [],
   "source": [
    "import pandas as pd\r\n",
    "import numpy as np"
   ]
  },
  {
   "cell_type": "code",
   "execution_count": null,
   "metadata": {},
   "outputs": [],
   "source": [
    "ENS_2017 = pd.read_csv(\"../Data/Bases_originales/ENS_2017_Adultos_1.csv\", sep =';')"
   ]
  },
  {
   "cell_type": "code",
   "execution_count": null,
   "metadata": {},
   "outputs": [],
   "source": [
    "ENS_2017.shape"
   ]
  },
  {
   "cell_type": "markdown",
   "metadata": {},
   "source": [
    "# Data Mining"
   ]
  },
  {
   "cell_type": "markdown",
   "metadata": {},
   "source": [
    "## Se eliminan algunas columnas que no tienen interés para el proyecto\r\n",
    "\r\n",
    "#### Se eliminan las columnas correspondientes a los apartados:\r\n",
    "- Identificación del hogar\r\n",
    "- Identificación del informante\r\n",
    "- Relación de la persona seleccionada con la actividad económica\r\n",
    "- Módulo europeo del estado de salud. Se mantiene únicamente del módulo: Estado de salud, la pregunta referente a 'Estado de salud percibido en los últimos 12 meses' y el módulo de prácticas preventivas\r\n",
    "- Módulo determinantes de salud, se han mantenido las más genéricas de cada apartado. Se han eliminado las del apartado referente a: cuidado de otras personas con problemas de salud"
   ]
  },
  {
   "cell_type": "code",
   "execution_count": null,
   "metadata": {},
   "outputs": [],
   "source": [
    "TO_ENS_2017 = ['IDENTHOGAR', 'A7_2a', 'PROXY_0','PROXY_1', 'PROXY_2', 'PROXY_2b', 'PROXY_3b', 'PROXY_4', 'PROXY_5', 'E2_1c', 'E2_1d','E3','F6', 'F7','F8_2','F9_2','F10','F11','F12','F13','F14a','F14b','F15','F16','F17','F18a_2','F18b_2','F19a_2','F19b_2','F20',\r\n",
    "'G22','G23','G24','G25a_1','G25b_1','G25c_1','G25a_2','G25b_2','G25c_2','G25a_3','G25b_3','G25c_3','G25a_4','G25b_4','G25c_4','G25a_5','G25b_5','G25c_5','G25a_6','G25b_6','G25c_6','G25a_7','G25b_7','G25c_7','G25a_8','G25b_8','G25c_8','G25a_9','G25b_9','G25c_9','G25a_10','G25b_10','G25c_10','G25a_11','G25b_11','G25c_11','G25a_12','G25b_12','G25c_12','G25a_13','G25b_13','G25c_13','G25a_14','G25b_14','G25c_14','G25a_15','G25b_15','G25c_15','G25a_16','G25b_16','G25c_16','G25a_17','G25b_17','G25c_17','G25a_18','G25b_18','G25c_18','G25a_19','G25b_19','G25c_19','G25a_20','G25b_20','G25c_20','G25a_21','G25b_21','G25c_21','G25a_22','G25b_22','G25c_22','G25a_23','G25b_23','G25c_23','G25a_24','G25b_24','G25c_24','G25a_25','G25b_25','G25c_25','G25a_26','G25b_26','G25c_26','G25a_27','G25b_27','G25c_27','G25a_28','G25b_28','G25c_28','G25a_29','G25b_29','G25c_29','G25a_30','G25b_30','G25c_30','G25a_31','G25b_31','G25c_31','G25a_32','G25b_32','G25c_32',\r\n",
    "'H26_1','H26_2','H26_3','H27',\r\n",
    "'I28_1','I28_2','I29_1','I29_2',\r\n",
    "'K32','K33','K34','K35','K36','K37','K38','K38a',\r\n",
    "'L39_1','L39_2','L39_3','L39_4','L39_5','L40','L41','L42_1','L42_2','L42_3','L42_4','L42_5','L42_6','L42_7','L43','L44','L45','L46','M47_1','M47_2','M47_3','M47_4','M47_5','M47_6','M47_7','M47_8','M47_9','M47_10','M47_11','M47_12','M47a','M47b',\r\n",
    "'N48','N49','N50','N51','N52','N53','N54','N55_1','N55_2','N55_3','N56_1','N56_2','N56_3','N57','N58_1','N58_2','N58_3','N59','N60_1','N60_2','N60_3','N60_4','N60a_1','N60a_2','N60a_3','N60a_4','N61_1','N61_2','N61_3','N61_4','N61_5','N62','N62b','N63_1','N63_2','N63_3','N63_4','N63_5','N63_6','N63_7','N63_8','N63_9','N63_10','N64','N65_1','N65_2','N65_3','N65_4','N65_5','N65_6','N65_7','N65_8',\r\n",
    "'O66','O67','O69','O70','O71','O72','O73','O74','O75','O76','O77','O78','O79','O80_1','O80_2','O80_3','O81_1','O81_2','O81_3','O82_1','O82_2','O83','O84_1','O84_2','O84_3','O84_4','O84_5','O84_6','O84_7','O84_8','O84_9',\r\n",
    "'P85','P86','P87_1a','P87_1b','P87_2a','P87_2b','P87_3a','P87_3b','P87_4a','P87_4b','P87_5a','P87_5b','P87_6a','P87_6b','P87_7a','P87_7b','P87_8a','P87_8b','P87_9a','P87_9b','P87_10a','P87_10b','P87_11a','P87_11b','P87_12a','P87_12b','P87_13a','P87_13b','P87_14a','P87_14b','P87_15a','P87_15b','P87_16a','P87_16b','P87_17a','P87_17b','P87_18a','P87_18b','P87_19a','P87_19b','P87_20a','P87_20b','P87_21a','P87_21b','P87_22a','P87_22b','P87_23a','P87_23b',\r\n",
    "'Q90', 'Q92','Q94', 'Q96', 'Q97', 'Q99', 'Q100', 'Q101','Q102','Q103','Q104','Q105',\r\n",
    "'R106','R107','R108_1','R108_2','R108_3','R108_4','T111', 'T113', 'T114_1','T114_2', 'T115', 'T116_1', 'T116_2', 'T117', 'T117', 'T118_2','T118_1','T119_1','T119_2',\r\n",
    "'U120_1a','U120_7a','U120_15a','U120FZ','U120CANTFZ',\r\n",
    "'V122','V123','V124','V125','V126',\r\n",
    "'W128Cer','W128Cer_1','W128Cer_2','W128Cer_3','W128Cer_4','W128Cer_5','W128Cer_6','W128Cer_7','W128Vin','W128Vin_1','W128Vin_2','W128Vin_3','W128Vin_4','W128Vin_5','W128Vin_6','W128Vin_7','W128Vermut','W128Vermut_1','W128Vermut_2','W128Vermut_3','W128Vermut_4','W128Vermut_5','W128Vermut_6','W128Vermut_7','W128Lic','W128Lic_1','W128Lic_2','W128Lic_3','W128Lic_4','W128Lic_5','W128Lic_6','W128Lic_7','W128Comb','W128Comb_1','W128Comb_2','W128Comb_3',\r\n",
    "'W128Comb_4','W128Comb_5','W128Comb_6','W128Comb_7',\r\n",
    "'W128Sidra','W128Sidra_1','W128Sidra_2','W128Sidra_3',\r\n",
    "'W128Sidra_4','W128Sidra_5','W128Sidra_6','W128Sidra_7','W129','Y133','Y134','Y135','CMD1','CMD2','CMD3','FACTORADULTO',\r\n",
    "'Unnamed: 455']\r\n",
    "\r\n",
    "ENS_2017.drop(TO_ENS_2017, inplace = True, axis=1)"
   ]
  },
  {
   "cell_type": "markdown",
   "metadata": {},
   "source": [
    "### Vemos las características de la nueva base"
   ]
  },
  {
   "cell_type": "code",
   "execution_count": null,
   "metadata": {},
   "outputs": [],
   "source": [
    "ENS_2017.dtypes"
   ]
  },
  {
   "cell_type": "code",
   "execution_count": null,
   "metadata": {},
   "outputs": [],
   "source": [
    "ENS_2017.shape"
   ]
  },
  {
   "cell_type": "code",
   "execution_count": null,
   "metadata": {},
   "outputs": [],
   "source": [
    "ENS_2017.columns"
   ]
  },
  {
   "cell_type": "code",
   "execution_count": null,
   "metadata": {},
   "outputs": [],
   "source": [
    "# Se crea una nueva base para hacer las modificaciones necesarias\r\n",
    "ENS_2017_1 = ENS_2017"
   ]
  },
  {
   "cell_type": "markdown",
   "metadata": {},
   "source": [
    "## Calidad de los datos de la base\r\n",
    "### Missing\r\n",
    "#### Pasamos las categorías de \"no sabe\", \"no contesta\" a missing y vemos en qué variables tenemos más de un 10% de missing. En caso de que haya alguna, la eliminaremos. Si el porcentaje de missing es inferior al 10% se sustituirán por la moda en las variables categóricas y por la mediana en las numéricas (Altura y Peso). En las variables de, CCAA, sexo y edad no existe la opción de \"no sabe\", \"no contesta\"."
   ]
  },
  {
   "cell_type": "code",
   "execution_count": null,
   "metadata": {},
   "outputs": [],
   "source": [
    "variables_categoricas = ['ACTIVa', 'E1_1', 'E2_1a', 'E2_1b', 'E4',\r\n",
    "       'E4b', 'NIVEST', 'G21', 'Q88', 'Q89', 'Q91', 'Q93', 'Q95', 'Q98',\r\n",
    "       'S109', 'S110', 'T112', 'U120_1', 'U120_2', 'U120_3', 'U120_4',\r\n",
    "       'U120_5', 'U120_6', 'U120_7', 'U120_8', 'U120_9', 'U120_10', 'U120_11',\r\n",
    "       'U120_12', 'U120_13', 'U120_14', 'U120_15', 'U2_120F', 'V121', 'W127',\r\n",
    "       'X130_1', 'X130_2', 'X130_3', 'X130_4', 'X130_5', 'X130_6', 'X130_7',\r\n",
    "       'X130_8', 'X130_9', 'X130_10', 'X130_11', 'CLASE_PR', 'IMCa']\r\n",
    "\r\n",
    "for i in variables_categoricas:\r\n",
    "    \r\n",
    "    if i == 'ACTIVa':\r\n",
    "        ENS_2017_1['ACTIVa']= ENS_2017_1['ACTIVa'].replace({7: np.nan, 8: np.nan})\r\n",
    "        \r\n",
    "        na_ratio = ((ENS_2017_1[i].isnull().sum() / len(ENS_2017_1[i]))*100)\r\n",
    "        print (f'El porcentaje de missing value de la variable {i} es: {na_ratio}')\r\n",
    "    \r\n",
    "        ENS_2017_1[i].fillna(ENS_2017_1[i].mode()[0], inplace=True)\r\n",
    "        print(\"missing value, una vez sustituidos por la moda: \" + str(ENS_2017_1[i].isnull().sum()))\r\n",
    "    \r\n",
    "\r\n",
    "    elif i == 'NIVEST' or i == 'W127':\r\n",
    "        ENS_2017_1['NIVEST']= ENS_2017_1['NIVEST'].replace({98: np.nan, 99: np.nan})\r\n",
    "        ENS_2017_1['W127']= ENS_2017_1['W127'].replace({98: np.nan, 99: np.nan})\r\n",
    "        \r\n",
    "        na_ratio = ((ENS_2017_1[i].isnull().sum() / len(ENS_2017_1[i]))*100)\r\n",
    "        print (f'El porcentaje de missing value de la variable {i} es: {na_ratio}')\r\n",
    "    \r\n",
    "        ENS_2017_1[i].fillna(ENS_2017_1[i].mode()[0], inplace=True)\r\n",
    "        print(\"missing value, una vez sustituidos por la moda: \" + str(ENS_2017_1[i].isnull().sum()))\r\n",
    "\r\n",
    "    elif i == 'CLASE_PR' or i == 'IMCa':\r\n",
    "        ENS_2017_1['CLASE_PR']= ENS_2017_1['CLASE_PR'].replace({9: np.nan})\r\n",
    "        ENS_2017_1['IMCa']= ENS_2017_1['IMCa'].replace({9: np.nan})\r\n",
    "        \r\n",
    "        na_ratio = ((ENS_2017_1[i].isnull().sum() / len(ENS_2017_1[i]))*100)\r\n",
    "        print (f'El porcentaje de missing value de la variable {i} es: {na_ratio}')\r\n",
    "    \r\n",
    "        ENS_2017_1[i].fillna(ENS_2017_1[i].mode()[0], inplace=True)\r\n",
    "        print(\"missing value, una vez sustituidos por la moda: \" + str(ENS_2017_1[i].isnull().sum())) \r\n",
    "\r\n",
    "    else:\r\n",
    "        ENS_2017_1[i]= ENS_2017_1[i].replace({8: np.nan, 9: np.nan})\r\n",
    "\r\n",
    "        na_ratio = ((ENS_2017_1[i].isnull().sum() / len(ENS_2017_1[i]))*100)\r\n",
    "        print (f'El porcentaje de missing value de la variable {i} es: {na_ratio}')\r\n",
    "        \r\n",
    "        ENS_2017_1[i].fillna(ENS_2017_1[i].mode()[0], inplace=True)\r\n",
    "        print(\"missing value, una vez sustituidos por la moda: \" + str(ENS_2017_1[i].isnull().sum()))"
   ]
  },
  {
   "cell_type": "code",
   "execution_count": null,
   "metadata": {},
   "outputs": [],
   "source": [
    "variable_numericas = ['S109','S110']\r\n",
    "\r\n",
    "for i in variables_numericas:\r\n",
    "\r\n",
    "    ENS_2017_1[i]= ENS_2017_1[i].replace({998: np.nan, 999: np.nan})\r\n",
    "        \r\n",
    "    na_ratio = ((ENS_2017_1[i].isnull().sum() / len(ENS_2017_1[i]))*100)\r\n",
    "    print (f'El porcentaje de missing value de la variable {i} es: {na_ratio}')\r\n",
    "    \r\n",
    "    ENS_2017_1[i].fillna(ENS_2017_1[i].median(), inplace=True)\r\n",
    "    print(\"missing value, una vez sustituidos por la moda: \" + str(ENS_2017_1[i].isnull().sum()))"
   ]
  },
  {
   "cell_type": "markdown",
   "metadata": {},
   "source": [
    "### Duplicados"
   ]
  },
  {
   "cell_type": "code",
   "execution_count": null,
   "metadata": {},
   "outputs": [],
   "source": [
    "Duplicados = ENS_2017_1.duplicated()\r\n",
    "Duplicados"
   ]
  },
  {
   "cell_type": "markdown",
   "metadata": {},
   "source": [
    "### Outliers"
   ]
  },
  {
   "cell_type": "code",
   "execution_count": null,
   "metadata": {},
   "outputs": [],
   "source": [
    "plt.figure(figsize=(9,6))\r\n",
    "\r\n",
    "boxplot = ENS_2017_1.boxplot(column=['CCAA', 'SEXOa', 'EDADa', 'ACTIVa'])\r\n",
    "boxplot.plot()\r\n",
    "\r\n",
    "plt.savefig(\"../reports/outliers/ENS_2017_1.1.jpg\", bbox_inches='tight')"
   ]
  },
  {
   "cell_type": "code",
   "execution_count": null,
   "metadata": {},
   "outputs": [],
   "source": [
    "plt.figure(figsize=(9,6))\r\n",
    "\r\n",
    "boxplot = ENS_2017_1.boxplot(column=['E1_1', 'E2_1a', 'E2_1b','E4', 'E4b', 'NIVEST'])\r\n",
    "boxplot.plot()\r\n",
    "\r\n",
    "plt.savefig(\"../reports/outliers/ENS_2017_1.2.jpg\", bbox_inches='tight')"
   ]
  },
  {
   "cell_type": "code",
   "execution_count": null,
   "metadata": {},
   "outputs": [],
   "source": [
    "plt.figure(figsize=(9,6))\r\n",
    "\r\n",
    "boxplot = ENS_2017_1.boxplot(column=['G21', 'Q88', 'Q89', 'Q91'])\r\n",
    "boxplot.plot()\r\n",
    "\r\n",
    "plt.savefig(\"../reports/outliers/ENS_2017_1.3.jpg\", bbox_inches='tight')"
   ]
  },
  {
   "cell_type": "code",
   "execution_count": null,
   "metadata": {},
   "outputs": [],
   "source": [
    "plt.figure(figsize=(9,6))\r\n",
    "\r\n",
    "boxplot = ENS_2017_1.boxplot(column=['Q93', 'Q95', 'Q98','T112'])\r\n",
    "boxplot.plot()\r\n",
    "\r\n",
    "plt.savefig(\"../reports/outliers/ENS_2017_1.4.jpg\", bbox_inches='tight')\r\n"
   ]
  },
  {
   "cell_type": "code",
   "execution_count": null,
   "metadata": {},
   "outputs": [],
   "source": [
    "plt.figure(figsize=(9,6))\r\n",
    "\r\n",
    "boxplot = ENS_2017_1.boxplot(column=['S109', 'S110'])\r\n",
    "boxplot.plot()\r\n",
    "\r\n",
    "plt.savefig(\"../reports/outliers/ENS_2017_1.5.jpg\", bbox_inches='tight')\r\n"
   ]
  },
  {
   "cell_type": "code",
   "execution_count": null,
   "metadata": {},
   "outputs": [],
   "source": [
    "plt.figure(figsize=(9,6))\r\n",
    "\r\n",
    "boxplot = ENS_2017_1.boxplot(column=['U120_1', 'U120_2','U120_3', 'U120_4','U120_5', 'U120_6'])\r\n",
    "boxplot.plot()\r\n",
    "\r\n",
    "plt.savefig(\"../reports/outliers/ENS_2017_1.6.jpg\", bbox_inches='tight')"
   ]
  },
  {
   "cell_type": "code",
   "execution_count": null,
   "metadata": {},
   "outputs": [],
   "source": [
    "plt.figure(figsize=(9,6))\r\n",
    "\r\n",
    "boxplot = ENS_2017_1.boxplot(column=['U120_7', 'U120_8', 'U120_9', 'U120_10', 'U120_11', 'U120_12','U120_13', 'U120_14', 'U120_15'])\r\n",
    "boxplot.plot()\r\n",
    "\r\n",
    "plt.savefig(\"../reports/outliers/ENS_2017_1.7.jpg\", bbox_inches='tight')\r\n"
   ]
  },
  {
   "cell_type": "code",
   "execution_count": null,
   "metadata": {},
   "outputs": [],
   "source": [
    "plt.figure(figsize=(9,6))\r\n",
    "\r\n",
    "boxplot = ENS_2017_1.boxplot(column=['U2_120F', 'V121', 'W127'])\r\n",
    "boxplot.plot()\r\n",
    "\r\n",
    "plt.savefig(\"../reports/outliers/ENS_2017_1.8.jpg\", bbox_inches='tight')\r\n"
   ]
  },
  {
   "cell_type": "code",
   "execution_count": null,
   "metadata": {},
   "outputs": [],
   "source": [
    "plt.figure(figsize=(9,6))\r\n",
    "\r\n",
    "boxplot = ENS_2017_1.boxplot(column=['X130_1', 'X130_2', 'X130_3', 'X130_4', 'X130_5', 'X130_6', 'X130_7','X130_8', 'X130_9', 'X130_10', 'X130_11'])\r\n",
    "boxplot.plot()\r\n",
    "\r\n",
    "plt.savefig(\"../reports/outliers/ENS_2017_1.9.jpg\", bbox_inches='tight')"
   ]
  },
  {
   "cell_type": "code",
   "execution_count": null,
   "metadata": {},
   "outputs": [],
   "source": [
    "plt.figure(figsize=(9,6))\r\n",
    "\r\n",
    "boxplot = ENS_2017_1.boxplot(column=['CLASE_PR','IMCa'])\r\n",
    "boxplot.plot()\r\n",
    "\r\n",
    "plt.savefig(\"../reports/outliers/ENS_2017_1.10.jpg\", bbox_inches='tight')"
   ]
  },
  {
   "cell_type": "markdown",
   "metadata": {},
   "source": [
    "### Renombramos las variables que entran en el proyecto"
   ]
  },
  {
   "cell_type": "code",
   "execution_count": null,
   "metadata": {},
   "outputs": [],
   "source": [
    "ENS_2017_1 = ENS_2017_1.rename(columns = \r\n",
    "{'SEXOa': 'Sexo', \r\n",
    "'EDADa': 'Edad', \r\n",
    "'ACTIVa': 'Actividad_economica_actual', \r\n",
    "'E1_1': 'País_nacimiento',\r\n",
    "'E2_1a': 'Nacionalidad_española', \r\n",
    "'E2_1b':'Nacionalidad_extranjera',\r\n",
    "'E4': 'Convivencia', \r\n",
    "'E4b': 'Estado_civil', \r\n",
    "'NIVEST': 'Nivel_estudios',\r\n",
    "'G21': 'Salud_percibida', \r\n",
    "'Q88':'Vacunación_gripe',\r\n",
    "'Q89':'Toma_tensiónArterial_profesional',\r\n",
    "'Q91': 'Medición_colesterol', \r\n",
    "'Q93': 'Medición_azúcarSangre', \r\n",
    "'Q95': 'Prueba_sangreHeces', \r\n",
    "'Q98': 'Colonoscopia',\r\n",
    "'S109': 'Altura(cm)', \r\n",
    "'S110':'Peso(Kg)',\r\n",
    "'T112': 'Freq_ActividadFísica', \r\n",
    "'U120_1': 'Freq_Consumo_FrutaFresca', \r\n",
    "'U120_2': 'Freq_Consumo_Carne',\r\n",
    "'U120_3': 'Freq_Consumo_Huevos', \r\n",
    "'U120_4':'Freq_Consumo_Pescado',\r\n",
    "'U120_5': 'Freq_Consumo_PastaArrozPatatas', \r\n",
    "'U120_6': 'Freq_Consumo_PanCereales',\r\n",
    "'U120_7': 'Freq_Consumo_VerdurasEnsaladasHortalizas', \r\n",
    "'U120_8':'Freq_Consumo_Legumbres',\r\n",
    "'U120_9': 'Freq_Consumo_EmbutidosFiambres', \r\n",
    "'U120_10': 'Freq_Consumo_Lácteos',\r\n",
    "'U120_11': 'Freq_Consumo_Dulces', \r\n",
    "'U120_12':'Freq_Consumo_RefrescosAzúcar',\r\n",
    "'U120_13': 'Freq_Consumo_ComidaRápida', \r\n",
    "'U120_14': 'Freq_Consumo_Aperitivos',\r\n",
    "'U120_15': 'Freq_Consumo_ZumoNatural', \r\n",
    "'U2_120F':'Freq_Diaria_CepilladoDientes',\r\n",
    "'V121': '¿Fuma actualmente',\r\n",
    "'W127': 'Freq_Consumo_Alcohol', \r\n",
    "'X130_1':'ApoyoAfectivoPersonal_AmigosFamiliares',\r\n",
    "'X130_2': 'ApoyoAfectivoPersonal_AsuntosCasa', \r\n",
    "'X130_3': 'ApoyoAfectivoPersonal_ReconocimientoTrabajo',\r\n",
    "'X130_4': 'ApoyoAfectivoPersonal_PersonasSePreocupan', \r\n",
    "'X130_5':'ApoyoAfectivoPersonal_RecibirAmorAfecto',\r\n",
    "'X130_6':'ApoyoAfectivoPersonal_HablarProblemasTrabajoCasa',\r\n",
    "'X130_7': 'ApoyoAfectivoPersonal_HablarProblemasPersonalesFamiliares', \r\n",
    "'X130_8': 'ApoyoAfectivoPersonal_HablarProblemasEconómicos',\r\n",
    "'X130_9': 'ApoyoAfectivoPersonal_RecibirInvitacionesSalirConOtrasPersonas', \r\n",
    "'X130_10':'ApoyoAfectivoPersonal_RecibirConsejosÚtiles',\r\n",
    "'X130_11':'ApoyoAfectivoPersonal_RecibirAyudaEnfermoCama',\r\n",
    "'CLASE_PR':'ClaseSocial_BasadaOcupación',\r\n",
    "'IMCa':'Índice_MasaCorporal'})"
   ]
  },
  {
   "cell_type": "markdown",
   "metadata": {},
   "source": [
    "### Archivamos la base con los cambios realizados"
   ]
  },
  {
   "cell_type": "code",
   "execution_count": null,
   "metadata": {},
   "outputs": [],
   "source": [
    "ENS_2017_valida = ENS_2017_1\r\n",
    "\r\n",
    "ENS_2017_valida.to_csv('../data/Bases_trabajo/ENS_2017_valida.csv')"
   ]
  },
  {
   "cell_type": "markdown",
   "metadata": {},
   "source": [
    "## Análisis de datos"
   ]
  },
  {
   "cell_type": "code",
   "execution_count": null,
   "metadata": {},
   "outputs": [],
   "source": [
    "ENS_2017_valida = pd.read_csv(\"../Data/Bases_trabajo/ENS_2017_valida.csv\", sep =',')"
   ]
  },
  {
   "cell_type": "code",
   "execution_count": null,
   "metadata": {},
   "outputs": [],
   "source": [
    "# Se elimina la columna 'Unnamed: 0'\r\n",
    "TO_ENS_2017_valida = ['Unnamed: 0']\r\n",
    "ENS_2017_valida.drop(TO_ENS_2017_valida, inplace = True, axis=1)\r\n"
   ]
  },
  {
   "cell_type": "code",
   "execution_count": null,
   "metadata": {},
   "outputs": [],
   "source": [
    "# Vemos la distribución de la variable dependiente\r\n",
    "\r\n",
    "freq_R = ENS_2017_valida['Salud_percibida'].value_counts() / len(ENS_2017_valida['Salud_percibida'])*100\r\n",
    "freq_R"
   ]
  },
  {
   "cell_type": "code",
   "execution_count": null,
   "metadata": {},
   "outputs": [],
   "source": [
    "# Creo una base de datos en la que la VD tendrán 3 valores\r\n",
    "\r\n",
    "ENS_2017_valida_1 = ENS_2017_valida"
   ]
  },
  {
   "cell_type": "markdown",
   "metadata": {},
   "source": [
    "### Recodificamos la variable dependiente (VD): Salud percibida"
   ]
  },
  {
   "cell_type": "code",
   "execution_count": null,
   "metadata": {},
   "outputs": [],
   "source": [
    "ENS_2017_valida_1['Salud_percibida'] = ENS_2017_valida_1['Salud_percibida'].replace({2:1,3:2,4:3,5:3})"
   ]
  },
  {
   "cell_type": "code",
   "execution_count": null,
   "metadata": {},
   "outputs": [],
   "source": [
    "freq_R_1 = ENS_2017_valida_1['Salud_percibida'].value_counts() / len(ENS_2017_valida_1['Salud_percibida'])*100\r\n",
    "freq_R_1"
   ]
  },
  {
   "cell_type": "code",
   "execution_count": null,
   "metadata": {},
   "outputs": [],
   "source": [
    "ENS_2017_valida_1.to_csv('../data/Bases_trabajo/ENS_2017_valida_1.csv')"
   ]
  },
  {
   "cell_type": "markdown",
   "metadata": {},
   "source": [
    "### Vemos las correlaciones de todas las variables entre sí. Nos centramos en la de la VD con el resto\r\n",
    "\r\n",
    "### Para poder ver con claridad la información de las correlaciones en los gráficos de Heatmap, creamos diferentes dataframes en los que se incluye la VD con grupos del resto de variables en cada uno de ellos"
   ]
  },
  {
   "cell_type": "code",
   "execution_count": null,
   "metadata": {},
   "outputs": [],
   "source": [
    "Salud_percibida_1 = ENS_2017_valida_1.iloc[:,[10,0,1,2,3,4,5,6,7,8,9]]"
   ]
  },
  {
   "cell_type": "code",
   "execution_count": null,
   "metadata": {},
   "outputs": [],
   "source": [
    "Salud_percibida_2 = ENS_2017_valida_1.iloc[:,[10,11,12,13,14,15,16,17,18]]"
   ]
  },
  {
   "cell_type": "code",
   "execution_count": null,
   "metadata": {},
   "outputs": [],
   "source": [
    "Salud_percibida_3 = ENS_2017_valida_1.iloc[:,[10,19,20,21,22,23,24,25,26,27,28,29,30,31,32,33,34]]"
   ]
  },
  {
   "cell_type": "code",
   "execution_count": null,
   "metadata": {},
   "outputs": [],
   "source": [
    "Salud_percibida_4 = ENS_2017_valida_1.iloc[:,[10,35,36,37,38,39,40,41,42,43,44,45,46,47,48]]"
   ]
  },
  {
   "cell_type": "code",
   "execution_count": null,
   "metadata": {},
   "outputs": [],
   "source": [
    "Salud_percibida_5 = ENS_2017_valida_1.iloc[:,[10,49,50]]"
   ]
  },
  {
   "cell_type": "code",
   "execution_count": null,
   "metadata": {},
   "outputs": [],
   "source": [
    "f, ax = plt.subplots(figsize=(13, 10))\r\n",
    "sns.heatmap(Salud_percibida_1.corr(),\r\n",
    "           vmin = -1,\r\n",
    "           vmax = 1,\r\n",
    "            annot = True,\r\n",
    "           linewidths = .5)\r\n",
    "\r\n",
    "plt.savefig(\"../reports/heatmap/Salud_percibida_1.jpg\", bbox_inches='tight')"
   ]
  },
  {
   "cell_type": "code",
   "execution_count": null,
   "metadata": {},
   "outputs": [],
   "source": [
    "f, ax = plt.subplots(figsize=(13, 10))\r\n",
    "sns.heatmap(Salud_percibida_2.corr(),\r\n",
    "           vmin = -1,\r\n",
    "           vmax = 1,\r\n",
    "            annot = True,\r\n",
    "           linewidths = .5)\r\n",
    "plt.savefig(\"../reports/heatmap/Salud_percibida_2.jpg\", bbox_inches='tight')"
   ]
  },
  {
   "cell_type": "code",
   "execution_count": null,
   "metadata": {},
   "outputs": [],
   "source": [
    "f, ax = plt.subplots(figsize=(13, 10))\r\n",
    "sns.heatmap(Salud_percibida_3.corr(),\r\n",
    "           vmin = -1,\r\n",
    "           vmax = 1,\r\n",
    "            annot = True,\r\n",
    "           linewidths = .5)\r\n",
    "\r\n",
    "plt.savefig(\"../reports/heatmap/Salud_percibida_3.jpg\", bbox_inches='tight')"
   ]
  },
  {
   "cell_type": "code",
   "execution_count": null,
   "metadata": {},
   "outputs": [],
   "source": [
    "f, ax = plt.subplots(figsize=(13, 10))\r\n",
    "sns.heatmap(Salud_percibida_4.corr(),\r\n",
    "           vmin = -1,\r\n",
    "           vmax = 1,\r\n",
    "            annot = True,\r\n",
    "           linewidths = .5)\r\n",
    "\r\n",
    "plt.savefig(\"../reports/heatmap/Salud_percibida_4.jpg\", bbox_inches='tight')"
   ]
  },
  {
   "cell_type": "code",
   "execution_count": null,
   "metadata": {},
   "outputs": [],
   "source": [
    "f, ax = plt.subplots(figsize=(9, 8))\r\n",
    "sns.heatmap(Salud_percibida_5.corr(),\r\n",
    "           vmin = -1,\r\n",
    "           vmax = 1,\r\n",
    "            annot = True,\r\n",
    "           linewidths = .5)\r\n",
    "plt.savefig(\"../reports/heatmap/Salud_percibida_5.jpg\", bbox_inches='tight')"
   ]
  },
  {
   "cell_type": "markdown",
   "metadata": {},
   "source": [
    "### Se eliminan las variables entre las que existe mayor colinealidad (Pearson >= 0.40)"
   ]
  },
  {
   "cell_type": "code",
   "execution_count": null,
   "metadata": {},
   "outputs": [],
   "source": [
    "# Creamos una nueva base de datos en la que se eliminan las columnas con variables colineales\r\n",
    "ENS_2017_valida_2 = ENS_2017_valida_1"
   ]
  },
  {
   "cell_type": "code",
   "execution_count": null,
   "metadata": {},
   "outputs": [],
   "source": [
    "TO_ENS_2017_valida_2 = ['País_nacimiento','Nacionalidad_extranjera','Medición_azúcarSangre','Altura(cm)','Freq_Consumo_RefrescosAzúcar', 'Freq_Consumo_Aperitivos','ApoyoAfectivoPersonal_AsuntosCasa',\r\n",
    "       'ApoyoAfectivoPersonal_ReconocimientoTrabajo',\r\n",
    "       'ApoyoAfectivoPersonal_PersonasSePreocupan',\r\n",
    "       'ApoyoAfectivoPersonal_RecibirAmorAfecto',\r\n",
    "       'ApoyoAfectivoPersonal_HablarProblemasTrabajoCasa',\r\n",
    "       'ApoyoAfectivoPersonal_HablarProblemasPersonalesFamiliares',\r\n",
    "       'ApoyoAfectivoPersonal_HablarProblemasEconómicos',\r\n",
    "       'ApoyoAfectivoPersonal_RecibirInvitacionesSalirConOtrasPersonas',\r\n",
    "       'ApoyoAfectivoPersonal_RecibirConsejosÚtiles',\r\n",
    "       'ApoyoAfectivoPersonal_RecibirAyudaEnfermoCama',]\r\n",
    "\r\n",
    "ENS_2017_valida_2.drop(TO_ENS_2017_valida_2, inplace = True, axis=1)"
   ]
  },
  {
   "cell_type": "code",
   "execution_count": null,
   "metadata": {},
   "outputs": [],
   "source": [
    "ENS_2017_valida_2.to_csv('../data/Bases_trabajo/ENS_2017_valida_2.csv')"
   ]
  },
  {
   "cell_type": "code",
   "execution_count": null,
   "metadata": {},
   "outputs": [],
   "source": [
    "ENS_2017_valida_2.shape"
   ]
  },
  {
   "cell_type": "markdown",
   "metadata": {},
   "source": [
    "# Machine learning"
   ]
  },
  {
   "cell_type": "markdown",
   "metadata": {},
   "source": [
    "## Clusters"
   ]
  },
  {
   "cell_type": "markdown",
   "metadata": {},
   "source": [
    "### KMEANS"
   ]
  },
  {
   "cell_type": "code",
   "execution_count": null,
   "metadata": {},
   "outputs": [],
   "source": [
    "from sklearn.cluster import KMeans\r\n",
    "from sklearn.model_selection import train_test_split\r\n",
    "from sklearn import metrics\r\n",
    "from sklearn.preprocessing import StandardScaler\r\n"
   ]
  },
  {
   "cell_type": "code",
   "execution_count": null,
   "metadata": {},
   "outputs": [],
   "source": [
    "ENS_2017_valida_2 = pd.read_csv(\"../data/Bases_trabajo/ENS_2017_valida_2.csv\", sep =',')"
   ]
  },
  {
   "cell_type": "code",
   "execution_count": null,
   "metadata": {},
   "outputs": [],
   "source": [
    "# Pasamos a array la variable que queremos predecir \r\n",
    "y = np.array(ENS_2017_valida_2['Salud_percibida'])\r\n",
    "\r\n",
    "# Eliminamos del dataframe la variable que queremos predecir y mantenemos el resto como columnas (serán las variables predictoras:X)\r\n",
    "X= np.array(ENS_2017_valida_2.drop('Salud_percibida', axis = 1))"
   ]
  },
  {
   "cell_type": "code",
   "execution_count": null,
   "metadata": {},
   "outputs": [],
   "source": [
    "# Dividimos en muestra de entrenamiento y de test\r\n",
    "X_train, X_test, y_train, y_test = train_test_split(X,\r\n",
    "                                                    y,\r\n",
    "                                                    test_size=0.2,\r\n",
    "                                                    random_state=42)"
   ]
  },
  {
   "cell_type": "markdown",
   "metadata": {},
   "source": [
    "#### Determinamos el número de clusters óptimo en la muestra de entrenamiento"
   ]
  },
  {
   "cell_type": "code",
   "execution_count": null,
   "metadata": {},
   "outputs": [],
   "source": [
    "Nc = range(1, 10)\r\n",
    "kmeans = [KMeans(n_clusters=i) for i in Nc]\r\n",
    "kmeans\r\n",
    "score = [kmeans[i].fit(X_train).score(X_train) for i in range(len(kmeans))]\r\n",
    "score\r\n",
    "plt.plot(Nc,score)\r\n",
    "plt.xlabel('Number of Clusters')\r\n",
    "plt.ylabel('Score')\r\n",
    "plt.title('Elbow Curve')\r\n",
    "plt.show()\r\n"
   ]
  },
  {
   "cell_type": "markdown",
   "metadata": {},
   "source": [
    "#### Kmeans. 3 Clústers y 4 Clústers"
   ]
  },
  {
   "cell_type": "code",
   "execution_count": null,
   "metadata": {},
   "outputs": [],
   "source": [
    "for i in range (3,5):\r\n",
    "    print ('n_cluster_train:', i)\r\n",
    "    kmeans_train = KMeans(n_clusters=i, random_state=42).fit(X_train)\r\n",
    "    print(\"kmeans.labels_:\", kmeans_train.labels_)\r\n",
    "    predict_train = kmeans_train.predict(X_train)\r\n",
    "    print(\"\\npredict:\", predict_train)\r\n",
    "    clusters_train = kmeans_train.cluster_centers_\r\n",
    "    print(f'\\nKMeans cluster centers 3:\\n {clusters_train}')\r\n",
    "\r\n",
    "    k_train_score = metrics.accuracy_score(y_train, predict_train)\r\n",
    "    print(f'K_train_Score: {k_train_score.round(2)}')\r\n",
    "\r\n",
    "    print ('n_cluster_test:', i)\r\n",
    "    kmeans_test = KMeans(n_clusters=i, random_state=42).fit(X_test)\r\n",
    "    print(\"kmeans.labels_:\", kmeans_test.labels_)\r\n",
    "    predict_test = kmeans_test.predict(X_test)\r\n",
    "    print(\"\\npredict:\", predict_test)\r\n",
    "    clusters_test = kmeans_test.cluster_centers_\r\n",
    "    print(f'\\nKMeans cluster centers 3:\\n {clusters_test}')\r\n",
    "\r\n",
    "    k_test_score = metrics.accuracy_score(y_test, predict_test)\r\n",
    "    print(f'K_train_Score: {k_test_score.round(2)}')\r\n",
    "\r\n",
    "    print ('...................................')\r\n",
    "    print ('...................................')\r\n"
   ]
  },
  {
   "cell_type": "markdown",
   "metadata": {},
   "source": [
    "#### Vemos si mejoran los resultados para 3 y 4 clústers con los datos estandarizados"
   ]
  },
  {
   "cell_type": "code",
   "execution_count": null,
   "metadata": {},
   "outputs": [],
   "source": [
    "for i in range (3,5):\r\n",
    "    X_train = StandardScaler().fit_transform(X_train)\r\n",
    "\r\n",
    "    print ('n_cluster_train:', i)\r\n",
    "    kmeans_train = KMeans(n_clusters=i, random_state=42).fit(X_train)\r\n",
    "    print(\"kmeans.labels_:\", kmeans_train.labels_)\r\n",
    "    predict_train = kmeans_train.predict(X_train)\r\n",
    "    print(\"\\npredict:\", predict_train)\r\n",
    "    clusters_train = kmeans_train.cluster_centers_\r\n",
    "    print(f'\\nKMeans cluster centers 3:\\n {clusters_train}')\r\n",
    "\r\n",
    "    k_train_score = metrics.accuracy_score(y_train, predict_train)\r\n",
    "    print(f'K_train_Score: {k_train_score.round(2)}')\r\n",
    "\r\n",
    "    print ('...........................')\r\n",
    "    X_test = StandardScaler().fit_transform(X_test)\r\n",
    "    \r\n",
    "    print ('n_cluster_test:', i)\r\n",
    "    kmeans_test = KMeans(n_clusters=i, random_state=42).fit(X_test)\r\n",
    "    print(\"kmeans.labels_:\", kmeans_test.labels_)\r\n",
    "    predict_test = kmeans_test.predict(X_test)\r\n",
    "    print(\"\\npredict:\", predict_test)\r\n",
    "    clusters_test = kmeans_test.cluster_centers_\r\n",
    "    print(f'\\nKMeans cluster centers 3:\\n {clusters_test}')\r\n",
    "\r\n",
    "    k_test_score = metrics.accuracy_score(y_test, predict_test)\r\n",
    "    print(f'K_train_Score: {k_test_score.round(2)}')\r\n",
    "\r\n",
    "    print ('...................................')\r\n",
    "    print ('...................................')"
   ]
  },
  {
   "cell_type": "markdown",
   "metadata": {},
   "source": [
    "### Aplicamos el modelo a todos los datos. Con 3 Clúster sin normalizar. Es el modelo en el que se obtienen un mejor Score"
   ]
  },
  {
   "cell_type": "code",
   "execution_count": null,
   "metadata": {},
   "outputs": [],
   "source": [
    "kmeans = KMeans(n_clusters=3, random_state=42).fit(X)\r\n",
    "print(\"kmeans.labels_:\", kmeans.labels_)\r\n",
    "predict = kmeans.predict(X)\r\n",
    "print(\"\\npredict:\", predict)\r\n",
    "clusters = kmeans.cluster_centers_\r\n",
    "print(f'\\nKMeans cluster centers 3:\\n {clusters}')\r\n",
    "\r\n",
    "k_score = metrics.accuracy_score(y, predict)\r\n",
    "print(f'K_Score: {k_score.round(2)}')"
   ]
  },
  {
   "cell_type": "markdown",
   "metadata": {},
   "source": [
    "### Vemos si mejora el modelo de 3 Clúster sin normalizar reduciendo las variables con PCA (análisis de componentes principales)\r\n",
    "#### Como el score en train y test es el mismo e igual que con todos los datos, aplicaremos el modelo PCA a todos los datos\r\n",
    "#### Probaremos reduciendo a 3, 4 y 5 componentes principales "
   ]
  },
  {
   "cell_type": "code",
   "execution_count": null,
   "metadata": {},
   "outputs": [],
   "source": [
    "from sklearn.decomposition import PCA\r\n",
    "\r\n",
    "for i in range (3,6):\r\n",
    "    print ('PCA:', i)\r\n",
    "    pca = PCA(n_components=i)\r\n",
    "    pca.fit(X)\r\n",
    "    X_pca = pca.transform(X)\r\n",
    "    print('Varianza explicativa para PCA:', i)\r\n",
    "    print(f'Varianza explicativa \\n{pca.explained_variance_ratio_}')\r\n",
    "    total_var_pca = pca.explained_variance_ratio_[0]\r\n",
    "    print(f'\\nTotal varianza explicativa: \\n{total_var_pca.round(2)}')\r\n",
    "\r\n",
    "    print('Kmeans para PCA:', i)\r\n",
    "    kmeans_pca = KMeans(n_clusters=3, random_state=11).fit(X_pca)\r\n",
    "    print(\"kmeans.labels_:\", kmeans_pca.labels_)\r\n",
    "    predict_pca = kmeans_pca.predict(X_pca)\r\n",
    "    print(\"\\npredict:\", predict_pca)\r\n",
    "    clusters_pca = kmeans_pca.cluster_centers_\r\n",
    "    print(f'\\nKMeans cluster centers con PCA: i {clusters_pca}')\r\n",
    "\r\n",
    "    print('Score para PCA:', i)\r\n",
    "    k_pca_score = metrics.accuracy_score(y, predict_pca)\r\n",
    "    print(f'PCA_Score: {k_pca_score}')\r\n",
    "    print(f'PCA_Score: {k_pca_score.round(2)}')\r\n",
    "\r\n",
    "    print ('....................................')\r\n"
   ]
  },
  {
   "cell_type": "markdown",
   "metadata": {},
   "source": [
    "### Mejora un poco con 4 componentes principales. Mantenemos el modelo de Kmeans con 3 Clústers y 4 componentes principales"
   ]
  },
  {
   "cell_type": "markdown",
   "metadata": {},
   "source": [
    "### DBSCAN"
   ]
  },
  {
   "cell_type": "code",
   "execution_count": null,
   "metadata": {},
   "outputs": [],
   "source": [
    "ENS_2017_valida_2 = pd.read_csv(\"../data/Bases_trabajo/ENS_2017_valida_2.csv\", sep =',')\r\n",
    "\r\n",
    "# Pasamos a array la variable que queremos predecir \r\n",
    "y = np.array(ENS_2017_valida_2['Salud_percibida'])\r\n",
    "\r\n",
    "# Eliminamos del dataframe la variable que queremos predecir y mantenemos el resto como columnas (serán las variables predictoras:X)\r\n",
    "\r\n",
    "X= np.array(ENS_2017_valida_2.drop('Salud_percibida', axis = 1))"
   ]
  },
  {
   "cell_type": "code",
   "execution_count": null,
   "metadata": {},
   "outputs": [],
   "source": [
    "# Dividimos en muestra de entrenamiento y de test\r\n",
    "X_train, X_test, y_train, y_test = train_test_split(X,\r\n",
    "                                                    y,\r\n",
    "                                                    test_size=0.2,\r\n",
    "                                                    random_state=42)"
   ]
  },
  {
   "cell_type": "markdown",
   "metadata": {},
   "source": [
    "#### Vemos con qué número de epsilón y min_samples es el que obtiene mejores resultados"
   ]
  },
  {
   "cell_type": "code",
   "execution_count": null,
   "metadata": {},
   "outputs": [],
   "source": [
    "# Importamos DBSCAN\r\n",
    "from sklearn.cluster import DBSCAN\r\n",
    "\r\n",
    "\r\n",
    "for i in range (5,21):\r\n",
    "    for j in range (2,11):\r\n",
    "        print ('eps:', i)\r\n",
    "        print ('min_sample:', j)\r\n",
    "        db_train = DBSCAN(eps=i, min_samples=j).fit(X_train)\r\n",
    "        core_samples_mask = np.zeros_like(db_train.labels_, dtype=bool)\r\n",
    "        core_samples_mask[db_train.core_sample_indices_] = True\r\n",
    "        y_db_train = db_train.labels_\r\n",
    "\r\n",
    "        db_train_Score = metrics.accuracy_score(y_train, y_db_train)\r\n",
    "        print('DB_train_Score:', db_train_Score.round(2))\r\n",
    "        print('DB_train_Score:', db_train_Score)\r\n"
   ]
  },
  {
   "cell_type": "markdown",
   "metadata": {},
   "source": [
    "### Probamos con los datos estandarizados a ver si mejora el modelo con el número de epsilon y min_samples que mejores resultados hemos obtenido: \r\n",
    "### epsilon = 19, min_samples = 2\r\n",
    "### DB_train_Score: 0.01; DB_train_Score: 0.012560229549022792"
   ]
  },
  {
   "cell_type": "code",
   "execution_count": null,
   "metadata": {},
   "outputs": [],
   "source": [
    "# Normalizamos los datos\r\n",
    "X_train = StandardScaler().fit_transform(X_train)\r\n",
    "\r\n",
    "# Definimos DBSCAN \r\n",
    "db_train = DBSCAN(eps= 19, min_samples=3).fit(X_train)\r\n",
    "core_samples_mask = np.zeros_like(db_train.labels_, dtype=bool)\r\n",
    "core_samples_mask[db_train.core_sample_indices_] = True\r\n",
    "y_db_train = db_train.labels_\r\n",
    "\r\n",
    "db_train_Score = metrics.accuracy_score(y_train, y_db_train)\r\n",
    "print('DB_train_Score:', db_train_Score.round(2))\r\n",
    "print('DB_train_Score:', db_train_Score)\r\n"
   ]
  },
  {
   "cell_type": "markdown",
   "metadata": {},
   "source": [
    "### Conclusión Clusters: El mejor modelo para agrupar los registros en Clúster es el de Kmeans con 3 Cluster y las variables agrupadas en 4 componentes principales"
   ]
  },
  {
   "cell_type": "markdown",
   "metadata": {},
   "source": [
    "### Añadimos una columna a nuestro Dataframe con la asignación de los Clústers a cada una de las filas"
   ]
  },
  {
   "cell_type": "code",
   "execution_count": null,
   "metadata": {},
   "outputs": [],
   "source": [
    "ENS_2017_valida_2 = pd.read_csv(\"../data/Bases_trabajo/ENS_2017_valida_2.csv\", sep =',')\r\n",
    "\r\n",
    "y = np.array(ENS_2017_valida_2['Salud_percibida'])\r\n",
    "\r\n",
    "X= np.array(ENS_2017_valida_2.drop('Salud_percibida', axis = 1))\r\n",
    "\r\n"
   ]
  },
  {
   "cell_type": "code",
   "execution_count": null,
   "metadata": {},
   "outputs": [],
   "source": [
    "pca = PCA(n_components=4)\r\n",
    "pca.fit(X)\r\n",
    "X_pca = pca.transform(X)\r\n",
    "print('Varianza explicativa para PCA:', 4)\r\n",
    "print(f'Varianza explicativa \\n{pca.explained_variance_ratio_}')\r\n",
    "total_var_pca = pca.explained_variance_ratio_[0]\r\n",
    "print(f'\\nTotal varianza explicativa: \\n{total_var_pca.round(2)}')\r\n",
    "\r\n",
    "print('Kmeans para PCA:', 4)\r\n",
    "kmeans_pca = KMeans(n_clusters=3, random_state=11).fit(X_pca)\r\n",
    "print(\"kmeans.labels_:\", kmeans_pca.labels_)\r\n",
    "predict_pca = kmeans_pca.predict(X_pca)\r\n",
    "print(\"\\npredict:\", predict_pca)\r\n",
    "clusters_pca = kmeans_pca.cluster_centers_\r\n",
    "print(f'\\nKMeans cluster centers con PCA: i {clusters_pca}')\r\n",
    "\r\n",
    "print('Score para PCA:', 4)\r\n",
    "k_pca_score = metrics.accuracy_score(y, predict_pca)\r\n",
    "print(f'PCA_Score: {k_pca_score}')\r\n",
    "print(f'PCA_Score: {k_pca_score.round(2)}')"
   ]
  },
  {
   "cell_type": "code",
   "execution_count": null,
   "metadata": {},
   "outputs": [],
   "source": [
    "Clusters = kmeans_pca.predict(X_pca)\r\n",
    "ENS_2017_valida_2['Clusters'] = Clusters"
   ]
  },
  {
   "cell_type": "code",
   "execution_count": null,
   "metadata": {},
   "outputs": [],
   "source": [
    "# Creamos una nueva base en la que se encuentra la columna de Clústers añadida\r\n",
    "\r\n",
    "ENS_2017_C = ENS_2017_valida_2\r\n",
    "ENS_2017_C.to_csv('../data/Bases_trabajo/ENS_2017_C.csv')"
   ]
  },
  {
   "cell_type": "markdown",
   "metadata": {},
   "source": [
    "### Obtenemos el porcentaje y el número de observaciones en cada Clúster"
   ]
  },
  {
   "cell_type": "code",
   "execution_count": null,
   "metadata": {},
   "outputs": [],
   "source": [
    "ENS_2017_C= pd.read_csv(\"../data/Bases_trabajo/ENS_2017_C.csv\", sep =',')\r\n",
    "\r\n",
    "freq_Clusters = ENS_2017_C['Clusters'].value_counts() / len(ENS_2017_C['Clusters'])*100\r\n",
    "freq_Clusters"
   ]
  },
  {
   "cell_type": "markdown",
   "metadata": {},
   "source": [
    "### Identificamos el perfil de cada Clúster cruzando las diferentes variables del dataset con la columna de Clúster"
   ]
  },
  {
   "cell_type": "code",
   "execution_count": null,
   "metadata": {},
   "outputs": [],
   "source": [
    "# Cruzamos la VD con los Clústers\r\n",
    "\r\n",
    "Cluster_SaludPercibida = pd.crosstab(index =ENS_2017_C['Clusters'],columns =ENS_2017_C['Salud_percibida']).apply(lambda r: r/r.sum() *100,axis=0)\r\n",
    "\r\n",
    "Cluster_SaludPercibida"
   ]
  },
  {
   "cell_type": "code",
   "execution_count": null,
   "metadata": {},
   "outputs": [],
   "source": [
    "# Cruzamos las VI categóricas con los Clústers\r\n",
    "\r\n",
    "variables = ['CCAA', 'Sexo', \r\n",
    "       'Actividad_economica_actual', 'Nacionalidad_española', 'Convivencia',\r\n",
    "       'Estado_civil', 'Nivel_estudios', 'Vacunación_gripe',\r\n",
    "       'Toma_tensiónArterial_profesional', 'Medición_colesterol',\r\n",
    "       'Prueba_sangreHeces', 'Colonoscopia', \r\n",
    "       'Freq_ActividadFísica', 'Freq_Consumo_FrutaFresca',\r\n",
    "       'Freq_Consumo_Carne', 'Freq_Consumo_Huevos', 'Freq_Consumo_Pescado',\r\n",
    "       'Freq_Consumo_PastaArrozPatatas', 'Freq_Consumo_PanCereales',\r\n",
    "       'Freq_Consumo_VerdurasEnsaladasHortalizas', 'Freq_Consumo_Legumbres',\r\n",
    "       'Freq_Consumo_EmbutidosFiambres', 'Freq_Consumo_Lácteos',\r\n",
    "       'Freq_Consumo_Dulces', 'Freq_Consumo_ComidaRápida',\r\n",
    "       'Freq_Consumo_ZumoNatural', 'Freq_Diaria_CepilladoDientes',\r\n",
    "       '¿Fuma actualmente', 'Freq_Consumo_Alcohol',\r\n",
    "       'ApoyoAfectivoPersonal_AmigosFamiliares', 'ClaseSocial_BasadaOcupación',\r\n",
    "       'Índice_MasaCorporal']\r\n",
    "       \r\n",
    "for i in variables:\r\n",
    "    Cluster_i = pd.crosstab(index =ENS_2017_C['Clusters'],columns =ENS_2017_C[i]).apply(lambda r: r/r.sum() *100,axis=0)\r\n",
    "    print(Cluster_i)"
   ]
  },
  {
   "cell_type": "code",
   "execution_count": null,
   "metadata": {},
   "outputs": [],
   "source": [
    "# Cruzamos las VI numéricas con los Clústers\r\n",
    "\r\n",
    "variables = ['Edad', 'Peso(Kg)']\r\n",
    "\r\n",
    "for i in variables:\r\n",
    "    Cluster_i = ENS_2017_C.groupby(['Clusters'])[i].describe()\r\n",
    "\r\n",
    "    print(Cluster_i)"
   ]
  },
  {
   "cell_type": "markdown",
   "metadata": {},
   "source": [
    "## Modelos de regresión"
   ]
  },
  {
   "cell_type": "markdown",
   "metadata": {},
   "source": [
    "### Linear Regression"
   ]
  }
 ],
 "metadata": {
  "language_info": {
   "name": "python",
   "nbconvert_exporter": "python"
  },
  "orig_nbformat": 4
 },
 "nbformat": 4,
 "nbformat_minor": 2
}