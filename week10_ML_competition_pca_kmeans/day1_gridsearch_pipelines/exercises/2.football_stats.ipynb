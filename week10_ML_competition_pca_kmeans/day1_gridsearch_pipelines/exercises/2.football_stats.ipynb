{
 "metadata": {
  "language_info": {
   "codemirror_mode": {
    "name": "ipython",
    "version": 3
   },
   "file_extension": ".py",
   "mimetype": "text/x-python",
   "name": "python",
   "nbconvert_exporter": "python",
   "pygments_lexer": "ipython3",
   "version": "3.8.9"
  },
  "orig_nbformat": 2,
  "kernelspec": {
   "name": "python3",
   "display_name": "Python 3.8.9 64-bit"
  },
  "interpreter": {
   "hash": "7980ba124835d5faa10419b5aaaaec0d5be537aa3d05dd29d745d0092f32015f"
  }
 },
 "nbformat": 4,
 "nbformat_minor": 2,
 "cells": [
  {
   "cell_type": "markdown",
   "metadata": {},
   "source": [
    "A partir del archivo Euro_2012_stats_TEAM, se pide:\n",
    "\n",
    "1. Obtener la matriz de correlación. ¿Qué columnas están mejor correlacionadas?\n",
    "\n",
    "2. ¿Existe algún tipo de relación entre la precisión de disparo a puerta (Shooting Accuracy) con respecto a los goles? Muestra en una gráfica (pintando la línea en la distribución de ambas variables) y usando Regresión Lineal, Regresión no Lineal con polinomio y SVR la relación entre ambos. Por cada porcentaje de acierto de cara a puerta, ¿cuánto aumenta o disminuye el número de goles? \n",
    "\n",
    "3. Si tratamos la columna Goals como una columna categórica y usando logistic regression, SVM y Random forest, ¿cuántos goles marcaría un equipo que tiene...? (por cada algoritmo):\n",
    "\n",
    "    - % de goles por disparo: 40%\n",
    "    - Total shots (inc. Blocked): 102\n",
    "    - Corners Taken: 5\n",
    "    - Passes: 82\n",
    "    - Dribbles: 23"
   ]
  },
  {
   "source": [
    "### 1. Las 10 columnas mejor correlacionadas son:\n",
    "\n",
    "Subs on,                     Subs off            1.000000\n",
    "\n",
    "Passes,                      Passes completed    0.997697\n",
    "                            Touches             0.993044\n",
    "\n",
    "Passes completed,            Touches             0.984324\n",
    "\n",
    "Shots on target,             Touches             0.934623\n",
    "                            Passes              0.930337\n",
    "                            Passes completed    0.923242\n",
    "\n",
    "Fouls Won,                   Subs on             0.907719\n",
    "                            Subs off            0.907719\n",
    "\n",
    "Total shots (inc. Blocked),  Touches             0.894708\n",
    "\n",
    "\n",
    "\n",
    "\n",
    "\n"
   ],
   "cell_type": "markdown",
   "metadata": {}
  },
  {
   "source": [
    "### 2. la correlación entre Shooting Accuracy y Goals es: 0.521210"
   ],
   "cell_type": "markdown",
   "metadata": {}
  },
  {
   "cell_type": "code",
   "execution_count": 20,
   "metadata": {},
   "outputs": [
    {
     "output_type": "execute_result",
     "data": {
      "text/plain": [
       "                   Team  Goals  Shots on target  Shots off target  \\\n",
       "0               Croatia      4               13                12   \n",
       "1        Czech Republic      4               13                18   \n",
       "2               Denmark      4               10                10   \n",
       "3               England      5               11                18   \n",
       "4                France      3               22                24   \n",
       "5               Germany     10               32                32   \n",
       "6                Greece      5                8                18   \n",
       "7                 Italy      6               34                45   \n",
       "8           Netherlands      2               12                36   \n",
       "9                Poland      2               15                23   \n",
       "10             Portugal      6               22                42   \n",
       "11  Republic of Ireland      1                7                12   \n",
       "12               Russia      5                9                31   \n",
       "13                Spain     12               42                33   \n",
       "14               Sweden      5               17                19   \n",
       "15              Ukraine      2                7                26   \n",
       "\n",
       "   Shooting Accuracy % Goals-to-shots  Total shots (inc. Blocked)  \\\n",
       "0              51.9%            16.0%                          32   \n",
       "1              41.9%            12.9%                          39   \n",
       "2              50.0%            20.0%                          27   \n",
       "3              50.0%            17.2%                          40   \n",
       "4              37.9%             6.5%                          65   \n",
       "5              47.8%            15.6%                          80   \n",
       "6              30.7%            19.2%                          32   \n",
       "7              43.0%             7.5%                         110   \n",
       "8              25.0%             4.1%                          60   \n",
       "9              39.4%             5.2%                          48   \n",
       "10             34.3%             9.3%                          82   \n",
       "11             36.8%             5.2%                          28   \n",
       "12             22.5%            12.5%                          59   \n",
       "13             55.9%            16.0%                         100   \n",
       "14             47.2%            13.8%                          39   \n",
       "15             21.2%             6.0%                          38   \n",
       "\n",
       "    Hit Woodwork  Penalty goals  Penalties not scored  ...  Saves made  \\\n",
       "0              0              0                     0  ...          13   \n",
       "1              0              0                     0  ...           9   \n",
       "2              1              0                     0  ...          10   \n",
       "3              0              0                     0  ...          22   \n",
       "4              1              0                     0  ...           6   \n",
       "5              2              1                     0  ...          10   \n",
       "6              1              1                     1  ...          13   \n",
       "7              2              0                     0  ...          20   \n",
       "8              2              0                     0  ...          12   \n",
       "9              0              0                     0  ...           6   \n",
       "10             6              0                     0  ...          10   \n",
       "11             0              0                     0  ...          17   \n",
       "12             2              0                     0  ...          10   \n",
       "13             0              1                     0  ...          15   \n",
       "14             3              0                     0  ...           8   \n",
       "15             0              0                     0  ...          13   \n",
       "\n",
       "    Saves-to-shots ratio  Fouls Won Fouls Conceded  Offsides  Yellow Cards  \\\n",
       "0                  81.3%         41             62         2             9   \n",
       "1                  60.1%         53             73         8             7   \n",
       "2                  66.7%         25             38         8             4   \n",
       "3                  88.1%         43             45         6             5   \n",
       "4                  54.6%         36             51         5             6   \n",
       "5                  62.6%         63             49        12             4   \n",
       "6                  65.1%         67             48        12             9   \n",
       "7                  74.1%        101             89        16            16   \n",
       "8                  70.6%         35             30         3             5   \n",
       "9                  66.7%         48             56         3             7   \n",
       "10                 71.5%         73             90        10            12   \n",
       "11                 65.4%         43             51        11             6   \n",
       "12                 77.0%         34             43         4             6   \n",
       "13                 93.8%        102             83        19            11   \n",
       "14                 61.6%         35             51         7             7   \n",
       "15                 76.5%         48             31         4             5   \n",
       "\n",
       "    Red Cards  Subs on  Subs off  Players Used  \n",
       "0           0        9         9            16  \n",
       "1           0       11        11            19  \n",
       "2           0        7         7            15  \n",
       "3           0       11        11            16  \n",
       "4           0       11        11            19  \n",
       "5           0       15        15            17  \n",
       "6           1       12        12            20  \n",
       "7           0       18        18            19  \n",
       "8           0        7         7            15  \n",
       "9           1        7         7            17  \n",
       "10          0       14        14            16  \n",
       "11          1       10        10            17  \n",
       "12          0        7         7            16  \n",
       "13          0       17        17            18  \n",
       "14          0        9         9            18  \n",
       "15          0        9         9            18  \n",
       "\n",
       "[16 rows x 35 columns]"
      ],
      "text/html": "<div>\n<style scoped>\n    .dataframe tbody tr th:only-of-type {\n        vertical-align: middle;\n    }\n\n    .dataframe tbody tr th {\n        vertical-align: top;\n    }\n\n    .dataframe thead th {\n        text-align: right;\n    }\n</style>\n<table border=\"1\" class=\"dataframe\">\n  <thead>\n    <tr style=\"text-align: right;\">\n      <th></th>\n      <th>Team</th>\n      <th>Goals</th>\n      <th>Shots on target</th>\n      <th>Shots off target</th>\n      <th>Shooting Accuracy</th>\n      <th>% Goals-to-shots</th>\n      <th>Total shots (inc. Blocked)</th>\n      <th>Hit Woodwork</th>\n      <th>Penalty goals</th>\n      <th>Penalties not scored</th>\n      <th>...</th>\n      <th>Saves made</th>\n      <th>Saves-to-shots ratio</th>\n      <th>Fouls Won</th>\n      <th>Fouls Conceded</th>\n      <th>Offsides</th>\n      <th>Yellow Cards</th>\n      <th>Red Cards</th>\n      <th>Subs on</th>\n      <th>Subs off</th>\n      <th>Players Used</th>\n    </tr>\n  </thead>\n  <tbody>\n    <tr>\n      <th>0</th>\n      <td>Croatia</td>\n      <td>4</td>\n      <td>13</td>\n      <td>12</td>\n      <td>51.9%</td>\n      <td>16.0%</td>\n      <td>32</td>\n      <td>0</td>\n      <td>0</td>\n      <td>0</td>\n      <td>...</td>\n      <td>13</td>\n      <td>81.3%</td>\n      <td>41</td>\n      <td>62</td>\n      <td>2</td>\n      <td>9</td>\n      <td>0</td>\n      <td>9</td>\n      <td>9</td>\n      <td>16</td>\n    </tr>\n    <tr>\n      <th>1</th>\n      <td>Czech Republic</td>\n      <td>4</td>\n      <td>13</td>\n      <td>18</td>\n      <td>41.9%</td>\n      <td>12.9%</td>\n      <td>39</td>\n      <td>0</td>\n      <td>0</td>\n      <td>0</td>\n      <td>...</td>\n      <td>9</td>\n      <td>60.1%</td>\n      <td>53</td>\n      <td>73</td>\n      <td>8</td>\n      <td>7</td>\n      <td>0</td>\n      <td>11</td>\n      <td>11</td>\n      <td>19</td>\n    </tr>\n    <tr>\n      <th>2</th>\n      <td>Denmark</td>\n      <td>4</td>\n      <td>10</td>\n      <td>10</td>\n      <td>50.0%</td>\n      <td>20.0%</td>\n      <td>27</td>\n      <td>1</td>\n      <td>0</td>\n      <td>0</td>\n      <td>...</td>\n      <td>10</td>\n      <td>66.7%</td>\n      <td>25</td>\n      <td>38</td>\n      <td>8</td>\n      <td>4</td>\n      <td>0</td>\n      <td>7</td>\n      <td>7</td>\n      <td>15</td>\n    </tr>\n    <tr>\n      <th>3</th>\n      <td>England</td>\n      <td>5</td>\n      <td>11</td>\n      <td>18</td>\n      <td>50.0%</td>\n      <td>17.2%</td>\n      <td>40</td>\n      <td>0</td>\n      <td>0</td>\n      <td>0</td>\n      <td>...</td>\n      <td>22</td>\n      <td>88.1%</td>\n      <td>43</td>\n      <td>45</td>\n      <td>6</td>\n      <td>5</td>\n      <td>0</td>\n      <td>11</td>\n      <td>11</td>\n      <td>16</td>\n    </tr>\n    <tr>\n      <th>4</th>\n      <td>France</td>\n      <td>3</td>\n      <td>22</td>\n      <td>24</td>\n      <td>37.9%</td>\n      <td>6.5%</td>\n      <td>65</td>\n      <td>1</td>\n      <td>0</td>\n      <td>0</td>\n      <td>...</td>\n      <td>6</td>\n      <td>54.6%</td>\n      <td>36</td>\n      <td>51</td>\n      <td>5</td>\n      <td>6</td>\n      <td>0</td>\n      <td>11</td>\n      <td>11</td>\n      <td>19</td>\n    </tr>\n    <tr>\n      <th>5</th>\n      <td>Germany</td>\n      <td>10</td>\n      <td>32</td>\n      <td>32</td>\n      <td>47.8%</td>\n      <td>15.6%</td>\n      <td>80</td>\n      <td>2</td>\n      <td>1</td>\n      <td>0</td>\n      <td>...</td>\n      <td>10</td>\n      <td>62.6%</td>\n      <td>63</td>\n      <td>49</td>\n      <td>12</td>\n      <td>4</td>\n      <td>0</td>\n      <td>15</td>\n      <td>15</td>\n      <td>17</td>\n    </tr>\n    <tr>\n      <th>6</th>\n      <td>Greece</td>\n      <td>5</td>\n      <td>8</td>\n      <td>18</td>\n      <td>30.7%</td>\n      <td>19.2%</td>\n      <td>32</td>\n      <td>1</td>\n      <td>1</td>\n      <td>1</td>\n      <td>...</td>\n      <td>13</td>\n      <td>65.1%</td>\n      <td>67</td>\n      <td>48</td>\n      <td>12</td>\n      <td>9</td>\n      <td>1</td>\n      <td>12</td>\n      <td>12</td>\n      <td>20</td>\n    </tr>\n    <tr>\n      <th>7</th>\n      <td>Italy</td>\n      <td>6</td>\n      <td>34</td>\n      <td>45</td>\n      <td>43.0%</td>\n      <td>7.5%</td>\n      <td>110</td>\n      <td>2</td>\n      <td>0</td>\n      <td>0</td>\n      <td>...</td>\n      <td>20</td>\n      <td>74.1%</td>\n      <td>101</td>\n      <td>89</td>\n      <td>16</td>\n      <td>16</td>\n      <td>0</td>\n      <td>18</td>\n      <td>18</td>\n      <td>19</td>\n    </tr>\n    <tr>\n      <th>8</th>\n      <td>Netherlands</td>\n      <td>2</td>\n      <td>12</td>\n      <td>36</td>\n      <td>25.0%</td>\n      <td>4.1%</td>\n      <td>60</td>\n      <td>2</td>\n      <td>0</td>\n      <td>0</td>\n      <td>...</td>\n      <td>12</td>\n      <td>70.6%</td>\n      <td>35</td>\n      <td>30</td>\n      <td>3</td>\n      <td>5</td>\n      <td>0</td>\n      <td>7</td>\n      <td>7</td>\n      <td>15</td>\n    </tr>\n    <tr>\n      <th>9</th>\n      <td>Poland</td>\n      <td>2</td>\n      <td>15</td>\n      <td>23</td>\n      <td>39.4%</td>\n      <td>5.2%</td>\n      <td>48</td>\n      <td>0</td>\n      <td>0</td>\n      <td>0</td>\n      <td>...</td>\n      <td>6</td>\n      <td>66.7%</td>\n      <td>48</td>\n      <td>56</td>\n      <td>3</td>\n      <td>7</td>\n      <td>1</td>\n      <td>7</td>\n      <td>7</td>\n      <td>17</td>\n    </tr>\n    <tr>\n      <th>10</th>\n      <td>Portugal</td>\n      <td>6</td>\n      <td>22</td>\n      <td>42</td>\n      <td>34.3%</td>\n      <td>9.3%</td>\n      <td>82</td>\n      <td>6</td>\n      <td>0</td>\n      <td>0</td>\n      <td>...</td>\n      <td>10</td>\n      <td>71.5%</td>\n      <td>73</td>\n      <td>90</td>\n      <td>10</td>\n      <td>12</td>\n      <td>0</td>\n      <td>14</td>\n      <td>14</td>\n      <td>16</td>\n    </tr>\n    <tr>\n      <th>11</th>\n      <td>Republic of Ireland</td>\n      <td>1</td>\n      <td>7</td>\n      <td>12</td>\n      <td>36.8%</td>\n      <td>5.2%</td>\n      <td>28</td>\n      <td>0</td>\n      <td>0</td>\n      <td>0</td>\n      <td>...</td>\n      <td>17</td>\n      <td>65.4%</td>\n      <td>43</td>\n      <td>51</td>\n      <td>11</td>\n      <td>6</td>\n      <td>1</td>\n      <td>10</td>\n      <td>10</td>\n      <td>17</td>\n    </tr>\n    <tr>\n      <th>12</th>\n      <td>Russia</td>\n      <td>5</td>\n      <td>9</td>\n      <td>31</td>\n      <td>22.5%</td>\n      <td>12.5%</td>\n      <td>59</td>\n      <td>2</td>\n      <td>0</td>\n      <td>0</td>\n      <td>...</td>\n      <td>10</td>\n      <td>77.0%</td>\n      <td>34</td>\n      <td>43</td>\n      <td>4</td>\n      <td>6</td>\n      <td>0</td>\n      <td>7</td>\n      <td>7</td>\n      <td>16</td>\n    </tr>\n    <tr>\n      <th>13</th>\n      <td>Spain</td>\n      <td>12</td>\n      <td>42</td>\n      <td>33</td>\n      <td>55.9%</td>\n      <td>16.0%</td>\n      <td>100</td>\n      <td>0</td>\n      <td>1</td>\n      <td>0</td>\n      <td>...</td>\n      <td>15</td>\n      <td>93.8%</td>\n      <td>102</td>\n      <td>83</td>\n      <td>19</td>\n      <td>11</td>\n      <td>0</td>\n      <td>17</td>\n      <td>17</td>\n      <td>18</td>\n    </tr>\n    <tr>\n      <th>14</th>\n      <td>Sweden</td>\n      <td>5</td>\n      <td>17</td>\n      <td>19</td>\n      <td>47.2%</td>\n      <td>13.8%</td>\n      <td>39</td>\n      <td>3</td>\n      <td>0</td>\n      <td>0</td>\n      <td>...</td>\n      <td>8</td>\n      <td>61.6%</td>\n      <td>35</td>\n      <td>51</td>\n      <td>7</td>\n      <td>7</td>\n      <td>0</td>\n      <td>9</td>\n      <td>9</td>\n      <td>18</td>\n    </tr>\n    <tr>\n      <th>15</th>\n      <td>Ukraine</td>\n      <td>2</td>\n      <td>7</td>\n      <td>26</td>\n      <td>21.2%</td>\n      <td>6.0%</td>\n      <td>38</td>\n      <td>0</td>\n      <td>0</td>\n      <td>0</td>\n      <td>...</td>\n      <td>13</td>\n      <td>76.5%</td>\n      <td>48</td>\n      <td>31</td>\n      <td>4</td>\n      <td>5</td>\n      <td>0</td>\n      <td>9</td>\n      <td>9</td>\n      <td>18</td>\n    </tr>\n  </tbody>\n</table>\n<p>16 rows × 35 columns</p>\n</div>"
     },
     "metadata": {},
     "execution_count": 20
    }
   ],
   "source": [
    "import pandas as pd\n",
    "df = pd.read_csv(\"../data/Euro_2012_stats_TEAM.csv\")\n",
    "\n",
    "df"
   ]
  },
  {
   "cell_type": "code",
   "execution_count": 34,
   "metadata": {},
   "outputs": [
    {
     "output_type": "execute_result",
     "data": {
      "text/plain": [
       "Index(['Team', 'Goals', 'Shots on target', 'Shots off target',\n",
       "       'Shooting Accuracy', '% Goals-to-shots', 'Total shots (inc. Blocked)',\n",
       "       'Hit Woodwork', 'Penalty goals', 'Penalties not scored', 'Headed goals',\n",
       "       'Passes', 'Passes completed', 'Passing Accuracy', 'Touches', 'Crosses',\n",
       "       'Dribbles', 'Corners Taken', 'Tackles', 'Clearances', 'Interceptions',\n",
       "       'Clearances off line', 'Clean Sheets', 'Blocks', 'Goals conceded',\n",
       "       'Saves made', 'Saves-to-shots ratio', 'Fouls Won', 'Fouls Conceded',\n",
       "       'Offsides', 'Yellow Cards', 'Red Cards', 'Subs on', 'Subs off',\n",
       "       'Players Used'],\n",
       "      dtype='object')"
      ]
     },
     "metadata": {},
     "execution_count": 34
    }
   ],
   "source": [
    "df.columns"
   ]
  },
  {
   "source": [
    "# 1"
   ],
   "cell_type": "markdown",
   "metadata": {}
  },
  {
   "source": [
    "### Miramos el tipo de variable de cada columna"
   ],
   "cell_type": "markdown",
   "metadata": {}
  },
  {
   "cell_type": "code",
   "execution_count": 35,
   "metadata": {},
   "outputs": [
    {
     "output_type": "execute_result",
     "data": {
      "text/plain": [
       "Team                           object\n",
       "Goals                           int64\n",
       "Shots on target                 int64\n",
       "Shots off target                int64\n",
       "Shooting Accuracy              object\n",
       "% Goals-to-shots               object\n",
       "Total shots (inc. Blocked)      int64\n",
       "Hit Woodwork                    int64\n",
       "Penalty goals                   int64\n",
       "Penalties not scored            int64\n",
       "Headed goals                    int64\n",
       "Passes                          int64\n",
       "Passes completed                int64\n",
       "Passing Accuracy               object\n",
       "Touches                         int64\n",
       "Crosses                         int64\n",
       "Dribbles                        int64\n",
       "Corners Taken                   int64\n",
       "Tackles                         int64\n",
       "Clearances                      int64\n",
       "Interceptions                   int64\n",
       "Clearances off line           float64\n",
       "Clean Sheets                    int64\n",
       "Blocks                          int64\n",
       "Goals conceded                  int64\n",
       "Saves made                      int64\n",
       "Saves-to-shots ratio           object\n",
       "Fouls Won                       int64\n",
       "Fouls Conceded                  int64\n",
       "Offsides                        int64\n",
       "Yellow Cards                    int64\n",
       "Red Cards                       int64\n",
       "Subs on                         int64\n",
       "Subs off                        int64\n",
       "Players Used                    int64\n",
       "dtype: object"
      ]
     },
     "metadata": {},
     "execution_count": 35
    }
   ],
   "source": [
    "df.dtypes"
   ]
  },
  {
   "source": [
    "### Pasamos las variables tipo object (son las que tienen el símbolo de %) a float. Excepto la de Team que es realmente string"
   ],
   "cell_type": "markdown",
   "metadata": {}
  },
  {
   "cell_type": "code",
   "execution_count": 21,
   "metadata": {},
   "outputs": [],
   "source": [
    "df[\"Shooting Accuracy\"] = df[\"Shooting Accuracy\"].str.rstrip('%').astype('float')"
   ]
  },
  {
   "cell_type": "code",
   "execution_count": 22,
   "metadata": {},
   "outputs": [],
   "source": [
    "df[\"% Goals-to-shots\"] = df[\"% Goals-to-shots\"].str.rstrip('%').astype('float')"
   ]
  },
  {
   "cell_type": "code",
   "execution_count": 23,
   "metadata": {},
   "outputs": [],
   "source": [
    "df[\"Passing Accuracy\"] = df[\"Passing Accuracy\"].str.rstrip('%').astype('float')"
   ]
  },
  {
   "cell_type": "code",
   "execution_count": 24,
   "metadata": {},
   "outputs": [],
   "source": [
    "df[\"Saves-to-shots ratio\"] = df[\"Saves-to-shots ratio\"].str.rstrip('%').astype('float')"
   ]
  },
  {
   "cell_type": "code",
   "execution_count": 216,
   "metadata": {},
   "outputs": [
    {
     "output_type": "execute_result",
     "data": {
      "text/plain": [
       "Team                           object\n",
       "Goals                           int64\n",
       "Shots on target                 int64\n",
       "Shots off target                int64\n",
       "Shooting Accuracy             float64\n",
       "% Goals-to-shots              float64\n",
       "Total shots (inc. Blocked)      int64\n",
       "Hit Woodwork                    int64\n",
       "Penalty goals                   int64\n",
       "Penalties not scored            int64\n",
       "Headed goals                    int64\n",
       "Passes                          int64\n",
       "Passes completed                int64\n",
       "Passing Accuracy              float64\n",
       "Touches                         int64\n",
       "Crosses                         int64\n",
       "Dribbles                        int64\n",
       "Corners Taken                   int64\n",
       "Tackles                         int64\n",
       "Clearances                      int64\n",
       "Interceptions                   int64\n",
       "Clearances off line           float64\n",
       "Clean Sheets                    int64\n",
       "Blocks                          int64\n",
       "Goals conceded                  int64\n",
       "Saves made                      int64\n",
       "Saves-to-shots ratio          float64\n",
       "Fouls Won                       int64\n",
       "Fouls Conceded                  int64\n",
       "Offsides                        int64\n",
       "Yellow Cards                    int64\n",
       "Red Cards                       int64\n",
       "Subs on                         int64\n",
       "Subs off                        int64\n",
       "Players Used                    int64\n",
       "dtype: object"
      ]
     },
     "metadata": {},
     "execution_count": 216
    }
   ],
   "source": [
    "df.dtypes"
   ]
  },
  {
   "source": [
    "### Matriz de correlación"
   ],
   "cell_type": "markdown",
   "metadata": {}
  },
  {
   "cell_type": "code",
   "execution_count": 42,
   "metadata": {},
   "outputs": [
    {
     "output_type": "execute_result",
     "data": {
      "text/plain": [
       "                               Goals  Shots on target  Shots off target  \\\n",
       "Goals                       1.000000         0.804193          0.403821   \n",
       "Shots on target             0.804193         1.000000          0.611185   \n",
       "Shots off target            0.403821         0.611185          1.000000   \n",
       "Shooting Accuracy           0.521210         0.504487         -0.269946   \n",
       "% Goals-to-shots            0.533239         0.049623         -0.389095   \n",
       "Total shots (inc. Blocked)  0.650109         0.886090          0.887032   \n",
       "Hit Woodwork                0.200512         0.212932          0.581655   \n",
       "Penalty goals               0.730437         0.478610          0.126783   \n",
       "Penalties not scored        0.023094        -0.229945         -0.173221   \n",
       "Headed goals                0.349330         0.210571          0.002284   \n",
       "Passes                      0.838497         0.930337          0.624451   \n",
       "Passes completed            0.830062         0.923242          0.612998   \n",
       "Passing Accuracy            0.438994         0.542955          0.501697   \n",
       "Touches                     0.837760         0.934623          0.649127   \n",
       "Crosses                     0.667097         0.727451          0.563719   \n",
       "Dribbles                    0.693998         0.787066          0.510942   \n",
       "Corners Taken               0.697240         0.803347          0.749154   \n",
       "Tackles                     0.796830         0.811582          0.531234   \n",
       "Clearances                  0.255700         0.262694          0.212638   \n",
       "Interceptions               0.482441         0.587278          0.531190   \n",
       "Clearances off line        -0.155292        -0.095605         -0.199107   \n",
       "Clean Sheets                0.792559         0.756715          0.348872   \n",
       "Blocks                     -0.029128        -0.172650         -0.230736   \n",
       "Goals conceded             -0.337689        -0.214415         -0.139274   \n",
       "Saves made                  0.143912         0.085059          0.086157   \n",
       "Saves-to-shots ratio        0.394424         0.218915          0.187128   \n",
       "Fouls Won                   0.663876         0.765949          0.615058   \n",
       "Fouls Conceded              0.483833         0.658353          0.434815   \n",
       "Offsides                    0.703043         0.696263          0.344626   \n",
       "Yellow Cards                0.337709         0.544307          0.534186   \n",
       "Red Cards                  -0.358057        -0.334050         -0.337766   \n",
       "Subs on                     0.727830         0.821342          0.544974   \n",
       "Subs off                    0.727830         0.821342          0.544974   \n",
       "Players Used                0.136067         0.249516          0.045973   \n",
       "\n",
       "                            Shooting Accuracy  % Goals-to-shots  \\\n",
       "Goals                                0.521210          0.533239   \n",
       "Shots on target                      0.504487          0.049623   \n",
       "Shots off target                    -0.269946         -0.389095   \n",
       "Shooting Accuracy                    1.000000          0.548827   \n",
       "% Goals-to-shots                     0.548827          1.000000   \n",
       "Total shots (inc. Blocked)           0.125994         -0.195113   \n",
       "Hit Woodwork                        -0.198917         -0.087481   \n",
       "Penalty goals                        0.234263          0.480954   \n",
       "Penalties not scored                -0.223483          0.370202   \n",
       "Headed goals                         0.485392          0.384424   \n",
       "Passes                               0.373281          0.114488   \n",
       "Passes completed                     0.366138          0.108647   \n",
       "Passing Accuracy                     0.055535         -0.019157   \n",
       "Touches                              0.378113          0.118126   \n",
       "Crosses                              0.378244          0.119804   \n",
       "Dribbles                             0.368239          0.159298   \n",
       "Corners Taken                        0.154993         -0.043951   \n",
       "Tackles                              0.370089          0.170285   \n",
       "Clearances                           0.090689          0.135691   \n",
       "Interceptions                        0.261578          0.166016   \n",
       "Clearances off line                  0.207781         -0.027486   \n",
       "Clean Sheets                         0.549557          0.356507   \n",
       "Blocks                               0.194694          0.266923   \n",
       "Goals conceded                      -0.198428         -0.196602   \n",
       "Saves made                           0.179562          0.121014   \n",
       "Saves-to-shots ratio                 0.220664          0.238564   \n",
       "Fouls Won                            0.235577          0.034561   \n",
       "Fouls Conceded                       0.406282          0.014626   \n",
       "Offsides                             0.382686          0.255441   \n",
       "Yellow Cards                         0.163668         -0.071731   \n",
       "Red Cards                           -0.188352         -0.166940   \n",
       "Subs on                              0.377589          0.130146   \n",
       "Subs off                             0.377589          0.130146   \n",
       "Players Used                        -0.022610         -0.022179   \n",
       "\n",
       "                            Total shots (inc. Blocked)  Hit Woodwork  \\\n",
       "Goals                                         0.650109      0.200512   \n",
       "Shots on target                               0.886090      0.212932   \n",
       "Shots off target                              0.887032      0.581655   \n",
       "Shooting Accuracy                             0.125994     -0.198917   \n",
       "% Goals-to-shots                             -0.195113     -0.087481   \n",
       "Total shots (inc. Blocked)                    1.000000      0.400121   \n",
       "Hit Woodwork                                  0.400121      1.000000   \n",
       "Penalty goals                                 0.299397     -0.076923   \n",
       "Penalties not scored                         -0.234668     -0.041345   \n",
       "Headed goals                                  0.125738      0.020174   \n",
       "Passes                                        0.875698      0.095882   \n",
       "Passes completed                              0.864279      0.073814   \n",
       "Passing Accuracy                              0.572448      0.065266   \n",
       "Touches                                       0.894708      0.129331   \n",
       "Crosses                                       0.691374      0.480272   \n",
       "Dribbles                                      0.744255      0.061463   \n",
       "Corners Taken                                 0.864856      0.389104   \n",
       "Tackles                                       0.757590      0.037136   \n",
       "Clearances                                    0.306509     -0.173871   \n",
       "Interceptions                                 0.669220      0.307694   \n",
       "Clearances off line                          -0.116198     -0.330719   \n",
       "Clean Sheets                                  0.619025      0.088181   \n",
       "Blocks                                       -0.180443     -0.102803   \n",
       "Goals conceded                               -0.184740      0.062541   \n",
       "Saves made                                    0.148269     -0.230524   \n",
       "Saves-to-shots ratio                          0.252407     -0.200695   \n",
       "Fouls Won                                     0.766215      0.141180   \n",
       "Fouls Conceded                                0.623288      0.303987   \n",
       "Offsides                                      0.589635      0.113657   \n",
       "Yellow Cards                                  0.622268      0.319708   \n",
       "Red Cards                                    -0.360466     -0.282051   \n",
       "Subs on                                       0.763336      0.204511   \n",
       "Subs off                                      0.763336      0.204511   \n",
       "Players Used                                  0.157812     -0.189466   \n",
       "\n",
       "                            Penalty goals  Penalties not scored  Headed goals  \\\n",
       "Goals                            0.730437              0.023094      0.349330   \n",
       "Shots on target                  0.478610             -0.229945      0.210571   \n",
       "Shots off target                 0.126783             -0.173221      0.002284   \n",
       "Shooting Accuracy                0.234263             -0.223483      0.485392   \n",
       "% Goals-to-shots                 0.480954              0.370202      0.384424   \n",
       "Total shots (inc. Blocked)       0.299397             -0.234668      0.125738   \n",
       "Hit Woodwork                    -0.076923             -0.041345      0.020174   \n",
       "Penalty goals                    1.000000              0.537484     -0.020174   \n",
       "Penalties not scored             0.537484              1.000000     -0.357830   \n",
       "Headed goals                    -0.020174             -0.357830      1.000000   \n",
       "Passes                           0.545294             -0.169613      0.213073   \n",
       "Passes completed                 0.550720             -0.179278      0.200605   \n",
       "Passing Accuracy                 0.252881             -0.268342      0.035170   \n",
       "Touches                          0.534153             -0.133834      0.230278   \n",
       "Crosses                          0.448069             -0.074308      0.296622   \n",
       "Dribbles                         0.452092              0.008075     -0.008239   \n",
       "Corners Taken                    0.357828             -0.274399      0.206268   \n",
       "Tackles                          0.528052             -0.039433      0.321400   \n",
       "Clearances                       0.261227              0.396836      0.163236   \n",
       "Interceptions                    0.284426              0.242572      0.284387   \n",
       "Clearances off line             -0.279508             -0.149404     -0.073721   \n",
       "Clean Sheets                     0.489003             -0.012926      0.334287   \n",
       "Blocks                           0.102803              0.401200      0.146531   \n",
       "Goals conceded                  -0.020847              0.302532     -0.344447   \n",
       "Saves made                       0.058761              0.051019      0.458773   \n",
       "Saves-to-shots ratio             0.135145             -0.149787      0.578573   \n",
       "Fouls Won                        0.528185              0.163643      0.157215   \n",
       "Fouls Conceded                   0.114404             -0.107169      0.117445   \n",
       "Offsides                         0.627220              0.210417      0.188786   \n",
       "Yellow Cards                     0.085467              0.127603      0.067245   \n",
       "Red Cards                        0.179487              0.537484     -0.342962   \n",
       "Subs on                          0.531727              0.084796      0.216077   \n",
       "Subs off                         0.531727              0.084796      0.216077   \n",
       "Players Used                     0.351866              0.480079     -0.447214   \n",
       "\n",
       "                            ...  Saves made  Saves-to-shots ratio  Fouls Won  \\\n",
       "Goals                       ...    0.143912              0.394424   0.663876   \n",
       "Shots on target             ...    0.085059              0.218915   0.765949   \n",
       "Shots off target            ...    0.086157              0.187128   0.615058   \n",
       "Shooting Accuracy           ...    0.179562              0.220664   0.235577   \n",
       "% Goals-to-shots            ...    0.121014              0.238564   0.034561   \n",
       "Total shots (inc. Blocked)  ...    0.148269              0.252407   0.766215   \n",
       "Hit Woodwork                ...   -0.230524             -0.200695   0.141180   \n",
       "Penalty goals               ...    0.058761              0.135145   0.528185   \n",
       "Penalties not scored        ...    0.051019             -0.149787   0.163643   \n",
       "Headed goals                ...    0.458773              0.578573   0.157215   \n",
       "Passes                      ...    0.207240              0.382485   0.773382   \n",
       "Passes completed            ...    0.184878              0.376782   0.738845   \n",
       "Passing Accuracy            ...   -0.167845              0.123013   0.129507   \n",
       "Touches                     ...    0.257793              0.387345   0.821173   \n",
       "Crosses                     ...    0.085055              0.083883   0.599338   \n",
       "Dribbles                    ...    0.142779              0.290548   0.705718   \n",
       "Corners Taken               ...    0.002432              0.269986   0.651030   \n",
       "Tackles                     ...    0.313748              0.454030   0.814550   \n",
       "Clearances                  ...    0.529647              0.314722   0.718739   \n",
       "Interceptions               ...    0.424241              0.235373   0.736808   \n",
       "Clearances off line         ...    0.407966             -0.040579   0.119882   \n",
       "Clean Sheets                ...    0.326440              0.495882   0.728923   \n",
       "Blocks                      ...    0.707827              0.130205   0.122265   \n",
       "Goals conceded              ...    0.121274             -0.650997  -0.037039   \n",
       "Saves made                  ...    1.000000              0.630714   0.391921   \n",
       "Saves-to-shots ratio        ...    0.630714              1.000000   0.368536   \n",
       "Fouls Won                   ...    0.391921              0.368536   1.000000   \n",
       "Fouls Conceded              ...    0.146550              0.187420   0.768445   \n",
       "Offsides                    ...    0.397007              0.185065   0.830030   \n",
       "Yellow Cards                ...    0.313044              0.273439   0.800450   \n",
       "Red Cards                   ...   -0.013560             -0.248672  -0.005864   \n",
       "Subs on                     ...    0.413050              0.225435   0.907719   \n",
       "Subs off                    ...    0.413050              0.225435   0.907719   \n",
       "Players Used                ...   -0.023857             -0.298553   0.463276   \n",
       "\n",
       "                            Fouls Conceded  Offsides  Yellow Cards  \\\n",
       "Goals                             0.483833  0.703043      0.337709   \n",
       "Shots on target                   0.658353  0.696263      0.544307   \n",
       "Shots off target                  0.434815  0.344626      0.534186   \n",
       "Shooting Accuracy                 0.406282  0.382686      0.163668   \n",
       "% Goals-to-shots                  0.014626  0.255441     -0.071731   \n",
       "Total shots (inc. Blocked)        0.623288  0.589635      0.622268   \n",
       "Hit Woodwork                      0.303987  0.113657      0.319708   \n",
       "Penalty goals                     0.114404  0.627220      0.085467   \n",
       "Penalties not scored             -0.107169  0.210417      0.127603   \n",
       "Headed goals                      0.117445  0.188786      0.067245   \n",
       "Passes                            0.549248  0.731938      0.465799   \n",
       "Passes completed                  0.499351  0.704802      0.420410   \n",
       "Passing Accuracy                 -0.134093  0.087338     -0.108164   \n",
       "Touches                           0.608055  0.758892      0.532544   \n",
       "Crosses                           0.571356  0.485388      0.414210   \n",
       "Dribbles                          0.633913  0.575453      0.506126   \n",
       "Corners Taken                     0.576427  0.512095      0.410743   \n",
       "Tackles                           0.600603  0.680592      0.505745   \n",
       "Clearances                        0.547268  0.513667      0.655658   \n",
       "Interceptions                     0.625049  0.628501      0.779763   \n",
       "Clearances off line               0.325407  0.152892      0.149593   \n",
       "Clean Sheets                      0.619626  0.767269      0.499770   \n",
       "Blocks                            0.041215  0.293275      0.123786   \n",
       "Goals conceded                   -0.075297  0.222461     -0.002574   \n",
       "Saves made                        0.146550  0.397007      0.313044   \n",
       "Saves-to-shots ratio              0.187420  0.185065      0.273439   \n",
       "Fouls Won                         0.768445  0.830030      0.800450   \n",
       "Fouls Conceded                    1.000000  0.602987      0.856143   \n",
       "Offsides                          0.602987  1.000000      0.561767   \n",
       "Yellow Cards                      0.856143  0.561767      1.000000   \n",
       "Red Cards                        -0.103508  0.054724     -0.015827   \n",
       "Subs on                           0.734200  0.856638      0.680231   \n",
       "Subs off                          0.734200  0.856638      0.680231   \n",
       "Players Used                      0.313987  0.422139      0.377580   \n",
       "\n",
       "                               Red Cards   Subs on  Subs off  Players Used  \n",
       "Goals                      -3.580574e-01  0.727830  0.727830      0.136067  \n",
       "Shots on target            -3.340500e-01  0.821342  0.821342      0.249516  \n",
       "Shots off target           -3.377661e-01  0.544974  0.544974      0.045973  \n",
       "Shooting Accuracy          -1.883518e-01  0.377589  0.377589     -0.022610  \n",
       "% Goals-to-shots           -1.669397e-01  0.130146  0.130146     -0.022179  \n",
       "Total shots (inc. Blocked) -3.604662e-01  0.763336  0.763336      0.157812  \n",
       "Hit Woodwork               -2.820513e-01  0.204511  0.204511     -0.189466  \n",
       "Penalty goals               1.794872e-01  0.531727  0.531727      0.351866  \n",
       "Penalties not scored        5.374838e-01  0.084796  0.084796      0.480079  \n",
       "Headed goals               -3.429623e-01  0.216077  0.216077     -0.447214  \n",
       "Passes                     -4.002506e-01  0.800546  0.800546      0.232214  \n",
       "Passes completed           -4.062897e-01  0.766326  0.766326      0.213345  \n",
       "Passing Accuracy           -5.596957e-01  0.166474  0.166474     -0.086174  \n",
       "Touches                    -3.779538e-01  0.852144  0.852144      0.265333  \n",
       "Crosses                    -1.915536e-01  0.722090  0.722090     -0.022858  \n",
       "Dribbles                   -3.419145e-01  0.745862  0.745862      0.347467  \n",
       "Corners Taken              -4.810903e-01  0.691124  0.691124      0.010681  \n",
       "Tackles                    -2.037936e-01  0.832844  0.832844      0.383399  \n",
       "Clearances                  1.940302e-01  0.640657  0.640657      0.602040  \n",
       "Interceptions               8.424464e-03  0.724859  0.724859      0.253658  \n",
       "Clearances off line         2.715272e-17  0.191533  0.191533      0.250000  \n",
       "Clean Sheets               -2.805752e-01  0.747166  0.747166      0.228477  \n",
       "Blocks                      3.888646e-01  0.228500  0.228500      0.105373  \n",
       "Goals conceded              3.960913e-01  0.099764  0.099764      0.330089  \n",
       "Saves made                 -1.356023e-02  0.413050  0.413050     -0.023857  \n",
       "Saves-to-shots ratio       -2.486717e-01  0.225435  0.225435     -0.298553  \n",
       "Fouls Won                  -5.863708e-03  0.907719  0.907719      0.463276  \n",
       "Fouls Conceded             -1.035081e-01  0.734200  0.734200      0.313987  \n",
       "Offsides                    5.472387e-02  0.856638  0.856638      0.422139  \n",
       "Yellow Cards               -1.582714e-02  0.680231  0.680231      0.377580  \n",
       "Red Cards                   1.000000e+00 -0.169452 -0.169452      0.243599  \n",
       "Subs on                    -1.694516e-01  1.000000  1.000000      0.474938  \n",
       "Subs off                   -1.694516e-01  1.000000  1.000000      0.474938  \n",
       "Players Used                2.435994e-01  0.474938  0.474938      1.000000  \n",
       "\n",
       "[34 rows x 34 columns]"
      ],
      "text/html": "<div>\n<style scoped>\n    .dataframe tbody tr th:only-of-type {\n        vertical-align: middle;\n    }\n\n    .dataframe tbody tr th {\n        vertical-align: top;\n    }\n\n    .dataframe thead th {\n        text-align: right;\n    }\n</style>\n<table border=\"1\" class=\"dataframe\">\n  <thead>\n    <tr style=\"text-align: right;\">\n      <th></th>\n      <th>Goals</th>\n      <th>Shots on target</th>\n      <th>Shots off target</th>\n      <th>Shooting Accuracy</th>\n      <th>% Goals-to-shots</th>\n      <th>Total shots (inc. Blocked)</th>\n      <th>Hit Woodwork</th>\n      <th>Penalty goals</th>\n      <th>Penalties not scored</th>\n      <th>Headed goals</th>\n      <th>...</th>\n      <th>Saves made</th>\n      <th>Saves-to-shots ratio</th>\n      <th>Fouls Won</th>\n      <th>Fouls Conceded</th>\n      <th>Offsides</th>\n      <th>Yellow Cards</th>\n      <th>Red Cards</th>\n      <th>Subs on</th>\n      <th>Subs off</th>\n      <th>Players Used</th>\n    </tr>\n  </thead>\n  <tbody>\n    <tr>\n      <th>Goals</th>\n      <td>1.000000</td>\n      <td>0.804193</td>\n      <td>0.403821</td>\n      <td>0.521210</td>\n      <td>0.533239</td>\n      <td>0.650109</td>\n      <td>0.200512</td>\n      <td>0.730437</td>\n      <td>0.023094</td>\n      <td>0.349330</td>\n      <td>...</td>\n      <td>0.143912</td>\n      <td>0.394424</td>\n      <td>0.663876</td>\n      <td>0.483833</td>\n      <td>0.703043</td>\n      <td>0.337709</td>\n      <td>-3.580574e-01</td>\n      <td>0.727830</td>\n      <td>0.727830</td>\n      <td>0.136067</td>\n    </tr>\n    <tr>\n      <th>Shots on target</th>\n      <td>0.804193</td>\n      <td>1.000000</td>\n      <td>0.611185</td>\n      <td>0.504487</td>\n      <td>0.049623</td>\n      <td>0.886090</td>\n      <td>0.212932</td>\n      <td>0.478610</td>\n      <td>-0.229945</td>\n      <td>0.210571</td>\n      <td>...</td>\n      <td>0.085059</td>\n      <td>0.218915</td>\n      <td>0.765949</td>\n      <td>0.658353</td>\n      <td>0.696263</td>\n      <td>0.544307</td>\n      <td>-3.340500e-01</td>\n      <td>0.821342</td>\n      <td>0.821342</td>\n      <td>0.249516</td>\n    </tr>\n    <tr>\n      <th>Shots off target</th>\n      <td>0.403821</td>\n      <td>0.611185</td>\n      <td>1.000000</td>\n      <td>-0.269946</td>\n      <td>-0.389095</td>\n      <td>0.887032</td>\n      <td>0.581655</td>\n      <td>0.126783</td>\n      <td>-0.173221</td>\n      <td>0.002284</td>\n      <td>...</td>\n      <td>0.086157</td>\n      <td>0.187128</td>\n      <td>0.615058</td>\n      <td>0.434815</td>\n      <td>0.344626</td>\n      <td>0.534186</td>\n      <td>-3.377661e-01</td>\n      <td>0.544974</td>\n      <td>0.544974</td>\n      <td>0.045973</td>\n    </tr>\n    <tr>\n      <th>Shooting Accuracy</th>\n      <td>0.521210</td>\n      <td>0.504487</td>\n      <td>-0.269946</td>\n      <td>1.000000</td>\n      <td>0.548827</td>\n      <td>0.125994</td>\n      <td>-0.198917</td>\n      <td>0.234263</td>\n      <td>-0.223483</td>\n      <td>0.485392</td>\n      <td>...</td>\n      <td>0.179562</td>\n      <td>0.220664</td>\n      <td>0.235577</td>\n      <td>0.406282</td>\n      <td>0.382686</td>\n      <td>0.163668</td>\n      <td>-1.883518e-01</td>\n      <td>0.377589</td>\n      <td>0.377589</td>\n      <td>-0.022610</td>\n    </tr>\n    <tr>\n      <th>% Goals-to-shots</th>\n      <td>0.533239</td>\n      <td>0.049623</td>\n      <td>-0.389095</td>\n      <td>0.548827</td>\n      <td>1.000000</td>\n      <td>-0.195113</td>\n      <td>-0.087481</td>\n      <td>0.480954</td>\n      <td>0.370202</td>\n      <td>0.384424</td>\n      <td>...</td>\n      <td>0.121014</td>\n      <td>0.238564</td>\n      <td>0.034561</td>\n      <td>0.014626</td>\n      <td>0.255441</td>\n      <td>-0.071731</td>\n      <td>-1.669397e-01</td>\n      <td>0.130146</td>\n      <td>0.130146</td>\n      <td>-0.022179</td>\n    </tr>\n    <tr>\n      <th>Total shots (inc. Blocked)</th>\n      <td>0.650109</td>\n      <td>0.886090</td>\n      <td>0.887032</td>\n      <td>0.125994</td>\n      <td>-0.195113</td>\n      <td>1.000000</td>\n      <td>0.400121</td>\n      <td>0.299397</td>\n      <td>-0.234668</td>\n      <td>0.125738</td>\n      <td>...</td>\n      <td>0.148269</td>\n      <td>0.252407</td>\n      <td>0.766215</td>\n      <td>0.623288</td>\n      <td>0.589635</td>\n      <td>0.622268</td>\n      <td>-3.604662e-01</td>\n      <td>0.763336</td>\n      <td>0.763336</td>\n      <td>0.157812</td>\n    </tr>\n    <tr>\n      <th>Hit Woodwork</th>\n      <td>0.200512</td>\n      <td>0.212932</td>\n      <td>0.581655</td>\n      <td>-0.198917</td>\n      <td>-0.087481</td>\n      <td>0.400121</td>\n      <td>1.000000</td>\n      <td>-0.076923</td>\n      <td>-0.041345</td>\n      <td>0.020174</td>\n      <td>...</td>\n      <td>-0.230524</td>\n      <td>-0.200695</td>\n      <td>0.141180</td>\n      <td>0.303987</td>\n      <td>0.113657</td>\n      <td>0.319708</td>\n      <td>-2.820513e-01</td>\n      <td>0.204511</td>\n      <td>0.204511</td>\n      <td>-0.189466</td>\n    </tr>\n    <tr>\n      <th>Penalty goals</th>\n      <td>0.730437</td>\n      <td>0.478610</td>\n      <td>0.126783</td>\n      <td>0.234263</td>\n      <td>0.480954</td>\n      <td>0.299397</td>\n      <td>-0.076923</td>\n      <td>1.000000</td>\n      <td>0.537484</td>\n      <td>-0.020174</td>\n      <td>...</td>\n      <td>0.058761</td>\n      <td>0.135145</td>\n      <td>0.528185</td>\n      <td>0.114404</td>\n      <td>0.627220</td>\n      <td>0.085467</td>\n      <td>1.794872e-01</td>\n      <td>0.531727</td>\n      <td>0.531727</td>\n      <td>0.351866</td>\n    </tr>\n    <tr>\n      <th>Penalties not scored</th>\n      <td>0.023094</td>\n      <td>-0.229945</td>\n      <td>-0.173221</td>\n      <td>-0.223483</td>\n      <td>0.370202</td>\n      <td>-0.234668</td>\n      <td>-0.041345</td>\n      <td>0.537484</td>\n      <td>1.000000</td>\n      <td>-0.357830</td>\n      <td>...</td>\n      <td>0.051019</td>\n      <td>-0.149787</td>\n      <td>0.163643</td>\n      <td>-0.107169</td>\n      <td>0.210417</td>\n      <td>0.127603</td>\n      <td>5.374838e-01</td>\n      <td>0.084796</td>\n      <td>0.084796</td>\n      <td>0.480079</td>\n    </tr>\n    <tr>\n      <th>Headed goals</th>\n      <td>0.349330</td>\n      <td>0.210571</td>\n      <td>0.002284</td>\n      <td>0.485392</td>\n      <td>0.384424</td>\n      <td>0.125738</td>\n      <td>0.020174</td>\n      <td>-0.020174</td>\n      <td>-0.357830</td>\n      <td>1.000000</td>\n      <td>...</td>\n      <td>0.458773</td>\n      <td>0.578573</td>\n      <td>0.157215</td>\n      <td>0.117445</td>\n      <td>0.188786</td>\n      <td>0.067245</td>\n      <td>-3.429623e-01</td>\n      <td>0.216077</td>\n      <td>0.216077</td>\n      <td>-0.447214</td>\n    </tr>\n    <tr>\n      <th>Passes</th>\n      <td>0.838497</td>\n      <td>0.930337</td>\n      <td>0.624451</td>\n      <td>0.373281</td>\n      <td>0.114488</td>\n      <td>0.875698</td>\n      <td>0.095882</td>\n      <td>0.545294</td>\n      <td>-0.169613</td>\n      <td>0.213073</td>\n      <td>...</td>\n      <td>0.207240</td>\n      <td>0.382485</td>\n      <td>0.773382</td>\n      <td>0.549248</td>\n      <td>0.731938</td>\n      <td>0.465799</td>\n      <td>-4.002506e-01</td>\n      <td>0.800546</td>\n      <td>0.800546</td>\n      <td>0.232214</td>\n    </tr>\n    <tr>\n      <th>Passes completed</th>\n      <td>0.830062</td>\n      <td>0.923242</td>\n      <td>0.612998</td>\n      <td>0.366138</td>\n      <td>0.108647</td>\n      <td>0.864279</td>\n      <td>0.073814</td>\n      <td>0.550720</td>\n      <td>-0.179278</td>\n      <td>0.200605</td>\n      <td>...</td>\n      <td>0.184878</td>\n      <td>0.376782</td>\n      <td>0.738845</td>\n      <td>0.499351</td>\n      <td>0.704802</td>\n      <td>0.420410</td>\n      <td>-4.062897e-01</td>\n      <td>0.766326</td>\n      <td>0.766326</td>\n      <td>0.213345</td>\n    </tr>\n    <tr>\n      <th>Passing Accuracy</th>\n      <td>0.438994</td>\n      <td>0.542955</td>\n      <td>0.501697</td>\n      <td>0.055535</td>\n      <td>-0.019157</td>\n      <td>0.572448</td>\n      <td>0.065266</td>\n      <td>0.252881</td>\n      <td>-0.268342</td>\n      <td>0.035170</td>\n      <td>...</td>\n      <td>-0.167845</td>\n      <td>0.123013</td>\n      <td>0.129507</td>\n      <td>-0.134093</td>\n      <td>0.087338</td>\n      <td>-0.108164</td>\n      <td>-5.596957e-01</td>\n      <td>0.166474</td>\n      <td>0.166474</td>\n      <td>-0.086174</td>\n    </tr>\n    <tr>\n      <th>Touches</th>\n      <td>0.837760</td>\n      <td>0.934623</td>\n      <td>0.649127</td>\n      <td>0.378113</td>\n      <td>0.118126</td>\n      <td>0.894708</td>\n      <td>0.129331</td>\n      <td>0.534153</td>\n      <td>-0.133834</td>\n      <td>0.230278</td>\n      <td>...</td>\n      <td>0.257793</td>\n      <td>0.387345</td>\n      <td>0.821173</td>\n      <td>0.608055</td>\n      <td>0.758892</td>\n      <td>0.532544</td>\n      <td>-3.779538e-01</td>\n      <td>0.852144</td>\n      <td>0.852144</td>\n      <td>0.265333</td>\n    </tr>\n    <tr>\n      <th>Crosses</th>\n      <td>0.667097</td>\n      <td>0.727451</td>\n      <td>0.563719</td>\n      <td>0.378244</td>\n      <td>0.119804</td>\n      <td>0.691374</td>\n      <td>0.480272</td>\n      <td>0.448069</td>\n      <td>-0.074308</td>\n      <td>0.296622</td>\n      <td>...</td>\n      <td>0.085055</td>\n      <td>0.083883</td>\n      <td>0.599338</td>\n      <td>0.571356</td>\n      <td>0.485388</td>\n      <td>0.414210</td>\n      <td>-1.915536e-01</td>\n      <td>0.722090</td>\n      <td>0.722090</td>\n      <td>-0.022858</td>\n    </tr>\n    <tr>\n      <th>Dribbles</th>\n      <td>0.693998</td>\n      <td>0.787066</td>\n      <td>0.510942</td>\n      <td>0.368239</td>\n      <td>0.159298</td>\n      <td>0.744255</td>\n      <td>0.061463</td>\n      <td>0.452092</td>\n      <td>0.008075</td>\n      <td>-0.008239</td>\n      <td>...</td>\n      <td>0.142779</td>\n      <td>0.290548</td>\n      <td>0.705718</td>\n      <td>0.633913</td>\n      <td>0.575453</td>\n      <td>0.506126</td>\n      <td>-3.419145e-01</td>\n      <td>0.745862</td>\n      <td>0.745862</td>\n      <td>0.347467</td>\n    </tr>\n    <tr>\n      <th>Corners Taken</th>\n      <td>0.697240</td>\n      <td>0.803347</td>\n      <td>0.749154</td>\n      <td>0.154993</td>\n      <td>-0.043951</td>\n      <td>0.864856</td>\n      <td>0.389104</td>\n      <td>0.357828</td>\n      <td>-0.274399</td>\n      <td>0.206268</td>\n      <td>...</td>\n      <td>0.002432</td>\n      <td>0.269986</td>\n      <td>0.651030</td>\n      <td>0.576427</td>\n      <td>0.512095</td>\n      <td>0.410743</td>\n      <td>-4.810903e-01</td>\n      <td>0.691124</td>\n      <td>0.691124</td>\n      <td>0.010681</td>\n    </tr>\n    <tr>\n      <th>Tackles</th>\n      <td>0.796830</td>\n      <td>0.811582</td>\n      <td>0.531234</td>\n      <td>0.370089</td>\n      <td>0.170285</td>\n      <td>0.757590</td>\n      <td>0.037136</td>\n      <td>0.528052</td>\n      <td>-0.039433</td>\n      <td>0.321400</td>\n      <td>...</td>\n      <td>0.313748</td>\n      <td>0.454030</td>\n      <td>0.814550</td>\n      <td>0.600603</td>\n      <td>0.680592</td>\n      <td>0.505745</td>\n      <td>-2.037936e-01</td>\n      <td>0.832844</td>\n      <td>0.832844</td>\n      <td>0.383399</td>\n    </tr>\n    <tr>\n      <th>Clearances</th>\n      <td>0.255700</td>\n      <td>0.262694</td>\n      <td>0.212638</td>\n      <td>0.090689</td>\n      <td>0.135691</td>\n      <td>0.306509</td>\n      <td>-0.173871</td>\n      <td>0.261227</td>\n      <td>0.396836</td>\n      <td>0.163236</td>\n      <td>...</td>\n      <td>0.529647</td>\n      <td>0.314722</td>\n      <td>0.718739</td>\n      <td>0.547268</td>\n      <td>0.513667</td>\n      <td>0.655658</td>\n      <td>1.940302e-01</td>\n      <td>0.640657</td>\n      <td>0.640657</td>\n      <td>0.602040</td>\n    </tr>\n    <tr>\n      <th>Interceptions</th>\n      <td>0.482441</td>\n      <td>0.587278</td>\n      <td>0.531190</td>\n      <td>0.261578</td>\n      <td>0.166016</td>\n      <td>0.669220</td>\n      <td>0.307694</td>\n      <td>0.284426</td>\n      <td>0.242572</td>\n      <td>0.284387</td>\n      <td>...</td>\n      <td>0.424241</td>\n      <td>0.235373</td>\n      <td>0.736808</td>\n      <td>0.625049</td>\n      <td>0.628501</td>\n      <td>0.779763</td>\n      <td>8.424464e-03</td>\n      <td>0.724859</td>\n      <td>0.724859</td>\n      <td>0.253658</td>\n    </tr>\n    <tr>\n      <th>Clearances off line</th>\n      <td>-0.155292</td>\n      <td>-0.095605</td>\n      <td>-0.199107</td>\n      <td>0.207781</td>\n      <td>-0.027486</td>\n      <td>-0.116198</td>\n      <td>-0.330719</td>\n      <td>-0.279508</td>\n      <td>-0.149404</td>\n      <td>-0.073721</td>\n      <td>...</td>\n      <td>0.407966</td>\n      <td>-0.040579</td>\n      <td>0.119882</td>\n      <td>0.325407</td>\n      <td>0.152892</td>\n      <td>0.149593</td>\n      <td>2.715272e-17</td>\n      <td>0.191533</td>\n      <td>0.191533</td>\n      <td>0.250000</td>\n    </tr>\n    <tr>\n      <th>Clean Sheets</th>\n      <td>0.792559</td>\n      <td>0.756715</td>\n      <td>0.348872</td>\n      <td>0.549557</td>\n      <td>0.356507</td>\n      <td>0.619025</td>\n      <td>0.088181</td>\n      <td>0.489003</td>\n      <td>-0.012926</td>\n      <td>0.334287</td>\n      <td>...</td>\n      <td>0.326440</td>\n      <td>0.495882</td>\n      <td>0.728923</td>\n      <td>0.619626</td>\n      <td>0.767269</td>\n      <td>0.499770</td>\n      <td>-2.805752e-01</td>\n      <td>0.747166</td>\n      <td>0.747166</td>\n      <td>0.228477</td>\n    </tr>\n    <tr>\n      <th>Blocks</th>\n      <td>-0.029128</td>\n      <td>-0.172650</td>\n      <td>-0.230736</td>\n      <td>0.194694</td>\n      <td>0.266923</td>\n      <td>-0.180443</td>\n      <td>-0.102803</td>\n      <td>0.102803</td>\n      <td>0.401200</td>\n      <td>0.146531</td>\n      <td>...</td>\n      <td>0.707827</td>\n      <td>0.130205</td>\n      <td>0.122265</td>\n      <td>0.041215</td>\n      <td>0.293275</td>\n      <td>0.123786</td>\n      <td>3.888646e-01</td>\n      <td>0.228500</td>\n      <td>0.228500</td>\n      <td>0.105373</td>\n    </tr>\n    <tr>\n      <th>Goals conceded</th>\n      <td>-0.337689</td>\n      <td>-0.214415</td>\n      <td>-0.139274</td>\n      <td>-0.198428</td>\n      <td>-0.196602</td>\n      <td>-0.184740</td>\n      <td>0.062541</td>\n      <td>-0.020847</td>\n      <td>0.302532</td>\n      <td>-0.344447</td>\n      <td>...</td>\n      <td>0.121274</td>\n      <td>-0.650997</td>\n      <td>-0.037039</td>\n      <td>-0.075297</td>\n      <td>0.222461</td>\n      <td>-0.002574</td>\n      <td>3.960913e-01</td>\n      <td>0.099764</td>\n      <td>0.099764</td>\n      <td>0.330089</td>\n    </tr>\n    <tr>\n      <th>Saves made</th>\n      <td>0.143912</td>\n      <td>0.085059</td>\n      <td>0.086157</td>\n      <td>0.179562</td>\n      <td>0.121014</td>\n      <td>0.148269</td>\n      <td>-0.230524</td>\n      <td>0.058761</td>\n      <td>0.051019</td>\n      <td>0.458773</td>\n      <td>...</td>\n      <td>1.000000</td>\n      <td>0.630714</td>\n      <td>0.391921</td>\n      <td>0.146550</td>\n      <td>0.397007</td>\n      <td>0.313044</td>\n      <td>-1.356023e-02</td>\n      <td>0.413050</td>\n      <td>0.413050</td>\n      <td>-0.023857</td>\n    </tr>\n    <tr>\n      <th>Saves-to-shots ratio</th>\n      <td>0.394424</td>\n      <td>0.218915</td>\n      <td>0.187128</td>\n      <td>0.220664</td>\n      <td>0.238564</td>\n      <td>0.252407</td>\n      <td>-0.200695</td>\n      <td>0.135145</td>\n      <td>-0.149787</td>\n      <td>0.578573</td>\n      <td>...</td>\n      <td>0.630714</td>\n      <td>1.000000</td>\n      <td>0.368536</td>\n      <td>0.187420</td>\n      <td>0.185065</td>\n      <td>0.273439</td>\n      <td>-2.486717e-01</td>\n      <td>0.225435</td>\n      <td>0.225435</td>\n      <td>-0.298553</td>\n    </tr>\n    <tr>\n      <th>Fouls Won</th>\n      <td>0.663876</td>\n      <td>0.765949</td>\n      <td>0.615058</td>\n      <td>0.235577</td>\n      <td>0.034561</td>\n      <td>0.766215</td>\n      <td>0.141180</td>\n      <td>0.528185</td>\n      <td>0.163643</td>\n      <td>0.157215</td>\n      <td>...</td>\n      <td>0.391921</td>\n      <td>0.368536</td>\n      <td>1.000000</td>\n      <td>0.768445</td>\n      <td>0.830030</td>\n      <td>0.800450</td>\n      <td>-5.863708e-03</td>\n      <td>0.907719</td>\n      <td>0.907719</td>\n      <td>0.463276</td>\n    </tr>\n    <tr>\n      <th>Fouls Conceded</th>\n      <td>0.483833</td>\n      <td>0.658353</td>\n      <td>0.434815</td>\n      <td>0.406282</td>\n      <td>0.014626</td>\n      <td>0.623288</td>\n      <td>0.303987</td>\n      <td>0.114404</td>\n      <td>-0.107169</td>\n      <td>0.117445</td>\n      <td>...</td>\n      <td>0.146550</td>\n      <td>0.187420</td>\n      <td>0.768445</td>\n      <td>1.000000</td>\n      <td>0.602987</td>\n      <td>0.856143</td>\n      <td>-1.035081e-01</td>\n      <td>0.734200</td>\n      <td>0.734200</td>\n      <td>0.313987</td>\n    </tr>\n    <tr>\n      <th>Offsides</th>\n      <td>0.703043</td>\n      <td>0.696263</td>\n      <td>0.344626</td>\n      <td>0.382686</td>\n      <td>0.255441</td>\n      <td>0.589635</td>\n      <td>0.113657</td>\n      <td>0.627220</td>\n      <td>0.210417</td>\n      <td>0.188786</td>\n      <td>...</td>\n      <td>0.397007</td>\n      <td>0.185065</td>\n      <td>0.830030</td>\n      <td>0.602987</td>\n      <td>1.000000</td>\n      <td>0.561767</td>\n      <td>5.472387e-02</td>\n      <td>0.856638</td>\n      <td>0.856638</td>\n      <td>0.422139</td>\n    </tr>\n    <tr>\n      <th>Yellow Cards</th>\n      <td>0.337709</td>\n      <td>0.544307</td>\n      <td>0.534186</td>\n      <td>0.163668</td>\n      <td>-0.071731</td>\n      <td>0.622268</td>\n      <td>0.319708</td>\n      <td>0.085467</td>\n      <td>0.127603</td>\n      <td>0.067245</td>\n      <td>...</td>\n      <td>0.313044</td>\n      <td>0.273439</td>\n      <td>0.800450</td>\n      <td>0.856143</td>\n      <td>0.561767</td>\n      <td>1.000000</td>\n      <td>-1.582714e-02</td>\n      <td>0.680231</td>\n      <td>0.680231</td>\n      <td>0.377580</td>\n    </tr>\n    <tr>\n      <th>Red Cards</th>\n      <td>-0.358057</td>\n      <td>-0.334050</td>\n      <td>-0.337766</td>\n      <td>-0.188352</td>\n      <td>-0.166940</td>\n      <td>-0.360466</td>\n      <td>-0.282051</td>\n      <td>0.179487</td>\n      <td>0.537484</td>\n      <td>-0.342962</td>\n      <td>...</td>\n      <td>-0.013560</td>\n      <td>-0.248672</td>\n      <td>-0.005864</td>\n      <td>-0.103508</td>\n      <td>0.054724</td>\n      <td>-0.015827</td>\n      <td>1.000000e+00</td>\n      <td>-0.169452</td>\n      <td>-0.169452</td>\n      <td>0.243599</td>\n    </tr>\n    <tr>\n      <th>Subs on</th>\n      <td>0.727830</td>\n      <td>0.821342</td>\n      <td>0.544974</td>\n      <td>0.377589</td>\n      <td>0.130146</td>\n      <td>0.763336</td>\n      <td>0.204511</td>\n      <td>0.531727</td>\n      <td>0.084796</td>\n      <td>0.216077</td>\n      <td>...</td>\n      <td>0.413050</td>\n      <td>0.225435</td>\n      <td>0.907719</td>\n      <td>0.734200</td>\n      <td>0.856638</td>\n      <td>0.680231</td>\n      <td>-1.694516e-01</td>\n      <td>1.000000</td>\n      <td>1.000000</td>\n      <td>0.474938</td>\n    </tr>\n    <tr>\n      <th>Subs off</th>\n      <td>0.727830</td>\n      <td>0.821342</td>\n      <td>0.544974</td>\n      <td>0.377589</td>\n      <td>0.130146</td>\n      <td>0.763336</td>\n      <td>0.204511</td>\n      <td>0.531727</td>\n      <td>0.084796</td>\n      <td>0.216077</td>\n      <td>...</td>\n      <td>0.413050</td>\n      <td>0.225435</td>\n      <td>0.907719</td>\n      <td>0.734200</td>\n      <td>0.856638</td>\n      <td>0.680231</td>\n      <td>-1.694516e-01</td>\n      <td>1.000000</td>\n      <td>1.000000</td>\n      <td>0.474938</td>\n    </tr>\n    <tr>\n      <th>Players Used</th>\n      <td>0.136067</td>\n      <td>0.249516</td>\n      <td>0.045973</td>\n      <td>-0.022610</td>\n      <td>-0.022179</td>\n      <td>0.157812</td>\n      <td>-0.189466</td>\n      <td>0.351866</td>\n      <td>0.480079</td>\n      <td>-0.447214</td>\n      <td>...</td>\n      <td>-0.023857</td>\n      <td>-0.298553</td>\n      <td>0.463276</td>\n      <td>0.313987</td>\n      <td>0.422139</td>\n      <td>0.377580</td>\n      <td>2.435994e-01</td>\n      <td>0.474938</td>\n      <td>0.474938</td>\n      <td>1.000000</td>\n    </tr>\n  </tbody>\n</table>\n<p>34 rows × 34 columns</p>\n</div>"
     },
     "metadata": {},
     "execution_count": 42
    }
   ],
   "source": [
    "df.corr()"
   ]
  },
  {
   "source": [
    "### Obtener las 10 correlaciones más altas"
   ],
   "cell_type": "markdown",
   "metadata": {}
  },
  {
   "cell_type": "code",
   "execution_count": 48,
   "metadata": {},
   "outputs": [
    {
     "output_type": "stream",
     "name": "stdout",
     "text": [
      "Top Absolute Correlations\nSubs on                     Subs off            1.000000\nPasses                      Passes completed    0.997697\n                            Touches             0.993044\nPasses completed            Touches             0.984324\nShots on target             Touches             0.934623\n                            Passes              0.930337\n                            Passes completed    0.923242\nFouls Won                   Subs on             0.907719\n                            Subs off            0.907719\nTotal shots (inc. Blocked)  Touches             0.894708\ndtype: float64\n"
     ]
    }
   ],
   "source": [
    "# Para poder aplicar las funciones que me permiten obtener las correlaciones más altas. Elimino previamente las variables string\n",
    "\n",
    "df_Team = ['Team']\n",
    "df.drop(df_Team, inplace = True, axis=1)\n",
    "\n",
    "\n",
    "# Función para eliminar las correlaciones de la diagonal y las repetidas\n",
    "\n",
    "def get_redundant_pairs(df):\n",
    "    '''Get diagonal and lower triangular pairs of correlation matrix'''\n",
    "    pairs_to_drop = set()\n",
    "    cols = df.columns\n",
    "    for i in range(0, df.shape[1]):\n",
    "        for j in range(0, i+1):\n",
    "            pairs_to_drop.add((cols[i], cols[j]))\n",
    "    return pairs_to_drop\n",
    "\n",
    "# Función para obtener el Top x de correlaciones más altas que queramos\n",
    "\n",
    "def get_top_abs_correlations(df, n=5):\n",
    "    au_corr = df.corr().abs().unstack()\n",
    "    labels_to_drop = get_redundant_pairs(df)\n",
    "    au_corr = au_corr.drop(labels=labels_to_drop).sort_values(ascending=False)\n",
    "    return au_corr[0:n]\n",
    "\n",
    "print(\"Top Absolute Correlations\")\n",
    "print(get_top_abs_correlations(df, 10))\n",
    "\n"
   ]
  },
  {
   "source": [],
   "cell_type": "markdown",
   "metadata": {}
  },
  {
   "source": [
    "# 2\n",
    "\n",
    "### ¿Existe algún tipo de relación entre la precisión de disparo a puerta (Shooting Accuracy) con respecto a los goles? Muestra en una gráfica (pintando la línea en la distribución de ambas variables) y usando Regresión Lineal, Regresión no Lineal con polinomio y SVR la relación entre ambos. Por cada porcentaje de acierto de cara a puerta, ¿cuánto aumenta o disminuye el número de goles?"
   ],
   "cell_type": "markdown",
   "metadata": {}
  },
  {
   "cell_type": "code",
   "execution_count": 158,
   "metadata": {},
   "outputs": [
    {
     "output_type": "execute_result",
     "data": {
      "text/plain": [
       "                   Shooting Accuracy    Goals\n",
       "Shooting Accuracy            1.00000  0.52121\n",
       "Goals                        0.52121  1.00000"
      ],
      "text/html": "<div>\n<style scoped>\n    .dataframe tbody tr th:only-of-type {\n        vertical-align: middle;\n    }\n\n    .dataframe tbody tr th {\n        vertical-align: top;\n    }\n\n    .dataframe thead th {\n        text-align: right;\n    }\n</style>\n<table border=\"1\" class=\"dataframe\">\n  <thead>\n    <tr style=\"text-align: right;\">\n      <th></th>\n      <th>Shooting Accuracy</th>\n      <th>Goals</th>\n    </tr>\n  </thead>\n  <tbody>\n    <tr>\n      <th>Shooting Accuracy</th>\n      <td>1.00000</td>\n      <td>0.52121</td>\n    </tr>\n    <tr>\n      <th>Goals</th>\n      <td>0.52121</td>\n      <td>1.00000</td>\n    </tr>\n  </tbody>\n</table>\n</div>"
     },
     "metadata": {},
     "execution_count": 158
    }
   ],
   "source": [
    "Shooting_Accuracy_Goals = df[['Shooting Accuracy','Goals']]\n",
    "correlation = Shooting_Accuracy_Goals.corr(method='pearson')\n",
    "correlation"
   ]
  },
  {
   "cell_type": "code",
   "execution_count": 30,
   "metadata": {},
   "outputs": [],
   "source": [
    "import pandas as pd\n",
    "import numpy as np\n",
    "import matplotlib.pyplot as plt\n",
    "import seaborn as sns\n",
    "from sklearn.linear_model import LinearRegression\n",
    "from sklearn.model_selection import train_test_split\n",
    "from sklearn.preprocessing import PolynomialFeatures # Regresión polinómica\n",
    "from sklearn.metrics import r2_score, mean_absolute_error\n",
    "from sklearn.linear_model import Ridge\n",
    "from sklearn.pipeline import make_pipeline\n",
    "from sklearn.svm import SVR\n",
    "from sklearn.metrics import classification_report\n",
    "from sklearn.metrics import confusion_matrix\n",
    "from sklearn.metrics import accuracy_score\n",
    "from sklearn import linear_model  # Regresión logística\n",
    "from sklearn import svm\n",
    "from sklearn.model_selection import KFold\n",
    "from sklearn.model_selection import cross_val_score\n",
    "from sklearn.model_selection import RepeatedStratifiedKFold, RepeatedKFold\n",
    "from sklearn.ensemble import RandomForestClassifier\n",
    "from sklearn.tree import DecisionTreeRegressor\n",
    "from sklearn.ensemble import RandomForestRegressor"
   ]
  },
  {
   "source": [
    "### Regresión lineal"
   ],
   "cell_type": "markdown",
   "metadata": {}
  },
  {
   "cell_type": "code",
   "execution_count": 160,
   "metadata": {},
   "outputs": [],
   "source": [
    "# especificamos qué variables es independiente y cuál es dependiente\n",
    "\n",
    "X = Shooting_Accuracy_Goals['Shooting Accuracy'].values.reshape(-1, 1)  # values converts it into a numpy array\n",
    "y = Shooting_Accuracy_Goals['Goals'].values.reshape(-1, 1)  # -1 means that calculate the dimension of rows, but have 1 column"
   ]
  },
  {
   "cell_type": "code",
   "execution_count": 161,
   "metadata": {},
   "outputs": [],
   "source": [
    "# Test/train split\n",
    "X_train, X_test, y_train, y_test = train_test_split(X, y, test_size=0.2, random_state=7)"
   ]
  },
  {
   "cell_type": "code",
   "execution_count": 162,
   "metadata": {},
   "outputs": [
    {
     "output_type": "display_data",
     "data": {
      "text/plain": "<Figure size 432x288 with 1 Axes>",
      "image/svg+xml": "<?xml version=\"1.0\" encoding=\"utf-8\" standalone=\"no\"?>\r\n<!DOCTYPE svg PUBLIC \"-//W3C//DTD SVG 1.1//EN\"\r\n  \"http://www.w3.org/Graphics/SVG/1.1/DTD/svg11.dtd\">\r\n<svg height=\"278.194375pt\" version=\"1.1\" viewBox=\"0 0 387.891562 278.194375\" width=\"387.891562pt\" xmlns=\"http://www.w3.org/2000/svg\" xmlns:xlink=\"http://www.w3.org/1999/xlink\">\r\n <metadata>\r\n  <rdf:RDF xmlns:cc=\"http://creativecommons.org/ns#\" xmlns:dc=\"http://purl.org/dc/elements/1.1/\" xmlns:rdf=\"http://www.w3.org/1999/02/22-rdf-syntax-ns#\">\r\n   <cc:Work>\r\n    <dc:type rdf:resource=\"http://purl.org/dc/dcmitype/StillImage\"/>\r\n    <dc:date>2021-06-16T11:22:42.170337</dc:date>\r\n    <dc:format>image/svg+xml</dc:format>\r\n    <dc:creator>\r\n     <cc:Agent>\r\n      <dc:title>Matplotlib v3.4.1, https://matplotlib.org/</dc:title>\r\n     </cc:Agent>\r\n    </dc:creator>\r\n   </cc:Work>\r\n  </rdf:RDF>\r\n </metadata>\r\n <defs>\r\n  <style type=\"text/css\">*{stroke-linecap:butt;stroke-linejoin:round;}</style>\r\n </defs>\r\n <g id=\"figure_1\">\r\n  <g id=\"patch_1\">\r\n   <path d=\"M 0 278.194375 \r\nL 387.891562 278.194375 \r\nL 387.891562 0 \r\nL 0 0 \r\nz\r\n\" style=\"fill:none;\"/>\r\n  </g>\r\n  <g id=\"axes_1\">\r\n   <g id=\"patch_2\">\r\n    <path d=\"M 40.603125 240.238125 \r\nL 375.403125 240.238125 \r\nL 375.403125 22.798125 \r\nL 40.603125 22.798125 \r\nz\r\n\" style=\"fill:#ffffff;\"/>\r\n   </g>\r\n   <g id=\"PathCollection_1\">\r\n    <defs>\r\n     <path d=\"M 0 3 \r\nC 0.795609 3 1.55874 2.683901 2.12132 2.12132 \r\nC 2.683901 1.55874 3 0.795609 3 0 \r\nC 3 -0.795609 2.683901 -1.55874 2.12132 -2.12132 \r\nC 1.55874 -2.683901 0.795609 -3 0 -3 \r\nC -0.795609 -3 -1.55874 -2.683901 -2.12132 -2.12132 \r\nC -2.683901 -1.55874 -3 -0.795609 -3 0 \r\nC -3 0.795609 -2.683901 1.55874 -2.12132 2.12132 \r\nC -1.55874 2.683901 -0.795609 3 0 3 \r\nz\r\n\" id=\"m6a5428fad1\" style=\"stroke:#1f77b4;\"/>\r\n    </defs>\r\n    <g clip-path=\"url(#p3f5a04b680)\">\r\n     <use style=\"fill:#1f77b4;stroke:#1f77b4;\" x=\"67.223979\" xlink:href=\"#m6a5428fad1\" y=\"158.473497\"/>\r\n     <use style=\"fill:#1f77b4;stroke:#1f77b4;\" x=\"325.099798\" xlink:href=\"#m6a5428fad1\" y=\"176.443745\"/>\r\n     <use style=\"fill:#1f77b4;stroke:#1f77b4;\" x=\"237.386934\" xlink:href=\"#m6a5428fad1\" y=\"176.443745\"/>\r\n     <use style=\"fill:#1f77b4;stroke:#1f77b4;\" x=\"283.874752\" xlink:href=\"#m6a5428fad1\" y=\"158.473497\"/>\r\n     <use style=\"fill:#1f77b4;stroke:#1f77b4;\" x=\"360.184943\" xlink:href=\"#m6a5428fad1\" y=\"32.681761\"/>\r\n     <use style=\"fill:#1f77b4;stroke:#1f77b4;\" x=\"247.035349\" xlink:href=\"#m6a5428fad1\" y=\"140.503249\"/>\r\n     <use style=\"fill:#1f77b4;stroke:#1f77b4;\" x=\"192.653374\" xlink:href=\"#m6a5428fad1\" y=\"230.354489\"/>\r\n     <use style=\"fill:#1f77b4;stroke:#1f77b4;\" x=\"308.434354\" xlink:href=\"#m6a5428fad1\" y=\"158.473497\"/>\r\n     <use style=\"fill:#1f77b4;stroke:#1f77b4;\" x=\"139.148527\" xlink:href=\"#m6a5428fad1\" y=\"158.473497\"/>\r\n     <use style=\"fill:#1f77b4;stroke:#1f77b4;\" x=\"215.458718\" xlink:href=\"#m6a5428fad1\" y=\"212.384241\"/>\r\n     <use style=\"fill:#1f77b4;stroke:#1f77b4;\" x=\"202.301789\" xlink:href=\"#m6a5428fad1\" y=\"194.413993\"/>\r\n     <use style=\"fill:#1f77b4;stroke:#1f77b4;\" x=\"55.821307\" xlink:href=\"#m6a5428fad1\" y=\"212.384241\"/>\r\n    </g>\r\n   </g>\r\n   <g id=\"matplotlib.axis_1\">\r\n    <g id=\"xtick_1\">\r\n     <g id=\"line2d_1\">\r\n      <defs>\r\n       <path d=\"M 0 0 \r\nL 0 3.5 \r\n\" id=\"m7b24c00874\" style=\"stroke:#000000;stroke-width:0.8;\"/>\r\n      </defs>\r\n      <g>\r\n       <use style=\"stroke:#000000;stroke-width:0.8;\" x=\"45.295763\" xlink:href=\"#m7b24c00874\" y=\"240.238125\"/>\r\n      </g>\r\n     </g>\r\n     <g id=\"text_1\">\r\n      <!-- 20 -->\r\n      <g transform=\"translate(38.933263 254.836562)scale(0.1 -0.1)\">\r\n       <defs>\r\n        <path d=\"M 1228 531 \r\nL 3431 531 \r\nL 3431 0 \r\nL 469 0 \r\nL 469 531 \r\nQ 828 903 1448 1529 \r\nQ 2069 2156 2228 2338 \r\nQ 2531 2678 2651 2914 \r\nQ 2772 3150 2772 3378 \r\nQ 2772 3750 2511 3984 \r\nQ 2250 4219 1831 4219 \r\nQ 1534 4219 1204 4116 \r\nQ 875 4013 500 3803 \r\nL 500 4441 \r\nQ 881 4594 1212 4672 \r\nQ 1544 4750 1819 4750 \r\nQ 2544 4750 2975 4387 \r\nQ 3406 4025 3406 3419 \r\nQ 3406 3131 3298 2873 \r\nQ 3191 2616 2906 2266 \r\nQ 2828 2175 2409 1742 \r\nQ 1991 1309 1228 531 \r\nz\r\n\" id=\"DejaVuSans-32\" transform=\"scale(0.015625)\"/>\r\n        <path d=\"M 2034 4250 \r\nQ 1547 4250 1301 3770 \r\nQ 1056 3291 1056 2328 \r\nQ 1056 1369 1301 889 \r\nQ 1547 409 2034 409 \r\nQ 2525 409 2770 889 \r\nQ 3016 1369 3016 2328 \r\nQ 3016 3291 2770 3770 \r\nQ 2525 4250 2034 4250 \r\nz\r\nM 2034 4750 \r\nQ 2819 4750 3233 4129 \r\nQ 3647 3509 3647 2328 \r\nQ 3647 1150 3233 529 \r\nQ 2819 -91 2034 -91 \r\nQ 1250 -91 836 529 \r\nQ 422 1150 422 2328 \r\nQ 422 3509 836 4129 \r\nQ 1250 4750 2034 4750 \r\nz\r\n\" id=\"DejaVuSans-30\" transform=\"scale(0.015625)\"/>\r\n       </defs>\r\n       <use xlink:href=\"#DejaVuSans-32\"/>\r\n       <use x=\"63.623047\" xlink:href=\"#DejaVuSans-30\"/>\r\n      </g>\r\n     </g>\r\n    </g>\r\n    <g id=\"xtick_2\">\r\n     <g id=\"line2d_2\">\r\n      <g>\r\n       <use style=\"stroke:#000000;stroke-width:0.8;\" x=\"89.152195\" xlink:href=\"#m7b24c00874\" y=\"240.238125\"/>\r\n      </g>\r\n     </g>\r\n     <g id=\"text_2\">\r\n      <!-- 25 -->\r\n      <g transform=\"translate(82.789695 254.836562)scale(0.1 -0.1)\">\r\n       <defs>\r\n        <path d=\"M 691 4666 \r\nL 3169 4666 \r\nL 3169 4134 \r\nL 1269 4134 \r\nL 1269 2991 \r\nQ 1406 3038 1543 3061 \r\nQ 1681 3084 1819 3084 \r\nQ 2600 3084 3056 2656 \r\nQ 3513 2228 3513 1497 \r\nQ 3513 744 3044 326 \r\nQ 2575 -91 1722 -91 \r\nQ 1428 -91 1123 -41 \r\nQ 819 9 494 109 \r\nL 494 744 \r\nQ 775 591 1075 516 \r\nQ 1375 441 1709 441 \r\nQ 2250 441 2565 725 \r\nQ 2881 1009 2881 1497 \r\nQ 2881 1984 2565 2268 \r\nQ 2250 2553 1709 2553 \r\nQ 1456 2553 1204 2497 \r\nQ 953 2441 691 2322 \r\nL 691 4666 \r\nz\r\n\" id=\"DejaVuSans-35\" transform=\"scale(0.015625)\"/>\r\n       </defs>\r\n       <use xlink:href=\"#DejaVuSans-32\"/>\r\n       <use x=\"63.623047\" xlink:href=\"#DejaVuSans-35\"/>\r\n      </g>\r\n     </g>\r\n    </g>\r\n    <g id=\"xtick_3\">\r\n     <g id=\"line2d_3\">\r\n      <g>\r\n       <use style=\"stroke:#000000;stroke-width:0.8;\" x=\"133.008627\" xlink:href=\"#m7b24c00874\" y=\"240.238125\"/>\r\n      </g>\r\n     </g>\r\n     <g id=\"text_3\">\r\n      <!-- 30 -->\r\n      <g transform=\"translate(126.646127 254.836562)scale(0.1 -0.1)\">\r\n       <defs>\r\n        <path d=\"M 2597 2516 \r\nQ 3050 2419 3304 2112 \r\nQ 3559 1806 3559 1356 \r\nQ 3559 666 3084 287 \r\nQ 2609 -91 1734 -91 \r\nQ 1441 -91 1130 -33 \r\nQ 819 25 488 141 \r\nL 488 750 \r\nQ 750 597 1062 519 \r\nQ 1375 441 1716 441 \r\nQ 2309 441 2620 675 \r\nQ 2931 909 2931 1356 \r\nQ 2931 1769 2642 2001 \r\nQ 2353 2234 1838 2234 \r\nL 1294 2234 \r\nL 1294 2753 \r\nL 1863 2753 \r\nQ 2328 2753 2575 2939 \r\nQ 2822 3125 2822 3475 \r\nQ 2822 3834 2567 4026 \r\nQ 2313 4219 1838 4219 \r\nQ 1578 4219 1281 4162 \r\nQ 984 4106 628 3988 \r\nL 628 4550 \r\nQ 988 4650 1302 4700 \r\nQ 1616 4750 1894 4750 \r\nQ 2613 4750 3031 4423 \r\nQ 3450 4097 3450 3541 \r\nQ 3450 3153 3228 2886 \r\nQ 3006 2619 2597 2516 \r\nz\r\n\" id=\"DejaVuSans-33\" transform=\"scale(0.015625)\"/>\r\n       </defs>\r\n       <use xlink:href=\"#DejaVuSans-33\"/>\r\n       <use x=\"63.623047\" xlink:href=\"#DejaVuSans-30\"/>\r\n      </g>\r\n     </g>\r\n    </g>\r\n    <g id=\"xtick_4\">\r\n     <g id=\"line2d_4\">\r\n      <g>\r\n       <use style=\"stroke:#000000;stroke-width:0.8;\" x=\"176.865058\" xlink:href=\"#m7b24c00874\" y=\"240.238125\"/>\r\n      </g>\r\n     </g>\r\n     <g id=\"text_4\">\r\n      <!-- 35 -->\r\n      <g transform=\"translate(170.502558 254.836562)scale(0.1 -0.1)\">\r\n       <use xlink:href=\"#DejaVuSans-33\"/>\r\n       <use x=\"63.623047\" xlink:href=\"#DejaVuSans-35\"/>\r\n      </g>\r\n     </g>\r\n    </g>\r\n    <g id=\"xtick_5\">\r\n     <g id=\"line2d_5\">\r\n      <g>\r\n       <use style=\"stroke:#000000;stroke-width:0.8;\" x=\"220.72149\" xlink:href=\"#m7b24c00874\" y=\"240.238125\"/>\r\n      </g>\r\n     </g>\r\n     <g id=\"text_5\">\r\n      <!-- 40 -->\r\n      <g transform=\"translate(214.35899 254.836562)scale(0.1 -0.1)\">\r\n       <defs>\r\n        <path d=\"M 2419 4116 \r\nL 825 1625 \r\nL 2419 1625 \r\nL 2419 4116 \r\nz\r\nM 2253 4666 \r\nL 3047 4666 \r\nL 3047 1625 \r\nL 3713 1625 \r\nL 3713 1100 \r\nL 3047 1100 \r\nL 3047 0 \r\nL 2419 0 \r\nL 2419 1100 \r\nL 313 1100 \r\nL 313 1709 \r\nL 2253 4666 \r\nz\r\n\" id=\"DejaVuSans-34\" transform=\"scale(0.015625)\"/>\r\n       </defs>\r\n       <use xlink:href=\"#DejaVuSans-34\"/>\r\n       <use x=\"63.623047\" xlink:href=\"#DejaVuSans-30\"/>\r\n      </g>\r\n     </g>\r\n    </g>\r\n    <g id=\"xtick_6\">\r\n     <g id=\"line2d_6\">\r\n      <g>\r\n       <use style=\"stroke:#000000;stroke-width:0.8;\" x=\"264.577922\" xlink:href=\"#m7b24c00874\" y=\"240.238125\"/>\r\n      </g>\r\n     </g>\r\n     <g id=\"text_6\">\r\n      <!-- 45 -->\r\n      <g transform=\"translate(258.215422 254.836562)scale(0.1 -0.1)\">\r\n       <use xlink:href=\"#DejaVuSans-34\"/>\r\n       <use x=\"63.623047\" xlink:href=\"#DejaVuSans-35\"/>\r\n      </g>\r\n     </g>\r\n    </g>\r\n    <g id=\"xtick_7\">\r\n     <g id=\"line2d_7\">\r\n      <g>\r\n       <use style=\"stroke:#000000;stroke-width:0.8;\" x=\"308.434354\" xlink:href=\"#m7b24c00874\" y=\"240.238125\"/>\r\n      </g>\r\n     </g>\r\n     <g id=\"text_7\">\r\n      <!-- 50 -->\r\n      <g transform=\"translate(302.071854 254.836562)scale(0.1 -0.1)\">\r\n       <use xlink:href=\"#DejaVuSans-35\"/>\r\n       <use x=\"63.623047\" xlink:href=\"#DejaVuSans-30\"/>\r\n      </g>\r\n     </g>\r\n    </g>\r\n    <g id=\"xtick_8\">\r\n     <g id=\"line2d_8\">\r\n      <g>\r\n       <use style=\"stroke:#000000;stroke-width:0.8;\" x=\"352.290785\" xlink:href=\"#m7b24c00874\" y=\"240.238125\"/>\r\n      </g>\r\n     </g>\r\n     <g id=\"text_8\">\r\n      <!-- 55 -->\r\n      <g transform=\"translate(345.928285 254.836562)scale(0.1 -0.1)\">\r\n       <use xlink:href=\"#DejaVuSans-35\"/>\r\n       <use x=\"63.623047\" xlink:href=\"#DejaVuSans-35\"/>\r\n      </g>\r\n     </g>\r\n    </g>\r\n    <g id=\"text_9\">\r\n     <!-- Precisión del disparo (%) -->\r\n     <g transform=\"translate(146.228125 268.914687)scale(0.1 -0.1)\">\r\n      <defs>\r\n       <path d=\"M 1259 4147 \r\nL 1259 2394 \r\nL 2053 2394 \r\nQ 2494 2394 2734 2622 \r\nQ 2975 2850 2975 3272 \r\nQ 2975 3691 2734 3919 \r\nQ 2494 4147 2053 4147 \r\nL 1259 4147 \r\nz\r\nM 628 4666 \r\nL 2053 4666 \r\nQ 2838 4666 3239 4311 \r\nQ 3641 3956 3641 3272 \r\nQ 3641 2581 3239 2228 \r\nQ 2838 1875 2053 1875 \r\nL 1259 1875 \r\nL 1259 0 \r\nL 628 0 \r\nL 628 4666 \r\nz\r\n\" id=\"DejaVuSans-50\" transform=\"scale(0.015625)\"/>\r\n       <path d=\"M 2631 2963 \r\nQ 2534 3019 2420 3045 \r\nQ 2306 3072 2169 3072 \r\nQ 1681 3072 1420 2755 \r\nQ 1159 2438 1159 1844 \r\nL 1159 0 \r\nL 581 0 \r\nL 581 3500 \r\nL 1159 3500 \r\nL 1159 2956 \r\nQ 1341 3275 1631 3429 \r\nQ 1922 3584 2338 3584 \r\nQ 2397 3584 2469 3576 \r\nQ 2541 3569 2628 3553 \r\nL 2631 2963 \r\nz\r\n\" id=\"DejaVuSans-72\" transform=\"scale(0.015625)\"/>\r\n       <path d=\"M 3597 1894 \r\nL 3597 1613 \r\nL 953 1613 \r\nQ 991 1019 1311 708 \r\nQ 1631 397 2203 397 \r\nQ 2534 397 2845 478 \r\nQ 3156 559 3463 722 \r\nL 3463 178 \r\nQ 3153 47 2828 -22 \r\nQ 2503 -91 2169 -91 \r\nQ 1331 -91 842 396 \r\nQ 353 884 353 1716 \r\nQ 353 2575 817 3079 \r\nQ 1281 3584 2069 3584 \r\nQ 2775 3584 3186 3129 \r\nQ 3597 2675 3597 1894 \r\nz\r\nM 3022 2063 \r\nQ 3016 2534 2758 2815 \r\nQ 2500 3097 2075 3097 \r\nQ 1594 3097 1305 2825 \r\nQ 1016 2553 972 2059 \r\nL 3022 2063 \r\nz\r\n\" id=\"DejaVuSans-65\" transform=\"scale(0.015625)\"/>\r\n       <path d=\"M 3122 3366 \r\nL 3122 2828 \r\nQ 2878 2963 2633 3030 \r\nQ 2388 3097 2138 3097 \r\nQ 1578 3097 1268 2742 \r\nQ 959 2388 959 1747 \r\nQ 959 1106 1268 751 \r\nQ 1578 397 2138 397 \r\nQ 2388 397 2633 464 \r\nQ 2878 531 3122 666 \r\nL 3122 134 \r\nQ 2881 22 2623 -34 \r\nQ 2366 -91 2075 -91 \r\nQ 1284 -91 818 406 \r\nQ 353 903 353 1747 \r\nQ 353 2603 823 3093 \r\nQ 1294 3584 2113 3584 \r\nQ 2378 3584 2631 3529 \r\nQ 2884 3475 3122 3366 \r\nz\r\n\" id=\"DejaVuSans-63\" transform=\"scale(0.015625)\"/>\r\n       <path d=\"M 603 3500 \r\nL 1178 3500 \r\nL 1178 0 \r\nL 603 0 \r\nL 603 3500 \r\nz\r\nM 603 4863 \r\nL 1178 4863 \r\nL 1178 4134 \r\nL 603 4134 \r\nL 603 4863 \r\nz\r\n\" id=\"DejaVuSans-69\" transform=\"scale(0.015625)\"/>\r\n       <path d=\"M 2834 3397 \r\nL 2834 2853 \r\nQ 2591 2978 2328 3040 \r\nQ 2066 3103 1784 3103 \r\nQ 1356 3103 1142 2972 \r\nQ 928 2841 928 2578 \r\nQ 928 2378 1081 2264 \r\nQ 1234 2150 1697 2047 \r\nL 1894 2003 \r\nQ 2506 1872 2764 1633 \r\nQ 3022 1394 3022 966 \r\nQ 3022 478 2636 193 \r\nQ 2250 -91 1575 -91 \r\nQ 1294 -91 989 -36 \r\nQ 684 19 347 128 \r\nL 347 722 \r\nQ 666 556 975 473 \r\nQ 1284 391 1588 391 \r\nQ 1994 391 2212 530 \r\nQ 2431 669 2431 922 \r\nQ 2431 1156 2273 1281 \r\nQ 2116 1406 1581 1522 \r\nL 1381 1569 \r\nQ 847 1681 609 1914 \r\nQ 372 2147 372 2553 \r\nQ 372 3047 722 3315 \r\nQ 1072 3584 1716 3584 \r\nQ 2034 3584 2315 3537 \r\nQ 2597 3491 2834 3397 \r\nz\r\n\" id=\"DejaVuSans-73\" transform=\"scale(0.015625)\"/>\r\n       <path d=\"M 1959 3097 \r\nQ 1497 3097 1228 2736 \r\nQ 959 2375 959 1747 \r\nQ 959 1119 1226 758 \r\nQ 1494 397 1959 397 \r\nQ 2419 397 2687 759 \r\nQ 2956 1122 2956 1747 \r\nQ 2956 2369 2687 2733 \r\nQ 2419 3097 1959 3097 \r\nz\r\nM 1959 3584 \r\nQ 2709 3584 3137 3096 \r\nQ 3566 2609 3566 1747 \r\nQ 3566 888 3137 398 \r\nQ 2709 -91 1959 -91 \r\nQ 1206 -91 779 398 \r\nQ 353 888 353 1747 \r\nQ 353 2609 779 3096 \r\nQ 1206 3584 1959 3584 \r\nz\r\nM 2394 5119 \r\nL 3016 5119 \r\nL 1998 3944 \r\nL 1519 3944 \r\nL 2394 5119 \r\nz\r\n\" id=\"DejaVuSans-f3\" transform=\"scale(0.015625)\"/>\r\n       <path d=\"M 3513 2113 \r\nL 3513 0 \r\nL 2938 0 \r\nL 2938 2094 \r\nQ 2938 2591 2744 2837 \r\nQ 2550 3084 2163 3084 \r\nQ 1697 3084 1428 2787 \r\nQ 1159 2491 1159 1978 \r\nL 1159 0 \r\nL 581 0 \r\nL 581 3500 \r\nL 1159 3500 \r\nL 1159 2956 \r\nQ 1366 3272 1645 3428 \r\nQ 1925 3584 2291 3584 \r\nQ 2894 3584 3203 3211 \r\nQ 3513 2838 3513 2113 \r\nz\r\n\" id=\"DejaVuSans-6e\" transform=\"scale(0.015625)\"/>\r\n       <path id=\"DejaVuSans-20\" transform=\"scale(0.015625)\"/>\r\n       <path d=\"M 2906 2969 \r\nL 2906 4863 \r\nL 3481 4863 \r\nL 3481 0 \r\nL 2906 0 \r\nL 2906 525 \r\nQ 2725 213 2448 61 \r\nQ 2172 -91 1784 -91 \r\nQ 1150 -91 751 415 \r\nQ 353 922 353 1747 \r\nQ 353 2572 751 3078 \r\nQ 1150 3584 1784 3584 \r\nQ 2172 3584 2448 3432 \r\nQ 2725 3281 2906 2969 \r\nz\r\nM 947 1747 \r\nQ 947 1113 1208 752 \r\nQ 1469 391 1925 391 \r\nQ 2381 391 2643 752 \r\nQ 2906 1113 2906 1747 \r\nQ 2906 2381 2643 2742 \r\nQ 2381 3103 1925 3103 \r\nQ 1469 3103 1208 2742 \r\nQ 947 2381 947 1747 \r\nz\r\n\" id=\"DejaVuSans-64\" transform=\"scale(0.015625)\"/>\r\n       <path d=\"M 603 4863 \r\nL 1178 4863 \r\nL 1178 0 \r\nL 603 0 \r\nL 603 4863 \r\nz\r\n\" id=\"DejaVuSans-6c\" transform=\"scale(0.015625)\"/>\r\n       <path d=\"M 1159 525 \r\nL 1159 -1331 \r\nL 581 -1331 \r\nL 581 3500 \r\nL 1159 3500 \r\nL 1159 2969 \r\nQ 1341 3281 1617 3432 \r\nQ 1894 3584 2278 3584 \r\nQ 2916 3584 3314 3078 \r\nQ 3713 2572 3713 1747 \r\nQ 3713 922 3314 415 \r\nQ 2916 -91 2278 -91 \r\nQ 1894 -91 1617 61 \r\nQ 1341 213 1159 525 \r\nz\r\nM 3116 1747 \r\nQ 3116 2381 2855 2742 \r\nQ 2594 3103 2138 3103 \r\nQ 1681 3103 1420 2742 \r\nQ 1159 2381 1159 1747 \r\nQ 1159 1113 1420 752 \r\nQ 1681 391 2138 391 \r\nQ 2594 391 2855 752 \r\nQ 3116 1113 3116 1747 \r\nz\r\n\" id=\"DejaVuSans-70\" transform=\"scale(0.015625)\"/>\r\n       <path d=\"M 2194 1759 \r\nQ 1497 1759 1228 1600 \r\nQ 959 1441 959 1056 \r\nQ 959 750 1161 570 \r\nQ 1363 391 1709 391 \r\nQ 2188 391 2477 730 \r\nQ 2766 1069 2766 1631 \r\nL 2766 1759 \r\nL 2194 1759 \r\nz\r\nM 3341 1997 \r\nL 3341 0 \r\nL 2766 0 \r\nL 2766 531 \r\nQ 2569 213 2275 61 \r\nQ 1981 -91 1556 -91 \r\nQ 1019 -91 701 211 \r\nQ 384 513 384 1019 \r\nQ 384 1609 779 1909 \r\nQ 1175 2209 1959 2209 \r\nL 2766 2209 \r\nL 2766 2266 \r\nQ 2766 2663 2505 2880 \r\nQ 2244 3097 1772 3097 \r\nQ 1472 3097 1187 3025 \r\nQ 903 2953 641 2809 \r\nL 641 3341 \r\nQ 956 3463 1253 3523 \r\nQ 1550 3584 1831 3584 \r\nQ 2591 3584 2966 3190 \r\nQ 3341 2797 3341 1997 \r\nz\r\n\" id=\"DejaVuSans-61\" transform=\"scale(0.015625)\"/>\r\n       <path d=\"M 1959 3097 \r\nQ 1497 3097 1228 2736 \r\nQ 959 2375 959 1747 \r\nQ 959 1119 1226 758 \r\nQ 1494 397 1959 397 \r\nQ 2419 397 2687 759 \r\nQ 2956 1122 2956 1747 \r\nQ 2956 2369 2687 2733 \r\nQ 2419 3097 1959 3097 \r\nz\r\nM 1959 3584 \r\nQ 2709 3584 3137 3096 \r\nQ 3566 2609 3566 1747 \r\nQ 3566 888 3137 398 \r\nQ 2709 -91 1959 -91 \r\nQ 1206 -91 779 398 \r\nQ 353 888 353 1747 \r\nQ 353 2609 779 3096 \r\nQ 1206 3584 1959 3584 \r\nz\r\n\" id=\"DejaVuSans-6f\" transform=\"scale(0.015625)\"/>\r\n       <path d=\"M 1984 4856 \r\nQ 1566 4138 1362 3434 \r\nQ 1159 2731 1159 2009 \r\nQ 1159 1288 1364 580 \r\nQ 1569 -128 1984 -844 \r\nL 1484 -844 \r\nQ 1016 -109 783 600 \r\nQ 550 1309 550 2009 \r\nQ 550 2706 781 3412 \r\nQ 1013 4119 1484 4856 \r\nL 1984 4856 \r\nz\r\n\" id=\"DejaVuSans-28\" transform=\"scale(0.015625)\"/>\r\n       <path d=\"M 4653 2053 \r\nQ 4381 2053 4226 1822 \r\nQ 4072 1591 4072 1178 \r\nQ 4072 772 4226 539 \r\nQ 4381 306 4653 306 \r\nQ 4919 306 5073 539 \r\nQ 5228 772 5228 1178 \r\nQ 5228 1588 5073 1820 \r\nQ 4919 2053 4653 2053 \r\nz\r\nM 4653 2450 \r\nQ 5147 2450 5437 2106 \r\nQ 5728 1763 5728 1178 \r\nQ 5728 594 5436 251 \r\nQ 5144 -91 4653 -91 \r\nQ 4153 -91 3862 251 \r\nQ 3572 594 3572 1178 \r\nQ 3572 1766 3864 2108 \r\nQ 4156 2450 4653 2450 \r\nz\r\nM 1428 4353 \r\nQ 1159 4353 1004 4120 \r\nQ 850 3888 850 3481 \r\nQ 850 3069 1003 2837 \r\nQ 1156 2606 1428 2606 \r\nQ 1700 2606 1854 2837 \r\nQ 2009 3069 2009 3481 \r\nQ 2009 3884 1853 4118 \r\nQ 1697 4353 1428 4353 \r\nz\r\nM 4250 4750 \r\nL 4750 4750 \r\nL 1831 -91 \r\nL 1331 -91 \r\nL 4250 4750 \r\nz\r\nM 1428 4750 \r\nQ 1922 4750 2215 4408 \r\nQ 2509 4066 2509 3481 \r\nQ 2509 2891 2217 2550 \r\nQ 1925 2209 1428 2209 \r\nQ 931 2209 642 2551 \r\nQ 353 2894 353 3481 \r\nQ 353 4063 643 4406 \r\nQ 934 4750 1428 4750 \r\nz\r\n\" id=\"DejaVuSans-25\" transform=\"scale(0.015625)\"/>\r\n       <path d=\"M 513 4856 \r\nL 1013 4856 \r\nQ 1481 4119 1714 3412 \r\nQ 1947 2706 1947 2009 \r\nQ 1947 1309 1714 600 \r\nQ 1481 -109 1013 -844 \r\nL 513 -844 \r\nQ 928 -128 1133 580 \r\nQ 1338 1288 1338 2009 \r\nQ 1338 2731 1133 3434 \r\nQ 928 4138 513 4856 \r\nz\r\n\" id=\"DejaVuSans-29\" transform=\"scale(0.015625)\"/>\r\n      </defs>\r\n      <use xlink:href=\"#DejaVuSans-50\"/>\r\n      <use x=\"58.552734\" xlink:href=\"#DejaVuSans-72\"/>\r\n      <use x=\"97.416016\" xlink:href=\"#DejaVuSans-65\"/>\r\n      <use x=\"158.939453\" xlink:href=\"#DejaVuSans-63\"/>\r\n      <use x=\"213.919922\" xlink:href=\"#DejaVuSans-69\"/>\r\n      <use x=\"241.703125\" xlink:href=\"#DejaVuSans-73\"/>\r\n      <use x=\"293.802734\" xlink:href=\"#DejaVuSans-69\"/>\r\n      <use x=\"321.585938\" xlink:href=\"#DejaVuSans-f3\"/>\r\n      <use x=\"382.767578\" xlink:href=\"#DejaVuSans-6e\"/>\r\n      <use x=\"446.146484\" xlink:href=\"#DejaVuSans-20\"/>\r\n      <use x=\"477.933594\" xlink:href=\"#DejaVuSans-64\"/>\r\n      <use x=\"541.410156\" xlink:href=\"#DejaVuSans-65\"/>\r\n      <use x=\"602.933594\" xlink:href=\"#DejaVuSans-6c\"/>\r\n      <use x=\"630.716797\" xlink:href=\"#DejaVuSans-20\"/>\r\n      <use x=\"662.503906\" xlink:href=\"#DejaVuSans-64\"/>\r\n      <use x=\"725.980469\" xlink:href=\"#DejaVuSans-69\"/>\r\n      <use x=\"753.763672\" xlink:href=\"#DejaVuSans-73\"/>\r\n      <use x=\"805.863281\" xlink:href=\"#DejaVuSans-70\"/>\r\n      <use x=\"869.339844\" xlink:href=\"#DejaVuSans-61\"/>\r\n      <use x=\"930.619141\" xlink:href=\"#DejaVuSans-72\"/>\r\n      <use x=\"969.482422\" xlink:href=\"#DejaVuSans-6f\"/>\r\n      <use x=\"1030.664062\" xlink:href=\"#DejaVuSans-20\"/>\r\n      <use x=\"1062.451172\" xlink:href=\"#DejaVuSans-28\"/>\r\n      <use x=\"1101.464844\" xlink:href=\"#DejaVuSans-25\"/>\r\n      <use x=\"1196.484375\" xlink:href=\"#DejaVuSans-29\"/>\r\n     </g>\r\n    </g>\r\n   </g>\r\n   <g id=\"matplotlib.axis_2\">\r\n    <g id=\"ytick_1\">\r\n     <g id=\"line2d_9\">\r\n      <defs>\r\n       <path d=\"M 0 0 \r\nL -3.5 0 \r\n\" id=\"mae146475dd\" style=\"stroke:#000000;stroke-width:0.8;\"/>\r\n      </defs>\r\n      <g>\r\n       <use style=\"stroke:#000000;stroke-width:0.8;\" x=\"40.603125\" xlink:href=\"#mae146475dd\" y=\"212.384241\"/>\r\n      </g>\r\n     </g>\r\n     <g id=\"text_10\">\r\n      <!-- 2 -->\r\n      <g transform=\"translate(27.240625 216.183459)scale(0.1 -0.1)\">\r\n       <use xlink:href=\"#DejaVuSans-32\"/>\r\n      </g>\r\n     </g>\r\n    </g>\r\n    <g id=\"ytick_2\">\r\n     <g id=\"line2d_10\">\r\n      <g>\r\n       <use style=\"stroke:#000000;stroke-width:0.8;\" x=\"40.603125\" xlink:href=\"#mae146475dd\" y=\"176.443745\"/>\r\n      </g>\r\n     </g>\r\n     <g id=\"text_11\">\r\n      <!-- 4 -->\r\n      <g transform=\"translate(27.240625 180.242964)scale(0.1 -0.1)\">\r\n       <use xlink:href=\"#DejaVuSans-34\"/>\r\n      </g>\r\n     </g>\r\n    </g>\r\n    <g id=\"ytick_3\">\r\n     <g id=\"line2d_11\">\r\n      <g>\r\n       <use style=\"stroke:#000000;stroke-width:0.8;\" x=\"40.603125\" xlink:href=\"#mae146475dd\" y=\"140.503249\"/>\r\n      </g>\r\n     </g>\r\n     <g id=\"text_12\">\r\n      <!-- 6 -->\r\n      <g transform=\"translate(27.240625 144.302468)scale(0.1 -0.1)\">\r\n       <defs>\r\n        <path d=\"M 2113 2584 \r\nQ 1688 2584 1439 2293 \r\nQ 1191 2003 1191 1497 \r\nQ 1191 994 1439 701 \r\nQ 1688 409 2113 409 \r\nQ 2538 409 2786 701 \r\nQ 3034 994 3034 1497 \r\nQ 3034 2003 2786 2293 \r\nQ 2538 2584 2113 2584 \r\nz\r\nM 3366 4563 \r\nL 3366 3988 \r\nQ 3128 4100 2886 4159 \r\nQ 2644 4219 2406 4219 \r\nQ 1781 4219 1451 3797 \r\nQ 1122 3375 1075 2522 \r\nQ 1259 2794 1537 2939 \r\nQ 1816 3084 2150 3084 \r\nQ 2853 3084 3261 2657 \r\nQ 3669 2231 3669 1497 \r\nQ 3669 778 3244 343 \r\nQ 2819 -91 2113 -91 \r\nQ 1303 -91 875 529 \r\nQ 447 1150 447 2328 \r\nQ 447 3434 972 4092 \r\nQ 1497 4750 2381 4750 \r\nQ 2619 4750 2861 4703 \r\nQ 3103 4656 3366 4563 \r\nz\r\n\" id=\"DejaVuSans-36\" transform=\"scale(0.015625)\"/>\r\n       </defs>\r\n       <use xlink:href=\"#DejaVuSans-36\"/>\r\n      </g>\r\n     </g>\r\n    </g>\r\n    <g id=\"ytick_4\">\r\n     <g id=\"line2d_12\">\r\n      <g>\r\n       <use style=\"stroke:#000000;stroke-width:0.8;\" x=\"40.603125\" xlink:href=\"#mae146475dd\" y=\"104.562753\"/>\r\n      </g>\r\n     </g>\r\n     <g id=\"text_13\">\r\n      <!-- 8 -->\r\n      <g transform=\"translate(27.240625 108.361972)scale(0.1 -0.1)\">\r\n       <defs>\r\n        <path d=\"M 2034 2216 \r\nQ 1584 2216 1326 1975 \r\nQ 1069 1734 1069 1313 \r\nQ 1069 891 1326 650 \r\nQ 1584 409 2034 409 \r\nQ 2484 409 2743 651 \r\nQ 3003 894 3003 1313 \r\nQ 3003 1734 2745 1975 \r\nQ 2488 2216 2034 2216 \r\nz\r\nM 1403 2484 \r\nQ 997 2584 770 2862 \r\nQ 544 3141 544 3541 \r\nQ 544 4100 942 4425 \r\nQ 1341 4750 2034 4750 \r\nQ 2731 4750 3128 4425 \r\nQ 3525 4100 3525 3541 \r\nQ 3525 3141 3298 2862 \r\nQ 3072 2584 2669 2484 \r\nQ 3125 2378 3379 2068 \r\nQ 3634 1759 3634 1313 \r\nQ 3634 634 3220 271 \r\nQ 2806 -91 2034 -91 \r\nQ 1263 -91 848 271 \r\nQ 434 634 434 1313 \r\nQ 434 1759 690 2068 \r\nQ 947 2378 1403 2484 \r\nz\r\nM 1172 3481 \r\nQ 1172 3119 1398 2916 \r\nQ 1625 2713 2034 2713 \r\nQ 2441 2713 2670 2916 \r\nQ 2900 3119 2900 3481 \r\nQ 2900 3844 2670 4047 \r\nQ 2441 4250 2034 4250 \r\nQ 1625 4250 1398 4047 \r\nQ 1172 3844 1172 3481 \r\nz\r\n\" id=\"DejaVuSans-38\" transform=\"scale(0.015625)\"/>\r\n       </defs>\r\n       <use xlink:href=\"#DejaVuSans-38\"/>\r\n      </g>\r\n     </g>\r\n    </g>\r\n    <g id=\"ytick_5\">\r\n     <g id=\"line2d_13\">\r\n      <g>\r\n       <use style=\"stroke:#000000;stroke-width:0.8;\" x=\"40.603125\" xlink:href=\"#mae146475dd\" y=\"68.622257\"/>\r\n      </g>\r\n     </g>\r\n     <g id=\"text_14\">\r\n      <!-- 10 -->\r\n      <g transform=\"translate(20.878125 72.421476)scale(0.1 -0.1)\">\r\n       <defs>\r\n        <path d=\"M 794 531 \r\nL 1825 531 \r\nL 1825 4091 \r\nL 703 3866 \r\nL 703 4441 \r\nL 1819 4666 \r\nL 2450 4666 \r\nL 2450 531 \r\nL 3481 531 \r\nL 3481 0 \r\nL 794 0 \r\nL 794 531 \r\nz\r\n\" id=\"DejaVuSans-31\" transform=\"scale(0.015625)\"/>\r\n       </defs>\r\n       <use xlink:href=\"#DejaVuSans-31\"/>\r\n       <use x=\"63.623047\" xlink:href=\"#DejaVuSans-30\"/>\r\n      </g>\r\n     </g>\r\n    </g>\r\n    <g id=\"ytick_6\">\r\n     <g id=\"line2d_14\">\r\n      <g>\r\n       <use style=\"stroke:#000000;stroke-width:0.8;\" x=\"40.603125\" xlink:href=\"#mae146475dd\" y=\"32.681761\"/>\r\n      </g>\r\n     </g>\r\n     <g id=\"text_15\">\r\n      <!-- 12 -->\r\n      <g transform=\"translate(20.878125 36.48098)scale(0.1 -0.1)\">\r\n       <use xlink:href=\"#DejaVuSans-31\"/>\r\n       <use x=\"63.623047\" xlink:href=\"#DejaVuSans-32\"/>\r\n      </g>\r\n     </g>\r\n    </g>\r\n    <g id=\"text_16\">\r\n     <!-- Número de Goles -->\r\n     <g transform=\"translate(14.798438 174.809531)rotate(-90)scale(0.1 -0.1)\">\r\n      <defs>\r\n       <path d=\"M 628 4666 \r\nL 1478 4666 \r\nL 3547 763 \r\nL 3547 4666 \r\nL 4159 4666 \r\nL 4159 0 \r\nL 3309 0 \r\nL 1241 3903 \r\nL 1241 0 \r\nL 628 0 \r\nL 628 4666 \r\nz\r\n\" id=\"DejaVuSans-4e\" transform=\"scale(0.015625)\"/>\r\n       <path d=\"M 544 1381 \r\nL 544 3500 \r\nL 1119 3500 \r\nL 1119 1403 \r\nQ 1119 906 1312 657 \r\nQ 1506 409 1894 409 \r\nQ 2359 409 2629 706 \r\nQ 2900 1003 2900 1516 \r\nL 2900 3500 \r\nL 3475 3500 \r\nL 3475 0 \r\nL 2900 0 \r\nL 2900 538 \r\nQ 2691 219 2414 64 \r\nQ 2138 -91 1772 -91 \r\nQ 1169 -91 856 284 \r\nQ 544 659 544 1381 \r\nz\r\nM 1991 3584 \r\nL 1991 3584 \r\nz\r\nM 2418 5119 \r\nL 3040 5119 \r\nL 2022 3944 \r\nL 1543 3944 \r\nL 2418 5119 \r\nz\r\n\" id=\"DejaVuSans-fa\" transform=\"scale(0.015625)\"/>\r\n       <path d=\"M 3328 2828 \r\nQ 3544 3216 3844 3400 \r\nQ 4144 3584 4550 3584 \r\nQ 5097 3584 5394 3201 \r\nQ 5691 2819 5691 2113 \r\nL 5691 0 \r\nL 5113 0 \r\nL 5113 2094 \r\nQ 5113 2597 4934 2840 \r\nQ 4756 3084 4391 3084 \r\nQ 3944 3084 3684 2787 \r\nQ 3425 2491 3425 1978 \r\nL 3425 0 \r\nL 2847 0 \r\nL 2847 2094 \r\nQ 2847 2600 2669 2842 \r\nQ 2491 3084 2119 3084 \r\nQ 1678 3084 1418 2786 \r\nQ 1159 2488 1159 1978 \r\nL 1159 0 \r\nL 581 0 \r\nL 581 3500 \r\nL 1159 3500 \r\nL 1159 2956 \r\nQ 1356 3278 1631 3431 \r\nQ 1906 3584 2284 3584 \r\nQ 2666 3584 2933 3390 \r\nQ 3200 3197 3328 2828 \r\nz\r\n\" id=\"DejaVuSans-6d\" transform=\"scale(0.015625)\"/>\r\n       <path d=\"M 3809 666 \r\nL 3809 1919 \r\nL 2778 1919 \r\nL 2778 2438 \r\nL 4434 2438 \r\nL 4434 434 \r\nQ 4069 175 3628 42 \r\nQ 3188 -91 2688 -91 \r\nQ 1594 -91 976 548 \r\nQ 359 1188 359 2328 \r\nQ 359 3472 976 4111 \r\nQ 1594 4750 2688 4750 \r\nQ 3144 4750 3555 4637 \r\nQ 3966 4525 4313 4306 \r\nL 4313 3634 \r\nQ 3963 3931 3569 4081 \r\nQ 3175 4231 2741 4231 \r\nQ 1884 4231 1454 3753 \r\nQ 1025 3275 1025 2328 \r\nQ 1025 1384 1454 906 \r\nQ 1884 428 2741 428 \r\nQ 3075 428 3337 486 \r\nQ 3600 544 3809 666 \r\nz\r\n\" id=\"DejaVuSans-47\" transform=\"scale(0.015625)\"/>\r\n      </defs>\r\n      <use xlink:href=\"#DejaVuSans-4e\"/>\r\n      <use x=\"74.804688\" xlink:href=\"#DejaVuSans-fa\"/>\r\n      <use x=\"138.183594\" xlink:href=\"#DejaVuSans-6d\"/>\r\n      <use x=\"235.595703\" xlink:href=\"#DejaVuSans-65\"/>\r\n      <use x=\"297.119141\" xlink:href=\"#DejaVuSans-72\"/>\r\n      <use x=\"335.982422\" xlink:href=\"#DejaVuSans-6f\"/>\r\n      <use x=\"397.164062\" xlink:href=\"#DejaVuSans-20\"/>\r\n      <use x=\"428.951172\" xlink:href=\"#DejaVuSans-64\"/>\r\n      <use x=\"492.427734\" xlink:href=\"#DejaVuSans-65\"/>\r\n      <use x=\"553.951172\" xlink:href=\"#DejaVuSans-20\"/>\r\n      <use x=\"585.738281\" xlink:href=\"#DejaVuSans-47\"/>\r\n      <use x=\"663.228516\" xlink:href=\"#DejaVuSans-6f\"/>\r\n      <use x=\"724.410156\" xlink:href=\"#DejaVuSans-6c\"/>\r\n      <use x=\"752.193359\" xlink:href=\"#DejaVuSans-65\"/>\r\n      <use x=\"813.716797\" xlink:href=\"#DejaVuSans-73\"/>\r\n     </g>\r\n    </g>\r\n   </g>\r\n   <g id=\"line2d_15\">\r\n    <path clip-path=\"url(#p3f5a04b680)\" d=\"M 67.223979 208.814463 \r\nL 325.099798 138.803229 \r\nL 237.386934 162.616574 \r\nL 283.874752 149.995501 \r\nL 360.184943 129.277892 \r\nL 247.035349 159.997106 \r\nL 192.653374 174.76138 \r\nL 308.434354 143.327765 \r\nL 139.148527 189.28752 \r\nL 215.458718 168.56991 \r\nL 202.301789 172.141912 \r\nL 55.821307 211.910198 \r\n\" style=\"fill:none;stroke:#ff0000;stroke-linecap:square;stroke-width:1.5;\"/>\r\n   </g>\r\n   <g id=\"patch_3\">\r\n    <path d=\"M 40.603125 240.238125 \r\nL 40.603125 22.798125 \r\n\" style=\"fill:none;stroke:#000000;stroke-linecap:square;stroke-linejoin:miter;stroke-width:0.8;\"/>\r\n   </g>\r\n   <g id=\"patch_4\">\r\n    <path d=\"M 375.403125 240.238125 \r\nL 375.403125 22.798125 \r\n\" style=\"fill:none;stroke:#000000;stroke-linecap:square;stroke-linejoin:miter;stroke-width:0.8;\"/>\r\n   </g>\r\n   <g id=\"patch_5\">\r\n    <path d=\"M 40.603125 240.238125 \r\nL 375.403125 240.238125 \r\n\" style=\"fill:none;stroke:#000000;stroke-linecap:square;stroke-linejoin:miter;stroke-width:0.8;\"/>\r\n   </g>\r\n   <g id=\"patch_6\">\r\n    <path d=\"M 40.603125 22.798125 \r\nL 375.403125 22.798125 \r\n\" style=\"fill:none;stroke:#000000;stroke-linecap:square;stroke-linejoin:miter;stroke-width:0.8;\"/>\r\n   </g>\r\n   <g id=\"text_17\">\r\n    <!-- Correlación Precisión del disparo y goles. Regresión lineal -->\r\n    <g transform=\"translate(35.314687 16.798125)scale(0.12 -0.12)\">\r\n     <defs>\r\n      <path d=\"M 4122 4306 \r\nL 4122 3641 \r\nQ 3803 3938 3442 4084 \r\nQ 3081 4231 2675 4231 \r\nQ 1875 4231 1450 3742 \r\nQ 1025 3253 1025 2328 \r\nQ 1025 1406 1450 917 \r\nQ 1875 428 2675 428 \r\nQ 3081 428 3442 575 \r\nQ 3803 722 4122 1019 \r\nL 4122 359 \r\nQ 3791 134 3420 21 \r\nQ 3050 -91 2638 -91 \r\nQ 1578 -91 968 557 \r\nQ 359 1206 359 2328 \r\nQ 359 3453 968 4101 \r\nQ 1578 4750 2638 4750 \r\nQ 3056 4750 3426 4639 \r\nQ 3797 4528 4122 4306 \r\nz\r\n\" id=\"DejaVuSans-43\" transform=\"scale(0.015625)\"/>\r\n      <path d=\"M 2059 -325 \r\nQ 1816 -950 1584 -1140 \r\nQ 1353 -1331 966 -1331 \r\nL 506 -1331 \r\nL 506 -850 \r\nL 844 -850 \r\nQ 1081 -850 1212 -737 \r\nQ 1344 -625 1503 -206 \r\nL 1606 56 \r\nL 191 3500 \r\nL 800 3500 \r\nL 1894 763 \r\nL 2988 3500 \r\nL 3597 3500 \r\nL 2059 -325 \r\nz\r\n\" id=\"DejaVuSans-79\" transform=\"scale(0.015625)\"/>\r\n      <path d=\"M 2906 1791 \r\nQ 2906 2416 2648 2759 \r\nQ 2391 3103 1925 3103 \r\nQ 1463 3103 1205 2759 \r\nQ 947 2416 947 1791 \r\nQ 947 1169 1205 825 \r\nQ 1463 481 1925 481 \r\nQ 2391 481 2648 825 \r\nQ 2906 1169 2906 1791 \r\nz\r\nM 3481 434 \r\nQ 3481 -459 3084 -895 \r\nQ 2688 -1331 1869 -1331 \r\nQ 1566 -1331 1297 -1286 \r\nQ 1028 -1241 775 -1147 \r\nL 775 -588 \r\nQ 1028 -725 1275 -790 \r\nQ 1522 -856 1778 -856 \r\nQ 2344 -856 2625 -561 \r\nQ 2906 -266 2906 331 \r\nL 2906 616 \r\nQ 2728 306 2450 153 \r\nQ 2172 0 1784 0 \r\nQ 1141 0 747 490 \r\nQ 353 981 353 1791 \r\nQ 353 2603 747 3093 \r\nQ 1141 3584 1784 3584 \r\nQ 2172 3584 2450 3431 \r\nQ 2728 3278 2906 2969 \r\nL 2906 3500 \r\nL 3481 3500 \r\nL 3481 434 \r\nz\r\n\" id=\"DejaVuSans-67\" transform=\"scale(0.015625)\"/>\r\n      <path d=\"M 684 794 \r\nL 1344 794 \r\nL 1344 0 \r\nL 684 0 \r\nL 684 794 \r\nz\r\n\" id=\"DejaVuSans-2e\" transform=\"scale(0.015625)\"/>\r\n      <path d=\"M 2841 2188 \r\nQ 3044 2119 3236 1894 \r\nQ 3428 1669 3622 1275 \r\nL 4263 0 \r\nL 3584 0 \r\nL 2988 1197 \r\nQ 2756 1666 2539 1819 \r\nQ 2322 1972 1947 1972 \r\nL 1259 1972 \r\nL 1259 0 \r\nL 628 0 \r\nL 628 4666 \r\nL 2053 4666 \r\nQ 2853 4666 3247 4331 \r\nQ 3641 3997 3641 3322 \r\nQ 3641 2881 3436 2590 \r\nQ 3231 2300 2841 2188 \r\nz\r\nM 1259 4147 \r\nL 1259 2491 \r\nL 2053 2491 \r\nQ 2509 2491 2742 2702 \r\nQ 2975 2913 2975 3322 \r\nQ 2975 3731 2742 3939 \r\nQ 2509 4147 2053 4147 \r\nL 1259 4147 \r\nz\r\n\" id=\"DejaVuSans-52\" transform=\"scale(0.015625)\"/>\r\n     </defs>\r\n     <use xlink:href=\"#DejaVuSans-43\"/>\r\n     <use x=\"69.824219\" xlink:href=\"#DejaVuSans-6f\"/>\r\n     <use x=\"131.005859\" xlink:href=\"#DejaVuSans-72\"/>\r\n     <use x=\"170.369141\" xlink:href=\"#DejaVuSans-72\"/>\r\n     <use x=\"209.232422\" xlink:href=\"#DejaVuSans-65\"/>\r\n     <use x=\"270.755859\" xlink:href=\"#DejaVuSans-6c\"/>\r\n     <use x=\"298.539062\" xlink:href=\"#DejaVuSans-61\"/>\r\n     <use x=\"359.818359\" xlink:href=\"#DejaVuSans-63\"/>\r\n     <use x=\"414.798828\" xlink:href=\"#DejaVuSans-69\"/>\r\n     <use x=\"442.582031\" xlink:href=\"#DejaVuSans-f3\"/>\r\n     <use x=\"503.763672\" xlink:href=\"#DejaVuSans-6e\"/>\r\n     <use x=\"567.142578\" xlink:href=\"#DejaVuSans-20\"/>\r\n     <use x=\"598.929688\" xlink:href=\"#DejaVuSans-50\"/>\r\n     <use x=\"657.482422\" xlink:href=\"#DejaVuSans-72\"/>\r\n     <use x=\"696.345703\" xlink:href=\"#DejaVuSans-65\"/>\r\n     <use x=\"757.869141\" xlink:href=\"#DejaVuSans-63\"/>\r\n     <use x=\"812.849609\" xlink:href=\"#DejaVuSans-69\"/>\r\n     <use x=\"840.632812\" xlink:href=\"#DejaVuSans-73\"/>\r\n     <use x=\"892.732422\" xlink:href=\"#DejaVuSans-69\"/>\r\n     <use x=\"920.515625\" xlink:href=\"#DejaVuSans-f3\"/>\r\n     <use x=\"981.697266\" xlink:href=\"#DejaVuSans-6e\"/>\r\n     <use x=\"1045.076172\" xlink:href=\"#DejaVuSans-20\"/>\r\n     <use x=\"1076.863281\" xlink:href=\"#DejaVuSans-64\"/>\r\n     <use x=\"1140.339844\" xlink:href=\"#DejaVuSans-65\"/>\r\n     <use x=\"1201.863281\" xlink:href=\"#DejaVuSans-6c\"/>\r\n     <use x=\"1229.646484\" xlink:href=\"#DejaVuSans-20\"/>\r\n     <use x=\"1261.433594\" xlink:href=\"#DejaVuSans-64\"/>\r\n     <use x=\"1324.910156\" xlink:href=\"#DejaVuSans-69\"/>\r\n     <use x=\"1352.693359\" xlink:href=\"#DejaVuSans-73\"/>\r\n     <use x=\"1404.792969\" xlink:href=\"#DejaVuSans-70\"/>\r\n     <use x=\"1468.269531\" xlink:href=\"#DejaVuSans-61\"/>\r\n     <use x=\"1529.548828\" xlink:href=\"#DejaVuSans-72\"/>\r\n     <use x=\"1568.412109\" xlink:href=\"#DejaVuSans-6f\"/>\r\n     <use x=\"1629.59375\" xlink:href=\"#DejaVuSans-20\"/>\r\n     <use x=\"1661.380859\" xlink:href=\"#DejaVuSans-79\"/>\r\n     <use x=\"1720.560547\" xlink:href=\"#DejaVuSans-20\"/>\r\n     <use x=\"1752.347656\" xlink:href=\"#DejaVuSans-67\"/>\r\n     <use x=\"1815.824219\" xlink:href=\"#DejaVuSans-6f\"/>\r\n     <use x=\"1877.005859\" xlink:href=\"#DejaVuSans-6c\"/>\r\n     <use x=\"1904.789062\" xlink:href=\"#DejaVuSans-65\"/>\r\n     <use x=\"1966.3125\" xlink:href=\"#DejaVuSans-73\"/>\r\n     <use x=\"2018.412109\" xlink:href=\"#DejaVuSans-2e\"/>\r\n     <use x=\"2050.199219\" xlink:href=\"#DejaVuSans-20\"/>\r\n     <use x=\"2081.986328\" xlink:href=\"#DejaVuSans-52\"/>\r\n     <use x=\"2146.96875\" xlink:href=\"#DejaVuSans-65\"/>\r\n     <use x=\"2208.492188\" xlink:href=\"#DejaVuSans-67\"/>\r\n     <use x=\"2271.96875\" xlink:href=\"#DejaVuSans-72\"/>\r\n     <use x=\"2310.832031\" xlink:href=\"#DejaVuSans-65\"/>\r\n     <use x=\"2372.355469\" xlink:href=\"#DejaVuSans-73\"/>\r\n     <use x=\"2424.455078\" xlink:href=\"#DejaVuSans-69\"/>\r\n     <use x=\"2452.238281\" xlink:href=\"#DejaVuSans-f3\"/>\r\n     <use x=\"2513.419922\" xlink:href=\"#DejaVuSans-6e\"/>\r\n     <use x=\"2576.798828\" xlink:href=\"#DejaVuSans-20\"/>\r\n     <use x=\"2608.585938\" xlink:href=\"#DejaVuSans-6c\"/>\r\n     <use x=\"2636.369141\" xlink:href=\"#DejaVuSans-69\"/>\r\n     <use x=\"2664.152344\" xlink:href=\"#DejaVuSans-6e\"/>\r\n     <use x=\"2727.53125\" xlink:href=\"#DejaVuSans-65\"/>\r\n     <use x=\"2789.054688\" xlink:href=\"#DejaVuSans-61\"/>\r\n     <use x=\"2850.333984\" xlink:href=\"#DejaVuSans-6c\"/>\r\n    </g>\r\n   </g>\r\n  </g>\r\n </g>\r\n <defs>\r\n  <clipPath id=\"p3f5a04b680\">\r\n   <rect height=\"217.44\" width=\"334.8\" x=\"40.603125\" y=\"22.798125\"/>\r\n  </clipPath>\r\n </defs>\r\n</svg>\r\n",
      "image/png": "[encoded data removed]"
     },
     "metadata": {
      "needs_background": "light"
     }
    }
   ],
   "source": [
    "linear_regressor = LinearRegression(n_jobs = -1)  # create object for the class\n",
    "linear_regressor.fit(X_train, y_train)  # perform linear regression\n",
    "y_pred = linear_regressor.predict(X_train)  # make predictions\n",
    "plt.scatter(X_train, y_train)\n",
    "plt.title('Precisión del disparo y goles. Regresión lineal')\n",
    "plt.xlabel('Precisión del disparo (%)')\n",
    "plt.ylabel('Número de Goles')\n",
    "\n",
    "plt.plot(X_train, y_pred, color='red')\n",
    "\n",
    "plt.show()"
   ]
  },
  {
   "cell_type": "code",
   "execution_count": 163,
   "metadata": {},
   "outputs": [
    {
     "output_type": "execute_result",
     "data": {
      "text/plain": [
       "26.640163529967676"
      ]
     },
     "metadata": {},
     "execution_count": 163
    }
   ],
   "source": [
    "linear_regressor.score(X_train, y_train) * 100"
   ]
  },
  {
   "cell_type": "code",
   "execution_count": 164,
   "metadata": {},
   "outputs": [
    {
     "output_type": "execute_result",
     "data": {
      "text/plain": [
       "array([-0.78294701])"
      ]
     },
     "metadata": {},
     "execution_count": 164
    }
   ],
   "source": [
    "linear_regressor.intercept_"
   ]
  },
  {
   "cell_type": "code",
   "execution_count": 165,
   "metadata": {},
   "outputs": [
    {
     "output_type": "execute_result",
     "data": {
      "text/plain": [
       "array([[0.13251539]])"
      ]
     },
     "metadata": {},
     "execution_count": 165
    }
   ],
   "source": [
    "linear_regressor.coef_"
   ]
  },
  {
   "source": [
    "### El porcentaje de aciertos con este modelo es bajo. Únicamente del 26,64%\n",
    "#### Por cada porcentaje de disparo preciso a puerta el número de goles aumenta un 0.1398144"
   ],
   "cell_type": "markdown",
   "metadata": {}
  },
  {
   "source": [
    "### Regresión no lineal con polinomio"
   ],
   "cell_type": "markdown",
   "metadata": {}
  },
  {
   "cell_type": "code",
   "execution_count": 166,
   "metadata": {},
   "outputs": [
    {
     "output_type": "stream",
     "name": "stdout",
     "text": [
      "[[1.00000000e+00 2.25000000e+01 5.06250000e+02 1.13906250e+04\n  2.56289062e+05 5.76650391e+06]\n [1.00000000e+00 5.19000000e+01 2.69361000e+03 1.39798359e+05\n  7.25553483e+06 3.76562258e+08]\n [1.00000000e+00 4.19000000e+01 1.75561000e+03 7.35600590e+04\n  3.08216647e+06 1.29142775e+08]\n [1.00000000e+00 4.72000000e+01 2.22784000e+03 1.05154048e+05\n  4.96327107e+06 2.34266394e+08]\n [1.00000000e+00 5.59000000e+01 3.12481000e+03 1.74676879e+05\n  9.76443754e+06 5.45832058e+08]\n [1.00000000e+00 4.30000000e+01 1.84900000e+03 7.95070000e+04\n  3.41880100e+06 1.47008443e+08]\n [1.00000000e+00 3.68000000e+01 1.35424000e+03 4.98360320e+04\n  1.83396598e+06 6.74899480e+07]\n [1.00000000e+00 5.00000000e+01 2.50000000e+03 1.25000000e+05\n  6.25000000e+06 3.12500000e+08]\n [1.00000000e+00 3.07000000e+01 9.42490000e+02 2.89344430e+04\n  8.88287400e+05 2.72704232e+07]\n [1.00000000e+00 3.94000000e+01 1.55236000e+03 6.11629840e+04\n  2.40982157e+06 9.49469698e+07]\n [1.00000000e+00 3.79000000e+01 1.43641000e+03 5.44399390e+04\n  2.06327369e+06 7.81980728e+07]\n [1.00000000e+00 2.12000000e+01 4.49440000e+02 9.52812800e+03\n  2.01996314e+05 4.28232185e+06]]\n(12, 6)\ny_pred (12, 1)\nScore: 0.9179410101164655\n"
     ]
    }
   ],
   "source": [
    "# Paso nº 1 - Llamamos a fit_transform \n",
    "# Calculamos las pendientes de nuestras Xn\n",
    "polinominal_model = PolynomialFeatures(degree) \n",
    "X_poly = polinominal_model.fit_transform(X_train.reshape(-1, 1), y_train)\n",
    "\n",
    "#######\n",
    "print(X_poly)\n",
    "print(X_poly.shape)\n",
    "\n",
    "# Paso nº2\n",
    "# Llamar a la regresión lineal entrenándola con la salida del fit_transform\n",
    "lin_reg_model = LinearRegression()\n",
    "lin_reg_model.fit(X_poly, y_train)\n",
    "y_pred = lin_reg_model.predict(X_poly)\n",
    "\n",
    "print(\"y_pred\", y_pred.shape)\n",
    "print(\"Score:\", r2_score(y_train, y_pred))\n",
    "\n"
   ]
  },
  {
   "cell_type": "code",
   "execution_count": 167,
   "metadata": {},
   "outputs": [
    {
     "output_type": "display_data",
     "data": {
      "text/plain": "<Figure size 432x288 with 1 Axes>",
      "image/svg+xml": "<?xml version=\"1.0\" encoding=\"utf-8\" standalone=\"no\"?>\r\n<!DOCTYPE svg PUBLIC \"-//W3C//DTD SVG 1.1//EN\"\r\n  \"http://www.w3.org/Graphics/SVG/1.1/DTD/svg11.dtd\">\r\n<svg height=\"278.194375pt\" version=\"1.1\" viewBox=\"0 0 397.606875 278.194375\" width=\"397.606875pt\" xmlns=\"http://www.w3.org/2000/svg\" xmlns:xlink=\"http://www.w3.org/1999/xlink\">\r\n <metadata>\r\n  <rdf:RDF xmlns:cc=\"http://creativecommons.org/ns#\" xmlns:dc=\"http://purl.org/dc/elements/1.1/\" xmlns:rdf=\"http://www.w3.org/1999/02/22-rdf-syntax-ns#\">\r\n   <cc:Work>\r\n    <dc:type rdf:resource=\"http://purl.org/dc/dcmitype/StillImage\"/>\r\n    <dc:date>2021-06-16T11:23:27.884851</dc:date>\r\n    <dc:format>image/svg+xml</dc:format>\r\n    <dc:creator>\r\n     <cc:Agent>\r\n      <dc:title>Matplotlib v3.4.1, https://matplotlib.org/</dc:title>\r\n     </cc:Agent>\r\n    </dc:creator>\r\n   </cc:Work>\r\n  </rdf:RDF>\r\n </metadata>\r\n <defs>\r\n  <style type=\"text/css\">*{stroke-linecap:butt;stroke-linejoin:round;}</style>\r\n </defs>\r\n <g id=\"figure_1\">\r\n  <g id=\"patch_1\">\r\n   <path d=\"M 0 278.194375 \r\nL 397.606875 278.194375 \r\nL 397.606875 0 \r\nL 0 0 \r\nz\r\n\" style=\"fill:none;\"/>\r\n  </g>\r\n  <g id=\"axes_1\">\r\n   <g id=\"patch_2\">\r\n    <path d=\"M 40.603125 240.238125 \r\nL 375.403125 240.238125 \r\nL 375.403125 22.798125 \r\nL 40.603125 22.798125 \r\nz\r\n\" style=\"fill:#ffffff;\"/>\r\n   </g>\r\n   <g id=\"PathCollection_1\">\r\n    <defs>\r\n     <path d=\"M 0 3 \r\nC 0.795609 3 1.55874 2.683901 2.12132 2.12132 \r\nC 2.683901 1.55874 3 0.795609 3 0 \r\nC 3 -0.795609 2.683901 -1.55874 2.12132 -2.12132 \r\nC 1.55874 -2.683901 0.795609 -3 0 -3 \r\nC -0.795609 -3 -1.55874 -2.683901 -2.12132 -2.12132 \r\nC -2.683901 -1.55874 -3 -0.795609 -3 0 \r\nC -3 0.795609 -2.683901 1.55874 -2.12132 2.12132 \r\nC -1.55874 2.683901 -0.795609 3 0 3 \r\nz\r\n\" id=\"m7f9f992940\" style=\"stroke:#0000ff;\"/>\r\n    </defs>\r\n    <g clip-path=\"url(#p9aed9f3aa4)\">\r\n     <use style=\"fill:#0000ff;stroke:#0000ff;\" x=\"55.821307\" xlink:href=\"#m7f9f992940\" y=\"212.384241\"/>\r\n     <use style=\"fill:#0000ff;stroke:#0000ff;\" x=\"67.223979\" xlink:href=\"#m7f9f992940\" y=\"158.473497\"/>\r\n     <use style=\"fill:#0000ff;stroke:#0000ff;\" x=\"139.148527\" xlink:href=\"#m7f9f992940\" y=\"158.473497\"/>\r\n     <use style=\"fill:#0000ff;stroke:#0000ff;\" x=\"192.653374\" xlink:href=\"#m7f9f992940\" y=\"230.354489\"/>\r\n     <use style=\"fill:#0000ff;stroke:#0000ff;\" x=\"202.301789\" xlink:href=\"#m7f9f992940\" y=\"194.413993\"/>\r\n     <use style=\"fill:#0000ff;stroke:#0000ff;\" x=\"215.458718\" xlink:href=\"#m7f9f992940\" y=\"212.384241\"/>\r\n     <use style=\"fill:#0000ff;stroke:#0000ff;\" x=\"237.386934\" xlink:href=\"#m7f9f992940\" y=\"176.443745\"/>\r\n     <use style=\"fill:#0000ff;stroke:#0000ff;\" x=\"247.035349\" xlink:href=\"#m7f9f992940\" y=\"140.503249\"/>\r\n     <use style=\"fill:#0000ff;stroke:#0000ff;\" x=\"283.874752\" xlink:href=\"#m7f9f992940\" y=\"158.473497\"/>\r\n     <use style=\"fill:#0000ff;stroke:#0000ff;\" x=\"308.434354\" xlink:href=\"#m7f9f992940\" y=\"158.473497\"/>\r\n     <use style=\"fill:#0000ff;stroke:#0000ff;\" x=\"325.099798\" xlink:href=\"#m7f9f992940\" y=\"176.443745\"/>\r\n     <use style=\"fill:#0000ff;stroke:#0000ff;\" x=\"360.184943\" xlink:href=\"#m7f9f992940\" y=\"32.681761\"/>\r\n    </g>\r\n   </g>\r\n   <g id=\"PathCollection_2\">\r\n    <defs>\r\n     <path d=\"M 0 3 \r\nC 0.795609 3 1.55874 2.683901 2.12132 2.12132 \r\nC 2.683901 1.55874 3 0.795609 3 0 \r\nC 3 -0.795609 2.683901 -1.55874 2.12132 -2.12132 \r\nC 1.55874 -2.683901 0.795609 -3 0 -3 \r\nC -0.795609 -3 -1.55874 -2.683901 -2.12132 -2.12132 \r\nC -2.683901 -1.55874 -3 -0.795609 -3 0 \r\nC -3 0.795609 -2.683901 1.55874 -2.12132 2.12132 \r\nC -1.55874 2.683901 -0.795609 3 0 3 \r\nz\r\n\" id=\"ma9adab7a46\" style=\"stroke:#ff0000;\"/>\r\n    </defs>\r\n    <g clip-path=\"url(#p9aed9f3aa4)\">\r\n     <use style=\"fill:#ff0000;stroke:#ff0000;\" x=\"55.821307\" xlink:href=\"#ma9adab7a46\" y=\"224.68754\"/>\r\n     <use style=\"fill:#ff0000;stroke:#ff0000;\" x=\"67.223979\" xlink:href=\"#ma9adab7a46\" y=\"140.677303\"/>\r\n     <use style=\"fill:#ff0000;stroke:#ff0000;\" x=\"139.148527\" xlink:href=\"#ma9adab7a46\" y=\"174.380809\"/>\r\n     <use style=\"fill:#ff0000;stroke:#ff0000;\" x=\"192.653374\" xlink:href=\"#ma9adab7a46\" y=\"212.414701\"/>\r\n     <use style=\"fill:#ff0000;stroke:#ff0000;\" x=\"202.301789\" xlink:href=\"#ma9adab7a46\" y=\"206.008909\"/>\r\n     <use style=\"fill:#ff0000;stroke:#ff0000;\" x=\"215.458718\" xlink:href=\"#ma9adab7a46\" y=\"193.804777\"/>\r\n     <use style=\"fill:#ff0000;stroke:#ff0000;\" x=\"237.386934\" xlink:href=\"#ma9adab7a46\" y=\"171.498732\"/>\r\n     <use style=\"fill:#ff0000;stroke:#ff0000;\" x=\"247.035349\" xlink:href=\"#ma9adab7a46\" y=\"163.502186\"/>\r\n     <use style=\"fill:#ff0000;stroke:#ff0000;\" x=\"283.874752\" xlink:href=\"#ma9adab7a46\" y=\"156.449643\"/>\r\n     <use style=\"fill:#ff0000;stroke:#ff0000;\" x=\"308.434354\" xlink:href=\"#ma9adab7a46\" y=\"166.413575\"/>\r\n     <use style=\"fill:#ff0000;stroke:#ff0000;\" x=\"325.099798\" xlink:href=\"#ma9adab7a46\" y=\"164.047055\"/>\r\n     <use style=\"fill:#ff0000;stroke:#ff0000;\" x=\"360.184943\" xlink:href=\"#ma9adab7a46\" y=\"35.618222\"/>\r\n    </g>\r\n   </g>\r\n   <g id=\"matplotlib.axis_1\">\r\n    <g id=\"xtick_1\">\r\n     <g id=\"line2d_1\">\r\n      <defs>\r\n       <path d=\"M 0 0 \r\nL 0 3.5 \r\n\" id=\"md56a7d75d5\" style=\"stroke:#000000;stroke-width:0.8;\"/>\r\n      </defs>\r\n      <g>\r\n       <use style=\"stroke:#000000;stroke-width:0.8;\" x=\"45.295763\" xlink:href=\"#md56a7d75d5\" y=\"240.238125\"/>\r\n      </g>\r\n     </g>\r\n     <g id=\"text_1\">\r\n      <!-- 20 -->\r\n      <g transform=\"translate(38.933263 254.836562)scale(0.1 -0.1)\">\r\n       <defs>\r\n        <path d=\"M 1228 531 \r\nL 3431 531 \r\nL 3431 0 \r\nL 469 0 \r\nL 469 531 \r\nQ 828 903 1448 1529 \r\nQ 2069 2156 2228 2338 \r\nQ 2531 2678 2651 2914 \r\nQ 2772 3150 2772 3378 \r\nQ 2772 3750 2511 3984 \r\nQ 2250 4219 1831 4219 \r\nQ 1534 4219 1204 4116 \r\nQ 875 4013 500 3803 \r\nL 500 4441 \r\nQ 881 4594 1212 4672 \r\nQ 1544 4750 1819 4750 \r\nQ 2544 4750 2975 4387 \r\nQ 3406 4025 3406 3419 \r\nQ 3406 3131 3298 2873 \r\nQ 3191 2616 2906 2266 \r\nQ 2828 2175 2409 1742 \r\nQ 1991 1309 1228 531 \r\nz\r\n\" id=\"DejaVuSans-32\" transform=\"scale(0.015625)\"/>\r\n        <path d=\"M 2034 4250 \r\nQ 1547 4250 1301 3770 \r\nQ 1056 3291 1056 2328 \r\nQ 1056 1369 1301 889 \r\nQ 1547 409 2034 409 \r\nQ 2525 409 2770 889 \r\nQ 3016 1369 3016 2328 \r\nQ 3016 3291 2770 3770 \r\nQ 2525 4250 2034 4250 \r\nz\r\nM 2034 4750 \r\nQ 2819 4750 3233 4129 \r\nQ 3647 3509 3647 2328 \r\nQ 3647 1150 3233 529 \r\nQ 2819 -91 2034 -91 \r\nQ 1250 -91 836 529 \r\nQ 422 1150 422 2328 \r\nQ 422 3509 836 4129 \r\nQ 1250 4750 2034 4750 \r\nz\r\n\" id=\"DejaVuSans-30\" transform=\"scale(0.015625)\"/>\r\n       </defs>\r\n       <use xlink:href=\"#DejaVuSans-32\"/>\r\n       <use x=\"63.623047\" xlink:href=\"#DejaVuSans-30\"/>\r\n      </g>\r\n     </g>\r\n    </g>\r\n    <g id=\"xtick_2\">\r\n     <g id=\"line2d_2\">\r\n      <g>\r\n       <use style=\"stroke:#000000;stroke-width:0.8;\" x=\"89.152195\" xlink:href=\"#md56a7d75d5\" y=\"240.238125\"/>\r\n      </g>\r\n     </g>\r\n     <g id=\"text_2\">\r\n      <!-- 25 -->\r\n      <g transform=\"translate(82.789695 254.836562)scale(0.1 -0.1)\">\r\n       <defs>\r\n        <path d=\"M 691 4666 \r\nL 3169 4666 \r\nL 3169 4134 \r\nL 1269 4134 \r\nL 1269 2991 \r\nQ 1406 3038 1543 3061 \r\nQ 1681 3084 1819 3084 \r\nQ 2600 3084 3056 2656 \r\nQ 3513 2228 3513 1497 \r\nQ 3513 744 3044 326 \r\nQ 2575 -91 1722 -91 \r\nQ 1428 -91 1123 -41 \r\nQ 819 9 494 109 \r\nL 494 744 \r\nQ 775 591 1075 516 \r\nQ 1375 441 1709 441 \r\nQ 2250 441 2565 725 \r\nQ 2881 1009 2881 1497 \r\nQ 2881 1984 2565 2268 \r\nQ 2250 2553 1709 2553 \r\nQ 1456 2553 1204 2497 \r\nQ 953 2441 691 2322 \r\nL 691 4666 \r\nz\r\n\" id=\"DejaVuSans-35\" transform=\"scale(0.015625)\"/>\r\n       </defs>\r\n       <use xlink:href=\"#DejaVuSans-32\"/>\r\n       <use x=\"63.623047\" xlink:href=\"#DejaVuSans-35\"/>\r\n      </g>\r\n     </g>\r\n    </g>\r\n    <g id=\"xtick_3\">\r\n     <g id=\"line2d_3\">\r\n      <g>\r\n       <use style=\"stroke:#000000;stroke-width:0.8;\" x=\"133.008627\" xlink:href=\"#md56a7d75d5\" y=\"240.238125\"/>\r\n      </g>\r\n     </g>\r\n     <g id=\"text_3\">\r\n      <!-- 30 -->\r\n      <g transform=\"translate(126.646127 254.836562)scale(0.1 -0.1)\">\r\n       <defs>\r\n        <path d=\"M 2597 2516 \r\nQ 3050 2419 3304 2112 \r\nQ 3559 1806 3559 1356 \r\nQ 3559 666 3084 287 \r\nQ 2609 -91 1734 -91 \r\nQ 1441 -91 1130 -33 \r\nQ 819 25 488 141 \r\nL 488 750 \r\nQ 750 597 1062 519 \r\nQ 1375 441 1716 441 \r\nQ 2309 441 2620 675 \r\nQ 2931 909 2931 1356 \r\nQ 2931 1769 2642 2001 \r\nQ 2353 2234 1838 2234 \r\nL 1294 2234 \r\nL 1294 2753 \r\nL 1863 2753 \r\nQ 2328 2753 2575 2939 \r\nQ 2822 3125 2822 3475 \r\nQ 2822 3834 2567 4026 \r\nQ 2313 4219 1838 4219 \r\nQ 1578 4219 1281 4162 \r\nQ 984 4106 628 3988 \r\nL 628 4550 \r\nQ 988 4650 1302 4700 \r\nQ 1616 4750 1894 4750 \r\nQ 2613 4750 3031 4423 \r\nQ 3450 4097 3450 3541 \r\nQ 3450 3153 3228 2886 \r\nQ 3006 2619 2597 2516 \r\nz\r\n\" id=\"DejaVuSans-33\" transform=\"scale(0.015625)\"/>\r\n       </defs>\r\n       <use xlink:href=\"#DejaVuSans-33\"/>\r\n       <use x=\"63.623047\" xlink:href=\"#DejaVuSans-30\"/>\r\n      </g>\r\n     </g>\r\n    </g>\r\n    <g id=\"xtick_4\">\r\n     <g id=\"line2d_4\">\r\n      <g>\r\n       <use style=\"stroke:#000000;stroke-width:0.8;\" x=\"176.865058\" xlink:href=\"#md56a7d75d5\" y=\"240.238125\"/>\r\n      </g>\r\n     </g>\r\n     <g id=\"text_4\">\r\n      <!-- 35 -->\r\n      <g transform=\"translate(170.502558 254.836562)scale(0.1 -0.1)\">\r\n       <use xlink:href=\"#DejaVuSans-33\"/>\r\n       <use x=\"63.623047\" xlink:href=\"#DejaVuSans-35\"/>\r\n      </g>\r\n     </g>\r\n    </g>\r\n    <g id=\"xtick_5\">\r\n     <g id=\"line2d_5\">\r\n      <g>\r\n       <use style=\"stroke:#000000;stroke-width:0.8;\" x=\"220.72149\" xlink:href=\"#md56a7d75d5\" y=\"240.238125\"/>\r\n      </g>\r\n     </g>\r\n     <g id=\"text_5\">\r\n      <!-- 40 -->\r\n      <g transform=\"translate(214.35899 254.836562)scale(0.1 -0.1)\">\r\n       <defs>\r\n        <path d=\"M 2419 4116 \r\nL 825 1625 \r\nL 2419 1625 \r\nL 2419 4116 \r\nz\r\nM 2253 4666 \r\nL 3047 4666 \r\nL 3047 1625 \r\nL 3713 1625 \r\nL 3713 1100 \r\nL 3047 1100 \r\nL 3047 0 \r\nL 2419 0 \r\nL 2419 1100 \r\nL 313 1100 \r\nL 313 1709 \r\nL 2253 4666 \r\nz\r\n\" id=\"DejaVuSans-34\" transform=\"scale(0.015625)\"/>\r\n       </defs>\r\n       <use xlink:href=\"#DejaVuSans-34\"/>\r\n       <use x=\"63.623047\" xlink:href=\"#DejaVuSans-30\"/>\r\n      </g>\r\n     </g>\r\n    </g>\r\n    <g id=\"xtick_6\">\r\n     <g id=\"line2d_6\">\r\n      <g>\r\n       <use style=\"stroke:#000000;stroke-width:0.8;\" x=\"264.577922\" xlink:href=\"#md56a7d75d5\" y=\"240.238125\"/>\r\n      </g>\r\n     </g>\r\n     <g id=\"text_6\">\r\n      <!-- 45 -->\r\n      <g transform=\"translate(258.215422 254.836562)scale(0.1 -0.1)\">\r\n       <use xlink:href=\"#DejaVuSans-34\"/>\r\n       <use x=\"63.623047\" xlink:href=\"#DejaVuSans-35\"/>\r\n      </g>\r\n     </g>\r\n    </g>\r\n    <g id=\"xtick_7\">\r\n     <g id=\"line2d_7\">\r\n      <g>\r\n       <use style=\"stroke:#000000;stroke-width:0.8;\" x=\"308.434354\" xlink:href=\"#md56a7d75d5\" y=\"240.238125\"/>\r\n      </g>\r\n     </g>\r\n     <g id=\"text_7\">\r\n      <!-- 50 -->\r\n      <g transform=\"translate(302.071854 254.836562)scale(0.1 -0.1)\">\r\n       <use xlink:href=\"#DejaVuSans-35\"/>\r\n       <use x=\"63.623047\" xlink:href=\"#DejaVuSans-30\"/>\r\n      </g>\r\n     </g>\r\n    </g>\r\n    <g id=\"xtick_8\">\r\n     <g id=\"line2d_8\">\r\n      <g>\r\n       <use style=\"stroke:#000000;stroke-width:0.8;\" x=\"352.290785\" xlink:href=\"#md56a7d75d5\" y=\"240.238125\"/>\r\n      </g>\r\n     </g>\r\n     <g id=\"text_8\">\r\n      <!-- 55 -->\r\n      <g transform=\"translate(345.928285 254.836562)scale(0.1 -0.1)\">\r\n       <use xlink:href=\"#DejaVuSans-35\"/>\r\n       <use x=\"63.623047\" xlink:href=\"#DejaVuSans-35\"/>\r\n      </g>\r\n     </g>\r\n    </g>\r\n    <g id=\"text_9\">\r\n     <!-- Precisión del disparo (%) -->\r\n     <g transform=\"translate(146.228125 268.914687)scale(0.1 -0.1)\">\r\n      <defs>\r\n       <path d=\"M 1259 4147 \r\nL 1259 2394 \r\nL 2053 2394 \r\nQ 2494 2394 2734 2622 \r\nQ 2975 2850 2975 3272 \r\nQ 2975 3691 2734 3919 \r\nQ 2494 4147 2053 4147 \r\nL 1259 4147 \r\nz\r\nM 628 4666 \r\nL 2053 4666 \r\nQ 2838 4666 3239 4311 \r\nQ 3641 3956 3641 3272 \r\nQ 3641 2581 3239 2228 \r\nQ 2838 1875 2053 1875 \r\nL 1259 1875 \r\nL 1259 0 \r\nL 628 0 \r\nL 628 4666 \r\nz\r\n\" id=\"DejaVuSans-50\" transform=\"scale(0.015625)\"/>\r\n       <path d=\"M 2631 2963 \r\nQ 2534 3019 2420 3045 \r\nQ 2306 3072 2169 3072 \r\nQ 1681 3072 1420 2755 \r\nQ 1159 2438 1159 1844 \r\nL 1159 0 \r\nL 581 0 \r\nL 581 3500 \r\nL 1159 3500 \r\nL 1159 2956 \r\nQ 1341 3275 1631 3429 \r\nQ 1922 3584 2338 3584 \r\nQ 2397 3584 2469 3576 \r\nQ 2541 3569 2628 3553 \r\nL 2631 2963 \r\nz\r\n\" id=\"DejaVuSans-72\" transform=\"scale(0.015625)\"/>\r\n       <path d=\"M 3597 1894 \r\nL 3597 1613 \r\nL 953 1613 \r\nQ 991 1019 1311 708 \r\nQ 1631 397 2203 397 \r\nQ 2534 397 2845 478 \r\nQ 3156 559 3463 722 \r\nL 3463 178 \r\nQ 3153 47 2828 -22 \r\nQ 2503 -91 2169 -91 \r\nQ 1331 -91 842 396 \r\nQ 353 884 353 1716 \r\nQ 353 2575 817 3079 \r\nQ 1281 3584 2069 3584 \r\nQ 2775 3584 3186 3129 \r\nQ 3597 2675 3597 1894 \r\nz\r\nM 3022 2063 \r\nQ 3016 2534 2758 2815 \r\nQ 2500 3097 2075 3097 \r\nQ 1594 3097 1305 2825 \r\nQ 1016 2553 972 2059 \r\nL 3022 2063 \r\nz\r\n\" id=\"DejaVuSans-65\" transform=\"scale(0.015625)\"/>\r\n       <path d=\"M 3122 3366 \r\nL 3122 2828 \r\nQ 2878 2963 2633 3030 \r\nQ 2388 3097 2138 3097 \r\nQ 1578 3097 1268 2742 \r\nQ 959 2388 959 1747 \r\nQ 959 1106 1268 751 \r\nQ 1578 397 2138 397 \r\nQ 2388 397 2633 464 \r\nQ 2878 531 3122 666 \r\nL 3122 134 \r\nQ 2881 22 2623 -34 \r\nQ 2366 -91 2075 -91 \r\nQ 1284 -91 818 406 \r\nQ 353 903 353 1747 \r\nQ 353 2603 823 3093 \r\nQ 1294 3584 2113 3584 \r\nQ 2378 3584 2631 3529 \r\nQ 2884 3475 3122 3366 \r\nz\r\n\" id=\"DejaVuSans-63\" transform=\"scale(0.015625)\"/>\r\n       <path d=\"M 603 3500 \r\nL 1178 3500 \r\nL 1178 0 \r\nL 603 0 \r\nL 603 3500 \r\nz\r\nM 603 4863 \r\nL 1178 4863 \r\nL 1178 4134 \r\nL 603 4134 \r\nL 603 4863 \r\nz\r\n\" id=\"DejaVuSans-69\" transform=\"scale(0.015625)\"/>\r\n       <path d=\"M 2834 3397 \r\nL 2834 2853 \r\nQ 2591 2978 2328 3040 \r\nQ 2066 3103 1784 3103 \r\nQ 1356 3103 1142 2972 \r\nQ 928 2841 928 2578 \r\nQ 928 2378 1081 2264 \r\nQ 1234 2150 1697 2047 \r\nL 1894 2003 \r\nQ 2506 1872 2764 1633 \r\nQ 3022 1394 3022 966 \r\nQ 3022 478 2636 193 \r\nQ 2250 -91 1575 -91 \r\nQ 1294 -91 989 -36 \r\nQ 684 19 347 128 \r\nL 347 722 \r\nQ 666 556 975 473 \r\nQ 1284 391 1588 391 \r\nQ 1994 391 2212 530 \r\nQ 2431 669 2431 922 \r\nQ 2431 1156 2273 1281 \r\nQ 2116 1406 1581 1522 \r\nL 1381 1569 \r\nQ 847 1681 609 1914 \r\nQ 372 2147 372 2553 \r\nQ 372 3047 722 3315 \r\nQ 1072 3584 1716 3584 \r\nQ 2034 3584 2315 3537 \r\nQ 2597 3491 2834 3397 \r\nz\r\n\" id=\"DejaVuSans-73\" transform=\"scale(0.015625)\"/>\r\n       <path d=\"M 1959 3097 \r\nQ 1497 3097 1228 2736 \r\nQ 959 2375 959 1747 \r\nQ 959 1119 1226 758 \r\nQ 1494 397 1959 397 \r\nQ 2419 397 2687 759 \r\nQ 2956 1122 2956 1747 \r\nQ 2956 2369 2687 2733 \r\nQ 2419 3097 1959 3097 \r\nz\r\nM 1959 3584 \r\nQ 2709 3584 3137 3096 \r\nQ 3566 2609 3566 1747 \r\nQ 3566 888 3137 398 \r\nQ 2709 -91 1959 -91 \r\nQ 1206 -91 779 398 \r\nQ 353 888 353 1747 \r\nQ 353 2609 779 3096 \r\nQ 1206 3584 1959 3584 \r\nz\r\nM 2394 5119 \r\nL 3016 5119 \r\nL 1998 3944 \r\nL 1519 3944 \r\nL 2394 5119 \r\nz\r\n\" id=\"DejaVuSans-f3\" transform=\"scale(0.015625)\"/>\r\n       <path d=\"M 3513 2113 \r\nL 3513 0 \r\nL 2938 0 \r\nL 2938 2094 \r\nQ 2938 2591 2744 2837 \r\nQ 2550 3084 2163 3084 \r\nQ 1697 3084 1428 2787 \r\nQ 1159 2491 1159 1978 \r\nL 1159 0 \r\nL 581 0 \r\nL 581 3500 \r\nL 1159 3500 \r\nL 1159 2956 \r\nQ 1366 3272 1645 3428 \r\nQ 1925 3584 2291 3584 \r\nQ 2894 3584 3203 3211 \r\nQ 3513 2838 3513 2113 \r\nz\r\n\" id=\"DejaVuSans-6e\" transform=\"scale(0.015625)\"/>\r\n       <path id=\"DejaVuSans-20\" transform=\"scale(0.015625)\"/>\r\n       <path d=\"M 2906 2969 \r\nL 2906 4863 \r\nL 3481 4863 \r\nL 3481 0 \r\nL 2906 0 \r\nL 2906 525 \r\nQ 2725 213 2448 61 \r\nQ 2172 -91 1784 -91 \r\nQ 1150 -91 751 415 \r\nQ 353 922 353 1747 \r\nQ 353 2572 751 3078 \r\nQ 1150 3584 1784 3584 \r\nQ 2172 3584 2448 3432 \r\nQ 2725 3281 2906 2969 \r\nz\r\nM 947 1747 \r\nQ 947 1113 1208 752 \r\nQ 1469 391 1925 391 \r\nQ 2381 391 2643 752 \r\nQ 2906 1113 2906 1747 \r\nQ 2906 2381 2643 2742 \r\nQ 2381 3103 1925 3103 \r\nQ 1469 3103 1208 2742 \r\nQ 947 2381 947 1747 \r\nz\r\n\" id=\"DejaVuSans-64\" transform=\"scale(0.015625)\"/>\r\n       <path d=\"M 603 4863 \r\nL 1178 4863 \r\nL 1178 0 \r\nL 603 0 \r\nL 603 4863 \r\nz\r\n\" id=\"DejaVuSans-6c\" transform=\"scale(0.015625)\"/>\r\n       <path d=\"M 1159 525 \r\nL 1159 -1331 \r\nL 581 -1331 \r\nL 581 3500 \r\nL 1159 3500 \r\nL 1159 2969 \r\nQ 1341 3281 1617 3432 \r\nQ 1894 3584 2278 3584 \r\nQ 2916 3584 3314 3078 \r\nQ 3713 2572 3713 1747 \r\nQ 3713 922 3314 415 \r\nQ 2916 -91 2278 -91 \r\nQ 1894 -91 1617 61 \r\nQ 1341 213 1159 525 \r\nz\r\nM 3116 1747 \r\nQ 3116 2381 2855 2742 \r\nQ 2594 3103 2138 3103 \r\nQ 1681 3103 1420 2742 \r\nQ 1159 2381 1159 1747 \r\nQ 1159 1113 1420 752 \r\nQ 1681 391 2138 391 \r\nQ 2594 391 2855 752 \r\nQ 3116 1113 3116 1747 \r\nz\r\n\" id=\"DejaVuSans-70\" transform=\"scale(0.015625)\"/>\r\n       <path d=\"M 2194 1759 \r\nQ 1497 1759 1228 1600 \r\nQ 959 1441 959 1056 \r\nQ 959 750 1161 570 \r\nQ 1363 391 1709 391 \r\nQ 2188 391 2477 730 \r\nQ 2766 1069 2766 1631 \r\nL 2766 1759 \r\nL 2194 1759 \r\nz\r\nM 3341 1997 \r\nL 3341 0 \r\nL 2766 0 \r\nL 2766 531 \r\nQ 2569 213 2275 61 \r\nQ 1981 -91 1556 -91 \r\nQ 1019 -91 701 211 \r\nQ 384 513 384 1019 \r\nQ 384 1609 779 1909 \r\nQ 1175 2209 1959 2209 \r\nL 2766 2209 \r\nL 2766 2266 \r\nQ 2766 2663 2505 2880 \r\nQ 2244 3097 1772 3097 \r\nQ 1472 3097 1187 3025 \r\nQ 903 2953 641 2809 \r\nL 641 3341 \r\nQ 956 3463 1253 3523 \r\nQ 1550 3584 1831 3584 \r\nQ 2591 3584 2966 3190 \r\nQ 3341 2797 3341 1997 \r\nz\r\n\" id=\"DejaVuSans-61\" transform=\"scale(0.015625)\"/>\r\n       <path d=\"M 1959 3097 \r\nQ 1497 3097 1228 2736 \r\nQ 959 2375 959 1747 \r\nQ 959 1119 1226 758 \r\nQ 1494 397 1959 397 \r\nQ 2419 397 2687 759 \r\nQ 2956 1122 2956 1747 \r\nQ 2956 2369 2687 2733 \r\nQ 2419 3097 1959 3097 \r\nz\r\nM 1959 3584 \r\nQ 2709 3584 3137 3096 \r\nQ 3566 2609 3566 1747 \r\nQ 3566 888 3137 398 \r\nQ 2709 -91 1959 -91 \r\nQ 1206 -91 779 398 \r\nQ 353 888 353 1747 \r\nQ 353 2609 779 3096 \r\nQ 1206 3584 1959 3584 \r\nz\r\n\" id=\"DejaVuSans-6f\" transform=\"scale(0.015625)\"/>\r\n       <path d=\"M 1984 4856 \r\nQ 1566 4138 1362 3434 \r\nQ 1159 2731 1159 2009 \r\nQ 1159 1288 1364 580 \r\nQ 1569 -128 1984 -844 \r\nL 1484 -844 \r\nQ 1016 -109 783 600 \r\nQ 550 1309 550 2009 \r\nQ 550 2706 781 3412 \r\nQ 1013 4119 1484 4856 \r\nL 1984 4856 \r\nz\r\n\" id=\"DejaVuSans-28\" transform=\"scale(0.015625)\"/>\r\n       <path d=\"M 4653 2053 \r\nQ 4381 2053 4226 1822 \r\nQ 4072 1591 4072 1178 \r\nQ 4072 772 4226 539 \r\nQ 4381 306 4653 306 \r\nQ 4919 306 5073 539 \r\nQ 5228 772 5228 1178 \r\nQ 5228 1588 5073 1820 \r\nQ 4919 2053 4653 2053 \r\nz\r\nM 4653 2450 \r\nQ 5147 2450 5437 2106 \r\nQ 5728 1763 5728 1178 \r\nQ 5728 594 5436 251 \r\nQ 5144 -91 4653 -91 \r\nQ 4153 -91 3862 251 \r\nQ 3572 594 3572 1178 \r\nQ 3572 1766 3864 2108 \r\nQ 4156 2450 4653 2450 \r\nz\r\nM 1428 4353 \r\nQ 1159 4353 1004 4120 \r\nQ 850 3888 850 3481 \r\nQ 850 3069 1003 2837 \r\nQ 1156 2606 1428 2606 \r\nQ 1700 2606 1854 2837 \r\nQ 2009 3069 2009 3481 \r\nQ 2009 3884 1853 4118 \r\nQ 1697 4353 1428 4353 \r\nz\r\nM 4250 4750 \r\nL 4750 4750 \r\nL 1831 -91 \r\nL 1331 -91 \r\nL 4250 4750 \r\nz\r\nM 1428 4750 \r\nQ 1922 4750 2215 4408 \r\nQ 2509 4066 2509 3481 \r\nQ 2509 2891 2217 2550 \r\nQ 1925 2209 1428 2209 \r\nQ 931 2209 642 2551 \r\nQ 353 2894 353 3481 \r\nQ 353 4063 643 4406 \r\nQ 934 4750 1428 4750 \r\nz\r\n\" id=\"DejaVuSans-25\" transform=\"scale(0.015625)\"/>\r\n       <path d=\"M 513 4856 \r\nL 1013 4856 \r\nQ 1481 4119 1714 3412 \r\nQ 1947 2706 1947 2009 \r\nQ 1947 1309 1714 600 \r\nQ 1481 -109 1013 -844 \r\nL 513 -844 \r\nQ 928 -128 1133 580 \r\nQ 1338 1288 1338 2009 \r\nQ 1338 2731 1133 3434 \r\nQ 928 4138 513 4856 \r\nz\r\n\" id=\"DejaVuSans-29\" transform=\"scale(0.015625)\"/>\r\n      </defs>\r\n      <use xlink:href=\"#DejaVuSans-50\"/>\r\n      <use x=\"58.552734\" xlink:href=\"#DejaVuSans-72\"/>\r\n      <use x=\"97.416016\" xlink:href=\"#DejaVuSans-65\"/>\r\n      <use x=\"158.939453\" xlink:href=\"#DejaVuSans-63\"/>\r\n      <use x=\"213.919922\" xlink:href=\"#DejaVuSans-69\"/>\r\n      <use x=\"241.703125\" xlink:href=\"#DejaVuSans-73\"/>\r\n      <use x=\"293.802734\" xlink:href=\"#DejaVuSans-69\"/>\r\n      <use x=\"321.585938\" xlink:href=\"#DejaVuSans-f3\"/>\r\n      <use x=\"382.767578\" xlink:href=\"#DejaVuSans-6e\"/>\r\n      <use x=\"446.146484\" xlink:href=\"#DejaVuSans-20\"/>\r\n      <use x=\"477.933594\" xlink:href=\"#DejaVuSans-64\"/>\r\n      <use x=\"541.410156\" xlink:href=\"#DejaVuSans-65\"/>\r\n      <use x=\"602.933594\" xlink:href=\"#DejaVuSans-6c\"/>\r\n      <use x=\"630.716797\" xlink:href=\"#DejaVuSans-20\"/>\r\n      <use x=\"662.503906\" xlink:href=\"#DejaVuSans-64\"/>\r\n      <use x=\"725.980469\" xlink:href=\"#DejaVuSans-69\"/>\r\n      <use x=\"753.763672\" xlink:href=\"#DejaVuSans-73\"/>\r\n      <use x=\"805.863281\" xlink:href=\"#DejaVuSans-70\"/>\r\n      <use x=\"869.339844\" xlink:href=\"#DejaVuSans-61\"/>\r\n      <use x=\"930.619141\" xlink:href=\"#DejaVuSans-72\"/>\r\n      <use x=\"969.482422\" xlink:href=\"#DejaVuSans-6f\"/>\r\n      <use x=\"1030.664062\" xlink:href=\"#DejaVuSans-20\"/>\r\n      <use x=\"1062.451172\" xlink:href=\"#DejaVuSans-28\"/>\r\n      <use x=\"1101.464844\" xlink:href=\"#DejaVuSans-25\"/>\r\n      <use x=\"1196.484375\" xlink:href=\"#DejaVuSans-29\"/>\r\n     </g>\r\n    </g>\r\n   </g>\r\n   <g id=\"matplotlib.axis_2\">\r\n    <g id=\"ytick_1\">\r\n     <g id=\"line2d_9\">\r\n      <defs>\r\n       <path d=\"M 0 0 \r\nL -3.5 0 \r\n\" id=\"m2daa810a43\" style=\"stroke:#000000;stroke-width:0.8;\"/>\r\n      </defs>\r\n      <g>\r\n       <use style=\"stroke:#000000;stroke-width:0.8;\" x=\"40.603125\" xlink:href=\"#m2daa810a43\" y=\"212.384241\"/>\r\n      </g>\r\n     </g>\r\n     <g id=\"text_10\">\r\n      <!-- 2 -->\r\n      <g transform=\"translate(27.240625 216.183459)scale(0.1 -0.1)\">\r\n       <use xlink:href=\"#DejaVuSans-32\"/>\r\n      </g>\r\n     </g>\r\n    </g>\r\n    <g id=\"ytick_2\">\r\n     <g id=\"line2d_10\">\r\n      <g>\r\n       <use style=\"stroke:#000000;stroke-width:0.8;\" x=\"40.603125\" xlink:href=\"#m2daa810a43\" y=\"176.443745\"/>\r\n      </g>\r\n     </g>\r\n     <g id=\"text_11\">\r\n      <!-- 4 -->\r\n      <g transform=\"translate(27.240625 180.242964)scale(0.1 -0.1)\">\r\n       <use xlink:href=\"#DejaVuSans-34\"/>\r\n      </g>\r\n     </g>\r\n    </g>\r\n    <g id=\"ytick_3\">\r\n     <g id=\"line2d_11\">\r\n      <g>\r\n       <use style=\"stroke:#000000;stroke-width:0.8;\" x=\"40.603125\" xlink:href=\"#m2daa810a43\" y=\"140.503249\"/>\r\n      </g>\r\n     </g>\r\n     <g id=\"text_12\">\r\n      <!-- 6 -->\r\n      <g transform=\"translate(27.240625 144.302468)scale(0.1 -0.1)\">\r\n       <defs>\r\n        <path d=\"M 2113 2584 \r\nQ 1688 2584 1439 2293 \r\nQ 1191 2003 1191 1497 \r\nQ 1191 994 1439 701 \r\nQ 1688 409 2113 409 \r\nQ 2538 409 2786 701 \r\nQ 3034 994 3034 1497 \r\nQ 3034 2003 2786 2293 \r\nQ 2538 2584 2113 2584 \r\nz\r\nM 3366 4563 \r\nL 3366 3988 \r\nQ 3128 4100 2886 4159 \r\nQ 2644 4219 2406 4219 \r\nQ 1781 4219 1451 3797 \r\nQ 1122 3375 1075 2522 \r\nQ 1259 2794 1537 2939 \r\nQ 1816 3084 2150 3084 \r\nQ 2853 3084 3261 2657 \r\nQ 3669 2231 3669 1497 \r\nQ 3669 778 3244 343 \r\nQ 2819 -91 2113 -91 \r\nQ 1303 -91 875 529 \r\nQ 447 1150 447 2328 \r\nQ 447 3434 972 4092 \r\nQ 1497 4750 2381 4750 \r\nQ 2619 4750 2861 4703 \r\nQ 3103 4656 3366 4563 \r\nz\r\n\" id=\"DejaVuSans-36\" transform=\"scale(0.015625)\"/>\r\n       </defs>\r\n       <use xlink:href=\"#DejaVuSans-36\"/>\r\n      </g>\r\n     </g>\r\n    </g>\r\n    <g id=\"ytick_4\">\r\n     <g id=\"line2d_12\">\r\n      <g>\r\n       <use style=\"stroke:#000000;stroke-width:0.8;\" x=\"40.603125\" xlink:href=\"#m2daa810a43\" y=\"104.562753\"/>\r\n      </g>\r\n     </g>\r\n     <g id=\"text_13\">\r\n      <!-- 8 -->\r\n      <g transform=\"translate(27.240625 108.361972)scale(0.1 -0.1)\">\r\n       <defs>\r\n        <path d=\"M 2034 2216 \r\nQ 1584 2216 1326 1975 \r\nQ 1069 1734 1069 1313 \r\nQ 1069 891 1326 650 \r\nQ 1584 409 2034 409 \r\nQ 2484 409 2743 651 \r\nQ 3003 894 3003 1313 \r\nQ 3003 1734 2745 1975 \r\nQ 2488 2216 2034 2216 \r\nz\r\nM 1403 2484 \r\nQ 997 2584 770 2862 \r\nQ 544 3141 544 3541 \r\nQ 544 4100 942 4425 \r\nQ 1341 4750 2034 4750 \r\nQ 2731 4750 3128 4425 \r\nQ 3525 4100 3525 3541 \r\nQ 3525 3141 3298 2862 \r\nQ 3072 2584 2669 2484 \r\nQ 3125 2378 3379 2068 \r\nQ 3634 1759 3634 1313 \r\nQ 3634 634 3220 271 \r\nQ 2806 -91 2034 -91 \r\nQ 1263 -91 848 271 \r\nQ 434 634 434 1313 \r\nQ 434 1759 690 2068 \r\nQ 947 2378 1403 2484 \r\nz\r\nM 1172 3481 \r\nQ 1172 3119 1398 2916 \r\nQ 1625 2713 2034 2713 \r\nQ 2441 2713 2670 2916 \r\nQ 2900 3119 2900 3481 \r\nQ 2900 3844 2670 4047 \r\nQ 2441 4250 2034 4250 \r\nQ 1625 4250 1398 4047 \r\nQ 1172 3844 1172 3481 \r\nz\r\n\" id=\"DejaVuSans-38\" transform=\"scale(0.015625)\"/>\r\n       </defs>\r\n       <use xlink:href=\"#DejaVuSans-38\"/>\r\n      </g>\r\n     </g>\r\n    </g>\r\n    <g id=\"ytick_5\">\r\n     <g id=\"line2d_13\">\r\n      <g>\r\n       <use style=\"stroke:#000000;stroke-width:0.8;\" x=\"40.603125\" xlink:href=\"#m2daa810a43\" y=\"68.622257\"/>\r\n      </g>\r\n     </g>\r\n     <g id=\"text_14\">\r\n      <!-- 10 -->\r\n      <g transform=\"translate(20.878125 72.421476)scale(0.1 -0.1)\">\r\n       <defs>\r\n        <path d=\"M 794 531 \r\nL 1825 531 \r\nL 1825 4091 \r\nL 703 3866 \r\nL 703 4441 \r\nL 1819 4666 \r\nL 2450 4666 \r\nL 2450 531 \r\nL 3481 531 \r\nL 3481 0 \r\nL 794 0 \r\nL 794 531 \r\nz\r\n\" id=\"DejaVuSans-31\" transform=\"scale(0.015625)\"/>\r\n       </defs>\r\n       <use xlink:href=\"#DejaVuSans-31\"/>\r\n       <use x=\"63.623047\" xlink:href=\"#DejaVuSans-30\"/>\r\n      </g>\r\n     </g>\r\n    </g>\r\n    <g id=\"ytick_6\">\r\n     <g id=\"line2d_14\">\r\n      <g>\r\n       <use style=\"stroke:#000000;stroke-width:0.8;\" x=\"40.603125\" xlink:href=\"#m2daa810a43\" y=\"32.681761\"/>\r\n      </g>\r\n     </g>\r\n     <g id=\"text_15\">\r\n      <!-- 12 -->\r\n      <g transform=\"translate(20.878125 36.48098)scale(0.1 -0.1)\">\r\n       <use xlink:href=\"#DejaVuSans-31\"/>\r\n       <use x=\"63.623047\" xlink:href=\"#DejaVuSans-32\"/>\r\n      </g>\r\n     </g>\r\n    </g>\r\n    <g id=\"text_16\">\r\n     <!-- Número de Goles -->\r\n     <g transform=\"translate(14.798438 174.809531)rotate(-90)scale(0.1 -0.1)\">\r\n      <defs>\r\n       <path d=\"M 628 4666 \r\nL 1478 4666 \r\nL 3547 763 \r\nL 3547 4666 \r\nL 4159 4666 \r\nL 4159 0 \r\nL 3309 0 \r\nL 1241 3903 \r\nL 1241 0 \r\nL 628 0 \r\nL 628 4666 \r\nz\r\n\" id=\"DejaVuSans-4e\" transform=\"scale(0.015625)\"/>\r\n       <path d=\"M 544 1381 \r\nL 544 3500 \r\nL 1119 3500 \r\nL 1119 1403 \r\nQ 1119 906 1312 657 \r\nQ 1506 409 1894 409 \r\nQ 2359 409 2629 706 \r\nQ 2900 1003 2900 1516 \r\nL 2900 3500 \r\nL 3475 3500 \r\nL 3475 0 \r\nL 2900 0 \r\nL 2900 538 \r\nQ 2691 219 2414 64 \r\nQ 2138 -91 1772 -91 \r\nQ 1169 -91 856 284 \r\nQ 544 659 544 1381 \r\nz\r\nM 1991 3584 \r\nL 1991 3584 \r\nz\r\nM 2418 5119 \r\nL 3040 5119 \r\nL 2022 3944 \r\nL 1543 3944 \r\nL 2418 5119 \r\nz\r\n\" id=\"DejaVuSans-fa\" transform=\"scale(0.015625)\"/>\r\n       <path d=\"M 3328 2828 \r\nQ 3544 3216 3844 3400 \r\nQ 4144 3584 4550 3584 \r\nQ 5097 3584 5394 3201 \r\nQ 5691 2819 5691 2113 \r\nL 5691 0 \r\nL 5113 0 \r\nL 5113 2094 \r\nQ 5113 2597 4934 2840 \r\nQ 4756 3084 4391 3084 \r\nQ 3944 3084 3684 2787 \r\nQ 3425 2491 3425 1978 \r\nL 3425 0 \r\nL 2847 0 \r\nL 2847 2094 \r\nQ 2847 2600 2669 2842 \r\nQ 2491 3084 2119 3084 \r\nQ 1678 3084 1418 2786 \r\nQ 1159 2488 1159 1978 \r\nL 1159 0 \r\nL 581 0 \r\nL 581 3500 \r\nL 1159 3500 \r\nL 1159 2956 \r\nQ 1356 3278 1631 3431 \r\nQ 1906 3584 2284 3584 \r\nQ 2666 3584 2933 3390 \r\nQ 3200 3197 3328 2828 \r\nz\r\n\" id=\"DejaVuSans-6d\" transform=\"scale(0.015625)\"/>\r\n       <path d=\"M 3809 666 \r\nL 3809 1919 \r\nL 2778 1919 \r\nL 2778 2438 \r\nL 4434 2438 \r\nL 4434 434 \r\nQ 4069 175 3628 42 \r\nQ 3188 -91 2688 -91 \r\nQ 1594 -91 976 548 \r\nQ 359 1188 359 2328 \r\nQ 359 3472 976 4111 \r\nQ 1594 4750 2688 4750 \r\nQ 3144 4750 3555 4637 \r\nQ 3966 4525 4313 4306 \r\nL 4313 3634 \r\nQ 3963 3931 3569 4081 \r\nQ 3175 4231 2741 4231 \r\nQ 1884 4231 1454 3753 \r\nQ 1025 3275 1025 2328 \r\nQ 1025 1384 1454 906 \r\nQ 1884 428 2741 428 \r\nQ 3075 428 3337 486 \r\nQ 3600 544 3809 666 \r\nz\r\n\" id=\"DejaVuSans-47\" transform=\"scale(0.015625)\"/>\r\n      </defs>\r\n      <use xlink:href=\"#DejaVuSans-4e\"/>\r\n      <use x=\"74.804688\" xlink:href=\"#DejaVuSans-fa\"/>\r\n      <use x=\"138.183594\" xlink:href=\"#DejaVuSans-6d\"/>\r\n      <use x=\"235.595703\" xlink:href=\"#DejaVuSans-65\"/>\r\n      <use x=\"297.119141\" xlink:href=\"#DejaVuSans-72\"/>\r\n      <use x=\"335.982422\" xlink:href=\"#DejaVuSans-6f\"/>\r\n      <use x=\"397.164062\" xlink:href=\"#DejaVuSans-20\"/>\r\n      <use x=\"428.951172\" xlink:href=\"#DejaVuSans-64\"/>\r\n      <use x=\"492.427734\" xlink:href=\"#DejaVuSans-65\"/>\r\n      <use x=\"553.951172\" xlink:href=\"#DejaVuSans-20\"/>\r\n      <use x=\"585.738281\" xlink:href=\"#DejaVuSans-47\"/>\r\n      <use x=\"663.228516\" xlink:href=\"#DejaVuSans-6f\"/>\r\n      <use x=\"724.410156\" xlink:href=\"#DejaVuSans-6c\"/>\r\n      <use x=\"752.193359\" xlink:href=\"#DejaVuSans-65\"/>\r\n      <use x=\"813.716797\" xlink:href=\"#DejaVuSans-73\"/>\r\n     </g>\r\n    </g>\r\n   </g>\r\n   <g id=\"line2d_15\">\r\n    <path clip-path=\"url(#p9aed9f3aa4)\" d=\"M 55.821307 224.68754 \r\nL 67.223979 140.677303 \r\nL 139.148527 174.380809 \r\nL 192.653374 212.414701 \r\nL 202.301789 206.008909 \r\nL 215.458718 193.804777 \r\nL 237.386934 171.498732 \r\nL 247.035349 163.502186 \r\nL 283.874752 156.449643 \r\nL 308.434354 166.413575 \r\nL 325.099798 164.047055 \r\nL 360.184943 35.618222 \r\n\" style=\"fill:none;stroke:#ff0000;stroke-linecap:square;stroke-width:1.5;\"/>\r\n   </g>\r\n   <g id=\"patch_3\">\r\n    <path d=\"M 40.603125 240.238125 \r\nL 40.603125 22.798125 \r\n\" style=\"fill:none;stroke:#000000;stroke-linecap:square;stroke-linejoin:miter;stroke-width:0.8;\"/>\r\n   </g>\r\n   <g id=\"patch_4\">\r\n    <path d=\"M 375.403125 240.238125 \r\nL 375.403125 22.798125 \r\n\" style=\"fill:none;stroke:#000000;stroke-linecap:square;stroke-linejoin:miter;stroke-width:0.8;\"/>\r\n   </g>\r\n   <g id=\"patch_5\">\r\n    <path d=\"M 40.603125 240.238125 \r\nL 375.403125 240.238125 \r\n\" style=\"fill:none;stroke:#000000;stroke-linecap:square;stroke-linejoin:miter;stroke-width:0.8;\"/>\r\n   </g>\r\n   <g id=\"patch_6\">\r\n    <path d=\"M 40.603125 22.798125 \r\nL 375.403125 22.798125 \r\n\" style=\"fill:none;stroke:#000000;stroke-linecap:square;stroke-linejoin:miter;stroke-width:0.8;\"/>\r\n   </g>\r\n   <g id=\"text_17\">\r\n    <!-- Correlación Precisión del disparo y goles. Polinomial degree5 -->\r\n    <g transform=\"translate(25.599375 16.798125)scale(0.12 -0.12)\">\r\n     <defs>\r\n      <path d=\"M 4122 4306 \r\nL 4122 3641 \r\nQ 3803 3938 3442 4084 \r\nQ 3081 4231 2675 4231 \r\nQ 1875 4231 1450 3742 \r\nQ 1025 3253 1025 2328 \r\nQ 1025 1406 1450 917 \r\nQ 1875 428 2675 428 \r\nQ 3081 428 3442 575 \r\nQ 3803 722 4122 1019 \r\nL 4122 359 \r\nQ 3791 134 3420 21 \r\nQ 3050 -91 2638 -91 \r\nQ 1578 -91 968 557 \r\nQ 359 1206 359 2328 \r\nQ 359 3453 968 4101 \r\nQ 1578 4750 2638 4750 \r\nQ 3056 4750 3426 4639 \r\nQ 3797 4528 4122 4306 \r\nz\r\n\" id=\"DejaVuSans-43\" transform=\"scale(0.015625)\"/>\r\n      <path d=\"M 2059 -325 \r\nQ 1816 -950 1584 -1140 \r\nQ 1353 -1331 966 -1331 \r\nL 506 -1331 \r\nL 506 -850 \r\nL 844 -850 \r\nQ 1081 -850 1212 -737 \r\nQ 1344 -625 1503 -206 \r\nL 1606 56 \r\nL 191 3500 \r\nL 800 3500 \r\nL 1894 763 \r\nL 2988 3500 \r\nL 3597 3500 \r\nL 2059 -325 \r\nz\r\n\" id=\"DejaVuSans-79\" transform=\"scale(0.015625)\"/>\r\n      <path d=\"M 2906 1791 \r\nQ 2906 2416 2648 2759 \r\nQ 2391 3103 1925 3103 \r\nQ 1463 3103 1205 2759 \r\nQ 947 2416 947 1791 \r\nQ 947 1169 1205 825 \r\nQ 1463 481 1925 481 \r\nQ 2391 481 2648 825 \r\nQ 2906 1169 2906 1791 \r\nz\r\nM 3481 434 \r\nQ 3481 -459 3084 -895 \r\nQ 2688 -1331 1869 -1331 \r\nQ 1566 -1331 1297 -1286 \r\nQ 1028 -1241 775 -1147 \r\nL 775 -588 \r\nQ 1028 -725 1275 -790 \r\nQ 1522 -856 1778 -856 \r\nQ 2344 -856 2625 -561 \r\nQ 2906 -266 2906 331 \r\nL 2906 616 \r\nQ 2728 306 2450 153 \r\nQ 2172 0 1784 0 \r\nQ 1141 0 747 490 \r\nQ 353 981 353 1791 \r\nQ 353 2603 747 3093 \r\nQ 1141 3584 1784 3584 \r\nQ 2172 3584 2450 3431 \r\nQ 2728 3278 2906 2969 \r\nL 2906 3500 \r\nL 3481 3500 \r\nL 3481 434 \r\nz\r\n\" id=\"DejaVuSans-67\" transform=\"scale(0.015625)\"/>\r\n      <path d=\"M 684 794 \r\nL 1344 794 \r\nL 1344 0 \r\nL 684 0 \r\nL 684 794 \r\nz\r\n\" id=\"DejaVuSans-2e\" transform=\"scale(0.015625)\"/>\r\n     </defs>\r\n     <use xlink:href=\"#DejaVuSans-43\"/>\r\n     <use x=\"69.824219\" xlink:href=\"#DejaVuSans-6f\"/>\r\n     <use x=\"131.005859\" xlink:href=\"#DejaVuSans-72\"/>\r\n     <use x=\"170.369141\" xlink:href=\"#DejaVuSans-72\"/>\r\n     <use x=\"209.232422\" xlink:href=\"#DejaVuSans-65\"/>\r\n     <use x=\"270.755859\" xlink:href=\"#DejaVuSans-6c\"/>\r\n     <use x=\"298.539062\" xlink:href=\"#DejaVuSans-61\"/>\r\n     <use x=\"359.818359\" xlink:href=\"#DejaVuSans-63\"/>\r\n     <use x=\"414.798828\" xlink:href=\"#DejaVuSans-69\"/>\r\n     <use x=\"442.582031\" xlink:href=\"#DejaVuSans-f3\"/>\r\n     <use x=\"503.763672\" xlink:href=\"#DejaVuSans-6e\"/>\r\n     <use x=\"567.142578\" xlink:href=\"#DejaVuSans-20\"/>\r\n     <use x=\"598.929688\" xlink:href=\"#DejaVuSans-50\"/>\r\n     <use x=\"657.482422\" xlink:href=\"#DejaVuSans-72\"/>\r\n     <use x=\"696.345703\" xlink:href=\"#DejaVuSans-65\"/>\r\n     <use x=\"757.869141\" xlink:href=\"#DejaVuSans-63\"/>\r\n     <use x=\"812.849609\" xlink:href=\"#DejaVuSans-69\"/>\r\n     <use x=\"840.632812\" xlink:href=\"#DejaVuSans-73\"/>\r\n     <use x=\"892.732422\" xlink:href=\"#DejaVuSans-69\"/>\r\n     <use x=\"920.515625\" xlink:href=\"#DejaVuSans-f3\"/>\r\n     <use x=\"981.697266\" xlink:href=\"#DejaVuSans-6e\"/>\r\n     <use x=\"1045.076172\" xlink:href=\"#DejaVuSans-20\"/>\r\n     <use x=\"1076.863281\" xlink:href=\"#DejaVuSans-64\"/>\r\n     <use x=\"1140.339844\" xlink:href=\"#DejaVuSans-65\"/>\r\n     <use x=\"1201.863281\" xlink:href=\"#DejaVuSans-6c\"/>\r\n     <use x=\"1229.646484\" xlink:href=\"#DejaVuSans-20\"/>\r\n     <use x=\"1261.433594\" xlink:href=\"#DejaVuSans-64\"/>\r\n     <use x=\"1324.910156\" xlink:href=\"#DejaVuSans-69\"/>\r\n     <use x=\"1352.693359\" xlink:href=\"#DejaVuSans-73\"/>\r\n     <use x=\"1404.792969\" xlink:href=\"#DejaVuSans-70\"/>\r\n     <use x=\"1468.269531\" xlink:href=\"#DejaVuSans-61\"/>\r\n     <use x=\"1529.548828\" xlink:href=\"#DejaVuSans-72\"/>\r\n     <use x=\"1568.412109\" xlink:href=\"#DejaVuSans-6f\"/>\r\n     <use x=\"1629.59375\" xlink:href=\"#DejaVuSans-20\"/>\r\n     <use x=\"1661.380859\" xlink:href=\"#DejaVuSans-79\"/>\r\n     <use x=\"1720.560547\" xlink:href=\"#DejaVuSans-20\"/>\r\n     <use x=\"1752.347656\" xlink:href=\"#DejaVuSans-67\"/>\r\n     <use x=\"1815.824219\" xlink:href=\"#DejaVuSans-6f\"/>\r\n     <use x=\"1877.005859\" xlink:href=\"#DejaVuSans-6c\"/>\r\n     <use x=\"1904.789062\" xlink:href=\"#DejaVuSans-65\"/>\r\n     <use x=\"1966.3125\" xlink:href=\"#DejaVuSans-73\"/>\r\n     <use x=\"2018.412109\" xlink:href=\"#DejaVuSans-2e\"/>\r\n     <use x=\"2050.199219\" xlink:href=\"#DejaVuSans-20\"/>\r\n     <use x=\"2081.986328\" xlink:href=\"#DejaVuSans-50\"/>\r\n     <use x=\"2138.664062\" xlink:href=\"#DejaVuSans-6f\"/>\r\n     <use x=\"2199.845703\" xlink:href=\"#DejaVuSans-6c\"/>\r\n     <use x=\"2227.628906\" xlink:href=\"#DejaVuSans-69\"/>\r\n     <use x=\"2255.412109\" xlink:href=\"#DejaVuSans-6e\"/>\r\n     <use x=\"2318.791016\" xlink:href=\"#DejaVuSans-6f\"/>\r\n     <use x=\"2379.972656\" xlink:href=\"#DejaVuSans-6d\"/>\r\n     <use x=\"2477.384766\" xlink:href=\"#DejaVuSans-69\"/>\r\n     <use x=\"2505.167969\" xlink:href=\"#DejaVuSans-61\"/>\r\n     <use x=\"2566.447266\" xlink:href=\"#DejaVuSans-6c\"/>\r\n     <use x=\"2594.230469\" xlink:href=\"#DejaVuSans-20\"/>\r\n     <use x=\"2626.017578\" xlink:href=\"#DejaVuSans-64\"/>\r\n     <use x=\"2689.494141\" xlink:href=\"#DejaVuSans-65\"/>\r\n     <use x=\"2751.017578\" xlink:href=\"#DejaVuSans-67\"/>\r\n     <use x=\"2814.494141\" xlink:href=\"#DejaVuSans-72\"/>\r\n     <use x=\"2853.357422\" xlink:href=\"#DejaVuSans-65\"/>\r\n     <use x=\"2914.880859\" xlink:href=\"#DejaVuSans-65\"/>\r\n     <use x=\"2976.404297\" xlink:href=\"#DejaVuSans-35\"/>\r\n    </g>\r\n   </g>\r\n  </g>\r\n </g>\r\n <defs>\r\n  <clipPath id=\"p9aed9f3aa4\">\r\n   <rect height=\"217.44\" width=\"334.8\" x=\"40.603125\" y=\"22.798125\"/>\r\n  </clipPath>\r\n </defs>\r\n</svg>\r\n",
      "image/png": "[encoded data removed]"
     },
     "metadata": {
      "needs_background": "light"
     }
    }
   ],
   "source": [
    "degree = 5\n",
    "\n",
    "X_train_to_show, y_train_to_show = zip(*sorted(zip(X_train, y_train)))\n",
    "plt.scatter(X_train_to_show, y_train_to_show, color='b')\n",
    "X_train_to_show, y_pred = zip(*sorted(zip(X_train, y_pred)))\n",
    "plt.plot(X_train_to_show, y_pred, color='red')\n",
    "plt.scatter(X_train_to_show, y_pred, color='red')\n",
    "plt.title('Precisión del disparo y goles. Polinomial degree' + str(degree))\n",
    "plt.xlabel('Precisión del disparo (%)')\n",
    "plt.ylabel('Número de Goles')\n",
    "plt.show()"
   ]
  },
  {
   "cell_type": "code",
   "execution_count": 168,
   "metadata": {},
   "outputs": [
    {
     "output_type": "execute_result",
     "data": {
      "text/plain": [
       "array([-1725.11652544])"
      ]
     },
     "metadata": {},
     "execution_count": 168
    }
   ],
   "source": [
    "lin_reg_model.intercept_"
   ]
  },
  {
   "cell_type": "code",
   "execution_count": 169,
   "metadata": {},
   "outputs": [
    {
     "output_type": "execute_result",
     "data": {
      "text/plain": [
       "array([[ 0.00000000e+00,  2.44631609e+02, -1.34188167e+01,\n",
       "         3.57948725e-01, -4.65873515e-03,  2.37396483e-05]])"
      ]
     },
     "metadata": {},
     "execution_count": 169
    }
   ],
   "source": [
    "lin_reg_model.coef_"
   ]
  },
  {
   "source": [
    "### Con la regresión polinomial el porcentaje de aciertos sube a 91,7%\n",
    "### El número de goles aumenta o disminuye en función del porcentaje de disparos precisos a puerta:\n",
    "    - De aproximadamente un 21% a 23% de disparos precisos a puerta el número de goles aumenta 2.44\n",
    "    - De aprox 23% a 37% el número de goles disminuye -1.34\n",
    "    - De aprox 37% a 47% el número de goles aumenta 3.57\n",
    "    - De aprox 47% a 50% el número de goles disminuye -4.65\n",
    "    - De aprox 50% a 55% el número de goles aumenta 2.37\n"
   ],
   "cell_type": "markdown",
   "metadata": {}
  },
  {
   "source": [
    "### SVR"
   ],
   "cell_type": "markdown",
   "metadata": {}
  },
  {
   "cell_type": "code",
   "execution_count": 184,
   "metadata": {},
   "outputs": [
    {
     "output_type": "stream",
     "name": "stdout",
     "text": [
      "model.score: 0.9986811523545757\n",
      "C:\\Users\\ggarr\\AppData\\Local\\Programs\\Python\\Python38\\lib\\site-packages\\sklearn\\utils\\validation.py:63: DataConversionWarning: A column-vector y was passed when a 1d array was expected. Please change the shape of y to (n_samples, ), for example using ravel().\n",
      "  return f(*args, **kwargs)\n"
     ]
    },
    {
     "output_type": "execute_result",
     "data": {
      "text/plain": [
       "[<matplotlib.lines.Line2D at 0x1d24bb98f40>]"
      ]
     },
     "metadata": {},
     "execution_count": 184
    },
    {
     "output_type": "display_data",
     "data": {
      "text/plain": "<Figure size 432x288 with 1 Axes>",
      "image/svg+xml": "<?xml version=\"1.0\" encoding=\"utf-8\" standalone=\"no\"?>\r\n<!DOCTYPE svg PUBLIC \"-//W3C//DTD SVG 1.1//EN\"\r\n  \"http://www.w3.org/Graphics/SVG/1.1/DTD/svg11.dtd\">\r\n<svg height=\"278.194375pt\" version=\"1.1\" viewBox=\"0 0 382.603125 278.194375\" width=\"382.603125pt\" xmlns=\"http://www.w3.org/2000/svg\" xmlns:xlink=\"http://www.w3.org/1999/xlink\">\r\n <metadata>\r\n  <rdf:RDF xmlns:cc=\"http://creativecommons.org/ns#\" xmlns:dc=\"http://purl.org/dc/elements/1.1/\" xmlns:rdf=\"http://www.w3.org/1999/02/22-rdf-syntax-ns#\">\r\n   <cc:Work>\r\n    <dc:type rdf:resource=\"http://purl.org/dc/dcmitype/StillImage\"/>\r\n    <dc:date>2021-06-16T11:47:09.700997</dc:date>\r\n    <dc:format>image/svg+xml</dc:format>\r\n    <dc:creator>\r\n     <cc:Agent>\r\n      <dc:title>Matplotlib v3.4.1, https://matplotlib.org/</dc:title>\r\n     </cc:Agent>\r\n    </dc:creator>\r\n   </cc:Work>\r\n  </rdf:RDF>\r\n </metadata>\r\n <defs>\r\n  <style type=\"text/css\">*{stroke-linecap:butt;stroke-linejoin:round;}</style>\r\n </defs>\r\n <g id=\"figure_1\">\r\n  <g id=\"patch_1\">\r\n   <path d=\"M 0 278.194375 \r\nL 382.603125 278.194375 \r\nL 382.603125 0 \r\nL 0 0 \r\nz\r\n\" style=\"fill:none;\"/>\r\n  </g>\r\n  <g id=\"axes_1\">\r\n   <g id=\"patch_2\">\r\n    <path d=\"M 40.603125 240.238125 \r\nL 375.403125 240.238125 \r\nL 375.403125 22.798125 \r\nL 40.603125 22.798125 \r\nz\r\n\" style=\"fill:#ffffff;\"/>\r\n   </g>\r\n   <g id=\"PathCollection_1\">\r\n    <defs>\r\n     <path d=\"M 0 3 \r\nC 0.795609 3 1.55874 2.683901 2.12132 2.12132 \r\nC 2.683901 1.55874 3 0.795609 3 0 \r\nC 3 -0.795609 2.683901 -1.55874 2.12132 -2.12132 \r\nC 1.55874 -2.683901 0.795609 -3 0 -3 \r\nC -0.795609 -3 -1.55874 -2.683901 -2.12132 -2.12132 \r\nC -2.683901 -1.55874 -3 -0.795609 -3 0 \r\nC -3 0.795609 -2.683901 1.55874 -2.12132 2.12132 \r\nC -1.55874 2.683901 -0.795609 3 0 3 \r\nz\r\n\" id=\"m3fb4360127\" style=\"stroke:#ff0000;\"/>\r\n    </defs>\r\n    <g clip-path=\"url(#p0a8e6ea551)\">\r\n     <use style=\"fill:#ff0000;stroke:#ff0000;\" x=\"67.223979\" xlink:href=\"#m3fb4360127\" y=\"158.473497\"/>\r\n     <use style=\"fill:#ff0000;stroke:#ff0000;\" x=\"325.099798\" xlink:href=\"#m3fb4360127\" y=\"176.443745\"/>\r\n     <use style=\"fill:#ff0000;stroke:#ff0000;\" x=\"237.386934\" xlink:href=\"#m3fb4360127\" y=\"176.443745\"/>\r\n     <use style=\"fill:#ff0000;stroke:#ff0000;\" x=\"283.874752\" xlink:href=\"#m3fb4360127\" y=\"158.473497\"/>\r\n     <use style=\"fill:#ff0000;stroke:#ff0000;\" x=\"360.184943\" xlink:href=\"#m3fb4360127\" y=\"32.681761\"/>\r\n     <use style=\"fill:#ff0000;stroke:#ff0000;\" x=\"247.035349\" xlink:href=\"#m3fb4360127\" y=\"140.503249\"/>\r\n     <use style=\"fill:#ff0000;stroke:#ff0000;\" x=\"192.653374\" xlink:href=\"#m3fb4360127\" y=\"230.354489\"/>\r\n     <use style=\"fill:#ff0000;stroke:#ff0000;\" x=\"308.434354\" xlink:href=\"#m3fb4360127\" y=\"158.473497\"/>\r\n     <use style=\"fill:#ff0000;stroke:#ff0000;\" x=\"139.148527\" xlink:href=\"#m3fb4360127\" y=\"158.473497\"/>\r\n     <use style=\"fill:#ff0000;stroke:#ff0000;\" x=\"215.458718\" xlink:href=\"#m3fb4360127\" y=\"212.384241\"/>\r\n     <use style=\"fill:#ff0000;stroke:#ff0000;\" x=\"202.301789\" xlink:href=\"#m3fb4360127\" y=\"194.413993\"/>\r\n     <use style=\"fill:#ff0000;stroke:#ff0000;\" x=\"55.821307\" xlink:href=\"#m3fb4360127\" y=\"212.384241\"/>\r\n    </g>\r\n   </g>\r\n   <g id=\"PathCollection_2\">\r\n    <defs>\r\n     <path d=\"M 0 3 \r\nC 0.795609 3 1.55874 2.683901 2.12132 2.12132 \r\nC 2.683901 1.55874 3 0.795609 3 0 \r\nC 3 -0.795609 2.683901 -1.55874 2.12132 -2.12132 \r\nC 1.55874 -2.683901 0.795609 -3 0 -3 \r\nC -0.795609 -3 -1.55874 -2.683901 -2.12132 -2.12132 \r\nC -2.683901 -1.55874 -3 -0.795609 -3 0 \r\nC -3 0.795609 -2.683901 1.55874 -2.12132 2.12132 \r\nC -1.55874 2.683901 -0.795609 3 0 3 \r\nz\r\n\" id=\"m235e713bd4\" style=\"stroke:#008000;stroke-opacity:0.3;\"/>\r\n    </defs>\r\n    <g clip-path=\"url(#p0a8e6ea551)\">\r\n     <use style=\"fill:#008000;fill-opacity:0.3;stroke:#008000;stroke-opacity:0.3;\" x=\"67.223979\" xlink:href=\"#m235e713bd4\" y=\"160.277123\"/>\r\n     <use style=\"fill:#008000;fill-opacity:0.3;stroke:#008000;stroke-opacity:0.3;\" x=\"325.099798\" xlink:href=\"#m235e713bd4\" y=\"174.649187\"/>\r\n     <use style=\"fill:#008000;fill-opacity:0.3;stroke:#008000;stroke-opacity:0.3;\" x=\"237.386934\" xlink:href=\"#m235e713bd4\" y=\"178.237998\"/>\r\n     <use style=\"fill:#008000;fill-opacity:0.3;stroke:#008000;stroke-opacity:0.3;\" x=\"283.874752\" xlink:href=\"#m235e713bd4\" y=\"156.673252\"/>\r\n     <use style=\"fill:#008000;fill-opacity:0.3;stroke:#008000;stroke-opacity:0.3;\" x=\"360.184943\" xlink:href=\"#m235e713bd4\" y=\"34.479524\"/>\r\n     <use style=\"fill:#008000;fill-opacity:0.3;stroke:#008000;stroke-opacity:0.3;\" x=\"247.035349\" xlink:href=\"#m235e713bd4\" y=\"141.730086\"/>\r\n     <use style=\"fill:#008000;fill-opacity:0.3;stroke:#008000;stroke-opacity:0.3;\" x=\"192.653374\" xlink:href=\"#m235e713bd4\" y=\"228.554705\"/>\r\n     <use style=\"fill:#008000;fill-opacity:0.3;stroke:#008000;stroke-opacity:0.3;\" x=\"308.434354\" xlink:href=\"#m235e713bd4\" y=\"160.26837\"/>\r\n     <use style=\"fill:#008000;fill-opacity:0.3;stroke:#008000;stroke-opacity:0.3;\" x=\"139.148527\" xlink:href=\"#m235e713bd4\" y=\"160.266615\"/>\r\n     <use style=\"fill:#008000;fill-opacity:0.3;stroke:#008000;stroke-opacity:0.3;\" x=\"215.458718\" xlink:href=\"#m235e713bd4\" y=\"210.580621\"/>\r\n     <use style=\"fill:#008000;fill-opacity:0.3;stroke:#008000;stroke-opacity:0.3;\" x=\"202.301789\" xlink:href=\"#m235e713bd4\" y=\"196.216028\"/>\r\n     <use style=\"fill:#008000;fill-opacity:0.3;stroke:#008000;stroke-opacity:0.3;\" x=\"55.821307\" xlink:href=\"#m235e713bd4\" y=\"210.593812\"/>\r\n    </g>\r\n   </g>\r\n   <g id=\"matplotlib.axis_1\">\r\n    <g id=\"xtick_1\">\r\n     <g id=\"line2d_1\">\r\n      <defs>\r\n       <path d=\"M 0 0 \r\nL 0 3.5 \r\n\" id=\"m066f5c6038\" style=\"stroke:#000000;stroke-width:0.8;\"/>\r\n      </defs>\r\n      <g>\r\n       <use style=\"stroke:#000000;stroke-width:0.8;\" x=\"45.295763\" xlink:href=\"#m066f5c6038\" y=\"240.238125\"/>\r\n      </g>\r\n     </g>\r\n     <g id=\"text_1\">\r\n      <!-- 20 -->\r\n      <g transform=\"translate(38.933263 254.836562)scale(0.1 -0.1)\">\r\n       <defs>\r\n        <path d=\"M 1228 531 \r\nL 3431 531 \r\nL 3431 0 \r\nL 469 0 \r\nL 469 531 \r\nQ 828 903 1448 1529 \r\nQ 2069 2156 2228 2338 \r\nQ 2531 2678 2651 2914 \r\nQ 2772 3150 2772 3378 \r\nQ 2772 3750 2511 3984 \r\nQ 2250 4219 1831 4219 \r\nQ 1534 4219 1204 4116 \r\nQ 875 4013 500 3803 \r\nL 500 4441 \r\nQ 881 4594 1212 4672 \r\nQ 1544 4750 1819 4750 \r\nQ 2544 4750 2975 4387 \r\nQ 3406 4025 3406 3419 \r\nQ 3406 3131 3298 2873 \r\nQ 3191 2616 2906 2266 \r\nQ 2828 2175 2409 1742 \r\nQ 1991 1309 1228 531 \r\nz\r\n\" id=\"DejaVuSans-32\" transform=\"scale(0.015625)\"/>\r\n        <path d=\"M 2034 4250 \r\nQ 1547 4250 1301 3770 \r\nQ 1056 3291 1056 2328 \r\nQ 1056 1369 1301 889 \r\nQ 1547 409 2034 409 \r\nQ 2525 409 2770 889 \r\nQ 3016 1369 3016 2328 \r\nQ 3016 3291 2770 3770 \r\nQ 2525 4250 2034 4250 \r\nz\r\nM 2034 4750 \r\nQ 2819 4750 3233 4129 \r\nQ 3647 3509 3647 2328 \r\nQ 3647 1150 3233 529 \r\nQ 2819 -91 2034 -91 \r\nQ 1250 -91 836 529 \r\nQ 422 1150 422 2328 \r\nQ 422 3509 836 4129 \r\nQ 1250 4750 2034 4750 \r\nz\r\n\" id=\"DejaVuSans-30\" transform=\"scale(0.015625)\"/>\r\n       </defs>\r\n       <use xlink:href=\"#DejaVuSans-32\"/>\r\n       <use x=\"63.623047\" xlink:href=\"#DejaVuSans-30\"/>\r\n      </g>\r\n     </g>\r\n    </g>\r\n    <g id=\"xtick_2\">\r\n     <g id=\"line2d_2\">\r\n      <g>\r\n       <use style=\"stroke:#000000;stroke-width:0.8;\" x=\"89.152195\" xlink:href=\"#m066f5c6038\" y=\"240.238125\"/>\r\n      </g>\r\n     </g>\r\n     <g id=\"text_2\">\r\n      <!-- 25 -->\r\n      <g transform=\"translate(82.789695 254.836562)scale(0.1 -0.1)\">\r\n       <defs>\r\n        <path d=\"M 691 4666 \r\nL 3169 4666 \r\nL 3169 4134 \r\nL 1269 4134 \r\nL 1269 2991 \r\nQ 1406 3038 1543 3061 \r\nQ 1681 3084 1819 3084 \r\nQ 2600 3084 3056 2656 \r\nQ 3513 2228 3513 1497 \r\nQ 3513 744 3044 326 \r\nQ 2575 -91 1722 -91 \r\nQ 1428 -91 1123 -41 \r\nQ 819 9 494 109 \r\nL 494 744 \r\nQ 775 591 1075 516 \r\nQ 1375 441 1709 441 \r\nQ 2250 441 2565 725 \r\nQ 2881 1009 2881 1497 \r\nQ 2881 1984 2565 2268 \r\nQ 2250 2553 1709 2553 \r\nQ 1456 2553 1204 2497 \r\nQ 953 2441 691 2322 \r\nL 691 4666 \r\nz\r\n\" id=\"DejaVuSans-35\" transform=\"scale(0.015625)\"/>\r\n       </defs>\r\n       <use xlink:href=\"#DejaVuSans-32\"/>\r\n       <use x=\"63.623047\" xlink:href=\"#DejaVuSans-35\"/>\r\n      </g>\r\n     </g>\r\n    </g>\r\n    <g id=\"xtick_3\">\r\n     <g id=\"line2d_3\">\r\n      <g>\r\n       <use style=\"stroke:#000000;stroke-width:0.8;\" x=\"133.008627\" xlink:href=\"#m066f5c6038\" y=\"240.238125\"/>\r\n      </g>\r\n     </g>\r\n     <g id=\"text_3\">\r\n      <!-- 30 -->\r\n      <g transform=\"translate(126.646127 254.836562)scale(0.1 -0.1)\">\r\n       <defs>\r\n        <path d=\"M 2597 2516 \r\nQ 3050 2419 3304 2112 \r\nQ 3559 1806 3559 1356 \r\nQ 3559 666 3084 287 \r\nQ 2609 -91 1734 -91 \r\nQ 1441 -91 1130 -33 \r\nQ 819 25 488 141 \r\nL 488 750 \r\nQ 750 597 1062 519 \r\nQ 1375 441 1716 441 \r\nQ 2309 441 2620 675 \r\nQ 2931 909 2931 1356 \r\nQ 2931 1769 2642 2001 \r\nQ 2353 2234 1838 2234 \r\nL 1294 2234 \r\nL 1294 2753 \r\nL 1863 2753 \r\nQ 2328 2753 2575 2939 \r\nQ 2822 3125 2822 3475 \r\nQ 2822 3834 2567 4026 \r\nQ 2313 4219 1838 4219 \r\nQ 1578 4219 1281 4162 \r\nQ 984 4106 628 3988 \r\nL 628 4550 \r\nQ 988 4650 1302 4700 \r\nQ 1616 4750 1894 4750 \r\nQ 2613 4750 3031 4423 \r\nQ 3450 4097 3450 3541 \r\nQ 3450 3153 3228 2886 \r\nQ 3006 2619 2597 2516 \r\nz\r\n\" id=\"DejaVuSans-33\" transform=\"scale(0.015625)\"/>\r\n       </defs>\r\n       <use xlink:href=\"#DejaVuSans-33\"/>\r\n       <use x=\"63.623047\" xlink:href=\"#DejaVuSans-30\"/>\r\n      </g>\r\n     </g>\r\n    </g>\r\n    <g id=\"xtick_4\">\r\n     <g id=\"line2d_4\">\r\n      <g>\r\n       <use style=\"stroke:#000000;stroke-width:0.8;\" x=\"176.865058\" xlink:href=\"#m066f5c6038\" y=\"240.238125\"/>\r\n      </g>\r\n     </g>\r\n     <g id=\"text_4\">\r\n      <!-- 35 -->\r\n      <g transform=\"translate(170.502558 254.836562)scale(0.1 -0.1)\">\r\n       <use xlink:href=\"#DejaVuSans-33\"/>\r\n       <use x=\"63.623047\" xlink:href=\"#DejaVuSans-35\"/>\r\n      </g>\r\n     </g>\r\n    </g>\r\n    <g id=\"xtick_5\">\r\n     <g id=\"line2d_5\">\r\n      <g>\r\n       <use style=\"stroke:#000000;stroke-width:0.8;\" x=\"220.72149\" xlink:href=\"#m066f5c6038\" y=\"240.238125\"/>\r\n      </g>\r\n     </g>\r\n     <g id=\"text_5\">\r\n      <!-- 40 -->\r\n      <g transform=\"translate(214.35899 254.836562)scale(0.1 -0.1)\">\r\n       <defs>\r\n        <path d=\"M 2419 4116 \r\nL 825 1625 \r\nL 2419 1625 \r\nL 2419 4116 \r\nz\r\nM 2253 4666 \r\nL 3047 4666 \r\nL 3047 1625 \r\nL 3713 1625 \r\nL 3713 1100 \r\nL 3047 1100 \r\nL 3047 0 \r\nL 2419 0 \r\nL 2419 1100 \r\nL 313 1100 \r\nL 313 1709 \r\nL 2253 4666 \r\nz\r\n\" id=\"DejaVuSans-34\" transform=\"scale(0.015625)\"/>\r\n       </defs>\r\n       <use xlink:href=\"#DejaVuSans-34\"/>\r\n       <use x=\"63.623047\" xlink:href=\"#DejaVuSans-30\"/>\r\n      </g>\r\n     </g>\r\n    </g>\r\n    <g id=\"xtick_6\">\r\n     <g id=\"line2d_6\">\r\n      <g>\r\n       <use style=\"stroke:#000000;stroke-width:0.8;\" x=\"264.577922\" xlink:href=\"#m066f5c6038\" y=\"240.238125\"/>\r\n      </g>\r\n     </g>\r\n     <g id=\"text_6\">\r\n      <!-- 45 -->\r\n      <g transform=\"translate(258.215422 254.836562)scale(0.1 -0.1)\">\r\n       <use xlink:href=\"#DejaVuSans-34\"/>\r\n       <use x=\"63.623047\" xlink:href=\"#DejaVuSans-35\"/>\r\n      </g>\r\n     </g>\r\n    </g>\r\n    <g id=\"xtick_7\">\r\n     <g id=\"line2d_7\">\r\n      <g>\r\n       <use style=\"stroke:#000000;stroke-width:0.8;\" x=\"308.434354\" xlink:href=\"#m066f5c6038\" y=\"240.238125\"/>\r\n      </g>\r\n     </g>\r\n     <g id=\"text_7\">\r\n      <!-- 50 -->\r\n      <g transform=\"translate(302.071854 254.836562)scale(0.1 -0.1)\">\r\n       <use xlink:href=\"#DejaVuSans-35\"/>\r\n       <use x=\"63.623047\" xlink:href=\"#DejaVuSans-30\"/>\r\n      </g>\r\n     </g>\r\n    </g>\r\n    <g id=\"xtick_8\">\r\n     <g id=\"line2d_8\">\r\n      <g>\r\n       <use style=\"stroke:#000000;stroke-width:0.8;\" x=\"352.290785\" xlink:href=\"#m066f5c6038\" y=\"240.238125\"/>\r\n      </g>\r\n     </g>\r\n     <g id=\"text_8\">\r\n      <!-- 55 -->\r\n      <g transform=\"translate(345.928285 254.836562)scale(0.1 -0.1)\">\r\n       <use xlink:href=\"#DejaVuSans-35\"/>\r\n       <use x=\"63.623047\" xlink:href=\"#DejaVuSans-35\"/>\r\n      </g>\r\n     </g>\r\n    </g>\r\n    <g id=\"text_9\">\r\n     <!-- Precisión del disparo (%) -->\r\n     <g transform=\"translate(146.228125 268.914687)scale(0.1 -0.1)\">\r\n      <defs>\r\n       <path d=\"M 1259 4147 \r\nL 1259 2394 \r\nL 2053 2394 \r\nQ 2494 2394 2734 2622 \r\nQ 2975 2850 2975 3272 \r\nQ 2975 3691 2734 3919 \r\nQ 2494 4147 2053 4147 \r\nL 1259 4147 \r\nz\r\nM 628 4666 \r\nL 2053 4666 \r\nQ 2838 4666 3239 4311 \r\nQ 3641 3956 3641 3272 \r\nQ 3641 2581 3239 2228 \r\nQ 2838 1875 2053 1875 \r\nL 1259 1875 \r\nL 1259 0 \r\nL 628 0 \r\nL 628 4666 \r\nz\r\n\" id=\"DejaVuSans-50\" transform=\"scale(0.015625)\"/>\r\n       <path d=\"M 2631 2963 \r\nQ 2534 3019 2420 3045 \r\nQ 2306 3072 2169 3072 \r\nQ 1681 3072 1420 2755 \r\nQ 1159 2438 1159 1844 \r\nL 1159 0 \r\nL 581 0 \r\nL 581 3500 \r\nL 1159 3500 \r\nL 1159 2956 \r\nQ 1341 3275 1631 3429 \r\nQ 1922 3584 2338 3584 \r\nQ 2397 3584 2469 3576 \r\nQ 2541 3569 2628 3553 \r\nL 2631 2963 \r\nz\r\n\" id=\"DejaVuSans-72\" transform=\"scale(0.015625)\"/>\r\n       <path d=\"M 3597 1894 \r\nL 3597 1613 \r\nL 953 1613 \r\nQ 991 1019 1311 708 \r\nQ 1631 397 2203 397 \r\nQ 2534 397 2845 478 \r\nQ 3156 559 3463 722 \r\nL 3463 178 \r\nQ 3153 47 2828 -22 \r\nQ 2503 -91 2169 -91 \r\nQ 1331 -91 842 396 \r\nQ 353 884 353 1716 \r\nQ 353 2575 817 3079 \r\nQ 1281 3584 2069 3584 \r\nQ 2775 3584 3186 3129 \r\nQ 3597 2675 3597 1894 \r\nz\r\nM 3022 2063 \r\nQ 3016 2534 2758 2815 \r\nQ 2500 3097 2075 3097 \r\nQ 1594 3097 1305 2825 \r\nQ 1016 2553 972 2059 \r\nL 3022 2063 \r\nz\r\n\" id=\"DejaVuSans-65\" transform=\"scale(0.015625)\"/>\r\n       <path d=\"M 3122 3366 \r\nL 3122 2828 \r\nQ 2878 2963 2633 3030 \r\nQ 2388 3097 2138 3097 \r\nQ 1578 3097 1268 2742 \r\nQ 959 2388 959 1747 \r\nQ 959 1106 1268 751 \r\nQ 1578 397 2138 397 \r\nQ 2388 397 2633 464 \r\nQ 2878 531 3122 666 \r\nL 3122 134 \r\nQ 2881 22 2623 -34 \r\nQ 2366 -91 2075 -91 \r\nQ 1284 -91 818 406 \r\nQ 353 903 353 1747 \r\nQ 353 2603 823 3093 \r\nQ 1294 3584 2113 3584 \r\nQ 2378 3584 2631 3529 \r\nQ 2884 3475 3122 3366 \r\nz\r\n\" id=\"DejaVuSans-63\" transform=\"scale(0.015625)\"/>\r\n       <path d=\"M 603 3500 \r\nL 1178 3500 \r\nL 1178 0 \r\nL 603 0 \r\nL 603 3500 \r\nz\r\nM 603 4863 \r\nL 1178 4863 \r\nL 1178 4134 \r\nL 603 4134 \r\nL 603 4863 \r\nz\r\n\" id=\"DejaVuSans-69\" transform=\"scale(0.015625)\"/>\r\n       <path d=\"M 2834 3397 \r\nL 2834 2853 \r\nQ 2591 2978 2328 3040 \r\nQ 2066 3103 1784 3103 \r\nQ 1356 3103 1142 2972 \r\nQ 928 2841 928 2578 \r\nQ 928 2378 1081 2264 \r\nQ 1234 2150 1697 2047 \r\nL 1894 2003 \r\nQ 2506 1872 2764 1633 \r\nQ 3022 1394 3022 966 \r\nQ 3022 478 2636 193 \r\nQ 2250 -91 1575 -91 \r\nQ 1294 -91 989 -36 \r\nQ 684 19 347 128 \r\nL 347 722 \r\nQ 666 556 975 473 \r\nQ 1284 391 1588 391 \r\nQ 1994 391 2212 530 \r\nQ 2431 669 2431 922 \r\nQ 2431 1156 2273 1281 \r\nQ 2116 1406 1581 1522 \r\nL 1381 1569 \r\nQ 847 1681 609 1914 \r\nQ 372 2147 372 2553 \r\nQ 372 3047 722 3315 \r\nQ 1072 3584 1716 3584 \r\nQ 2034 3584 2315 3537 \r\nQ 2597 3491 2834 3397 \r\nz\r\n\" id=\"DejaVuSans-73\" transform=\"scale(0.015625)\"/>\r\n       <path d=\"M 1959 3097 \r\nQ 1497 3097 1228 2736 \r\nQ 959 2375 959 1747 \r\nQ 959 1119 1226 758 \r\nQ 1494 397 1959 397 \r\nQ 2419 397 2687 759 \r\nQ 2956 1122 2956 1747 \r\nQ 2956 2369 2687 2733 \r\nQ 2419 3097 1959 3097 \r\nz\r\nM 1959 3584 \r\nQ 2709 3584 3137 3096 \r\nQ 3566 2609 3566 1747 \r\nQ 3566 888 3137 398 \r\nQ 2709 -91 1959 -91 \r\nQ 1206 -91 779 398 \r\nQ 353 888 353 1747 \r\nQ 353 2609 779 3096 \r\nQ 1206 3584 1959 3584 \r\nz\r\nM 2394 5119 \r\nL 3016 5119 \r\nL 1998 3944 \r\nL 1519 3944 \r\nL 2394 5119 \r\nz\r\n\" id=\"DejaVuSans-f3\" transform=\"scale(0.015625)\"/>\r\n       <path d=\"M 3513 2113 \r\nL 3513 0 \r\nL 2938 0 \r\nL 2938 2094 \r\nQ 2938 2591 2744 2837 \r\nQ 2550 3084 2163 3084 \r\nQ 1697 3084 1428 2787 \r\nQ 1159 2491 1159 1978 \r\nL 1159 0 \r\nL 581 0 \r\nL 581 3500 \r\nL 1159 3500 \r\nL 1159 2956 \r\nQ 1366 3272 1645 3428 \r\nQ 1925 3584 2291 3584 \r\nQ 2894 3584 3203 3211 \r\nQ 3513 2838 3513 2113 \r\nz\r\n\" id=\"DejaVuSans-6e\" transform=\"scale(0.015625)\"/>\r\n       <path id=\"DejaVuSans-20\" transform=\"scale(0.015625)\"/>\r\n       <path d=\"M 2906 2969 \r\nL 2906 4863 \r\nL 3481 4863 \r\nL 3481 0 \r\nL 2906 0 \r\nL 2906 525 \r\nQ 2725 213 2448 61 \r\nQ 2172 -91 1784 -91 \r\nQ 1150 -91 751 415 \r\nQ 353 922 353 1747 \r\nQ 353 2572 751 3078 \r\nQ 1150 3584 1784 3584 \r\nQ 2172 3584 2448 3432 \r\nQ 2725 3281 2906 2969 \r\nz\r\nM 947 1747 \r\nQ 947 1113 1208 752 \r\nQ 1469 391 1925 391 \r\nQ 2381 391 2643 752 \r\nQ 2906 1113 2906 1747 \r\nQ 2906 2381 2643 2742 \r\nQ 2381 3103 1925 3103 \r\nQ 1469 3103 1208 2742 \r\nQ 947 2381 947 1747 \r\nz\r\n\" id=\"DejaVuSans-64\" transform=\"scale(0.015625)\"/>\r\n       <path d=\"M 603 4863 \r\nL 1178 4863 \r\nL 1178 0 \r\nL 603 0 \r\nL 603 4863 \r\nz\r\n\" id=\"DejaVuSans-6c\" transform=\"scale(0.015625)\"/>\r\n       <path d=\"M 1159 525 \r\nL 1159 -1331 \r\nL 581 -1331 \r\nL 581 3500 \r\nL 1159 3500 \r\nL 1159 2969 \r\nQ 1341 3281 1617 3432 \r\nQ 1894 3584 2278 3584 \r\nQ 2916 3584 3314 3078 \r\nQ 3713 2572 3713 1747 \r\nQ 3713 922 3314 415 \r\nQ 2916 -91 2278 -91 \r\nQ 1894 -91 1617 61 \r\nQ 1341 213 1159 525 \r\nz\r\nM 3116 1747 \r\nQ 3116 2381 2855 2742 \r\nQ 2594 3103 2138 3103 \r\nQ 1681 3103 1420 2742 \r\nQ 1159 2381 1159 1747 \r\nQ 1159 1113 1420 752 \r\nQ 1681 391 2138 391 \r\nQ 2594 391 2855 752 \r\nQ 3116 1113 3116 1747 \r\nz\r\n\" id=\"DejaVuSans-70\" transform=\"scale(0.015625)\"/>\r\n       <path d=\"M 2194 1759 \r\nQ 1497 1759 1228 1600 \r\nQ 959 1441 959 1056 \r\nQ 959 750 1161 570 \r\nQ 1363 391 1709 391 \r\nQ 2188 391 2477 730 \r\nQ 2766 1069 2766 1631 \r\nL 2766 1759 \r\nL 2194 1759 \r\nz\r\nM 3341 1997 \r\nL 3341 0 \r\nL 2766 0 \r\nL 2766 531 \r\nQ 2569 213 2275 61 \r\nQ 1981 -91 1556 -91 \r\nQ 1019 -91 701 211 \r\nQ 384 513 384 1019 \r\nQ 384 1609 779 1909 \r\nQ 1175 2209 1959 2209 \r\nL 2766 2209 \r\nL 2766 2266 \r\nQ 2766 2663 2505 2880 \r\nQ 2244 3097 1772 3097 \r\nQ 1472 3097 1187 3025 \r\nQ 903 2953 641 2809 \r\nL 641 3341 \r\nQ 956 3463 1253 3523 \r\nQ 1550 3584 1831 3584 \r\nQ 2591 3584 2966 3190 \r\nQ 3341 2797 3341 1997 \r\nz\r\n\" id=\"DejaVuSans-61\" transform=\"scale(0.015625)\"/>\r\n       <path d=\"M 1959 3097 \r\nQ 1497 3097 1228 2736 \r\nQ 959 2375 959 1747 \r\nQ 959 1119 1226 758 \r\nQ 1494 397 1959 397 \r\nQ 2419 397 2687 759 \r\nQ 2956 1122 2956 1747 \r\nQ 2956 2369 2687 2733 \r\nQ 2419 3097 1959 3097 \r\nz\r\nM 1959 3584 \r\nQ 2709 3584 3137 3096 \r\nQ 3566 2609 3566 1747 \r\nQ 3566 888 3137 398 \r\nQ 2709 -91 1959 -91 \r\nQ 1206 -91 779 398 \r\nQ 353 888 353 1747 \r\nQ 353 2609 779 3096 \r\nQ 1206 3584 1959 3584 \r\nz\r\n\" id=\"DejaVuSans-6f\" transform=\"scale(0.015625)\"/>\r\n       <path d=\"M 1984 4856 \r\nQ 1566 4138 1362 3434 \r\nQ 1159 2731 1159 2009 \r\nQ 1159 1288 1364 580 \r\nQ 1569 -128 1984 -844 \r\nL 1484 -844 \r\nQ 1016 -109 783 600 \r\nQ 550 1309 550 2009 \r\nQ 550 2706 781 3412 \r\nQ 1013 4119 1484 4856 \r\nL 1984 4856 \r\nz\r\n\" id=\"DejaVuSans-28\" transform=\"scale(0.015625)\"/>\r\n       <path d=\"M 4653 2053 \r\nQ 4381 2053 4226 1822 \r\nQ 4072 1591 4072 1178 \r\nQ 4072 772 4226 539 \r\nQ 4381 306 4653 306 \r\nQ 4919 306 5073 539 \r\nQ 5228 772 5228 1178 \r\nQ 5228 1588 5073 1820 \r\nQ 4919 2053 4653 2053 \r\nz\r\nM 4653 2450 \r\nQ 5147 2450 5437 2106 \r\nQ 5728 1763 5728 1178 \r\nQ 5728 594 5436 251 \r\nQ 5144 -91 4653 -91 \r\nQ 4153 -91 3862 251 \r\nQ 3572 594 3572 1178 \r\nQ 3572 1766 3864 2108 \r\nQ 4156 2450 4653 2450 \r\nz\r\nM 1428 4353 \r\nQ 1159 4353 1004 4120 \r\nQ 850 3888 850 3481 \r\nQ 850 3069 1003 2837 \r\nQ 1156 2606 1428 2606 \r\nQ 1700 2606 1854 2837 \r\nQ 2009 3069 2009 3481 \r\nQ 2009 3884 1853 4118 \r\nQ 1697 4353 1428 4353 \r\nz\r\nM 4250 4750 \r\nL 4750 4750 \r\nL 1831 -91 \r\nL 1331 -91 \r\nL 4250 4750 \r\nz\r\nM 1428 4750 \r\nQ 1922 4750 2215 4408 \r\nQ 2509 4066 2509 3481 \r\nQ 2509 2891 2217 2550 \r\nQ 1925 2209 1428 2209 \r\nQ 931 2209 642 2551 \r\nQ 353 2894 353 3481 \r\nQ 353 4063 643 4406 \r\nQ 934 4750 1428 4750 \r\nz\r\n\" id=\"DejaVuSans-25\" transform=\"scale(0.015625)\"/>\r\n       <path d=\"M 513 4856 \r\nL 1013 4856 \r\nQ 1481 4119 1714 3412 \r\nQ 1947 2706 1947 2009 \r\nQ 1947 1309 1714 600 \r\nQ 1481 -109 1013 -844 \r\nL 513 -844 \r\nQ 928 -128 1133 580 \r\nQ 1338 1288 1338 2009 \r\nQ 1338 2731 1133 3434 \r\nQ 928 4138 513 4856 \r\nz\r\n\" id=\"DejaVuSans-29\" transform=\"scale(0.015625)\"/>\r\n      </defs>\r\n      <use xlink:href=\"#DejaVuSans-50\"/>\r\n      <use x=\"58.552734\" xlink:href=\"#DejaVuSans-72\"/>\r\n      <use x=\"97.416016\" xlink:href=\"#DejaVuSans-65\"/>\r\n      <use x=\"158.939453\" xlink:href=\"#DejaVuSans-63\"/>\r\n      <use x=\"213.919922\" xlink:href=\"#DejaVuSans-69\"/>\r\n      <use x=\"241.703125\" xlink:href=\"#DejaVuSans-73\"/>\r\n      <use x=\"293.802734\" xlink:href=\"#DejaVuSans-69\"/>\r\n      <use x=\"321.585938\" xlink:href=\"#DejaVuSans-f3\"/>\r\n      <use x=\"382.767578\" xlink:href=\"#DejaVuSans-6e\"/>\r\n      <use x=\"446.146484\" xlink:href=\"#DejaVuSans-20\"/>\r\n      <use x=\"477.933594\" xlink:href=\"#DejaVuSans-64\"/>\r\n      <use x=\"541.410156\" xlink:href=\"#DejaVuSans-65\"/>\r\n      <use x=\"602.933594\" xlink:href=\"#DejaVuSans-6c\"/>\r\n      <use x=\"630.716797\" xlink:href=\"#DejaVuSans-20\"/>\r\n      <use x=\"662.503906\" xlink:href=\"#DejaVuSans-64\"/>\r\n      <use x=\"725.980469\" xlink:href=\"#DejaVuSans-69\"/>\r\n      <use x=\"753.763672\" xlink:href=\"#DejaVuSans-73\"/>\r\n      <use x=\"805.863281\" xlink:href=\"#DejaVuSans-70\"/>\r\n      <use x=\"869.339844\" xlink:href=\"#DejaVuSans-61\"/>\r\n      <use x=\"930.619141\" xlink:href=\"#DejaVuSans-72\"/>\r\n      <use x=\"969.482422\" xlink:href=\"#DejaVuSans-6f\"/>\r\n      <use x=\"1030.664062\" xlink:href=\"#DejaVuSans-20\"/>\r\n      <use x=\"1062.451172\" xlink:href=\"#DejaVuSans-28\"/>\r\n      <use x=\"1101.464844\" xlink:href=\"#DejaVuSans-25\"/>\r\n      <use x=\"1196.484375\" xlink:href=\"#DejaVuSans-29\"/>\r\n     </g>\r\n    </g>\r\n   </g>\r\n   <g id=\"matplotlib.axis_2\">\r\n    <g id=\"ytick_1\">\r\n     <g id=\"line2d_9\">\r\n      <defs>\r\n       <path d=\"M 0 0 \r\nL -3.5 0 \r\n\" id=\"mda469b122f\" style=\"stroke:#000000;stroke-width:0.8;\"/>\r\n      </defs>\r\n      <g>\r\n       <use style=\"stroke:#000000;stroke-width:0.8;\" x=\"40.603125\" xlink:href=\"#mda469b122f\" y=\"212.384241\"/>\r\n      </g>\r\n     </g>\r\n     <g id=\"text_10\">\r\n      <!-- 2 -->\r\n      <g transform=\"translate(27.240625 216.183459)scale(0.1 -0.1)\">\r\n       <use xlink:href=\"#DejaVuSans-32\"/>\r\n      </g>\r\n     </g>\r\n    </g>\r\n    <g id=\"ytick_2\">\r\n     <g id=\"line2d_10\">\r\n      <g>\r\n       <use style=\"stroke:#000000;stroke-width:0.8;\" x=\"40.603125\" xlink:href=\"#mda469b122f\" y=\"176.443745\"/>\r\n      </g>\r\n     </g>\r\n     <g id=\"text_11\">\r\n      <!-- 4 -->\r\n      <g transform=\"translate(27.240625 180.242964)scale(0.1 -0.1)\">\r\n       <use xlink:href=\"#DejaVuSans-34\"/>\r\n      </g>\r\n     </g>\r\n    </g>\r\n    <g id=\"ytick_3\">\r\n     <g id=\"line2d_11\">\r\n      <g>\r\n       <use style=\"stroke:#000000;stroke-width:0.8;\" x=\"40.603125\" xlink:href=\"#mda469b122f\" y=\"140.503249\"/>\r\n      </g>\r\n     </g>\r\n     <g id=\"text_12\">\r\n      <!-- 6 -->\r\n      <g transform=\"translate(27.240625 144.302468)scale(0.1 -0.1)\">\r\n       <defs>\r\n        <path d=\"M 2113 2584 \r\nQ 1688 2584 1439 2293 \r\nQ 1191 2003 1191 1497 \r\nQ 1191 994 1439 701 \r\nQ 1688 409 2113 409 \r\nQ 2538 409 2786 701 \r\nQ 3034 994 3034 1497 \r\nQ 3034 2003 2786 2293 \r\nQ 2538 2584 2113 2584 \r\nz\r\nM 3366 4563 \r\nL 3366 3988 \r\nQ 3128 4100 2886 4159 \r\nQ 2644 4219 2406 4219 \r\nQ 1781 4219 1451 3797 \r\nQ 1122 3375 1075 2522 \r\nQ 1259 2794 1537 2939 \r\nQ 1816 3084 2150 3084 \r\nQ 2853 3084 3261 2657 \r\nQ 3669 2231 3669 1497 \r\nQ 3669 778 3244 343 \r\nQ 2819 -91 2113 -91 \r\nQ 1303 -91 875 529 \r\nQ 447 1150 447 2328 \r\nQ 447 3434 972 4092 \r\nQ 1497 4750 2381 4750 \r\nQ 2619 4750 2861 4703 \r\nQ 3103 4656 3366 4563 \r\nz\r\n\" id=\"DejaVuSans-36\" transform=\"scale(0.015625)\"/>\r\n       </defs>\r\n       <use xlink:href=\"#DejaVuSans-36\"/>\r\n      </g>\r\n     </g>\r\n    </g>\r\n    <g id=\"ytick_4\">\r\n     <g id=\"line2d_12\">\r\n      <g>\r\n       <use style=\"stroke:#000000;stroke-width:0.8;\" x=\"40.603125\" xlink:href=\"#mda469b122f\" y=\"104.562753\"/>\r\n      </g>\r\n     </g>\r\n     <g id=\"text_13\">\r\n      <!-- 8 -->\r\n      <g transform=\"translate(27.240625 108.361972)scale(0.1 -0.1)\">\r\n       <defs>\r\n        <path d=\"M 2034 2216 \r\nQ 1584 2216 1326 1975 \r\nQ 1069 1734 1069 1313 \r\nQ 1069 891 1326 650 \r\nQ 1584 409 2034 409 \r\nQ 2484 409 2743 651 \r\nQ 3003 894 3003 1313 \r\nQ 3003 1734 2745 1975 \r\nQ 2488 2216 2034 2216 \r\nz\r\nM 1403 2484 \r\nQ 997 2584 770 2862 \r\nQ 544 3141 544 3541 \r\nQ 544 4100 942 4425 \r\nQ 1341 4750 2034 4750 \r\nQ 2731 4750 3128 4425 \r\nQ 3525 4100 3525 3541 \r\nQ 3525 3141 3298 2862 \r\nQ 3072 2584 2669 2484 \r\nQ 3125 2378 3379 2068 \r\nQ 3634 1759 3634 1313 \r\nQ 3634 634 3220 271 \r\nQ 2806 -91 2034 -91 \r\nQ 1263 -91 848 271 \r\nQ 434 634 434 1313 \r\nQ 434 1759 690 2068 \r\nQ 947 2378 1403 2484 \r\nz\r\nM 1172 3481 \r\nQ 1172 3119 1398 2916 \r\nQ 1625 2713 2034 2713 \r\nQ 2441 2713 2670 2916 \r\nQ 2900 3119 2900 3481 \r\nQ 2900 3844 2670 4047 \r\nQ 2441 4250 2034 4250 \r\nQ 1625 4250 1398 4047 \r\nQ 1172 3844 1172 3481 \r\nz\r\n\" id=\"DejaVuSans-38\" transform=\"scale(0.015625)\"/>\r\n       </defs>\r\n       <use xlink:href=\"#DejaVuSans-38\"/>\r\n      </g>\r\n     </g>\r\n    </g>\r\n    <g id=\"ytick_5\">\r\n     <g id=\"line2d_13\">\r\n      <g>\r\n       <use style=\"stroke:#000000;stroke-width:0.8;\" x=\"40.603125\" xlink:href=\"#mda469b122f\" y=\"68.622257\"/>\r\n      </g>\r\n     </g>\r\n     <g id=\"text_14\">\r\n      <!-- 10 -->\r\n      <g transform=\"translate(20.878125 72.421476)scale(0.1 -0.1)\">\r\n       <defs>\r\n        <path d=\"M 794 531 \r\nL 1825 531 \r\nL 1825 4091 \r\nL 703 3866 \r\nL 703 4441 \r\nL 1819 4666 \r\nL 2450 4666 \r\nL 2450 531 \r\nL 3481 531 \r\nL 3481 0 \r\nL 794 0 \r\nL 794 531 \r\nz\r\n\" id=\"DejaVuSans-31\" transform=\"scale(0.015625)\"/>\r\n       </defs>\r\n       <use xlink:href=\"#DejaVuSans-31\"/>\r\n       <use x=\"63.623047\" xlink:href=\"#DejaVuSans-30\"/>\r\n      </g>\r\n     </g>\r\n    </g>\r\n    <g id=\"ytick_6\">\r\n     <g id=\"line2d_14\">\r\n      <g>\r\n       <use style=\"stroke:#000000;stroke-width:0.8;\" x=\"40.603125\" xlink:href=\"#mda469b122f\" y=\"32.681761\"/>\r\n      </g>\r\n     </g>\r\n     <g id=\"text_15\">\r\n      <!-- 12 -->\r\n      <g transform=\"translate(20.878125 36.48098)scale(0.1 -0.1)\">\r\n       <use xlink:href=\"#DejaVuSans-31\"/>\r\n       <use x=\"63.623047\" xlink:href=\"#DejaVuSans-32\"/>\r\n      </g>\r\n     </g>\r\n    </g>\r\n    <g id=\"text_16\">\r\n     <!-- Número de Goles -->\r\n     <g transform=\"translate(14.798438 174.809531)rotate(-90)scale(0.1 -0.1)\">\r\n      <defs>\r\n       <path d=\"M 628 4666 \r\nL 1478 4666 \r\nL 3547 763 \r\nL 3547 4666 \r\nL 4159 4666 \r\nL 4159 0 \r\nL 3309 0 \r\nL 1241 3903 \r\nL 1241 0 \r\nL 628 0 \r\nL 628 4666 \r\nz\r\n\" id=\"DejaVuSans-4e\" transform=\"scale(0.015625)\"/>\r\n       <path d=\"M 544 1381 \r\nL 544 3500 \r\nL 1119 3500 \r\nL 1119 1403 \r\nQ 1119 906 1312 657 \r\nQ 1506 409 1894 409 \r\nQ 2359 409 2629 706 \r\nQ 2900 1003 2900 1516 \r\nL 2900 3500 \r\nL 3475 3500 \r\nL 3475 0 \r\nL 2900 0 \r\nL 2900 538 \r\nQ 2691 219 2414 64 \r\nQ 2138 -91 1772 -91 \r\nQ 1169 -91 856 284 \r\nQ 544 659 544 1381 \r\nz\r\nM 1991 3584 \r\nL 1991 3584 \r\nz\r\nM 2418 5119 \r\nL 3040 5119 \r\nL 2022 3944 \r\nL 1543 3944 \r\nL 2418 5119 \r\nz\r\n\" id=\"DejaVuSans-fa\" transform=\"scale(0.015625)\"/>\r\n       <path d=\"M 3328 2828 \r\nQ 3544 3216 3844 3400 \r\nQ 4144 3584 4550 3584 \r\nQ 5097 3584 5394 3201 \r\nQ 5691 2819 5691 2113 \r\nL 5691 0 \r\nL 5113 0 \r\nL 5113 2094 \r\nQ 5113 2597 4934 2840 \r\nQ 4756 3084 4391 3084 \r\nQ 3944 3084 3684 2787 \r\nQ 3425 2491 3425 1978 \r\nL 3425 0 \r\nL 2847 0 \r\nL 2847 2094 \r\nQ 2847 2600 2669 2842 \r\nQ 2491 3084 2119 3084 \r\nQ 1678 3084 1418 2786 \r\nQ 1159 2488 1159 1978 \r\nL 1159 0 \r\nL 581 0 \r\nL 581 3500 \r\nL 1159 3500 \r\nL 1159 2956 \r\nQ 1356 3278 1631 3431 \r\nQ 1906 3584 2284 3584 \r\nQ 2666 3584 2933 3390 \r\nQ 3200 3197 3328 2828 \r\nz\r\n\" id=\"DejaVuSans-6d\" transform=\"scale(0.015625)\"/>\r\n       <path d=\"M 3809 666 \r\nL 3809 1919 \r\nL 2778 1919 \r\nL 2778 2438 \r\nL 4434 2438 \r\nL 4434 434 \r\nQ 4069 175 3628 42 \r\nQ 3188 -91 2688 -91 \r\nQ 1594 -91 976 548 \r\nQ 359 1188 359 2328 \r\nQ 359 3472 976 4111 \r\nQ 1594 4750 2688 4750 \r\nQ 3144 4750 3555 4637 \r\nQ 3966 4525 4313 4306 \r\nL 4313 3634 \r\nQ 3963 3931 3569 4081 \r\nQ 3175 4231 2741 4231 \r\nQ 1884 4231 1454 3753 \r\nQ 1025 3275 1025 2328 \r\nQ 1025 1384 1454 906 \r\nQ 1884 428 2741 428 \r\nQ 3075 428 3337 486 \r\nQ 3600 544 3809 666 \r\nz\r\n\" id=\"DejaVuSans-47\" transform=\"scale(0.015625)\"/>\r\n      </defs>\r\n      <use xlink:href=\"#DejaVuSans-4e\"/>\r\n      <use x=\"74.804688\" xlink:href=\"#DejaVuSans-fa\"/>\r\n      <use x=\"138.183594\" xlink:href=\"#DejaVuSans-6d\"/>\r\n      <use x=\"235.595703\" xlink:href=\"#DejaVuSans-65\"/>\r\n      <use x=\"297.119141\" xlink:href=\"#DejaVuSans-72\"/>\r\n      <use x=\"335.982422\" xlink:href=\"#DejaVuSans-6f\"/>\r\n      <use x=\"397.164062\" xlink:href=\"#DejaVuSans-20\"/>\r\n      <use x=\"428.951172\" xlink:href=\"#DejaVuSans-64\"/>\r\n      <use x=\"492.427734\" xlink:href=\"#DejaVuSans-65\"/>\r\n      <use x=\"553.951172\" xlink:href=\"#DejaVuSans-20\"/>\r\n      <use x=\"585.738281\" xlink:href=\"#DejaVuSans-47\"/>\r\n      <use x=\"663.228516\" xlink:href=\"#DejaVuSans-6f\"/>\r\n      <use x=\"724.410156\" xlink:href=\"#DejaVuSans-6c\"/>\r\n      <use x=\"752.193359\" xlink:href=\"#DejaVuSans-65\"/>\r\n      <use x=\"813.716797\" xlink:href=\"#DejaVuSans-73\"/>\r\n     </g>\r\n    </g>\r\n   </g>\r\n   <g id=\"line2d_15\">\r\n    <path clip-path=\"url(#p0a8e6ea551)\" d=\"M 67.223979 160.277123 \r\nL 325.099798 174.649187 \r\nL 237.386934 178.237998 \r\nL 283.874752 156.673252 \r\nL 360.184943 34.479524 \r\nL 247.035349 141.730086 \r\nL 192.653374 228.554705 \r\nL 308.434354 160.26837 \r\nL 139.148527 160.266615 \r\nL 215.458718 210.580621 \r\nL 202.301789 196.216028 \r\nL 55.821307 210.593812 \r\n\" style=\"fill:none;stroke:#008000;stroke-linecap:square;stroke-width:1.5;\"/>\r\n   </g>\r\n   <g id=\"patch_3\">\r\n    <path d=\"M 40.603125 240.238125 \r\nL 40.603125 22.798125 \r\n\" style=\"fill:none;stroke:#000000;stroke-linecap:square;stroke-linejoin:miter;stroke-width:0.8;\"/>\r\n   </g>\r\n   <g id=\"patch_4\">\r\n    <path d=\"M 375.403125 240.238125 \r\nL 375.403125 22.798125 \r\n\" style=\"fill:none;stroke:#000000;stroke-linecap:square;stroke-linejoin:miter;stroke-width:0.8;\"/>\r\n   </g>\r\n   <g id=\"patch_5\">\r\n    <path d=\"M 40.603125 240.238125 \r\nL 375.403125 240.238125 \r\n\" style=\"fill:none;stroke:#000000;stroke-linecap:square;stroke-linejoin:miter;stroke-width:0.8;\"/>\r\n   </g>\r\n   <g id=\"patch_6\">\r\n    <path d=\"M 40.603125 22.798125 \r\nL 375.403125 22.798125 \r\n\" style=\"fill:none;stroke:#000000;stroke-linecap:square;stroke-linejoin:miter;stroke-width:0.8;\"/>\r\n   </g>\r\n   <g id=\"text_17\">\r\n    <!-- Precisión del disparo y goles. SVR -->\r\n    <g transform=\"translate(106.936875 16.798125)scale(0.12 -0.12)\">\r\n     <defs>\r\n      <path d=\"M 2059 -325 \r\nQ 1816 -950 1584 -1140 \r\nQ 1353 -1331 966 -1331 \r\nL 506 -1331 \r\nL 506 -850 \r\nL 844 -850 \r\nQ 1081 -850 1212 -737 \r\nQ 1344 -625 1503 -206 \r\nL 1606 56 \r\nL 191 3500 \r\nL 800 3500 \r\nL 1894 763 \r\nL 2988 3500 \r\nL 3597 3500 \r\nL 2059 -325 \r\nz\r\n\" id=\"DejaVuSans-79\" transform=\"scale(0.015625)\"/>\r\n      <path d=\"M 2906 1791 \r\nQ 2906 2416 2648 2759 \r\nQ 2391 3103 1925 3103 \r\nQ 1463 3103 1205 2759 \r\nQ 947 2416 947 1791 \r\nQ 947 1169 1205 825 \r\nQ 1463 481 1925 481 \r\nQ 2391 481 2648 825 \r\nQ 2906 1169 2906 1791 \r\nz\r\nM 3481 434 \r\nQ 3481 -459 3084 -895 \r\nQ 2688 -1331 1869 -1331 \r\nQ 1566 -1331 1297 -1286 \r\nQ 1028 -1241 775 -1147 \r\nL 775 -588 \r\nQ 1028 -725 1275 -790 \r\nQ 1522 -856 1778 -856 \r\nQ 2344 -856 2625 -561 \r\nQ 2906 -266 2906 331 \r\nL 2906 616 \r\nQ 2728 306 2450 153 \r\nQ 2172 0 1784 0 \r\nQ 1141 0 747 490 \r\nQ 353 981 353 1791 \r\nQ 353 2603 747 3093 \r\nQ 1141 3584 1784 3584 \r\nQ 2172 3584 2450 3431 \r\nQ 2728 3278 2906 2969 \r\nL 2906 3500 \r\nL 3481 3500 \r\nL 3481 434 \r\nz\r\n\" id=\"DejaVuSans-67\" transform=\"scale(0.015625)\"/>\r\n      <path d=\"M 684 794 \r\nL 1344 794 \r\nL 1344 0 \r\nL 684 0 \r\nL 684 794 \r\nz\r\n\" id=\"DejaVuSans-2e\" transform=\"scale(0.015625)\"/>\r\n      <path d=\"M 3425 4513 \r\nL 3425 3897 \r\nQ 3066 4069 2747 4153 \r\nQ 2428 4238 2131 4238 \r\nQ 1616 4238 1336 4038 \r\nQ 1056 3838 1056 3469 \r\nQ 1056 3159 1242 3001 \r\nQ 1428 2844 1947 2747 \r\nL 2328 2669 \r\nQ 3034 2534 3370 2195 \r\nQ 3706 1856 3706 1288 \r\nQ 3706 609 3251 259 \r\nQ 2797 -91 1919 -91 \r\nQ 1588 -91 1214 -16 \r\nQ 841 59 441 206 \r\nL 441 856 \r\nQ 825 641 1194 531 \r\nQ 1563 422 1919 422 \r\nQ 2459 422 2753 634 \r\nQ 3047 847 3047 1241 \r\nQ 3047 1584 2836 1778 \r\nQ 2625 1972 2144 2069 \r\nL 1759 2144 \r\nQ 1053 2284 737 2584 \r\nQ 422 2884 422 3419 \r\nQ 422 4038 858 4394 \r\nQ 1294 4750 2059 4750 \r\nQ 2388 4750 2728 4690 \r\nQ 3069 4631 3425 4513 \r\nz\r\n\" id=\"DejaVuSans-53\" transform=\"scale(0.015625)\"/>\r\n      <path d=\"M 1831 0 \r\nL 50 4666 \r\nL 709 4666 \r\nL 2188 738 \r\nL 3669 4666 \r\nL 4325 4666 \r\nL 2547 0 \r\nL 1831 0 \r\nz\r\n\" id=\"DejaVuSans-56\" transform=\"scale(0.015625)\"/>\r\n      <path d=\"M 2841 2188 \r\nQ 3044 2119 3236 1894 \r\nQ 3428 1669 3622 1275 \r\nL 4263 0 \r\nL 3584 0 \r\nL 2988 1197 \r\nQ 2756 1666 2539 1819 \r\nQ 2322 1972 1947 1972 \r\nL 1259 1972 \r\nL 1259 0 \r\nL 628 0 \r\nL 628 4666 \r\nL 2053 4666 \r\nQ 2853 4666 3247 4331 \r\nQ 3641 3997 3641 3322 \r\nQ 3641 2881 3436 2590 \r\nQ 3231 2300 2841 2188 \r\nz\r\nM 1259 4147 \r\nL 1259 2491 \r\nL 2053 2491 \r\nQ 2509 2491 2742 2702 \r\nQ 2975 2913 2975 3322 \r\nQ 2975 3731 2742 3939 \r\nQ 2509 4147 2053 4147 \r\nL 1259 4147 \r\nz\r\n\" id=\"DejaVuSans-52\" transform=\"scale(0.015625)\"/>\r\n     </defs>\r\n     <use xlink:href=\"#DejaVuSans-50\"/>\r\n     <use x=\"58.552734\" xlink:href=\"#DejaVuSans-72\"/>\r\n     <use x=\"97.416016\" xlink:href=\"#DejaVuSans-65\"/>\r\n     <use x=\"158.939453\" xlink:href=\"#DejaVuSans-63\"/>\r\n     <use x=\"213.919922\" xlink:href=\"#DejaVuSans-69\"/>\r\n     <use x=\"241.703125\" xlink:href=\"#DejaVuSans-73\"/>\r\n     <use x=\"293.802734\" xlink:href=\"#DejaVuSans-69\"/>\r\n     <use x=\"321.585938\" xlink:href=\"#DejaVuSans-f3\"/>\r\n     <use x=\"382.767578\" xlink:href=\"#DejaVuSans-6e\"/>\r\n     <use x=\"446.146484\" xlink:href=\"#DejaVuSans-20\"/>\r\n     <use x=\"477.933594\" xlink:href=\"#DejaVuSans-64\"/>\r\n     <use x=\"541.410156\" xlink:href=\"#DejaVuSans-65\"/>\r\n     <use x=\"602.933594\" xlink:href=\"#DejaVuSans-6c\"/>\r\n     <use x=\"630.716797\" xlink:href=\"#DejaVuSans-20\"/>\r\n     <use x=\"662.503906\" xlink:href=\"#DejaVuSans-64\"/>\r\n     <use x=\"725.980469\" xlink:href=\"#DejaVuSans-69\"/>\r\n     <use x=\"753.763672\" xlink:href=\"#DejaVuSans-73\"/>\r\n     <use x=\"805.863281\" xlink:href=\"#DejaVuSans-70\"/>\r\n     <use x=\"869.339844\" xlink:href=\"#DejaVuSans-61\"/>\r\n     <use x=\"930.619141\" xlink:href=\"#DejaVuSans-72\"/>\r\n     <use x=\"969.482422\" xlink:href=\"#DejaVuSans-6f\"/>\r\n     <use x=\"1030.664062\" xlink:href=\"#DejaVuSans-20\"/>\r\n     <use x=\"1062.451172\" xlink:href=\"#DejaVuSans-79\"/>\r\n     <use x=\"1121.630859\" xlink:href=\"#DejaVuSans-20\"/>\r\n     <use x=\"1153.417969\" xlink:href=\"#DejaVuSans-67\"/>\r\n     <use x=\"1216.894531\" xlink:href=\"#DejaVuSans-6f\"/>\r\n     <use x=\"1278.076172\" xlink:href=\"#DejaVuSans-6c\"/>\r\n     <use x=\"1305.859375\" xlink:href=\"#DejaVuSans-65\"/>\r\n     <use x=\"1367.382812\" xlink:href=\"#DejaVuSans-73\"/>\r\n     <use x=\"1419.482422\" xlink:href=\"#DejaVuSans-2e\"/>\r\n     <use x=\"1451.269531\" xlink:href=\"#DejaVuSans-20\"/>\r\n     <use x=\"1483.056641\" xlink:href=\"#DejaVuSans-53\"/>\r\n     <use x=\"1546.533203\" xlink:href=\"#DejaVuSans-56\"/>\r\n     <use x=\"1614.941406\" xlink:href=\"#DejaVuSans-52\"/>\r\n    </g>\r\n   </g>\r\n  </g>\r\n </g>\r\n <defs>\r\n  <clipPath id=\"p0a8e6ea551\">\r\n   <rect height=\"217.44\" width=\"334.8\" x=\"40.603125\" y=\"22.798125\"/>\r\n  </clipPath>\r\n </defs>\r\n</svg>\r\n",
      "image/png": "[encoded data removed]"
     },
     "metadata": {
      "needs_background": "light"
     }
    }
   ],
   "source": [
    "svr_rbf = SVR(kernel='rbf', C=100, gamma=0.1, epsilon=.1)\n",
    "model = svr_rbf.fit(X_train, y_train)\n",
    "print(\"model.score:\", model.score(X_train, y_train))\n",
    "y_prediction = model.predict(X_train)\n",
    "plt.scatter(X_train, y_train, color='red')\n",
    "plt.scatter(X_train, y_prediction, color='green', alpha=0.3)\n",
    "plt.title('Precisión del disparo y goles. SVR')\n",
    "plt.xlabel('Precisión del disparo (%)')\n",
    "plt.ylabel('Número de Goles')\n",
    "plt.plot(X_train, y_prediction, color='green')"
   ]
  },
  {
   "cell_type": "code",
   "execution_count": 181,
   "metadata": {},
   "outputs": [
    {
     "output_type": "execute_result",
     "data": {
      "text/plain": [
       "array([4.68139784])"
      ]
     },
     "metadata": {},
     "execution_count": 181
    }
   ],
   "source": [
    "model.intercept_"
   ]
  },
  {
   "cell_type": "code",
   "execution_count": 182,
   "metadata": {},
   "outputs": [
    {
     "output_type": "error",
     "ename": "AttributeError",
     "evalue": "coef_ is only available when using a linear kernel",
     "traceback": [
      "\u001b[1;31m---------------------------------------------------------------------------\u001b[0m",
      "\u001b[1;31mAttributeError\u001b[0m                            Traceback (most recent call last)",
      "\u001b[1;32m<ipython-input-182-4650e3f7c16c>\u001b[0m in \u001b[0;36m<module>\u001b[1;34m\u001b[0m\n\u001b[1;32m----> 1\u001b[1;33m \u001b[0mmodel\u001b[0m\u001b[1;33m.\u001b[0m\u001b[0mcoef_\u001b[0m\u001b[1;33m\u001b[0m\u001b[1;33m\u001b[0m\u001b[0m\n\u001b[0m",
      "\u001b[1;32m~\\AppData\\Local\\Programs\\Python\\Python38\\lib\\site-packages\\sklearn\\svm\\_base.py\u001b[0m in \u001b[0;36mcoef_\u001b[1;34m(self)\u001b[0m\n\u001b[0;32m    499\u001b[0m     \u001b[1;32mdef\u001b[0m \u001b[0mcoef_\u001b[0m\u001b[1;33m(\u001b[0m\u001b[0mself\u001b[0m\u001b[1;33m)\u001b[0m\u001b[1;33m:\u001b[0m\u001b[1;33m\u001b[0m\u001b[1;33m\u001b[0m\u001b[0m\n\u001b[0;32m    500\u001b[0m         \u001b[1;32mif\u001b[0m \u001b[0mself\u001b[0m\u001b[1;33m.\u001b[0m\u001b[0mkernel\u001b[0m \u001b[1;33m!=\u001b[0m \u001b[1;34m'linear'\u001b[0m\u001b[1;33m:\u001b[0m\u001b[1;33m\u001b[0m\u001b[1;33m\u001b[0m\u001b[0m\n\u001b[1;32m--> 501\u001b[1;33m             raise AttributeError('coef_ is only available when using a '\n\u001b[0m\u001b[0;32m    502\u001b[0m                                  'linear kernel')\n\u001b[0;32m    503\u001b[0m \u001b[1;33m\u001b[0m\u001b[0m\n",
      "\u001b[1;31mAttributeError\u001b[0m: coef_ is only available when using a linear kernel"
     ]
    }
   ],
   "source": [
    "model.coef_"
   ]
  },
  {
   "source": [
    "### Es el modelo con mayor porcentaje de aciertos: 99,86% pero el que menos información nos aporta. No podemos calcular los coeficientes con lo que no sabemos como aumentan o disminuyen los goles en función del número de disparos precisos a puerta"
   ],
   "cell_type": "markdown",
   "metadata": {}
  },
  {
   "cell_type": "code",
   "execution_count": null,
   "metadata": {},
   "outputs": [],
   "source": []
  },
  {
   "source": [
    "# 3\n"
   ],
   "cell_type": "markdown",
   "metadata": {}
  },
  {
   "cell_type": "code",
   "execution_count": null,
   "metadata": {},
   "outputs": [],
   "source": [
    "Si tratamos la columna Goals como una columna categórica y usando logistic regression, SVM y Random forest, ¿cuántos goles marcaría un equipo que tiene...? (por cada algoritmo):\n",
    "\n",
    "% de goles por disparo: 40%\n",
    "Total shots (inc. Blocked): 102\n",
    "Corners Taken: 5\n",
    "Passes: 82\n",
    "Dribbles: 23"
   ]
  },
  {
   "cell_type": "code",
   "execution_count": 46,
   "metadata": {},
   "outputs": [],
   "source": [
    "df_No_Goals = df.drop(['Team','Goals', 'Shots on target', 'Shots off target',\n",
    "       'Shooting Accuracy', 'Hit Woodwork', 'Penalty goals', 'Penalties not scored', 'Headed goals',\n",
    "       'Passes completed', 'Passing Accuracy', 'Touches', 'Crosses', 'Tackles', 'Clearances', 'Interceptions',\n",
    "       'Clearances off line', 'Clean Sheets', 'Blocks', 'Goals conceded', 'Saves made', 'Saves-to-shots ratio', 'Fouls Won', 'Fouls Conceded', 'Offsides', 'Yellow Cards', 'Red Cards', 'Subs on', 'Subs off', 'Players Used'], 1)"
   ]
  },
  {
   "cell_type": "code",
   "execution_count": 47,
   "metadata": {},
   "outputs": [
    {
     "output_type": "execute_result",
     "data": {
      "text/plain": [
       "    % Goals-to-shots  Total shots (inc. Blocked)  Passes  Dribbles  \\\n",
       "0               16.0                          32    1076        42   \n",
       "1               12.9                          39    1565        68   \n",
       "2               20.0                          27    1298        32   \n",
       "3               17.2                          40    1488        60   \n",
       "4                6.5                          65    2066        76   \n",
       "5               15.6                          80    2774        60   \n",
       "6               19.2                          32    1187        53   \n",
       "7                7.5                         110    3016        75   \n",
       "8                4.1                          60    1556        49   \n",
       "9                5.2                          48    1059        39   \n",
       "10               9.3                          82    1891        64   \n",
       "11               5.2                          28     851        18   \n",
       "12              12.5                          59    1602        40   \n",
       "13              16.0                         100    4317       106   \n",
       "14              13.8                          39    1192        29   \n",
       "15               6.0                          38    1276        26   \n",
       "\n",
       "    Corners Taken  \n",
       "0              14  \n",
       "1              21  \n",
       "2              16  \n",
       "3              16  \n",
       "4              28  \n",
       "5              35  \n",
       "6              10  \n",
       "7              30  \n",
       "8              22  \n",
       "9              14  \n",
       "10             41  \n",
       "11              8  \n",
       "12             21  \n",
       "13             44  \n",
       "14              7  \n",
       "15             18  "
      ],
      "text/html": "<div>\n<style scoped>\n    .dataframe tbody tr th:only-of-type {\n        vertical-align: middle;\n    }\n\n    .dataframe tbody tr th {\n        vertical-align: top;\n    }\n\n    .dataframe thead th {\n        text-align: right;\n    }\n</style>\n<table border=\"1\" class=\"dataframe\">\n  <thead>\n    <tr style=\"text-align: right;\">\n      <th></th>\n      <th>% Goals-to-shots</th>\n      <th>Total shots (inc. Blocked)</th>\n      <th>Passes</th>\n      <th>Dribbles</th>\n      <th>Corners Taken</th>\n    </tr>\n  </thead>\n  <tbody>\n    <tr>\n      <th>0</th>\n      <td>16.0</td>\n      <td>32</td>\n      <td>1076</td>\n      <td>42</td>\n      <td>14</td>\n    </tr>\n    <tr>\n      <th>1</th>\n      <td>12.9</td>\n      <td>39</td>\n      <td>1565</td>\n      <td>68</td>\n      <td>21</td>\n    </tr>\n    <tr>\n      <th>2</th>\n      <td>20.0</td>\n      <td>27</td>\n      <td>1298</td>\n      <td>32</td>\n      <td>16</td>\n    </tr>\n    <tr>\n      <th>3</th>\n      <td>17.2</td>\n      <td>40</td>\n      <td>1488</td>\n      <td>60</td>\n      <td>16</td>\n    </tr>\n    <tr>\n      <th>4</th>\n      <td>6.5</td>\n      <td>65</td>\n      <td>2066</td>\n      <td>76</td>\n      <td>28</td>\n    </tr>\n    <tr>\n      <th>5</th>\n      <td>15.6</td>\n      <td>80</td>\n      <td>2774</td>\n      <td>60</td>\n      <td>35</td>\n    </tr>\n    <tr>\n      <th>6</th>\n      <td>19.2</td>\n      <td>32</td>\n      <td>1187</td>\n      <td>53</td>\n      <td>10</td>\n    </tr>\n    <tr>\n      <th>7</th>\n      <td>7.5</td>\n      <td>110</td>\n      <td>3016</td>\n      <td>75</td>\n      <td>30</td>\n    </tr>\n    <tr>\n      <th>8</th>\n      <td>4.1</td>\n      <td>60</td>\n      <td>1556</td>\n      <td>49</td>\n      <td>22</td>\n    </tr>\n    <tr>\n      <th>9</th>\n      <td>5.2</td>\n      <td>48</td>\n      <td>1059</td>\n      <td>39</td>\n      <td>14</td>\n    </tr>\n    <tr>\n      <th>10</th>\n      <td>9.3</td>\n      <td>82</td>\n      <td>1891</td>\n      <td>64</td>\n      <td>41</td>\n    </tr>\n    <tr>\n      <th>11</th>\n      <td>5.2</td>\n      <td>28</td>\n      <td>851</td>\n      <td>18</td>\n      <td>8</td>\n    </tr>\n    <tr>\n      <th>12</th>\n      <td>12.5</td>\n      <td>59</td>\n      <td>1602</td>\n      <td>40</td>\n      <td>21</td>\n    </tr>\n    <tr>\n      <th>13</th>\n      <td>16.0</td>\n      <td>100</td>\n      <td>4317</td>\n      <td>106</td>\n      <td>44</td>\n    </tr>\n    <tr>\n      <th>14</th>\n      <td>13.8</td>\n      <td>39</td>\n      <td>1192</td>\n      <td>29</td>\n      <td>7</td>\n    </tr>\n    <tr>\n      <th>15</th>\n      <td>6.0</td>\n      <td>38</td>\n      <td>1276</td>\n      <td>26</td>\n      <td>18</td>\n    </tr>\n  </tbody>\n</table>\n</div>"
     },
     "metadata": {},
     "execution_count": 47
    }
   ],
   "source": [
    "df_No_Goals"
   ]
  },
  {
   "cell_type": "code",
   "execution_count": 48,
   "metadata": {},
   "outputs": [
    {
     "output_type": "stream",
     "name": "stdout",
     "text": [
      "(16,)\n"
     ]
    },
    {
     "output_type": "execute_result",
     "data": {
      "text/plain": [
       "(16, 5)"
      ]
     },
     "metadata": {},
     "execution_count": 48
    }
   ],
   "source": [
    "X = np.array(df.drop(['Team','Goals', 'Shots on target', 'Shots off target',\n",
    "       'Shooting Accuracy', 'Hit Woodwork', 'Penalty goals', 'Penalties not scored', 'Headed goals',\n",
    "       'Passes completed', 'Passing Accuracy', 'Touches', 'Crosses', 'Tackles', 'Clearances', 'Interceptions',\n",
    "       'Clearances off line', 'Clean Sheets', 'Blocks', 'Goals conceded', 'Saves made', 'Saves-to-shots ratio', 'Fouls Won', 'Fouls Conceded', 'Offsides', 'Yellow Cards', 'Red Cards', 'Subs on', 'Subs off', 'Players Used'], axis=1))\n",
    "y = np.array(df['Goals'])\n",
    "print(y.shape)\n",
    "X.shape"
   ]
  },
  {
   "source": [
    "### Regresión logística"
   ],
   "cell_type": "markdown",
   "metadata": {}
  },
  {
   "cell_type": "code",
   "execution_count": 49,
   "metadata": {},
   "outputs": [
    {
     "output_type": "stream",
     "name": "stderr",
     "text": [
      "C:\\Users\\ggarr\\AppData\\Local\\Programs\\Python\\Python38\\lib\\site-packages\\sklearn\\linear_model\\_logistic.py:763: ConvergenceWarning: lbfgs failed to converge (status=1):\nSTOP: TOTAL NO. of ITERATIONS REACHED LIMIT.\n\nIncrease the number of iterations (max_iter) or scale the data as shown in:\n    https://scikit-learn.org/stable/modules/preprocessing.html\nPlease also refer to the documentation for alternative solver options:\n    https://scikit-learn.org/stable/modules/linear_model.html#logistic-regression\n  n_iter_i = _check_optimize_result(\n"
     ]
    },
    {
     "output_type": "execute_result",
     "data": {
      "text/plain": [
       "0.75"
      ]
     },
     "metadata": {},
     "execution_count": 49
    }
   ],
   "source": [
    "model = linear_model.LogisticRegression(max_iter=100,random_state=7)\n",
    "# No se está entrenado con el conjunto de entrenamiento\n",
    "model.fit(X,y)\n",
    "model.score(X, y)"
   ]
  },
  {
   "cell_type": "code",
   "execution_count": 50,
   "metadata": {},
   "outputs": [
    {
     "output_type": "stream",
     "name": "stdout",
     "text": [
      "[ 5  4  4  4  3 10  5  6  2  2  6  5  5 12  5 10]\n"
     ]
    }
   ],
   "source": [
    "y_predict = model.predict(X)\n",
    "print(y_predict)"
   ]
  },
  {
   "cell_type": "code",
   "execution_count": 51,
   "metadata": {},
   "outputs": [
    {
     "output_type": "execute_result",
     "data": {
      "text/plain": [
       "   % Goals-to-shots  Total shots (inc. Blocked)  Corners Taken  Passes  \\\n",
       "0              40.0                         102              5      82   \n",
       "\n",
       "   Dribbles  \n",
       "0        23  "
      ],
      "text/html": "<div>\n<style scoped>\n    .dataframe tbody tr th:only-of-type {\n        vertical-align: middle;\n    }\n\n    .dataframe tbody tr th {\n        vertical-align: top;\n    }\n\n    .dataframe thead th {\n        text-align: right;\n    }\n</style>\n<table border=\"1\" class=\"dataframe\">\n  <thead>\n    <tr style=\"text-align: right;\">\n      <th></th>\n      <th>% Goals-to-shots</th>\n      <th>Total shots (inc. Blocked)</th>\n      <th>Corners Taken</th>\n      <th>Passes</th>\n      <th>Dribbles</th>\n    </tr>\n  </thead>\n  <tbody>\n    <tr>\n      <th>0</th>\n      <td>40.0</td>\n      <td>102</td>\n      <td>5</td>\n      <td>82</td>\n      <td>23</td>\n    </tr>\n  </tbody>\n</table>\n</div>"
     },
     "metadata": {},
     "execution_count": 51
    }
   ],
   "source": [
    "X_new = pd.DataFrame({'% Goals-to-shots': [40.0], 'Total shots (inc. Blocked)': [102], 'Corners Taken': [5], 'Passes': [82], 'Dribbles': [23]})\n",
    "X_new"
   ]
  },
  {
   "cell_type": "code",
   "execution_count": 52,
   "metadata": {},
   "outputs": [
    {
     "output_type": "execute_result",
     "data": {
      "text/plain": [
       "array([5], dtype=int64)"
      ]
     },
     "metadata": {},
     "execution_count": 52
    }
   ],
   "source": [
    "model.predict(X_new)"
   ]
  },
  {
   "source": [
    "### SVM"
   ],
   "cell_type": "markdown",
   "metadata": {}
  },
  {
   "cell_type": "code",
   "execution_count": 32,
   "metadata": {},
   "outputs": [],
   "source": [
    "X = df.drop(['Team','Goals', 'Shots on target', 'Shots off target',\n",
    "       'Shooting Accuracy', 'Hit Woodwork', 'Penalty goals', 'Penalties not scored', 'Headed goals',\n",
    "       'Passes completed', 'Passing Accuracy', 'Touches', 'Crosses', 'Tackles', 'Clearances', 'Interceptions',\n",
    "       'Clearances off line', 'Clean Sheets', 'Blocks', 'Goals conceded', 'Saves made', 'Saves-to-shots ratio', 'Fouls Won', 'Fouls Conceded', 'Offsides', 'Yellow Cards', 'Red Cards', 'Subs on', 'Subs off', 'Players Used'], 1)\n",
    "y = df['Goals'].ravel()"
   ]
  },
  {
   "cell_type": "code",
   "execution_count": 53,
   "metadata": {},
   "outputs": [
    {
     "output_type": "stream",
     "name": "stdout",
     "text": [
      "score: 1.0\n"
     ]
    }
   ],
   "source": [
    "C = 1000\n",
    "gamma = 10\n",
    "\n",
    "# rbf -- Radial basis function\n",
    "clf = svm.SVC(C=C, kernel='rbf', gamma=gamma, random_state=7)\n",
    "clf.fit(X, y)\n",
    "print ('score:', clf.score(X, y))"
   ]
  },
  {
   "cell_type": "code",
   "execution_count": 2,
   "metadata": {},
   "outputs": [
    {
     "output_type": "error",
     "ename": "ModuleNotFoundError",
     "evalue": "No module named 'plot_data'",
     "traceback": [
      "\u001b[1;31m---------------------------------------------------------------------------\u001b[0m",
      "\u001b[1;31mModuleNotFoundError\u001b[0m                       Traceback (most recent call last)",
      "\u001b[1;32m<ipython-input-2-eb7df4ae4573>\u001b[0m in \u001b[0;36m<module>\u001b[1;34m\u001b[0m\n\u001b[1;32m----> 1\u001b[1;33m \u001b[1;32mimport\u001b[0m \u001b[0mplot_data\u001b[0m \u001b[1;32mas\u001b[0m \u001b[0mplot_data\u001b[0m\u001b[1;33m\u001b[0m\u001b[1;33m\u001b[0m\u001b[0m\n\u001b[0m\u001b[0;32m      2\u001b[0m \u001b[1;33m\u001b[0m\u001b[0m\n\u001b[0;32m      3\u001b[0m \u001b[0mplt\u001b[0m\u001b[1;33m.\u001b[0m\u001b[0mfigure\u001b[0m\u001b[1;33m(\u001b[0m\u001b[1;33m)\u001b[0m\u001b[1;33m\u001b[0m\u001b[1;33m\u001b[0m\u001b[0m\n\u001b[0;32m      4\u001b[0m \u001b[0mplot_data\u001b[0m\u001b[1;33m(\u001b[0m\u001b[0mX\u001b[0m\u001b[1;33m,\u001b[0m \u001b[0my\u001b[0m\u001b[1;33m)\u001b[0m\u001b[1;33m\u001b[0m\u001b[1;33m\u001b[0m\u001b[0m\n\u001b[0;32m      5\u001b[0m \u001b[0mplt\u001b[0m\u001b[1;33m.\u001b[0m\u001b[0mxlim\u001b[0m\u001b[1;33m(\u001b[0m\u001b[1;33m[\u001b[0m\u001b[1;36m0\u001b[0m\u001b[1;33m,\u001b[0m \u001b[1;36m1\u001b[0m\u001b[1;33m]\u001b[0m\u001b[1;33m)\u001b[0m\u001b[1;33m\u001b[0m\u001b[1;33m\u001b[0m\u001b[0m\n",
      "\u001b[1;31mModuleNotFoundError\u001b[0m: No module named 'plot_data'"
     ]
    }
   ],
   "source": [
    "import plot_data as plot_data\n",
    "\n",
    "plt.figure()\n",
    "plot_data(X, y)\n",
    "plt.xlim([0, 1])\n",
    "plt.ylim([0.4, 1])\n",
    "plt.title(\"Dataset 2\")\n",
    "plt.show()"
   ]
  },
  {
   "cell_type": "code",
   "execution_count": 54,
   "metadata": {},
   "outputs": [
    {
     "output_type": "execute_result",
     "data": {
      "text/plain": [
       "   % Goals-to-shots  Total shots (inc. Blocked)  Corners Taken  Passes  \\\n",
       "0              40.0                         102              5      82   \n",
       "\n",
       "   Dribbles  \n",
       "0        23  "
      ],
      "text/html": "<div>\n<style scoped>\n    .dataframe tbody tr th:only-of-type {\n        vertical-align: middle;\n    }\n\n    .dataframe tbody tr th {\n        vertical-align: top;\n    }\n\n    .dataframe thead th {\n        text-align: right;\n    }\n</style>\n<table border=\"1\" class=\"dataframe\">\n  <thead>\n    <tr style=\"text-align: right;\">\n      <th></th>\n      <th>% Goals-to-shots</th>\n      <th>Total shots (inc. Blocked)</th>\n      <th>Corners Taken</th>\n      <th>Passes</th>\n      <th>Dribbles</th>\n    </tr>\n  </thead>\n  <tbody>\n    <tr>\n      <th>0</th>\n      <td>40.0</td>\n      <td>102</td>\n      <td>5</td>\n      <td>82</td>\n      <td>23</td>\n    </tr>\n  </tbody>\n</table>\n</div>"
     },
     "metadata": {},
     "execution_count": 54
    }
   ],
   "source": [
    "X_svm = pd.DataFrame({'% Goals-to-shots': [40.0], 'Total shots (inc. Blocked)': [102], 'Corners Taken': [5], 'Passes': [82], 'Dribbles': [23]})\n",
    "X_new"
   ]
  },
  {
   "cell_type": "code",
   "execution_count": 55,
   "metadata": {},
   "outputs": [
    {
     "output_type": "execute_result",
     "data": {
      "text/plain": [
       "array([5], dtype=int64)"
      ]
     },
     "metadata": {},
     "execution_count": 55
    }
   ],
   "source": [
    "clf.predict(X_svm)"
   ]
  },
  {
   "source": [
    "### Random Forest"
   ],
   "cell_type": "markdown",
   "metadata": {}
  },
  {
   "cell_type": "code",
   "execution_count": 66,
   "metadata": {},
   "outputs": [
    {
     "output_type": "stream",
     "name": "stdout",
     "text": [
      "path: c:\\Users\\ggarr\\OneDrive\\Escritorio\\Data_Science\\The Bridge\\Gina\\week10_ML_competition_pca_kmeans\\day1_gridsearch_pipelines\\exercises\\\n",
      "Iteración: 1\n",
      "train/índices batch: [ 1  3  4  6  7  9 11 13 14 15]\n",
      "batch_size: 10\n",
      "val_size: 6\n",
      "Iteración: 2\n",
      "train/índices batch: [ 0  2  3  4  5  6  8  9 10 12 15]\n",
      "batch_size: 11\n",
      "val_size: 5\n",
      "Iteración: 3\n",
      "train/índices batch: [ 0  1  2  5  7  8 10 11 12 13 14]\n",
      "batch_size: 11\n",
      "val_size: 5\n",
      "C:\\Users\\ggarr\\AppData\\Local\\Programs\\Python\\Python38\\lib\\site-packages\\sklearn\\ensemble\\_forest.py:369: UserWarning: Warm-start fitting without increasing n_estimators does not fit new trees.\n",
      "  warn(\"Warm-start fitting without increasing n_estimators does not \"\n",
      "C:\\Users\\ggarr\\AppData\\Local\\Programs\\Python\\Python38\\lib\\site-packages\\sklearn\\ensemble\\_forest.py:369: UserWarning: Warm-start fitting without increasing n_estimators does not fit new trees.\n",
      "  warn(\"Warm-start fitting without increasing n_estimators does not \"\n"
     ]
    }
   ],
   "source": [
    "k_fold = RepeatedKFold(n_splits=3, n_repeats=1, random_state=7)\n",
    "val_score = []\n",
    "train_score = []\n",
    "# define the model\n",
    "n_stimators = 1500\n",
    "model = RandomForestClassifier(warm_start=True)\n",
    "path = os.getcwd() + os.sep\n",
    "print(\"path:\", path)\n",
    "# train son las POSICIONES de los elementos que hay que coger por iteración como parte del conjunto de entrenamiento\n",
    "# val son las POSICIONES de los elementos que hay que coger por iteración como parte del conjunto de validación\n",
    "for i, (train, val) in enumerate(k_fold.split(X)):\n",
    "    print(\"Iteración:\", i+1)\n",
    "    print(\"train/índices batch:\", train)\n",
    "    print(\"batch_size:\", len(train))\n",
    "    #print(\"val:\", val)\n",
    "    print(\"val_size:\", len(val))\n",
    "    #print(\"batch:\", X_train[train])\n",
    "\n",
    "    # train the model\n",
    "    model.fit(X[train], y[train])\n",
    "\n",
    "    \n",
    "    \n"
   ]
  },
  {
   "cell_type": "code",
   "execution_count": null,
   "metadata": {},
   "outputs": [],
   "source": [
    "# Add more stimators\n",
    "    model.n_estimators += 100\n",
    "\n",
    "    score_val = model.score(X[val], y[val])\n",
    "    val_score.append(score_val)\n",
    "    score_train = model.score(X[train], y[train])\n",
    "    train_score.append(score_train)\n",
    "\n",
    "# Ejemplo de guardar y parar el entrenamiento por haber conseguido un buen resultado\n",
    "    if np.mean(val_score) > 0.99 and len(val_score) > 50:\n",
    "        pickle.dump(model, open(path + \"model_saved.sav\", \"wb\"))\n",
    "        print(\"STOP\")\n",
    "        break\n",
    "    print(\"##############\")"
   ]
  },
  {
   "cell_type": "code",
   "execution_count": 67,
   "metadata": {},
   "outputs": [
    {
     "output_type": "execute_result",
     "data": {
      "text/plain": [
       "0.375"
      ]
     },
     "metadata": {},
     "execution_count": 67
    }
   ],
   "source": [
    "model.score(X, y)"
   ]
  },
  {
   "cell_type": "code",
   "execution_count": 68,
   "metadata": {},
   "outputs": [
    {
     "output_type": "execute_result",
     "data": {
      "text/plain": [
       "   % Goals-to-shots  Total shots (inc. Blocked)  Corners Taken  Passes  \\\n",
       "0              40.0                         102              5      82   \n",
       "\n",
       "   Dribbles  \n",
       "0        23  "
      ],
      "text/html": "<div>\n<style scoped>\n    .dataframe tbody tr th:only-of-type {\n        vertical-align: middle;\n    }\n\n    .dataframe tbody tr th {\n        vertical-align: top;\n    }\n\n    .dataframe thead th {\n        text-align: right;\n    }\n</style>\n<table border=\"1\" class=\"dataframe\">\n  <thead>\n    <tr style=\"text-align: right;\">\n      <th></th>\n      <th>% Goals-to-shots</th>\n      <th>Total shots (inc. Blocked)</th>\n      <th>Corners Taken</th>\n      <th>Passes</th>\n      <th>Dribbles</th>\n    </tr>\n  </thead>\n  <tbody>\n    <tr>\n      <th>0</th>\n      <td>40.0</td>\n      <td>102</td>\n      <td>5</td>\n      <td>82</td>\n      <td>23</td>\n    </tr>\n  </tbody>\n</table>\n</div>"
     },
     "metadata": {},
     "execution_count": 68
    }
   ],
   "source": [
    "X_new = pd.DataFrame({'% Goals-to-shots': [40.0], 'Total shots (inc. Blocked)': [102], 'Corners Taken': [5], 'Passes': [82], 'Dribbles': [23]})\n",
    "X_new"
   ]
  },
  {
   "cell_type": "code",
   "execution_count": 69,
   "metadata": {},
   "outputs": [
    {
     "output_type": "execute_result",
     "data": {
      "text/plain": [
       "array([6], dtype=int64)"
      ]
     },
     "metadata": {},
     "execution_count": 69
    }
   ],
   "source": [
    "model.predict(X_new)"
   ]
  },
  {
   "cell_type": "code",
   "execution_count": null,
   "metadata": {},
   "outputs": [],
   "source": []
  }
 ]
}