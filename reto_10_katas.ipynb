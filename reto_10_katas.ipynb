{
 "cells": [
  {
   "cell_type": "markdown",
   "metadata": {},
   "source": [
    "# Reto ¡a por el 10!"
   ]
  },
  {
   "cell_type": "markdown",
   "metadata": {},
   "source": [
    "Quizás aún no conoces Codewars, pero es una plataforma de Katas. Las Katas son pequeños ejercicios que resolver con los diferentes lenguajes de programación existentes y por niveles, conocidos como Kyu.\n",
    "\n",
    "El nivel por el que empezarás es el nivel 8kyu y el objetivo será que durante el Bootcamp, al menos llegues al 5kyu empezando este mismo fin de semana con este reto. "
   ]
  },
  {
   "cell_type": "markdown",
   "metadata": {},
   "source": [
    "1. Hazte una cuenta en https://www.codewars.com/ (Súper recomendable vincularlo a tu cuenta de Github)\n",
    "2. Una vez tengas cuenta, envía tu usuario de **codewars** a `clara.piniella@thebridgeschool.es` (VERY IMPORTANT)\n",
    "3. Ve accediendo a las diferentes Katas propuestas más abajo.\n",
    "4. Pulsa `Train`\n",
    "5. En este punto deberás definir una función que de solución al problema planteado. \n",
    "6. Una vez tengas una buena propuesta, dale al `Test`, esto te indicará los errores, si los tuvieras.\n",
    "7. Si sin embargo, has pasado todos los test con éxito, pulsa `Attempt`\n",
    "8. Una vez pulses al `Attempt` y si no has tenido fallos, estate segura de haberlo hecho correctamente si puedes ver las soluciones de otros usuarios, entonces ¡has terminado la kata!\n",
    "\n",
    "No te preocupes por decirnos que la has acabado, si nos has dado tu usuario y la has completado con éxito, ya lo podemos ver ;) "
   ]
  },
  {
   "cell_type": "markdown",
   "metadata": {},
   "source": [
    "### Las Katas\n",
    "\n",
    "\"Easy peasy lemon squeezy\" --> https://www.youtube.com/watch?v=QEanm-gvQ94"
   ]
  },
  {
   "cell_type": "markdown",
   "metadata": {},
   "source": [
    "Las katas `Easy` serán obligatorias para algunos de vosotros, es por esto que dejo por aquí los enunciados. No hay excusa. Idealmente deberían estar resueltas en **codewars**, de hecho, para participar en el reto, deberán estar resueltas en la propia plataforma."
   ]
  },
  {
   "cell_type": "markdown",
   "metadata": {},
   "source": [
    "#### Easy\n",
    "Si realmente te es imposible hacerlo en Codewars, recuerda que es obligatorio resolver todos los ejercicios con una función. En este caso, envíanos tus soluciones en formato `.ipynb` a los cuatro profesores por email antes del lunes a las 9:15."
   ]
  },
  {
   "cell_type": "markdown",
   "metadata": {},
   "source": [
    ")- https://www.codewars.com/kata/54d1c59aba326343c80000e7\n",
    "    \n",
    "This method, which is supposed to return the result of dividing its first argument by its second, isn't always returning correct values. Fix it.\n",
    "\n",
    "```python\n",
    "def divide_numbers(x,y):\n",
    "    return x // y\n",
    "```"
   ]
  },
  {
   "cell_type": "code",
   "execution_count": 1,
   "metadata": {},
   "outputs": [],
   "source": [
    "def divide_nombres(x,y):\n",
    "    return x/y"
   ]
  },
  {
   "cell_type": "markdown",
   "metadata": {},
   "source": [
    "- https://www.codewars.com/kata/53da3dbb4a5168369a0000fe\n",
    "\n",
    "Create a function that takes an integer as an argument and returns \"Even\" for even numbers or \"Odd\" for odd numbers."
   ]
  },
  {
   "cell_type": "code",
   "execution_count": null,
   "metadata": {},
   "outputs": [],
   "source": [
    "\n",
    "def pares_impares (a):\n",
    "   if a % 2== 0:\n",
    "       return 'Even'\n",
    "    else:\n",
    "        return \"Odd\""
   ]
  },
  {
   "cell_type": "markdown",
   "metadata": {},
   "source": [
    "- https://www.codewars.com/kata/582cb0224e56e068d800003c\n",
    "\n",
    "Nathan loves cycling. Because Nathan knows it is important to stay hydrated, he drinks 0.5 litres of water per hour of cycling.\n",
    "You get given the time in hours and you need to return the number of litres Nathan will drink, rounded to the smallest value.\n",
    "\n",
    "For example:\n",
    "```python\n",
    "time = 3 ----> litres = 1\n",
    "time = 6.7---> litres = 3\n",
    "time = 11.8--> litres = 5\n",
    "```"
   ]
  },
  {
   "cell_type": "code",
   "execution_count": 9,
   "metadata": {},
   "outputs": [
    {
     "output_type": "stream",
     "name": "stdout",
     "text": [
      "time = 3 ---> litres = 1\ntime = 6.7 ---> litres = 3\ntime = 11.8 ---> litres = 5\n"
     ]
    }
   ],
   "source": [
    "def litros (a):\n",
    "    cantidad = int(a*0.5)\n",
    "    print (f'time = {a} ---> litres = {cantidad}')\n",
    "    return\n",
    "\n",
    "litros(3)\n",
    "litros(6.7)\n",
    "litros(11.8)\n",
    "\n",
    "\n",
    "\n"
   ]
  },
  {
   "cell_type": "markdown",
   "metadata": {},
   "source": [
    "- https://www.codewars.com/kata/55a2d7ebe362935a210000b2\n",
    "\n",
    "It's pretty straightforward. Your goal is to create a function that removes the first and last characters of a string. You're given one parameter, the original string. You don't have to worry with strings with less than two characters."
   ]
  },
  {
   "cell_type": "code",
   "execution_count": null,
   "metadata": {},
   "outputs": [],
   "source": [
    "cadena = \"hola\"\n",
    "\n",
    "def eliminar(a):\n",
    "    return [1:-1]\n",
    "    \n",
    "\n"
   ]
  },
  {
   "cell_type": "markdown",
   "metadata": {},
   "source": [
    "#### Peasy\n",
    "\n",
    "Si vas a hacer las Katas de este nivel, es porque ya sabes hacer las de `Easy` y además en **codewars**, así que te recuerdo que en caso de hacerlas correctamente y nos has dado tu usuario, no hace falta que nos digas que la has terminado.\n",
    "\n",
    "- https://www.codewars.com/kata/5506b230a11c0aeab3000c1f\n",
    "- https://www.codewars.com/kata/59377c53e66267c8f6000027\n",
    "- https://www.codewars.com/kata/5ae7e3f068e6445bc8000046"
   ]
  },
  {
   "cell_type": "code",
   "execution_count": 10,
   "metadata": {},
   "outputs": [
    {
     "output_type": "execute_result",
     "data": {
      "text/plain": [
       "29"
      ]
     },
     "metadata": {},
     "execution_count": 10
    }
   ],
   "source": [
    "# This program tests the life of an evaporator containing a gas. We know the content of the evaporator (content in ml),\\\n",
    "# the percentage of foam or gas lost every day (evap_per_day) and the threshold (threshold) \\\n",
    "# in percentage beyond which the evaporator is no longer useful. All numbers are strictly positive. \\\n",
    "# The program reports the nth day (as an integer) on which the evaporator will be out of use.\n",
    "\n",
    "def no_util(a,b,c):\n",
    "    dias = 0\n",
    "    d = ((c/100)*a)\n",
    "    while a:\n",
    "        \n",
    "        if a > d:\n",
    "            a = a-((b/100)*a)\n",
    "            dias += 1\n",
    "        else:\n",
    "           break\n",
    "    \n",
    "    return dias\n",
    "            \n",
    "\n",
    "no_util(10,10,5)       \n",
    "    \n",
    "    \n"
   ]
  },
  {
   "cell_type": "code",
   "execution_count": 14,
   "metadata": {},
   "outputs": [
    {
     "output_type": "execute_result",
     "data": {
      "text/plain": [
       "'Left side wins'"
      ]
     },
     "metadata": {},
     "execution_count": 14
    }
   ],
   "source": [
    "# Write a function that accepts fight string consists of only small letters and return who wins the fight.\\\n",
    "#  When the left side wins return Left side wins!, when the right side wins return Right side wins!, in other case return Let's fight again!.\n",
    "# The left side letters and their power: w - 4, p - 3, b - 2, s - 1\n",
    "# right side letters and their power: m - 4, q - 3, d - 2, z - 1\n",
    "# las otras letras son solo víctimas y no tienen poder\n",
    "\n",
    "a = \"pmbz\"\n",
    "\n",
    "def win(x):\n",
    "    l = {\"w\": 4, \"p\": 3, \"b\": 2, \"s\": 1}\n",
    "    r = {\"m\": 4, \"q\": 3, \"d\": 2, \"z\": 1}\n",
    "    left = []\n",
    "    left_s = 0\n",
    "    right = []\n",
    "    right_s = 0\n",
    "\n",
    "    for i in x:\n",
    "        for key, value in l.items():\n",
    "            if key == i:\n",
    "                left.append(value)\n",
    "                left_s = sum(left)\n",
    "\n",
    "        for key, value in r.items():\n",
    "            if key == i:\n",
    "                right.append(value)\n",
    "                right_s = sum(right)\n",
    "\n",
    "    if left_s > right_s:\n",
    "        return (\"Left side wins!\")\n",
    "    elif left_s < right_s:\n",
    "        return (\"Right side wins!\")\n",
    "    else:\n",
    "        return (\"Let's fight again!\")\n",
    "                \n",
    "win (\"aqwbs\")              \n",
    "             \n",
    " \n",
    "\n",
    "\n"
   ]
  },
  {
   "cell_type": "code",
   "execution_count": 7,
   "metadata": {},
   "outputs": [
    {
     "output_type": "stream",
     "name": "stdout",
     "text": [
      "nextHappyYear 2020 ==> return 2021\n"
     ]
    }
   ],
   "source": [
    "# You're saying good-bye your best friend , See you next happy year .\n",
    "# Given a year, Find The next happy year or The closest year You'll see your best friend\n",
    "# Input Year with in range (1000  ≤  y  ≤  9000)\n",
    "# Ej. nextHappyYear (7712) ==> return (7801)\n",
    "\n",
    "# Happy Year is the year with only distinct digits , (e.g) 2018\n",
    "\n",
    "\n",
    "def next_happy_year(year):\n",
    "    print (f'nextHappyYear {year} ==> return {year + 1}')\n",
    "    return \n",
    "\n",
    "next_happy_year (2020)\n",
    "\n",
    "\n",
    "\n",
    "\n"
   ]
  },
  {
   "cell_type": "markdown",
   "metadata": {},
   "source": [
    "#### Lemon Squeezy\n",
    "\n",
    "- https://www.codewars.com/kata/55b95c76e08bd5eef100001e/solutions/python\n",
    "- https://www.codewars.com/kata/5e2596a9ad937f002e510435/\n",
    "- https://www.codewars.com/kata/5d4c6809089c6e5031f189ed"
   ]
  },
  {
   "cell_type": "code",
   "execution_count": 8,
   "metadata": {},
   "outputs": [
    {
     "output_type": "execute_result",
     "data": {
      "text/plain": [
       "'adak adak anane'"
      ]
     },
     "metadata": {},
     "execution_count": 8
    }
   ],
   "source": [
    "# The Arara are an isolated tribe found in the Amazon who count in pairs. For example one to eight is as follows:\n",
    "# 1 = anane 2 = adak 3 = adak anane 4 = adak adak 5 = adak adak anane 6 = adak adak adak\n",
    "# 7 = adak adak adak anane 8 = adak adak adak adak\n",
    "\n",
    "# Take a given number and return the Arara's equivalent.\n",
    "\n",
    " # ej. count_arara(3) # -> 'adak anane'  count_arara(8) # -> 'adak adak adak adak'\n",
    "\n",
    "def count_arara(n):\n",
    "    if n % 2== 0:\n",
    "        count_arara = ((int(n/2)-1) * \"adak \" + \"adak\")\n",
    "        return count_arara \n",
    "\n",
    "    else:\n",
    "        count_arara = ((int(n/2) * \"adak \") + \"anane\")\n",
    "        return count_arara\n",
    "        \n",
    "    \n",
    "count_arara(5)\n",
    "\n",
    "\n",
    "\n",
    "\n",
    "\n",
    "\n",
    "\n",
    "\n"
   ]
  },
  {
   "cell_type": "code",
   "execution_count": null,
   "metadata": {},
   "outputs": [],
   "source": []
  }
 ],
 "metadata": {
  "kernelspec": {
   "name": "python389jvsc74a57bd07980ba124835d5faa10419b5aaaaec0d5be537aa3d05dd29d745d0092f32015f",
   "display_name": "Python 3.8.9 64-bit"
  },
  "language_info": {
   "codemirror_mode": {
    "name": "ipython",
    "version": 3
   },
   "file_extension": ".py",
   "mimetype": "text/x-python",
   "name": "python",
   "nbconvert_exporter": "python",
   "pygments_lexer": "ipython3",
   "version": "3.8.9"
  },
  "metadata": {
   "interpreter": {
    "hash": "7980ba124835d5faa10419b5aaaaec0d5be537aa3d05dd29d745d0092f32015f"
   }
  }
 },
 "nbformat": 4,
 "nbformat_minor": 4
}