{
 "metadata": {
  "language_info": {
   "codemirror_mode": {
    "name": "ipython",
    "version": 3
   },
   "file_extension": ".py",
   "mimetype": "text/x-python",
   "name": "python",
   "nbconvert_exporter": "python",
   "pygments_lexer": "ipython3",
   "version": "3.8.9"
  },
  "orig_nbformat": 2,
  "kernelspec": {
   "name": "python389jvsc74a57bd07980ba124835d5faa10419b5aaaaec0d5be537aa3d05dd29d745d0092f32015f",
   "display_name": "Python 3.8.9 64-bit"
  },
  "metadata": {
   "interpreter": {
    "hash": "7980ba124835d5faa10419b5aaaaec0d5be537aa3d05dd29d745d0092f32015f"
   }
  }
 },
 "nbformat": 4,
 "nbformat_minor": 2,
 "cells": [
  {
   "cell_type": "code",
   "execution_count": 4,
   "metadata": {},
   "outputs": [],
   "source": [
    "import pandas as pd\n",
    "import numpy as np\n",
    "\n",
    "\n"
   ]
  },
  {
   "cell_type": "code",
   "execution_count": 5,
   "metadata": {},
   "outputs": [],
   "source": [
    "# VARIABLES TICS"
   ]
  },
  {
   "cell_type": "code",
   "execution_count": 6,
   "metadata": {},
   "outputs": [],
   "source": [
    "TICS_2017 = pd.read_csv(\"CSV_TICS/Acceso_internet_CCAA_2017.csv\", sep =';')\n",
    "\n",
    "# Guardar el archivo con formato 'csv utf-8 (delimitado por comas)' para que no den problemas las palabras acentuadas"
   ]
  },
  {
   "cell_type": "code",
   "execution_count": 7,
   "metadata": {},
   "outputs": [],
   "source": [
    "# Pasar los diferentes tipos de conexión seleccionados a columnas\n",
    "# 1. Creamos una lista con la columna de Comunidades autónomas y dejamos un solo valor de cada categoría. ordenamos la lista creada. Colocamos esta lista como indice y colocamos en primer lugar la última categoría que corresponde al 'Total nacional'. Borramos la que queda al final que es 'Total nacional'\n",
    "\n",
    "comunidades_autonomas = TICS_2017[\"Comunidades y Ciudades Autónomas\"].unique()\n",
    "comunidades_autonomas_ordenada = sorted(list(comunidades_autonomas)) \n",
    "comunidades_autonomas_ordenada.insert(0, comunidades_autonomas_ordenada[-1])\n",
    "comunidades_autonomas_ordenada.pop()\n",
    "\n",
    "# 2. Creamos una lista que corresponde con los valores de la columna en la que aparecen los diferentes tipos de conexión. \n",
    "# 3. Creamos un diccionario cuyas claves seran los valores de Cada uno de los items de esta variable y recogerá los valores de la columna 2 del dataframe\n",
    "\n",
    "tipo_conex = TICS_2017[\"Forma de conexión\"].unique()\n",
    "diccionario_final = {}\n",
    "for conex in tipo_conex:\n",
    "    diccionario_final[conex] = []\n",
    "for row in TICS_2017.iterrows():\n",
    "    comunidad = row[1][0]\n",
    "    tipo_conex = row[1][1]\n",
    "    valor = row[1][2]\n",
    "    diccionario_final[tipo_conex].append(valor)\n",
    "TICS_2017 = pd.DataFrame(diccionario_final, index=comunidades_autonomas_ordenada)\n",
    "\n"
   ]
  },
  {
   "cell_type": "code",
   "execution_count": 8,
   "metadata": {},
   "outputs": [],
   "source": [
    "TO_TICS_2017 = ['Viviendas con conexión de banda ancha', 'Viviendas con conexión de banda estrecha', 'Conexión de banda estrecha por llamada telefónica a través de su línea de teléfono convencional (módem) o RDSI','Conexión móvil de banda estrecha (otros teléfonos móviles -GPRS-)']\n",
    "\n",
    "TICS_2017.drop(TO_TICS_2017, inplace = True, axis=1)\n"
   ]
  },
  {
   "cell_type": "code",
   "execution_count": 9,
   "metadata": {},
   "outputs": [],
   "source": [
    "# Renombramos los encabezados de las columnas \n",
    "\n",
    "TICS_2017 = TICS_2017.rename(columns = \n",
    "{'Total de viviendas que disponen de acceso a Internet y declaran las formas de conexión utilizadas': 'Declaran acceso_internet_2017', \n",
    "'Conexión de banda ancha por ADSL': 'ADSL', \n",
    "'Conexión de banda ancha por red de cable o fibra óptica': 'cable_fibra óptica',\n",
    "'Otras conexiones fijas de banda ancha (vía satélite, WiFi público o WiMax)': 'otras conexiones', \n",
    "'Conexión móvil de banda ancha vía modem USB ó tarjeta (en portátiles, p.ej.)':'móvil_USB'})\n",
    "\n",
    "\n"
   ]
  },
  {
   "cell_type": "code",
   "execution_count": 10,
   "metadata": {},
   "outputs": [],
   "source": [
    "# Renombrar la columna 4\n",
    "TICS_2017.rename(columns={ TICS_2017.columns[4]: 'conexion móvil_dispositivo_mano' }, inplace = True)\n"
   ]
  },
  {
   "cell_type": "code",
   "execution_count": 11,
   "metadata": {},
   "outputs": [],
   "source": [
    "TICS_2017 = TICS_2017.stack().str.replace(',','.').unstack()"
   ]
  },
  {
   "cell_type": "code",
   "execution_count": 12,
   "metadata": {},
   "outputs": [],
   "source": [
    "TICS_2017[['ADSL', 'cable_fibra óptica','otras conexiones', 'conexion móvil_dispositivo_mano', 'móvil_USB']]= TICS_2017[['ADSL', 'cable_fibra óptica','otras conexiones', 'conexion móvil_dispositivo_mano', 'móvil_USB']].astype(float)\n"
   ]
  },
  {
   "cell_type": "code",
   "execution_count": 13,
   "metadata": {},
   "outputs": [],
   "source": [
    "TICS_2017['Declaran acceso_internet_2017'] = TICS_2017['Declaran acceso_internet_2017'].apply(lambda x: x.split('.')).apply(''.join)\n"
   ]
  },
  {
   "cell_type": "code",
   "execution_count": 14,
   "metadata": {},
   "outputs": [],
   "source": [
    "TICS_2017[['Declaran acceso_internet_2017']]= TICS_2017[['Declaran acceso_internet_2017']].astype(int)"
   ]
  },
  {
   "cell_type": "code",
   "execution_count": 15,
   "metadata": {},
   "outputs": [],
   "source": [
    "TICS_2017 = TICS_2017.sort_index()"
   ]
  },
  {
   "cell_type": "code",
   "execution_count": 16,
   "metadata": {},
   "outputs": [],
   "source": [
    "TICS_2017['index'] = TICS_2017.index"
   ]
  },
  {
   "cell_type": "code",
   "execution_count": 17,
   "metadata": {},
   "outputs": [],
   "source": [
    "TICS_2017 = TICS_2017.reset_index(drop = True)"
   ]
  },
  {
   "cell_type": "code",
   "execution_count": 18,
   "metadata": {},
   "outputs": [],
   "source": [
    "# VARIABLES DE SALUD FÍSICA Y MENTAL"
   ]
  },
  {
   "cell_type": "code",
   "execution_count": 19,
   "metadata": {},
   "outputs": [],
   "source": [
    "# Comprobar que se pueden leer bien todos los archivos a unir\n",
    "\n",
    "Concentrarse = pd.read_csv(\"CSV_Salud/Concentrarse_2017.csv\", index_col = [0], sep =';')\n",
    "Diabetes = pd.read_csv(\"CSV_Salud/Diabetes.csv\", index_col = [0], sep =';')\n",
    "Dificultades_ver = pd.read_csv(\"CSV_Salud/Dificultades_ver_2017.csv\", index_col = [0], sep =';')\n",
    "Dolor_espalda = pd.read_csv(\"CSV_Salud/Dolor_espalda_2017.csv\", index_col = [0], sep =';')\n",
    "Infarto_miocardio = pd.read_csv(\"CSV_Salud/Infarto_miocardio_2017.csv\", index_col = [0], sep =';')\n",
    "Restricc_AVD_Dolor = pd.read_csv(\"CSV_Salud/Restricc_AVD_Dolor.csv\", index_col = [0], sep =';')\n",
    "Masa_corporal = pd.read_csv(\"CSV_Salud/Masa_corporal_2017.csv\", index_col = [0], sep =';')\n",
    "Migraña = pd.read_csv(\"CSV_Salud/Migraña_2017.csv\", index_col = [0], sep =';')\n",
    "Problemas_salud_mental = pd.read_csv(\"CSV_Salud/Problemas_salud_mental_2017.csv\", index_col = [0], sep =';')\n",
    "salud_mental = pd.read_csv(\"CSV_Salud/salud_mental_2017.csv\", index_col = [0], sep =';')\n",
    "Salud_percibida = pd.read_csv(\"CSV_Salud/Salud_percibida_2017.csv\", index_col = [0], sep =';')\n",
    "Tension_alta = pd.read_csv(\"CSV_Salud/Tension_2017.csv\", index_col = [0], sep =';')\n",
    "\n"
   ]
  },
  {
   "cell_type": "code",
   "execution_count": 20,
   "metadata": {},
   "outputs": [],
   "source": [
    "Columnas = [0,3]\n",
    "Concentrarse.drop(Concentrarse.columns[Columnas], inplace = True, axis =1)\n"
   ]
  },
  {
   "cell_type": "code",
   "execution_count": 21,
   "metadata": {},
   "outputs": [],
   "source": [
    "Concentrarse.rename(columns={Concentrarse.columns[0]: \"Alguna Dificultad Conc\", Concentrarse.columns[1]: \"Mucha Dificultad Conc\" }, inplace = True)\n"
   ]
  },
  {
   "cell_type": "code",
   "execution_count": 22,
   "metadata": {},
   "outputs": [],
   "source": [
    "# Pasar a float los valores de todas las columnas\n",
    "Concentrarse = Concentrarse.stack().str.replace(',','.').unstack()\n"
   ]
  },
  {
   "cell_type": "code",
   "execution_count": 23,
   "metadata": {},
   "outputs": [],
   "source": [
    "Concentrarse[['Alguna Dificultad Conc', 'Mucha Dificultad Conc']]= Concentrarse[['Alguna Dificultad Conc','Mucha Dificultad Conc']].astype(float)"
   ]
  },
  {
   "cell_type": "code",
   "execution_count": 24,
   "metadata": {},
   "outputs": [],
   "source": [
    "Concentrarse = Concentrarse.sort_index()"
   ]
  },
  {
   "cell_type": "code",
   "execution_count": 25,
   "metadata": {},
   "outputs": [],
   "source": [
    "Concentrarse['index'] = Concentrarse.index"
   ]
  },
  {
   "cell_type": "code",
   "execution_count": 26,
   "metadata": {},
   "outputs": [],
   "source": [
    "Concentrarse = Concentrarse.reset_index(drop = True)"
   ]
  },
  {
   "cell_type": "code",
   "execution_count": 27,
   "metadata": {},
   "outputs": [],
   "source": [
    "Diabetes = pd.read_csv(\"CSV_Salud/Diabetes.csv\", index_col = [0], sep =';')"
   ]
  },
  {
   "cell_type": "code",
   "execution_count": 28,
   "metadata": {},
   "outputs": [],
   "source": [
    "Diabetes.rename(columns={ Diabetes.columns[0]: \"Diabetes\" }, inplace = True)\n"
   ]
  },
  {
   "cell_type": "code",
   "execution_count": 29,
   "metadata": {},
   "outputs": [],
   "source": [
    "\n",
    "Diabetes = Diabetes.stack().str.replace(',','.').unstack()\n"
   ]
  },
  {
   "cell_type": "code",
   "execution_count": 30,
   "metadata": {},
   "outputs": [],
   "source": [
    "Diabetes[['Diabetes']]= Diabetes[['Diabetes']].astype(float)"
   ]
  },
  {
   "cell_type": "code",
   "execution_count": 31,
   "metadata": {},
   "outputs": [],
   "source": [
    "Diabetes = Diabetes.sort_index()"
   ]
  },
  {
   "cell_type": "code",
   "execution_count": 32,
   "metadata": {},
   "outputs": [],
   "source": [
    "Diabetes['index'] = Diabetes.index"
   ]
  },
  {
   "cell_type": "code",
   "execution_count": 33,
   "metadata": {},
   "outputs": [],
   "source": [
    "Diabetes = Diabetes.reset_index(drop = True)"
   ]
  },
  {
   "cell_type": "code",
   "execution_count": 34,
   "metadata": {},
   "outputs": [],
   "source": [
    "Dificultades_ver.rename(columns={Dificultades_ver.columns[0]: \"Alguna Dificultad Ver\", Dificultades_ver.columns[1]: \"Mucha Dificultad Ver\" }, inplace = True)"
   ]
  },
  {
   "cell_type": "code",
   "execution_count": 35,
   "metadata": {},
   "outputs": [],
   "source": [
    "Dificultades_ver = Dificultades_ver.stack().str.replace(',','.').unstack()\n"
   ]
  },
  {
   "cell_type": "code",
   "execution_count": 36,
   "metadata": {},
   "outputs": [],
   "source": [
    "Dificultades_ver[['Alguna Dificultad Ver', 'Mucha Dificultad Ver']]= Dificultades_ver[['Alguna Dificultad Ver','Mucha Dificultad Ver']].astype(float)"
   ]
  },
  {
   "cell_type": "code",
   "execution_count": 37,
   "metadata": {},
   "outputs": [],
   "source": [
    "Dificultades_ver = Dificultades_ver.sort_index()"
   ]
  },
  {
   "cell_type": "code",
   "execution_count": 38,
   "metadata": {},
   "outputs": [],
   "source": [
    "Dificultades_ver['index'] = Dificultades_ver.index"
   ]
  },
  {
   "cell_type": "code",
   "execution_count": 39,
   "metadata": {},
   "outputs": [],
   "source": [
    "Dificultades_ver = Dificultades_ver.reset_index(drop = True)"
   ]
  },
  {
   "cell_type": "code",
   "execution_count": 40,
   "metadata": {},
   "outputs": [],
   "source": [
    "# borrar una fila\n",
    "Dolor_espalda = Dolor_espalda.drop (Dolor_espalda.index[[0]])\n"
   ]
  },
  {
   "cell_type": "code",
   "execution_count": 41,
   "metadata": {},
   "outputs": [],
   "source": [
    "# cambiar la coma por un punto para poder pasar a float el string\n",
    "\n",
    "Dolor_espalda = Dolor_espalda.stack().str.replace(',','.').unstack()"
   ]
  },
  {
   "cell_type": "code",
   "execution_count": 42,
   "metadata": {},
   "outputs": [],
   "source": [
    "# Pasar a float el string\n",
    "\n",
    "Dolor_espalda[['Dolor espalda crónico cervical', 'Dolor espalda crónico lumbar']]= Dolor_espalda[['Dolor espalda crónico cervical','Dolor espalda crónico lumbar']].astype(float)"
   ]
  },
  {
   "cell_type": "code",
   "execution_count": 43,
   "metadata": {},
   "outputs": [],
   "source": [
    "Dolor_espalda = Dolor_espalda.sort_index()"
   ]
  },
  {
   "cell_type": "code",
   "execution_count": 44,
   "metadata": {},
   "outputs": [],
   "source": [
    "Dolor_espalda['index'] = Dolor_espalda.index"
   ]
  },
  {
   "cell_type": "code",
   "execution_count": 45,
   "metadata": {},
   "outputs": [],
   "source": [
    "Dolor_espalda = Dolor_espalda.reset_index(drop = True)"
   ]
  },
  {
   "cell_type": "code",
   "execution_count": 46,
   "metadata": {},
   "outputs": [],
   "source": [
    "Columnas = [1]\n",
    "Infarto_miocardio.drop(Infarto_miocardio.columns[Columnas], inplace = True, axis =1)"
   ]
  },
  {
   "cell_type": "code",
   "execution_count": 47,
   "metadata": {},
   "outputs": [],
   "source": [
    "Infarto_miocardio.rename(columns={Infarto_miocardio.columns[0]: \"Infarto_miocardio\" }, inplace = True)"
   ]
  },
  {
   "cell_type": "code",
   "execution_count": 48,
   "metadata": {},
   "outputs": [],
   "source": [
    "Infarto_miocardio = Infarto_miocardio.stack().str.replace(',','.').unstack()"
   ]
  },
  {
   "cell_type": "code",
   "execution_count": 49,
   "metadata": {},
   "outputs": [],
   "source": [
    "Infarto_miocardio[['Infarto_miocardio']]= Infarto_miocardio[['Infarto_miocardio']].astype(float)"
   ]
  },
  {
   "cell_type": "code",
   "execution_count": 50,
   "metadata": {},
   "outputs": [],
   "source": [
    "Infarto_miocardio = Infarto_miocardio.sort_index()"
   ]
  },
  {
   "cell_type": "code",
   "execution_count": 51,
   "metadata": {},
   "outputs": [],
   "source": [
    "Infarto_miocardio['index'] = Infarto_miocardio.index"
   ]
  },
  {
   "cell_type": "code",
   "execution_count": 52,
   "metadata": {},
   "outputs": [],
   "source": [
    "Infarto_miocardio = Infarto_miocardio.reset_index(drop = True)"
   ]
  },
  {
   "cell_type": "code",
   "execution_count": 53,
   "metadata": {},
   "outputs": [],
   "source": [
    "Columnas = [1]\n",
    "Restricc_AVD_Dolor.drop(Restricc_AVD_Dolor.columns[Columnas], inplace = True, axis =1)"
   ]
  },
  {
   "cell_type": "code",
   "execution_count": 54,
   "metadata": {},
   "outputs": [],
   "source": [
    "Restricc_AVD_Dolor.rename(columns={Restricc_AVD_Dolor.columns[0]: \"Restricc_AVD_Dolor\" }, inplace = True)"
   ]
  },
  {
   "cell_type": "code",
   "execution_count": 55,
   "metadata": {},
   "outputs": [],
   "source": [
    "Restricc_AVD_Dolor = Restricc_AVD_Dolor.stack().str.replace(',','.').unstack()"
   ]
  },
  {
   "cell_type": "code",
   "execution_count": 56,
   "metadata": {},
   "outputs": [],
   "source": [
    "Restricc_AVD_Dolor[['Restricc_AVD_Dolor']]= Restricc_AVD_Dolor[['Restricc_AVD_Dolor']].astype(float)"
   ]
  },
  {
   "cell_type": "code",
   "execution_count": 57,
   "metadata": {},
   "outputs": [],
   "source": [
    "Restricc_AVD_Dolor = Restricc_AVD_Dolor.sort_index()"
   ]
  },
  {
   "cell_type": "code",
   "execution_count": 58,
   "metadata": {},
   "outputs": [],
   "source": [
    "Restricc_AVD_Dolor['index'] = Restricc_AVD_Dolor.index"
   ]
  },
  {
   "cell_type": "code",
   "execution_count": 59,
   "metadata": {},
   "outputs": [],
   "source": [
    "Restricc_AVD_Dolor = Restricc_AVD_Dolor.reset_index(drop = True)"
   ]
  },
  {
   "cell_type": "code",
   "execution_count": 60,
   "metadata": {},
   "outputs": [],
   "source": [
    "Columnas = [0,1,3]\n",
    "Masa_corporal.drop(Masa_corporal.columns[Columnas], inplace = True, axis =1)"
   ]
  },
  {
   "cell_type": "code",
   "execution_count": 61,
   "metadata": {},
   "outputs": [],
   "source": [
    "Masa_corporal.rename(columns={Masa_corporal.columns[0]: \"Sobrepeso\" }, inplace = True)"
   ]
  },
  {
   "cell_type": "code",
   "execution_count": 62,
   "metadata": {},
   "outputs": [],
   "source": [
    "Masa_corporal = Masa_corporal.stack().str.replace(',','.').unstack()"
   ]
  },
  {
   "cell_type": "code",
   "execution_count": 63,
   "metadata": {},
   "outputs": [],
   "source": [
    "Masa_corporal[['Sobrepeso']]= Masa_corporal[['Sobrepeso']].astype(float)"
   ]
  },
  {
   "cell_type": "code",
   "execution_count": 64,
   "metadata": {},
   "outputs": [],
   "source": [
    "Masa_corporal = Masa_corporal.sort_index()"
   ]
  },
  {
   "cell_type": "code",
   "execution_count": 65,
   "metadata": {},
   "outputs": [],
   "source": [
    "Masa_corporal['index'] = Masa_corporal.index"
   ]
  },
  {
   "cell_type": "code",
   "execution_count": 66,
   "metadata": {},
   "outputs": [],
   "source": [
    "Masa_corporal = Masa_corporal.reset_index(drop = True)"
   ]
  },
  {
   "cell_type": "code",
   "execution_count": 67,
   "metadata": {},
   "outputs": [],
   "source": [
    "Migraña.rename(columns={ Migraña.columns[0]: \"Migraña\" }, inplace = True)"
   ]
  },
  {
   "cell_type": "code",
   "execution_count": 68,
   "metadata": {},
   "outputs": [],
   "source": [
    "Migraña = Migraña.stack().str.replace(',','.').unstack()"
   ]
  },
  {
   "cell_type": "code",
   "execution_count": 69,
   "metadata": {},
   "outputs": [],
   "source": [
    "Migraña[['Migraña']]= Migraña[['Migraña']].astype(float)"
   ]
  },
  {
   "cell_type": "code",
   "execution_count": 70,
   "metadata": {},
   "outputs": [],
   "source": [
    "Migraña = Migraña.sort_index()"
   ]
  },
  {
   "cell_type": "code",
   "execution_count": 71,
   "metadata": {},
   "outputs": [],
   "source": [
    "Migraña['index'] = Migraña.index"
   ]
  },
  {
   "cell_type": "code",
   "execution_count": 72,
   "metadata": {},
   "outputs": [],
   "source": [
    "Migraña = Migraña.reset_index(drop = True)"
   ]
  },
  {
   "cell_type": "code",
   "execution_count": 73,
   "metadata": {},
   "outputs": [],
   "source": [
    "Columnas = [1,3,5]\n",
    "Problemas_salud_mental.drop(Problemas_salud_mental.columns[Columnas], inplace = True, axis =1)"
   ]
  },
  {
   "cell_type": "code",
   "execution_count": 74,
   "metadata": {},
   "outputs": [],
   "source": [
    "Problemas_salud_mental.rename(columns={Problemas_salud_mental.columns[0]: \"Depresión\", Problemas_salud_mental.columns[1]: \"Ansiedad\" , Problemas_salud_mental.columns[2]: \"Otros probl Salud_mental\"}, inplace = True)"
   ]
  },
  {
   "cell_type": "code",
   "execution_count": 75,
   "metadata": {},
   "outputs": [],
   "source": [
    "Problemas_salud_mental = Problemas_salud_mental.stack().str.replace(',','.').unstack()"
   ]
  },
  {
   "cell_type": "code",
   "execution_count": 76,
   "metadata": {},
   "outputs": [],
   "source": [
    "Problemas_salud_mental[['Depresión', 'Ansiedad', 'Otros probl Salud_mental']]= Problemas_salud_mental[['Depresión', 'Ansiedad', 'Otros probl Salud_mental']].astype(float)"
   ]
  },
  {
   "cell_type": "code",
   "execution_count": 77,
   "metadata": {},
   "outputs": [],
   "source": [
    "Problemas_salud_mental = Problemas_salud_mental.sort_index()"
   ]
  },
  {
   "cell_type": "code",
   "execution_count": 78,
   "metadata": {},
   "outputs": [],
   "source": [
    "Problemas_salud_mental['index'] = Problemas_salud_mental.index"
   ]
  },
  {
   "cell_type": "code",
   "execution_count": 79,
   "metadata": {},
   "outputs": [],
   "source": [
    "Problemas_salud_mental = Problemas_salud_mental.reset_index(drop = True)"
   ]
  },
  {
   "cell_type": "code",
   "execution_count": 80,
   "metadata": {},
   "outputs": [],
   "source": [
    "Columnas = [1]\n",
    "salud_mental.drop(salud_mental.columns[Columnas], inplace = True, axis =1)\n"
   ]
  },
  {
   "cell_type": "code",
   "execution_count": 81,
   "metadata": {},
   "outputs": [],
   "source": [
    "salud_mental.rename(columns={salud_mental.columns[0]: \"Salud_mental: Media\"}, inplace = True)"
   ]
  },
  {
   "cell_type": "code",
   "execution_count": 82,
   "metadata": {},
   "outputs": [],
   "source": [
    "salud_mental = salud_mental.stack().str.replace(',','.').unstack()"
   ]
  },
  {
   "cell_type": "code",
   "execution_count": 83,
   "metadata": {},
   "outputs": [],
   "source": [
    "salud_mental[['Salud_mental: Media']]= salud_mental[['Salud_mental: Media']].astype(float)"
   ]
  },
  {
   "cell_type": "code",
   "execution_count": 84,
   "metadata": {},
   "outputs": [],
   "source": [
    "salud_mental = salud_mental.sort_index()"
   ]
  },
  {
   "cell_type": "code",
   "execution_count": 85,
   "metadata": {},
   "outputs": [],
   "source": [
    "salud_mental['index'] = salud_mental.index"
   ]
  },
  {
   "cell_type": "code",
   "execution_count": 86,
   "metadata": {},
   "outputs": [],
   "source": [
    "salud_mental = salud_mental.reset_index(drop = True)"
   ]
  },
  {
   "cell_type": "code",
   "execution_count": 87,
   "metadata": {},
   "outputs": [],
   "source": [
    "Columnas = [0,3,4]\n",
    "Salud_percibida.drop(Salud_percibida .columns[Columnas], inplace = True, axis =1)"
   ]
  },
  {
   "cell_type": "code",
   "execution_count": 88,
   "metadata": {},
   "outputs": [],
   "source": [
    "Salud_percibida.rename(columns={Salud_percibida.columns[0]: \"Buena Salud\", Salud_percibida.columns[1]: \"Salud Regular\"}, inplace = True)\n"
   ]
  },
  {
   "cell_type": "code",
   "execution_count": 89,
   "metadata": {},
   "outputs": [],
   "source": [
    "Salud_percibida = Salud_percibida.stack().str.replace(',','.').unstack()"
   ]
  },
  {
   "cell_type": "code",
   "execution_count": 90,
   "metadata": {},
   "outputs": [],
   "source": [
    "Salud_percibida[['Buena Salud']]= Salud_percibida[['Salud Regular']].astype(float)"
   ]
  },
  {
   "cell_type": "code",
   "execution_count": 91,
   "metadata": {},
   "outputs": [],
   "source": [
    "Salud_percibida = Salud_percibida.sort_index()"
   ]
  },
  {
   "cell_type": "code",
   "execution_count": 92,
   "metadata": {},
   "outputs": [],
   "source": [
    "Salud_percibida['index'] = Salud_percibida.index"
   ]
  },
  {
   "cell_type": "code",
   "execution_count": 93,
   "metadata": {},
   "outputs": [],
   "source": [
    "Salud_percibida = Salud_percibida.reset_index(drop = True)"
   ]
  },
  {
   "cell_type": "code",
   "execution_count": 94,
   "metadata": {},
   "outputs": [],
   "source": [
    "Tension_alta.rename(columns={Tension_alta.columns[0]: \"Tension: alta\"}, inplace = True)"
   ]
  },
  {
   "cell_type": "code",
   "execution_count": 95,
   "metadata": {},
   "outputs": [],
   "source": [
    "Tension_alta = Tension_alta.stack().str.replace(',','.').unstack()"
   ]
  },
  {
   "cell_type": "code",
   "execution_count": 96,
   "metadata": {},
   "outputs": [],
   "source": [
    "Tension_alta[['Tension: alta']]= Tension_alta[['Tension: alta']].astype(float)"
   ]
  },
  {
   "cell_type": "code",
   "execution_count": 97,
   "metadata": {},
   "outputs": [],
   "source": [
    "Tension_alta = Tension_alta.sort_index()"
   ]
  },
  {
   "cell_type": "code",
   "execution_count": 98,
   "metadata": {},
   "outputs": [],
   "source": [
    "Tension_alta['index'] = Tension_alta.index"
   ]
  },
  {
   "cell_type": "code",
   "execution_count": 99,
   "metadata": {},
   "outputs": [],
   "source": [
    "Tension_alta = Tension_alta.reset_index(drop = True)"
   ]
  },
  {
   "cell_type": "code",
   "execution_count": 100,
   "metadata": {},
   "outputs": [],
   "source": [
    "# VARIABLES DE CONTROL"
   ]
  },
  {
   "cell_type": "code",
   "execution_count": 101,
   "metadata": {},
   "outputs": [],
   "source": [
    "Renta_hogar = pd.read_csv(\"CSV_Control/Renta media_mediana_hogar_2018.csv\", index_col = [0], sep =';')\n",
    "Tasa_paro = pd.read_csv(\"CSV_Control/Tasa_paro_2017.csv\", index_col = [0], sep =';')\n",
    "Indice_masculinidad = pd.read_csv(\"CSV_Control/Sexo.csv\", index_col = [0], sep =';')\n",
    "Edad_25_59 = pd.read_csv(\"CSV_Control/Edad_2018.csv\", index_col = [0], sep =';')\n",
    "Educacion_superior = pd.read_csv(\"CSV_Control/Educacion_Superior_2017.csv\", index_col = [0], sep =';')"
   ]
  },
  {
   "cell_type": "code",
   "execution_count": 102,
   "metadata": {},
   "outputs": [],
   "source": [
    "Columnas = [1]\n",
    "Renta_hogar.drop(Renta_hogar .columns[Columnas], inplace = True, axis =1)"
   ]
  },
  {
   "cell_type": "code",
   "execution_count": 103,
   "metadata": {},
   "outputs": [],
   "source": [
    "Renta_hogar.rename(columns={Renta_hogar.columns[0]: \"Renta_media_hogar\"}, inplace = True)"
   ]
  },
  {
   "cell_type": "code",
   "execution_count": 104,
   "metadata": {},
   "outputs": [],
   "source": [
    "Renta_hogar = Renta_hogar.sort_index()"
   ]
  },
  {
   "cell_type": "code",
   "execution_count": 105,
   "metadata": {},
   "outputs": [],
   "source": [
    "Renta_hogar['index'] = Renta_hogar.index"
   ]
  },
  {
   "cell_type": "code",
   "execution_count": 106,
   "metadata": {},
   "outputs": [],
   "source": [
    "Renta_hogar = Renta_hogar.reset_index(drop = True)"
   ]
  },
  {
   "cell_type": "code",
   "execution_count": 107,
   "metadata": {},
   "outputs": [],
   "source": [
    "Tasa_paro.rename(columns={Tasa_paro.columns[0]: \"Tasa_paro\"}, inplace = True)"
   ]
  },
  {
   "cell_type": "code",
   "execution_count": 108,
   "metadata": {},
   "outputs": [],
   "source": [
    "Tasa_paro = Tasa_paro.stack().str.replace(',','.').unstack()"
   ]
  },
  {
   "cell_type": "code",
   "execution_count": 109,
   "metadata": {},
   "outputs": [],
   "source": [
    "Tasa_paro[['Tasa_paro']]= Tasa_paro[['Tasa_paro']].astype(float)"
   ]
  },
  {
   "cell_type": "code",
   "execution_count": 110,
   "metadata": {},
   "outputs": [],
   "source": [
    "Tasa_paro = Tasa_paro.sort_index()"
   ]
  },
  {
   "cell_type": "code",
   "execution_count": 111,
   "metadata": {},
   "outputs": [],
   "source": [
    "Tasa_paro['index'] = Tasa_paro.index"
   ]
  },
  {
   "cell_type": "code",
   "execution_count": 112,
   "metadata": {},
   "outputs": [],
   "source": [
    "Tasa_paro = Tasa_paro.reset_index(drop = True)"
   ]
  },
  {
   "cell_type": "code",
   "execution_count": 113,
   "metadata": {},
   "outputs": [],
   "source": [
    "Columnas = [0,1]\n",
    "Indice_masculinidad.drop(Indice_masculinidad .columns[Columnas], inplace = True, axis =1)\n"
   ]
  },
  {
   "cell_type": "code",
   "execution_count": 114,
   "metadata": {},
   "outputs": [],
   "source": [
    "Indice_masculinidad.rename(columns={Indice_masculinidad.columns[0]: \"Índice_masculinidad\"}, inplace = True)"
   ]
  },
  {
   "cell_type": "code",
   "execution_count": 115,
   "metadata": {},
   "outputs": [],
   "source": [
    "Indice_masculinidad = Indice_masculinidad.stack().str.replace(',','.').unstack()"
   ]
  },
  {
   "cell_type": "code",
   "execution_count": 116,
   "metadata": {},
   "outputs": [],
   "source": [
    "Indice_masculinidad[['Índice_masculinidad']]= Indice_masculinidad[['Índice_masculinidad']].astype(float)"
   ]
  },
  {
   "cell_type": "code",
   "execution_count": 117,
   "metadata": {},
   "outputs": [],
   "source": [
    "Indice_masculinidad = Indice_masculinidad.sort_index()"
   ]
  },
  {
   "cell_type": "code",
   "execution_count": 118,
   "metadata": {},
   "outputs": [],
   "source": [
    "Indice_masculinidad['index'] = Indice_masculinidad.index"
   ]
  },
  {
   "cell_type": "code",
   "execution_count": 119,
   "metadata": {},
   "outputs": [],
   "source": [
    "Indice_masculinidad = Indice_masculinidad.reset_index(drop = True)"
   ]
  },
  {
   "cell_type": "code",
   "execution_count": 120,
   "metadata": {},
   "outputs": [],
   "source": [
    "Columnas = [0,1]\n",
    "Edad_25_59.drop(Edad_25_59.columns[Columnas], inplace = True, axis =1)\n"
   ]
  },
  {
   "cell_type": "code",
   "execution_count": 121,
   "metadata": {},
   "outputs": [],
   "source": [
    "Edad_25_59.rename(columns={Edad_25_59.columns[0]: \"Edad_25_59 años\"}, inplace = True)"
   ]
  },
  {
   "cell_type": "code",
   "execution_count": 122,
   "metadata": {},
   "outputs": [],
   "source": [
    "Edad_25_59 = Edad_25_59.stack().str.replace(',','.').unstack()"
   ]
  },
  {
   "cell_type": "code",
   "execution_count": 123,
   "metadata": {},
   "outputs": [],
   "source": [
    "Edad_25_59[['Edad_25_59 años']]= Edad_25_59[['Edad_25_59 años']].astype(float)"
   ]
  },
  {
   "cell_type": "code",
   "execution_count": 124,
   "metadata": {},
   "outputs": [],
   "source": [
    "Edad_25_59 = Edad_25_59.sort_index()"
   ]
  },
  {
   "cell_type": "code",
   "execution_count": 125,
   "metadata": {},
   "outputs": [],
   "source": [
    "Edad_25_59['index'] = Edad_25_59.index"
   ]
  },
  {
   "cell_type": "code",
   "execution_count": 126,
   "metadata": {},
   "outputs": [],
   "source": [
    "Edad_25_59 = Edad_25_59.reset_index(drop = True)"
   ]
  },
  {
   "cell_type": "code",
   "execution_count": 127,
   "metadata": {},
   "outputs": [],
   "source": [
    "Educacion_superior.rename(columns={Educacion_superior.columns[0]: \"Educacion_superior\"}, inplace = True)"
   ]
  },
  {
   "cell_type": "code",
   "execution_count": 128,
   "metadata": {},
   "outputs": [],
   "source": [
    "Educacion_superior = Educacion_superior.stack().str.replace(',','.').unstack()"
   ]
  },
  {
   "cell_type": "code",
   "execution_count": 129,
   "metadata": {},
   "outputs": [],
   "source": [
    "Educacion_superior[['Educacion_superior']]= Educacion_superior[['Educacion_superior']].astype(float)"
   ]
  },
  {
   "cell_type": "code",
   "execution_count": 130,
   "metadata": {},
   "outputs": [],
   "source": [
    "Educacion_superior = Educacion_superior.sort_index()"
   ]
  },
  {
   "cell_type": "code",
   "execution_count": 131,
   "metadata": {},
   "outputs": [],
   "source": [
    "Educacion_superior['index'] = Educacion_superior.index"
   ]
  },
  {
   "cell_type": "code",
   "execution_count": 132,
   "metadata": {},
   "outputs": [],
   "source": [
    "Educacion_superior = Educacion_superior.reset_index(drop = True)"
   ]
  },
  {
   "cell_type": "code",
   "execution_count": 133,
   "metadata": {},
   "outputs": [],
   "source": [
    "del Concentrarse['index']\n",
    "del Diabetes['index']\n",
    "del Dificultades_ver['index']\n",
    "del Dolor_espalda['index']\n",
    "del Infarto_miocardio['index']\n",
    "del Restricc_AVD_Dolor['index']\n",
    "del Masa_corporal['index']\n",
    "del Migraña['index']\n",
    "del Problemas_salud_mental['index']\n",
    "del salud_mental['index']\n",
    "del Salud_percibida['index']\n",
    "del Tension_alta['index']\n",
    "\n",
    "\n"
   ]
  },
  {
   "cell_type": "code",
   "execution_count": 134,
   "metadata": {},
   "outputs": [],
   "source": [
    "del Renta_hogar['index']\n",
    "del Tasa_paro['index']\n",
    "del Indice_masculinidad['index']\n",
    "del Edad_25_59['index']\n",
    "del Educacion_superior['index']\n",
    "\n"
   ]
  },
  {
   "cell_type": "code",
   "execution_count": 135,
   "metadata": {},
   "outputs": [],
   "source": [
    "Base_completa = pd.concat([TICS_2017, Concentrarse, Diabetes, Dificultades_ver, Dolor_espalda, Infarto_miocardio, Restricc_AVD_Dolor, Masa_corporal, Migraña, Problemas_salud_mental, salud_mental,Salud_percibida, Tension_alta, Renta_hogar, Tasa_paro, Indice_masculinidad, Edad_25_59, Educacion_superior], axis=1)"
   ]
  },
  {
   "cell_type": "code",
   "execution_count": 136,
   "metadata": {},
   "outputs": [
    {
     "output_type": "execute_result",
     "data": {
      "text/plain": [
       "(20, 30)"
      ]
     },
     "metadata": {},
     "execution_count": 136
    }
   ],
   "source": [
    "Base_completa.shape"
   ]
  },
  {
   "cell_type": "code",
   "execution_count": 146,
   "metadata": {},
   "outputs": [],
   "source": [
    "Base_completa.to_csv('Base_completa.csv')"
   ]
  },
  {
   "cell_type": "code",
   "execution_count": 138,
   "metadata": {},
   "outputs": [],
   "source": [
    "# Base TICS_salud física\n",
    "TICS_Control = Base_completa.drop(columns=['Alguna Dificultad Conc', 'Mucha Dificultad Conc', 'Diabetes','Alguna Dificultad Ver', 'Mucha Dificultad Ver', 'Dolor espalda crónico cervical', 'Dolor espalda crónico lumbar', 'Infarto_miocardio', 'Restricc_AVD_Dolor', 'Sobrepeso', 'Migraña', 'Depresión', 'Ansiedad', 'Otros probl Salud_mental', 'Salud_mental: Media', 'Buena Salud', 'Salud Regular', 'Tension: alta'], axis=1)\n"
   ]
  },
  {
   "cell_type": "code",
   "execution_count": 139,
   "metadata": {},
   "outputs": [],
   "source": [
    "TICS_Control.to_csv('TICS_Control.csv')"
   ]
  },
  {
   "cell_type": "code",
   "execution_count": 140,
   "metadata": {},
   "outputs": [],
   "source": [
    "# Base TICS_Salud_Física\n",
    "TICS_Salud_Física = Base_completa.drop(columns=['Depresión', 'Ansiedad', 'Otros probl Salud_mental', 'Salud_mental: Media','Buena Salud', 'Salud Regular','Renta_media_hogar', 'Tasa_paro', 'Índice_masculinidad', 'Edad_25_59 años', 'Educacion_superior'], axis=1)"
   ]
  },
  {
   "cell_type": "code",
   "execution_count": 141,
   "metadata": {},
   "outputs": [],
   "source": [
    "TICS_Salud_Física.to_csv('TICS_Salud_Física.csv')"
   ]
  },
  {
   "cell_type": "code",
   "execution_count": 142,
   "metadata": {},
   "outputs": [],
   "source": [
    "# Base TICS_Salud_Mental\n",
    "\n",
    "TICS_Salud_Mental = Base_completa.drop(columns=['Alguna Dificultad Conc', 'Mucha Dificultad Conc', 'Diabetes','Alguna Dificultad Ver', 'Mucha Dificultad Ver', 'Dolor espalda crónico cervical', 'Dolor espalda crónico lumbar', 'Infarto_miocardio', 'Restricc_AVD_Dolor', 'Sobrepeso', 'Migraña', 'Buena Salud', 'Salud Regular', 'Tension: alta', 'Renta_media_hogar', 'Tasa_paro', 'Índice_masculinidad', 'Edad_25_59 años', 'Educacion_superior'], axis=1)"
   ]
  },
  {
   "cell_type": "code",
   "execution_count": 143,
   "metadata": {},
   "outputs": [],
   "source": [
    "TICS_Salud_Mental.to_csv('TICS_Salud_Mental.csv')"
   ]
  },
  {
   "cell_type": "code",
   "execution_count": 144,
   "metadata": {},
   "outputs": [],
   "source": [
    "# Base TICS_Salud_Percibida\n",
    "\n",
    "TICS_Salud_Percibida = Base_completa.drop(columns =['Alguna Dificultad Conc', 'Mucha Dificultad Conc', 'Diabetes',\n",
    "       'Alguna Dificultad Ver', 'Mucha Dificultad Ver',\n",
    "       'Dolor espalda crónico cervical', 'Dolor espalda crónico lumbar',\n",
    "       'Infarto_miocardio', 'Restricc_AVD_Dolor', 'Sobrepeso', 'Migraña',\n",
    "       'Depresión', 'Ansiedad', 'Otros probl Salud_mental',\n",
    "       'Salud_mental: Media', 'Tension: alta',\n",
    "       'Renta_media_hogar', 'Tasa_paro', 'Índice_masculinidad',\n",
    "       'Edad_25_59 años', 'Educacion_superior'])"
   ]
  },
  {
   "cell_type": "code",
   "execution_count": 145,
   "metadata": {},
   "outputs": [],
   "source": [
    "TICS_Salud_Percibida.to_csv('TICS_Salud_Percibida.csv')"
   ]
  },
  {
   "cell_type": "code",
   "execution_count": null,
   "metadata": {},
   "outputs": [],
   "source": []
  }
 ]
}