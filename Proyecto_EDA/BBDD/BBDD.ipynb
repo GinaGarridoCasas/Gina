{
 "metadata": {
  "language_info": {
   "codemirror_mode": {
    "name": "ipython",
    "version": 3
   },
   "file_extension": ".py",
   "mimetype": "text/x-python",
   "name": "python",
   "nbconvert_exporter": "python",
   "pygments_lexer": "ipython3",
   "version": "3.8.9"
  },
  "orig_nbformat": 2,
  "kernelspec": {
   "name": "python389jvsc74a57bd07980ba124835d5faa10419b5aaaaec0d5be537aa3d05dd29d745d0092f32015f",
   "display_name": "Python 3.8.9 64-bit"
  },
  "metadata": {
   "interpreter": {
    "hash": "7980ba124835d5faa10419b5aaaaec0d5be537aa3d05dd29d745d0092f32015f"
   }
  }
 },
 "nbformat": 4,
 "nbformat_minor": 2,
 "cells": [
  {
   "cell_type": "code",
   "execution_count": 3,
   "metadata": {},
   "outputs": [],
   "source": [
    "import pandas as pd\n",
    "import numpy as np\n",
    "\n",
    "\n"
   ]
  },
  {
   "cell_type": "code",
   "execution_count": 7,
   "metadata": {},
   "outputs": [
    {
     "output_type": "execute_result",
     "data": {
      "text/plain": [
       "   Comunidades y Ciudades Autónomas  \\\n",
       "0                    Total nacional   \n",
       "1                    Total nacional   \n",
       "2                    Total nacional   \n",
       "3                    Total nacional   \n",
       "4                         Andalucía   \n",
       "..                              ...   \n",
       "75                            Ceuta   \n",
       "76                          Melilla   \n",
       "77                          Melilla   \n",
       "78                          Melilla   \n",
       "79                          Melilla   \n",
       "\n",
       "                                    Forma de conexión  Total_2019  \n",
       "0   Total de viviendas que disponen de acceso a In...  15.042.754  \n",
       "1               Viviendas con conexión de banda ancha        99,7  \n",
       "2   Conexión de banda ancha por ADSL, red de cable...        85,2  \n",
       "3   Conexión móvil de banda ancha a través de un d...        83,9  \n",
       "4   Total de viviendas que disponen de acceso a In...   2.577.826  \n",
       "..                                                ...         ...  \n",
       "75  Conexión móvil de banda ancha a través de un d...          91  \n",
       "76  Total de viviendas que disponen de acceso a In...      27.330  \n",
       "77              Viviendas con conexión de banda ancha         100  \n",
       "78  Conexión de banda ancha por ADSL, red de cable...        80,1  \n",
       "79  Conexión móvil de banda ancha a través de un d...        91,1  \n",
       "\n",
       "[80 rows x 3 columns]"
      ],
      "text/html": "<div>\n<style scoped>\n    .dataframe tbody tr th:only-of-type {\n        vertical-align: middle;\n    }\n\n    .dataframe tbody tr th {\n        vertical-align: top;\n    }\n\n    .dataframe thead th {\n        text-align: right;\n    }\n</style>\n<table border=\"1\" class=\"dataframe\">\n  <thead>\n    <tr style=\"text-align: right;\">\n      <th></th>\n      <th>Comunidades y Ciudades Autónomas</th>\n      <th>Forma de conexión</th>\n      <th>Total_2019</th>\n    </tr>\n  </thead>\n  <tbody>\n    <tr>\n      <th>0</th>\n      <td>Total nacional</td>\n      <td>Total de viviendas que disponen de acceso a In...</td>\n      <td>15.042.754</td>\n    </tr>\n    <tr>\n      <th>1</th>\n      <td>Total nacional</td>\n      <td>Viviendas con conexión de banda ancha</td>\n      <td>99,7</td>\n    </tr>\n    <tr>\n      <th>2</th>\n      <td>Total nacional</td>\n      <td>Conexión de banda ancha por ADSL, red de cable...</td>\n      <td>85,2</td>\n    </tr>\n    <tr>\n      <th>3</th>\n      <td>Total nacional</td>\n      <td>Conexión móvil de banda ancha a través de un d...</td>\n      <td>83,9</td>\n    </tr>\n    <tr>\n      <th>4</th>\n      <td>Andalucía</td>\n      <td>Total de viviendas que disponen de acceso a In...</td>\n      <td>2.577.826</td>\n    </tr>\n    <tr>\n      <th>...</th>\n      <td>...</td>\n      <td>...</td>\n      <td>...</td>\n    </tr>\n    <tr>\n      <th>75</th>\n      <td>Ceuta</td>\n      <td>Conexión móvil de banda ancha a través de un d...</td>\n      <td>91</td>\n    </tr>\n    <tr>\n      <th>76</th>\n      <td>Melilla</td>\n      <td>Total de viviendas que disponen de acceso a In...</td>\n      <td>27.330</td>\n    </tr>\n    <tr>\n      <th>77</th>\n      <td>Melilla</td>\n      <td>Viviendas con conexión de banda ancha</td>\n      <td>100</td>\n    </tr>\n    <tr>\n      <th>78</th>\n      <td>Melilla</td>\n      <td>Conexión de banda ancha por ADSL, red de cable...</td>\n      <td>80,1</td>\n    </tr>\n    <tr>\n      <th>79</th>\n      <td>Melilla</td>\n      <td>Conexión móvil de banda ancha a través de un d...</td>\n      <td>91,1</td>\n    </tr>\n  </tbody>\n</table>\n<p>80 rows × 3 columns</p>\n</div>"
     },
     "metadata": {},
     "execution_count": 7
    }
   ],
   "source": [
    "TICS_2010 = pd.read_csv(\"TICS/TICS_valido/Acceso_internet_CCAA_2019.csv\", sep =';')\n",
    "TICS_2010.iloc[0:10] \n",
    "TICS_2010.rename(columns = {'Total': 'Total_2019'}) \n",
    "\n",
    "\n",
    "# Solucionar el tema de los acentos. No los coge bien al importar el archivo csv. cambiar previamente en el archivo. Guardar como y elegir la opción de que me lo guarde con formato 'csv utf-8 (delimitado por comas)'"
   ]
  },
  {
   "cell_type": "code",
   "execution_count": 14,
   "metadata": {},
   "outputs": [],
   "source": [
    "# colocar una columna en la que aparezcan los años\n",
    "\n",
    "TICS_2010[\"Años\"] = np.nan\n",
    "TICS_2010 = TICS_2010.fillna({'Años':'2010'})\n",
    "\n",
    "# ver como automatizarlo con una función\n",
    "\n",
    "def colocar_año (df, año):\n",
    "    df[\"Años\"] = np.nan\n",
    "    df = df.fillna({'Años':'año'})  # DA ERROR\n",
    "\n",
    "    return df\n",
    "\n"
   ]
  },
  {
   "cell_type": "code",
   "execution_count": null,
   "metadata": {},
   "outputs": [],
   "source": []
  }
 ]
}