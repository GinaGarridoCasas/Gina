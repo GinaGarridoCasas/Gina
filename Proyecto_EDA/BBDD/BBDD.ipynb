{
 "metadata": {
  "language_info": {
   "codemirror_mode": {
    "name": "ipython",
    "version": 3
   },
   "file_extension": ".py",
   "mimetype": "text/x-python",
   "name": "python",
   "nbconvert_exporter": "python",
   "pygments_lexer": "ipython3",
   "version": "3.8.9"
  },
  "orig_nbformat": 2,
  "kernelspec": {
   "name": "python389jvsc74a57bd07980ba124835d5faa10419b5aaaaec0d5be537aa3d05dd29d745d0092f32015f",
   "display_name": "Python 3.8.9 64-bit"
  },
  "metadata": {
   "interpreter": {
    "hash": "7980ba124835d5faa10419b5aaaaec0d5be537aa3d05dd29d745d0092f32015f"
   }
  }
 },
 "nbformat": 4,
 "nbformat_minor": 2,
 "cells": [
  {
   "cell_type": "code",
   "execution_count": 273,
   "metadata": {},
   "outputs": [],
   "source": [
    "import pandas as pd\n",
    "import numpy as np\n",
    "\n",
    "\n"
   ]
  },
  {
   "cell_type": "code",
   "execution_count": 274,
   "metadata": {},
   "outputs": [],
   "source": [
    "# VARIABLES TICS"
   ]
  },
  {
   "cell_type": "code",
   "execution_count": 275,
   "metadata": {},
   "outputs": [],
   "source": [
    "TICS_2017 = pd.read_csv(\"TICS/Acceso_internet_CCAA_2017.csv\", sep =';')\n",
    "\n",
    "# Guardar el archivo con formato 'csv utf-8 (delimitado por comas)' para que no den problemas las palabras acentuadas"
   ]
  },
  {
   "cell_type": "code",
   "execution_count": 276,
   "metadata": {},
   "outputs": [],
   "source": [
    "# Pasar los diferentes tipos de conexión seleccionados a columnas\n",
    "# 1. Creamos una lista con la columna de Comunidades autónomas y dejamos un solo valor de cada categoría. ordenamos la lista creada. Colocamos esta lista como indice y colocamos en primer lugar la última categoría que corresponde al 'Total nacional'. Borramos la que queda al final que es 'Total nacional'\n",
    "\n",
    "comunidades_autonomas = TICS_2017[\"Comunidades y Ciudades Autónomas\"].unique()\n",
    "comunidades_autonomas_ordenada = sorted(list(comunidades_autonomas)) \n",
    "comunidades_autonomas_ordenada.insert(0, comunidades_autonomas_ordenada[-1])\n",
    "comunidades_autonomas_ordenada.pop()\n",
    "\n",
    "# 2. Creamos una lista que corresponde con los valores de la columna en la que aparecen los diferentes tipos de conexión. \n",
    "# 3. Creamos un diccionario cuyas claves seran los valores de Cada uno de los items de esta variable y recogerá los valores de la columna 2 del dataframe\n",
    "\n",
    "tipo_conex = TICS_2017[\"Forma de conexión\"].unique()\n",
    "diccionario_final = {}\n",
    "for conex in tipo_conex:\n",
    "    diccionario_final[conex] = []\n",
    "for row in TICS_2017.iterrows():\n",
    "    comunidad = row[1][0]\n",
    "    tipo_conex = row[1][1]\n",
    "    valor = row[1][2]\n",
    "    diccionario_final[tipo_conex].append(valor)\n",
    "TICS_2017 = pd.DataFrame(diccionario_final, index=comunidades_autonomas_ordenada)\n",
    "\n"
   ]
  },
  {
   "cell_type": "code",
   "execution_count": 277,
   "metadata": {},
   "outputs": [],
   "source": [
    "TO_TICS_2017 = ['Viviendas con conexión de banda ancha', 'Viviendas con conexión de banda estrecha', 'Conexión de banda estrecha por llamada telefónica a través de su línea de teléfono convencional (módem) o RDSI','Conexión móvil de banda estrecha (otros teléfonos móviles -GPRS-)']\n",
    "\n",
    "TICS_2017.drop(TO_TICS_2017, inplace = True, axis=1)\n"
   ]
  },
  {
   "cell_type": "code",
   "execution_count": 278,
   "metadata": {},
   "outputs": [],
   "source": [
    "# Renombramos los encabezados de las columnas \n",
    "\n",
    "TICS_2017 = TICS_2017.rename(columns = \n",
    "{'Total de viviendas que disponen de acceso a Internet y declaran las formas de conexión utilizadas': 'Declaran acceso_internet_2017', \n",
    "'Conexión de banda ancha por ADSL': 'ADSL', \n",
    "'Conexión de banda ancha por red de cable o fibra óptica': 'cable_fibra óptica',\n",
    "'Otras conexiones fijas de banda ancha (vía satélite, WiFi público o WiMax)': 'otras conexiones', \n",
    "'Conexión móvil de banda ancha vía modem USB ó tarjeta (en portátiles, p.ej.)':'móvil_USB'})\n",
    "\n",
    "\n"
   ]
  },
  {
   "cell_type": "code",
   "execution_count": 279,
   "metadata": {},
   "outputs": [],
   "source": [
    "# Renombrar la columna 4\n",
    "TICS_2017.rename(columns={ TICS_2017.columns[4]: 'conexion móvil_dispositivo_mano' }, inplace = True)\n"
   ]
  },
  {
   "cell_type": "code",
   "execution_count": 280,
   "metadata": {},
   "outputs": [],
   "source": [
    "TICS_2017 = TICS_2017.stack().str.replace(',','.').unstack()"
   ]
  },
  {
   "cell_type": "code",
   "execution_count": 281,
   "metadata": {},
   "outputs": [],
   "source": [
    "TICS_2017[['ADSL', 'cable_fibra óptica','otras conexiones', 'conexion móvil_dispositivo_mano', 'móvil_USB']]= TICS_2017[['ADSL', 'cable_fibra óptica','otras conexiones', 'conexion móvil_dispositivo_mano', 'móvil_USB']].astype(float)\n"
   ]
  },
  {
   "cell_type": "code",
   "execution_count": 282,
   "metadata": {},
   "outputs": [],
   "source": [
    "TICS_2017['Declaran acceso_internet_2017'] = TICS_2017['Declaran acceso_internet_2017'].apply(lambda x: x.split('.')).apply(''.join)\n"
   ]
  },
  {
   "cell_type": "code",
   "execution_count": 283,
   "metadata": {},
   "outputs": [],
   "source": [
    "TICS_2017[['Declaran acceso_internet_2017']]= TICS_2017[['Declaran acceso_internet_2017']].astype(int)"
   ]
  },
  {
   "cell_type": "code",
   "execution_count": 284,
   "metadata": {},
   "outputs": [],
   "source": [
    "# Renombrar la columna 4\n",
    "TICS_2017.rename(columns={ TICS_2017.columns[4]: 'Banda ancha:conexion móvil_USB' }, inplace = True)\n"
   ]
  },
  {
   "cell_type": "code",
   "execution_count": 285,
   "metadata": {},
   "outputs": [],
   "source": [
    "TICS_2017 = TICS_2017.sort_index()"
   ]
  },
  {
   "cell_type": "code",
   "execution_count": 286,
   "metadata": {},
   "outputs": [],
   "source": [
    "TICS_2017['index'] = TICS_2017.index"
   ]
  },
  {
   "cell_type": "code",
   "execution_count": 287,
   "metadata": {},
   "outputs": [],
   "source": [
    "TICS_2017 = TICS_2017.reset_index(drop = True)"
   ]
  },
  {
   "cell_type": "code",
   "execution_count": 288,
   "metadata": {},
   "outputs": [],
   "source": [
    "# VARIABLES DE SALUD FÍSICA Y MENTAL"
   ]
  },
  {
   "cell_type": "code",
   "execution_count": 289,
   "metadata": {},
   "outputs": [],
   "source": [
    "# Comprobar que se pueden leer bien todos los archivos a unir\n",
    "\n",
    "Concentrarse = pd.read_csv(\"CSV_Salud/Concentrarse_2017.csv\", index_col = [0], sep =';')\n",
    "Diabetes = pd.read_csv(\"CSV_Salud/Diabetes.csv\", index_col = [0], sep =';')\n",
    "Dificultades_ver = pd.read_csv(\"CSV_Salud/Dificultades_ver_2017.csv\", index_col = [0], sep =';')\n",
    "Dolor_espalda = pd.read_csv(\"CSV_Salud/Dolor_espalda_2017.csv\", index_col = [0], sep =';')\n",
    "Infarto_miocardio = pd.read_csv(\"CSV_Salud/Infarto_miocardio_2017.csv\", index_col = [0], sep =';')\n",
    "Restricc_AVD_Dolor = pd.read_csv(\"CSV_Salud/Restricc_AVD_Dolor.csv\", index_col = [0], sep =';')\n",
    "Masa_corporal = pd.read_csv(\"CSV_Salud/Masa_corporal_2017.csv\", index_col = [0], sep =';')\n",
    "Migraña = pd.read_csv(\"CSV_Salud/Migraña_2017.csv\", index_col = [0], sep =';')\n",
    "Problemas_salud_mental = pd.read_csv(\"CSV_Salud/Problemas_salud_mental_2017.csv\", index_col = [0], sep =';')\n",
    "salud_mental = pd.read_csv(\"CSV_Salud/salud_mental_2017.csv\", index_col = [0], sep =';')\n",
    "Salud_percibida = pd.read_csv(\"CSV_Salud/Salud_percibida_2017.csv\", index_col = [0], sep =';')\n",
    "Tension_alta = pd.read_csv(\"CSV_Salud/Tension_2017.csv\", index_col = [0], sep =';')\n",
    "\n"
   ]
  },
  {
   "cell_type": "code",
   "execution_count": 290,
   "metadata": {},
   "outputs": [],
   "source": [
    "Columnas = [0,3]\n",
    "Concentrarse.drop(Concentrarse.columns[Columnas], inplace = True, axis =1)\n"
   ]
  },
  {
   "cell_type": "code",
   "execution_count": 291,
   "metadata": {},
   "outputs": [],
   "source": [
    "Concentrarse.rename(columns={Concentrarse.columns[0]: \"Alguna Dificultad Conc\", Concentrarse.columns[1]: \"Mucha Dificultad Conc\" }, inplace = True)\n"
   ]
  },
  {
   "cell_type": "code",
   "execution_count": 292,
   "metadata": {},
   "outputs": [],
   "source": [
    "# Pasar a float los valores de todas las columnas\n",
    "Concentrarse = Concentrarse.stack().str.replace(',','.').unstack()\n"
   ]
  },
  {
   "cell_type": "code",
   "execution_count": 293,
   "metadata": {},
   "outputs": [],
   "source": [
    "Concentrarse[['Alguna Dificultad Conc', 'Mucha Dificultad Conc']]= Concentrarse[['Alguna Dificultad Conc','Mucha Dificultad Conc']].astype(float)"
   ]
  },
  {
   "cell_type": "code",
   "execution_count": 294,
   "metadata": {},
   "outputs": [],
   "source": [
    "Concentrarse = Concentrarse.sort_index()"
   ]
  },
  {
   "cell_type": "code",
   "execution_count": 295,
   "metadata": {},
   "outputs": [],
   "source": [
    "Concentrarse['index'] = Concentrarse.index"
   ]
  },
  {
   "cell_type": "code",
   "execution_count": 296,
   "metadata": {},
   "outputs": [],
   "source": [
    "Concentrarse = Concentrarse.reset_index(drop = True)"
   ]
  },
  {
   "cell_type": "code",
   "execution_count": 297,
   "metadata": {},
   "outputs": [],
   "source": [
    "Diabetes = pd.read_csv(\"CSV_Salud/Diabetes.csv\", index_col = [0], sep =';')"
   ]
  },
  {
   "cell_type": "code",
   "execution_count": 298,
   "metadata": {},
   "outputs": [],
   "source": [
    "Diabetes.rename(columns={ Diabetes.columns[0]: \"Diabetes\" }, inplace = True)\n"
   ]
  },
  {
   "cell_type": "code",
   "execution_count": 299,
   "metadata": {},
   "outputs": [],
   "source": [
    "\n",
    "Diabetes = Diabetes.stack().str.replace(',','.').unstack()\n"
   ]
  },
  {
   "cell_type": "code",
   "execution_count": 300,
   "metadata": {},
   "outputs": [],
   "source": [
    "Diabetes[['Diabetes']]= Diabetes[['Diabetes']].astype(float)"
   ]
  },
  {
   "cell_type": "code",
   "execution_count": 301,
   "metadata": {},
   "outputs": [],
   "source": [
    "Diabetes = Diabetes.sort_index()"
   ]
  },
  {
   "cell_type": "code",
   "execution_count": 302,
   "metadata": {},
   "outputs": [],
   "source": [
    "Diabetes['index'] = Diabetes.index"
   ]
  },
  {
   "cell_type": "code",
   "execution_count": 303,
   "metadata": {},
   "outputs": [],
   "source": [
    "Diabetes = Diabetes.reset_index(drop = True)"
   ]
  },
  {
   "cell_type": "code",
   "execution_count": 304,
   "metadata": {},
   "outputs": [],
   "source": [
    "Dificultades_ver.rename(columns={Dificultades_ver.columns[0]: \"Alguna Dificultad Ver\", Dificultades_ver.columns[1]: \"Mucha Dificultad Ver\" }, inplace = True)"
   ]
  },
  {
   "cell_type": "code",
   "execution_count": 305,
   "metadata": {},
   "outputs": [],
   "source": [
    "Dificultades_ver = Dificultades_ver.stack().str.replace(',','.').unstack()\n"
   ]
  },
  {
   "cell_type": "code",
   "execution_count": 306,
   "metadata": {},
   "outputs": [],
   "source": [
    "Dificultades_ver[['Alguna Dificultad Ver', 'Mucha Dificultad Ver']]= Dificultades_ver[['Alguna Dificultad Ver','Mucha Dificultad Ver']].astype(float)"
   ]
  },
  {
   "cell_type": "code",
   "execution_count": 307,
   "metadata": {},
   "outputs": [],
   "source": [
    "Dificultades_ver = Dificultades_ver.sort_index()"
   ]
  },
  {
   "cell_type": "code",
   "execution_count": 308,
   "metadata": {},
   "outputs": [],
   "source": [
    "Dificultades_ver['index'] = Dificultades_ver.index"
   ]
  },
  {
   "cell_type": "code",
   "execution_count": 309,
   "metadata": {},
   "outputs": [],
   "source": [
    "Dificultades_ver = Dificultades_ver.reset_index(drop = True)"
   ]
  },
  {
   "cell_type": "code",
   "execution_count": 310,
   "metadata": {},
   "outputs": [],
   "source": [
    "# borrar una fila\n",
    "Dolor_espalda = Dolor_espalda.drop (Dolor_espalda.index[[0]])\n"
   ]
  },
  {
   "cell_type": "code",
   "execution_count": 311,
   "metadata": {},
   "outputs": [],
   "source": [
    "# cambiar la coma por un punto para poder pasar a float el string\n",
    "\n",
    "Dolor_espalda = Dolor_espalda.stack().str.replace(',','.').unstack()"
   ]
  },
  {
   "cell_type": "code",
   "execution_count": 312,
   "metadata": {},
   "outputs": [],
   "source": [
    "# Pasar a float el string\n",
    "\n",
    "Dolor_espalda[['Dolor espalda crónico cervical', 'Dolor espalda crónico lumbar']]= Dolor_espalda[['Dolor espalda crónico cervical','Dolor espalda crónico lumbar']].astype(float)"
   ]
  },
  {
   "cell_type": "code",
   "execution_count": 313,
   "metadata": {},
   "outputs": [],
   "source": [
    "Dolor_espalda = Dolor_espalda.sort_index()"
   ]
  },
  {
   "cell_type": "code",
   "execution_count": 314,
   "metadata": {},
   "outputs": [],
   "source": [
    "Dolor_espalda['index'] = Dolor_espalda.index"
   ]
  },
  {
   "cell_type": "code",
   "execution_count": 315,
   "metadata": {},
   "outputs": [],
   "source": [
    "Dolor_espalda = Dolor_espalda.reset_index(drop = True)"
   ]
  },
  {
   "cell_type": "code",
   "execution_count": 316,
   "metadata": {},
   "outputs": [],
   "source": [
    "Columnas = [1]\n",
    "Infarto_miocardio.drop(Infarto_miocardio.columns[Columnas], inplace = True, axis =1)"
   ]
  },
  {
   "cell_type": "code",
   "execution_count": 317,
   "metadata": {},
   "outputs": [],
   "source": [
    "Infarto_miocardio.rename(columns={Infarto_miocardio.columns[0]: \"Infarto_miocardio\" }, inplace = True)"
   ]
  },
  {
   "cell_type": "code",
   "execution_count": 318,
   "metadata": {},
   "outputs": [],
   "source": [
    "Infarto_miocardio = Infarto_miocardio.stack().str.replace(',','.').unstack()"
   ]
  },
  {
   "cell_type": "code",
   "execution_count": 319,
   "metadata": {},
   "outputs": [],
   "source": [
    "Infarto_miocardio[['Infarto_miocardio']]= Infarto_miocardio[['Infarto_miocardio']].astype(float)"
   ]
  },
  {
   "cell_type": "code",
   "execution_count": 320,
   "metadata": {},
   "outputs": [],
   "source": [
    "Infarto_miocardio = Infarto_miocardio.sort_index()"
   ]
  },
  {
   "cell_type": "code",
   "execution_count": 321,
   "metadata": {},
   "outputs": [],
   "source": [
    "Infarto_miocardio['index'] = Infarto_miocardio.index"
   ]
  },
  {
   "cell_type": "code",
   "execution_count": 322,
   "metadata": {},
   "outputs": [],
   "source": [
    "Infarto_miocardio = Infarto_miocardio.reset_index(drop = True)"
   ]
  },
  {
   "cell_type": "code",
   "execution_count": 323,
   "metadata": {},
   "outputs": [],
   "source": [
    "Columnas = [1]\n",
    "Restricc_AVD_Dolor.drop(Restricc_AVD_Dolor.columns[Columnas], inplace = True, axis =1)"
   ]
  },
  {
   "cell_type": "code",
   "execution_count": 324,
   "metadata": {},
   "outputs": [],
   "source": [
    "Restricc_AVD_Dolor.rename(columns={Restricc_AVD_Dolor.columns[0]: \"Restricc_AVD_Dolor\" }, inplace = True)"
   ]
  },
  {
   "cell_type": "code",
   "execution_count": 325,
   "metadata": {},
   "outputs": [],
   "source": [
    "Restricc_AVD_Dolor = Restricc_AVD_Dolor.stack().str.replace(',','.').unstack()"
   ]
  },
  {
   "cell_type": "code",
   "execution_count": 326,
   "metadata": {},
   "outputs": [],
   "source": [
    "Restricc_AVD_Dolor[['Restricc_AVD_Dolor']]= Restricc_AVD_Dolor[['Restricc_AVD_Dolor']].astype(float)"
   ]
  },
  {
   "cell_type": "code",
   "execution_count": 327,
   "metadata": {},
   "outputs": [],
   "source": [
    "Restricc_AVD_Dolor = Restricc_AVD_Dolor.sort_index()"
   ]
  },
  {
   "cell_type": "code",
   "execution_count": 328,
   "metadata": {},
   "outputs": [],
   "source": [
    "Restricc_AVD_Dolor['index'] = Restricc_AVD_Dolor.index"
   ]
  },
  {
   "cell_type": "code",
   "execution_count": 329,
   "metadata": {},
   "outputs": [],
   "source": [
    "Restricc_AVD_Dolor = Restricc_AVD_Dolor.reset_index(drop = True)"
   ]
  },
  {
   "cell_type": "code",
   "execution_count": 330,
   "metadata": {},
   "outputs": [],
   "source": [
    "Columnas = [0,1,3]\n",
    "Masa_corporal.drop(Masa_corporal.columns[Columnas], inplace = True, axis =1)"
   ]
  },
  {
   "cell_type": "code",
   "execution_count": 331,
   "metadata": {},
   "outputs": [],
   "source": [
    "Masa_corporal.rename(columns={Masa_corporal.columns[0]: \"Sobrepeso\" }, inplace = True)"
   ]
  },
  {
   "cell_type": "code",
   "execution_count": 332,
   "metadata": {},
   "outputs": [],
   "source": [
    "Masa_corporal = Masa_corporal.stack().str.replace(',','.').unstack()"
   ]
  },
  {
   "cell_type": "code",
   "execution_count": 333,
   "metadata": {},
   "outputs": [],
   "source": [
    "Masa_corporal[['Sobrepeso']]= Masa_corporal[['Sobrepeso']].astype(float)"
   ]
  },
  {
   "cell_type": "code",
   "execution_count": 334,
   "metadata": {},
   "outputs": [],
   "source": [
    "Masa_corporal = Masa_corporal.sort_index()"
   ]
  },
  {
   "cell_type": "code",
   "execution_count": 335,
   "metadata": {},
   "outputs": [],
   "source": [
    "Masa_corporal['index'] = Masa_corporal.index"
   ]
  },
  {
   "cell_type": "code",
   "execution_count": 336,
   "metadata": {},
   "outputs": [],
   "source": [
    "Masa_corporal = Masa_corporal.reset_index(drop = True)"
   ]
  },
  {
   "cell_type": "code",
   "execution_count": 337,
   "metadata": {},
   "outputs": [],
   "source": [
    "Migraña.rename(columns={ Migraña.columns[0]: \"Migraña\" }, inplace = True)"
   ]
  },
  {
   "cell_type": "code",
   "execution_count": 338,
   "metadata": {},
   "outputs": [],
   "source": [
    "Migraña = Migraña.stack().str.replace(',','.').unstack()"
   ]
  },
  {
   "cell_type": "code",
   "execution_count": 339,
   "metadata": {},
   "outputs": [],
   "source": [
    "Migraña[['Migraña']]= Migraña[['Migraña']].astype(float)"
   ]
  },
  {
   "cell_type": "code",
   "execution_count": 340,
   "metadata": {},
   "outputs": [],
   "source": [
    "Migraña = Migraña.sort_index()"
   ]
  },
  {
   "cell_type": "code",
   "execution_count": 341,
   "metadata": {},
   "outputs": [],
   "source": [
    "Migraña['index'] = Migraña.index"
   ]
  },
  {
   "cell_type": "code",
   "execution_count": 342,
   "metadata": {},
   "outputs": [],
   "source": [
    "Migraña = Migraña.reset_index(drop = True)"
   ]
  },
  {
   "cell_type": "code",
   "execution_count": 343,
   "metadata": {},
   "outputs": [],
   "source": [
    "Columnas = [1,3,5]\n",
    "Problemas_salud_mental.drop(Problemas_salud_mental.columns[Columnas], inplace = True, axis =1)"
   ]
  },
  {
   "cell_type": "code",
   "execution_count": 344,
   "metadata": {},
   "outputs": [],
   "source": [
    "Problemas_salud_mental.rename(columns={Problemas_salud_mental.columns[0]: \"Depresión\", Problemas_salud_mental.columns[1]: \"Ansiedad\" , Problemas_salud_mental.columns[2]: \"Otros probl Salud_mental\"}, inplace = True)"
   ]
  },
  {
   "cell_type": "code",
   "execution_count": 345,
   "metadata": {},
   "outputs": [],
   "source": [
    "Problemas_salud_mental = Problemas_salud_mental.stack().str.replace(',','.').unstack()"
   ]
  },
  {
   "cell_type": "code",
   "execution_count": 346,
   "metadata": {},
   "outputs": [],
   "source": [
    "Problemas_salud_mental[['Depresión', 'Ansiedad', 'Otros probl Salud_mental']]= Problemas_salud_mental[['Depresión', 'Ansiedad', 'Otros probl Salud_mental']].astype(float)"
   ]
  },
  {
   "cell_type": "code",
   "execution_count": 347,
   "metadata": {},
   "outputs": [],
   "source": [
    "Problemas_salud_mental = Problemas_salud_mental.sort_index()"
   ]
  },
  {
   "cell_type": "code",
   "execution_count": 348,
   "metadata": {},
   "outputs": [],
   "source": [
    "Problemas_salud_mental['index'] = Problemas_salud_mental.index"
   ]
  },
  {
   "cell_type": "code",
   "execution_count": 349,
   "metadata": {},
   "outputs": [],
   "source": [
    "Problemas_salud_mental = Problemas_salud_mental.reset_index(drop = True)"
   ]
  },
  {
   "cell_type": "code",
   "execution_count": 350,
   "metadata": {},
   "outputs": [],
   "source": [
    "Columnas = [1]\n",
    "salud_mental.drop(salud_mental.columns[Columnas], inplace = True, axis =1)\n"
   ]
  },
  {
   "cell_type": "code",
   "execution_count": 351,
   "metadata": {},
   "outputs": [],
   "source": [
    "salud_mental.rename(columns={salud_mental.columns[0]: \"Salud_mental: Media\"}, inplace = True)"
   ]
  },
  {
   "cell_type": "code",
   "execution_count": 352,
   "metadata": {},
   "outputs": [],
   "source": [
    "salud_mental = salud_mental.stack().str.replace(',','.').unstack()"
   ]
  },
  {
   "cell_type": "code",
   "execution_count": 353,
   "metadata": {},
   "outputs": [],
   "source": [
    "salud_mental[['Salud_mental: Media']]= salud_mental[['Salud_mental: Media']].astype(float)"
   ]
  },
  {
   "cell_type": "code",
   "execution_count": 354,
   "metadata": {},
   "outputs": [],
   "source": [
    "salud_mental = salud_mental.sort_index()"
   ]
  },
  {
   "cell_type": "code",
   "execution_count": 355,
   "metadata": {},
   "outputs": [],
   "source": [
    "salud_mental['index'] = salud_mental.index"
   ]
  },
  {
   "cell_type": "code",
   "execution_count": 356,
   "metadata": {},
   "outputs": [],
   "source": [
    "salud_mental = salud_mental.reset_index(drop = True)"
   ]
  },
  {
   "cell_type": "code",
   "execution_count": 357,
   "metadata": {},
   "outputs": [],
   "source": [
    "Columnas = [0,3,4]\n",
    "Salud_percibida.drop(Salud_percibida .columns[Columnas], inplace = True, axis =1)"
   ]
  },
  {
   "cell_type": "code",
   "execution_count": 358,
   "metadata": {},
   "outputs": [],
   "source": [
    "Salud_percibida.rename(columns={Salud_percibida.columns[0]: \"Buena Salud\", Salud_percibida.columns[1]: \"Salud Regular\"}, inplace = True)\n"
   ]
  },
  {
   "cell_type": "code",
   "execution_count": 359,
   "metadata": {},
   "outputs": [],
   "source": [
    "Salud_percibida = Salud_percibida.stack().str.replace(',','.').unstack()"
   ]
  },
  {
   "cell_type": "code",
   "execution_count": 360,
   "metadata": {},
   "outputs": [],
   "source": [
    "Salud_percibida[['Buena Salud']]= Salud_percibida[['Salud Regular']].astype(float)"
   ]
  },
  {
   "cell_type": "code",
   "execution_count": 361,
   "metadata": {},
   "outputs": [],
   "source": [
    "Salud_percibida = Salud_percibida.sort_index()"
   ]
  },
  {
   "cell_type": "code",
   "execution_count": 362,
   "metadata": {},
   "outputs": [],
   "source": [
    "Salud_percibida['index'] = Salud_percibida.index"
   ]
  },
  {
   "cell_type": "code",
   "execution_count": 363,
   "metadata": {},
   "outputs": [],
   "source": [
    "Salud_percibida = Salud_percibida.reset_index(drop = True)"
   ]
  },
  {
   "cell_type": "code",
   "execution_count": 364,
   "metadata": {},
   "outputs": [],
   "source": [
    "Tension_alta.rename(columns={Tension_alta.columns[0]: \"Tension: alta\"}, inplace = True)"
   ]
  },
  {
   "cell_type": "code",
   "execution_count": 365,
   "metadata": {},
   "outputs": [],
   "source": [
    "Tension_alta = Tension_alta.stack().str.replace(',','.').unstack()"
   ]
  },
  {
   "cell_type": "code",
   "execution_count": 366,
   "metadata": {},
   "outputs": [],
   "source": [
    "Tension_alta[['Tension: alta']]= Tension_alta[['Tension: alta']].astype(float)"
   ]
  },
  {
   "cell_type": "code",
   "execution_count": 367,
   "metadata": {},
   "outputs": [],
   "source": [
    "Tension_alta = Tension_alta.sort_index()"
   ]
  },
  {
   "cell_type": "code",
   "execution_count": 368,
   "metadata": {},
   "outputs": [],
   "source": [
    "Tension_alta['index'] = Tension_alta.index"
   ]
  },
  {
   "cell_type": "code",
   "execution_count": 369,
   "metadata": {},
   "outputs": [],
   "source": [
    "Tension_alta = Tension_alta.reset_index(drop = True)"
   ]
  },
  {
   "cell_type": "code",
   "execution_count": 370,
   "metadata": {},
   "outputs": [],
   "source": [
    "# VARIABLES DE CONTROL"
   ]
  },
  {
   "cell_type": "code",
   "execution_count": 371,
   "metadata": {},
   "outputs": [],
   "source": [
    "Renta_hogar = pd.read_csv(\"CSV_Control/Renta media_mediana_hogar_2018.csv\", index_col = [0], sep =';')\n",
    "Tasa_paro = pd.read_csv(\"CSV_Control/Tasa_paro_2017.csv\", index_col = [0], sep =';')\n",
    "Indice_masculinidad = pd.read_csv(\"CSV_Control/Sexo.csv\", index_col = [0], sep =';')\n",
    "Edad_25_59 = pd.read_csv(\"CSV_Control/Edad_2018.csv\", index_col = [0], sep =';')\n",
    "Educacion_superior = pd.read_csv(\"CSV_Control/Educacion_Superior_2017.csv\", index_col = [0], sep =';')"
   ]
  },
  {
   "cell_type": "code",
   "execution_count": 372,
   "metadata": {},
   "outputs": [],
   "source": [
    "Columnas = [1]\n",
    "Renta_hogar.drop(Renta_hogar .columns[Columnas], inplace = True, axis =1)"
   ]
  },
  {
   "cell_type": "code",
   "execution_count": 373,
   "metadata": {},
   "outputs": [],
   "source": [
    "Renta_hogar.rename(columns={Renta_hogar.columns[0]: \"Renta_media_hogar\"}, inplace = True)"
   ]
  },
  {
   "cell_type": "code",
   "execution_count": 374,
   "metadata": {},
   "outputs": [],
   "source": [
    "Renta_hogar = Renta_hogar.sort_index()"
   ]
  },
  {
   "cell_type": "code",
   "execution_count": 375,
   "metadata": {},
   "outputs": [],
   "source": [
    "Renta_hogar['index'] = Renta_hogar.index"
   ]
  },
  {
   "cell_type": "code",
   "execution_count": 376,
   "metadata": {},
   "outputs": [],
   "source": [
    "Renta_hogar = Renta_hogar.reset_index(drop = True)"
   ]
  },
  {
   "cell_type": "code",
   "execution_count": 377,
   "metadata": {},
   "outputs": [],
   "source": [
    "Tasa_paro.rename(columns={Tasa_paro.columns[0]: \"Tasa_paro\"}, inplace = True)"
   ]
  },
  {
   "cell_type": "code",
   "execution_count": 378,
   "metadata": {},
   "outputs": [],
   "source": [
    "Tasa_paro = Tasa_paro.stack().str.replace(',','.').unstack()"
   ]
  },
  {
   "cell_type": "code",
   "execution_count": 379,
   "metadata": {},
   "outputs": [],
   "source": [
    "Tasa_paro[['Tasa_paro']]= Tasa_paro[['Tasa_paro']].astype(float)"
   ]
  },
  {
   "cell_type": "code",
   "execution_count": 380,
   "metadata": {},
   "outputs": [],
   "source": [
    "Tasa_paro = Tasa_paro.sort_index()"
   ]
  },
  {
   "cell_type": "code",
   "execution_count": 381,
   "metadata": {},
   "outputs": [],
   "source": [
    "Tasa_paro['index'] = Tasa_paro.index"
   ]
  },
  {
   "cell_type": "code",
   "execution_count": 382,
   "metadata": {},
   "outputs": [],
   "source": [
    "Tasa_paro = Tasa_paro.reset_index(drop = True)"
   ]
  },
  {
   "cell_type": "code",
   "execution_count": 383,
   "metadata": {},
   "outputs": [],
   "source": [
    "Columnas = [0,1]\n",
    "Indice_masculinidad.drop(Indice_masculinidad .columns[Columnas], inplace = True, axis =1)\n"
   ]
  },
  {
   "cell_type": "code",
   "execution_count": 384,
   "metadata": {},
   "outputs": [],
   "source": [
    "Indice_masculinidad.rename(columns={Indice_masculinidad.columns[0]: \"Índice_masculinidad\"}, inplace = True)"
   ]
  },
  {
   "cell_type": "code",
   "execution_count": 385,
   "metadata": {},
   "outputs": [],
   "source": [
    "Indice_masculinidad = Indice_masculinidad.stack().str.replace(',','.').unstack()"
   ]
  },
  {
   "cell_type": "code",
   "execution_count": 386,
   "metadata": {},
   "outputs": [],
   "source": [
    "Indice_masculinidad[['Índice_masculinidad']]= Indice_masculinidad[['Índice_masculinidad']].astype(float)"
   ]
  },
  {
   "cell_type": "code",
   "execution_count": 387,
   "metadata": {},
   "outputs": [],
   "source": [
    "Indice_masculinidad = Indice_masculinidad.sort_index()"
   ]
  },
  {
   "cell_type": "code",
   "execution_count": 388,
   "metadata": {},
   "outputs": [],
   "source": [
    "Indice_masculinidad['index'] = Indice_masculinidad.index"
   ]
  },
  {
   "cell_type": "code",
   "execution_count": 389,
   "metadata": {},
   "outputs": [],
   "source": [
    "Indice_masculinidad = Indice_masculinidad.reset_index(drop = True)"
   ]
  },
  {
   "cell_type": "code",
   "execution_count": 390,
   "metadata": {},
   "outputs": [],
   "source": [
    "Columnas = [0,1]\n",
    "Edad_25_59.drop(Edad_25_59 .columns[Columnas], inplace = True, axis =1)\n"
   ]
  },
  {
   "cell_type": "code",
   "execution_count": 391,
   "metadata": {},
   "outputs": [],
   "source": [
    "Edad_25_59.rename(columns={Edad_25_59.columns[0]: \"Edad_25_29 años\"}, inplace = True)"
   ]
  },
  {
   "cell_type": "code",
   "execution_count": 392,
   "metadata": {},
   "outputs": [],
   "source": [
    "Edad_25_59 = Edad_25_59.stack().str.replace(',','.').unstack()"
   ]
  },
  {
   "cell_type": "code",
   "execution_count": 393,
   "metadata": {},
   "outputs": [],
   "source": [
    "Edad_25_59[['Edad_25_29 años']]= Edad_25_59[['Edad_25_29 años']].astype(float)"
   ]
  },
  {
   "cell_type": "code",
   "execution_count": 394,
   "metadata": {},
   "outputs": [],
   "source": [
    "Edad_25_59 = Edad_25_59.sort_index()"
   ]
  },
  {
   "cell_type": "code",
   "execution_count": 395,
   "metadata": {},
   "outputs": [],
   "source": [
    "Edad_25_59['index'] = Edad_25_59.index"
   ]
  },
  {
   "cell_type": "code",
   "execution_count": 396,
   "metadata": {},
   "outputs": [],
   "source": [
    "Edad_25_59 = Edad_25_59.reset_index(drop = True)"
   ]
  },
  {
   "cell_type": "code",
   "execution_count": 397,
   "metadata": {},
   "outputs": [],
   "source": [
    "Educacion_superior.rename(columns={Educacion_superior.columns[0]: \"Educacion_superior\"}, inplace = True)"
   ]
  },
  {
   "cell_type": "code",
   "execution_count": 398,
   "metadata": {},
   "outputs": [],
   "source": [
    "Educacion_superior = Educacion_superior.stack().str.replace(',','.').unstack()"
   ]
  },
  {
   "cell_type": "code",
   "execution_count": 399,
   "metadata": {},
   "outputs": [],
   "source": [
    "Educacion_superior[['Educacion_superior']]= Educacion_superior[['Educacion_superior']].astype(float)"
   ]
  },
  {
   "cell_type": "code",
   "execution_count": 400,
   "metadata": {},
   "outputs": [],
   "source": [
    "Educacion_superior = Educacion_superior.sort_index()"
   ]
  },
  {
   "cell_type": "code",
   "execution_count": 401,
   "metadata": {},
   "outputs": [],
   "source": [
    "Educacion_superior['index'] = Educacion_superior.index"
   ]
  },
  {
   "cell_type": "code",
   "execution_count": 402,
   "metadata": {},
   "outputs": [],
   "source": [
    "Educacion_superior = Educacion_superior.reset_index(drop = True)"
   ]
  },
  {
   "cell_type": "code",
   "execution_count": 403,
   "metadata": {},
   "outputs": [],
   "source": [
    "del Concentrarse['index']\n",
    "del Diabetes['index']\n",
    "del Dificultades_ver['index']\n",
    "del Dolor_espalda['index']\n",
    "del Infarto_miocardio['index']\n",
    "del Restricc_AVD_Dolor['index']\n",
    "del Masa_corporal['index']\n",
    "del Migraña['index']\n",
    "del Problemas_salud_mental['index']\n",
    "del salud_mental['index']\n",
    "del Salud_percibida['index']\n",
    "del Tension_alta['index']\n",
    "\n",
    "\n"
   ]
  },
  {
   "cell_type": "code",
   "execution_count": 404,
   "metadata": {},
   "outputs": [],
   "source": [
    "del Renta_hogar['index']\n",
    "del Tasa_paro['index']\n",
    "del Indice_masculinidad['index']\n",
    "del Edad_25_59['index']\n",
    "del Educacion_superior['index']\n",
    "\n"
   ]
  },
  {
   "cell_type": "code",
   "execution_count": 405,
   "metadata": {},
   "outputs": [],
   "source": [
    "Base_completa = pd.concat([TICS_2017, Concentrarse, Diabetes, Dificultades_ver, Dolor_espalda, Infarto_miocardio, Restricc_AVD_Dolor, Masa_corporal, Migraña, Problemas_salud_mental, salud_mental,Salud_percibida, Tension_alta, Renta_hogar, Tasa_paro, Indice_masculinidad, Edad_25_59, Educacion_superior], axis=1)"
   ]
  },
  {
   "cell_type": "code",
   "execution_count": 409,
   "metadata": {},
   "outputs": [],
   "source": [
    "Base_completa.to_csv('Base_completa.csv')"
   ]
  },
  {
   "cell_type": "code",
   "execution_count": null,
   "metadata": {},
   "outputs": [],
   "source": []
  }
 ]
}