{
 "metadata": {
  "language_info": {
   "codemirror_mode": {
    "name": "ipython",
    "version": 3
   },
   "file_extension": ".py",
   "mimetype": "text/x-python",
   "name": "python",
   "nbconvert_exporter": "python",
   "pygments_lexer": "ipython3",
   "version": "3.8.9"
  },
  "orig_nbformat": 2,
  "kernelspec": {
   "name": "python389jvsc74a57bd07980ba124835d5faa10419b5aaaaec0d5be537aa3d05dd29d745d0092f32015f",
   "display_name": "Python 3.8.9 64-bit"
  },
  "metadata": {
   "interpreter": {
    "hash": "7980ba124835d5faa10419b5aaaaec0d5be537aa3d05dd29d745d0092f32015f"
   }
  }
 },
 "nbformat": 4,
 "nbformat_minor": 2,
 "cells": [
  {
   "source": [
    "### Ejercicio 1\n",
    "\n",
    "A partir de la API de Pokemon, se pide generar un DataFrame como el de la imagen con las columnas: \n",
    "\n",
    "- **\"height\",\"id\",\"order\",\"weight\",\"types\"**\n",
    "\n",
    "### Ejercicio 2\n",
    "\n",
    "¿Has visto que dentro del DataFrame la columna \"types\" hay diccionarios? Se pide agregar, por cada pokemon, las columnas necesarias al DataFrame para albergar toda la información de \"types\" (solo las keys)![](df_pk.PNG)"
   ],
   "cell_type": "markdown",
   "metadata": {}
  },
  {
   "cell_type": "code",
   "execution_count": 2,
   "metadata": {},
   "outputs": [],
   "source": [
    "import requests\n",
    "import pandas as pd\n",
    "from pandas.io.json import json_normalize\n",
    "import json\n",
    "\n"
   ]
  },
  {
   "cell_type": "code",
   "execution_count": 3,
   "metadata": {},
   "outputs": [
    {
     "output_type": "execute_result",
     "data": {
      "text/plain": [
       "{'count': 1118,\n",
       " 'next': 'https://pokeapi.co/api/v2/pokemon?offset=20&limit=20',\n",
       " 'previous': None,\n",
       " 'results': [{'name': 'bulbasaur',\n",
       "   'url': 'https://pokeapi.co/api/v2/pokemon/1/'},\n",
       "  {'name': 'ivysaur', 'url': 'https://pokeapi.co/api/v2/pokemon/2/'},\n",
       "  {'name': 'venusaur', 'url': 'https://pokeapi.co/api/v2/pokemon/3/'},\n",
       "  {'name': 'charmander', 'url': 'https://pokeapi.co/api/v2/pokemon/4/'},\n",
       "  {'name': 'charmeleon', 'url': 'https://pokeapi.co/api/v2/pokemon/5/'},\n",
       "  {'name': 'charizard', 'url': 'https://pokeapi.co/api/v2/pokemon/6/'},\n",
       "  {'name': 'squirtle', 'url': 'https://pokeapi.co/api/v2/pokemon/7/'},\n",
       "  {'name': 'wartortle', 'url': 'https://pokeapi.co/api/v2/pokemon/8/'},\n",
       "  {'name': 'blastoise', 'url': 'https://pokeapi.co/api/v2/pokemon/9/'},\n",
       "  {'name': 'caterpie', 'url': 'https://pokeapi.co/api/v2/pokemon/10/'},\n",
       "  {'name': 'metapod', 'url': 'https://pokeapi.co/api/v2/pokemon/11/'},\n",
       "  {'name': 'butterfree', 'url': 'https://pokeapi.co/api/v2/pokemon/12/'},\n",
       "  {'name': 'weedle', 'url': 'https://pokeapi.co/api/v2/pokemon/13/'},\n",
       "  {'name': 'kakuna', 'url': 'https://pokeapi.co/api/v2/pokemon/14/'},\n",
       "  {'name': 'beedrill', 'url': 'https://pokeapi.co/api/v2/pokemon/15/'},\n",
       "  {'name': 'pidgey', 'url': 'https://pokeapi.co/api/v2/pokemon/16/'},\n",
       "  {'name': 'pidgeotto', 'url': 'https://pokeapi.co/api/v2/pokemon/17/'},\n",
       "  {'name': 'pidgeot', 'url': 'https://pokeapi.co/api/v2/pokemon/18/'},\n",
       "  {'name': 'rattata', 'url': 'https://pokeapi.co/api/v2/pokemon/19/'},\n",
       "  {'name': 'raticate', 'url': 'https://pokeapi.co/api/v2/pokemon/20/'}]}"
      ]
     },
     "metadata": {},
     "execution_count": 3
    }
   ],
   "source": [
    "# pasamos a json la url de pokemon\n",
    "\n",
    "url = 'https://pokeapi.co/api/v2/pokemon'\n",
    "poke_json = requests.get(url).json()\n",
    "poke_json\n",
    "\n",
    "\n",
    "\n"
   ]
  },
  {
   "cell_type": "code",
   "execution_count": 4,
   "metadata": {},
   "outputs": [],
   "source": [
    "# creamos una lista con todos los diccionarios de la columna results\n",
    "pokemon = []\n",
    "\n",
    "import time\n",
    "while poke_json['next'] != None:\n",
    "    pokemon.extend(poke_json['results'])\n",
    "    next_url = poke_json['next']\n",
    "    poke_json = requests.get(next_url).json()\n",
    "pokemon.extend(poke_json['results'])\n",
    "\n",
    "\n",
    "\n",
    "\n",
    "\n"
   ]
  },
  {
   "cell_type": "code",
   "execution_count": 15,
   "metadata": {},
   "outputs": [
    {
     "output_type": "execute_result",
     "data": {
      "text/plain": [
       "                            name                                       url\n",
       "0                      bulbasaur      https://pokeapi.co/api/v2/pokemon/1/\n",
       "1                        ivysaur      https://pokeapi.co/api/v2/pokemon/2/\n",
       "2                       venusaur      https://pokeapi.co/api/v2/pokemon/3/\n",
       "3                     charmander      https://pokeapi.co/api/v2/pokemon/4/\n",
       "4                     charmeleon      https://pokeapi.co/api/v2/pokemon/5/\n",
       "...                          ...                                       ...\n",
       "1113              duraludon-gmax  https://pokeapi.co/api/v2/pokemon/10216/\n",
       "1114         eternatus-eternamax  https://pokeapi.co/api/v2/pokemon/10217/\n",
       "1115  urshifu-single-strike-gmax  https://pokeapi.co/api/v2/pokemon/10218/\n",
       "1116   urshifu-rapid-strike-gmax  https://pokeapi.co/api/v2/pokemon/10219/\n",
       "1117     toxtricity-low-key-gmax  https://pokeapi.co/api/v2/pokemon/10220/\n",
       "\n",
       "[1118 rows x 2 columns]"
      ],
      "text/html": "<div>\n<style scoped>\n    .dataframe tbody tr th:only-of-type {\n        vertical-align: middle;\n    }\n\n    .dataframe tbody tr th {\n        vertical-align: top;\n    }\n\n    .dataframe thead th {\n        text-align: right;\n    }\n</style>\n<table border=\"1\" class=\"dataframe\">\n  <thead>\n    <tr style=\"text-align: right;\">\n      <th></th>\n      <th>name</th>\n      <th>url</th>\n    </tr>\n  </thead>\n  <tbody>\n    <tr>\n      <th>0</th>\n      <td>bulbasaur</td>\n      <td>https://pokeapi.co/api/v2/pokemon/1/</td>\n    </tr>\n    <tr>\n      <th>1</th>\n      <td>ivysaur</td>\n      <td>https://pokeapi.co/api/v2/pokemon/2/</td>\n    </tr>\n    <tr>\n      <th>2</th>\n      <td>venusaur</td>\n      <td>https://pokeapi.co/api/v2/pokemon/3/</td>\n    </tr>\n    <tr>\n      <th>3</th>\n      <td>charmander</td>\n      <td>https://pokeapi.co/api/v2/pokemon/4/</td>\n    </tr>\n    <tr>\n      <th>4</th>\n      <td>charmeleon</td>\n      <td>https://pokeapi.co/api/v2/pokemon/5/</td>\n    </tr>\n    <tr>\n      <th>...</th>\n      <td>...</td>\n      <td>...</td>\n    </tr>\n    <tr>\n      <th>1113</th>\n      <td>duraludon-gmax</td>\n      <td>https://pokeapi.co/api/v2/pokemon/10216/</td>\n    </tr>\n    <tr>\n      <th>1114</th>\n      <td>eternatus-eternamax</td>\n      <td>https://pokeapi.co/api/v2/pokemon/10217/</td>\n    </tr>\n    <tr>\n      <th>1115</th>\n      <td>urshifu-single-strike-gmax</td>\n      <td>https://pokeapi.co/api/v2/pokemon/10218/</td>\n    </tr>\n    <tr>\n      <th>1116</th>\n      <td>urshifu-rapid-strike-gmax</td>\n      <td>https://pokeapi.co/api/v2/pokemon/10219/</td>\n    </tr>\n    <tr>\n      <th>1117</th>\n      <td>toxtricity-low-key-gmax</td>\n      <td>https://pokeapi.co/api/v2/pokemon/10220/</td>\n    </tr>\n  </tbody>\n</table>\n<p>1118 rows × 2 columns</p>\n</div>"
     },
     "metadata": {},
     "execution_count": 15
    }
   ],
   "source": [
    "# pasamos a data Frame los diccionarios de la columna results\n",
    "\n",
    "pokemon_1= pd.DataFrame(pokemon)\n",
    "pokemon_1"
   ]
  },
  {
   "cell_type": "code",
   "execution_count": 16,
   "metadata": {},
   "outputs": [
    {
     "output_type": "execute_result",
     "data": {
      "text/plain": [
       "         name                                   url\n",
       "0   bulbasaur  https://pokeapi.co/api/v2/pokemon/1/\n",
       "1     ivysaur  https://pokeapi.co/api/v2/pokemon/2/\n",
       "2    venusaur  https://pokeapi.co/api/v2/pokemon/3/\n",
       "3  charmander  https://pokeapi.co/api/v2/pokemon/4/\n",
       "4  charmeleon  https://pokeapi.co/api/v2/pokemon/5/"
      ],
      "text/html": "<div>\n<style scoped>\n    .dataframe tbody tr th:only-of-type {\n        vertical-align: middle;\n    }\n\n    .dataframe tbody tr th {\n        vertical-align: top;\n    }\n\n    .dataframe thead th {\n        text-align: right;\n    }\n</style>\n<table border=\"1\" class=\"dataframe\">\n  <thead>\n    <tr style=\"text-align: right;\">\n      <th></th>\n      <th>name</th>\n      <th>url</th>\n    </tr>\n  </thead>\n  <tbody>\n    <tr>\n      <th>0</th>\n      <td>bulbasaur</td>\n      <td>https://pokeapi.co/api/v2/pokemon/1/</td>\n    </tr>\n    <tr>\n      <th>1</th>\n      <td>ivysaur</td>\n      <td>https://pokeapi.co/api/v2/pokemon/2/</td>\n    </tr>\n    <tr>\n      <th>2</th>\n      <td>venusaur</td>\n      <td>https://pokeapi.co/api/v2/pokemon/3/</td>\n    </tr>\n    <tr>\n      <th>3</th>\n      <td>charmander</td>\n      <td>https://pokeapi.co/api/v2/pokemon/4/</td>\n    </tr>\n    <tr>\n      <th>4</th>\n      <td>charmeleon</td>\n      <td>https://pokeapi.co/api/v2/pokemon/5/</td>\n    </tr>\n  </tbody>\n</table>\n</div>"
     },
     "metadata": {},
     "execution_count": 16
    }
   ],
   "source": [
    "# Seleccionamos las 4 primeras filas del Data Frame\n",
    "pokemon_2 = pokemon_1.iloc[ :5,]\n",
    "pokemon_2\n"
   ]
  },
  {
   "cell_type": "code",
   "execution_count": 17,
   "metadata": {},
   "outputs": [],
   "source": [
    "B_json = requests.get(url='https://pokeapi.co/api/v2/pokemon/1/').json()\n",
    "\n"
   ]
  },
  {
   "cell_type": "code",
   "execution_count": 18,
   "metadata": {},
   "outputs": [],
   "source": [
    "I_json = requests.get(url='https://pokeapi.co/api/v2/pokemon/2/').json()\n"
   ]
  },
  {
   "cell_type": "code",
   "execution_count": 19,
   "metadata": {},
   "outputs": [],
   "source": [
    "V_json = requests.get(url='https://pokeapi.co/api/v2/pokemon/3/').json()"
   ]
  },
  {
   "cell_type": "code",
   "execution_count": 20,
   "metadata": {},
   "outputs": [],
   "source": [
    "CH_json = requests.get(url='https://pokeapi.co/api/v2/pokemon/4/').json()\n"
   ]
  },
  {
   "cell_type": "code",
   "execution_count": 21,
   "metadata": {},
   "outputs": [],
   "source": [
    "CHeo_json = requests.get(url='https://pokeapi.co/api/v2/pokemon/5/').json()"
   ]
  },
  {
   "cell_type": "code",
   "execution_count": 22,
   "metadata": {},
   "outputs": [
    {
     "output_type": "execute_result",
     "data": {
      "text/plain": [
       "dict_keys(['abilities', 'base_experience', 'forms', 'game_indices', 'height', 'held_items', 'id', 'is_default', 'location_area_encounters', 'moves', 'name', 'order', 'past_types', 'species', 'sprites', 'stats', 'types', 'weight'])"
      ]
     },
     "metadata": {},
     "execution_count": 22
    }
   ],
   "source": [
    "# leemos las claves del diccionario json de Bulbasaur\n",
    "B_json.keys()"
   ]
  },
  {
   "cell_type": "code",
   "execution_count": 23,
   "metadata": {},
   "outputs": [],
   "source": [
    "si = ['height', 'id', 'order', 'types', 'weight']"
   ]
  },
  {
   "cell_type": "code",
   "execution_count": 24,
   "metadata": {},
   "outputs": [],
   "source": [
    "B_json_copy = B_json.copy()\n"
   ]
  },
  {
   "cell_type": "code",
   "execution_count": 25,
   "metadata": {},
   "outputs": [],
   "source": [
    "I_json_copy = I_json.copy()\n"
   ]
  },
  {
   "cell_type": "code",
   "execution_count": 26,
   "metadata": {},
   "outputs": [],
   "source": [
    "V_json_copy = V_json.copy()\n"
   ]
  },
  {
   "cell_type": "code",
   "execution_count": 27,
   "metadata": {},
   "outputs": [],
   "source": [
    "CH_json_copy = CH_json.copy()\n"
   ]
  },
  {
   "cell_type": "code",
   "execution_count": 28,
   "metadata": {},
   "outputs": [],
   "source": [
    "CHeo_json_copy = CHeo_json.copy()"
   ]
  },
  {
   "cell_type": "code",
   "execution_count": 29,
   "metadata": {},
   "outputs": [],
   "source": [
    "for key in B_json_copy.keys():\n",
    "    if key not in si:\n",
    "        B_json.pop(key, None) \n",
    "\n"
   ]
  },
  {
   "cell_type": "code",
   "execution_count": 30,
   "metadata": {},
   "outputs": [],
   "source": [
    "for key in I_json_copy.keys():\n",
    "    if key not in si:\n",
    "        I_json.pop(key, None) \n",
    "\n"
   ]
  },
  {
   "cell_type": "code",
   "execution_count": 36,
   "metadata": {},
   "outputs": [],
   "source": [
    "for key in V_json_copy.keys():\n",
    "    if key not in si:\n",
    "        V_json.pop(key, None) \n",
    "\n"
   ]
  },
  {
   "cell_type": "code",
   "execution_count": 31,
   "metadata": {},
   "outputs": [],
   "source": [
    "for key in CH_json_copy.keys():\n",
    "    if key not in si:\n",
    "        CH_json.pop(key, None) \n",
    "\n"
   ]
  },
  {
   "cell_type": "code",
   "execution_count": 32,
   "metadata": {},
   "outputs": [],
   "source": [
    "for key in CHeo_json_copy.keys():\n",
    "    if key not in si:\n",
    "        CHeo_json.pop(key, None) \n"
   ]
  },
  {
   "cell_type": "code",
   "execution_count": 33,
   "metadata": {},
   "outputs": [
    {
     "output_type": "execute_result",
     "data": {
      "text/plain": [
       "dict_keys(['height', 'id', 'order', 'types', 'weight'])"
      ]
     },
     "metadata": {},
     "execution_count": 33
    }
   ],
   "source": [
    "B_json.keys()"
   ]
  },
  {
   "cell_type": "code",
   "execution_count": 34,
   "metadata": {},
   "outputs": [
    {
     "output_type": "execute_result",
     "data": {
      "text/plain": [
       "dict_keys(['height', 'id', 'order', 'types', 'weight'])"
      ]
     },
     "metadata": {},
     "execution_count": 34
    }
   ],
   "source": [
    "I_json.keys()"
   ]
  },
  {
   "cell_type": "code",
   "execution_count": 37,
   "metadata": {},
   "outputs": [
    {
     "output_type": "execute_result",
     "data": {
      "text/plain": [
       "dict_keys(['height', 'id', 'order', 'types', 'weight'])"
      ]
     },
     "metadata": {},
     "execution_count": 37
    }
   ],
   "source": [
    "V_json.keys()"
   ]
  },
  {
   "cell_type": "code",
   "execution_count": 38,
   "metadata": {},
   "outputs": [
    {
     "output_type": "execute_result",
     "data": {
      "text/plain": [
       "dict_keys(['height', 'id', 'order', 'types', 'weight'])"
      ]
     },
     "metadata": {},
     "execution_count": 38
    }
   ],
   "source": [
    "CH_json.keys()"
   ]
  },
  {
   "cell_type": "code",
   "execution_count": 39,
   "metadata": {},
   "outputs": [
    {
     "output_type": "execute_result",
     "data": {
      "text/plain": [
       "dict_keys(['height', 'id', 'order', 'types', 'weight'])"
      ]
     },
     "metadata": {},
     "execution_count": 39
    }
   ],
   "source": [
    "CHeo_json.keys()"
   ]
  },
  {
   "cell_type": "code",
   "execution_count": 25,
   "metadata": {},
   "outputs": [
    {
     "output_type": "execute_result",
     "data": {
      "text/plain": [
       "{'height': 7,\n",
       " 'id': 1,\n",
       " 'order': 1,\n",
       " 'types': [{'slot': 1,\n",
       "   'type': {'name': 'grass', 'url': 'https://pokeapi.co/api/v2/type/12/'}},\n",
       "  {'slot': 2,\n",
       "   'type': {'name': 'poison', 'url': 'https://pokeapi.co/api/v2/type/4/'}}],\n",
       " 'weight': 69}"
      ]
     },
     "metadata": {},
     "execution_count": 25
    }
   ],
   "source": [
    "B_json"
   ]
  },
  {
   "cell_type": "code",
   "execution_count": 40,
   "metadata": {},
   "outputs": [
    {
     "output_type": "execute_result",
     "data": {
      "text/plain": [
       "   height  id  order                                              types  \\\n",
       "0       7   1      1  {'slot': 1, 'type': {'name': 'grass', 'url': '...   \n",
       "\n",
       "   weight  \n",
       "0      69  "
      ],
      "text/html": "<div>\n<style scoped>\n    .dataframe tbody tr th:only-of-type {\n        vertical-align: middle;\n    }\n\n    .dataframe tbody tr th {\n        vertical-align: top;\n    }\n\n    .dataframe thead th {\n        text-align: right;\n    }\n</style>\n<table border=\"1\" class=\"dataframe\">\n  <thead>\n    <tr style=\"text-align: right;\">\n      <th></th>\n      <th>height</th>\n      <th>id</th>\n      <th>order</th>\n      <th>types</th>\n      <th>weight</th>\n    </tr>\n  </thead>\n  <tbody>\n    <tr>\n      <th>0</th>\n      <td>7</td>\n      <td>1</td>\n      <td>1</td>\n      <td>{'slot': 1, 'type': {'name': 'grass', 'url': '...</td>\n      <td>69</td>\n    </tr>\n  </tbody>\n</table>\n</div>"
     },
     "metadata": {},
     "execution_count": 40
    }
   ],
   "source": [
    "Bulbasaur = pd.DataFrame(B_json)\n",
    "Bulbasaur = Bulbasaur.iloc[ :1,]\n",
    "Bulbasaur "
   ]
  },
  {
   "cell_type": "code",
   "execution_count": 62,
   "metadata": {},
   "outputs": [
    {
     "output_type": "execute_result",
     "data": {
      "text/plain": [
       "   height  id  order                                              types  \\\n",
       "0       7   1      1  {'slot': 1, 'type': {'name': 'grass', 'url': '...   \n",
       "\n",
       "   weight       name  \n",
       "0      69  bulbasaur  "
      ],
      "text/html": "<div>\n<style scoped>\n    .dataframe tbody tr th:only-of-type {\n        vertical-align: middle;\n    }\n\n    .dataframe tbody tr th {\n        vertical-align: top;\n    }\n\n    .dataframe thead th {\n        text-align: right;\n    }\n</style>\n<table border=\"1\" class=\"dataframe\">\n  <thead>\n    <tr style=\"text-align: right;\">\n      <th></th>\n      <th>height</th>\n      <th>id</th>\n      <th>order</th>\n      <th>types</th>\n      <th>weight</th>\n      <th>name</th>\n    </tr>\n  </thead>\n  <tbody>\n    <tr>\n      <th>0</th>\n      <td>7</td>\n      <td>1</td>\n      <td>1</td>\n      <td>{'slot': 1, 'type': {'name': 'grass', 'url': '...</td>\n      <td>69</td>\n      <td>bulbasaur</td>\n    </tr>\n  </tbody>\n</table>\n</div>"
     },
     "metadata": {},
     "execution_count": 62
    }
   ],
   "source": [
    "Bulbasaur=Bulbasaur.assign(name= 'bulbasaur')\n",
    "Bulbasaur"
   ]
  },
  {
   "cell_type": "code",
   "execution_count": 41,
   "metadata": {},
   "outputs": [
    {
     "output_type": "execute_result",
     "data": {
      "text/plain": [
       "   height  id  order                                              types  \\\n",
       "1      10   2      2  {'slot': 2, 'type': {'name': 'poison', 'url': ...   \n",
       "\n",
       "   weight  \n",
       "1     130  "
      ],
      "text/html": "<div>\n<style scoped>\n    .dataframe tbody tr th:only-of-type {\n        vertical-align: middle;\n    }\n\n    .dataframe tbody tr th {\n        vertical-align: top;\n    }\n\n    .dataframe thead th {\n        text-align: right;\n    }\n</style>\n<table border=\"1\" class=\"dataframe\">\n  <thead>\n    <tr style=\"text-align: right;\">\n      <th></th>\n      <th>height</th>\n      <th>id</th>\n      <th>order</th>\n      <th>types</th>\n      <th>weight</th>\n    </tr>\n  </thead>\n  <tbody>\n    <tr>\n      <th>1</th>\n      <td>10</td>\n      <td>2</td>\n      <td>2</td>\n      <td>{'slot': 2, 'type': {'name': 'poison', 'url': ...</td>\n      <td>130</td>\n    </tr>\n  </tbody>\n</table>\n</div>"
     },
     "metadata": {},
     "execution_count": 41
    }
   ],
   "source": [
    "Ivysaur = pd.DataFrame(I_json)\n",
    "Ivysaur = Ivysaur.iloc[1:2,]\n",
    "Ivysaur"
   ]
  },
  {
   "cell_type": "code",
   "execution_count": 42,
   "metadata": {},
   "outputs": [
    {
     "output_type": "execute_result",
     "data": {
      "text/plain": [
       "   height  id  order                                              types  \\\n",
       "1      10   2      2  {'slot': 2, 'type': {'name': 'poison', 'url': ...   \n",
       "\n",
       "   weight     name  \n",
       "1     130  ivysaur  "
      ],
      "text/html": "<div>\n<style scoped>\n    .dataframe tbody tr th:only-of-type {\n        vertical-align: middle;\n    }\n\n    .dataframe tbody tr th {\n        vertical-align: top;\n    }\n\n    .dataframe thead th {\n        text-align: right;\n    }\n</style>\n<table border=\"1\" class=\"dataframe\">\n  <thead>\n    <tr style=\"text-align: right;\">\n      <th></th>\n      <th>height</th>\n      <th>id</th>\n      <th>order</th>\n      <th>types</th>\n      <th>weight</th>\n      <th>name</th>\n    </tr>\n  </thead>\n  <tbody>\n    <tr>\n      <th>1</th>\n      <td>10</td>\n      <td>2</td>\n      <td>2</td>\n      <td>{'slot': 2, 'type': {'name': 'poison', 'url': ...</td>\n      <td>130</td>\n      <td>ivysaur</td>\n    </tr>\n  </tbody>\n</table>\n</div>"
     },
     "metadata": {},
     "execution_count": 42
    }
   ],
   "source": [
    "Ivysaur=Ivysaur.assign(name= 'ivysaur')\n",
    "Ivysaur"
   ]
  },
  {
   "cell_type": "code",
   "execution_count": 43,
   "metadata": {},
   "outputs": [
    {
     "output_type": "execute_result",
     "data": {
      "text/plain": [
       "   height  id  order                                              types  \\\n",
       "1      20   3      3  {'slot': 2, 'type': {'name': 'poison', 'url': ...   \n",
       "\n",
       "   weight  \n",
       "1    1000  "
      ],
      "text/html": "<div>\n<style scoped>\n    .dataframe tbody tr th:only-of-type {\n        vertical-align: middle;\n    }\n\n    .dataframe tbody tr th {\n        vertical-align: top;\n    }\n\n    .dataframe thead th {\n        text-align: right;\n    }\n</style>\n<table border=\"1\" class=\"dataframe\">\n  <thead>\n    <tr style=\"text-align: right;\">\n      <th></th>\n      <th>height</th>\n      <th>id</th>\n      <th>order</th>\n      <th>types</th>\n      <th>weight</th>\n    </tr>\n  </thead>\n  <tbody>\n    <tr>\n      <th>1</th>\n      <td>20</td>\n      <td>3</td>\n      <td>3</td>\n      <td>{'slot': 2, 'type': {'name': 'poison', 'url': ...</td>\n      <td>1000</td>\n    </tr>\n  </tbody>\n</table>\n</div>"
     },
     "metadata": {},
     "execution_count": 43
    }
   ],
   "source": [
    "Venusaur = pd.DataFrame(V_json)\n",
    "Venusaur = Venusaur.iloc[1:2,]\n",
    "Venusaur"
   ]
  },
  {
   "cell_type": "code",
   "execution_count": 44,
   "metadata": {},
   "outputs": [
    {
     "output_type": "execute_result",
     "data": {
      "text/plain": [
       "   height  id  order                                              types  \\\n",
       "1      20   3      3  {'slot': 2, 'type': {'name': 'poison', 'url': ...   \n",
       "\n",
       "   weight      name  \n",
       "1    1000  venusaur  "
      ],
      "text/html": "<div>\n<style scoped>\n    .dataframe tbody tr th:only-of-type {\n        vertical-align: middle;\n    }\n\n    .dataframe tbody tr th {\n        vertical-align: top;\n    }\n\n    .dataframe thead th {\n        text-align: right;\n    }\n</style>\n<table border=\"1\" class=\"dataframe\">\n  <thead>\n    <tr style=\"text-align: right;\">\n      <th></th>\n      <th>height</th>\n      <th>id</th>\n      <th>order</th>\n      <th>types</th>\n      <th>weight</th>\n      <th>name</th>\n    </tr>\n  </thead>\n  <tbody>\n    <tr>\n      <th>1</th>\n      <td>20</td>\n      <td>3</td>\n      <td>3</td>\n      <td>{'slot': 2, 'type': {'name': 'poison', 'url': ...</td>\n      <td>1000</td>\n      <td>venusaur</td>\n    </tr>\n  </tbody>\n</table>\n</div>"
     },
     "metadata": {},
     "execution_count": 44
    }
   ],
   "source": [
    "Venusaur=Venusaur.assign(name= 'venusaur')\n",
    "Venusaur"
   ]
  },
  {
   "cell_type": "code",
   "execution_count": 45,
   "metadata": {},
   "outputs": [
    {
     "output_type": "execute_result",
     "data": {
      "text/plain": [
       "   height  id  order                                              types  \\\n",
       "0       6   4      5  {'slot': 1, 'type': {'name': 'fire', 'url': 'h...   \n",
       "\n",
       "   weight  \n",
       "0      85  "
      ],
      "text/html": "<div>\n<style scoped>\n    .dataframe tbody tr th:only-of-type {\n        vertical-align: middle;\n    }\n\n    .dataframe tbody tr th {\n        vertical-align: top;\n    }\n\n    .dataframe thead th {\n        text-align: right;\n    }\n</style>\n<table border=\"1\" class=\"dataframe\">\n  <thead>\n    <tr style=\"text-align: right;\">\n      <th></th>\n      <th>height</th>\n      <th>id</th>\n      <th>order</th>\n      <th>types</th>\n      <th>weight</th>\n    </tr>\n  </thead>\n  <tbody>\n    <tr>\n      <th>0</th>\n      <td>6</td>\n      <td>4</td>\n      <td>5</td>\n      <td>{'slot': 1, 'type': {'name': 'fire', 'url': 'h...</td>\n      <td>85</td>\n    </tr>\n  </tbody>\n</table>\n</div>"
     },
     "metadata": {},
     "execution_count": 45
    }
   ],
   "source": [
    "Charmander = pd.DataFrame(CH_json)\n",
    "Charmander\n"
   ]
  },
  {
   "cell_type": "code",
   "execution_count": 53,
   "metadata": {},
   "outputs": [
    {
     "output_type": "execute_result",
     "data": {
      "text/plain": [
       "   height  id  order                                              types  \\\n",
       "0       6   4      5  {'slot': 1, 'type': {'name': 'fire', 'url': 'h...   \n",
       "\n",
       "   weight        name  \n",
       "0      85  charmander  "
      ],
      "text/html": "<div>\n<style scoped>\n    .dataframe tbody tr th:only-of-type {\n        vertical-align: middle;\n    }\n\n    .dataframe tbody tr th {\n        vertical-align: top;\n    }\n\n    .dataframe thead th {\n        text-align: right;\n    }\n</style>\n<table border=\"1\" class=\"dataframe\">\n  <thead>\n    <tr style=\"text-align: right;\">\n      <th></th>\n      <th>height</th>\n      <th>id</th>\n      <th>order</th>\n      <th>types</th>\n      <th>weight</th>\n      <th>name</th>\n    </tr>\n  </thead>\n  <tbody>\n    <tr>\n      <th>0</th>\n      <td>6</td>\n      <td>4</td>\n      <td>5</td>\n      <td>{'slot': 1, 'type': {'name': 'fire', 'url': 'h...</td>\n      <td>85</td>\n      <td>charmander</td>\n    </tr>\n  </tbody>\n</table>\n</div>"
     },
     "metadata": {},
     "execution_count": 53
    }
   ],
   "source": [
    "Charmander=Charmander.assign(name= 'charmander')\n",
    "Charmander"
   ]
  },
  {
   "cell_type": "code",
   "execution_count": 47,
   "metadata": {},
   "outputs": [
    {
     "output_type": "execute_result",
     "data": {
      "text/plain": [
       "   height  id  order                                              types  \\\n",
       "0      11   5      6  {'slot': 1, 'type': {'name': 'fire', 'url': 'h...   \n",
       "\n",
       "   weight  \n",
       "0     190  "
      ],
      "text/html": "<div>\n<style scoped>\n    .dataframe tbody tr th:only-of-type {\n        vertical-align: middle;\n    }\n\n    .dataframe tbody tr th {\n        vertical-align: top;\n    }\n\n    .dataframe thead th {\n        text-align: right;\n    }\n</style>\n<table border=\"1\" class=\"dataframe\">\n  <thead>\n    <tr style=\"text-align: right;\">\n      <th></th>\n      <th>height</th>\n      <th>id</th>\n      <th>order</th>\n      <th>types</th>\n      <th>weight</th>\n    </tr>\n  </thead>\n  <tbody>\n    <tr>\n      <th>0</th>\n      <td>11</td>\n      <td>5</td>\n      <td>6</td>\n      <td>{'slot': 1, 'type': {'name': 'fire', 'url': 'h...</td>\n      <td>190</td>\n    </tr>\n  </tbody>\n</table>\n</div>"
     },
     "metadata": {},
     "execution_count": 47
    }
   ],
   "source": [
    "Charmeleon = pd.DataFrame(CHeo_json)\n",
    "Charmeleon "
   ]
  },
  {
   "cell_type": "code",
   "execution_count": 48,
   "metadata": {},
   "outputs": [
    {
     "output_type": "execute_result",
     "data": {
      "text/plain": [
       "   height  id  order                                              types  \\\n",
       "0      11   5      6  {'slot': 1, 'type': {'name': 'fire', 'url': 'h...   \n",
       "\n",
       "   weight        name  \n",
       "0     190  charmeleon  "
      ],
      "text/html": "<div>\n<style scoped>\n    .dataframe tbody tr th:only-of-type {\n        vertical-align: middle;\n    }\n\n    .dataframe tbody tr th {\n        vertical-align: top;\n    }\n\n    .dataframe thead th {\n        text-align: right;\n    }\n</style>\n<table border=\"1\" class=\"dataframe\">\n  <thead>\n    <tr style=\"text-align: right;\">\n      <th></th>\n      <th>height</th>\n      <th>id</th>\n      <th>order</th>\n      <th>types</th>\n      <th>weight</th>\n      <th>name</th>\n    </tr>\n  </thead>\n  <tbody>\n    <tr>\n      <th>0</th>\n      <td>11</td>\n      <td>5</td>\n      <td>6</td>\n      <td>{'slot': 1, 'type': {'name': 'fire', 'url': 'h...</td>\n      <td>190</td>\n      <td>charmeleon</td>\n    </tr>\n  </tbody>\n</table>\n</div>"
     },
     "metadata": {},
     "execution_count": 48
    }
   ],
   "source": [
    "Charmeleon=Charmeleon.assign(name= 'charmeleon')\n",
    "Charmeleon"
   ]
  },
  {
   "cell_type": "code",
   "execution_count": 63,
   "metadata": {},
   "outputs": [
    {
     "output_type": "execute_result",
     "data": {
      "text/plain": [
       "   height  id  order                                              types  \\\n",
       "0       7   1      1  {'slot': 1, 'type': {'name': 'grass', 'url': '...   \n",
       "1      10   2      2  {'slot': 2, 'type': {'name': 'poison', 'url': ...   \n",
       "1      20   3      3  {'slot': 2, 'type': {'name': 'poison', 'url': ...   \n",
       "0       6   4      5  {'slot': 1, 'type': {'name': 'fire', 'url': 'h...   \n",
       "0      11   5      6  {'slot': 1, 'type': {'name': 'fire', 'url': 'h...   \n",
       "\n",
       "   weight        name  \n",
       "0      69   bulbasaur  \n",
       "1     130     ivysaur  \n",
       "1    1000    venusaur  \n",
       "0      85  charmander  \n",
       "0     190  charmeleon  "
      ],
      "text/html": "<div>\n<style scoped>\n    .dataframe tbody tr th:only-of-type {\n        vertical-align: middle;\n    }\n\n    .dataframe tbody tr th {\n        vertical-align: top;\n    }\n\n    .dataframe thead th {\n        text-align: right;\n    }\n</style>\n<table border=\"1\" class=\"dataframe\">\n  <thead>\n    <tr style=\"text-align: right;\">\n      <th></th>\n      <th>height</th>\n      <th>id</th>\n      <th>order</th>\n      <th>types</th>\n      <th>weight</th>\n      <th>name</th>\n    </tr>\n  </thead>\n  <tbody>\n    <tr>\n      <th>0</th>\n      <td>7</td>\n      <td>1</td>\n      <td>1</td>\n      <td>{'slot': 1, 'type': {'name': 'grass', 'url': '...</td>\n      <td>69</td>\n      <td>bulbasaur</td>\n    </tr>\n    <tr>\n      <th>1</th>\n      <td>10</td>\n      <td>2</td>\n      <td>2</td>\n      <td>{'slot': 2, 'type': {'name': 'poison', 'url': ...</td>\n      <td>130</td>\n      <td>ivysaur</td>\n    </tr>\n    <tr>\n      <th>1</th>\n      <td>20</td>\n      <td>3</td>\n      <td>3</td>\n      <td>{'slot': 2, 'type': {'name': 'poison', 'url': ...</td>\n      <td>1000</td>\n      <td>venusaur</td>\n    </tr>\n    <tr>\n      <th>0</th>\n      <td>6</td>\n      <td>4</td>\n      <td>5</td>\n      <td>{'slot': 1, 'type': {'name': 'fire', 'url': 'h...</td>\n      <td>85</td>\n      <td>charmander</td>\n    </tr>\n    <tr>\n      <th>0</th>\n      <td>11</td>\n      <td>5</td>\n      <td>6</td>\n      <td>{'slot': 1, 'type': {'name': 'fire', 'url': 'h...</td>\n      <td>190</td>\n      <td>charmeleon</td>\n    </tr>\n  </tbody>\n</table>\n</div>"
     },
     "metadata": {},
     "execution_count": 63
    }
   ],
   "source": [
    "pokemon_o = pd.concat([Bulbasaur, Ivysaur, Venusaur, Charmander, Charmeleon])\n",
    "pokemon_o"
   ]
  },
  {
   "cell_type": "code",
   "execution_count": 65,
   "metadata": {},
   "outputs": [
    {
     "output_type": "execute_result",
     "data": {
      "text/plain": [
       "         name                                   url  height  id  order  \\\n",
       "0   bulbasaur  https://pokeapi.co/api/v2/pokemon/1/       7   1      1   \n",
       "1     ivysaur  https://pokeapi.co/api/v2/pokemon/2/      10   2      2   \n",
       "2    venusaur  https://pokeapi.co/api/v2/pokemon/3/      20   3      3   \n",
       "3  charmander  https://pokeapi.co/api/v2/pokemon/4/       6   4      5   \n",
       "4  charmeleon  https://pokeapi.co/api/v2/pokemon/5/      11   5      6   \n",
       "\n",
       "                                               types  weight  \n",
       "0  {'slot': 1, 'type': {'name': 'grass', 'url': '...      69  \n",
       "1  {'slot': 2, 'type': {'name': 'poison', 'url': ...     130  \n",
       "2  {'slot': 2, 'type': {'name': 'poison', 'url': ...    1000  \n",
       "3  {'slot': 1, 'type': {'name': 'fire', 'url': 'h...      85  \n",
       "4  {'slot': 1, 'type': {'name': 'fire', 'url': 'h...     190  "
      ],
      "text/html": "<div>\n<style scoped>\n    .dataframe tbody tr th:only-of-type {\n        vertical-align: middle;\n    }\n\n    .dataframe tbody tr th {\n        vertical-align: top;\n    }\n\n    .dataframe thead th {\n        text-align: right;\n    }\n</style>\n<table border=\"1\" class=\"dataframe\">\n  <thead>\n    <tr style=\"text-align: right;\">\n      <th></th>\n      <th>name</th>\n      <th>url</th>\n      <th>height</th>\n      <th>id</th>\n      <th>order</th>\n      <th>types</th>\n      <th>weight</th>\n    </tr>\n  </thead>\n  <tbody>\n    <tr>\n      <th>0</th>\n      <td>bulbasaur</td>\n      <td>https://pokeapi.co/api/v2/pokemon/1/</td>\n      <td>7</td>\n      <td>1</td>\n      <td>1</td>\n      <td>{'slot': 1, 'type': {'name': 'grass', 'url': '...</td>\n      <td>69</td>\n    </tr>\n    <tr>\n      <th>1</th>\n      <td>ivysaur</td>\n      <td>https://pokeapi.co/api/v2/pokemon/2/</td>\n      <td>10</td>\n      <td>2</td>\n      <td>2</td>\n      <td>{'slot': 2, 'type': {'name': 'poison', 'url': ...</td>\n      <td>130</td>\n    </tr>\n    <tr>\n      <th>2</th>\n      <td>venusaur</td>\n      <td>https://pokeapi.co/api/v2/pokemon/3/</td>\n      <td>20</td>\n      <td>3</td>\n      <td>3</td>\n      <td>{'slot': 2, 'type': {'name': 'poison', 'url': ...</td>\n      <td>1000</td>\n    </tr>\n    <tr>\n      <th>3</th>\n      <td>charmander</td>\n      <td>https://pokeapi.co/api/v2/pokemon/4/</td>\n      <td>6</td>\n      <td>4</td>\n      <td>5</td>\n      <td>{'slot': 1, 'type': {'name': 'fire', 'url': 'h...</td>\n      <td>85</td>\n    </tr>\n    <tr>\n      <th>4</th>\n      <td>charmeleon</td>\n      <td>https://pokeapi.co/api/v2/pokemon/5/</td>\n      <td>11</td>\n      <td>5</td>\n      <td>6</td>\n      <td>{'slot': 1, 'type': {'name': 'fire', 'url': 'h...</td>\n      <td>190</td>\n    </tr>\n  </tbody>\n</table>\n</div>"
     },
     "metadata": {},
     "execution_count": 65
    }
   ],
   "source": [
    "# unir los data frame al de Pokemon_2\n",
    "pokemon3 = pd.merge(pokemon_2, pokemon_o, on = ['name'])\n",
    "pokemon3\n",
    "\n"
   ]
  }
 ]
}