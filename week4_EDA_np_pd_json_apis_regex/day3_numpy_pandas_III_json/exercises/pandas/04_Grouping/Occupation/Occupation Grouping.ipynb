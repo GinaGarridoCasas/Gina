{
 "cells": [
  {
   "cell_type": "markdown",
   "metadata": {},
   "source": [
    "# 04 - Grouping"
   ]
  },
  {
   "cell_type": "markdown",
   "metadata": {},
   "source": [
    "### Step 1. Import the necessary libraries"
   ]
  },
  {
   "cell_type": "code",
   "execution_count": 2,
   "metadata": {},
   "outputs": [],
   "source": [
    "import pandas as pd\n",
    "import numpy as np\n"
   ]
  },
  {
   "cell_type": "markdown",
   "metadata": {},
   "source": [
    "### Step 2. Import the dataset from this [address](https://raw.githubusercontent.com/justmarkham/DAT8/master/data/u.user). "
   ]
  },
  {
   "cell_type": "markdown",
   "metadata": {},
   "source": [
    "### Step 3. Assign it to a variable called users."
   ]
  },
  {
   "cell_type": "code",
   "execution_count": 3,
   "metadata": {},
   "outputs": [
    {
     "output_type": "execute_result",
     "data": {
      "text/plain": [
       "         age gender     occupation zip_code\n",
       "user_id                                    \n",
       "1         24      M     technician    85711\n",
       "2         53      F          other    94043\n",
       "3         23      M         writer    32067\n",
       "4         24      M     technician    43537\n",
       "5         33      F          other    15213\n",
       "...      ...    ...            ...      ...\n",
       "939       26      F        student    33319\n",
       "940       32      M  administrator    02215\n",
       "941       20      M        student    97229\n",
       "942       48      F      librarian    78209\n",
       "943       22      M        student    77841\n",
       "\n",
       "[943 rows x 4 columns]"
      ],
      "text/html": "<div>\n<style scoped>\n    .dataframe tbody tr th:only-of-type {\n        vertical-align: middle;\n    }\n\n    .dataframe tbody tr th {\n        vertical-align: top;\n    }\n\n    .dataframe thead th {\n        text-align: right;\n    }\n</style>\n<table border=\"1\" class=\"dataframe\">\n  <thead>\n    <tr style=\"text-align: right;\">\n      <th></th>\n      <th>age</th>\n      <th>gender</th>\n      <th>occupation</th>\n      <th>zip_code</th>\n    </tr>\n    <tr>\n      <th>user_id</th>\n      <th></th>\n      <th></th>\n      <th></th>\n      <th></th>\n    </tr>\n  </thead>\n  <tbody>\n    <tr>\n      <th>1</th>\n      <td>24</td>\n      <td>M</td>\n      <td>technician</td>\n      <td>85711</td>\n    </tr>\n    <tr>\n      <th>2</th>\n      <td>53</td>\n      <td>F</td>\n      <td>other</td>\n      <td>94043</td>\n    </tr>\n    <tr>\n      <th>3</th>\n      <td>23</td>\n      <td>M</td>\n      <td>writer</td>\n      <td>32067</td>\n    </tr>\n    <tr>\n      <th>4</th>\n      <td>24</td>\n      <td>M</td>\n      <td>technician</td>\n      <td>43537</td>\n    </tr>\n    <tr>\n      <th>5</th>\n      <td>33</td>\n      <td>F</td>\n      <td>other</td>\n      <td>15213</td>\n    </tr>\n    <tr>\n      <th>...</th>\n      <td>...</td>\n      <td>...</td>\n      <td>...</td>\n      <td>...</td>\n    </tr>\n    <tr>\n      <th>939</th>\n      <td>26</td>\n      <td>F</td>\n      <td>student</td>\n      <td>33319</td>\n    </tr>\n    <tr>\n      <th>940</th>\n      <td>32</td>\n      <td>M</td>\n      <td>administrator</td>\n      <td>02215</td>\n    </tr>\n    <tr>\n      <th>941</th>\n      <td>20</td>\n      <td>M</td>\n      <td>student</td>\n      <td>97229</td>\n    </tr>\n    <tr>\n      <th>942</th>\n      <td>48</td>\n      <td>F</td>\n      <td>librarian</td>\n      <td>78209</td>\n    </tr>\n    <tr>\n      <th>943</th>\n      <td>22</td>\n      <td>M</td>\n      <td>student</td>\n      <td>77841</td>\n    </tr>\n  </tbody>\n</table>\n<p>943 rows × 4 columns</p>\n</div>"
     },
     "metadata": {},
     "execution_count": 3
    }
   ],
   "source": [
    "users = pd.read_table('https://raw.githubusercontent.com/justmarkham/DAT8/master/data/u.user', \n",
    "                      sep='|', index_col='user_id')\n",
    "users"
   ]
  },
  {
   "cell_type": "markdown",
   "metadata": {},
   "source": [
    "### Step 4. Discover what is the mean age per occupation"
   ]
  },
  {
   "cell_type": "code",
   "execution_count": 4,
   "metadata": {},
   "outputs": [
    {
     "output_type": "execute_result",
     "data": {
      "text/plain": [
       "occupation\n",
       "administrator    38.746835\n",
       "artist           31.392857\n",
       "doctor           43.571429\n",
       "educator         42.010526\n",
       "engineer         36.388060\n",
       "entertainment    29.222222\n",
       "executive        38.718750\n",
       "healthcare       41.562500\n",
       "homemaker        32.571429\n",
       "lawyer           36.750000\n",
       "librarian        40.000000\n",
       "marketing        37.615385\n",
       "none             26.555556\n",
       "other            34.523810\n",
       "programmer       33.121212\n",
       "retired          63.071429\n",
       "salesman         35.666667\n",
       "scientist        35.548387\n",
       "student          22.081633\n",
       "technician       33.148148\n",
       "writer           36.311111\n",
       "Name: age, dtype: float64"
      ]
     },
     "metadata": {},
     "execution_count": 4
    }
   ],
   "source": [
    "users.groupby('occupation')['age'].mean()"
   ]
  },
  {
   "cell_type": "markdown",
   "metadata": {},
   "source": [
    "### Step 5. Discover the Male ratio per occupation and sort it from the most to the least"
   ]
  },
  {
   "cell_type": "code",
   "execution_count": 23,
   "metadata": {},
   "outputs": [
    {
     "output_type": "execute_result",
     "data": {
      "text/plain": [
       "gender                 F           M\n",
       "occupation                          \n",
       "administrator  45.569620   54.430380\n",
       "artist         46.428571   53.571429\n",
       "doctor          0.000000  100.000000\n",
       "educator       27.368421   72.631579\n",
       "engineer        2.985075   97.014925\n",
       "entertainment  11.111111   88.888889\n",
       "executive       9.375000   90.625000\n",
       "healthcare     68.750000   31.250000\n",
       "homemaker      85.714286   14.285714\n",
       "lawyer         16.666667   83.333333\n",
       "librarian      56.862745   43.137255\n",
       "marketing      38.461538   61.538462\n",
       "none           44.444444   55.555556\n",
       "other          34.285714   65.714286\n",
       "programmer      9.090909   90.909091\n",
       "retired         7.142857   92.857143\n",
       "salesman       25.000000   75.000000\n",
       "scientist       9.677419   90.322581\n",
       "student        30.612245   69.387755\n",
       "technician      3.703704   96.296296\n",
       "writer         42.222222   57.777778"
      ],
      "text/html": "<div>\n<style scoped>\n    .dataframe tbody tr th:only-of-type {\n        vertical-align: middle;\n    }\n\n    .dataframe tbody tr th {\n        vertical-align: top;\n    }\n\n    .dataframe thead th {\n        text-align: right;\n    }\n</style>\n<table border=\"1\" class=\"dataframe\">\n  <thead>\n    <tr style=\"text-align: right;\">\n      <th>gender</th>\n      <th>F</th>\n      <th>M</th>\n    </tr>\n    <tr>\n      <th>occupation</th>\n      <th></th>\n      <th></th>\n    </tr>\n  </thead>\n  <tbody>\n    <tr>\n      <th>administrator</th>\n      <td>45.569620</td>\n      <td>54.430380</td>\n    </tr>\n    <tr>\n      <th>artist</th>\n      <td>46.428571</td>\n      <td>53.571429</td>\n    </tr>\n    <tr>\n      <th>doctor</th>\n      <td>0.000000</td>\n      <td>100.000000</td>\n    </tr>\n    <tr>\n      <th>educator</th>\n      <td>27.368421</td>\n      <td>72.631579</td>\n    </tr>\n    <tr>\n      <th>engineer</th>\n      <td>2.985075</td>\n      <td>97.014925</td>\n    </tr>\n    <tr>\n      <th>entertainment</th>\n      <td>11.111111</td>\n      <td>88.888889</td>\n    </tr>\n    <tr>\n      <th>executive</th>\n      <td>9.375000</td>\n      <td>90.625000</td>\n    </tr>\n    <tr>\n      <th>healthcare</th>\n      <td>68.750000</td>\n      <td>31.250000</td>\n    </tr>\n    <tr>\n      <th>homemaker</th>\n      <td>85.714286</td>\n      <td>14.285714</td>\n    </tr>\n    <tr>\n      <th>lawyer</th>\n      <td>16.666667</td>\n      <td>83.333333</td>\n    </tr>\n    <tr>\n      <th>librarian</th>\n      <td>56.862745</td>\n      <td>43.137255</td>\n    </tr>\n    <tr>\n      <th>marketing</th>\n      <td>38.461538</td>\n      <td>61.538462</td>\n    </tr>\n    <tr>\n      <th>none</th>\n      <td>44.444444</td>\n      <td>55.555556</td>\n    </tr>\n    <tr>\n      <th>other</th>\n      <td>34.285714</td>\n      <td>65.714286</td>\n    </tr>\n    <tr>\n      <th>programmer</th>\n      <td>9.090909</td>\n      <td>90.909091</td>\n    </tr>\n    <tr>\n      <th>retired</th>\n      <td>7.142857</td>\n      <td>92.857143</td>\n    </tr>\n    <tr>\n      <th>salesman</th>\n      <td>25.000000</td>\n      <td>75.000000</td>\n    </tr>\n    <tr>\n      <th>scientist</th>\n      <td>9.677419</td>\n      <td>90.322581</td>\n    </tr>\n    <tr>\n      <th>student</th>\n      <td>30.612245</td>\n      <td>69.387755</td>\n    </tr>\n    <tr>\n      <th>technician</th>\n      <td>3.703704</td>\n      <td>96.296296</td>\n    </tr>\n    <tr>\n      <th>writer</th>\n      <td>42.222222</td>\n      <td>57.777778</td>\n    </tr>\n  </tbody>\n</table>\n</div>"
     },
     "metadata": {},
     "execution_count": 23
    }
   ],
   "source": [
    "\n",
    " Male_female_ratio = pd.crosstab(index=users['occupation'], columns=users['gender']).apply(lambda r: r/r.sum() *100,axis=1)\n",
    "\n",
    " Male_female_ratio\n",
    "\n",
    "\n",
    "# COMO SELECCIONAR LA COLUMNA DE \"M\" para ordenarla\n",
    "\n",
    "# Male_ratio = Male_female_ratio.sort_values('year')['M']\n",
    "\n",
    "\n",
    "\n"
   ]
  },
  {
   "cell_type": "markdown",
   "metadata": {},
   "source": [
    "### Step 6. For each occupation, calculate the minimum and maximum ages"
   ]
  },
  {
   "cell_type": "code",
   "execution_count": 18,
   "metadata": {
    "jupyter": {
     "outputs_hidden": false
    }
   },
   "outputs": [
    {
     "output_type": "execute_result",
     "data": {
      "text/plain": [
       "               min  max\n",
       "occupation             \n",
       "administrator   21   70\n",
       "artist          19   48\n",
       "doctor          28   64\n",
       "educator        23   63\n",
       "engineer        22   70\n",
       "entertainment   15   50\n",
       "executive       22   69\n",
       "healthcare      22   62\n",
       "homemaker       20   50\n",
       "lawyer          21   53\n",
       "librarian       23   69\n",
       "marketing       24   55\n",
       "none            11   55\n",
       "other           13   64\n",
       "programmer      20   63\n",
       "retired         51   73\n",
       "salesman        18   66\n",
       "scientist       23   55\n",
       "student          7   42\n",
       "technician      21   55\n",
       "writer          18   60"
      ],
      "text/html": "<div>\n<style scoped>\n    .dataframe tbody tr th:only-of-type {\n        vertical-align: middle;\n    }\n\n    .dataframe tbody tr th {\n        vertical-align: top;\n    }\n\n    .dataframe thead th {\n        text-align: right;\n    }\n</style>\n<table border=\"1\" class=\"dataframe\">\n  <thead>\n    <tr style=\"text-align: right;\">\n      <th></th>\n      <th>min</th>\n      <th>max</th>\n    </tr>\n    <tr>\n      <th>occupation</th>\n      <th></th>\n      <th></th>\n    </tr>\n  </thead>\n  <tbody>\n    <tr>\n      <th>administrator</th>\n      <td>21</td>\n      <td>70</td>\n    </tr>\n    <tr>\n      <th>artist</th>\n      <td>19</td>\n      <td>48</td>\n    </tr>\n    <tr>\n      <th>doctor</th>\n      <td>28</td>\n      <td>64</td>\n    </tr>\n    <tr>\n      <th>educator</th>\n      <td>23</td>\n      <td>63</td>\n    </tr>\n    <tr>\n      <th>engineer</th>\n      <td>22</td>\n      <td>70</td>\n    </tr>\n    <tr>\n      <th>entertainment</th>\n      <td>15</td>\n      <td>50</td>\n    </tr>\n    <tr>\n      <th>executive</th>\n      <td>22</td>\n      <td>69</td>\n    </tr>\n    <tr>\n      <th>healthcare</th>\n      <td>22</td>\n      <td>62</td>\n    </tr>\n    <tr>\n      <th>homemaker</th>\n      <td>20</td>\n      <td>50</td>\n    </tr>\n    <tr>\n      <th>lawyer</th>\n      <td>21</td>\n      <td>53</td>\n    </tr>\n    <tr>\n      <th>librarian</th>\n      <td>23</td>\n      <td>69</td>\n    </tr>\n    <tr>\n      <th>marketing</th>\n      <td>24</td>\n      <td>55</td>\n    </tr>\n    <tr>\n      <th>none</th>\n      <td>11</td>\n      <td>55</td>\n    </tr>\n    <tr>\n      <th>other</th>\n      <td>13</td>\n      <td>64</td>\n    </tr>\n    <tr>\n      <th>programmer</th>\n      <td>20</td>\n      <td>63</td>\n    </tr>\n    <tr>\n      <th>retired</th>\n      <td>51</td>\n      <td>73</td>\n    </tr>\n    <tr>\n      <th>salesman</th>\n      <td>18</td>\n      <td>66</td>\n    </tr>\n    <tr>\n      <th>scientist</th>\n      <td>23</td>\n      <td>55</td>\n    </tr>\n    <tr>\n      <th>student</th>\n      <td>7</td>\n      <td>42</td>\n    </tr>\n    <tr>\n      <th>technician</th>\n      <td>21</td>\n      <td>55</td>\n    </tr>\n    <tr>\n      <th>writer</th>\n      <td>18</td>\n      <td>60</td>\n    </tr>\n  </tbody>\n</table>\n</div>"
     },
     "metadata": {},
     "execution_count": 18
    }
   ],
   "source": [
    "users.groupby('occupation')['age'].aggregate(['min', max])\n",
    "\n",
    "\n",
    "\n"
   ]
  },
  {
   "cell_type": "markdown",
   "metadata": {},
   "source": [
    "### Step 7. For each combination of occupation and gender, calculate the mean age"
   ]
  },
  {
   "cell_type": "code",
   "execution_count": 20,
   "metadata": {},
   "outputs": [
    {
     "output_type": "execute_result",
     "data": {
      "text/plain": [
       "                            age\n",
       "                           mean\n",
       "occupation    gender           \n",
       "administrator F       40.638889\n",
       "              M       37.162791\n",
       "artist        F       30.307692\n",
       "              M       32.333333\n",
       "doctor        M       43.571429\n",
       "educator      F       39.115385\n",
       "              M       43.101449\n",
       "engineer      F       29.500000\n",
       "              M       36.600000\n",
       "entertainment F       31.000000\n",
       "              M       29.000000\n",
       "executive     F       44.000000\n",
       "              M       38.172414\n",
       "healthcare    F       39.818182\n",
       "              M       45.400000\n",
       "homemaker     F       34.166667\n",
       "              M       23.000000\n",
       "lawyer        F       39.500000\n",
       "              M       36.200000\n",
       "librarian     F       40.000000\n",
       "              M       40.000000\n",
       "marketing     F       37.200000\n",
       "              M       37.875000\n",
       "none          F       36.500000\n",
       "              M       18.600000\n",
       "other         F       35.472222\n",
       "              M       34.028986\n",
       "programmer    F       32.166667\n",
       "              M       33.216667\n",
       "retired       F       70.000000\n",
       "              M       62.538462\n",
       "salesman      F       27.000000\n",
       "              M       38.555556\n",
       "scientist     F       28.333333\n",
       "              M       36.321429\n",
       "student       F       20.750000\n",
       "              M       22.669118\n",
       "technician    F       38.000000\n",
       "              M       32.961538\n",
       "writer        F       37.631579\n",
       "              M       35.346154"
      ],
      "text/html": "<div>\n<style scoped>\n    .dataframe tbody tr th:only-of-type {\n        vertical-align: middle;\n    }\n\n    .dataframe tbody tr th {\n        vertical-align: top;\n    }\n\n    .dataframe thead tr th {\n        text-align: left;\n    }\n\n    .dataframe thead tr:last-of-type th {\n        text-align: right;\n    }\n</style>\n<table border=\"1\" class=\"dataframe\">\n  <thead>\n    <tr>\n      <th></th>\n      <th></th>\n      <th>age</th>\n    </tr>\n    <tr>\n      <th></th>\n      <th></th>\n      <th>mean</th>\n    </tr>\n    <tr>\n      <th>occupation</th>\n      <th>gender</th>\n      <th></th>\n    </tr>\n  </thead>\n  <tbody>\n    <tr>\n      <th rowspan=\"2\" valign=\"top\">administrator</th>\n      <th>F</th>\n      <td>40.638889</td>\n    </tr>\n    <tr>\n      <th>M</th>\n      <td>37.162791</td>\n    </tr>\n    <tr>\n      <th rowspan=\"2\" valign=\"top\">artist</th>\n      <th>F</th>\n      <td>30.307692</td>\n    </tr>\n    <tr>\n      <th>M</th>\n      <td>32.333333</td>\n    </tr>\n    <tr>\n      <th>doctor</th>\n      <th>M</th>\n      <td>43.571429</td>\n    </tr>\n    <tr>\n      <th rowspan=\"2\" valign=\"top\">educator</th>\n      <th>F</th>\n      <td>39.115385</td>\n    </tr>\n    <tr>\n      <th>M</th>\n      <td>43.101449</td>\n    </tr>\n    <tr>\n      <th rowspan=\"2\" valign=\"top\">engineer</th>\n      <th>F</th>\n      <td>29.500000</td>\n    </tr>\n    <tr>\n      <th>M</th>\n      <td>36.600000</td>\n    </tr>\n    <tr>\n      <th rowspan=\"2\" valign=\"top\">entertainment</th>\n      <th>F</th>\n      <td>31.000000</td>\n    </tr>\n    <tr>\n      <th>M</th>\n      <td>29.000000</td>\n    </tr>\n    <tr>\n      <th rowspan=\"2\" valign=\"top\">executive</th>\n      <th>F</th>\n      <td>44.000000</td>\n    </tr>\n    <tr>\n      <th>M</th>\n      <td>38.172414</td>\n    </tr>\n    <tr>\n      <th rowspan=\"2\" valign=\"top\">healthcare</th>\n      <th>F</th>\n      <td>39.818182</td>\n    </tr>\n    <tr>\n      <th>M</th>\n      <td>45.400000</td>\n    </tr>\n    <tr>\n      <th rowspan=\"2\" valign=\"top\">homemaker</th>\n      <th>F</th>\n      <td>34.166667</td>\n    </tr>\n    <tr>\n      <th>M</th>\n      <td>23.000000</td>\n    </tr>\n    <tr>\n      <th rowspan=\"2\" valign=\"top\">lawyer</th>\n      <th>F</th>\n      <td>39.500000</td>\n    </tr>\n    <tr>\n      <th>M</th>\n      <td>36.200000</td>\n    </tr>\n    <tr>\n      <th rowspan=\"2\" valign=\"top\">librarian</th>\n      <th>F</th>\n      <td>40.000000</td>\n    </tr>\n    <tr>\n      <th>M</th>\n      <td>40.000000</td>\n    </tr>\n    <tr>\n      <th rowspan=\"2\" valign=\"top\">marketing</th>\n      <th>F</th>\n      <td>37.200000</td>\n    </tr>\n    <tr>\n      <th>M</th>\n      <td>37.875000</td>\n    </tr>\n    <tr>\n      <th rowspan=\"2\" valign=\"top\">none</th>\n      <th>F</th>\n      <td>36.500000</td>\n    </tr>\n    <tr>\n      <th>M</th>\n      <td>18.600000</td>\n    </tr>\n    <tr>\n      <th rowspan=\"2\" valign=\"top\">other</th>\n      <th>F</th>\n      <td>35.472222</td>\n    </tr>\n    <tr>\n      <th>M</th>\n      <td>34.028986</td>\n    </tr>\n    <tr>\n      <th rowspan=\"2\" valign=\"top\">programmer</th>\n      <th>F</th>\n      <td>32.166667</td>\n    </tr>\n    <tr>\n      <th>M</th>\n      <td>33.216667</td>\n    </tr>\n    <tr>\n      <th rowspan=\"2\" valign=\"top\">retired</th>\n      <th>F</th>\n      <td>70.000000</td>\n    </tr>\n    <tr>\n      <th>M</th>\n      <td>62.538462</td>\n    </tr>\n    <tr>\n      <th rowspan=\"2\" valign=\"top\">salesman</th>\n      <th>F</th>\n      <td>27.000000</td>\n    </tr>\n    <tr>\n      <th>M</th>\n      <td>38.555556</td>\n    </tr>\n    <tr>\n      <th rowspan=\"2\" valign=\"top\">scientist</th>\n      <th>F</th>\n      <td>28.333333</td>\n    </tr>\n    <tr>\n      <th>M</th>\n      <td>36.321429</td>\n    </tr>\n    <tr>\n      <th rowspan=\"2\" valign=\"top\">student</th>\n      <th>F</th>\n      <td>20.750000</td>\n    </tr>\n    <tr>\n      <th>M</th>\n      <td>22.669118</td>\n    </tr>\n    <tr>\n      <th rowspan=\"2\" valign=\"top\">technician</th>\n      <th>F</th>\n      <td>38.000000</td>\n    </tr>\n    <tr>\n      <th>M</th>\n      <td>32.961538</td>\n    </tr>\n    <tr>\n      <th rowspan=\"2\" valign=\"top\">writer</th>\n      <th>F</th>\n      <td>37.631579</td>\n    </tr>\n    <tr>\n      <th>M</th>\n      <td>35.346154</td>\n    </tr>\n  </tbody>\n</table>\n</div>"
     },
     "metadata": {},
     "execution_count": 20
    }
   ],
   "source": [
    "\n",
    "users.groupby([\"occupation\", \"gender\"])[[\"age\"]].aggregate(['mean'])"
   ]
  },
  {
   "cell_type": "markdown",
   "metadata": {},
   "source": [
    "### Step 8.  For each occupation present the percentage of women and men"
   ]
  },
  {
   "cell_type": "code",
   "execution_count": 21,
   "metadata": {},
   "outputs": [
    {
     "output_type": "execute_result",
     "data": {
      "text/plain": [
       "gender                 F          M\n",
       "occupation                         \n",
       "administrator  13.186813   6.417910\n",
       "artist          4.761905   2.238806\n",
       "doctor          0.000000   1.044776\n",
       "educator        9.523810  10.298507\n",
       "engineer        0.732601   9.701493\n",
       "entertainment   0.732601   2.388060\n",
       "executive       1.098901   4.328358\n",
       "healthcare      4.029304   0.746269\n",
       "homemaker       2.197802   0.149254\n",
       "lawyer          0.732601   1.492537\n",
       "librarian      10.622711   3.283582\n",
       "marketing       3.663004   2.388060\n",
       "none            1.465201   0.746269\n",
       "other          13.186813  10.298507\n",
       "programmer      2.197802   8.955224\n",
       "retired         0.366300   1.940299\n",
       "salesman        1.098901   1.343284\n",
       "scientist       1.098901   4.179104\n",
       "student        21.978022  20.298507\n",
       "technician      0.366300   3.880597\n",
       "writer          6.959707   3.880597"
      ],
      "text/html": "<div>\n<style scoped>\n    .dataframe tbody tr th:only-of-type {\n        vertical-align: middle;\n    }\n\n    .dataframe tbody tr th {\n        vertical-align: top;\n    }\n\n    .dataframe thead th {\n        text-align: right;\n    }\n</style>\n<table border=\"1\" class=\"dataframe\">\n  <thead>\n    <tr style=\"text-align: right;\">\n      <th>gender</th>\n      <th>F</th>\n      <th>M</th>\n    </tr>\n    <tr>\n      <th>occupation</th>\n      <th></th>\n      <th></th>\n    </tr>\n  </thead>\n  <tbody>\n    <tr>\n      <th>administrator</th>\n      <td>13.186813</td>\n      <td>6.417910</td>\n    </tr>\n    <tr>\n      <th>artist</th>\n      <td>4.761905</td>\n      <td>2.238806</td>\n    </tr>\n    <tr>\n      <th>doctor</th>\n      <td>0.000000</td>\n      <td>1.044776</td>\n    </tr>\n    <tr>\n      <th>educator</th>\n      <td>9.523810</td>\n      <td>10.298507</td>\n    </tr>\n    <tr>\n      <th>engineer</th>\n      <td>0.732601</td>\n      <td>9.701493</td>\n    </tr>\n    <tr>\n      <th>entertainment</th>\n      <td>0.732601</td>\n      <td>2.388060</td>\n    </tr>\n    <tr>\n      <th>executive</th>\n      <td>1.098901</td>\n      <td>4.328358</td>\n    </tr>\n    <tr>\n      <th>healthcare</th>\n      <td>4.029304</td>\n      <td>0.746269</td>\n    </tr>\n    <tr>\n      <th>homemaker</th>\n      <td>2.197802</td>\n      <td>0.149254</td>\n    </tr>\n    <tr>\n      <th>lawyer</th>\n      <td>0.732601</td>\n      <td>1.492537</td>\n    </tr>\n    <tr>\n      <th>librarian</th>\n      <td>10.622711</td>\n      <td>3.283582</td>\n    </tr>\n    <tr>\n      <th>marketing</th>\n      <td>3.663004</td>\n      <td>2.388060</td>\n    </tr>\n    <tr>\n      <th>none</th>\n      <td>1.465201</td>\n      <td>0.746269</td>\n    </tr>\n    <tr>\n      <th>other</th>\n      <td>13.186813</td>\n      <td>10.298507</td>\n    </tr>\n    <tr>\n      <th>programmer</th>\n      <td>2.197802</td>\n      <td>8.955224</td>\n    </tr>\n    <tr>\n      <th>retired</th>\n      <td>0.366300</td>\n      <td>1.940299</td>\n    </tr>\n    <tr>\n      <th>salesman</th>\n      <td>1.098901</td>\n      <td>1.343284</td>\n    </tr>\n    <tr>\n      <th>scientist</th>\n      <td>1.098901</td>\n      <td>4.179104</td>\n    </tr>\n    <tr>\n      <th>student</th>\n      <td>21.978022</td>\n      <td>20.298507</td>\n    </tr>\n    <tr>\n      <th>technician</th>\n      <td>0.366300</td>\n      <td>3.880597</td>\n    </tr>\n    <tr>\n      <th>writer</th>\n      <td>6.959707</td>\n      <td>3.880597</td>\n    </tr>\n  </tbody>\n</table>\n</div>"
     },
     "metadata": {},
     "execution_count": 21
    }
   ],
   "source": [
    "Women_Men_percentage= pd.crosstab(index=users['occupation'], columns=users['gender']).apply(lambda r: r/r.sum() *100,axis=0)\n",
    "\n",
    "Women_Men_percentage\n",
    "\n",
    "\n",
    "\n",
    "\n"
   ]
  },
  {
   "cell_type": "code",
   "execution_count": null,
   "metadata": {},
   "outputs": [],
   "source": []
  }
 ],
 "metadata": {
  "kernelspec": {
   "name": "python389jvsc74a57bd07980ba124835d5faa10419b5aaaaec0d5be537aa3d05dd29d745d0092f32015f",
   "display_name": "Python 3.8.9 64-bit"
  },
  "language_info": {
   "codemirror_mode": {
    "name": "ipython",
    "version": 3
   },
   "file_extension": ".py",
   "mimetype": "text/x-python",
   "name": "python",
   "nbconvert_exporter": "python",
   "pygments_lexer": "ipython3",
   "version": "3.8.9"
  },
  "metadata": {
   "interpreter": {
    "hash": "7980ba124835d5faa10419b5aaaaec0d5be537aa3d05dd29d745d0092f32015f"
   }
  }
 },
 "nbformat": 4,
 "nbformat_minor": 4
}